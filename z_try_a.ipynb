{
 "cells": [
  {
   "cell_type": "markdown",
   "metadata": {},
   "source": [
    "# Try A\n",
    "In this trial, we will see whether the transformed Mel-spectrogram can be restored to audio. "
   ]
  },
  {
   "cell_type": "code",
   "execution_count": 7,
   "metadata": {},
   "outputs": [],
   "source": [
    "from paths import *\n",
    "import torch\n",
    "import torchaudio\n",
    "from IPython.display import Audio"
   ]
  },
  {
   "cell_type": "code",
   "execution_count": 8,
   "metadata": {},
   "outputs": [],
   "source": [
    "rec_dir = train_cut_phone_"
   ]
  },
  {
   "cell_type": "code",
   "execution_count": 9,
   "metadata": {},
   "outputs": [],
   "source": [
    "phone_path = os.path.join(rec_dir, '103/1240/0001/103-1240-0001-0133.flac')"
   ]
  },
  {
   "cell_type": "code",
   "execution_count": 10,
   "metadata": {},
   "outputs": [],
   "source": [
    "S_data, sample_rate_S = torchaudio.load(phone_path, normalize=True)"
   ]
  },
  {
   "cell_type": "code",
   "execution_count": 11,
   "metadata": {},
   "outputs": [
    {
     "data": {
      "text/html": [
       "\n",
       "                <audio  controls=\"controls\" >\n",
       "                    <source src=\"data:audio/wav;base64,UklGRqQWAABXQVZFZm10IBAAAAABAAEAgD4AAAB9AAACABAAZGF0YYAWAAD96tEXGwG70bLDydjZAB3zReMt6wTiMPOvBmcNQxfMEYMafSOHIqE+UkNuN5wrDC7eRTBLmT0fO4EqoyLmLu87s0CuLUcFEtxUz0bvrwY/+GfPh6RSoF62ldE/32HLL7VFvZTTfPNaBtkNigUbAdYRkC+oQs5B3C/tJV0nHjB1Os4o+hOnA4n64PjY9uzbccI/xcfaqc8zvOG3wsca0S3RLd6C6jbrjfXFAS0PChjAIkQvmCWZI8kvkTquOTQsMiFOItUfGxvvFZQQ1w/3C3b7o/Ft+poV2BvTCJv7B+vM08rWk+2b+63wxdBvuJC/VM8N46HnmdkezLvRZ+gs+RwAegF+/Yf9sASwEb8jYiHxE48KlARPCKkOPAcg/OrqD+Do4QrndeLh0Lu3IL3r3PjkSdJLwtHMtuQW8OP0sPnE98UBOwk8FBocuR5YIlMceBCOGN0gOyKFGDIItAyBEMcLaQstD9gb+RR+/Bb8khP3Mes0xRsBChTzzt7e7jgAIwPA8HTLsLmrwOrRY+Km4MLUpMo20arowP1hCeYILQK3B2wTMSOCNWkxJSayGzMUPR/5ITsVJwqR/NHzvvMN7/Xpq9q+zdDb7tjLyJXRwOM07RzoW9+D9pwFtwczE3QVLB0IJ1orHjCiJC4nfS9IKgcoWCLKIcAiSxo7FikUpRPsJvckXwvZDJ0eGSpSKZcm6zTdLcn9N91u3ysF6xtnAfjL3LFnw6Llp+zV4GnZTNpa4QTveQLmFFgVGg9SEDAYbSvmO0c4BymGF6IXMiENIE4VugOY8z3u/OyV66HnMdkI0OfVhdoD15XFAssb9uwAHuUs3431ABl1IR0YZhuCHDEjbC05MQwuciWqJSkhyxNZE1MczhtmDlAGugM/BIwOICAmGe/91gRrIbwniR+IIZgkC/53x7zQ/wDCEiT29cKMq8qwIchg5QDnm9ZsyFTQSur5/AELiRMMCbED4Q8yIgkzGSrjGfMQMQpoDGcNBAbO9prj49te2+HdeN8h1Cq8HrLWxprkHuXh0Aa5r8e2/ZIT7wi09LH3GBLaJewmGigzIBIa3BXZGfMcChhmD2cB2fRt+ooE3Qd9/lLrf+6xA/AUOBnpBH/7eQ9eJrw0Ri3eHyoGaNsj0jryKBYYErfWuqDLosTFAuVn6avZB8RewvDWXPdLDRYURAq7AnUHqRo8LTY2eicDFRcH1Ac1EcISnQQ07Ujf692T4ejgetze1AjDg7b90R3zGveX2+LCm+LeE5AWnRHkCgUSrSEHKJkwYyzlI18lYyD4FpYODhL4FvsF9PcO+m8DyAotAzT7nwELCp0dsiiIIGsV1h3DNzJIY0YiN/kIld4M5NAMpC7ODz/FJJ5hsijYJvRS6/zS7MJsyWDmaQumHsQcbhGpDuYVmDEgRy1CyS/GGaYRshvCH6AamQp173/i8ON46+HqDeK41QzLMMBG1a39kfzc5DjcAfL3C20frCPkJDYcuxthLyk71zXdLQokcBqfDoEQ5RYcDaAAl/WX9En3mv0FBT8EWfxJAw4ThyLCK1wpjyT3JAw7ulxtUaAmSvZV24fwqxiYJf33pq1ilza4kddb4DTVh8ulvKLAM+KHCeUWphEjAw4G+xJ3K0lCBTiOGVcK5AujFXMWPAfs9cDkXd1J3srjW+BZ1e/LFMwY1Lzcmdhg5Yv4vfQ36UvcM/ykLcAi/BBiB9QGeBwYH1AgyRU0++j6BfqQ/h7+Eff48VjkuOLE984CBgTu/lz4gQSHFaolvDMiKkcf7SU5MotDCEFHK0oBdMoqyNn0ixCr80yoAYAYlIO3kdau1qLA0rIStnPY1wLxE4cVKgctAj4S9CjbPVk6yiFQE9kMeQ6JEgkMv/7Y6R7ZzNNE2BjgjdyM0dbGisd63ILr+u7T4z3hiu3x+nUUDBVjBpEIBhFQH90htxQmGPUNOQy3B6UGMwfb/8P5jvQo8Q77xAMFBfUBMf6cBcoUQxgNIW8opypbKpoiIC1tRI5LQj/fHoH4O+T543kCCxab7x6zwpU+rZ7Sy+Kz3DjPYMBqy8PssQ/iGskVQQ6UEMQcUTiARF1BiitoGaAZnR6THyse/w3O9pfov+V98Rz0D+1Q4WnZI99w6T3u7PRG+70AzQPS/vH7SQ83KPkhDBUpFHYfLCowJIwbvRnWELkRKxKyDnQIPwR1B68GvQDqApIHcQz+DsQQMBhqFrYVWCKKK+4wfi6kLZU1lkErRCwq1vgm28XpHgrMEs7qLLkXo9C1ndOm4BTZkcr1w5bQUuszB98R4wxjBlYLsB20MVg7lDdfJQoY9hnnIGEiMRbXA3H0eer96iDvQuhJ3sLUI9Jt1AHZ3eOo6qDo0dko2JnyPhLiDX78zuru/r0lFDEfIlYLcQC8DtgaLho+Elf+xvUn87H4ff7U+2nzxOuZ5Wvw5vwfCTcCovIs+FMPRSKCKfwdMRcHHGIuQ0o9Un8tVuaIvOfiIx34IuLpyqQ1k7SoIMk33RnTubpurFy439OZ8roDnQTO96H0mwdAKBQ9DzdpJBYVqxfcIo4llhrLBhv2NO5M59jpSup34HvONsWjy43cV+Vw3ILRYdgZ7PH71vkU8mr+5RZRHkAb7haxHKIjMiKVHGsV0QrxBmIHigRa+qLy7/G47tjpgupZ7wHz/feH/ZUCugSxD1AgnCwYK1QnKS5gPeNLYVXcSCkhguor4YULZCvlFo7aaqU+oSXDut905PjLRLLHtCzStfJ0CNEKnAXXAjUR8SxaRbdHRjq5K2Yo0TA9ORMy1h2ZCXX8lPg1+Wnzdu4E4gbSVNAd2q7iN+oP7J/pLeo/6zb4phEDIYIc+QjZDKQtOzuBNyMpeRtoGQAYix0qIEENpPwA9PT31PvW+PT2mfJ37HzyT/ykCMQPGRFrFQgbOCY3NDQ4Rjk+N9M6OkmCTnBNtjzTCPXcReR5D9AlLPhOsZ2U3KXvy2rkAdrwvQergLuh56MJuw8CCUoC7gqSICc9I09jRcgwTSRbKqk02TIKJEQKlvbc8Ffyx/N463vbOsxbxgHM2Nzj59Ll29hA0RDe3vszFE4WDP1f9DYQojCRLugfiBT7Eq4TEQ/MEdEKDfxq8RfvnewH6hLo/+iT4cTetuTJ8bj72/4vAHgDyQk4Gp8oiioaKI0mwS1tOMRCIkQ1NzMTdORDzQDnKRQsEOfJmouJia2xudMq1WDAMaZioyfANus4AJr9S/WK+coHUCBcNTE9cTPKIV0bTCVlKWAktxRCAGLwn+o+7d/tpuCV0UfIk8erzU/WONxx2zvXwdWY2urq6gO8DiEGzfju/mIUqyTiJxoctgl5AtwJQxjUE6kBdPGm7ZLvHvJ88kbvEuko5HrpEvV6AJwGkgeSBnMK7RivKzEwiSzOKIspVDPWQzZP6UP5IYIDPvki7S33YhQoCXbIh5jdo3vOMuTx1NrB0LVtuoveWAgJDTgAyvynEM8nxTRgPYFDHzuPMXwwBja0MagoJBufDp0Ej/+u/Lz10eYJ22vX0Nqd4JLi3uF53Y/Z3OTm/FgIWQce/1EFixwmMmIuASSxHCckri3ALo8kChhxDLQLaQpsBrb9zvZq8dfrUuvn7i72Fvzv/dH/BwNaBTMUCiUeMK8sHCaBKiQ1QEKcUaVSR0V1IZsH3vrQ9LkFoyJS+M25MpgWsODedePPz8G8b6ttu+jhdgblCRP0mPNXCtIizjVCP0I/vy+PJB8v1jZ5NCUmhxVzCh7/vPY/+H/uwuE01FfL0M6w03TXFNki0x/X4N8H63D20vEh+hINPRNGFDYPGw4eF+gf0CVgF/MDAv4GBGsIOv/R83jrWOMg4iXo2ejS5bjimuRs7hP0nvg3AcsGCQzXDxwZOiM2KWQrBSvLLBo1tT1FO8MqNREU83DQjttUGv4awMpJhfWQfcvm47HRd7rUolikWsjD+akBX+dt4IL3RhNCJTEwVDOYJXMW+SHSL0UuEyViFE8IH/1T9wP8LvYV5TTVMM3r0CDWTdl722TTx87Zz8zgYvCk70/wxvWEAHsMihHJFrcUzBE6F40aVRngEE4JSASfAm8CKP6f9rjulevU7sjyYPJZ7w3vvPW2/cIG2Q2KEYcVShvUIF8lai+PMTw6wUYYRS8yng9a7fXo7hflSG8P9rSDkei7WP0z/NbSv7I/nwa55+47CUv1W9Mu3JUDwSDhKD8qzybVHj0gEjOuOvQ0jCi5HnAbExiUEZIT+gd79Hjr6+ki7Rfu/OwA6BLcYdgD4+TzYvxC9F7o1O40Br4YDx5kEv8NdhPAIUon2yPGGegS3xEDFPMQzw00Bn/7NflR+WP7m/xG+2/3V/FX8sn9BAdJEPQPgw4ZEbEcgSo+N40zwS3yKlA5L0yVThM/1yh7DDjo4uiwKo4/De8ZoBmgPtR79MTeKsiUrQ+hG8Od+XYGF+LE0QvyBRK/IzcoUiooIxIari3NQmo8USvDHqAahhZTD/MQjwqp9TDnwOTA4zXgGt4W43HbG9Bt1M7d6ur254Pck+B08bX/CQ0hBo0A6gOVD6AZCxb0DnsMogoHD+QLfghxAMz5n/az9V32oPUr7errrfAJ9Qj2hPTh9nX8eAN6DTIV0BgTGWcaQia2PJZB2Cf4/inW9OqDND1FuO5fm2CaidV6AIXnmb/8oO2aqsG18h3zcs2TunLaiPweCo8KJA8JDQwJtBhkK2cnICBLGTEXuRKMD7wOtQpP/Dryw+zq6nrpAOhy5lPeZNOi2U7k/uko5c/cLd505J/26AUaA/T2WPCP/5ITkRSzDekEegE7CQYRThVDCzz8zvcW/F4AXQJ+/VL4V/EO7nzz1fp5ArEDYf5/+yj+Ogp7GSkhXBygGd4f5yyXMiQ09DXbPKsk+OQ81qombV4TGOK2WqEg1ooEkvs14Fy4LZ6bvcv7vwk+4PbBXd1SAzIVQhn+GngQmQpiIS8/fTz9KK8fYCRlKfMplSlZIKkN9QFsB5kJVAFI+YL3RPHZ6LLpF+9W81DuvOk17JHwLOxi76oAagmnBEb7Kf0zB8ISqxiGFtAMTAvUEz0gBR+RFBMMqQ7CEtYQZg4tD8AIzQMzB+8IYAp8CvcKHQuPC2oWrSL/JREb3hIVIug4JDX2DMvV7eZQOchJ0v6Zs7K33+zFDjv9Z9yWt3yz5NmlBsL6bNVWzRLokP45DP4OGRHfBUEBJhiKKqskjRrKFPkVOxVXFmgZ8xAHA3f55/tE/mX4YPIy8I3pTeaA4b3nEeoV5ejgauXG6NTuu+p56nXvqvRl+G741vlz/4j8XgAhBskJKAm7AuIBsQPzAwQH1QV5An/7D/kE++j6Sfjh9/L50PSS7+P04gFPB84C7v4YBZcNFBeKHuYhGB6QI/ogQAKT4AD0SDchOK3kQqhYvbfwNAaw7FnJyqQCpWrY/AQE72q+srcC5PMDQgyTBUP/PftGB6omQTOwHukR5BfcIn0iPR8GHSoTgQR6AcsGBwNc9/ruIu2y6UXjFeQg47ve2NyK4OLoeeqK7KzyQ/Nv6qTwjwudEYICEPhPB18YShsxFtMVlg6+CwMUlRyHFd0HBgQBCiYM7wgEB0oBp/jT/fcKSg4PBaAAtAzYGtAZqxjXHIYj/CqyNIw0uxtE8errYCNTW8kirMtpsyriDRTACGrkn8Slr8HJo/3sDOPn9cPL1VIEzhsuGiIR8QbKBxAd4z8IQR0lhxVqIkwy7TH1JiAh5xO8DbsPlBBtBZ74CPb8+ETxLOz/6PLsGezb5YXnKu7s9Nrz5+5f82YCVwl7DEUIHwjrDgwVghxjH0QWwhKRFYMa4xk1EfQOoQutCPAHRwa5BeIBOv8JAIf9av4kAloGawi0C9cP8RP4FuEbTiLAIgcohjB9Imf1Zd/QGMRPaiOy0E6x/t0EB9cCh+SfwxOoNLv58IgHGt4kt1HHvPWqDNwJlgHz+Jf1Jwv6LEQwQxd1B7MN8x24H0AcThW6A976ff7NAzT7zetL6C3qmObE3jjcW9+B3zXfzOBZ4vjlKu5f88/17/EJ9bTzJ/NKAlwQagl69U/vggK7D5MFbPsI9kH2BvgM/c8AlfdS7JLvxPdu+VT24Pha+oz2gfjgA0wLvwncCfQPdRQAGTMgICBRHr0ZkhPA/ULnxgDqNdAZ4s/NrEDRHADL+x/X5b6TrnvBlOyeA8vi6Lthy9380xQwCx/9o/7MBZsTUSt0LnAa9wt1FNsjHST1GmkX4g1BAQAArQgmDPD8zO2L66btdPBX8crvSeuq6IDtCfTz+In6Zfg++RTzafN/BpkXVA4AAIn6gg83G5oViRLKB9QGxwyRFeUW2woQA5oIJwq0CycKAwg/AxoDsAQnC9MIkgeEDNYQbw/OD8cY5iHuI7ggRx/rJ9UrLxla+t/5yCPpQ7kSptQQxZHw+RVXCSfmO8uVxTThzwEhBoTo6NSO578JtRdQE9IJkwXkClIdvy8bJwwVZRAlGhMldCLQGCESdAgNB00KyApSA7r4zvec+qj3X/Mn8r7z+PGm7SLtNex17wb5+/qH8drmWe/iAQIJ/wCU+Fv5PwS0C0APQQ3mCNwIUw92Ey4OkQjBBxQKFAtECrgGeQK+/yUAxgC//gkADQcMCD8DuwJUDeYVexitFZkXLQ+R8ILe+AkNOsgjIdSHsdDaogpiCBrqMcxAt5/D0vF6Da/tar7HwUTxqA8JDN77ofQp8BX+QRqEJkkPp/jl/q4UABnNEDMHlgFa+gT7HACi/xD4yfHn7lrtJehB6czt6+kF4Orex+eS7iXpA+PS5TfqWe/19VT1A/A17NHzJAL6BhADGfmw+cUBhwlXCowC+f3GALEDpwPPAPj+PPwF+g/5fvya/en5wvpUAcMEBQUHAisFJA+2Fo4YthWIFL4YFxNi/BjtnAakLnoazt5Qu+re1AeABTrm5cvawNnPHvI+BW7sRMu60jb4TAtPCNv+H/3J/icK8xwWITMUowkZEf4b/xl+FZEUlBFECisFPAgfCSIFv/7l/mb37/HH8yj+5v2h8yLspe5E8Y/yKvsHA6T8IO9s7oQAeg18CzQGwwQsBHQJmRY/HUYTRgcwC3MWZhuFGFAT2A7HC+wMmxR8F/IRAQvICpUPqxfiGpgY7xWuFDkYOyJ4KX0iegGv4Zz6ZTYuQOX+v7+qznABfRYpCCHu2c9ww5rkDRRkEffmFtel7q8FXg0FEt0U8AcSAIQMpR+tIe0YCRlWGOINOgp1FCEfHhdaBfn8Dfx9/mIHrAm9AInu0uWP8w8EzgKX9Frtt+9U9vn9/gFO/dvyIu2x95wGAgnJ/qn2jPb5/BADpwQMCIb/svZKAVIEq/83AkcFEgFq/h7/DwTUB0cG/gGzAKcE3QdXCnwLTAz3C+wMbRKaFQAYJhlwGuQLguvn4qwJHTGVHE3ZPbsvzsnxggOR/BzbaLVUtoDgav7u8u7YKdZi46/t//Rz/wcDtf9N/+oDSQOyAQoLABi2FisFp/iu/LcIIxCODJcA0vE17Iv4SARW/5zuCuZw6UPzX/RY8A7uXepK6TTupO9J67rrAPT8+KPxU+o07RH2Av43AqL/Sfhp8zP8KQgwC2UEEQI/A24EsQNQBocIMQrbCjIJZgJD/4kGdhLLE9wJ1wK5BYIPPBQrEtYRLBG/Ctb5zexG/AwVSxnXAnrpsN9145rwyP8lAdzwd+A=\" type=\"audio/wav\" />\n",
       "                    Your browser does not support the audio element.\n",
       "                </audio>\n",
       "              "
      ],
      "text/plain": [
       "<IPython.lib.display.Audio object>"
      ]
     },
     "execution_count": 11,
     "metadata": {},
     "output_type": "execute_result"
    }
   ],
   "source": [
    "Audio(S_data.numpy()[0], rate=sample_rate_S)"
   ]
  }
 ],
 "metadata": {
  "kernelspec": {
   "display_name": "wavln",
   "language": "python",
   "name": "python3"
  },
  "language_info": {
   "codemirror_mode": {
    "name": "ipython",
    "version": 3
   },
   "file_extension": ".py",
   "mimetype": "text/x-python",
   "name": "python",
   "nbconvert_exporter": "python",
   "pygments_lexer": "ipython3",
   "version": "3.11.7"
  }
 },
 "nbformat": 4,
 "nbformat_minor": 2
}
