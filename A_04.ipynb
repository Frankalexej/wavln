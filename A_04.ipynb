{
 "cells": [
  {
   "cell_type": "markdown",
   "metadata": {},
   "source": [
    "# New Run\n",
    "A_01: Copy from SL_D_E_4.ipynb. Fixed the problem as we have found in normalization. This time we normalize over the whole course. "
   ]
  },
  {
   "attachments": {},
   "cell_type": "markdown",
   "metadata": {
    "id": "B-mljeGlqMqo"
   },
   "source": [
    "# Sequence Learning - Direct - English\n",
    "Version 1: In this version we make the model \"simple\": make the encoder RNN into normal RNN first and try to see the result.  \n",
    "Version 2: Learning is not very much. Following Dr Coupe's advice we try simpler model structure.   \n",
    "Version 3: A simple trial training with Mel spectrogram instead of MFCC.   \n",
    "Version 4: try to enlarge the hidden dimensions so that we might still make sense of the hidden representation. "
   ]
  },
  {
   "cell_type": "code",
   "execution_count": 1,
   "metadata": {
    "id": "jN5DNuExjwet"
   },
   "outputs": [],
   "source": [
    "import torch\n",
    "import torchaudio\n",
    "from torch import nn\n",
    "import torch.nn.functional as F\n",
    "from torch.nn.utils.rnn import pad_sequence, pack_sequence\n",
    "from torch import optim\n",
    "from torch.utils.data import Dataset, DataLoader, random_split\n",
    "import matplotlib.pyplot as plt\n",
    "import numpy as np\n",
    "import pandas as pd\n",
    "import pickle\n",
    "from datetime import datetime\n",
    "import random"
   ]
  },
  {
   "cell_type": "code",
   "execution_count": 2,
   "metadata": {},
   "outputs": [],
   "source": [
    "from model import PhxLearner, SimplerPhxLearner\n",
    "from my_dataset import DS_Tools\n",
    "from dataset import SeqDataset, MelTransform, Normalizer, DeNormalizer, MelSpecTransformNew\n",
    "from paths import *\n",
    "from my_utils import *\n",
    "from recorder import *\n",
    "from loss import *\n",
    "from padding import generate_mask_from_lengths_mat, mask_it"
   ]
  },
  {
   "attachments": {},
   "cell_type": "markdown",
   "metadata": {
    "tags": []
   },
   "source": [
    "### Dirs"
   ]
  },
  {
   "cell_type": "code",
   "execution_count": 3,
   "metadata": {
    "id": "iGouCDYD3h18"
   },
   "outputs": [],
   "source": [
    "model_save_dir = model_eng_save_dir\n",
    "# random_data:phone_seg_random_path\n",
    "# anno_data: phone_seg_anno_path\n",
    "\n",
    "# random_log_path = phone_seg_random_log_path + \"log.csv\"\n",
    "random_log_path = word_seg_anno_log_path\n",
    "random_path = word_seg_anno_path\n",
    "anno_log_path = phone_seg_anno_path"
   ]
  },
  {
   "attachments": {},
   "cell_type": "markdown",
   "metadata": {},
   "source": [
    "### Constants"
   ]
  },
  {
   "cell_type": "code",
   "execution_count": 4,
   "metadata": {},
   "outputs": [],
   "source": [
    "BATCH_SIZE = 128\n",
    "\n",
    "INPUT_DIM = 64\n",
    "OUTPUT_DIM = 64 \n",
    "\n",
    "INTER_DIM_0 = 32\n",
    "INTER_DIM_1 = 16\n",
    "INTER_DIM_2 = 8\n",
    "\n",
    "ENC_SIZE_LIST = [INPUT_DIM, INTER_DIM_0, INTER_DIM_1, INTER_DIM_2]\n",
    "DEC_SIZE_LIST = [OUTPUT_DIM, INTER_DIM_0, INTER_DIM_1, INTER_DIM_2]\n",
    "\n",
    "DROPOUT = 0.5\n",
    "\n",
    "REC_SAMPLE_RATE = 16000\n",
    "N_FFT = 400\n",
    "N_MELS = 64\n",
    "\n",
    "LOADER_WORKER = 16\n",
    "# LOADER_WORKER = 0"
   ]
  },
  {
   "cell_type": "code",
   "execution_count": 5,
   "metadata": {
    "id": "lUxoYBUg1jLq"
   },
   "outputs": [],
   "source": [
    "device = torch.device('cuda' if torch.cuda.is_available() else 'cpu')\n",
    "recon_loss = nn.MSELoss(reduction='none')\n",
    "masked_recon_loss = MaskedLoss(recon_loss)\n",
    "model_loss = masked_recon_loss\n",
    "\n",
    "model = SimplerPhxLearner(enc_size_list=ENC_SIZE_LIST, dec_size_list=DEC_SIZE_LIST, num_layers=2)\n",
    "model.to(device)\n",
    "optimizer = optim.Adam(model.parameters(), lr=1e-3)"
   ]
  },
  {
   "cell_type": "code",
   "execution_count": 6,
   "metadata": {},
   "outputs": [],
   "source": [
    "# # initialize model weights\n",
    "# def init_weights(m):\n",
    "#     if isinstance(m, nn.Linear):\n",
    "#         torch.nn.init.orthogonal_(m.weight)\n",
    "#         m.bias.data.fill_(0.01)\n",
    "#     if isinstance(m, nn.LSTM): \n",
    "#         for name, p in m.named_parameters():\n",
    "#             if \"weight\" in name: \n",
    "#                 nn.init.orthogonal_(p)\n",
    "#             elif \"bias\" in name: \n",
    "#                 nn.init.constant_(p, 0)\n",
    "\n",
    "# model.apply(init_weights)"
   ]
  },
  {
   "cell_type": "code",
   "execution_count": 7,
   "metadata": {},
   "outputs": [],
   "source": [
    "model_parameters = filter(lambda p: p.requires_grad, model.parameters())\n",
    "params = sum([np.prod(p.size()) for p in model_parameters])"
   ]
  },
  {
   "cell_type": "code",
   "execution_count": 8,
   "metadata": {},
   "outputs": [
    {
     "data": {
      "text/plain": [
       "11440"
      ]
     },
     "execution_count": 8,
     "metadata": {},
     "output_type": "execute_result"
    }
   ],
   "source": [
    "params"
   ]
  },
  {
   "cell_type": "code",
   "execution_count": 9,
   "metadata": {
    "id": "ofsEE6OaoyPh"
   },
   "outputs": [],
   "source": [
    "# Just for keeping records of training hists. \n",
    "# ts = \"0918192113\"\n",
    "stop_epoch = \"149\"\n",
    "ts = str(get_timestamp())\n",
    "save_txt_name = \"train_txt_{}.hst\".format(ts)\n",
    "save_trainhist_name = \"train_hist_{}.hst\".format(ts)\n",
    "\n",
    "save_valhist_name = \"val_hist_{}.hst\".format(ts)"
   ]
  },
  {
   "cell_type": "code",
   "execution_count": 10,
   "metadata": {
    "id": "xUHYarigvT64"
   },
   "outputs": [],
   "source": [
    "train_losses = LossRecorder(model_save_dir + save_trainhist_name)\n",
    "\n",
    "valid_losses = LossRecorder(model_save_dir + save_valhist_name)\n",
    "\n",
    "text_hist = HistRecorder(model_save_dir + save_txt_name)"
   ]
  },
  {
   "cell_type": "code",
   "execution_count": 11,
   "metadata": {
    "id": "-T4OYaoXsxe_"
   },
   "outputs": [],
   "source": [
    "READ = False\n",
    "# READ = True"
   ]
  },
  {
   "cell_type": "code",
   "execution_count": 12,
   "metadata": {
    "id": "nVvnpUk5sWxb"
   },
   "outputs": [],
   "source": [
    "if READ: \n",
    "    valid_losses.read()\n",
    "    train_losses.read()\n",
    "\n",
    "    model_raw_name = \"PT_{}_{}_full\".format(ts, stop_epoch)\n",
    "    model_name = model_raw_name + \".pt\"\n",
    "    model_path = os.path.join(model_save_dir, model_name)\n",
    "    state = torch.load(model_path)\n",
    "\n",
    "    model.load_state_dict(state)\n",
    "    model.to(device)"
   ]
  },
  {
   "cell_type": "code",
   "execution_count": 13,
   "metadata": {},
   "outputs": [
    {
     "data": {
      "text/plain": [
       "SimplerPhxLearner(\n",
       "  (encoder): RLEncoder(\n",
       "    (rnn): LSTM(64, 16, num_layers=2, batch_first=True)\n",
       "    (lin_2): LinearPack(\n",
       "      (linear): Linear(in_features=16, out_features=8, bias=True)\n",
       "      (layernorm): LayerNorm((8,), eps=1e-05, elementwise_affine=True)\n",
       "      (relu): ReLU()\n",
       "      (dropout): Dropout(p=0.5, inplace=False)\n",
       "    )\n",
       "  )\n",
       "  (decoder): RALDecoder(\n",
       "    (rnn): LSTM(64, 8, num_layers=2, batch_first=True)\n",
       "    (attention): ScaledDotProductAttention(\n",
       "      (w_q): Linear(in_features=8, out_features=8, bias=True)\n",
       "      (w_k): Linear(in_features=8, out_features=8, bias=True)\n",
       "      (w_v): Linear(in_features=8, out_features=8, bias=True)\n",
       "    )\n",
       "    (lin_3): LinearPack(\n",
       "      (linear): Linear(in_features=8, out_features=64, bias=True)\n",
       "      (layernorm): LayerNorm((64,), eps=1e-05, elementwise_affine=True)\n",
       "      (relu): ReLU()\n",
       "      (dropout): Dropout(p=0.5, inplace=False)\n",
       "    )\n",
       "  )\n",
       ")"
      ]
     },
     "execution_count": 13,
     "metadata": {},
     "output_type": "execute_result"
    }
   ],
   "source": [
    "model"
   ]
  },
  {
   "cell_type": "code",
   "execution_count": 45,
   "metadata": {
    "id": "6OCx4nqP40fz"
   },
   "outputs": [],
   "source": [
    "# mytrans = MelSpecTransform(sample_rate=REC_SAMPLE_RATE, n_fft=N_FFT, n_mels=N_MELS)\n",
    "# mytrans = nn.Sequential(\n",
    "#     MelTransform(sample_rate=REC_SAMPLE_RATE, n_fft=N_FFT, n_mels=N_MELS),\n",
    "#     # torchaudio.transforms.AmplitudeToDB(stype=\"power\", top_db=80), \n",
    "#     Normalizer(Normalizer.norm_strip_minmax)\n",
    "# )\n",
    "mytrans = MelSpecTransformNew(sample_rate=REC_SAMPLE_RATE, n_fft=N_FFT, n_mels=N_MELS, normalizer=Normalizer.norm_strip_mvn, denormalizer=DeNormalizer.norm_strip_mvn)\n",
    "ds = SeqDataset(random_path, os.path.join(random_log_path, \"log.csv\"), transform=mytrans)\n",
    "\n",
    "test = False\n",
    "if test: \n",
    "    use_len = int(0.1 * len(ds))\n",
    "    remain_len = len(ds) - use_len\n",
    "\n",
    "    # Randomly split the dataset into train and validation sets\n",
    "    ds, remain_ds = random_split(ds, [use_len, remain_len])\n",
    "\n",
    "\n",
    "if READ: \n",
    "    valid_ds_indices = DS_Tools.read_indices(os.path.join(model_save_dir, \"valid_ds_{}.pkl\".format(ts)))\n",
    "    all_indices = list(range(len(ds)))\n",
    "    train_ds_indices = list(set(all_indices).difference(set(valid_ds_indices)))\n",
    "\n",
    "    train_ds = torch.utils.data.Subset(ds, train_ds_indices)\n",
    "    valid_ds = torch.utils.data.Subset(ds, valid_ds_indices)\n",
    "else: \n",
    "    train_len = int(0.8 * len(ds))\n",
    "    valid_len = len(ds) - train_len\n",
    "\n",
    "    # Randomly split the dataset into train and validation sets\n",
    "    train_ds, valid_ds = random_split(ds, [train_len, valid_len])\n",
    "    DS_Tools.save_indices(os.path.join(model_save_dir, \"valid_ds_{}.pkl\".format(ts)), valid_ds.indices)\n",
    "\n",
    "train_loader = DataLoader(train_ds, batch_size=BATCH_SIZE, shuffle=True, num_workers=LOADER_WORKER, collate_fn=SeqDataset.collate_fn)\n",
    "train_num = len(train_loader.dataset)\n",
    "\n",
    "valid_loader = DataLoader(valid_ds, batch_size=BATCH_SIZE, shuffle=False, num_workers=LOADER_WORKER, collate_fn=SeqDataset.collate_fn)\n",
    "valid_num = len(valid_loader.dataset)\n"
   ]
  },
  {
   "cell_type": "code",
   "execution_count": 46,
   "metadata": {},
   "outputs": [
    {
     "data": {
      "text/plain": [
       "1776"
      ]
     },
     "execution_count": 46,
     "metadata": {},
     "output_type": "execute_result"
    }
   ],
   "source": [
    "len(train_loader)"
   ]
  },
  {
   "cell_type": "code",
   "execution_count": 47,
   "metadata": {},
   "outputs": [
    {
     "name": "stdout",
     "output_type": "stream",
     "text": [
      "torch.Size([128, 69, 64])\n"
     ]
    }
   ],
   "source": [
    "# Load sample data from train_loader\n",
    "sample_data = next(iter(valid_loader))\n",
    "xx_pad, seg = sample_data\n",
    "print(xx_pad.shape)"
   ]
  },
  {
   "cell_type": "code",
   "execution_count": 48,
   "metadata": {},
   "outputs": [
    {
     "data": {
      "image/png": "[encoded data removed]",
      "text/plain": [
       "<Figure size 1200x800 with 7 Axes>"
      ]
     },
     "metadata": {},
     "output_type": "display_data"
    }
   ],
   "source": [
    "# Set the random seed for reproducibility\n",
    "# random.seed(101)\n",
    "# Generate six random indices\n",
    "random_indices = random.sample(range(len(xx_pad)), 6)\n",
    "# random_indices = list(range(6, 12))\n",
    "\n",
    "# Plot the spectrograms and mark the corresponding seg\n",
    "fig, axes = plt.subplots(2, 3, figsize=(12, 8))\n",
    "axes = axes.flatten()\n",
    "\n",
    "for i, idx in enumerate(random_indices):\n",
    "    spectrogram = xx_pad[idx]\n",
    "    \n",
    "    ax = axes[i]\n",
    "    img = ax.imshow(spectrogram.T, aspect='auto', origin=\"lower\")\n",
    "    # ax.axvline(x=segment, color='red', linestyle='--')\n",
    "    # ax.axvline(x=segment[1], color='red', linestyle='--')\n",
    "    ax.set_title(f'Spectrogram')\n",
    "    ax.set_xlabel('Time')\n",
    "    ax.set_ylabel('Frequency')\n",
    "plt.tight_layout()\n",
    "plt.colorbar(img,ax=axes)\n",
    "plt.show()"
   ]
  },
  {
   "cell_type": "code",
   "execution_count": 49,
   "metadata": {},
   "outputs": [
    {
     "data": {
      "text/plain": [
       "'0121210031'"
      ]
     },
     "execution_count": 49,
     "metadata": {},
     "output_type": "execute_result"
    }
   ],
   "source": [
    "ts"
   ]
  },
  {
   "cell_type": "code",
   "execution_count": 51,
   "metadata": {},
   "outputs": [],
   "source": [
    "EPOCHS = 50\n",
    "BASE = 0"
   ]
  },
  {
   "cell_type": "code",
   "execution_count": 52,
   "metadata": {
    "colab": {
     "base_uri": "https://localhost:8080/"
    },
    "id": "y2n7doAD1uRi",
    "outputId": "e9c5bcb7-72db-4238-e83f-36e4dbe35748"
   },
   "outputs": [],
   "source": [
    "def train(): \n",
    "    for epoch in range(BASE, BASE + EPOCHS):\n",
    "        text_hist.print(\"Epoch {}\".format(epoch))\n",
    "\n",
    "        model.train()\n",
    "        train_loss = 0.\n",
    "        train_num = len(train_loader)    # train_loader\n",
    "        for idx, (x, x_lens) in enumerate(train_loader):\n",
    "            optimizer.zero_grad()\n",
    "            y = x \n",
    "            \n",
    "            x_mask = generate_mask_from_lengths_mat(x_lens, device=device)\n",
    "            \n",
    "            x = x.to(device)\n",
    "            y = y.to(device)\n",
    "\n",
    "            recon_x, attn_weight = model(x, x_lens, x_mask)\n",
    "\n",
    "            loss = model_loss.get_loss(recon_x, y, x_mask)\n",
    "\n",
    "            train_loss += loss.item()\n",
    "\n",
    "            loss.backward()\n",
    "            \n",
    "            # torch.nn.utils.clip_grad_norm_(model.parameters(), clip_value)\n",
    "            # 这个函数计算的是全局梯度范数\n",
    "            # torch.nn.utils.clip_grad_norm(parameters=model.parameters(), max_norm=5, norm_type=2)\n",
    "            torch.nn.utils.clip_grad_norm_(parameters=model.parameters(), max_norm=5, norm_type=2)\n",
    "            # parameters: an iterable of Variables that will have gradients normalized\n",
    "            # max_norm: max norm of the gradients(阈值设定)\n",
    "            # norm_type: type of the used p-norm. Can be'inf'for infinity norm(定义范数类型)\n",
    "\n",
    "            optimizer.step()\n",
    "\n",
    "            if idx % 100 == 0:\n",
    "                text_hist.print(f\"Training loss {loss: .3f} in Step {idx}\")\n",
    "\n",
    "        train_losses.append(train_loss / train_num)\n",
    "        text_hist.print(f\"※※※Training loss {train_loss / train_num: .3f}※※※\")\n",
    "\n",
    "        last_model_name = \"PT_{}_{}_full.pt\".format(ts, epoch)\n",
    "        torch.save(model.state_dict(), os.path.join(model_save_dir, last_model_name))\n",
    "        text_hist.print(\"Training timepoint saved\")\n",
    "\n",
    "        model.eval()\n",
    "        valid_loss = 0.\n",
    "        valid_num = len(valid_loader)\n",
    "        for idx, (x, x_lens) in enumerate(valid_loader):\n",
    "            y = x    # extract MFCC-only data\n",
    "            x_mask = generate_mask_from_lengths_mat(x_lens, device=device)\n",
    "            \n",
    "            x = x.to(device)\n",
    "            y = y.to(device)\n",
    "\n",
    "            recon_x, attn_weight = model(x, x_lens, x_mask)\n",
    "\n",
    "            loss = model_loss.get_loss(recon_x, y, x_mask)\n",
    "\n",
    "            valid_loss += loss.item()\n",
    "\n",
    "            if idx % 10 == 0:\n",
    "                text_hist.print(f\"Valid loss {loss: .3f} in Step {idx}\")\n",
    "\n",
    "        valid_losses.append(valid_loss / valid_num)\n",
    "\n",
    "        text_hist.print(f\"※※※Valid loss {valid_loss / valid_num: .3f}※※※\")"
   ]
  },
  {
   "cell_type": "code",
   "execution_count": 53,
   "metadata": {},
   "outputs": [
    {
     "name": "stdout",
     "output_type": "stream",
     "text": [
      "Epoch 0\n",
      "Training loss  0.158 in Step 0\n",
      "Training loss  0.044 in Step 100\n",
      "Training loss  0.036 in Step 200\n",
      "Training loss  0.035 in Step 300\n",
      "Training loss  0.035 in Step 400\n",
      "Training loss  0.034 in Step 500\n",
      "Training loss  0.034 in Step 600\n",
      "Training loss  0.034 in Step 700\n",
      "Training loss  0.034 in Step 800\n",
      "Training loss  0.034 in Step 900\n",
      "Training loss  0.034 in Step 1000\n",
      "Training loss  0.033 in Step 1100\n",
      "Training loss  0.033 in Step 1200\n",
      "Training loss  0.033 in Step 1300\n",
      "Training loss  0.033 in Step 1400\n",
      "Training loss  0.034 in Step 1500\n",
      "Training loss  0.031 in Step 1600\n",
      "Training loss  0.034 in Step 1700\n",
      "※※※Training loss  0.037※※※\n",
      "Training timepoint saved\n",
      "Valid loss  0.028 in Step 0\n",
      "Valid loss  0.028 in Step 10\n",
      "Valid loss  0.028 in Step 20\n",
      "Valid loss  0.028 in Step 30\n",
      "Valid loss  0.027 in Step 40\n",
      "Valid loss  0.029 in Step 50\n",
      "Valid loss  0.027 in Step 60\n",
      "Valid loss  0.028 in Step 70\n",
      "Valid loss  0.028 in Step 80\n",
      "Valid loss  0.028 in Step 90\n",
      "Valid loss  0.029 in Step 100\n",
      "Valid loss  0.028 in Step 110\n",
      "Valid loss  0.029 in Step 120\n",
      "Valid loss  0.027 in Step 130\n",
      "Valid loss  0.029 in Step 140\n",
      "Valid loss  0.028 in Step 150\n",
      "Valid loss  0.029 in Step 160\n",
      "Valid loss  0.028 in Step 170\n",
      "Valid loss  0.029 in Step 180\n",
      "Valid loss  0.029 in Step 190\n",
      "Valid loss  0.028 in Step 200\n",
      "Valid loss  0.030 in Step 210\n",
      "Valid loss  0.027 in Step 220\n",
      "Valid loss  0.028 in Step 230\n",
      "Valid loss  0.028 in Step 240\n",
      "Valid loss  0.028 in Step 250\n",
      "Valid loss  0.028 in Step 260\n",
      "Valid loss  0.028 in Step 270\n",
      "Valid loss  0.029 in Step 280\n",
      "Valid loss  0.028 in Step 290\n",
      "Valid loss  0.029 in Step 300\n",
      "Valid loss  0.029 in Step 310\n",
      "Valid loss  0.028 in Step 320\n",
      "Valid loss  0.029 in Step 330\n",
      "Valid loss  0.029 in Step 340\n",
      "Valid loss  0.028 in Step 350\n",
      "Valid loss  0.027 in Step 360\n",
      "Valid loss  0.028 in Step 370\n",
      "Valid loss  0.028 in Step 380\n",
      "Valid loss  0.029 in Step 390\n",
      "Valid loss  0.027 in Step 400\n",
      "Valid loss  0.028 in Step 410\n",
      "Valid loss  0.028 in Step 420\n",
      "Valid loss  0.029 in Step 430\n",
      "Valid loss  0.028 in Step 440\n",
      "※※※Valid loss  0.028※※※\n",
      "Epoch 1\n",
      "Training loss  0.033 in Step 0\n",
      "Training loss  0.033 in Step 100\n",
      "Training loss  0.033 in Step 200\n",
      "Training loss  0.032 in Step 300\n",
      "Training loss  0.033 in Step 400\n",
      "Training loss  0.032 in Step 500\n",
      "Training loss  0.032 in Step 600\n",
      "Training loss  0.033 in Step 700\n",
      "Training loss  0.032 in Step 800\n",
      "Training loss  0.032 in Step 900\n",
      "Training loss  0.032 in Step 1000\n",
      "Training loss  0.032 in Step 1100\n",
      "Training loss  0.031 in Step 1200\n",
      "Training loss  0.032 in Step 1300\n",
      "Training loss  0.032 in Step 1400\n",
      "Training loss  0.031 in Step 1500\n",
      "Training loss  0.031 in Step 1600\n",
      "Training loss  0.031 in Step 1700\n",
      "※※※Training loss  0.032※※※\n",
      "Training timepoint saved\n",
      "Valid loss  0.026 in Step 0\n",
      "Valid loss  0.026 in Step 10\n",
      "Valid loss  0.027 in Step 20\n",
      "Valid loss  0.026 in Step 30\n",
      "Valid loss  0.025 in Step 40\n",
      "Valid loss  0.027 in Step 50\n",
      "Valid loss  0.025 in Step 60\n",
      "Valid loss  0.026 in Step 70\n",
      "Valid loss  0.026 in Step 80\n",
      "Valid loss  0.027 in Step 90\n",
      "Valid loss  0.027 in Step 100\n",
      "Valid loss  0.027 in Step 110\n",
      "Valid loss  0.027 in Step 120\n",
      "Valid loss  0.025 in Step 130\n",
      "Valid loss  0.027 in Step 140\n",
      "Valid loss  0.026 in Step 150\n",
      "Valid loss  0.027 in Step 160\n",
      "Valid loss  0.027 in Step 170\n",
      "Valid loss  0.027 in Step 180\n",
      "Valid loss  0.027 in Step 190\n",
      "Valid loss  0.026 in Step 200\n",
      "Valid loss  0.028 in Step 210\n",
      "Valid loss  0.026 in Step 220\n",
      "Valid loss  0.026 in Step 230\n",
      "Valid loss  0.026 in Step 240\n",
      "Valid loss  0.026 in Step 250\n",
      "Valid loss  0.026 in Step 260\n",
      "Valid loss  0.027 in Step 270\n",
      "Valid loss  0.027 in Step 280\n",
      "Valid loss  0.026 in Step 290\n",
      "Valid loss  0.027 in Step 300\n",
      "Valid loss  0.028 in Step 310\n",
      "Valid loss  0.027 in Step 320\n",
      "Valid loss  0.027 in Step 330\n",
      "Valid loss  0.027 in Step 340\n",
      "Valid loss  0.026 in Step 350\n",
      "Valid loss  0.025 in Step 360\n",
      "Valid loss  0.026 in Step 370\n",
      "Valid loss  0.027 in Step 380\n",
      "Valid loss  0.027 in Step 390\n",
      "Valid loss  0.026 in Step 400\n",
      "Valid loss  0.026 in Step 410\n",
      "Valid loss  0.026 in Step 420\n",
      "Valid loss  0.027 in Step 430\n",
      "Valid loss  0.026 in Step 440\n",
      "※※※Valid loss  0.026※※※\n",
      "Epoch 2\n",
      "Training loss  0.031 in Step 0\n",
      "Training loss  0.030 in Step 100\n",
      "Training loss  0.031 in Step 200\n",
      "Training loss  0.031 in Step 300\n",
      "Training loss  0.032 in Step 400\n",
      "Training loss  0.032 in Step 500\n",
      "Training loss  0.031 in Step 600\n",
      "Training loss  0.031 in Step 700\n",
      "Training loss  0.031 in Step 800\n",
      "Training loss  0.031 in Step 900\n",
      "Training loss  0.031 in Step 1000\n",
      "Training loss  0.030 in Step 1100\n",
      "Training loss  0.032 in Step 1200\n",
      "Training loss  0.030 in Step 1300\n",
      "Training loss  0.030 in Step 1400\n",
      "Training loss  0.031 in Step 1500\n",
      "Training loss  0.031 in Step 1600\n",
      "Training loss  0.031 in Step 1700\n",
      "※※※Training loss  0.031※※※\n",
      "Training timepoint saved\n",
      "Valid loss  0.025 in Step 0\n",
      "Valid loss  0.026 in Step 10\n",
      "Valid loss  0.026 in Step 20\n",
      "Valid loss  0.025 in Step 30\n",
      "Valid loss  0.025 in Step 40\n",
      "Valid loss  0.027 in Step 50\n",
      "Valid loss  0.025 in Step 60\n",
      "Valid loss  0.026 in Step 70\n",
      "Valid loss  0.026 in Step 80\n",
      "Valid loss  0.026 in Step 90\n",
      "Valid loss  0.026 in Step 100\n",
      "Valid loss  0.026 in Step 110\n",
      "Valid loss  0.026 in Step 120\n",
      "Valid loss  0.025 in Step 130\n",
      "Valid loss  0.027 in Step 140\n",
      "Valid loss  0.026 in Step 150\n",
      "Valid loss  0.026 in Step 160\n",
      "Valid loss  0.026 in Step 170\n",
      "Valid loss  0.027 in Step 180\n",
      "Valid loss  0.027 in Step 190\n",
      "Valid loss  0.026 in Step 200\n",
      "Valid loss  0.028 in Step 210\n",
      "Valid loss  0.025 in Step 220\n",
      "Valid loss  0.026 in Step 230\n",
      "Valid loss  0.026 in Step 240\n",
      "Valid loss  0.026 in Step 250\n",
      "Valid loss  0.026 in Step 260\n",
      "Valid loss  0.026 in Step 270\n",
      "Valid loss  0.026 in Step 280\n",
      "Valid loss  0.026 in Step 290\n",
      "Valid loss  0.027 in Step 300\n",
      "Valid loss  0.027 in Step 310\n",
      "Valid loss  0.026 in Step 320\n",
      "Valid loss  0.026 in Step 330\n",
      "Valid loss  0.027 in Step 340\n",
      "Valid loss  0.026 in Step 350\n",
      "Valid loss  0.025 in Step 360\n",
      "Valid loss  0.026 in Step 370\n",
      "Valid loss  0.026 in Step 380\n",
      "Valid loss  0.027 in Step 390\n",
      "Valid loss  0.025 in Step 400\n",
      "Valid loss  0.026 in Step 410\n",
      "Valid loss  0.026 in Step 420\n",
      "Valid loss  0.026 in Step 430\n",
      "Valid loss  0.026 in Step 440\n",
      "※※※Valid loss  0.026※※※\n",
      "Epoch 3\n",
      "Training loss  0.031 in Step 0\n",
      "Training loss  0.029 in Step 100\n",
      "Training loss  0.032 in Step 200\n",
      "Training loss  0.031 in Step 300\n",
      "Training loss  0.032 in Step 400\n",
      "Training loss  0.031 in Step 500\n",
      "Training loss  0.032 in Step 600\n",
      "Training loss  0.030 in Step 700\n",
      "Training loss  0.030 in Step 800\n",
      "Training loss  0.031 in Step 900\n",
      "Training loss  0.031 in Step 1000\n",
      "Training loss  0.030 in Step 1100\n",
      "Training loss  0.030 in Step 1200\n",
      "Training loss  0.031 in Step 1300\n",
      "Training loss  0.030 in Step 1400\n",
      "Training loss  0.031 in Step 1500\n",
      "Training loss  0.032 in Step 1600\n",
      "Training loss  0.031 in Step 1700\n",
      "※※※Training loss  0.031※※※\n",
      "Training timepoint saved\n",
      "Valid loss  0.025 in Step 0\n",
      "Valid loss  0.025 in Step 10\n",
      "Valid loss  0.026 in Step 20\n",
      "Valid loss  0.025 in Step 30\n",
      "Valid loss  0.025 in Step 40\n",
      "Valid loss  0.027 in Step 50\n",
      "Valid loss  0.025 in Step 60\n",
      "Valid loss  0.026 in Step 70\n",
      "Valid loss  0.026 in Step 80\n",
      "Valid loss  0.026 in Step 90\n",
      "Valid loss  0.026 in Step 100\n",
      "Valid loss  0.026 in Step 110\n",
      "Valid loss  0.026 in Step 120\n",
      "Valid loss  0.025 in Step 130\n",
      "Valid loss  0.026 in Step 140\n",
      "Valid loss  0.026 in Step 150\n",
      "Valid loss  0.026 in Step 160\n",
      "Valid loss  0.026 in Step 170\n",
      "Valid loss  0.026 in Step 180\n",
      "Valid loss  0.027 in Step 190\n",
      "Valid loss  0.026 in Step 200\n",
      "Valid loss  0.028 in Step 210\n",
      "Valid loss  0.025 in Step 220\n",
      "Valid loss  0.026 in Step 230\n",
      "Valid loss  0.026 in Step 240\n",
      "Valid loss  0.025 in Step 250\n",
      "Valid loss  0.026 in Step 260\n",
      "Valid loss  0.026 in Step 270\n",
      "Valid loss  0.026 in Step 280\n",
      "Valid loss  0.026 in Step 290\n",
      "Valid loss  0.026 in Step 300\n",
      "Valid loss  0.027 in Step 310\n",
      "Valid loss  0.026 in Step 320\n",
      "Valid loss  0.026 in Step 330\n",
      "Valid loss  0.026 in Step 340\n",
      "Valid loss  0.026 in Step 350\n",
      "Valid loss  0.025 in Step 360\n",
      "Valid loss  0.026 in Step 370\n",
      "Valid loss  0.026 in Step 380\n",
      "Valid loss  0.026 in Step 390\n",
      "Valid loss  0.025 in Step 400\n",
      "Valid loss  0.026 in Step 410\n",
      "Valid loss  0.026 in Step 420\n",
      "Valid loss  0.026 in Step 430\n",
      "Valid loss  0.025 in Step 440\n",
      "※※※Valid loss  0.026※※※\n",
      "Epoch 4\n",
      "Training loss  0.030 in Step 0\n",
      "Training loss  0.030 in Step 100\n",
      "Training loss  0.031 in Step 200\n",
      "Training loss  0.029 in Step 300\n",
      "Training loss  0.030 in Step 400\n",
      "Training loss  0.031 in Step 500\n",
      "Training loss  0.030 in Step 600\n",
      "Training loss  0.031 in Step 700\n",
      "Training loss  0.030 in Step 800\n",
      "Training loss  0.030 in Step 900\n",
      "Training loss  0.032 in Step 1000\n",
      "Training loss  0.030 in Step 1100\n",
      "Training loss  0.030 in Step 1200\n",
      "Training loss  0.031 in Step 1300\n",
      "Training loss  0.031 in Step 1400\n",
      "Training loss  0.030 in Step 1500\n",
      "Training loss  0.030 in Step 1600\n",
      "Training loss  0.031 in Step 1700\n",
      "※※※Training loss  0.031※※※\n",
      "Training timepoint saved\n",
      "Valid loss  0.025 in Step 0\n",
      "Valid loss  0.025 in Step 10\n",
      "Valid loss  0.026 in Step 20\n",
      "Valid loss  0.025 in Step 30\n",
      "Valid loss  0.025 in Step 40\n",
      "Valid loss  0.027 in Step 50\n",
      "Valid loss  0.025 in Step 60\n",
      "Valid loss  0.026 in Step 70\n",
      "Valid loss  0.026 in Step 80\n",
      "Valid loss  0.026 in Step 90\n",
      "Valid loss  0.026 in Step 100\n",
      "Valid loss  0.026 in Step 110\n",
      "Valid loss  0.026 in Step 120\n",
      "Valid loss  0.025 in Step 130\n",
      "Valid loss  0.026 in Step 140\n",
      "Valid loss  0.025 in Step 150\n",
      "Valid loss  0.026 in Step 160\n",
      "Valid loss  0.026 in Step 170\n",
      "Valid loss  0.026 in Step 180\n",
      "Valid loss  0.027 in Step 190\n",
      "Valid loss  0.026 in Step 200\n",
      "Valid loss  0.028 in Step 210\n",
      "Valid loss  0.025 in Step 220\n",
      "Valid loss  0.026 in Step 230\n",
      "Valid loss  0.026 in Step 240\n",
      "Valid loss  0.025 in Step 250\n",
      "Valid loss  0.026 in Step 260\n",
      "Valid loss  0.026 in Step 270\n",
      "Valid loss  0.026 in Step 280\n",
      "Valid loss  0.026 in Step 290\n",
      "Valid loss  0.026 in Step 300\n",
      "Valid loss  0.027 in Step 310\n",
      "Valid loss  0.026 in Step 320\n",
      "Valid loss  0.026 in Step 330\n",
      "Valid loss  0.027 in Step 340\n",
      "Valid loss  0.026 in Step 350\n",
      "Valid loss  0.025 in Step 360\n",
      "Valid loss  0.026 in Step 370\n",
      "Valid loss  0.026 in Step 380\n",
      "Valid loss  0.026 in Step 390\n",
      "Valid loss  0.025 in Step 400\n",
      "Valid loss  0.026 in Step 410\n",
      "Valid loss  0.026 in Step 420\n",
      "Valid loss  0.026 in Step 430\n",
      "Valid loss  0.025 in Step 440\n",
      "※※※Valid loss  0.026※※※\n",
      "Epoch 5\n",
      "Training loss  0.031 in Step 0\n",
      "Training loss  0.031 in Step 100\n"
     ]
    },
    {
     "ename": "KeyboardInterrupt",
     "evalue": "",
     "output_type": "error",
     "traceback": [
      "\u001b[0;31m---------------------------------------------------------------------------\u001b[0m",
      "\u001b[0;31mKeyboardInterrupt\u001b[0m                         Traceback (most recent call last)",
      "\u001b[1;32m/home/ldlmdl/Documents/wavln/scripts/A_01.ipynb Cell 24\u001b[0m line \u001b[0;36m2\n\u001b[1;32m      <a href='vscode-notebook-cell:/home/ldlmdl/Documents/wavln/scripts/A_01.ipynb#X25sZmlsZQ%3D%3D?line=0'>1</a>\u001b[0m \u001b[39mif\u001b[39;00m \u001b[39m__name__\u001b[39m \u001b[39m==\u001b[39m \u001b[39m\"\u001b[39m\u001b[39m__main__\u001b[39m\u001b[39m\"\u001b[39m: \n\u001b[0;32m----> <a href='vscode-notebook-cell:/home/ldlmdl/Documents/wavln/scripts/A_01.ipynb#X25sZmlsZQ%3D%3D?line=1'>2</a>\u001b[0m     train()\n",
      "\u001b[1;32m/home/ldlmdl/Documents/wavln/scripts/A_01.ipynb Cell 24\u001b[0m line \u001b[0;36m8\n\u001b[1;32m      <a href='vscode-notebook-cell:/home/ldlmdl/Documents/wavln/scripts/A_01.ipynb#X25sZmlsZQ%3D%3D?line=5'>6</a>\u001b[0m train_loss \u001b[39m=\u001b[39m \u001b[39m0.\u001b[39m\n\u001b[1;32m      <a href='vscode-notebook-cell:/home/ldlmdl/Documents/wavln/scripts/A_01.ipynb#X25sZmlsZQ%3D%3D?line=6'>7</a>\u001b[0m train_num \u001b[39m=\u001b[39m \u001b[39mlen\u001b[39m(train_loader)    \u001b[39m# train_loader\u001b[39;00m\n\u001b[0;32m----> <a href='vscode-notebook-cell:/home/ldlmdl/Documents/wavln/scripts/A_01.ipynb#X25sZmlsZQ%3D%3D?line=7'>8</a>\u001b[0m \u001b[39mfor\u001b[39;00m idx, (x, x_lens) \u001b[39min\u001b[39;00m \u001b[39menumerate\u001b[39m(train_loader):\n\u001b[1;32m      <a href='vscode-notebook-cell:/home/ldlmdl/Documents/wavln/scripts/A_01.ipynb#X25sZmlsZQ%3D%3D?line=8'>9</a>\u001b[0m     optimizer\u001b[39m.\u001b[39mzero_grad()\n\u001b[1;32m     <a href='vscode-notebook-cell:/home/ldlmdl/Documents/wavln/scripts/A_01.ipynb#X25sZmlsZQ%3D%3D?line=9'>10</a>\u001b[0m     y \u001b[39m=\u001b[39m x \n",
      "File \u001b[0;32m~/anaconda3/envs/wavln/lib/python3.11/site-packages/torch/utils/data/dataloader.py:633\u001b[0m, in \u001b[0;36m_BaseDataLoaderIter.__next__\u001b[0;34m(self)\u001b[0m\n\u001b[1;32m    630\u001b[0m \u001b[39mif\u001b[39;00m \u001b[39mself\u001b[39m\u001b[39m.\u001b[39m_sampler_iter \u001b[39mis\u001b[39;00m \u001b[39mNone\u001b[39;00m:\n\u001b[1;32m    631\u001b[0m     \u001b[39m# TODO(https://github.com/pytorch/pytorch/issues/76750)\u001b[39;00m\n\u001b[1;32m    632\u001b[0m     \u001b[39mself\u001b[39m\u001b[39m.\u001b[39m_reset()  \u001b[39m# type: ignore[call-arg]\u001b[39;00m\n\u001b[0;32m--> 633\u001b[0m data \u001b[39m=\u001b[39m \u001b[39mself\u001b[39;49m\u001b[39m.\u001b[39;49m_next_data()\n\u001b[1;32m    634\u001b[0m \u001b[39mself\u001b[39m\u001b[39m.\u001b[39m_num_yielded \u001b[39m+\u001b[39m\u001b[39m=\u001b[39m \u001b[39m1\u001b[39m\n\u001b[1;32m    635\u001b[0m \u001b[39mif\u001b[39;00m \u001b[39mself\u001b[39m\u001b[39m.\u001b[39m_dataset_kind \u001b[39m==\u001b[39m _DatasetKind\u001b[39m.\u001b[39mIterable \u001b[39mand\u001b[39;00m \\\n\u001b[1;32m    636\u001b[0m         \u001b[39mself\u001b[39m\u001b[39m.\u001b[39m_IterableDataset_len_called \u001b[39mis\u001b[39;00m \u001b[39mnot\u001b[39;00m \u001b[39mNone\u001b[39;00m \u001b[39mand\u001b[39;00m \\\n\u001b[1;32m    637\u001b[0m         \u001b[39mself\u001b[39m\u001b[39m.\u001b[39m_num_yielded \u001b[39m>\u001b[39m \u001b[39mself\u001b[39m\u001b[39m.\u001b[39m_IterableDataset_len_called:\n",
      "File \u001b[0;32m~/anaconda3/envs/wavln/lib/python3.11/site-packages/torch/utils/data/dataloader.py:1328\u001b[0m, in \u001b[0;36m_MultiProcessingDataLoaderIter._next_data\u001b[0;34m(self)\u001b[0m\n\u001b[1;32m   1325\u001b[0m     \u001b[39mreturn\u001b[39;00m \u001b[39mself\u001b[39m\u001b[39m.\u001b[39m_process_data(data)\n\u001b[1;32m   1327\u001b[0m \u001b[39massert\u001b[39;00m \u001b[39mnot\u001b[39;00m \u001b[39mself\u001b[39m\u001b[39m.\u001b[39m_shutdown \u001b[39mand\u001b[39;00m \u001b[39mself\u001b[39m\u001b[39m.\u001b[39m_tasks_outstanding \u001b[39m>\u001b[39m \u001b[39m0\u001b[39m\n\u001b[0;32m-> 1328\u001b[0m idx, data \u001b[39m=\u001b[39m \u001b[39mself\u001b[39;49m\u001b[39m.\u001b[39;49m_get_data()\n\u001b[1;32m   1329\u001b[0m \u001b[39mself\u001b[39m\u001b[39m.\u001b[39m_tasks_outstanding \u001b[39m-\u001b[39m\u001b[39m=\u001b[39m \u001b[39m1\u001b[39m\n\u001b[1;32m   1330\u001b[0m \u001b[39mif\u001b[39;00m \u001b[39mself\u001b[39m\u001b[39m.\u001b[39m_dataset_kind \u001b[39m==\u001b[39m _DatasetKind\u001b[39m.\u001b[39mIterable:\n\u001b[1;32m   1331\u001b[0m     \u001b[39m# Check for _IterableDatasetStopIteration\u001b[39;00m\n",
      "File \u001b[0;32m~/anaconda3/envs/wavln/lib/python3.11/site-packages/torch/utils/data/dataloader.py:1294\u001b[0m, in \u001b[0;36m_MultiProcessingDataLoaderIter._get_data\u001b[0;34m(self)\u001b[0m\n\u001b[1;32m   1290\u001b[0m     \u001b[39m# In this case, `self._data_queue` is a `queue.Queue`,. But we don't\u001b[39;00m\n\u001b[1;32m   1291\u001b[0m     \u001b[39m# need to call `.task_done()` because we don't use `.join()`.\u001b[39;00m\n\u001b[1;32m   1292\u001b[0m \u001b[39melse\u001b[39;00m:\n\u001b[1;32m   1293\u001b[0m     \u001b[39mwhile\u001b[39;00m \u001b[39mTrue\u001b[39;00m:\n\u001b[0;32m-> 1294\u001b[0m         success, data \u001b[39m=\u001b[39m \u001b[39mself\u001b[39;49m\u001b[39m.\u001b[39;49m_try_get_data()\n\u001b[1;32m   1295\u001b[0m         \u001b[39mif\u001b[39;00m success:\n\u001b[1;32m   1296\u001b[0m             \u001b[39mreturn\u001b[39;00m data\n",
      "File \u001b[0;32m~/anaconda3/envs/wavln/lib/python3.11/site-packages/torch/utils/data/dataloader.py:1132\u001b[0m, in \u001b[0;36m_MultiProcessingDataLoaderIter._try_get_data\u001b[0;34m(self, timeout)\u001b[0m\n\u001b[1;32m   1119\u001b[0m \u001b[39mdef\u001b[39;00m \u001b[39m_try_get_data\u001b[39m(\u001b[39mself\u001b[39m, timeout\u001b[39m=\u001b[39m_utils\u001b[39m.\u001b[39mMP_STATUS_CHECK_INTERVAL):\n\u001b[1;32m   1120\u001b[0m     \u001b[39m# Tries to fetch data from `self._data_queue` once for a given timeout.\u001b[39;00m\n\u001b[1;32m   1121\u001b[0m     \u001b[39m# This can also be used as inner loop of fetching without timeout, with\u001b[39;00m\n\u001b[0;32m   (...)\u001b[0m\n\u001b[1;32m   1129\u001b[0m     \u001b[39m# Returns a 2-tuple:\u001b[39;00m\n\u001b[1;32m   1130\u001b[0m     \u001b[39m#   (bool: whether successfully get data, any: data if successful else None)\u001b[39;00m\n\u001b[1;32m   1131\u001b[0m     \u001b[39mtry\u001b[39;00m:\n\u001b[0;32m-> 1132\u001b[0m         data \u001b[39m=\u001b[39m \u001b[39mself\u001b[39;49m\u001b[39m.\u001b[39;49m_data_queue\u001b[39m.\u001b[39;49mget(timeout\u001b[39m=\u001b[39;49mtimeout)\n\u001b[1;32m   1133\u001b[0m         \u001b[39mreturn\u001b[39;00m (\u001b[39mTrue\u001b[39;00m, data)\n\u001b[1;32m   1134\u001b[0m     \u001b[39mexcept\u001b[39;00m \u001b[39mException\u001b[39;00m \u001b[39mas\u001b[39;00m e:\n\u001b[1;32m   1135\u001b[0m         \u001b[39m# At timeout and error, we manually check whether any worker has\u001b[39;00m\n\u001b[1;32m   1136\u001b[0m         \u001b[39m# failed. Note that this is the only mechanism for Windows to detect\u001b[39;00m\n\u001b[1;32m   1137\u001b[0m         \u001b[39m# worker failures.\u001b[39;00m\n",
      "File \u001b[0;32m~/anaconda3/envs/wavln/lib/python3.11/multiprocessing/queues.py:122\u001b[0m, in \u001b[0;36mQueue.get\u001b[0;34m(self, block, timeout)\u001b[0m\n\u001b[1;32m    120\u001b[0m         \u001b[39mself\u001b[39m\u001b[39m.\u001b[39m_rlock\u001b[39m.\u001b[39mrelease()\n\u001b[1;32m    121\u001b[0m \u001b[39m# unserialize the data after having released the lock\u001b[39;00m\n\u001b[0;32m--> 122\u001b[0m \u001b[39mreturn\u001b[39;00m _ForkingPickler\u001b[39m.\u001b[39mloads(res)\n",
      "File \u001b[0;32m~/anaconda3/envs/wavln/lib/python3.11/site-packages/torch/multiprocessing/reductions.py:307\u001b[0m, in \u001b[0;36mrebuild_storage_fd\u001b[0;34m(cls, df, size)\u001b[0m\n\u001b[1;32m    306\u001b[0m \u001b[39mdef\u001b[39;00m \u001b[39mrebuild_storage_fd\u001b[39m(\u001b[39mcls\u001b[39m, df, size):\n\u001b[0;32m--> 307\u001b[0m     fd \u001b[39m=\u001b[39m df\u001b[39m.\u001b[39;49mdetach()\n\u001b[1;32m    308\u001b[0m     \u001b[39mtry\u001b[39;00m:\n\u001b[1;32m    309\u001b[0m         storage \u001b[39m=\u001b[39m storage_from_cache(\u001b[39mcls\u001b[39m, fd_id(fd))\n",
      "File \u001b[0;32m~/anaconda3/envs/wavln/lib/python3.11/multiprocessing/resource_sharer.py:57\u001b[0m, in \u001b[0;36mDupFd.detach\u001b[0;34m(self)\u001b[0m\n\u001b[1;32m     55\u001b[0m \u001b[39mdef\u001b[39;00m \u001b[39mdetach\u001b[39m(\u001b[39mself\u001b[39m):\n\u001b[1;32m     56\u001b[0m \u001b[39m    \u001b[39m\u001b[39m'''Get the fd.  This should only be called once.'''\u001b[39;00m\n\u001b[0;32m---> 57\u001b[0m     \u001b[39mwith\u001b[39;00m _resource_sharer\u001b[39m.\u001b[39;49mget_connection(\u001b[39mself\u001b[39;49m\u001b[39m.\u001b[39;49m_id) \u001b[39mas\u001b[39;00m conn:\n\u001b[1;32m     58\u001b[0m         \u001b[39mreturn\u001b[39;00m reduction\u001b[39m.\u001b[39mrecv_handle(conn)\n",
      "File \u001b[0;32m~/anaconda3/envs/wavln/lib/python3.11/multiprocessing/resource_sharer.py:86\u001b[0m, in \u001b[0;36m_ResourceSharer.get_connection\u001b[0;34m(ident)\u001b[0m\n\u001b[1;32m     84\u001b[0m \u001b[39mfrom\u001b[39;00m \u001b[39m.\u001b[39;00m\u001b[39mconnection\u001b[39;00m \u001b[39mimport\u001b[39;00m Client\n\u001b[1;32m     85\u001b[0m address, key \u001b[39m=\u001b[39m ident\n\u001b[0;32m---> 86\u001b[0m c \u001b[39m=\u001b[39m Client(address, authkey\u001b[39m=\u001b[39;49mprocess\u001b[39m.\u001b[39;49mcurrent_process()\u001b[39m.\u001b[39;49mauthkey)\n\u001b[1;32m     87\u001b[0m c\u001b[39m.\u001b[39msend((key, os\u001b[39m.\u001b[39mgetpid()))\n\u001b[1;32m     88\u001b[0m \u001b[39mreturn\u001b[39;00m c\n",
      "File \u001b[0;32m~/anaconda3/envs/wavln/lib/python3.11/multiprocessing/connection.py:508\u001b[0m, in \u001b[0;36mClient\u001b[0;34m(address, family, authkey)\u001b[0m\n\u001b[1;32m    506\u001b[0m \u001b[39mif\u001b[39;00m authkey \u001b[39mis\u001b[39;00m \u001b[39mnot\u001b[39;00m \u001b[39mNone\u001b[39;00m:\n\u001b[1;32m    507\u001b[0m     answer_challenge(c, authkey)\n\u001b[0;32m--> 508\u001b[0m     deliver_challenge(c, authkey)\n\u001b[1;32m    510\u001b[0m \u001b[39mreturn\u001b[39;00m c\n",
      "File \u001b[0;32m~/anaconda3/envs/wavln/lib/python3.11/multiprocessing/connection.py:739\u001b[0m, in \u001b[0;36mdeliver_challenge\u001b[0;34m(connection, authkey)\u001b[0m\n\u001b[1;32m    737\u001b[0m connection\u001b[39m.\u001b[39msend_bytes(CHALLENGE \u001b[39m+\u001b[39m message)\n\u001b[1;32m    738\u001b[0m digest \u001b[39m=\u001b[39m hmac\u001b[39m.\u001b[39mnew(authkey, message, \u001b[39m'\u001b[39m\u001b[39mmd5\u001b[39m\u001b[39m'\u001b[39m)\u001b[39m.\u001b[39mdigest()\n\u001b[0;32m--> 739\u001b[0m response \u001b[39m=\u001b[39m connection\u001b[39m.\u001b[39;49mrecv_bytes(\u001b[39m256\u001b[39;49m)        \u001b[39m# reject large message\u001b[39;00m\n\u001b[1;32m    740\u001b[0m \u001b[39mif\u001b[39;00m response \u001b[39m==\u001b[39m digest:\n\u001b[1;32m    741\u001b[0m     connection\u001b[39m.\u001b[39msend_bytes(WELCOME)\n",
      "File \u001b[0;32m~/anaconda3/envs/wavln/lib/python3.11/multiprocessing/connection.py:215\u001b[0m, in \u001b[0;36m_ConnectionBase.recv_bytes\u001b[0;34m(self, maxlength)\u001b[0m\n\u001b[1;32m    213\u001b[0m \u001b[39mif\u001b[39;00m maxlength \u001b[39mis\u001b[39;00m \u001b[39mnot\u001b[39;00m \u001b[39mNone\u001b[39;00m \u001b[39mand\u001b[39;00m maxlength \u001b[39m<\u001b[39m \u001b[39m0\u001b[39m:\n\u001b[1;32m    214\u001b[0m     \u001b[39mraise\u001b[39;00m \u001b[39mValueError\u001b[39;00m(\u001b[39m\"\u001b[39m\u001b[39mnegative maxlength\u001b[39m\u001b[39m\"\u001b[39m)\n\u001b[0;32m--> 215\u001b[0m buf \u001b[39m=\u001b[39m \u001b[39mself\u001b[39;49m\u001b[39m.\u001b[39;49m_recv_bytes(maxlength)\n\u001b[1;32m    216\u001b[0m \u001b[39mif\u001b[39;00m buf \u001b[39mis\u001b[39;00m \u001b[39mNone\u001b[39;00m:\n\u001b[1;32m    217\u001b[0m     \u001b[39mself\u001b[39m\u001b[39m.\u001b[39m_bad_message_length()\n",
      "File \u001b[0;32m~/anaconda3/envs/wavln/lib/python3.11/multiprocessing/connection.py:413\u001b[0m, in \u001b[0;36mConnection._recv_bytes\u001b[0;34m(self, maxsize)\u001b[0m\n\u001b[1;32m    412\u001b[0m \u001b[39mdef\u001b[39;00m \u001b[39m_recv_bytes\u001b[39m(\u001b[39mself\u001b[39m, maxsize\u001b[39m=\u001b[39m\u001b[39mNone\u001b[39;00m):\n\u001b[0;32m--> 413\u001b[0m     buf \u001b[39m=\u001b[39m \u001b[39mself\u001b[39;49m\u001b[39m.\u001b[39;49m_recv(\u001b[39m4\u001b[39;49m)\n\u001b[1;32m    414\u001b[0m     size, \u001b[39m=\u001b[39m struct\u001b[39m.\u001b[39munpack(\u001b[39m\"\u001b[39m\u001b[39m!i\u001b[39m\u001b[39m\"\u001b[39m, buf\u001b[39m.\u001b[39mgetvalue())\n\u001b[1;32m    415\u001b[0m     \u001b[39mif\u001b[39;00m size \u001b[39m==\u001b[39m \u001b[39m-\u001b[39m\u001b[39m1\u001b[39m:\n",
      "File \u001b[0;32m~/anaconda3/envs/wavln/lib/python3.11/multiprocessing/connection.py:378\u001b[0m, in \u001b[0;36mConnection._recv\u001b[0;34m(self, size, read)\u001b[0m\n\u001b[1;32m    376\u001b[0m remaining \u001b[39m=\u001b[39m size\n\u001b[1;32m    377\u001b[0m \u001b[39mwhile\u001b[39;00m remaining \u001b[39m>\u001b[39m \u001b[39m0\u001b[39m:\n\u001b[0;32m--> 378\u001b[0m     chunk \u001b[39m=\u001b[39m read(handle, remaining)\n\u001b[1;32m    379\u001b[0m     n \u001b[39m=\u001b[39m \u001b[39mlen\u001b[39m(chunk)\n\u001b[1;32m    380\u001b[0m     \u001b[39mif\u001b[39;00m n \u001b[39m==\u001b[39m \u001b[39m0\u001b[39m:\n",
      "\u001b[0;31mKeyboardInterrupt\u001b[0m: "
     ]
    }
   ],
   "source": [
    "if __name__ == \"__main__\": \n",
    "    train()"
   ]
  },
  {
   "cell_type": "code",
   "execution_count": 21,
   "metadata": {
    "id": "KSTTwi31xAvh"
   },
   "outputs": [],
   "source": [
    "### Save\n",
    "train_losses.save()\n",
    "\n",
    "valid_losses.save()\n",
    "\n",
    "text_hist.save()"
   ]
  },
  {
   "cell_type": "code",
   "execution_count": 54,
   "metadata": {
    "colab": {
     "base_uri": "https://localhost:8080/",
     "height": 281
    },
    "id": "3yaMyIzH12RD",
    "outputId": "1426c24a-c60c-48c2-8690-f3a07bb9ba7b"
   },
   "outputs": [
    {
     "data": {
      "text/plain": [
       "<matplotlib.legend.Legend at 0x7f7fac4f4a50>"
      ]
     },
     "execution_count": 54,
     "metadata": {},
     "output_type": "execute_result"
    },
    {
     "data": {
      "image/png": "[encoded data removed]",
      "text/plain": [
       "<Figure size 640x480 with 1 Axes>"
      ]
     },
     "metadata": {},
     "output_type": "display_data"
    }
   ],
   "source": [
    "plt.plot(train_losses.get(), label='Train')\n",
    "plt.plot(valid_losses.get(), label='Valid')\n",
    "plt.title(\"Learning Curve Loss\")\n",
    "plt.legend()"
   ]
  },
  {
   "cell_type": "markdown",
   "metadata": {},
   "source": [
    "## Conclusion\n",
    "This model should converge to loss around 0.49x. "
   ]
  },
  {
   "cell_type": "markdown",
   "metadata": {},
   "source": []
  }
 ],
 "metadata": {
  "accelerator": "GPU",
  "colab": {
   "provenance": []
  },
  "gpuClass": "standard",
  "kernelspec": {
   "display_name": "Python 3 (ipykernel)",
   "language": "python",
   "name": "python3"
  },
  "language_info": {
   "codemirror_mode": {
    "name": "ipython",
    "version": 3
   },
   "file_extension": ".py",
   "mimetype": "text/x-python",
   "name": "python",
   "nbconvert_exporter": "python",
   "pygments_lexer": "ipython3",
   "version": "3.11.3"
  }
 },
 "nbformat": 4,
 "nbformat_minor": 4
}
