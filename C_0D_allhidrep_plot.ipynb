{
 "cells": [
  {
   "cell_type": "code",
   "execution_count": 2,
   "metadata": {},
   "outputs": [],
   "source": [
    "import os\n",
    "from paths import *\n",
    "from C_0D_allhidrep import *"
   ]
  },
  {
   "cell_type": "code",
   "execution_count": 3,
   "metadata": {},
   "outputs": [],
   "source": [
    "eval_out_dir = os.path.join(model_save_, \"eval-C_0D-0412203108\")"
   ]
  },
  {
   "cell_type": "code",
   "execution_count": 4,
   "metadata": {},
   "outputs": [
    {
     "data": {
      "text/plain": [
       "['silhouette-VS-aefixemb-u-2345.png',\n",
       " 'attntraj-at-all-ae-u-145.png',\n",
       " 'ae',\n",
       " 'aefixemb',\n",
       " 'attncomp-at-all-aefixemb-u-2345.png',\n",
       " 'attntraj-at-all-aefixemb-u-2345.png',\n",
       " 'silhouette-VS-ae-u-145.png',\n",
       " 'attncomp-at-all-ae-u-145.png']"
      ]
     },
     "execution_count": 4,
     "metadata": {},
     "output_type": "execute_result"
    }
   ],
   "source": [
    "for model_type in [\"ae\", \"aefixemb\"]: \n",
    "    for condition in [\"u\"]:\n",
    "        for model_num in range(1, 6):\n",
    "            res_save_dir = os.path.join(eval_out_dir, model_type, condition, str(model_num))\n",
    "            sil_scores_99 = []\n",
    "            for epoch in range(0, 100): \n",
    "                sil_score_path = os.path.join(res_save_dir, f\"sil_scores_{epoch}.pk\")\n",
    "                with open(sil_score_path, \"rb\") as file: \n",
    "                    sil_scores = pickle.load(file)\n",
    "                sil_scores_99.append(sil_scores)\n",
    "\n",
    "            data = np.array(sil_scores_99)\n",
    "\n",
    "            # Calculate the mean and standard deviation for each item\n",
    "            means = np.mean(data, axis=1)\n",
    "            std_devs = np.std(data, axis=1)\n",
    "\n",
    "            # Create the plot\n",
    "            plt.figure(figsize=(12, 6))\n",
    "\n",
    "            # Plot the mean\n",
    "            plt.plot(means, marker='o', linestyle='-', color='b', label='Mean')\n",
    "\n",
    "            # Plot the error as a shaded area\n",
    "            plt.fill_between(range(len(means)), means - std_devs, means + std_devs, color='b', alpha=0.2, label='Error (±1 std dev)')\n",
    "\n",
    "            # Add title and labels\n",
    "            plt.title('Mean and Error of Categories per Item')\n",
    "            plt.xlabel('Item Index')\n",
    "            plt.ylabel('Value')\n",
    "            plt.legend()\n",
    "\n",
    "            # Show the graph\n",
    "            plt.grid(True)\n",
    "            plt.show()"
   ]
  },
  {
   "cell_type": "code",
   "execution_count": null,
   "metadata": {},
   "outputs": [],
   "source": []
  }
 ],
 "metadata": {
  "kernelspec": {
   "display_name": "wavln",
   "language": "python",
   "name": "python3"
  },
  "language_info": {
   "codemirror_mode": {
    "name": "ipython",
    "version": 3
   },
   "file_extension": ".py",
   "mimetype": "text/x-python",
   "name": "python",
   "nbconvert_exporter": "python",
   "pygments_lexer": "ipython3",
   "version": "3.11.7"
  }
 },
 "nbformat": 4,
 "nbformat_minor": 2
}
