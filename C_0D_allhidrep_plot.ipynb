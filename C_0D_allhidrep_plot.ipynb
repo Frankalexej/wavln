{
 "cells": [
  {
   "cell_type": "code",
   "execution_count": 2,
   "metadata": {},
   "outputs": [],
   "source": [
    "import os\n",
    "\n",
    "from paths import *"
   ]
  },
  {
   "cell_type": "code",
   "execution_count": 3,
   "metadata": {},
   "outputs": [],
   "source": [
    "eval_out_dir = os.path.join(model_save_, \"eval-C_0D-0412203108\")"
   ]
  },
  {
   "cell_type": "code",
   "execution_count": 4,
   "metadata": {},
   "outputs": [
    {
     "data": {
      "text/plain": [
       "['silhouette-VS-aefixemb-u-2345.png',\n",
       " 'attntraj-at-all-ae-u-145.png',\n",
       " 'ae',\n",
       " 'aefixemb',\n",
       " 'attncomp-at-all-aefixemb-u-2345.png',\n",
       " 'attntraj-at-all-aefixemb-u-2345.png',\n",
       " 'silhouette-VS-ae-u-145.png',\n",
       " 'attncomp-at-all-ae-u-145.png']"
      ]
     },
     "execution_count": 4,
     "metadata": {},
     "output_type": "execute_result"
    }
   ],
   "source": [
    "for model_type in [\"ae\", \"aefixemb\"]: \n",
    "    for model_num in range(1, 6):\n",
    "        "
   ]
  },
  {
   "cell_type": "code",
   "execution_count": null,
   "metadata": {},
   "outputs": [],
   "source": []
  }
 ],
 "metadata": {
  "kernelspec": {
   "display_name": "wavln",
   "language": "python",
   "name": "python3"
  },
  "language_info": {
   "codemirror_mode": {
    "name": "ipython",
    "version": 3
   },
   "file_extension": ".py",
   "mimetype": "text/x-python",
   "name": "python",
   "nbconvert_exporter": "python",
   "pygments_lexer": "ipython3",
   "version": "3.11.7"
  }
 },
 "nbformat": 4,
 "nbformat_minor": 2
}
