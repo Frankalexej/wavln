{
 "cells": [
  {
   "cell_type": "code",
   "execution_count": 1,
   "metadata": {},
   "outputs": [],
   "source": [
    "import torch\n",
    "import torch.nn as nn\n",
    "import torch.nn.functional as F"
   ]
  },
  {
   "cell_type": "code",
   "execution_count": 2,
   "metadata": {},
   "outputs": [],
   "source": [
    "from attention import ScaledDotProductAttention"
   ]
  },
  {
   "cell_type": "code",
   "execution_count": 3,
   "metadata": {},
   "outputs": [
    {
     "name": "stdout",
     "output_type": "stream",
     "text": [
      "Attention weights without mask:\n",
      "tensor([[[0.0809, 0.0992, 0.7565, 0.0634],\n",
      "         [0.3527, 0.1296, 0.3398, 0.1779],\n",
      "         [0.0977, 0.4290, 0.2066, 0.2667]],\n",
      "\n",
      "        [[0.2201, 0.2086, 0.2943, 0.2769],\n",
      "         [0.2883, 0.2749, 0.2451, 0.1918],\n",
      "         [0.2176, 0.2179, 0.2612, 0.3033]]], grad_fn=<SoftmaxBackward0>)\n",
      "Attention weights with mask:\n",
      "tensor([[[0.0864, 0.1059, 0.8077, 0.0000],\n",
      "         [0.4290, 0.1576, 0.4134, 0.0000],\n",
      "         [0.1332, 0.5850, 0.2818, 0.0000]],\n",
      "\n",
      "        [[0.2781, 0.0000, 0.3720, 0.3499],\n",
      "         [0.3975, 0.0000, 0.3380, 0.2645],\n",
      "         [0.2782, 0.0000, 0.3339, 0.3879]]], grad_fn=<SoftmaxBackward0>)\n"
     ]
    }
   ],
   "source": [
    "# Your ScaledDotProductAttention class here\n",
    "\n",
    "# Create a sample input\n",
    "batch_size = 2\n",
    "num_queries = 3\n",
    "num_keys = 4\n",
    "q_in = 5\n",
    "kv_in = 6\n",
    "qk_out = 7\n",
    "v_out = 8\n",
    "\n",
    "q = torch.randn(batch_size, num_queries, q_in)\n",
    "k = torch.randn(batch_size, num_keys, kv_in)\n",
    "v = torch.randn(batch_size, num_keys, kv_in)\n",
    "\n",
    "# Create a sample mask\n",
    "mask = torch.tensor([[1, 1, 1, 0], [1, 0, 1, 1]], dtype=torch.bool).unsqueeze(1).repeat(1, num_queries, 1)\n",
    "\n",
    "# Initialize the ScaledDotProductAttention layer\n",
    "scaled_dot_product_attention = ScaledDotProductAttention(q_in, kv_in, qk_out, v_out)\n",
    "\n",
    "# Test the forward function without mask\n",
    "output_no_mask, attn_weights_no_mask = scaled_dot_product_attention(q, k, v)\n",
    "\n",
    "# Test the forward function with mask\n",
    "output_mask, attn_weights_mask = scaled_dot_product_attention(q, k, v, mask=mask)\n",
    "\n",
    "# Print the attention weights without mask\n",
    "print(\"Attention weights without mask:\")\n",
    "print(attn_weights_no_mask)\n",
    "\n",
    "# Print the attention weights with mask\n",
    "print(\"Attention weights with mask:\")\n",
    "print(attn_weights_mask)"
   ]
  },
  {
   "attachments": {},
   "cell_type": "markdown",
   "metadata": {},
   "source": [
    "# Conclusion: working! "
   ]
  },
  {
   "attachments": {},
   "cell_type": "markdown",
   "metadata": {},
   "source": []
  }
 ],
 "metadata": {
  "kernelspec": {
   "display_name": "wavln",
   "language": "python",
   "name": "python3"
  },
  "language_info": {
   "codemirror_mode": {
    "name": "ipython",
    "version": 3
   },
   "file_extension": ".py",
   "mimetype": "text/x-python",
   "name": "python",
   "nbconvert_exporter": "python",
   "pygments_lexer": "ipython3",
   "version": "3.11.3"
  },
  "orig_nbformat": 4
 },
 "nbformat": 4,
 "nbformat_minor": 2
}
