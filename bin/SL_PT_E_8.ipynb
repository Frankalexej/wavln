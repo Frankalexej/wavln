{
 "cells": [
  {
   "attachments": {},
   "cell_type": "markdown",
   "metadata": {
    "id": "B-mljeGlqMqo"
   },
   "source": [
    "# Sequence Learning - Phone Training - English\n",
    "Version 2:  This version has a core structure using HM-RNN. Unlike traditional approaches, our model can automatically detect boundaries. It is trainable and updates the upper layer only upon detecting boundaries. This makes our model suitable for detecting boundaries and capturing the representations of sub-segments based on these detected boundaries. In essence, our model performs boundary detection and representation learning simultaneously.\n",
    "\n",
    "Version 3: this version completed the coding of the core model structure as well as the dataloading, preprocessing, padding and loss calculation processes. At present we only try mel->model -> mel structure, since wav <> wav would introduce extra complexion. In addition, our model will process padded multi-batch tensors as normal but count for the paddings (ignore paddings) during calculation. \n",
    "\n",
    "Version 4: this version is testing whether our hmrnn is not working. It imports a modified version of model: model_test\n",
    "\n",
    "Version 5: this version is testing phase two, mainly working on preprocessing modifications. \n",
    "\n",
    "Version 6: this version deletes lin2, as this will destroy the predicted segmental boundaries. \n",
    "\n",
    "Version 7: After learning from Dr Coupe, I added an additional linear layer. Also, I am trying to make the first inter-linear dimension to be even larger, so as to enrich the representation power of our model. \n",
    "\n",
    "Version 8: The problem of is almost every-timestep-boundary is lingering. So this version is trying to modify the loss function so that it could regularize and punish the model if it wants to optimize itself by passing on each timestep's information to decoder. "
   ]
  },
  {
   "cell_type": "code",
   "execution_count": null,
   "metadata": {
    "id": "jN5DNuExjwet"
   },
   "outputs": [],
   "source": [
    "import torch\n",
    "import torchaudio\n",
    "from torch import nn\n",
    "import torch.nn.functional as F\n",
    "from torch.nn.utils.rnn import pad_sequence, pack_sequence\n",
    "from torch import optim\n",
    "from torch.utils.data import Dataset, DataLoader, random_split\n",
    "import matplotlib.pyplot as plt\n",
    "import numpy as np\n",
    "import pandas as pd\n",
    "from sklearn.cluster import KMeans\n",
    "from sklearn.metrics import homogeneity_completeness_v_measure\n",
    "import pickle\n",
    "from paths import *\n",
    "from my_utils import *\n",
    "from recorder import *\n",
    "from loss import *\n",
    "from padding import generate_mask_from_lengths_mat, mask_it\n",
    "from datetime import datetime"
   ]
  },
  {
   "cell_type": "code",
   "execution_count": null,
   "metadata": {},
   "outputs": [],
   "source": [
    "# from model import PhonLearn_Net\n",
    "from model import PhonLearn_Net"
   ]
  },
  {
   "attachments": {},
   "cell_type": "markdown",
   "metadata": {
    "tags": []
   },
   "source": [
    "### Dirs"
   ]
  },
  {
   "cell_type": "code",
   "execution_count": null,
   "metadata": {
    "id": "iGouCDYD3h18"
   },
   "outputs": [],
   "source": [
    "model_save_dir = model_eng_save_dir\n",
    "# random_data:phone_seg_random_path\n",
    "# anno_data: phone_seg_anno_path\n",
    "\n",
    "# random_log_path = phone_seg_random_log_path + \"log.csv\"\n",
    "random_log_path = word_seg_anno_log_path\n",
    "random_path = word_seg_anno_path\n",
    "anno_log_path = phone_seg_anno_path"
   ]
  },
  {
   "attachments": {},
   "cell_type": "markdown",
   "metadata": {},
   "source": [
    "### Constants"
   ]
  },
  {
   "cell_type": "code",
   "execution_count": null,
   "metadata": {},
   "outputs": [],
   "source": [
    "# 规范用语；规定两种方式：全加载；按rec加载（舍弃了按chunk加载，处理起来更简单）\n",
    "# RandomPhoneDataset; AnnoPhoneDataset; AnnoSeqDataset"
   ]
  },
  {
   "cell_type": "code",
   "execution_count": null,
   "metadata": {},
   "outputs": [],
   "source": [
    "class PhoneDataset(Dataset):\n",
    "    \"\"\"\n",
    "    A PyTorch dataset that loads cutted wave files from disk and returns input-output pairs for\n",
    "    training autoencoder. \n",
    "    \n",
    "    Version 3: wav -> mel\n",
    "    \"\"\"\n",
    "    \n",
    "    def __init__(self, load_dir, load_control_path, transform=None):\n",
    "        \"\"\"\n",
    "        Initializes the class by reading a CSV file and merging the \"rec\" and \"idx\" columns.\n",
    "\n",
    "        The function reads the CSV file from the provided control path, extracts the \"rec\" and \"idx\" columns,\n",
    "        and concatenates the values from these columns using an underscore. It then appends the \".wav\" extension\n",
    "        to each of the merged strings and converts the merged pandas Series to a list, which is assigned to\n",
    "        the 'dataset' attribute of the class.\n",
    "\n",
    "        Args:\n",
    "        load_dir (str): The directory containing the files to load.\n",
    "        load_control_path (str): The path to the CSV file containing the \"rec\" and \"idx\" columns.\n",
    "\n",
    "        Attributes:\n",
    "        dataset (list): A list of merged strings from the \"rec\" and \"idx\" columns, with the \".wav\" extension.\n",
    "        \"\"\"\n",
    "        control_file = pd.read_csv(load_control_path)\n",
    "        control_file = control_file[control_file['n_frames'] > 400]\n",
    "        control_file = control_file[control_file['duration'] <= 2.0]\n",
    "        \n",
    "        # Extract the \"rec\" and \"idx\" columns\n",
    "        rec_col = control_file['rec'].astype(str)\n",
    "        idx_col = control_file['idx'].astype(str).str.zfill(8)\n",
    "        \n",
    "        # Merge the two columns by concatenating the strings with '_' and append extension name\n",
    "        merged_col = rec_col + '_' + idx_col + \".wav\"\n",
    "        \n",
    "        self.dataset = merged_col.tolist()\n",
    "        self.load_dir = load_dir\n",
    "        self.transform = transform\n",
    "        \n",
    "    \n",
    "    def __len__(self):\n",
    "        \"\"\"\n",
    "        Returns the length of the dataset.\n",
    "        \n",
    "        Returns:\n",
    "            int: The number of input-output pairs in the dataset.\n",
    "        \"\"\"\n",
    "        return len(self.dataset)\n",
    "    \n",
    "    def __getitem__(self, idx):\n",
    "        \"\"\"\n",
    "        Returns a tuple (input_data, output_data) for the given index.\n",
    "\n",
    "        The function first checks if the provided index is a tensor, and if so, converts it to a list.\n",
    "        It then constructs the file path for the .wav file using the dataset attribute and the provided index.\n",
    "        The .wav file is loaded using torchaudio, and its data is normalized. If a transform is provided,\n",
    "        the data is transformed using the specified transform. Finally, the input_data and output_data are\n",
    "        set to the same data (creating a tuple), and the tuple is returned.\n",
    "\n",
    "        Args:\n",
    "        idx (int or torch.Tensor): The index of the desired data.\n",
    "\n",
    "        Returns:\n",
    "        tuple: A tuple containing input_data and output_data, both of which are the audio data\n",
    "               from the .wav file at the specified index.\n",
    "\n",
    "        Note: \n",
    "        This function assumes that the class has the following attributes:\n",
    "        - self.load_dir (str): The directory containing the .wav files.\n",
    "        - self.dataset (list): A list of .wav file names.\n",
    "        - self.transform (callable, optional): An optional transform to apply to the audio data.\n",
    "        \"\"\"\n",
    "        if torch.is_tensor(idx):\n",
    "            idx = idx.tolist()\n",
    "        wav_name = os.path.join(self.load_dir,\n",
    "                                self.dataset[idx])\n",
    "        \n",
    "        data, sample_rate = torchaudio.load(wav_name, normalize=True)\n",
    "        if self.transform:\n",
    "            data = self.transform(data, sr=sample_rate)\n",
    "        \n",
    "        # # Prepare for possible in-out discrepencies in the future\n",
    "        # input_data = data\n",
    "        # output_data = data\n",
    "        \n",
    "        return data\n",
    "\n",
    "def collate_fn(xx):\n",
    "    # only working for one data at the moment\n",
    "    batch_first = True\n",
    "    x_lens = [len(x) for x in xx]\n",
    "    xx_pad = pad_sequence(xx, batch_first=batch_first, padding_value=0)\n",
    "    return xx_pad, x_lens\n",
    "\n",
    "\n",
    "class MyTransform(nn.Module): \n",
    "    def __init__(self, sample_rate, n_fft): \n",
    "        super().__init__()\n",
    "        # self.transform = torchaudio.transforms.MelSpectrogram(sample_rate, n_fft=n_fft, n_mels=64)\n",
    "        # self.to_db = torchaudio.transforms.AmplitudeToDB()\n",
    "        # self.transform = torchaudio.transforms.MFCC(n_mfcc=13)\n",
    "    \n",
    "    def forward(self, waveform, sr=16000): \n",
    "        # extract mfcc\n",
    "        feature = torchaudio.compliance.kaldi.mfcc(waveform, sample_frequency=sr)\n",
    "\n",
    "        # add deltas\n",
    "        d1 = torchaudio.functional.compute_deltas(feature)\n",
    "        d2 = torchaudio.functional.compute_deltas(d1)\n",
    "        feature = torch.cat([feature, d1, d2], dim=-1)\n",
    "\n",
    "        # Apply normalization (CMVN)\n",
    "        eps = 1e-9\n",
    "        mean = feature.mean(0, keepdim=True)\n",
    "        std = feature.std(0, keepdim=True, unbiased=False)\n",
    "        # print(feature.shape)\n",
    "        # print(mean, std)\n",
    "        feature = (feature - mean) / (std + eps)\n",
    "\n",
    "        # mel_spec = self.transform(waveform)\n",
    "        # # mel_spec = self.to_db(mel_spec)\n",
    "        # mel_spec = mel_spec.squeeze()\n",
    "        # mel_spec = mel_spec.permute(1, 0) # (F, L) -> (L, F)\n",
    "        return feature"
   ]
  },
  {
   "cell_type": "code",
   "execution_count": null,
   "metadata": {},
   "outputs": [],
   "source": [
    "BATCH_SIZE = 128\n",
    "\n",
    "# INPUT_DIM = 128\n",
    "# OUTPUT_DIM = 128\n",
    "\n",
    "INPUT_DIM = 39\n",
    "OUTPUT_DIM = 13\n",
    "\n",
    "INTER_DIM_0 = 64\n",
    "INTER_DIM_1 = 32\n",
    "INTER_DIM_2 = 16\n",
    "INTER_DIM_3 = 3\n",
    "\n",
    "SIZE_LIST = [INTER_DIM_2, INTER_DIM_3]\n",
    "\n",
    "DROPOUT = 0.5\n",
    "\n",
    "REC_SAMPLE_RATE = 16000\n",
    "N_FFT = 400\n",
    "\n",
    "# LOADER_WORKER = 16\n",
    "LOADER_WORKER = 0"
   ]
  },
  {
   "cell_type": "code",
   "execution_count": null,
   "metadata": {
    "id": "lUxoYBUg1jLq"
   },
   "outputs": [],
   "source": [
    "device = torch.device('cuda' if torch.cuda.is_available() else 'cpu')\n",
    "# device = torch.device('cpu')\n",
    "recon_loss = nn.MSELoss(reduction='none')\n",
    "masked_recon_loss = MaskedLoss(recon_loss)\n",
    "model_loss = CombinedLoss(masked_recon_loss, alpha=0.9)\n",
    "# model = TwoRNNAttn(1.0, SIZE_LIST, in_size=INPUT_DIM, \n",
    "#                       in2_size=INTER_DIM_0, hid_size=INTER_DIM_3, out_size=OUTPUT_DIM)\n",
    "model = PhonLearn_Net(1.0, SIZE_LIST, in_size=INPUT_DIM, \n",
    "                      in2_size=INTER_DIM_0, in3_size=INTER_DIM_1, hid_size=SIZE_LIST[1], out_size=OUTPUT_DIM)\n",
    "model.to(device)\n",
    "optimizer = optim.Adam(model.parameters(), lr=1e-3)"
   ]
  },
  {
   "cell_type": "code",
   "execution_count": null,
   "metadata": {
    "colab": {
     "base_uri": "https://localhost:8080/"
    },
    "id": "QZBCTRw3iXys",
    "outputId": "7947acdb-1a95-49a4-8b1d-93f442cf41d1"
   },
   "outputs": [
    {
     "data": {
      "text/plain": [
       "PhonLearn_Net(\n",
       "  (encoder): Encoder(\n",
       "    (lin_1): LinearPack(\n",
       "      (linear): Linear(in_features=39, out_features=64, bias=True)\n",
       "      (relu): Tanh()\n",
       "      (dropout): Dropout(p=0.5, inplace=False)\n",
       "    )\n",
       "    (lin_2): LinearPack(\n",
       "      (linear): Linear(in_features=64, out_features=32, bias=True)\n",
       "      (relu): Tanh()\n",
       "      (dropout): Dropout(p=0.5, inplace=False)\n",
       "    )\n",
       "    (rnn): HM_LSTM(\n",
       "      (cell_1): HM_LSTMCell()\n",
       "      (cell_2): HM_LSTMCell()\n",
       "    )\n",
       "  )\n",
       "  (decoder): Decoder(\n",
       "    (lin_1): LinearPack(\n",
       "      (linear): Linear(in_features=13, out_features=3, bias=True)\n",
       "      (relu): Tanh()\n",
       "      (dropout): Dropout(p=0.5, inplace=False)\n",
       "    )\n",
       "    (rnn): LSTM(3, 32, batch_first=True)\n",
       "    (attention): ScaledDotProductAttention(\n",
       "      (w_q): Linear(in_features=32, out_features=32, bias=True)\n",
       "      (w_k): Linear(in_features=3, out_features=32, bias=True)\n",
       "      (w_v): Linear(in_features=3, out_features=32, bias=True)\n",
       "    )\n",
       "    (lin_2): LinearPack(\n",
       "      (linear): Linear(in_features=32, out_features=13, bias=True)\n",
       "      (relu): Tanh()\n",
       "      (dropout): Dropout(p=0.5, inplace=False)\n",
       "    )\n",
       "  )\n",
       ")"
      ]
     },
     "execution_count": 8,
     "metadata": {},
     "output_type": "execute_result"
    }
   ],
   "source": [
    "model"
   ]
  },
  {
   "cell_type": "code",
   "execution_count": null,
   "metadata": {},
   "outputs": [],
   "source": [
    "model_parameters = filter(lambda p: p.requires_grad, model.parameters())\n",
    "params = sum([np.prod(p.size()) for p in model_parameters])"
   ]
  },
  {
   "cell_type": "code",
   "execution_count": null,
   "metadata": {},
   "outputs": [
    {
     "data": {
      "text/plain": [
       "14799"
      ]
     },
     "execution_count": 10,
     "metadata": {},
     "output_type": "execute_result"
    }
   ],
   "source": [
    "params"
   ]
  },
  {
   "cell_type": "code",
   "execution_count": null,
   "metadata": {
    "id": "ofsEE6OaoyPh"
   },
   "outputs": [],
   "source": [
    "# Just for keeping records of training hists. \n",
    "ts = str(get_timestamp())\n",
    "# ts = \"0623152604\"\n",
    "save_txt_name = \"train_txt_{}.hst\".format(ts)\n",
    "save_trainhist_name = \"train_hist_{}.hst\".format(ts)\n",
    "save_train1hist_name = \"train_hist_recon{}.hst\".format(ts)\n",
    "save_train2hist_name = \"train_hist_reg{}.hst\".format(ts)\n",
    "save_valhist_name = \"val_hist_{}.hst\".format(ts)\n",
    "save_val1hist_name = \"val_hist_recon{}.hst\".format(ts)\n",
    "save_val2hist_name = \"val_hist_reg{}.hst\".format(ts)"
   ]
  },
  {
   "cell_type": "code",
   "execution_count": null,
   "metadata": {
    "id": "xUHYarigvT64"
   },
   "outputs": [],
   "source": [
    "train_losses = LossRecorder(model_save_dir + save_trainhist_name)\n",
    "train_recon_losses = LossRecorder(model_save_dir + save_train1hist_name)\n",
    "train_reg_losses = LossRecorder(model_save_dir + save_train2hist_name)\n",
    "\n",
    "valid_losses = LossRecorder(model_save_dir + save_valhist_name)\n",
    "valid_recon_losses = LossRecorder(model_save_dir + save_val1hist_name)\n",
    "valid_reg_losses = LossRecorder(model_save_dir + save_val2hist_name)\n",
    "text_hist = HistRecorder(model_save_dir + save_txt_name)"
   ]
  },
  {
   "cell_type": "code",
   "execution_count": null,
   "metadata": {
    "id": "-T4OYaoXsxe_"
   },
   "outputs": [],
   "source": [
    "READ = False\n",
    "# READ = True"
   ]
  },
  {
   "cell_type": "code",
   "execution_count": null,
   "metadata": {
    "id": "nVvnpUk5sWxb"
   },
   "outputs": [],
   "source": [
    "if READ: \n",
    "    valid_losses.read()\n",
    "    train_losses.read()\n",
    "\n",
    "    # model_name = last_model_namec\n",
    "    model_name = \"PT_0623152604_29_full.pt\"\n",
    "    model_path = os.path.join(model_save_dir, model_name)\n",
    "    state = torch.load(model_path)\n",
    "    model = PhonLearn_Net(1.0, SIZE_LIST, in_size=INPUT_DIM, \n",
    "                      in2_size=INTER_DIM_0, hid_size=SIZE_LIST[1], out_size=OUTPUT_DIM)\n",
    "    model.load_state_dict(state)\n",
    "    # device = torch.device('cuda' if torch.cuda.is_available() else 'cpu')\n",
    "    model.to(device)"
   ]
  },
  {
   "cell_type": "code",
   "execution_count": null,
   "metadata": {
    "id": "6OCx4nqP40fz"
   },
   "outputs": [],
   "source": [
    "mytrans = MyTransform(sample_rate=REC_SAMPLE_RATE, n_fft=N_FFT)\n",
    "ds = PhoneDataset(random_path, os.path.join(random_log_path, \"log.csv\"), transform=mytrans)\n",
    "small_len = int(0.1 * len(ds))\n",
    "other_len = len(ds) - small_len\n",
    "\n",
    "# # Randomly split the dataset into train and validation sets\n",
    "ds, other_ds = random_split(ds, [small_len, other_len])\n",
    "\n",
    "train_len = int(0.8 * len(ds))\n",
    "valid_len = len(ds) - train_len\n",
    "\n",
    "# Randomly split the dataset into train and validation sets\n",
    "train_ds, valid_ds = random_split(ds, [train_len, valid_len])\n",
    "\n",
    "train_loader = DataLoader(train_ds, batch_size=BATCH_SIZE, shuffle=True, num_workers=LOADER_WORKER, collate_fn=collate_fn)\n",
    "train_num = len(train_loader.dataset)\n",
    "\n",
    "valid_loader = DataLoader(valid_ds, batch_size=BATCH_SIZE, shuffle=False, num_workers=LOADER_WORKER, collate_fn=collate_fn)\n",
    "valid_num = len(valid_loader.dataset)"
   ]
  },
  {
   "cell_type": "code",
   "execution_count": null,
   "metadata": {},
   "outputs": [
    {
     "data": {
      "text/plain": [
       "178"
      ]
     },
     "execution_count": 16,
     "metadata": {},
     "output_type": "execute_result"
    }
   ],
   "source": [
    "len(train_loader)"
   ]
  },
  {
   "cell_type": "code",
   "execution_count": null,
   "metadata": {},
   "outputs": [],
   "source": [
<<<<<<< HEAD
    "EPOCHS = 35\n",
=======
    "EPOCHS = 30\n",
>>>>>>> 4ddac9715c7777201c8e33442db2c07fdb0e757f
    "BASE = 0"
   ]
  },
  {
   "cell_type": "code",
<<<<<<< HEAD
   "execution_count": null,
=======
   "execution_count": 18,
>>>>>>> 4ddac9715c7777201c8e33442db2c07fdb0e757f
   "metadata": {
    "colab": {
     "base_uri": "https://localhost:8080/"
    },
    "id": "y2n7doAD1uRi",
    "outputId": "e9c5bcb7-72db-4238-e83f-36e4dbe35748"
   },
   "outputs": [],
   "source": [
    "def train(): \n",
    "    for epoch in range(BASE, BASE + EPOCHS):\n",
    "        text_hist.print(\"Epoch {}\".format(epoch))\n",
    "\n",
    "        model.train()\n",
    "        train_loss = 0.\n",
    "        train_recon_loss = 0.\n",
    "        train_reg_loss = 0.\n",
    "        train_num = len(train_loader)    # train_loader\n",
    "        for idx, (x, x_lens) in enumerate(train_loader):\n",
    "            optimizer.zero_grad()\n",
    "            batch = x.size(0)\n",
    "            batch, length, dim = x.shape\n",
    "            y = x[:, :, :13]    # extract MFCC-only data\n",
    "            \n",
    "            x_mask = generate_mask_from_lengths_mat(x_lens, device=device)\n",
    "            \n",
    "            x = x.to(device)\n",
    "            y = y.to(device)\n",
    "\n",
    "            recon_x, attn_weight, z_2 = model(x, x_mask) # _ = hidden, z_1, z_2\n",
    "\n",
    "            # print(y)\n",
    "            # print(recon_x)\n",
    "            # raise Exception\n",
    "\n",
    "            recon_loss_val, reg_loss_val = model_loss.get_loss(recon_x, y, x_mask, z_2)\n",
    "            # reg_loss_val = torch.tensor(0)\n",
    "            loss = recon_loss_val + reg_loss_val\n",
    "\n",
    "            train_loss += loss.item()\n",
    "            train_recon_loss += recon_loss_val.item()\n",
    "            train_reg_loss += reg_loss_val.item()\n",
    "\n",
    "            loss.backward()\n",
    "            # torch.nn.utils.clip_grad_norm_(model.parameters(), clip_value)\n",
    "            optimizer.step()\n",
    "\n",
<<<<<<< HEAD
    "            if idx % 100 == 0:\n",
=======
    "            if idx % 10 == 0:\n",
>>>>>>> 4ddac9715c7777201c8e33442db2c07fdb0e757f
    "                text_hist.print(f\"Training loss {loss: .3f}: {recon_loss_val: .3f} + {reg_loss_val: .3f} in Step {idx}\")\n",
    "\n",
    "        train_losses.append(train_loss / train_num)\n",
    "        train_recon_losses.append(train_recon_loss / train_num)\n",
    "        train_reg_losses.append(train_reg_loss / train_num)\n",
    "        text_hist.print(f\"※※※Training loss {train_loss / train_num: .3f}: {train_recon_loss / train_num: .3f} + {train_reg_loss / train_num: .3f}※※※\")\n",
    "\n",
    "        last_model_name = \"PT_{}_{}_full.pt\".format(ts, epoch)\n",
    "        torch.save(model.state_dict(), os.path.join(model_save_dir, last_model_name))\n",
    "        text_hist.print(\"Training timepoint saved\")\n",
    "\n",
    "        model.eval()\n",
    "        valid_loss = 0.\n",
    "        valid_recon_loss = 0.\n",
    "        valid_reg_loss = 0.\n",
    "\n",
    "        valid_num = len(valid_loader)\n",
    "        for idx, (x, x_lens) in enumerate(valid_loader):\n",
    "            # batch = x.size(0)\n",
    "            y = x[:, :, :13]    # extract MFCC-only data\n",
    "            x_mask = generate_mask_from_lengths_mat(x_lens, device=device)\n",
    "            \n",
    "            x = x.to(device)\n",
    "            y = y.to(device)\n",
    "\n",
    "            recon_x, attn_weight, z_2 = model(x, x_mask) # _ = hidden, z_1, z_2\n",
    "\n",
    "            recon_loss_val, reg_loss_val = model_loss.get_loss(recon_x, y, x_mask, z_2)\n",
    "            loss = recon_loss_val + reg_loss_val\n",
    "\n",
    "            valid_loss += loss.item()\n",
    "            valid_recon_loss += recon_loss_val.item()\n",
    "            valid_reg_loss += reg_loss_val.item()\n",
    "\n",
    "            if idx % 100 == 0:\n",
    "                text_hist.print(f\"Valid loss {loss: .3f}: {recon_loss_val: .3f} + {reg_loss_val: .3f} in Step {idx}\")\n",
    "\n",
    "        valid_losses.append(valid_loss / valid_num)\n",
    "        valid_recon_losses.append(valid_recon_loss / valid_num)\n",
    "        valid_recon_losses.append(valid_reg_loss / valid_num)\n",
    "\n",
    "        text_hist.print(f\"※※※Valid loss {valid_loss / valid_num: .3f}: {valid_recon_loss / valid_num: .3f} + {valid_reg_loss / valid_num: .3f}※※※\")"
   ]
  },
  {
   "cell_type": "code",
   "execution_count": 20,
   "metadata": {},
   "outputs": [
    {
     "name": "stdout",
     "output_type": "stream",
     "text": [
      "Epoch 0\n",
      "Training loss  1.011:  1.009 +  0.002 in Step 0\n",
      "Training loss  1.013:  1.002 +  0.010 in Step 10\n",
      "Training loss  1.015:  1.000 +  0.015 in Step 20\n",
      "Training loss  1.016:  1.000 +  0.016 in Step 30\n",
      "Training loss  1.019:  1.000 +  0.019 in Step 40\n",
      "Training loss  1.014:  1.000 +  0.014 in Step 50\n",
      "Training loss  1.016:  1.000 +  0.016 in Step 60\n",
      "Training loss  1.012:  0.999 +  0.013 in Step 70\n",
      "Training loss  1.014:  1.000 +  0.014 in Step 80\n",
      "Training loss  1.008:  0.999 +  0.008 in Step 90\n",
      "Training loss  1.007:  1.000 +  0.007 in Step 100\n",
      "Training loss  1.011:  1.000 +  0.011 in Step 110\n",
      "Training loss  1.008:  0.999 +  0.008 in Step 120\n",
      "Training loss  1.007:  0.999 +  0.008 in Step 130\n",
      "Training loss  1.006:  1.000 +  0.006 in Step 140\n",
      "Training loss  1.007:  1.000 +  0.007 in Step 150\n",
      "Training loss  1.004:  0.999 +  0.005 in Step 160\n",
      "Training loss  1.004:  1.000 +  0.004 in Step 170\n",
      "※※※Training loss  1.011:  1.000 +  0.010※※※\n",
      "Training timepoint saved\n",
      "Valid loss  1.000:  1.000 +  0.000 in Step 0\n",
      "※※※Valid loss  1.000:  1.000 +  0.000※※※\n",
      "Epoch 1\n",
      "Training loss  1.006:  1.000 +  0.006 in Step 0\n",
      "Training loss  1.005:  1.000 +  0.006 in Step 10\n",
      "Training loss  1.006:  1.000 +  0.006 in Step 20\n",
      "Training loss  1.009:  1.000 +  0.009 in Step 30\n",
      "Training loss  1.012:  1.000 +  0.012 in Step 40\n",
      "Training loss  1.023:  1.000 +  0.023 in Step 50\n",
      "Training loss  1.031:  0.999 +  0.032 in Step 60\n",
      "Training loss  1.054:  1.000 +  0.054 in Step 70\n",
      "Training loss  1.089:  0.997 +  0.092 in Step 80\n",
      "Training loss  1.081:  0.997 +  0.084 in Step 90\n",
      "Training loss  1.077:  0.996 +  0.081 in Step 100\n",
      "Training loss  1.049:  0.996 +  0.053 in Step 110\n",
      "Training loss  1.037:  0.993 +  0.044 in Step 120\n",
      "Training loss  1.030:  0.995 +  0.035 in Step 130\n",
      "Training loss  1.049:  0.997 +  0.052 in Step 140\n",
      "Training loss  1.047:  0.994 +  0.053 in Step 150\n",
      "Training loss  1.090:  0.994 +  0.097 in Step 160\n",
      "Training loss  1.154:  0.995 +  0.159 in Step 170\n",
      "※※※Training loss  1.050:  0.997 +  0.053※※※\n",
      "Training timepoint saved\n",
      "Valid loss  1.243:  0.991 +  0.253 in Step 0\n",
      "※※※Valid loss  1.250:  0.990 +  0.259※※※\n",
      "Epoch 2\n",
      "Training loss  1.186:  0.993 +  0.193 in Step 0\n",
      "Training loss  1.194:  0.993 +  0.201 in Step 10\n",
      "Training loss  1.253:  0.996 +  0.257 in Step 20\n",
      "Training loss  1.273:  0.992 +  0.281 in Step 30\n",
      "Training loss  1.222:  0.992 +  0.231 in Step 40\n",
      "Training loss  1.303:  0.994 +  0.309 in Step 50\n",
      "Training loss  1.313:  0.994 +  0.319 in Step 60\n",
      "Training loss  1.251:  0.995 +  0.256 in Step 70\n",
      "Training loss  1.289:  0.991 +  0.298 in Step 80\n",
      "Training loss  1.248:  0.990 +  0.258 in Step 90\n",
      "Training loss  1.281:  0.988 +  0.293 in Step 100\n",
      "Training loss  1.234:  0.992 +  0.241 in Step 110\n",
      "Training loss  1.238:  0.989 +  0.249 in Step 120\n",
      "Training loss  1.202:  0.989 +  0.213 in Step 130\n",
      "Training loss  1.285:  0.990 +  0.295 in Step 140\n",
      "Training loss  1.298:  0.988 +  0.310 in Step 150\n",
      "Training loss  1.266:  0.988 +  0.277 in Step 160\n",
      "Training loss  1.302:  0.988 +  0.314 in Step 170\n",
      "※※※Training loss  1.256:  0.990 +  0.265※※※\n",
      "Training timepoint saved\n",
      "Valid loss  1.319:  0.982 +  0.337 in Step 0\n",
      "※※※Valid loss  1.332:  0.979 +  0.353※※※\n",
      "Epoch 3\n",
      "Training loss  1.274:  0.987 +  0.287 in Step 0\n",
      "Training loss  1.284:  0.985 +  0.299 in Step 10\n",
      "Training loss  1.290:  0.984 +  0.306 in Step 20\n",
      "Training loss  1.194:  0.988 +  0.205 in Step 30\n",
      "Training loss  1.267:  0.987 +  0.280 in Step 40\n",
      "Training loss  1.293:  0.984 +  0.309 in Step 50\n",
      "Training loss  1.276:  0.983 +  0.293 in Step 60\n",
      "Training loss  1.260:  0.988 +  0.272 in Step 70\n",
      "Training loss  1.243:  0.987 +  0.257 in Step 80\n",
      "Training loss  1.208:  0.988 +  0.220 in Step 90\n",
      "Training loss  1.146:  0.985 +  0.161 in Step 100\n",
      "Training loss  1.152:  0.987 +  0.165 in Step 110\n",
      "Training loss  1.224:  0.992 +  0.232 in Step 120\n",
      "Training loss  1.057:  0.991 +  0.065 in Step 130\n",
      "Training loss  1.054:  0.987 +  0.067 in Step 140\n",
      "Training loss  1.110:  0.990 +  0.120 in Step 150\n",
      "Training loss  1.121:  0.985 +  0.136 in Step 160\n",
      "Training loss  1.093:  0.987 +  0.106 in Step 170\n",
      "※※※Training loss  1.193:  0.986 +  0.207※※※\n",
      "Training timepoint saved\n",
      "Valid loss  1.234:  0.977 +  0.256 in Step 0\n",
      "※※※Valid loss  1.225:  0.974 +  0.251※※※\n",
      "Epoch 4\n",
      "Training loss  1.120:  0.983 +  0.137 in Step 0\n",
      "Training loss  1.179:  0.986 +  0.193 in Step 10\n",
      "Training loss  1.195:  0.985 +  0.209 in Step 20\n",
      "Training loss  1.180:  0.981 +  0.199 in Step 30\n",
      "Training loss  1.233:  0.983 +  0.250 in Step 40\n",
      "Training loss  1.186:  0.986 +  0.200 in Step 50\n",
      "Training loss  1.233:  0.982 +  0.252 in Step 60\n",
      "Training loss  1.289:  0.984 +  0.305 in Step 70\n",
      "Training loss  1.364:  0.984 +  0.379 in Step 80\n",
      "Training loss  1.300:  0.986 +  0.314 in Step 90\n",
      "Training loss  1.313:  0.983 +  0.330 in Step 100\n",
      "Training loss  1.281:  0.981 +  0.300 in Step 110\n",
      "Training loss  1.227:  0.979 +  0.248 in Step 120\n",
      "Training loss  1.251:  0.987 +  0.264 in Step 130\n",
      "Training loss  1.199:  0.984 +  0.214 in Step 140\n",
      "Training loss  1.213:  0.980 +  0.234 in Step 150\n",
      "Training loss  1.183:  0.983 +  0.201 in Step 160\n",
      "Training loss  1.213:  0.983 +  0.229 in Step 170\n",
      "※※※Training loss  1.235:  0.982 +  0.253※※※\n",
      "Training timepoint saved\n",
      "Valid loss  1.294:  0.974 +  0.321 in Step 0\n",
      "※※※Valid loss  1.272:  0.968 +  0.304※※※\n",
      "Epoch 5\n",
      "Training loss  1.210:  0.977 +  0.233 in Step 0\n",
      "Training loss  1.249:  0.975 +  0.274 in Step 10\n",
      "Training loss  1.288:  0.979 +  0.308 in Step 20\n",
      "Training loss  1.249:  0.982 +  0.268 in Step 30\n",
      "Training loss  1.176:  0.980 +  0.197 in Step 40\n",
      "Training loss  1.208:  0.982 +  0.225 in Step 50\n",
      "Training loss  1.174:  0.978 +  0.196 in Step 60\n",
      "Training loss  1.215:  0.979 +  0.236 in Step 70\n",
      "Training loss  1.190:  0.977 +  0.213 in Step 80\n",
      "Training loss  1.196:  0.983 +  0.213 in Step 90\n",
      "Training loss  1.175:  0.977 +  0.198 in Step 100\n",
      "Training loss  1.198:  0.980 +  0.218 in Step 110\n",
      "Training loss  1.143:  0.982 +  0.161 in Step 120\n",
      "Training loss  1.187:  0.974 +  0.212 in Step 130\n",
      "Training loss  1.209:  0.976 +  0.233 in Step 140\n",
      "Training loss  1.143:  0.986 +  0.157 in Step 150\n",
      "Training loss  1.213:  0.982 +  0.231 in Step 160\n",
      "Training loss  1.198:  0.983 +  0.215 in Step 170\n",
      "※※※Training loss  1.200:  0.979 +  0.221※※※\n",
      "Training timepoint saved\n",
      "Valid loss  1.217:  0.969 +  0.248 in Step 0\n",
      "※※※Valid loss  1.202:  0.965 +  0.237※※※\n",
      "Epoch 6\n",
      "Training loss  1.189:  0.977 +  0.211 in Step 0\n",
      "Training loss  1.163:  0.981 +  0.183 in Step 10\n",
      "Training loss  1.117:  0.973 +  0.144 in Step 20\n",
      "Training loss  1.129:  0.978 +  0.151 in Step 30\n",
      "Training loss  1.181:  0.973 +  0.208 in Step 40\n",
      "Training loss  1.198:  0.974 +  0.224 in Step 50\n",
      "Training loss  1.152:  0.974 +  0.178 in Step 60\n",
      "Training loss  1.155:  0.974 +  0.181 in Step 70\n",
      "Training loss  1.113:  0.975 +  0.138 in Step 80\n",
      "Training loss  1.124:  0.979 +  0.144 in Step 90\n",
      "Training loss  1.088:  0.980 +  0.108 in Step 100\n",
      "Training loss  1.107:  0.973 +  0.135 in Step 110\n",
      "Training loss  1.083:  0.969 +  0.114 in Step 120\n",
      "Training loss  1.086:  0.973 +  0.113 in Step 130\n",
      "Training loss  1.054:  0.980 +  0.074 in Step 140\n",
      "Training loss  1.193:  0.976 +  0.217 in Step 150\n",
      "Training loss  1.190:  0.978 +  0.212 in Step 160\n",
      "Training loss  1.145:  0.977 +  0.168 in Step 170\n",
      "※※※Training loss  1.134:  0.978 +  0.156※※※\n",
      "Training timepoint saved\n",
      "Valid loss  1.241:  0.967 +  0.273 in Step 0\n",
      "※※※Valid loss  1.219:  0.964 +  0.255※※※\n",
      "Epoch 7\n",
      "Training loss  1.182:  0.981 +  0.201 in Step 0\n",
      "Training loss  1.147:  0.978 +  0.169 in Step 10\n",
      "Training loss  1.137:  0.973 +  0.164 in Step 20\n",
      "Training loss  1.150:  0.978 +  0.171 in Step 30\n",
      "Training loss  1.132:  0.973 +  0.159 in Step 40\n",
      "Training loss  1.134:  0.976 +  0.159 in Step 50\n",
      "Training loss  1.177:  0.975 +  0.201 in Step 60\n",
      "Training loss  1.165:  0.976 +  0.189 in Step 70\n",
      "Training loss  1.128:  0.977 +  0.151 in Step 80\n",
      "Training loss  1.170:  0.978 +  0.192 in Step 90\n",
      "Training loss  1.165:  0.982 +  0.183 in Step 100\n",
      "Training loss  1.167:  0.968 +  0.199 in Step 110\n",
      "Training loss  1.152:  0.977 +  0.175 in Step 120\n",
      "Training loss  1.198:  0.978 +  0.219 in Step 130\n",
      "Training loss  1.147:  0.975 +  0.172 in Step 140\n",
      "Training loss  1.122:  0.978 +  0.144 in Step 150\n",
      "Training loss  1.122:  0.974 +  0.148 in Step 160\n",
      "Training loss  1.134:  0.973 +  0.160 in Step 170\n",
      "※※※Training loss  1.155:  0.977 +  0.178※※※\n",
      "Training timepoint saved\n",
      "Valid loss  1.166:  0.966 +  0.201 in Step 0\n",
      "※※※Valid loss  1.158:  0.961 +  0.197※※※\n",
      "Epoch 8\n",
      "Training loss  1.126:  0.974 +  0.151 in Step 0\n",
      "Training loss  1.176:  0.983 +  0.193 in Step 10\n",
      "Training loss  1.171:  0.973 +  0.198 in Step 20\n",
      "Training loss  1.164:  0.970 +  0.195 in Step 30\n",
      "Training loss  1.122:  0.980 +  0.142 in Step 40\n",
      "Training loss  1.133:  0.977 +  0.157 in Step 50\n",
      "Training loss  1.143:  0.981 +  0.162 in Step 60\n",
      "Training loss  1.147:  0.979 +  0.168 in Step 70\n",
      "Training loss  1.097:  0.979 +  0.118 in Step 80\n",
      "Training loss  1.129:  0.980 +  0.149 in Step 90\n",
      "Training loss  1.146:  0.981 +  0.165 in Step 100\n",
      "Training loss  1.151:  0.979 +  0.172 in Step 110\n",
      "Training loss  1.155:  0.972 +  0.183 in Step 120\n",
      "Training loss  1.136:  0.975 +  0.161 in Step 130\n",
      "Training loss  1.104:  0.982 +  0.122 in Step 140\n",
      "Training loss  1.103:  0.982 +  0.121 in Step 150\n",
      "Training loss  1.128:  0.972 +  0.156 in Step 160\n",
      "Training loss  1.084:  0.976 +  0.108 in Step 170\n",
      "※※※Training loss  1.137:  0.976 +  0.162※※※\n",
      "Training timepoint saved\n",
      "Valid loss  1.147:  0.966 +  0.181 in Step 0\n",
      "※※※Valid loss  1.133:  0.963 +  0.170※※※\n",
      "Epoch 9\n",
      "Training loss  1.106:  0.977 +  0.130 in Step 0\n"
     ]
    },
    {
     "ename": "KeyboardInterrupt",
     "evalue": "",
     "output_type": "error",
     "traceback": [
      "\u001b[1;31m---------------------------------------------------------------------------\u001b[0m",
      "\u001b[1;31mKeyboardInterrupt\u001b[0m                         Traceback (most recent call last)",
      "Cell \u001b[1;32mIn[20], line 2\u001b[0m\n\u001b[0;32m      1\u001b[0m \u001b[39mif\u001b[39;00m \u001b[39m__name__\u001b[39m \u001b[39m==\u001b[39m \u001b[39m\"\u001b[39m\u001b[39m__main__\u001b[39m\u001b[39m\"\u001b[39m: \n\u001b[1;32m----> 2\u001b[0m     train()\n",
      "Cell \u001b[1;32mIn[18], line 10\u001b[0m, in \u001b[0;36mtrain\u001b[1;34m()\u001b[0m\n\u001b[0;32m      8\u001b[0m train_reg_loss \u001b[39m=\u001b[39m \u001b[39m0.\u001b[39m\n\u001b[0;32m      9\u001b[0m train_num \u001b[39m=\u001b[39m \u001b[39mlen\u001b[39m(train_loader)    \u001b[39m# train_loader\u001b[39;00m\n\u001b[1;32m---> 10\u001b[0m \u001b[39mfor\u001b[39;00m idx, (x, x_lens) \u001b[39min\u001b[39;00m \u001b[39menumerate\u001b[39m(train_loader):\n\u001b[0;32m     11\u001b[0m     optimizer\u001b[39m.\u001b[39mzero_grad()\n\u001b[0;32m     12\u001b[0m     batch \u001b[39m=\u001b[39m x\u001b[39m.\u001b[39msize(\u001b[39m0\u001b[39m)\n",
      "File \u001b[1;32ma:\\ProgramData\\anaconda3\\envs\\wavln\\lib\\site-packages\\torch\\utils\\data\\dataloader.py:633\u001b[0m, in \u001b[0;36m_BaseDataLoaderIter.__next__\u001b[1;34m(self)\u001b[0m\n\u001b[0;32m    630\u001b[0m \u001b[39mif\u001b[39;00m \u001b[39mself\u001b[39m\u001b[39m.\u001b[39m_sampler_iter \u001b[39mis\u001b[39;00m \u001b[39mNone\u001b[39;00m:\n\u001b[0;32m    631\u001b[0m     \u001b[39m# TODO(https://github.com/pytorch/pytorch/issues/76750)\u001b[39;00m\n\u001b[0;32m    632\u001b[0m     \u001b[39mself\u001b[39m\u001b[39m.\u001b[39m_reset()  \u001b[39m# type: ignore[call-arg]\u001b[39;00m\n\u001b[1;32m--> 633\u001b[0m data \u001b[39m=\u001b[39m \u001b[39mself\u001b[39;49m\u001b[39m.\u001b[39;49m_next_data()\n\u001b[0;32m    634\u001b[0m \u001b[39mself\u001b[39m\u001b[39m.\u001b[39m_num_yielded \u001b[39m+\u001b[39m\u001b[39m=\u001b[39m \u001b[39m1\u001b[39m\n\u001b[0;32m    635\u001b[0m \u001b[39mif\u001b[39;00m \u001b[39mself\u001b[39m\u001b[39m.\u001b[39m_dataset_kind \u001b[39m==\u001b[39m _DatasetKind\u001b[39m.\u001b[39mIterable \u001b[39mand\u001b[39;00m \\\n\u001b[0;32m    636\u001b[0m         \u001b[39mself\u001b[39m\u001b[39m.\u001b[39m_IterableDataset_len_called \u001b[39mis\u001b[39;00m \u001b[39mnot\u001b[39;00m \u001b[39mNone\u001b[39;00m \u001b[39mand\u001b[39;00m \\\n\u001b[0;32m    637\u001b[0m         \u001b[39mself\u001b[39m\u001b[39m.\u001b[39m_num_yielded \u001b[39m>\u001b[39m \u001b[39mself\u001b[39m\u001b[39m.\u001b[39m_IterableDataset_len_called:\n",
      "File \u001b[1;32ma:\\ProgramData\\anaconda3\\envs\\wavln\\lib\\site-packages\\torch\\utils\\data\\dataloader.py:677\u001b[0m, in \u001b[0;36m_SingleProcessDataLoaderIter._next_data\u001b[1;34m(self)\u001b[0m\n\u001b[0;32m    675\u001b[0m \u001b[39mdef\u001b[39;00m \u001b[39m_next_data\u001b[39m(\u001b[39mself\u001b[39m):\n\u001b[0;32m    676\u001b[0m     index \u001b[39m=\u001b[39m \u001b[39mself\u001b[39m\u001b[39m.\u001b[39m_next_index()  \u001b[39m# may raise StopIteration\u001b[39;00m\n\u001b[1;32m--> 677\u001b[0m     data \u001b[39m=\u001b[39m \u001b[39mself\u001b[39;49m\u001b[39m.\u001b[39;49m_dataset_fetcher\u001b[39m.\u001b[39;49mfetch(index)  \u001b[39m# may raise StopIteration\u001b[39;00m\n\u001b[0;32m    678\u001b[0m     \u001b[39mif\u001b[39;00m \u001b[39mself\u001b[39m\u001b[39m.\u001b[39m_pin_memory:\n\u001b[0;32m    679\u001b[0m         data \u001b[39m=\u001b[39m _utils\u001b[39m.\u001b[39mpin_memory\u001b[39m.\u001b[39mpin_memory(data, \u001b[39mself\u001b[39m\u001b[39m.\u001b[39m_pin_memory_device)\n",
      "File \u001b[1;32ma:\\ProgramData\\anaconda3\\envs\\wavln\\lib\\site-packages\\torch\\utils\\data\\_utils\\fetch.py:51\u001b[0m, in \u001b[0;36m_MapDatasetFetcher.fetch\u001b[1;34m(self, possibly_batched_index)\u001b[0m\n\u001b[0;32m     49\u001b[0m         data \u001b[39m=\u001b[39m \u001b[39mself\u001b[39m\u001b[39m.\u001b[39mdataset\u001b[39m.\u001b[39m__getitems__(possibly_batched_index)\n\u001b[0;32m     50\u001b[0m     \u001b[39melse\u001b[39;00m:\n\u001b[1;32m---> 51\u001b[0m         data \u001b[39m=\u001b[39m [\u001b[39mself\u001b[39m\u001b[39m.\u001b[39mdataset[idx] \u001b[39mfor\u001b[39;00m idx \u001b[39min\u001b[39;00m possibly_batched_index]\n\u001b[0;32m     52\u001b[0m \u001b[39melse\u001b[39;00m:\n\u001b[0;32m     53\u001b[0m     data \u001b[39m=\u001b[39m \u001b[39mself\u001b[39m\u001b[39m.\u001b[39mdataset[possibly_batched_index]\n",
      "File \u001b[1;32ma:\\ProgramData\\anaconda3\\envs\\wavln\\lib\\site-packages\\torch\\utils\\data\\_utils\\fetch.py:51\u001b[0m, in \u001b[0;36m<listcomp>\u001b[1;34m(.0)\u001b[0m\n\u001b[0;32m     49\u001b[0m         data \u001b[39m=\u001b[39m \u001b[39mself\u001b[39m\u001b[39m.\u001b[39mdataset\u001b[39m.\u001b[39m__getitems__(possibly_batched_index)\n\u001b[0;32m     50\u001b[0m     \u001b[39melse\u001b[39;00m:\n\u001b[1;32m---> 51\u001b[0m         data \u001b[39m=\u001b[39m [\u001b[39mself\u001b[39;49m\u001b[39m.\u001b[39;49mdataset[idx] \u001b[39mfor\u001b[39;00m idx \u001b[39min\u001b[39;00m possibly_batched_index]\n\u001b[0;32m     52\u001b[0m \u001b[39melse\u001b[39;00m:\n\u001b[0;32m     53\u001b[0m     data \u001b[39m=\u001b[39m \u001b[39mself\u001b[39m\u001b[39m.\u001b[39mdataset[possibly_batched_index]\n",
      "File \u001b[1;32ma:\\ProgramData\\anaconda3\\envs\\wavln\\lib\\site-packages\\torch\\utils\\data\\dataset.py:298\u001b[0m, in \u001b[0;36mSubset.__getitem__\u001b[1;34m(self, idx)\u001b[0m\n\u001b[0;32m    296\u001b[0m \u001b[39mif\u001b[39;00m \u001b[39misinstance\u001b[39m(idx, \u001b[39mlist\u001b[39m):\n\u001b[0;32m    297\u001b[0m     \u001b[39mreturn\u001b[39;00m \u001b[39mself\u001b[39m\u001b[39m.\u001b[39mdataset[[\u001b[39mself\u001b[39m\u001b[39m.\u001b[39mindices[i] \u001b[39mfor\u001b[39;00m i \u001b[39min\u001b[39;00m idx]]\n\u001b[1;32m--> 298\u001b[0m \u001b[39mreturn\u001b[39;00m \u001b[39mself\u001b[39;49m\u001b[39m.\u001b[39;49mdataset[\u001b[39mself\u001b[39;49m\u001b[39m.\u001b[39;49mindices[idx]]\n",
      "File \u001b[1;32ma:\\ProgramData\\anaconda3\\envs\\wavln\\lib\\site-packages\\torch\\utils\\data\\dataset.py:298\u001b[0m, in \u001b[0;36mSubset.__getitem__\u001b[1;34m(self, idx)\u001b[0m\n\u001b[0;32m    296\u001b[0m \u001b[39mif\u001b[39;00m \u001b[39misinstance\u001b[39m(idx, \u001b[39mlist\u001b[39m):\n\u001b[0;32m    297\u001b[0m     \u001b[39mreturn\u001b[39;00m \u001b[39mself\u001b[39m\u001b[39m.\u001b[39mdataset[[\u001b[39mself\u001b[39m\u001b[39m.\u001b[39mindices[i] \u001b[39mfor\u001b[39;00m i \u001b[39min\u001b[39;00m idx]]\n\u001b[1;32m--> 298\u001b[0m \u001b[39mreturn\u001b[39;00m \u001b[39mself\u001b[39;49m\u001b[39m.\u001b[39;49mdataset[\u001b[39mself\u001b[39;49m\u001b[39m.\u001b[39;49mindices[idx]]\n",
      "Cell \u001b[1;32mIn[5], line 80\u001b[0m, in \u001b[0;36mPhoneDataset.__getitem__\u001b[1;34m(self, idx)\u001b[0m\n\u001b[0;32m     78\u001b[0m data, sample_rate \u001b[39m=\u001b[39m torchaudio\u001b[39m.\u001b[39mload(wav_name, normalize\u001b[39m=\u001b[39m\u001b[39mTrue\u001b[39;00m)\n\u001b[0;32m     79\u001b[0m \u001b[39mif\u001b[39;00m \u001b[39mself\u001b[39m\u001b[39m.\u001b[39mtransform:\n\u001b[1;32m---> 80\u001b[0m     data \u001b[39m=\u001b[39m \u001b[39mself\u001b[39;49m\u001b[39m.\u001b[39;49mtransform(data, sr\u001b[39m=\u001b[39;49msample_rate)\n\u001b[0;32m     82\u001b[0m \u001b[39m# # Prepare for possible in-out discrepencies in the future\u001b[39;00m\n\u001b[0;32m     83\u001b[0m \u001b[39m# input_data = data\u001b[39;00m\n\u001b[0;32m     84\u001b[0m \u001b[39m# output_data = data\u001b[39;00m\n\u001b[0;32m     86\u001b[0m \u001b[39mreturn\u001b[39;00m data\n",
      "File \u001b[1;32ma:\\ProgramData\\anaconda3\\envs\\wavln\\lib\\site-packages\\torch\\nn\\modules\\module.py:1501\u001b[0m, in \u001b[0;36mModule._call_impl\u001b[1;34m(self, *args, **kwargs)\u001b[0m\n\u001b[0;32m   1496\u001b[0m \u001b[39m# If we don't have any hooks, we want to skip the rest of the logic in\u001b[39;00m\n\u001b[0;32m   1497\u001b[0m \u001b[39m# this function, and just call forward.\u001b[39;00m\n\u001b[0;32m   1498\u001b[0m \u001b[39mif\u001b[39;00m \u001b[39mnot\u001b[39;00m (\u001b[39mself\u001b[39m\u001b[39m.\u001b[39m_backward_hooks \u001b[39mor\u001b[39;00m \u001b[39mself\u001b[39m\u001b[39m.\u001b[39m_backward_pre_hooks \u001b[39mor\u001b[39;00m \u001b[39mself\u001b[39m\u001b[39m.\u001b[39m_forward_hooks \u001b[39mor\u001b[39;00m \u001b[39mself\u001b[39m\u001b[39m.\u001b[39m_forward_pre_hooks\n\u001b[0;32m   1499\u001b[0m         \u001b[39mor\u001b[39;00m _global_backward_pre_hooks \u001b[39mor\u001b[39;00m _global_backward_hooks\n\u001b[0;32m   1500\u001b[0m         \u001b[39mor\u001b[39;00m _global_forward_hooks \u001b[39mor\u001b[39;00m _global_forward_pre_hooks):\n\u001b[1;32m-> 1501\u001b[0m     \u001b[39mreturn\u001b[39;00m forward_call(\u001b[39m*\u001b[39margs, \u001b[39m*\u001b[39m\u001b[39m*\u001b[39mkwargs)\n\u001b[0;32m   1502\u001b[0m \u001b[39m# Do not call functions when jit is used\u001b[39;00m\n\u001b[0;32m   1503\u001b[0m full_backward_hooks, non_full_backward_hooks \u001b[39m=\u001b[39m [], []\n",
      "Cell \u001b[1;32mIn[5], line 108\u001b[0m, in \u001b[0;36mMyTransform.forward\u001b[1;34m(self, waveform, sr)\u001b[0m\n\u001b[0;32m    105\u001b[0m feature \u001b[39m=\u001b[39m torchaudio\u001b[39m.\u001b[39mcompliance\u001b[39m.\u001b[39mkaldi\u001b[39m.\u001b[39mmfcc(waveform, sample_frequency\u001b[39m=\u001b[39msr)\n\u001b[0;32m    107\u001b[0m \u001b[39m# add deltas\u001b[39;00m\n\u001b[1;32m--> 108\u001b[0m d1 \u001b[39m=\u001b[39m torchaudio\u001b[39m.\u001b[39;49mfunctional\u001b[39m.\u001b[39;49mcompute_deltas(feature)\n\u001b[0;32m    109\u001b[0m d2 \u001b[39m=\u001b[39m torchaudio\u001b[39m.\u001b[39mfunctional\u001b[39m.\u001b[39mcompute_deltas(d1)\n\u001b[0;32m    110\u001b[0m feature \u001b[39m=\u001b[39m torch\u001b[39m.\u001b[39mcat([feature, d1, d2], dim\u001b[39m=\u001b[39m\u001b[39m-\u001b[39m\u001b[39m1\u001b[39m)\n",
      "File \u001b[1;32ma:\\ProgramData\\anaconda3\\envs\\wavln\\lib\\site-packages\\torchaudio\\functional\\functional.py:978\u001b[0m, in \u001b[0;36mcompute_deltas\u001b[1;34m(specgram, win_length, mode)\u001b[0m\n\u001b[0;32m    974\u001b[0m specgram \u001b[39m=\u001b[39m torch\u001b[39m.\u001b[39mnn\u001b[39m.\u001b[39mfunctional\u001b[39m.\u001b[39mpad(specgram, (n, n), mode\u001b[39m=\u001b[39mmode)\n\u001b[0;32m    976\u001b[0m kernel \u001b[39m=\u001b[39m torch\u001b[39m.\u001b[39marange(\u001b[39m-\u001b[39mn, n \u001b[39m+\u001b[39m \u001b[39m1\u001b[39m, \u001b[39m1\u001b[39m, device\u001b[39m=\u001b[39mdevice, dtype\u001b[39m=\u001b[39mdtype)\u001b[39m.\u001b[39mrepeat(specgram\u001b[39m.\u001b[39mshape[\u001b[39m1\u001b[39m], \u001b[39m1\u001b[39m, \u001b[39m1\u001b[39m)\n\u001b[1;32m--> 978\u001b[0m output \u001b[39m=\u001b[39m torch\u001b[39m.\u001b[39;49mnn\u001b[39m.\u001b[39;49mfunctional\u001b[39m.\u001b[39;49mconv1d(specgram, kernel, groups\u001b[39m=\u001b[39;49mspecgram\u001b[39m.\u001b[39;49mshape[\u001b[39m1\u001b[39;49m]) \u001b[39m/\u001b[39m denom\n\u001b[0;32m    980\u001b[0m \u001b[39m# unpack batch\u001b[39;00m\n\u001b[0;32m    981\u001b[0m output \u001b[39m=\u001b[39m output\u001b[39m.\u001b[39mreshape(shape)\n",
      "\u001b[1;31mKeyboardInterrupt\u001b[0m: "
     ]
    }
   ],
   "source": [
    "if __name__ == \"__main__\": \n",
    "    train()"
   ]
  },
  {
   "cell_type": "code",
   "execution_count": 21,
   "metadata": {
    "id": "KSTTwi31xAvh"
   },
   "outputs": [],
   "source": [
    "### Save\n",
    "train_losses.save()\n",
    "train_recon_losses.save()\n",
    "train_reg_losses.save()\n",
    "\n",
    "valid_losses.save()\n",
    "valid_recon_losses.save()\n",
    "valid_reg_losses.save()\n",
    "\n",
    "text_hist.save()"
   ]
  },
  {
   "cell_type": "code",
   "execution_count": 22,
   "metadata": {
    "colab": {
     "base_uri": "https://localhost:8080/",
     "height": 281
    },
    "id": "3yaMyIzH12RD",
    "outputId": "1426c24a-c60c-48c2-8690-f3a07bb9ba7b"
   },
   "outputs": [
    {
     "data": {
      "text/plain": [
       "<matplotlib.legend.Legend at 0x24249e031f0>"
      ]
     },
     "execution_count": 22,
     "metadata": {},
     "output_type": "execute_result"
    },
    {
     "data": {
      "image/png": "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",
      "text/plain": [
       "<Figure size 640x480 with 1 Axes>"
      ]
     },
     "metadata": {},
     "output_type": "display_data"
    }
   ],
   "source": [
    "plt.plot(train_losses.get(), label='Train')\n",
    "plt.plot(valid_losses.get(), label='Valid')\n",
    "plt.title(\"Learning Curve Total Loss\")\n",
    "plt.legend()"
   ]
  },
  {
   "cell_type": "code",
   "execution_count": 23,
   "metadata": {},
<<<<<<< HEAD
   "outputs": [],
   "source": [
    "plt.plot(train_recon_losses.get(), label='Train')\n",
    "plt.plot(valid_recon_losses.get(), label='Valid')\n",
=======
   "outputs": [
    {
     "data": {
      "text/plain": [
       "<matplotlib.legend.Legend at 0x24249e011e0>"
      ]
     },
     "execution_count": 23,
     "metadata": {},
     "output_type": "execute_result"
    },
    {
     "data": {
      "image/png": "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",
      "text/plain": [
       "<Figure size 640x480 with 1 Axes>"
      ]
     },
     "metadata": {},
     "output_type": "display_data"
    }
   ],
   "source": [
    "plt.plot(train_recon_losses.get(), label='Train')\n",
    "plt.plot(train_recon_losses.get(), label='Valid')\n",
>>>>>>> 4ddac9715c7777201c8e33442db2c07fdb0e757f
    "plt.title(\"Learning Curve Recon Loss\")\n",
    "plt.legend()"
   ]
  },
  {
   "cell_type": "code",
<<<<<<< HEAD
   "execution_count": null,
   "metadata": {},
   "outputs": [],
=======
   "execution_count": 24,
   "metadata": {},
   "outputs": [
    {
     "data": {
      "text/plain": [
       "<matplotlib.legend.Legend at 0x2424a440910>"
      ]
     },
     "execution_count": 24,
     "metadata": {},
     "output_type": "execute_result"
    },
    {
     "data": {
      "image/png": "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",
      "text/plain": [
       "<Figure size 640x480 with 1 Axes>"
      ]
     },
     "metadata": {},
     "output_type": "display_data"
    }
   ],
>>>>>>> 4ddac9715c7777201c8e33442db2c07fdb0e757f
   "source": [
    "plt.plot(train_reg_losses.get(), label='Train')\n",
    "plt.plot(valid_reg_losses.get(), label='Valid')\n",
    "plt.title(\"Learning Curve Reg Loss\")\n",
    "plt.legend()"
   ]
  },
  {
   "cell_type": "code",
   "execution_count": 25,
   "metadata": {
    "colab": {
     "base_uri": "https://localhost:8080/",
     "height": 35
    },
    "id": "_UcLyHcQMGu0",
    "outputId": "4b56200c-1dc4-4286-b51a-d19e9c75ddd9"
   },
   "outputs": [
    {
     "data": {
      "text/plain": [
       "'0613160106'"
      ]
     },
     "execution_count": 25,
     "metadata": {},
     "output_type": "execute_result"
    }
   ],
   "source": [
    "ts"
   ]
  },
  {
   "attachments": {},
   "cell_type": "markdown",
   "metadata": {
    "id": "E6-6g-sW3zeg"
   },
   "source": [
    "We can see that with Sigmoid the model seems to perform slightly worse, but this should not be a big problem. Then the decision might depend more on whether the use of it is common and justifiable. I don't think it's common, and the use of it does not seem to be analytically necessary. "
   ]
  },
  {
   "cell_type": "code",
   "execution_count": null,
   "metadata": {
    "id": "tNJ0DAlaWrEE"
   },
   "outputs": [],
   "source": [
    "class ResAECluster(ResAE): \n",
    "    def __init__(self, input_dim=INPUT_DIM, inter_dim1=INTER_DIM_1, inter_dim2=INTER_DIM_2, inter_dim3=INTER_DIM_3, latent_dim=LATENT_DIM, output_dim=OUTPUT_DIM): \n",
    "        super().__init__(input_dim, inter_dim1, inter_dim2, inter_dim3, latent_dim, output_dim)\n",
    "\n",
    "    def forward(self, x):\n",
    "        org_size = x.size()\n",
    "        batch = org_size[0]\n",
    "        x = x.view(batch, -1)\n",
    "\n",
    "        h = self.encoder(x)\n",
    "        # mu, logvar = h.chunk(2, dim=1)\n",
    "        # z = self.reparameterise(mu, logvar)\n",
    "\n",
    "        return h"
   ]
  },
  {
   "cell_type": "code",
   "execution_count": null,
   "metadata": {
    "id": "BFrvzaGC45Gi"
   },
   "outputs": [],
   "source": [
    "seq = \"_01_05\"\n",
    "tags = pd.read_csv(tags_name + seq + \".csv\")\n",
    "gsds = GroundedSoundDataset(tags, test_name + seq + \".npy\")\n",
    "eval_loader = DataLoader(gsds, batch_size=BATCH_SIZE, shuffle=False, num_workers=0)"
   ]
  },
  {
   "cell_type": "code",
   "execution_count": null,
   "metadata": {
    "colab": {
     "base_uri": "https://localhost:8080/",
     "height": 35
    },
    "id": "QARr-C_qpBLb",
    "outputId": "acd5e8ab-1ef6-4968-c205-b437ecfd7b8e"
   },
   "outputs": [
    {
     "data": {
      "application/vnd.google.colaboratory.intrinsic+json": {
       "type": "string"
      },
      "text/plain": [
       "'model_english_0130021416_29_full'"
      ]
     },
     "execution_count": 26,
     "metadata": {},
     "output_type": "execute_result"
    }
   ],
   "source": [
    "last_model_name"
   ]
  },
  {
   "cell_type": "code",
   "execution_count": null,
   "metadata": {
    "id": "KXLqyT3PYFkR"
   },
   "outputs": [],
   "source": [
    "# model_name = last_model_name\n",
    "model_name = \"model_english_0130021416_13_full\"\n",
    "model_path = save_dir + model_name + \".pt\"\n",
    "state = torch.load(model_path)\n",
    "model = ResAECluster()\n",
    "model.load_state_dict(state)\n",
    "# device = torch.device('cuda' if torch.cuda.is_available() else 'cpu')\n",
    "model.to(device)\n",
    "hiddens = None\n",
    "tags = None\n",
    "model.eval()\n",
    "with torch.no_grad():\n",
    "    for idx, (s, e, t) in enumerate(eval_loader):\n",
    "        s = s.to(device)\n",
    "        hidden = model(s)\n",
    "        hidden = hidden.cpu().data.numpy()\n",
    "\n",
    "        if hiddens is not None: \n",
    "            hiddens = np.concatenate((hiddens, hidden), axis=0)\n",
    "            tags = np.concatenate((tags, t), axis=0)\n",
    "        else: \n",
    "            hiddens = hidden\n",
    "            tags = t\n",
    "num_phones = np.unique(tags).shape[0]\n",
    "kmeansmodel = KMeans(n_clusters=num_phones) # , random_state=0\n",
    "clusters = kmeansmodel.fit_predict(hiddens)\n",
    "np.save(save_dir + model_name + seq + \"_hiddenclusters.npy\", clusters)\n",
    "np.save(save_dir + model_name + seq + \"_hiddenrepresentation.npy\", hiddens)\n"
   ]
  },
  {
   "cell_type": "code",
   "execution_count": null,
   "metadata": {
    "id": "BzTuc2Mz6niT"
   },
   "outputs": [],
   "source": [
    "h, c, v = homogeneity_completeness_v_measure(tags, clusters)"
   ]
  },
  {
   "cell_type": "code",
   "execution_count": null,
   "metadata": {
    "colab": {
     "base_uri": "https://localhost:8080/"
    },
    "id": "3ogsEovzEbpc",
    "outputId": "3cd43d32-f30c-4fb3-f5eb-945d6dd0ecc6"
   },
   "outputs": [
    {
     "name": "stdout",
     "output_type": "stream",
     "text": [
      "_01_05 0.30813685860010276 0.2726217590636009 0.2892933823757265\n"
     ]
    }
   ],
   "source": [
    "print(seq, h, c, v) # trained on sampled data"
   ]
  },
  {
   "cell_type": "code",
   "execution_count": null,
   "metadata": {
    "id": "FMFbNimpx-iJ"
   },
   "outputs": [],
   "source": [
    "# _17_24 0.3429902101084872 0.329164358854651 0.33593508938856537   # 256+8\n",
    "# _17_24 0.3071758873778334 0.2958512436337788 0.3014072290332542   # 128+4\n",
    "# _17_24 0.3048181747064378 0.303971996633573 0.3043944976042278    # 128+2\n",
    "# _17_24 0.3109960687106377 0.3020004935745723 0.3064322772063619   # 256+2, 2res\n",
    "# _17_24 0.27632046463064963 0.29796767719078493 0.28673608598337974    # 256+64+2, 2res, new model\n",
    "# _17_24 0.29619001674434664 0.30940705212658304 0.30265430485339223    # 256+64+4, 0res\n",
    "# _17_24 0.3394207670351701 0.3356821861468344 0.33754112484613674      # 256+64+4, 2res\n",
    "# _17_24 0.3246121630042821 0.3173438869288583 0.32093687897447765  # 256+3, 2res, not very bad. So we may try this. This is error, decoder only having 1 res\n",
    "# _17_24 0.3227539602867097 0.32256957773330264 0.3226617426690128  # 256+3, 2res\n",
    "# _17_24 0.3403517130774138 0.33762198107176034 0.33898135170147237 # 256+3, 1res\n",
    "# _17_24 0.3202704367215642 0.31097127191607643 0.3155523587925454  # 256+3, 0res\n",
    "\n",
    "\n",
    "# _01_05 0.30784101366300043 0.2717512535534188 0.28867252408265254"
   ]
  },
  {
   "attachments": {},
   "cell_type": "markdown",
   "metadata": {
    "id": "_gYDGP0Cdf1o"
   },
   "source": [
    "总的来说分成四个，神经网层来进行降维处理，得到的损失比较大，但是 hcv值倒是接近不过，如果能尽量的接近原作的模型结构，我们就不去动它了，所以可能目前来看最好的是保留两个降为层加上两个残差层，最后从256降到2，也许是最好的结果当然降到4也是可以的，都是比较低的维度，不过如果我们想要直接能够，在，可视的空间中画出这些点来，2或者3可能会比四更好一些。 "
   ]
  },
  {
   "attachments": {},
   "cell_type": "markdown",
   "metadata": {
    "id": "nTTdgp_HokAn"
   },
   "source": [
    "从使用不同数量残插块儿的实验结果来看，是由一个残渣块，应该是最好的解决方式，使用零个或两个第三个都可能是都会使hcv值相对降低。由此来看在选择，隐性层纬度为三的情况下，我们应该选择适用一个参差款。"
   ]
  },
  {
   "attachments": {},
   "cell_type": "markdown",
   "metadata": {
    "id": "BxdQ9f85WY1K"
   },
   "source": [
    "### Conclusion\n",
    "Adding new data slightly improves the performance of the model in HCV score, in addition, shuffling the training data largely lowers the HGV score perhaps we should discuss this phenomenon and justify use no shuffling during training. Perhaps this is because of some sort of phonotactics or naturalness of sound streams. "
   ]
  },
  {
   "attachments": {},
   "cell_type": "markdown",
   "metadata": {
    "id": "kjoJ2fFKpmVC"
   },
   "source": [
    "Good news is that for the English model it performs similar well. "
   ]
  },
  {
   "cell_type": "code",
   "execution_count": null,
   "metadata": {
    "id": "ZjPWgjpid7PR"
   },
   "outputs": [],
   "source": []
  }
 ],
 "metadata": {
  "accelerator": "GPU",
  "colab": {
   "provenance": []
  },
  "gpuClass": "standard",
  "kernelspec": {
   "display_name": "Python 3 (ipykernel)",
   "language": "python",
   "name": "python3"
  },
  "language_info": {
   "codemirror_mode": {
    "name": "ipython",
    "version": 3
   },
   "file_extension": ".py",
   "mimetype": "text/x-python",
   "name": "python",
   "nbconvert_exporter": "python",
   "pygments_lexer": "ipython3",
   "version": "3.11.3"
  }
 },
 "nbformat": 4,
 "nbformat_minor": 4
}
