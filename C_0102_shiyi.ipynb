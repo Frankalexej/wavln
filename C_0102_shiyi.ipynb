{
 "cells": [
  {
   "cell_type": "code",
   "execution_count": 23,
   "metadata": {},
   "outputs": [],
   "source": [
    "import warnings\n",
    "warnings.simplefilter(action='ignore', category=FutureWarning)\n",
    "\n",
    "import torch\n",
    "import torchaudio\n",
    "from torch import nn\n",
    "import torch.nn.functional as F\n",
    "from torch import optim\n",
    "from torch.utils.data import DataLoader, random_split\n",
    "import matplotlib.pyplot as plt\n",
    "import random\n",
    "from IPython.display import Audio\n",
    "from tqdm import tqdm\n",
    "import seaborn as sns\n",
    "import pandas as pd\n",
    "from collections import Counter\n",
    "from sklearn.manifold import TSNE   # one type of clustering\n",
    "from sklearn.cluster import KMeans\n",
    "from sklearn.metrics import silhouette_score\n",
    "from sklearn.metrics import adjusted_rand_score\n",
    "from sklearn.metrics import homogeneity_score, completeness_score, v_measure_score\n",
    "from itertools import combinations\n",
    "from sklearn.decomposition import PCA\n",
    "from scipy.linalg import block_diag\n",
    "import pickle\n",
    "from scipy import stats\n",
    "from scipy.interpolate import interp1d\n",
    "from scipy.stats import sem\n",
    "import argparse\n",
    "\n",
    "from model_padding import generate_mask_from_lengths_mat, mask_it\n",
    "from paths import *\n",
    "from misc_my_utils import *\n",
    "from model_loss import *\n",
    "from model_model import VQVAEV1 as TheLearner\n",
    "from model_dataset import TargetDatasetBoundary as ThisDataset\n",
    "from model_dataset import Normalizer, DeNormalizer, TokenMap\n",
    "from model_dataset import MelSpecTransformDB as TheTransform\n",
    "from model_dataset import DS_Tools\n",
    "from reshandler import DictResHandler\n",
    "from misc_progress_bar import draw_progress_bar\n",
    "from test_bnd_detect_tools import *\n",
    "from misc_tools import PathUtils as PU\n",
    "from misc_tools import AudioCut, ARPABET\n",
    "from misc_my_utils import time_to_frame\n",
    "\n",
    "# Constants\n",
    "EPOCHS = 10\n",
    "BATCH_SIZE = 1\n",
    "INPUT_DIM = 64\n",
    "OUTPUT_DIM = 64\n",
    "INTER_DIM_0 = 32\n",
    "INTER_DIM_1 = 16\n",
    "INTER_DIM_2 = 8\n",
    "ENC_SIZE_LIST = [INPUT_DIM, INTER_DIM_0, INTER_DIM_1, INTER_DIM_2]\n",
    "DEC_SIZE_LIST = [OUTPUT_DIM, INTER_DIM_0, INTER_DIM_1, INTER_DIM_2]\n",
    "DROPOUT = 0.5\n",
    "NUM_LAYERS = 2\n",
    "EMBEDDING_DIM = 128\n",
    "REC_SAMPLE_RATE = 16000\n",
    "N_FFT = 400\n",
    "N_MELS = 64\n",
    "LOADER_WORKER = 16"
   ]
  },
  {
   "cell_type": "code",
   "execution_count": 24,
   "metadata": {},
   "outputs": [],
   "source": [
    "\n",
    "def cutHid(hid, cutstart, cutend, start_offset=0, end_offset=1): \n",
    "    selstart = max(cutstart, int(cutstart + (cutend - cutstart) * start_offset))\n",
    "    selend = min(cutend, int(cutstart + (cutend - cutstart) * end_offset))\n",
    "    # hid is (L, H)\n",
    "    return hid[selstart:selend, :]\n",
    "\n",
    "# we have very limited data, so we don't need to select, just plot all\n",
    "def get_toplot(hiddens, sepframes, phi_types, stop_names, offsets=(0, 1)): \n",
    "    cutstarts = []\n",
    "    cutends = []\n",
    "    for hidden, sepframe, phi_type in zip(hiddens, sepframes, phi_types):\n",
    "        if phi_type == 'ST':\n",
    "            cutstarts.append(sepframe)\n",
    "        else:\n",
    "            cutstarts.append(0)\n",
    "        cutends.append(hidden.shape[0])\n",
    "    \n",
    "    hid_sel = np.empty((0, 8))\n",
    "    tag_sel = []\n",
    "    for (item, start, end, tag) in zip(hiddens, cutstarts, cutends, phi_types): \n",
    "        hid = cutHid(item, start, end, offsets[0], offsets[1])\n",
    "        hidlen = hid.shape[0]\n",
    "        hid_sel = np.concatenate((hid_sel, hid), axis=0)\n",
    "        tag_sel += [tag] * hidlen\n",
    "    return hid_sel, np.array(tag_sel)\n",
    "\n",
    "\n"
   ]
  },
  {
   "cell_type": "code",
   "execution_count": 25,
   "metadata": {},
   "outputs": [],
   "source": [
    "\n",
    "def main(train_name, ts, stop_epoch, guide_dir, prefix=\"\"):\n",
    "    # parser = argparse.ArgumentParser(description='argparse')\n",
    "    # parser.add_argument('--timestamp', '-ts', type=str, default=\"0000000000\", help=\"Timestamp for project\")\n",
    "    # parser.add_argument('--epoch','-e',type=str, default=0, help='The epoch to load')\n",
    "    # parser.add_argument('--gpu', '-gpu', type=int, default=0, help=\"Choose the GPU to work on\")\n",
    "    # args = parser.parse_args()\n",
    "\n",
    "    # Dirs\n",
    "    rec_dir = train_cut_phone_\n",
    "    # Prepare model paths\n",
    "    model_save_dir = os.path.join(model_save_, f\"{train_name}-{ts}\")\n",
    "    res_save_dir = os.path.join(model_save_dir, \"eval_res\")\n",
    "    assert PU.path_exist(model_save_dir)\n",
    "    mk(res_save_dir)\n",
    "    print(f\"{train_name}-{ts} at epoch {stop_epoch} is being evaluated\")\n",
    "\n",
    "    mytrans = TheTransform(sample_rate=REC_SAMPLE_RATE, \n",
    "                        n_fft=N_FFT, n_mels=N_MELS, \n",
    "                        normalizer=Normalizer.norm_mvn, \n",
    "                        denormalizer=DeNormalizer.norm_mvn)\n",
    "\n",
    "    st_valid = pd.read_csv(os.path.join(guide_dir, prefix + \"ST-valid.csv\"))\n",
    "    t_valid = pd.read_csv(os.path.join(guide_dir, prefix + \"T-valid.csv\"))\n",
    "    t_valid[\"sibilant_startTime\"] = 0\n",
    "    all_valid = pd.concat([t_valid, st_valid], ignore_index=True, sort=False)\n",
    "\n",
    "    valid_ds = ThisDataset(rec_dir, \n",
    "                        all_valid, \n",
    "                        transform=mytrans)\n",
    "\n",
    "    valid_loader = DataLoader(valid_ds, batch_size=BATCH_SIZE, shuffle=False, num_workers=LOADER_WORKER, collate_fn=ThisDataset.collate_fn)\n",
    "    valid_num = len(valid_loader.dataset)\n",
    "\n",
    "    device = torch.device('cuda' if torch.cuda.is_available() else 'cpu')\n",
    "    recon_loss = nn.MSELoss(reduction='none')\n",
    "    masked_recon_loss = MaskedLoss(recon_loss)\n",
    "    model_loss = masked_recon_loss\n",
    "\n",
    "    # model = TheLearner(enc_size_list=ENC_SIZE_LIST, dec_size_list=DEC_SIZE_LIST, num_layers=2)\n",
    "    model = TheLearner(enc_size_list=ENC_SIZE_LIST, \n",
    "                    dec_size_list=DEC_SIZE_LIST, \n",
    "                    embedding_dim=EMBEDDING_DIM, \n",
    "                    num_layers=NUM_LAYERS, dropout=DROPOUT)\n",
    "    # model = TheLearner(enc_size_list=ENC_SIZE_LIST, dec_size_list=DEC_SIZE_LIST, num_layers=1)\n",
    "    model.to(device)\n",
    "    optimizer = optim.Adam(model.parameters(), lr=1e-3)\n",
    "\n",
    "    model_name = \"{}.pt\".format(stop_epoch)\n",
    "    model_path = os.path.join(model_save_dir, model_name)\n",
    "    state = torch.load(model_path)\n",
    "\n",
    "    model.load_state_dict(state)\n",
    "    model.to(device)\n",
    "\n",
    "    model.eval()\n",
    "    reshandler = DictResHandler(whole_res_dir=res_save_dir, \n",
    "                                 file_prefix=f\"hidrep-{stop_epoch}\")\n",
    "    all_ze = []\n",
    "    all_zq = []\n",
    "    # all_name = []\n",
    "    all_stop_names = []\n",
    "    all_sepframes = []\n",
    "    all_phi_type = []\n",
    "\n",
    "    for (x, x_lens, pt, sn, sf) in tqdm(valid_loader): \n",
    "        # name = name[0]\n",
    "\n",
    "        x_mask = generate_mask_from_lengths_mat(x_lens, device=device)\n",
    "        \n",
    "        x = x.to(device)\n",
    "\n",
    "        x_hat, attn_w, (ze, zq) = model(x, x_lens, x_mask)\n",
    "\n",
    "        ze = ze.cpu().detach().numpy().squeeze()\n",
    "        zq = zq.cpu().detach().numpy().squeeze()\n",
    "\n",
    "        all_ze += [ze]\n",
    "        all_zq += [zq]\n",
    "        all_stop_names += sn\n",
    "        all_sepframes += sf\n",
    "        all_phi_type += pt\n",
    "    \n",
    "    reshandler.res[\"ze\"] = all_ze\n",
    "    reshandler.res[\"zq\"] = all_zq\n",
    "    reshandler.res[\"sn\"] = all_stop_names\n",
    "    reshandler.res[\"sep-frame\"] = all_sepframes\n",
    "    reshandler.res[\"phi-type\"] = all_phi_type\n",
    "    reshandler.save()\n",
    "    print(f\"Results saved to {res_save_dir}\")\n",
    "\n",
    "    \n",
    "    cluster_groups = [\"T\", \"ST\"]\n",
    "\n",
    "    hidr_cs, tags_cs = get_toplot(hiddens=all_zq, \n",
    "                                    sepframes=all_sepframes,\n",
    "                                    phi_types=all_phi_type,\n",
    "                                    stop_names=all_stop_names,\n",
    "                                    offsets=(0.4, 0.6))\n",
    "    color_translate = {item: idx for idx, item in enumerate(cluster_groups)}\n",
    "    # Use Counter to count the occurrences of each item\n",
    "    # item_counts = Counter(tags_cs)\n",
    "    X, Y = hidr_cs, tags_cs\n",
    "    silhouette_avg = silhouette_score(X, tags_cs)\n",
    "    \n",
    "    # n_clusters = len(cluster_groups)\n",
    "    # kmeans = KMeans(n_clusters=n_clusters, random_state=0)\n",
    "    # cluster_labels = kmeans.fit_predict(X)\n",
    "\n",
    "    # silhouette_avg = adjusted_rand_score(tags_cs, cluster_labels)\n",
    "    return silhouette_avg"
   ]
  },
  {
   "cell_type": "code",
   "execution_count": 26,
   "metadata": {},
   "outputs": [
    {
     "name": "stdout",
     "output_type": "stream",
     "text": [
      "C_01-0226154925 at epoch 0 is being evaluated\n"
     ]
    },
    {
     "name": "stderr",
     "output_type": "stream",
     "text": [
      "  0%|          | 0/1116 [00:00<?, ?it/s]"
     ]
    },
    {
     "name": "stderr",
     "output_type": "stream",
     "text": [
      "100%|██████████| 1116/1116 [00:06<00:00, 175.38it/s]\n"
     ]
    },
    {
     "name": "stdout",
     "output_type": "stream",
     "text": [
      "Results saved to ../model_save/C_01-0226154925/eval_res\n",
      "C_01-0226154925 at epoch 1 is being evaluated\n"
     ]
    },
    {
     "name": "stderr",
     "output_type": "stream",
     "text": [
      "100%|██████████| 1116/1116 [00:08<00:00, 126.14it/s]\n"
     ]
    },
    {
     "name": "stdout",
     "output_type": "stream",
     "text": [
      "Results saved to ../model_save/C_01-0226154925/eval_res\n",
      "C_01-0226154925 at epoch 2 is being evaluated\n"
     ]
    },
    {
     "name": "stderr",
     "output_type": "stream",
     "text": [
      "100%|██████████| 1116/1116 [00:06<00:00, 162.84it/s]\n"
     ]
    },
    {
     "name": "stdout",
     "output_type": "stream",
     "text": [
      "Results saved to ../model_save/C_01-0226154925/eval_res\n",
      "C_01-0226154925 at epoch 3 is being evaluated\n"
     ]
    },
    {
     "name": "stderr",
     "output_type": "stream",
     "text": [
      "100%|██████████| 1116/1116 [00:06<00:00, 165.62it/s]\n"
     ]
    },
    {
     "name": "stdout",
     "output_type": "stream",
     "text": [
      "Results saved to ../model_save/C_01-0226154925/eval_res\n",
      "C_01-0226154925 at epoch 4 is being evaluated\n"
     ]
    },
    {
     "name": "stderr",
     "output_type": "stream",
     "text": [
      "100%|██████████| 1116/1116 [00:06<00:00, 161.36it/s]\n"
     ]
    },
    {
     "name": "stdout",
     "output_type": "stream",
     "text": [
      "Results saved to ../model_save/C_01-0226154925/eval_res\n",
      "C_01-0226154925 at epoch 5 is being evaluated\n"
     ]
    },
    {
     "name": "stderr",
     "output_type": "stream",
     "text": [
      "100%|██████████| 1116/1116 [00:07<00:00, 158.21it/s]\n"
     ]
    },
    {
     "name": "stdout",
     "output_type": "stream",
     "text": [
      "Results saved to ../model_save/C_01-0226154925/eval_res\n",
      "C_01-0226154925 at epoch 6 is being evaluated\n"
     ]
    },
    {
     "name": "stderr",
     "output_type": "stream",
     "text": [
      "100%|██████████| 1116/1116 [00:06<00:00, 172.79it/s]\n"
     ]
    },
    {
     "name": "stdout",
     "output_type": "stream",
     "text": [
      "Results saved to ../model_save/C_01-0226154925/eval_res\n",
      "C_01-0226154925 at epoch 7 is being evaluated\n"
     ]
    },
    {
     "name": "stderr",
     "output_type": "stream",
     "text": [
      "100%|██████████| 1116/1116 [00:05<00:00, 191.29it/s]\n"
     ]
    },
    {
     "name": "stdout",
     "output_type": "stream",
     "text": [
      "Results saved to ../model_save/C_01-0226154925/eval_res\n",
      "C_01-0226154925 at epoch 8 is being evaluated\n"
     ]
    },
    {
     "name": "stderr",
     "output_type": "stream",
     "text": [
      "100%|██████████| 1116/1116 [00:06<00:00, 159.51it/s]\n"
     ]
    },
    {
     "name": "stdout",
     "output_type": "stream",
     "text": [
      "Results saved to ../model_save/C_01-0226154925/eval_res\n",
      "C_01-0226154925 at epoch 9 is being evaluated\n"
     ]
    },
    {
     "name": "stderr",
     "output_type": "stream",
     "text": [
      "100%|██████████| 1116/1116 [00:06<00:00, 164.71it/s]\n"
     ]
    },
    {
     "name": "stdout",
     "output_type": "stream",
     "text": [
      "Results saved to ../model_save/C_01-0226154925/eval_res\n",
      "C_01-0226154925 at epoch 10 is being evaluated\n"
     ]
    },
    {
     "name": "stderr",
     "output_type": "stream",
     "text": [
      "100%|██████████| 1116/1116 [00:06<00:00, 159.55it/s]\n"
     ]
    },
    {
     "name": "stdout",
     "output_type": "stream",
     "text": [
      "Results saved to ../model_save/C_01-0226154925/eval_res\n",
      "C_01-0226154925 at epoch 11 is being evaluated\n"
     ]
    },
    {
     "name": "stderr",
     "output_type": "stream",
     "text": [
      "100%|██████████| 1116/1116 [00:06<00:00, 165.69it/s]\n"
     ]
    },
    {
     "name": "stdout",
     "output_type": "stream",
     "text": [
      "Results saved to ../model_save/C_01-0226154925/eval_res\n",
      "C_01-0226154925 at epoch 12 is being evaluated\n"
     ]
    },
    {
     "name": "stderr",
     "output_type": "stream",
     "text": [
      "100%|██████████| 1116/1116 [00:07<00:00, 155.69it/s]\n"
     ]
    },
    {
     "name": "stdout",
     "output_type": "stream",
     "text": [
      "Results saved to ../model_save/C_01-0226154925/eval_res\n",
      "C_01-0226154925 at epoch 13 is being evaluated\n"
     ]
    },
    {
     "name": "stderr",
     "output_type": "stream",
     "text": [
      "100%|██████████| 1116/1116 [00:07<00:00, 157.68it/s]\n"
     ]
    },
    {
     "name": "stdout",
     "output_type": "stream",
     "text": [
      "Results saved to ../model_save/C_01-0226154925/eval_res\n",
      "C_01-0226154925 at epoch 14 is being evaluated\n"
     ]
    },
    {
     "name": "stderr",
     "output_type": "stream",
     "text": [
      "100%|██████████| 1116/1116 [00:06<00:00, 171.69it/s]\n"
     ]
    },
    {
     "name": "stdout",
     "output_type": "stream",
     "text": [
      "Results saved to ../model_save/C_01-0226154925/eval_res\n",
      "C_01-0226154925 at epoch 15 is being evaluated\n"
     ]
    },
    {
     "name": "stderr",
     "output_type": "stream",
     "text": [
      "100%|██████████| 1116/1116 [00:06<00:00, 175.49it/s]\n"
     ]
    },
    {
     "name": "stdout",
     "output_type": "stream",
     "text": [
      "Results saved to ../model_save/C_01-0226154925/eval_res\n",
      "C_01-0226154925 at epoch 16 is being evaluated\n"
     ]
    },
    {
     "name": "stderr",
     "output_type": "stream",
     "text": [
      "100%|██████████| 1116/1116 [00:06<00:00, 163.36it/s]\n"
     ]
    },
    {
     "name": "stdout",
     "output_type": "stream",
     "text": [
      "Results saved to ../model_save/C_01-0226154925/eval_res\n",
      "C_01-0226154925 at epoch 17 is being evaluated\n"
     ]
    },
    {
     "name": "stderr",
     "output_type": "stream",
     "text": [
      "100%|██████████| 1116/1116 [00:07<00:00, 150.57it/s]\n"
     ]
    },
    {
     "name": "stdout",
     "output_type": "stream",
     "text": [
      "Results saved to ../model_save/C_01-0226154925/eval_res\n",
      "C_01-0226154925 at epoch 18 is being evaluated\n"
     ]
    },
    {
     "name": "stderr",
     "output_type": "stream",
     "text": [
      "100%|██████████| 1116/1116 [00:06<00:00, 179.60it/s]\n"
     ]
    },
    {
     "name": "stdout",
     "output_type": "stream",
     "text": [
      "Results saved to ../model_save/C_01-0226154925/eval_res\n",
      "C_01-0226154925 at epoch 19 is being evaluated\n"
     ]
    },
    {
     "name": "stderr",
     "output_type": "stream",
     "text": [
      "100%|██████████| 1116/1116 [00:06<00:00, 162.41it/s]\n"
     ]
    },
    {
     "name": "stdout",
     "output_type": "stream",
     "text": [
      "Results saved to ../model_save/C_01-0226154925/eval_res\n",
      "C_01-0226154925 at epoch 20 is being evaluated\n"
     ]
    },
    {
     "name": "stderr",
     "output_type": "stream",
     "text": [
      "100%|██████████| 1116/1116 [00:05<00:00, 192.07it/s]\n"
     ]
    },
    {
     "name": "stdout",
     "output_type": "stream",
     "text": [
      "Results saved to ../model_save/C_01-0226154925/eval_res\n",
      "C_01-0226154925 at epoch 21 is being evaluated\n"
     ]
    },
    {
     "name": "stderr",
     "output_type": "stream",
     "text": [
      "100%|██████████| 1116/1116 [00:05<00:00, 190.83it/s]\n"
     ]
    },
    {
     "name": "stdout",
     "output_type": "stream",
     "text": [
      "Results saved to ../model_save/C_01-0226154925/eval_res\n",
      "C_01-0226154925 at epoch 22 is being evaluated\n"
     ]
    },
    {
     "name": "stderr",
     "output_type": "stream",
     "text": [
      "100%|██████████| 1116/1116 [00:05<00:00, 192.07it/s]\n"
     ]
    },
    {
     "name": "stdout",
     "output_type": "stream",
     "text": [
      "Results saved to ../model_save/C_01-0226154925/eval_res\n",
      "C_01-0226154925 at epoch 23 is being evaluated\n"
     ]
    },
    {
     "name": "stderr",
     "output_type": "stream",
     "text": [
      "100%|██████████| 1116/1116 [00:08<00:00, 133.76it/s]\n"
     ]
    },
    {
     "name": "stdout",
     "output_type": "stream",
     "text": [
      "Results saved to ../model_save/C_01-0226154925/eval_res\n",
      "C_01-0226154925 at epoch 24 is being evaluated\n"
     ]
    },
    {
     "name": "stderr",
     "output_type": "stream",
     "text": [
      "100%|██████████| 1116/1116 [00:07<00:00, 147.98it/s]\n"
     ]
    },
    {
     "name": "stdout",
     "output_type": "stream",
     "text": [
      "Results saved to ../model_save/C_01-0226154925/eval_res\n",
      "C_01-0226154925 at epoch 25 is being evaluated\n"
     ]
    },
    {
     "name": "stderr",
     "output_type": "stream",
     "text": [
      "100%|██████████| 1116/1116 [00:05<00:00, 196.37it/s]\n"
     ]
    },
    {
     "name": "stdout",
     "output_type": "stream",
     "text": [
      "Results saved to ../model_save/C_01-0226154925/eval_res\n",
      "C_01-0226154925 at epoch 26 is being evaluated\n"
     ]
    },
    {
     "name": "stderr",
     "output_type": "stream",
     "text": [
      "100%|██████████| 1116/1116 [00:05<00:00, 196.73it/s]\n"
     ]
    },
    {
     "name": "stdout",
     "output_type": "stream",
     "text": [
      "Results saved to ../model_save/C_01-0226154925/eval_res\n",
      "C_01-0226154925 at epoch 27 is being evaluated\n"
     ]
    },
    {
     "name": "stderr",
     "output_type": "stream",
     "text": [
      "100%|██████████| 1116/1116 [00:07<00:00, 159.35it/s]\n"
     ]
    },
    {
     "name": "stdout",
     "output_type": "stream",
     "text": [
      "Results saved to ../model_save/C_01-0226154925/eval_res\n",
      "C_01-0226154925 at epoch 28 is being evaluated\n"
     ]
    },
    {
     "name": "stderr",
     "output_type": "stream",
     "text": [
      "100%|██████████| 1116/1116 [00:06<00:00, 163.00it/s]\n"
     ]
    },
    {
     "name": "stdout",
     "output_type": "stream",
     "text": [
      "Results saved to ../model_save/C_01-0226154925/eval_res\n",
      "C_01-0226154925 at epoch 29 is being evaluated\n"
     ]
    },
    {
     "name": "stderr",
     "output_type": "stream",
     "text": [
      "100%|██████████| 1116/1116 [00:05<00:00, 198.05it/s]\n"
     ]
    },
    {
     "name": "stdout",
     "output_type": "stream",
     "text": [
      "Results saved to ../model_save/C_01-0226154925/eval_res\n",
      "C_01-0226154925 at epoch 30 is being evaluated\n"
     ]
    },
    {
     "name": "stderr",
     "output_type": "stream",
     "text": [
      "100%|██████████| 1116/1116 [00:06<00:00, 161.06it/s]\n"
     ]
    },
    {
     "name": "stdout",
     "output_type": "stream",
     "text": [
      "Results saved to ../model_save/C_01-0226154925/eval_res\n",
      "C_01-0226154925 at epoch 31 is being evaluated\n"
     ]
    },
    {
     "name": "stderr",
     "output_type": "stream",
     "text": [
      "100%|██████████| 1116/1116 [00:06<00:00, 175.42it/s]\n"
     ]
    },
    {
     "name": "stdout",
     "output_type": "stream",
     "text": [
      "Results saved to ../model_save/C_01-0226154925/eval_res\n",
      "C_01-0226154925 at epoch 32 is being evaluated\n"
     ]
    },
    {
     "name": "stderr",
     "output_type": "stream",
     "text": [
      "100%|██████████| 1116/1116 [00:06<00:00, 184.32it/s]\n"
     ]
    },
    {
     "name": "stdout",
     "output_type": "stream",
     "text": [
      "Results saved to ../model_save/C_01-0226154925/eval_res\n",
      "C_01-0226154925 at epoch 33 is being evaluated\n"
     ]
    },
    {
     "name": "stderr",
     "output_type": "stream",
     "text": [
      "100%|██████████| 1116/1116 [00:06<00:00, 167.14it/s]\n"
     ]
    },
    {
     "name": "stdout",
     "output_type": "stream",
     "text": [
      "Results saved to ../model_save/C_01-0226154925/eval_res\n",
      "C_01-0226154925 at epoch 34 is being evaluated\n"
     ]
    },
    {
     "name": "stderr",
     "output_type": "stream",
     "text": [
      "100%|██████████| 1116/1116 [00:07<00:00, 154.52it/s]\n"
     ]
    },
    {
     "name": "stdout",
     "output_type": "stream",
     "text": [
      "Results saved to ../model_save/C_01-0226154925/eval_res\n",
      "C_01-0226154925 at epoch 35 is being evaluated\n"
     ]
    },
    {
     "name": "stderr",
     "output_type": "stream",
     "text": [
      "100%|██████████| 1116/1116 [00:06<00:00, 169.00it/s]\n"
     ]
    },
    {
     "name": "stdout",
     "output_type": "stream",
     "text": [
      "Results saved to ../model_save/C_01-0226154925/eval_res\n",
      "C_01-0226154925 at epoch 36 is being evaluated\n"
     ]
    },
    {
     "name": "stderr",
     "output_type": "stream",
     "text": [
      "100%|██████████| 1116/1116 [00:06<00:00, 175.77it/s]\n"
     ]
    },
    {
     "name": "stdout",
     "output_type": "stream",
     "text": [
      "Results saved to ../model_save/C_01-0226154925/eval_res\n",
      "C_01-0226154925 at epoch 37 is being evaluated\n"
     ]
    },
    {
     "name": "stderr",
     "output_type": "stream",
     "text": [
      "100%|██████████| 1116/1116 [00:06<00:00, 161.72it/s]\n"
     ]
    },
    {
     "name": "stdout",
     "output_type": "stream",
     "text": [
      "Results saved to ../model_save/C_01-0226154925/eval_res\n",
      "C_01-0226154925 at epoch 38 is being evaluated\n"
     ]
    },
    {
     "name": "stderr",
     "output_type": "stream",
     "text": [
      "100%|██████████| 1116/1116 [00:06<00:00, 176.01it/s]\n"
     ]
    },
    {
     "name": "stdout",
     "output_type": "stream",
     "text": [
      "Results saved to ../model_save/C_01-0226154925/eval_res\n",
      "C_01-0226154925 at epoch 39 is being evaluated\n"
     ]
    },
    {
     "name": "stderr",
     "output_type": "stream",
     "text": [
      "100%|██████████| 1116/1116 [00:07<00:00, 153.76it/s]\n"
     ]
    },
    {
     "name": "stdout",
     "output_type": "stream",
     "text": [
      "Results saved to ../model_save/C_01-0226154925/eval_res\n",
      "C_02-0301171500 at epoch 0 is being evaluated\n"
     ]
    },
    {
     "name": "stderr",
     "output_type": "stream",
     "text": [
      "100%|██████████| 2617/2617 [00:17<00:00, 150.07it/s]\n"
     ]
    },
    {
     "name": "stdout",
     "output_type": "stream",
     "text": [
      "Results saved to ../model_save/C_02-0301171500/eval_res\n",
      "C_02-0301171500 at epoch 1 is being evaluated\n"
     ]
    },
    {
     "name": "stderr",
     "output_type": "stream",
     "text": [
      "100%|██████████| 2617/2617 [00:13<00:00, 187.71it/s]\n"
     ]
    },
    {
     "name": "stdout",
     "output_type": "stream",
     "text": [
      "Results saved to ../model_save/C_02-0301171500/eval_res\n",
      "C_02-0301171500 at epoch 2 is being evaluated\n"
     ]
    },
    {
     "name": "stderr",
     "output_type": "stream",
     "text": [
      "100%|██████████| 2617/2617 [00:14<00:00, 184.58it/s]\n"
     ]
    },
    {
     "name": "stdout",
     "output_type": "stream",
     "text": [
      "Results saved to ../model_save/C_02-0301171500/eval_res\n",
      "C_02-0301171500 at epoch 3 is being evaluated\n"
     ]
    },
    {
     "name": "stderr",
     "output_type": "stream",
     "text": [
      "100%|██████████| 2617/2617 [00:12<00:00, 206.55it/s]\n"
     ]
    },
    {
     "name": "stdout",
     "output_type": "stream",
     "text": [
      "Results saved to ../model_save/C_02-0301171500/eval_res\n",
      "C_02-0301171500 at epoch 4 is being evaluated\n"
     ]
    },
    {
     "name": "stderr",
     "output_type": "stream",
     "text": [
      "100%|██████████| 2617/2617 [00:12<00:00, 213.85it/s]\n"
     ]
    },
    {
     "name": "stdout",
     "output_type": "stream",
     "text": [
      "Results saved to ../model_save/C_02-0301171500/eval_res\n",
      "C_02-0301171500 at epoch 5 is being evaluated\n"
     ]
    },
    {
     "name": "stderr",
     "output_type": "stream",
     "text": [
      "100%|██████████| 2617/2617 [00:13<00:00, 191.55it/s]\n"
     ]
    },
    {
     "name": "stdout",
     "output_type": "stream",
     "text": [
      "Results saved to ../model_save/C_02-0301171500/eval_res\n",
      "C_02-0301171500 at epoch 6 is being evaluated\n"
     ]
    },
    {
     "name": "stderr",
     "output_type": "stream",
     "text": [
      "100%|██████████| 2617/2617 [00:13<00:00, 190.42it/s]\n"
     ]
    },
    {
     "name": "stdout",
     "output_type": "stream",
     "text": [
      "Results saved to ../model_save/C_02-0301171500/eval_res\n",
      "C_02-0301171500 at epoch 7 is being evaluated\n"
     ]
    },
    {
     "name": "stderr",
     "output_type": "stream",
     "text": [
      "100%|██████████| 2617/2617 [00:13<00:00, 195.42it/s]\n"
     ]
    },
    {
     "name": "stdout",
     "output_type": "stream",
     "text": [
      "Results saved to ../model_save/C_02-0301171500/eval_res\n",
      "C_02-0301171500 at epoch 8 is being evaluated\n"
     ]
    },
    {
     "name": "stderr",
     "output_type": "stream",
     "text": [
      "100%|██████████| 2617/2617 [00:15<00:00, 166.37it/s]\n"
     ]
    },
    {
     "name": "stdout",
     "output_type": "stream",
     "text": [
      "Results saved to ../model_save/C_02-0301171500/eval_res\n",
      "C_02-0301171500 at epoch 9 is being evaluated\n"
     ]
    },
    {
     "name": "stderr",
     "output_type": "stream",
     "text": [
      "100%|██████████| 2617/2617 [00:14<00:00, 183.21it/s]\n"
     ]
    },
    {
     "name": "stdout",
     "output_type": "stream",
     "text": [
      "Results saved to ../model_save/C_02-0301171500/eval_res\n",
      "C_02-0301171500 at epoch 10 is being evaluated\n"
     ]
    },
    {
     "name": "stderr",
     "output_type": "stream",
     "text": [
      "100%|██████████| 2617/2617 [00:13<00:00, 188.88it/s]\n"
     ]
    },
    {
     "name": "stdout",
     "output_type": "stream",
     "text": [
      "Results saved to ../model_save/C_02-0301171500/eval_res\n",
      "C_02-0301171500 at epoch 11 is being evaluated\n"
     ]
    },
    {
     "name": "stderr",
     "output_type": "stream",
     "text": [
      "100%|██████████| 2617/2617 [00:15<00:00, 170.55it/s]\n"
     ]
    },
    {
     "name": "stdout",
     "output_type": "stream",
     "text": [
      "Results saved to ../model_save/C_02-0301171500/eval_res\n",
      "C_02-0301171500 at epoch 12 is being evaluated\n"
     ]
    },
    {
     "name": "stderr",
     "output_type": "stream",
     "text": [
      "100%|██████████| 2617/2617 [00:14<00:00, 186.62it/s]\n"
     ]
    },
    {
     "name": "stdout",
     "output_type": "stream",
     "text": [
      "Results saved to ../model_save/C_02-0301171500/eval_res\n",
      "C_02-0301171500 at epoch 13 is being evaluated\n"
     ]
    },
    {
     "name": "stderr",
     "output_type": "stream",
     "text": [
      "100%|██████████| 2617/2617 [00:14<00:00, 174.83it/s]\n"
     ]
    },
    {
     "name": "stdout",
     "output_type": "stream",
     "text": [
      "Results saved to ../model_save/C_02-0301171500/eval_res\n",
      "C_02-0301171500 at epoch 14 is being evaluated\n"
     ]
    },
    {
     "name": "stderr",
     "output_type": "stream",
     "text": [
      "100%|██████████| 2617/2617 [00:13<00:00, 189.76it/s]\n"
     ]
    },
    {
     "name": "stdout",
     "output_type": "stream",
     "text": [
      "Results saved to ../model_save/C_02-0301171500/eval_res\n",
      "C_02-0301171500 at epoch 15 is being evaluated\n"
     ]
    },
    {
     "name": "stderr",
     "output_type": "stream",
     "text": [
      "100%|██████████| 2617/2617 [00:13<00:00, 191.72it/s]\n"
     ]
    },
    {
     "name": "stdout",
     "output_type": "stream",
     "text": [
      "Results saved to ../model_save/C_02-0301171500/eval_res\n",
      "C_02-0301171500 at epoch 16 is being evaluated\n"
     ]
    },
    {
     "name": "stderr",
     "output_type": "stream",
     "text": [
      "100%|██████████| 2617/2617 [00:14<00:00, 185.79it/s]\n"
     ]
    },
    {
     "name": "stdout",
     "output_type": "stream",
     "text": [
      "Results saved to ../model_save/C_02-0301171500/eval_res\n",
      "C_02-0301171500 at epoch 17 is being evaluated\n"
     ]
    },
    {
     "name": "stderr",
     "output_type": "stream",
     "text": [
      "100%|██████████| 2617/2617 [00:16<00:00, 155.74it/s]\n"
     ]
    },
    {
     "name": "stdout",
     "output_type": "stream",
     "text": [
      "Results saved to ../model_save/C_02-0301171500/eval_res\n",
      "C_02-0301171500 at epoch 18 is being evaluated\n"
     ]
    },
    {
     "name": "stderr",
     "output_type": "stream",
     "text": [
      "100%|██████████| 2617/2617 [00:13<00:00, 189.07it/s]\n"
     ]
    },
    {
     "name": "stdout",
     "output_type": "stream",
     "text": [
      "Results saved to ../model_save/C_02-0301171500/eval_res\n",
      "C_02-0301171500 at epoch 19 is being evaluated\n"
     ]
    },
    {
     "name": "stderr",
     "output_type": "stream",
     "text": [
      "100%|██████████| 2617/2617 [00:14<00:00, 182.24it/s]\n"
     ]
    },
    {
     "name": "stdout",
     "output_type": "stream",
     "text": [
      "Results saved to ../model_save/C_02-0301171500/eval_res\n",
      "C_02-0301171500 at epoch 20 is being evaluated\n"
     ]
    },
    {
     "name": "stderr",
     "output_type": "stream",
     "text": [
      "100%|██████████| 2617/2617 [00:12<00:00, 201.39it/s]\n"
     ]
    },
    {
     "name": "stdout",
     "output_type": "stream",
     "text": [
      "Results saved to ../model_save/C_02-0301171500/eval_res\n",
      "C_02-0301171500 at epoch 21 is being evaluated\n"
     ]
    },
    {
     "name": "stderr",
     "output_type": "stream",
     "text": [
      "100%|██████████| 2617/2617 [00:12<00:00, 208.66it/s]\n"
     ]
    },
    {
     "name": "stdout",
     "output_type": "stream",
     "text": [
      "Results saved to ../model_save/C_02-0301171500/eval_res\n",
      "C_02-0301171500 at epoch 22 is being evaluated\n"
     ]
    },
    {
     "name": "stderr",
     "output_type": "stream",
     "text": [
      "100%|██████████| 2617/2617 [00:13<00:00, 195.08it/s]\n"
     ]
    },
    {
     "name": "stdout",
     "output_type": "stream",
     "text": [
      "Results saved to ../model_save/C_02-0301171500/eval_res\n",
      "C_02-0301171500 at epoch 23 is being evaluated\n"
     ]
    },
    {
     "name": "stderr",
     "output_type": "stream",
     "text": [
      "100%|██████████| 2617/2617 [00:13<00:00, 191.89it/s]\n"
     ]
    },
    {
     "name": "stdout",
     "output_type": "stream",
     "text": [
      "Results saved to ../model_save/C_02-0301171500/eval_res\n",
      "C_02-0301171500 at epoch 24 is being evaluated\n"
     ]
    },
    {
     "name": "stderr",
     "output_type": "stream",
     "text": [
      "100%|██████████| 2617/2617 [00:14<00:00, 180.74it/s]\n"
     ]
    },
    {
     "name": "stdout",
     "output_type": "stream",
     "text": [
      "Results saved to ../model_save/C_02-0301171500/eval_res\n",
      "C_02-0301171500 at epoch 25 is being evaluated\n"
     ]
    },
    {
     "name": "stderr",
     "output_type": "stream",
     "text": [
      "100%|██████████| 2617/2617 [00:13<00:00, 200.21it/s]\n"
     ]
    },
    {
     "name": "stdout",
     "output_type": "stream",
     "text": [
      "Results saved to ../model_save/C_02-0301171500/eval_res\n",
      "C_02-0301171500 at epoch 26 is being evaluated\n"
     ]
    },
    {
     "name": "stderr",
     "output_type": "stream",
     "text": [
      "100%|██████████| 2617/2617 [00:14<00:00, 174.92it/s]\n"
     ]
    },
    {
     "name": "stdout",
     "output_type": "stream",
     "text": [
      "Results saved to ../model_save/C_02-0301171500/eval_res\n",
      "C_02-0301171500 at epoch 27 is being evaluated\n"
     ]
    },
    {
     "name": "stderr",
     "output_type": "stream",
     "text": [
      "100%|██████████| 2617/2617 [00:13<00:00, 198.32it/s]\n"
     ]
    },
    {
     "name": "stdout",
     "output_type": "stream",
     "text": [
      "Results saved to ../model_save/C_02-0301171500/eval_res\n",
      "C_02-0301171500 at epoch 28 is being evaluated\n"
     ]
    },
    {
     "name": "stderr",
     "output_type": "stream",
     "text": [
      "100%|██████████| 2617/2617 [00:13<00:00, 198.30it/s]\n"
     ]
    },
    {
     "name": "stdout",
     "output_type": "stream",
     "text": [
      "Results saved to ../model_save/C_02-0301171500/eval_res\n",
      "C_02-0301171500 at epoch 29 is being evaluated\n"
     ]
    },
    {
     "name": "stderr",
     "output_type": "stream",
     "text": [
      "100%|██████████| 2617/2617 [00:15<00:00, 170.92it/s]\n"
     ]
    },
    {
     "name": "stdout",
     "output_type": "stream",
     "text": [
      "Results saved to ../model_save/C_02-0301171500/eval_res\n",
      "C_02-0301171500 at epoch 30 is being evaluated\n"
     ]
    },
    {
     "name": "stderr",
     "output_type": "stream",
     "text": [
      "100%|██████████| 2617/2617 [00:14<00:00, 179.03it/s]\n"
     ]
    },
    {
     "name": "stdout",
     "output_type": "stream",
     "text": [
      "Results saved to ../model_save/C_02-0301171500/eval_res\n",
      "C_02-0301171500 at epoch 31 is being evaluated\n"
     ]
    },
    {
     "name": "stderr",
     "output_type": "stream",
     "text": [
      "100%|██████████| 2617/2617 [00:13<00:00, 196.43it/s]\n"
     ]
    },
    {
     "name": "stdout",
     "output_type": "stream",
     "text": [
      "Results saved to ../model_save/C_02-0301171500/eval_res\n",
      "C_02-0301171500 at epoch 32 is being evaluated\n"
     ]
    },
    {
     "name": "stderr",
     "output_type": "stream",
     "text": [
      "100%|██████████| 2617/2617 [00:13<00:00, 191.96it/s]\n"
     ]
    },
    {
     "name": "stdout",
     "output_type": "stream",
     "text": [
      "Results saved to ../model_save/C_02-0301171500/eval_res\n",
      "C_02-0301171500 at epoch 33 is being evaluated\n"
     ]
    },
    {
     "name": "stderr",
     "output_type": "stream",
     "text": [
      "100%|██████████| 2617/2617 [00:14<00:00, 180.47it/s]\n"
     ]
    },
    {
     "name": "stdout",
     "output_type": "stream",
     "text": [
      "Results saved to ../model_save/C_02-0301171500/eval_res\n",
      "C_02-0301171500 at epoch 34 is being evaluated\n"
     ]
    },
    {
     "name": "stderr",
     "output_type": "stream",
     "text": [
      "100%|██████████| 2617/2617 [00:13<00:00, 194.69it/s]\n"
     ]
    },
    {
     "name": "stdout",
     "output_type": "stream",
     "text": [
      "Results saved to ../model_save/C_02-0301171500/eval_res\n",
      "C_02-0301171500 at epoch 35 is being evaluated\n"
     ]
    },
    {
     "name": "stderr",
     "output_type": "stream",
     "text": [
      "100%|██████████| 2617/2617 [00:15<00:00, 166.36it/s]\n"
     ]
    },
    {
     "name": "stdout",
     "output_type": "stream",
     "text": [
      "Results saved to ../model_save/C_02-0301171500/eval_res\n",
      "C_02-0301171500 at epoch 36 is being evaluated\n"
     ]
    },
    {
     "name": "stderr",
     "output_type": "stream",
     "text": [
      "100%|██████████| 2617/2617 [00:12<00:00, 204.30it/s]\n"
     ]
    },
    {
     "name": "stdout",
     "output_type": "stream",
     "text": [
      "Results saved to ../model_save/C_02-0301171500/eval_res\n",
      "C_02-0301171500 at epoch 37 is being evaluated\n"
     ]
    },
    {
     "name": "stderr",
     "output_type": "stream",
     "text": [
      "100%|██████████| 2617/2617 [00:15<00:00, 164.40it/s]\n"
     ]
    },
    {
     "name": "stdout",
     "output_type": "stream",
     "text": [
      "Results saved to ../model_save/C_02-0301171500/eval_res\n",
      "C_02-0301171500 at epoch 38 is being evaluated\n"
     ]
    },
    {
     "name": "stderr",
     "output_type": "stream",
     "text": [
      "100%|██████████| 2617/2617 [00:13<00:00, 188.49it/s]\n"
     ]
    },
    {
     "name": "stdout",
     "output_type": "stream",
     "text": [
      "Results saved to ../model_save/C_02-0301171500/eval_res\n",
      "C_02-0301171500 at epoch 39 is being evaluated\n"
     ]
    },
    {
     "name": "stderr",
     "output_type": "stream",
     "text": [
      "100%|██████████| 2617/2617 [00:12<00:00, 201.42it/s]\n"
     ]
    },
    {
     "name": "stdout",
     "output_type": "stream",
     "text": [
      "Results saved to ../model_save/C_02-0301171500/eval_res\n"
     ]
    }
   ],
   "source": [
    "if __name__ == \"__main__\":\n",
    "    train_name = \"C_01\"\n",
    "    ts = \"0226154925\"\n",
    "    sil_list = []\n",
    "    guide_dir = src_\n",
    "    for i in range(0, 40):\n",
    "        sil_score = main(train_name, ts, i, guide_dir, prefix=\"phi-\")\n",
    "        sil_list.append(sil_score)\n",
    "\n",
    "    model_save_dir = os.path.join(model_save_, f\"{train_name}-{ts}\")\n",
    "    res_save_dir = os.path.join(model_save_dir, \"eval_res\")\n",
    "    plt.plot(sil_list) # Plot the points\n",
    "    plt.title(f'Middle Silhouette Score')\n",
    "    plt.xlabel('Epoch')\n",
    "    plt.ylabel('Silhouette Score')\n",
    "    # plt.show()\n",
    "    plt.savefig(os.path.join(res_save_dir, f\"silplot-global.png\"))\n",
    "    plt.close()\n",
    "\n",
    "\n",
    "    train_name = \"C_02\"\n",
    "    ts = \"0301171500\"\n",
    "    sil_list = []\n",
    "    guide_dir = os.path.join(src_, \"phi-unbalanced-guides\")\n",
    "    for i in range(0, 40):\n",
    "        sil_score = main(train_name, ts, i, guide_dir, prefix=\"\")\n",
    "        sil_list.append(sil_score)\n",
    "\n",
    "    model_save_dir = os.path.join(model_save_, f\"{train_name}-{ts}\")\n",
    "    res_save_dir = os.path.join(model_save_dir, \"eval_res\")\n",
    "    plt.plot(sil_list) # Plot the points\n",
    "    plt.title(f'Middle Silhouette Score')\n",
    "    plt.xlabel('Epoch')\n",
    "    plt.ylabel('Silhouette Score')\n",
    "    # plt.show()\n",
    "    plt.savefig(os.path.join(res_save_dir, f\"silplot-global.png\"))\n",
    "    plt.close()"
   ]
  },
  {
   "cell_type": "code",
   "execution_count": null,
   "metadata": {},
   "outputs": [],
   "source": []
  }
 ],
 "metadata": {
  "kernelspec": {
   "display_name": "wavln",
   "language": "python",
   "name": "python3"
  },
  "language_info": {
   "codemirror_mode": {
    "name": "ipython",
    "version": 3
   },
   "file_extension": ".py",
   "mimetype": "text/x-python",
   "name": "python",
   "nbconvert_exporter": "python",
   "pygments_lexer": "ipython3",
   "version": "3.11.7"
  }
 },
 "nbformat": 4,
 "nbformat_minor": 2
}
