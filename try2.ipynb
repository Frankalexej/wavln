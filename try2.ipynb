{
 "cells": [
  {
   "cell_type": "code",
   "execution_count": 1,
   "metadata": {},
   "outputs": [],
   "source": [
    "from C_0Q_run import load_dict\n",
    "import os\n",
    "from paths import *"
   ]
  },
  {
   "cell_type": "code",
   "execution_count": 2,
   "metadata": {},
   "outputs": [
    {
     "data": {
      "text/plain": [
       "['BLANK',\n",
       " 'SIL',\n",
       " 'AE',\n",
       " 'AO',\n",
       " 'AA',\n",
       " 'IH',\n",
       " 'ER',\n",
       " 'Y',\n",
       " 'EH',\n",
       " 'OY',\n",
       " 'UH',\n",
       " 'P',\n",
       " 'AW',\n",
       " 'UW',\n",
       " 'EY',\n",
       " 'T',\n",
       " 'IY',\n",
       " 'K',\n",
       " 'AY',\n",
       " 'OW',\n",
       " 'AH',\n",
       " 'S',\n",
       " 'Ph',\n",
       " 'Th',\n",
       " 'Kh']"
      ]
     },
     "execution_count": 2,
     "metadata": {},
     "output_type": "execute_result"
    }
   ],
   "source": [
    "load_dict()"
   ]
  },
  {
   "cell_type": "code",
   "execution_count": 3,
   "metadata": {},
   "outputs": [
    {
     "data": {
      "text/plain": [
       "['BLANK',\n",
       " 'SIL',\n",
       " 'AE',\n",
       " 'AO',\n",
       " 'AA',\n",
       " 'IH',\n",
       " 'ER',\n",
       " 'Y',\n",
       " 'EH',\n",
       " 'OY',\n",
       " 'UH',\n",
       " 'P',\n",
       " 'AW',\n",
       " 'UW',\n",
       " 'EY',\n",
       " 'T',\n",
       " 'IY',\n",
       " 'K',\n",
       " 'AY',\n",
       " 'OW',\n",
       " 'AH',\n",
       " 'S',\n",
       " 'Ph',\n",
       " 'Th',\n",
       " 'Kh']"
      ]
     },
     "execution_count": 3,
     "metadata": {},
     "output_type": "execute_result"
    }
   ],
   "source": [
    "load_dict(os.path.join(src_, \"phi-seg.dict\"))"
   ]
  }
 ],
 "metadata": {
  "kernelspec": {
   "display_name": "wavln",
   "language": "python",
   "name": "python3"
  },
  "language_info": {
   "codemirror_mode": {
    "name": "ipython",
    "version": 3
   },
   "file_extension": ".py",
   "mimetype": "text/x-python",
   "name": "python",
   "nbconvert_exporter": "python",
   "pygments_lexer": "ipython3",
   "version": "3.11.7"
  }
 },
 "nbformat": 4,
 "nbformat_minor": 2
}
