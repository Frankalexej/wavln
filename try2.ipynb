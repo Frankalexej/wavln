{
 "cells": [
  {
   "cell_type": "code",
   "execution_count": 1,
   "metadata": {},
   "outputs": [],
   "source": [
    "from C_0Q_run import load_dict\n",
    "import os\n",
    "from paths import *"
   ]
  },
  {
   "cell_type": "code",
   "execution_count": 2,
   "metadata": {},
   "outputs": [
    {
     "data": {
      "text/plain": [
       "['BLANK',\n",
       " 'SIL',\n",
       " 'AE',\n",
       " 'AO',\n",
       " 'AA',\n",
       " 'IH',\n",
       " 'ER',\n",
       " 'Y',\n",
       " 'EH',\n",
       " 'OY',\n",
       " 'UH',\n",
       " 'P',\n",
       " 'AW',\n",
       " 'UW',\n",
       " 'EY',\n",
       " 'T',\n",
       " 'IY',\n",
       " 'K',\n",
       " 'AY',\n",
       " 'OW',\n",
       " 'AH',\n",
       " 'S',\n",
       " 'Ph',\n",
       " 'Th',\n",
       " 'Kh']"
      ]
     },
     "execution_count": 2,
     "metadata": {},
     "output_type": "execute_result"
    }
   ],
   "source": [
    "load_dict()"
   ]
  },
  {
   "cell_type": "code",
   "execution_count": 3,
   "metadata": {},
   "outputs": [
    {
     "data": {
      "text/plain": [
       "['BLANK',\n",
       " 'SIL',\n",
       " 'AE',\n",
       " 'AO',\n",
       " 'AA',\n",
       " 'IH',\n",
       " 'ER',\n",
       " 'Y',\n",
       " 'EH',\n",
       " 'OY',\n",
       " 'UH',\n",
       " 'P',\n",
       " 'AW',\n",
       " 'UW',\n",
       " 'EY',\n",
       " 'T',\n",
       " 'IY',\n",
       " 'K',\n",
       " 'AY',\n",
       " 'OW',\n",
       " 'AH',\n",
       " 'S',\n",
       " 'Ph',\n",
       " 'Th',\n",
       " 'Kh']"
      ]
     },
     "execution_count": 3,
     "metadata": {},
     "output_type": "execute_result"
    }
   ],
   "source": [
    "load_dict(os.path.join(src_, \"phi-seg.dict\"))"
   ]
  },
  {
   "cell_type": "code",
   "execution_count": 5,
   "metadata": {},
   "outputs": [
    {
     "name": "stdout",
     "output_type": "stream",
     "text": [
      "Sampled Data for tag A: [7 2]\n",
      "Sampled Data for tag B: [4 3]\n",
      "Sampled Data for tag C: [9 5]\n"
     ]
    }
   ],
   "source": [
    "import numpy as np\n",
    "import random\n",
    "\n",
    "def separate_and_sample_data(data_array, tag_array, sample_num):\n",
    "    # Ensure data_array and tag_array are numpy arrays\n",
    "    data_array = np.array(data_array)\n",
    "    tag_array = np.array(tag_array)\n",
    "    \n",
    "    # Create a dictionary to store data based on tags\n",
    "    tag_data_dict = {}\n",
    "    \n",
    "    # Iterate over the data and tags to separate them\n",
    "    for data, tag in zip(data_array, tag_array):\n",
    "        if tag not in tag_data_dict:\n",
    "            tag_data_dict[tag] = []\n",
    "        tag_data_dict[tag].append(data)\n",
    "    \n",
    "    # Create a list to store the numpy arrays for each tag\n",
    "    sampled_data_arrays = []\n",
    "    sampled_tags = []\n",
    "    \n",
    "    # Iterate over the tag_data_dict to sample the data\n",
    "    for tag, data_list in tag_data_dict.items():\n",
    "        # Shuffle the data list\n",
    "        random.shuffle(data_list)\n",
    "        # Take the specified number of samples\n",
    "        samples = data_list[:sample_num]\n",
    "        # Convert the samples to a numpy array and add to the result list\n",
    "        sampled_data_arrays.append(np.array(samples))\n",
    "        sampled_tags.append(tag)\n",
    "    \n",
    "    return sampled_data_arrays, sampled_tags\n",
    "\n",
    "# Example usage\n",
    "data_array = np.array([1, 2, 3, 4, 5, 6, 7, 8, 9, 10])\n",
    "tag_array = np.array(['A', 'A', 'B', 'B', 'C', 'C', 'A', 'B', 'C', 'A'])\n",
    "sample_num = 2\n",
    "\n",
    "sampled_data_arrays, sampled_tags = separate_and_sample_data(data_array, tag_array, sample_num)\n",
    "for tag, arr in zip(sampled_tags, sampled_data_arrays):\n",
    "    print(f\"Sampled Data for tag {tag}:\", arr)\n"
   ]
  },
  {
   "cell_type": "code",
   "execution_count": 6,
   "metadata": {},
   "outputs": [
    {
     "data": {
      "text/plain": [
       "['A', 'B', 'C']"
      ]
     },
     "execution_count": 6,
     "metadata": {},
     "output_type": "execute_result"
    }
   ],
   "source": [
    "sampled_tags"
   ]
  },
  {
   "cell_type": "code",
   "execution_count": 9,
   "metadata": {},
   "outputs": [],
   "source": [
    "def filter_data_by_tags(data, tags, select):\n",
    "    # Convert tag_list to a set for faster membership testing\n",
    "    tag_set = set(select)\n",
    "\n",
    "    # Create a boolean mask where True indicates the tag is in tag_list\n",
    "    mask = np.isin(tags, list(tag_set))\n",
    "\n",
    "    # Use the mask to filter the data and tags arrays\n",
    "    filtered_data = data[mask]\n",
    "    filtered_tags = tags[mask]\n",
    "\n",
    "    return filtered_data, filtered_tags"
   ]
  },
  {
   "cell_type": "code",
   "execution_count": 14,
   "metadata": {},
   "outputs": [],
   "source": [
    "data_array = np.array([1, 2, 3, 4, 5, 6, 7, 8, 9, 10])\n",
    "tag_array = np.array(['A', 'A', 'B', 'B', 'C', 'C', 'A', 'B', 'C', 'A'])"
   ]
  },
  {
   "cell_type": "code",
   "execution_count": 15,
   "metadata": {},
   "outputs": [],
   "source": [
    "def separate_and_sample_data(data_array, tag_array, sample_size):\n",
    "    # Ensure data_array and tag_array are numpy arrays\n",
    "    data_array = np.array(data_array)\n",
    "    tag_array = np.array(tag_array)\n",
    "    tags = np.unique(tag_array)\n",
    "    data_list = []\n",
    "    tag_list = []\n",
    "    for tag in tags: \n",
    "        filtered_data, filtered_tag = filter_data_by_tags(data_array, tag_array, tag)\n",
    "        indices = np.random.choice(len(filtered_data), size=sample_size, replace=(sample_size > len(filtered_data)))\n",
    "        selected_data = filtered_data[indices]\n",
    "        selected_tag = filtered_tag[indices]\n",
    "        data_list.append(selected_data)\n",
    "        tag_list.append(selected_tag)\n",
    "    return data_list, tag_list"
   ]
  },
  {
   "cell_type": "code",
   "execution_count": 18,
   "metadata": {},
   "outputs": [
    {
     "data": {
      "text/plain": [
       "([array([ 2,  7, 10,  2,  1]), array([3, 3, 3, 4, 4]), array([9, 5, 9, 5, 9])],\n",
       " [array(['A', 'A', 'A', 'A', 'A'], dtype='<U1'),\n",
       "  array(['B', 'B', 'B', 'B', 'B'], dtype='<U1'),\n",
       "  array(['C', 'C', 'C', 'C', 'C'], dtype='<U1')])"
      ]
     },
     "execution_count": 18,
     "metadata": {},
     "output_type": "execute_result"
    }
   ],
   "source": [
    "separate_and_sample_data(data_array, tag_array, 5)"
   ]
  },
  {
   "cell_type": "code",
   "execution_count": 19,
   "metadata": {},
   "outputs": [
    {
     "name": "stdout",
     "output_type": "stream",
     "text": [
      "Original array shape: (4, 3, 2)\n",
      "Reshaped array shape: (8, 3)\n",
      "Reshaped array:\n",
      " [[0.02521685 0.71435663 0.95357981]\n",
      " [0.38029638 0.94505827 0.26817545]\n",
      " [0.64866417 0.90751782 0.1139863 ]\n",
      " [0.99339275 0.86356921 0.18888309]\n",
      " [0.89208779 0.908706   0.86353659]\n",
      " [0.90969781 0.48239495 0.01755373]\n",
      " [0.85875399 0.16580447 0.53319592]\n",
      " [0.64257455 0.81657396 0.01052604]]\n"
     ]
    }
   ],
   "source": [
    "import numpy as np\n",
    "\n",
    "# Example array of shape (run, e, rep)\n",
    "array = np.random.rand(4, 3, 2)  # Example dimensions, replace with your actual dimensions\n",
    "\n",
    "# Reshape the array\n",
    "reshaped_array = array.transpose(0, 2, 1).reshape(-1, array.shape[1])\n",
    "\n",
    "print(\"Original array shape:\", array.shape)\n",
    "print(\"Reshaped array shape:\", reshaped_array.shape)\n",
    "print(\"Reshaped array:\\n\", reshaped_array)\n"
   ]
  },
  {
   "cell_type": "code",
   "execution_count": 7,
   "metadata": {},
   "outputs": [],
   "source": [
    "import torch\n",
    "import torch.nn as nn"
   ]
  },
  {
   "cell_type": "code",
   "execution_count": 5,
   "metadata": {},
   "outputs": [],
   "source": [
    "outputs = []\n",
    "dec_x = torch.tensor([1.0])\n",
    "\n",
    "for _ in range(3):\n",
    "    outputs.append(dec_x.clone().detach())\n",
    "    dec_x += 1  # Modify dec_x\n"
   ]
  },
  {
   "cell_type": "code",
   "execution_count": 6,
   "metadata": {},
   "outputs": [
    {
     "data": {
      "text/plain": [
       "[tensor([1.]), tensor([2.]), tensor([3.])]"
      ]
     },
     "execution_count": 6,
     "metadata": {},
     "output_type": "execute_result"
    }
   ],
   "source": [
    "outputs"
   ]
  },
  {
   "cell_type": "code",
   "execution_count": 10,
   "metadata": {},
   "outputs": [],
   "source": [
    "outputs = []\n",
    "dec_x = torch.tensor([1.0])\n",
    "lin = nn.Linear(1, 1)\n",
    "\n",
    "for _ in range(3):\n",
    "    outputs.append(dec_x)\n",
    "    dec_x = lin(dec_x)  # Modify dec_x\n"
   ]
  },
  {
   "cell_type": "code",
   "execution_count": 31,
   "metadata": {},
   "outputs": [],
   "source": [
    "lin1 = nn.Linear(1, 1)\n",
    "lin2 = nn.Linear(1, 1)"
   ]
  },
  {
   "cell_type": "code",
   "execution_count": 37,
   "metadata": {},
   "outputs": [],
   "source": [
    "def fun(x, y): \n",
    "    x = x + 1\n",
    "    y = lin2(y)\n",
    "    return x + y"
   ]
  },
  {
   "cell_type": "code",
   "execution_count": 38,
   "metadata": {},
   "outputs": [],
   "source": [
    "dec_x = torch.tensor([1.0])"
   ]
  },
  {
   "cell_type": "code",
   "execution_count": 39,
   "metadata": {},
   "outputs": [],
   "source": [
    "k = fun(dec_x, dec_x)"
   ]
  },
  {
   "cell_type": "code",
   "execution_count": 40,
   "metadata": {},
   "outputs": [
    {
     "data": {
      "text/plain": [
       "tensor([1.])"
      ]
     },
     "execution_count": 40,
     "metadata": {},
     "output_type": "execute_result"
    }
   ],
   "source": [
    "dec_x"
   ]
  },
  {
   "cell_type": "code",
   "execution_count": 41,
   "metadata": {},
   "outputs": [
    {
     "data": {
      "text/plain": [
       "tensor([1.0752], grad_fn=<AddBackward0>)"
      ]
     },
     "execution_count": 41,
     "metadata": {},
     "output_type": "execute_result"
    }
   ],
   "source": [
    "k"
   ]
  },
  {
   "cell_type": "code",
   "execution_count": 27,
   "metadata": {},
   "outputs": [],
   "source": [
    "dec_x = torch.tensor([1.0])\n",
    "\n",
    "outputs = []\n",
    "for _ in range(3):\n",
    "    fun(dec_x.clone())\n",
    "    outputs.append(dec_x)\n",
    "    dec_x += 1"
   ]
  },
  {
   "cell_type": "code",
   "execution_count": 28,
   "metadata": {},
   "outputs": [
    {
     "data": {
      "text/plain": [
       "[tensor([4.]), tensor([4.]), tensor([4.])]"
      ]
     },
     "execution_count": 28,
     "metadata": {},
     "output_type": "execute_result"
    }
   ],
   "source": [
    "outputs"
   ]
  },
  {
   "cell_type": "code",
   "execution_count": 42,
   "metadata": {},
   "outputs": [],
   "source": [
    "from model_attention import ScaledDotProductAttention"
   ]
  },
  {
   "cell_type": "code",
   "execution_count": 57,
   "metadata": {},
   "outputs": [],
   "source": [
    "attn = ScaledDotProductAttention(2, 2, 2, 2)"
   ]
  },
  {
   "cell_type": "code",
   "execution_count": 90,
   "metadata": {},
   "outputs": [],
   "source": [
    "dec_x = torch.randn(2, 3, 2)\n",
    "hid_r = torch.randn(2, 3, 2)"
   ]
  },
  {
   "cell_type": "code",
   "execution_count": 91,
   "metadata": {},
   "outputs": [
    {
     "data": {
      "text/plain": [
       "(tensor([[[-0.0826, -0.0035],\n",
       "          [ 2.0388, -1.0152],\n",
       "          [ 0.1554,  0.1011]],\n",
       " \n",
       "         [[-0.6186, -0.8835],\n",
       "          [ 0.0358,  0.1771],\n",
       "          [ 1.3495,  0.3323]]]),\n",
       " tensor([[[-1.3553,  0.7411],\n",
       "          [-0.5815, -0.9433],\n",
       "          [ 1.5289,  1.2274]],\n",
       " \n",
       "         [[ 1.3136,  1.4699],\n",
       "          [-1.2667, -0.4441],\n",
       "          [-0.1843,  1.4859]]]))"
      ]
     },
     "execution_count": 91,
     "metadata": {},
     "output_type": "execute_result"
    }
   ],
   "source": [
    "dec_x, hid_r"
   ]
  },
  {
   "cell_type": "code",
   "execution_count": 92,
   "metadata": {},
   "outputs": [
    {
     "name": "stdout",
     "output_type": "stream",
     "text": [
      "tensor([[[-0.0959,  0.0451],\n",
      "         [-0.3224, -0.0294],\n",
      "         [-0.1105,  0.0406]],\n",
      "\n",
      "        [[-0.3387, -0.0503],\n",
      "         [-0.3297, -0.0461],\n",
      "         [-0.4428, -0.0839]]], grad_fn=<BmmBackward0>)\n",
      "tensor([[[-0.0921,  0.0465],\n",
      "         [-0.0771,  0.0513],\n",
      "         [-0.0911,  0.0468]],\n",
      "\n",
      "        [[-0.3079, -0.0389],\n",
      "         [-0.3085, -0.0391],\n",
      "         [-0.2996, -0.0361]]], grad_fn=<BmmBackward0>)\n",
      "tensor([[[-0.0923,  0.0464],\n",
      "         [-0.0934,  0.0461],\n",
      "         [-0.0924,  0.0464]],\n",
      "\n",
      "        [[-0.3102, -0.0397],\n",
      "         [-0.3102, -0.0396],\n",
      "         [-0.3109, -0.0399]]], grad_fn=<BmmBackward0>)\n"
     ]
    }
   ],
   "source": [
    "dl = []\n",
    "al = []\n",
    "for i in range(3): \n",
    "    dec_x, attention_weight = attn(dec_x, hid_r, hid_r)\n",
    "    dl.append(dec_x.clone().detach())\n",
    "    print(dec_x)\n",
    "    al.append(attention_weight.clone().detach())"
   ]
  },
  {
   "cell_type": "code",
   "execution_count": 93,
   "metadata": {},
   "outputs": [
    {
     "data": {
      "text/plain": [
       "[tensor([[[-0.0959,  0.0451],\n",
       "          [-0.3224, -0.0294],\n",
       "          [-0.1105,  0.0406]],\n",
       " \n",
       "         [[-0.3387, -0.0503],\n",
       "          [-0.3297, -0.0461],\n",
       "          [-0.4428, -0.0839]]]),\n",
       " tensor([[[-0.0921,  0.0465],\n",
       "          [-0.0771,  0.0513],\n",
       "          [-0.0911,  0.0468]],\n",
       " \n",
       "         [[-0.3079, -0.0389],\n",
       "          [-0.3085, -0.0391],\n",
       "          [-0.2996, -0.0361]]]),\n",
       " tensor([[[-0.0923,  0.0464],\n",
       "          [-0.0934,  0.0461],\n",
       "          [-0.0924,  0.0464]],\n",
       " \n",
       "         [[-0.3102, -0.0397],\n",
       "          [-0.3102, -0.0396],\n",
       "          [-0.3109, -0.0399]]])]"
      ]
     },
     "execution_count": 93,
     "metadata": {},
     "output_type": "execute_result"
    }
   ],
   "source": [
    "dl"
   ]
  },
  {
   "cell_type": "code",
   "execution_count": 72,
   "metadata": {},
   "outputs": [
    {
     "data": {
      "text/plain": [
       "[tensor([[[0.4259, 0.1878, 0.3863],\n",
       "          [0.4259, 0.1878, 0.3863],\n",
       "          [0.4259, 0.1878, 0.3863]],\n",
       " \n",
       "         [[0.4100, 0.3243, 0.2657],\n",
       "          [0.4100, 0.3243, 0.2657],\n",
       "          [0.4101, 0.3240, 0.2659]]]),\n",
       " tensor([[[0.4259, 0.1878, 0.3863],\n",
       "          [0.4259, 0.1878, 0.3863],\n",
       "          [0.4259, 0.1878, 0.3863]],\n",
       " \n",
       "         [[0.4100, 0.3243, 0.2657],\n",
       "          [0.4100, 0.3243, 0.2657],\n",
       "          [0.4100, 0.3243, 0.2657]]]),\n",
       " tensor([[[0.4259, 0.1878, 0.3863],\n",
       "          [0.4259, 0.1878, 0.3863],\n",
       "          [0.4259, 0.1878, 0.3863]],\n",
       " \n",
       "         [[0.4100, 0.3243, 0.2657],\n",
       "          [0.4100, 0.3243, 0.2657],\n",
       "          [0.4100, 0.3243, 0.2657]]])]"
      ]
     },
     "execution_count": 72,
     "metadata": {},
     "output_type": "execute_result"
    }
   ],
   "source": [
    "al"
   ]
  },
  {
   "cell_type": "code",
   "execution_count": 58,
   "metadata": {},
   "outputs": [],
   "source": [
    "dec_x = torch.randn(2, 3, 2)\n",
    "hid_r = torch.randn(2, 3, 2)"
   ]
  },
  {
   "cell_type": "code",
   "execution_count": 60,
   "metadata": {},
   "outputs": [
    {
     "data": {
      "text/plain": [
       "tensor([[[ 0.3325,  1.3512],\n",
       "         [ 0.2701, -0.6283],\n",
       "         [-1.8334, -0.3375]],\n",
       "\n",
       "        [[-1.4090, -0.6623],\n",
       "         [-1.8631,  0.6772],\n",
       "         [ 0.0529, -0.3842]]])"
      ]
     },
     "execution_count": 60,
     "metadata": {},
     "output_type": "execute_result"
    }
   ],
   "source": [
    "hid_r"
   ]
  },
  {
   "cell_type": "code",
   "execution_count": 61,
   "metadata": {},
   "outputs": [],
   "source": [
    "dec_x, attention_weight = attn(dec_x, hid_r, hid_r)"
   ]
  },
  {
   "cell_type": "code",
   "execution_count": 62,
   "metadata": {},
   "outputs": [
    {
     "data": {
      "text/plain": [
       "(tensor([[[-0.0337,  0.0652],\n",
       "          [ 0.1152,  0.1198],\n",
       "          [ 0.0183,  0.0807]],\n",
       " \n",
       "         [[ 0.3165,  0.1622],\n",
       "          [ 0.2981,  0.1501],\n",
       "          [ 0.3118,  0.1573]]], grad_fn=<BmmBackward0>),\n",
       " tensor([[[ 0.3325,  1.3512],\n",
       "          [ 0.2701, -0.6283],\n",
       "          [-1.8334, -0.3375]],\n",
       " \n",
       "         [[-1.4090, -0.6623],\n",
       "          [-1.8631,  0.6772],\n",
       "          [ 0.0529, -0.3842]]]))"
      ]
     },
     "execution_count": 62,
     "metadata": {},
     "output_type": "execute_result"
    }
   ],
   "source": [
    "dec_x, hid_r"
   ]
  }
 ],
 "metadata": {
  "kernelspec": {
   "display_name": "wavln",
   "language": "python",
   "name": "python3"
  },
  "language_info": {
   "codemirror_mode": {
    "name": "ipython",
    "version": 3
   },
   "file_extension": ".py",
   "mimetype": "text/x-python",
   "name": "python",
   "nbconvert_exporter": "python",
   "pygments_lexer": "ipython3",
   "version": "3.10.11"
  }
 },
 "nbformat": 4,
 "nbformat_minor": 2
}
