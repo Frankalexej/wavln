{
 "cells": [
  {
   "attachments": {},
   "cell_type": "markdown",
   "metadata": {
    "id": "B-mljeGlqMqo"
   },
   "source": [
    "# Sequence Learning - Word Training - English - Testing Session - Stats\n",
    "In this session, we will look into the working status of our HMRNN-based AE and do stat on:   \n",
    "- How many times for each word the predicted sub-segments are more than the real segments;   \n",
    "-  ...  "
   ]
  },
  {
   "cell_type": "code",
   "execution_count": 1,
   "metadata": {
    "id": "jN5DNuExjwet"
   },
   "outputs": [],
   "source": [
    "import torch\n",
    "import torchaudio\n",
    "from torch import nn\n",
    "import torch.nn.functional as F\n",
    "from torch.nn.utils.rnn import pad_sequence, pack_sequence\n",
    "from torch import optim\n",
    "from torch.utils.data import Dataset, DataLoader, random_split\n",
    "import matplotlib.pyplot as plt\n",
    "import numpy as np\n",
    "# import csv\n",
    "import pandas as pd\n",
    "from sklearn.cluster import KMeans\n",
    "from sklearn.metrics import homogeneity_completeness_v_measure\n",
    "import pickle\n",
    "from paths import *\n",
    "from my_utils import *\n",
    "from padding import generate_mask_from_lengths_mat, mask_it, masked_loss\n",
    "# import pytz\n",
    "from datetime import datetime\n",
    "# import random\n",
    "# import gc\n",
    "import seaborn as sns"
   ]
  },
  {
   "cell_type": "code",
   "execution_count": 2,
   "metadata": {},
   "outputs": [],
   "source": [
    "# from model import PhonLearn_Net\n",
    "from model import PhonLearn_Net\n",
    "# DirectPassModel, TwoRNNModel, TwoRNNAttn"
   ]
  },
  {
   "attachments": {},
   "cell_type": "markdown",
   "metadata": {
    "tags": []
   },
   "source": [
    "### Dirs"
   ]
  },
  {
   "cell_type": "code",
   "execution_count": 3,
   "metadata": {
    "id": "iGouCDYD3h18"
   },
   "outputs": [],
   "source": [
    "model_save_dir = model_eng_save_dir\n",
    "# random_data:phone_seg_random_path\n",
    "# anno_data: phone_seg_anno_path\n",
    "\n",
    "# random_log_path = phone_seg_random_log_path + \"log.csv\"\n",
    "random_log_path = word_seg_anno_log_path\n",
    "random_path = word_seg_anno_path\n",
    "anno_log_path = phone_seg_anno_path"
   ]
  },
  {
   "attachments": {},
   "cell_type": "markdown",
   "metadata": {},
   "source": [
    "### Constants"
   ]
  },
  {
   "cell_type": "code",
   "execution_count": 4,
   "metadata": {},
   "outputs": [],
   "source": [
    "# 规范用语；规定两种方式：全加载；按rec加载（舍弃了按chunk加载，处理起来更简单）\n",
    "# RandomPhoneDataset; AnnoPhoneDataset; AnnoSeqDataset"
   ]
  },
  {
   "cell_type": "code",
   "execution_count": 5,
   "metadata": {},
   "outputs": [],
   "source": [
    "class AnnoWordWholeDataset(Dataset):\n",
    "    \"\"\"\n",
    "    A PyTorch dataset that loads cutted wave files from disk and returns input-output pairs for\n",
    "    training autoencoder. \n",
    "    \n",
    "    Version 3: wav -> mel\n",
    "    \"\"\"\n",
    "    \n",
    "    def __init__(self, load_dir, load_control_path, transform=None):\n",
    "        \"\"\"\n",
    "        Initializes the class by reading a CSV file and merging the \"rec\" and \"idx\" columns.\n",
    "\n",
    "        The function reads the CSV file from the provided control path, extracts the \"rec\" and \"idx\" columns,\n",
    "        and concatenates the values from these columns using an underscore. It then appends the \".wav\" extension\n",
    "        to each of the merged strings and converts the merged pandas Series to a list, which is assigned to\n",
    "        the 'dataset' attribute of the class.\n",
    "\n",
    "        Args:\n",
    "        load_dir (str): The directory containing the files to load.\n",
    "        load_control_path (str): The path to the CSV file containing the \"rec\" and \"idx\" columns.\n",
    "\n",
    "        Attributes:\n",
    "        dataset (list): A list of merged strings from the \"rec\" and \"idx\" columns, with the \".wav\" extension.\n",
    "        \"\"\"\n",
    "        control_file = pd.read_csv(load_control_path)\n",
    "        control_file = control_file[control_file['n_frames'] > 400]\n",
    "        control_file = control_file[control_file['duration'] <= 2.0]\n",
    "        \n",
    "        # Extract the \"rec\" and \"idx\" columns\n",
    "        rec_col = control_file['rec'].astype(str)\n",
    "        idx_col = control_file['idx'].astype(str).str.zfill(8)\n",
    "\n",
    "        # Extract the \"token\" and \"produced_segments\" columns\n",
    "        token_col = control_file['token'].astype(str)\n",
    "        produced_segments_col = control_file['produced_segments'].astype(str)\n",
    "        num_segs_col = produced_segments_col.apply(lambda x: len(x.split()))\n",
    "        \n",
    "        # Merge the two columns by concatenating the strings with '_' and append extension name\n",
    "        merged_col = rec_col + '_' + idx_col + \".wav\"\n",
    "        \n",
    "        self.dataset = merged_col.tolist()\n",
    "        self.infoset = num_segs_col.tolist()\n",
    "        self.load_dir = load_dir\n",
    "        self.transform = transform\n",
    "        self.info_rec_set = rec_col.tolist()\n",
    "        self.info_idx_set = idx_col.tolist()\n",
    "        self.info_token_set = token_col.tolist()\n",
    "        \n",
    "    \n",
    "    def __len__(self):\n",
    "        \"\"\"\n",
    "        Returns the length of the dataset.\n",
    "        \n",
    "        Returns:\n",
    "            int: The number of input-output pairs in the dataset.\n",
    "        \"\"\"\n",
    "        return len(self.dataset)\n",
    "    \n",
    "    def __getitem__(self, idx):\n",
    "        \"\"\"\n",
    "        Returns a tuple (input_data, output_data) for the given index.\n",
    "\n",
    "        The function first checks if the provided index is a tensor, and if so, converts it to a list.\n",
    "        It then constructs the file path for the .wav file using the dataset attribute and the provided index.\n",
    "        The .wav file is loaded using torchaudio, and its data is normalized. If a transform is provided,\n",
    "        the data is transformed using the specified transform. Finally, the input_data and output_data are\n",
    "        set to the same data (creating a tuple), and the tuple is returned.\n",
    "\n",
    "        Args:\n",
    "        idx (int or torch.Tensor): The index of the desired data.\n",
    "\n",
    "        Returns:\n",
    "        tuple: A tuple containing input_data and output_data, both of which are the audio data\n",
    "               from the .wav file at the specified index.\n",
    "\n",
    "        Note: \n",
    "        This function assumes that the class has the following attributes:\n",
    "        - self.load_dir (str): The directory containing the .wav files.\n",
    "        - self.dataset (list): A list of .wav file names.\n",
    "        - self.transform (callable, optional): An optional transform to apply to the audio data.\n",
    "        \"\"\"\n",
    "        if torch.is_tensor(idx):\n",
    "            idx = idx.tolist()\n",
    "        wav_name = os.path.join(self.load_dir,\n",
    "                                self.dataset[idx])\n",
    "        \n",
    "        data, sample_rate = torchaudio.load(wav_name, normalize=True)\n",
    "        if self.transform:\n",
    "            data = self.transform(data, sr=sample_rate)\n",
    "        \n",
    "        info = self.infoset[idx]\n",
    "        # extra info for completing a csv\n",
    "        info_rec = self.info_rec_set[idx]\n",
    "        info_idx = self.info_idx_set[idx]\n",
    "        info_token = self.info_token_set[idx]\n",
    "        \n",
    "        \n",
    "        # # Prepare for possible in-out discrepencies in the future\n",
    "        # input_data = data\n",
    "        # output_data = data\n",
    "        \n",
    "        return data, info, info_rec, info_idx, info_token\n",
    "\n",
    "def collate_fn(data):\n",
    "    xx, yy, aa, bb, cc = zip(*data)\n",
    "    # only working for one data at the moment\n",
    "    batch_first = True\n",
    "    x_lens = [len(x) for x in xx]\n",
    "    xx_pad = pad_sequence(xx, batch_first=batch_first, padding_value=0)\n",
    "    return xx_pad, x_lens, yy, aa, bb, cc\n",
    "\n",
    "\n",
    "class MyTransform(nn.Module): \n",
    "    def __init__(self, sample_rate, n_fft): \n",
    "        super().__init__()\n",
    "        # self.transform = torchaudio.transforms.MelSpectrogram(sample_rate, n_fft=n_fft, n_mels=64)\n",
    "        # self.to_db = torchaudio.transforms.AmplitudeToDB()\n",
    "        # self.transform = torchaudio.transforms.MFCC(n_mfcc=13)\n",
    "    \n",
    "    def forward(self, waveform, sr=16000): \n",
    "        # extract mfcc\n",
    "        feature = torchaudio.compliance.kaldi.mfcc(waveform, sample_frequency=sr)\n",
    "\n",
    "        # add deltas\n",
    "        d1 = torchaudio.functional.compute_deltas(feature)\n",
    "        d2 = torchaudio.functional.compute_deltas(d1)\n",
    "        feature = torch.cat([feature, d1, d2], dim=-1)\n",
    "\n",
    "        # Apply normalization (CMVN)\n",
    "        eps = 1e-9\n",
    "        mean = feature.mean(0, keepdim=True)\n",
    "        std = feature.std(0, keepdim=True, unbiased=False)\n",
    "        # print(feature.shape)\n",
    "        # print(mean, std)\n",
    "        feature = (feature - mean) / (std + eps)\n",
    "\n",
    "        # mel_spec = self.transform(waveform)\n",
    "        # # mel_spec = self.to_db(mel_spec)\n",
    "        # mel_spec = mel_spec.squeeze()\n",
    "        # mel_spec = mel_spec.permute(1, 0) # (F, L) -> (L, F)\n",
    "        return feature"
   ]
  },
  {
   "cell_type": "code",
   "execution_count": 6,
   "metadata": {},
   "outputs": [],
   "source": [
    "# # NOTE: THIS IS HOW WE CAN CREATE THE DATASET AND DATALOADER\n",
    "# sample_rate = 16000\n",
    "# n_fft = 400\n",
    "\n",
    "# transform = MyTransform(sample_rate, n_fft)\n",
    "\n",
    "# ds = PhoneDataset(phone_seg_random_path, phone_seg_random_log_path + \"s0101a.csv\", transform=transform)\n",
    "\n",
    "# test_dl = DataLoader(ds, batch_size=2, shuffle=True, collate_fn=collate_fn)\n",
    "\n",
    "# indata, in_lens = next(iter(test_dl))\n",
    "\n",
    "# print(indata.shape, in_lens)"
   ]
  },
  {
   "cell_type": "code",
   "execution_count": 7,
   "metadata": {},
   "outputs": [],
   "source": [
    "EPOCHS = 10\n",
    "BATCH_SIZE = 128\n",
    "\n",
    "# SEGMENTS_IN_CHUNK = 100  # set_size\n",
    "\n",
    "# INPUT_DIM = 128\n",
    "# OUTPUT_DIM = 128\n",
    "\n",
    "INPUT_DIM = 39\n",
    "OUTPUT_DIM = 13\n",
    "\n",
    "INTER_DIM_0 = 16\n",
    "INTER_DIM_1 = 8\n",
    "INTER_DIM_2 = 3\n",
    "INTER_DIM_3 = 3\n",
    "\n",
    "SIZE_LIST = [INTER_DIM_1, INTER_DIM_2]\n",
    "\n",
    "DROPOUT = 0.5\n",
    "\n",
    "REC_SAMPLE_RATE = 16000\n",
    "N_FFT = 400\n",
    "\n",
    "LOADER_WORKER = 0"
   ]
  },
  {
   "cell_type": "code",
   "execution_count": 8,
   "metadata": {
    "id": "lUxoYBUg1jLq"
   },
   "outputs": [],
   "source": [
    "device = torch.device('cuda' if torch.cuda.is_available() else 'cpu')\n",
    "# device = torch.device('cpu')\n",
    "recon_loss = nn.MSELoss(reduction='none')\n",
    "# model = TwoRNNAttn(1.0, SIZE_LIST, in_size=INPUT_DIM, \n",
    "#                       in2_size=INTER_DIM_0, hid_size=INTER_DIM_3, out_size=OUTPUT_DIM)\n",
    "model = PhonLearn_Net(1.0, SIZE_LIST, in_size=INPUT_DIM, \n",
    "                      in2_size=INTER_DIM_0, hid_size=INTER_DIM_3, out_size=OUTPUT_DIM)\n",
    "model.to(device)\n",
    "optimizer = optim.Adam(model.parameters(), lr=1e-3)"
   ]
  },
  {
   "cell_type": "code",
   "execution_count": 9,
   "metadata": {
    "colab": {
     "base_uri": "https://localhost:8080/"
    },
    "id": "QZBCTRw3iXys",
    "outputId": "7947acdb-1a95-49a4-8b1d-93f442cf41d1"
   },
   "outputs": [
    {
     "data": {
      "text/plain": [
       "PhonLearn_Net(\n",
       "  (encoder): Encoder(\n",
       "    (lin_1): LinearPack(\n",
       "      (linear): Linear(in_features=39, out_features=16, bias=True)\n",
       "      (relu): Tanh()\n",
       "      (dropout): Dropout(p=0.5, inplace=False)\n",
       "    )\n",
       "    (rnn): HM_LSTM(\n",
       "      (cell_1): HM_LSTMCell()\n",
       "      (cell_2): HM_LSTMCell()\n",
       "    )\n",
       "  )\n",
       "  (decoder): Decoder(\n",
       "    (lin_1): LinearPack(\n",
       "      (linear): Linear(in_features=13, out_features=3, bias=True)\n",
       "      (relu): Tanh()\n",
       "      (dropout): Dropout(p=0.5, inplace=False)\n",
       "    )\n",
       "    (rnn): LSTM(3, 16, batch_first=True)\n",
       "    (attention): ScaledDotProductAttention(\n",
       "      (w_q): Linear(in_features=16, out_features=16, bias=True)\n",
       "      (w_k): Linear(in_features=3, out_features=16, bias=True)\n",
       "      (w_v): Linear(in_features=3, out_features=16, bias=True)\n",
       "    )\n",
       "    (lin_2): LinearPack(\n",
       "      (linear): Linear(in_features=16, out_features=13, bias=True)\n",
       "      (relu): Tanh()\n",
       "      (dropout): Dropout(p=0.5, inplace=False)\n",
       "    )\n",
       "  )\n",
       ")"
      ]
     },
     "execution_count": 9,
     "metadata": {},
     "output_type": "execute_result"
    }
   ],
   "source": [
    "model"
   ]
  },
  {
   "cell_type": "code",
   "execution_count": 10,
   "metadata": {
    "id": "-T4OYaoXsxe_"
   },
   "outputs": [],
   "source": [
    "# READ = False\n",
    "READ = True"
   ]
  },
  {
   "cell_type": "code",
   "execution_count": 11,
   "metadata": {
    "id": "nVvnpUk5sWxb"
   },
   "outputs": [],
   "source": [
    "if READ: \n",
    "    # valid_losses.read()\n",
    "    # train_losses.read()\n",
    "\n",
    "    # model_name = last_model_name\n",
    "    model_name = \"PT_0623152604_35_full.pt\"\n",
    "    model_path = os.path.join(model_save_dir, model_name)\n",
    "    state = torch.load(model_path)\n",
    "    model = PhonLearn_Net(1.0, SIZE_LIST, in_size=INPUT_DIM, \n",
    "                      in2_size=INTER_DIM_0, hid_size=INTER_DIM_3, out_size=OUTPUT_DIM)\n",
    "    model.load_state_dict(state)\n",
    "    # device = torch.device('cuda' if torch.cuda.is_available() else 'cpu')\n",
    "    model.to(device)"
   ]
  },
  {
   "cell_type": "code",
   "execution_count": 12,
   "metadata": {
    "id": "6OCx4nqP40fz"
   },
   "outputs": [],
   "source": [
    "mytrans = MyTransform(sample_rate=REC_SAMPLE_RATE, n_fft=N_FFT)\n",
    "ds = AnnoWordWholeDataset(random_path, os.path.join(random_log_path, \"log.csv\"), transform=mytrans)\n",
    "# small_len = int(0.1 * len(ds))\n",
    "# other_len = len(ds) - small_len\n",
    "\n",
    "# # Randomly split the dataset into train and validation sets\n",
    "# ds, other_ds = random_split(ds, [small_len, other_len])\n",
    "\n",
    "train_len = int(0.8 * len(ds))\n",
    "valid_len = len(ds) - train_len\n",
    "\n",
    "# Randomly split the dataset into train and validation sets\n",
    "train_ds, valid_ds = random_split(ds, [train_len, valid_len])\n",
    "\n",
    "# train_loader = DataLoader(train_ds, batch_size=BATCH_SIZE, shuffle=True, num_workers=LOADER_WORKER, collate_fn=collate_fn)\n",
    "# train_num = len(train_loader.dataset)\n",
    "\n",
    "valid_loader = DataLoader(valid_ds, batch_size=BATCH_SIZE, shuffle=False, num_workers=LOADER_WORKER, collate_fn=collate_fn)\n",
    "valid_num = len(valid_loader.dataset)"
   ]
  },
  {
   "cell_type": "code",
   "execution_count": 13,
   "metadata": {},
   "outputs": [
    {
     "data": {
      "text/plain": [
       "444"
      ]
     },
     "execution_count": 13,
     "metadata": {},
     "output_type": "execute_result"
    }
   ],
   "source": [
    "len(valid_loader)"
   ]
  },
  {
   "cell_type": "code",
   "execution_count": 22,
   "metadata": {
    "colab": {
     "base_uri": "https://localhost:8080/"
    },
    "id": "y2n7doAD1uRi",
    "outputId": "e9c5bcb7-72db-4238-e83f-36e4dbe35748"
   },
   "outputs": [],
   "source": [
    "def infer(model_num=\"\"): \n",
    "    columns = ['rec', 'idx', 'token']\n",
    "    compara_df = pd.DataFrame(columns=columns)\n",
    "\n",
    "    model.eval()\n",
    "    for idx, (x, x_lens, info, info_rec, info_idx, info_token) in enumerate(valid_loader):\n",
    "        x_mask = generate_mask_from_lengths_mat(x_lens, device=device)\n",
    "        \n",
    "        x = x.to(device)\n",
    "\n",
    "        hid_r, z_1, z_2 = model.encode(x, x_mask)\n",
    "\n",
    "        # at present we only look at z_1, which is noting timesteps of report\n",
    "        # if the first z_1 is not 1, default (0) will be reported repeatedly until an occasion when z_1 == 1\n",
    "        # At present, let's just ignore the all-zero part before report \n",
    "        num_subsegments = torch.sum(z_1, dim=(1, 2))    # sum over L, H of (B, L, H)\n",
    "\n",
    "        # convert all to cpu\n",
    "        num_subsegments = num_subsegments.cpu()\n",
    "        num_mfcc_frames = x.size(1)\n",
    "        # Create a dictionary with the new data\n",
    "        new_data = {'rec': info_rec,\n",
    "                    'idx': info_idx,\n",
    "                    'token': info_token,\n",
    "                    'num_produced_segments': info,\n",
    "                    'num_subsegments': num_subsegments, \n",
    "                    'num_mfcc_frames': num_mfcc_frames}\n",
    "        new_data = pd.DataFrame.from_dict(new_data)\n",
    "        \n",
    "        # Append the new data to the DataFrame\n",
    "        compara_df = pd.concat((compara_df, new_data), ignore_index=True)\n",
    "        if idx % 10 == 0:\n",
    "            print(f\"Inference at step {idx}\")\n",
    "    compara_df.to_csv(os.path.join(word_seg_anno_log_path, 'compara_{}.csv'.format(model_num)), index=False)\n",
    "        "
   ]
  },
  {
   "cell_type": "code",
   "execution_count": 23,
   "metadata": {},
   "outputs": [
    {
     "name": "stdout",
     "output_type": "stream",
     "text": [
      "Inference at step 0\n",
      "Inference at step 10\n",
      "Inference at step 20\n",
      "Inference at step 30\n",
      "Inference at step 40\n",
      "Inference at step 50\n",
      "Inference at step 60\n",
      "Inference at step 70\n",
      "Inference at step 80\n",
      "Inference at step 90\n",
      "Inference at step 100\n",
      "Inference at step 110\n",
      "Inference at step 120\n",
      "Inference at step 130\n",
      "Inference at step 140\n",
      "Inference at step 150\n",
      "Inference at step 160\n",
      "Inference at step 170\n",
      "Inference at step 180\n",
      "Inference at step 190\n",
      "Inference at step 200\n",
      "Inference at step 210\n",
      "Inference at step 220\n",
      "Inference at step 230\n",
      "Inference at step 240\n",
      "Inference at step 250\n",
      "Inference at step 260\n",
      "Inference at step 270\n",
      "Inference at step 280\n",
      "Inference at step 290\n",
      "Inference at step 300\n",
      "Inference at step 310\n",
      "Inference at step 320\n",
      "Inference at step 330\n",
      "Inference at step 340\n",
      "Inference at step 350\n",
      "Inference at step 360\n",
      "Inference at step 370\n",
      "Inference at step 380\n",
      "Inference at step 390\n",
      "Inference at step 400\n",
      "Inference at step 410\n",
      "Inference at step 420\n",
      "Inference at step 430\n",
      "Inference at step 440\n"
     ]
    }
   ],
   "source": [
    "if __name__ == \"__main__\": \n",
    "    infer()"
   ]
  },
  {
   "cell_type": "code",
   "execution_count": 2,
   "metadata": {
    "id": "ZjPWgjpid7PR"
   },
   "outputs": [],
   "source": [
    "stat_res = pd.read_csv(os.path.join(word_seg_anno_log_path, \"compara_PT_0623152604_35_full.csv\"))"
   ]
  },
  {
   "cell_type": "code",
   "execution_count": 11,
   "metadata": {},
   "outputs": [],
   "source": [
    "def plot_subsegment_ratio_stat(df): \n",
    "    # Assuming your dataframe is called 'df'\n",
    "    # Calculate the 'ratio' column\n",
    "    df['ratio'] = df['num_subsegments'] / df.where(df['num_produced_segments'] != 0)['num_produced_segments']\n",
    "    df['ratio'].fillna(0, inplace=True)\n",
    "\n",
    "    # Create a list of columns to plot histograms\n",
    "    columns_to_plot = ['num_produced_segments', 'num_subsegments', 'num_mfcc_frames', 'ratio']\n",
    "\n",
    "    # Set up the plot\n",
    "    fig, axes = plt.subplots(nrows=2, ncols=2, figsize=(12, 8))\n",
    "    axes = axes.flatten()\n",
    "\n",
    "    # Loop through each column and plot the histogram\n",
    "    for i, col in enumerate(columns_to_plot):\n",
    "        mean = df[col].mean()\n",
    "        median = df[col].median()\n",
    "        std = df[col].std()\n",
    "\n",
    "        axes[i].hist(df[col], bins=20)\n",
    "        # sns.histplot(df[col], ax=axes[i], kde=True)\n",
    "        axes[i].axvline(mean, color='r', linestyle='--', label=f'Mean: {mean:.2f}')\n",
    "        axes[i].axvline(median, color='g', linestyle='-', label=f'Median: {median:.2f}')\n",
    "        axes[i].axvline(std, color='b', linestyle='-', label=f'Std: {std:.2f}')\n",
    "\n",
    "        axes[i].legend()\n",
    "        axes[i].set_title(col)\n",
    "\n",
    "    plt.tight_layout()\n",
    "    plt.show()"
   ]
  },
  {
   "cell_type": "code",
   "execution_count": 12,
   "metadata": {},
   "outputs": [],
   "source": [
    "# def plot_subsegment_ratio_stat(df): \n",
    "#     # Assuming your dataframe is named 'df'\n",
    "#     df['num_produced_segments_no_zero'] = np.where(df['num_produced_segments'] == 0, np.nan, df['num_produced_segments'])\n",
    "#     df['ratio'] = df['num_subsegments'] / df['num_produced_segments_no_zero']\n",
    "\n",
    "#     # Calculating mean, median, and standard deviation\n",
    "#     mean_produced_segments = df['num_produced_segments'].mean()\n",
    "#     median_produced_segments = df['num_produced_segments'].median()\n",
    "#     std_produced_segments = df['num_produced_segments'].std()\n",
    "\n",
    "#     mean_subsegments = df['num_subsegments'].mean()\n",
    "#     median_subsegments = df['num_subsegments'].median()\n",
    "#     std_subsegments = df['num_subsegments'].std()\n",
    "\n",
    "#     mean_ratio = df['ratio'].mean()\n",
    "#     median_ratio = df['ratio'].median()\n",
    "#     std_ratio = df['ratio'].std()\n",
    "\n",
    "#     mean_frame = df['num_mfcc_frames'].mean()\n",
    "#     median_frame = df['num_mfcc_frames'].median()\n",
    "#     std_frame = df['num_mfcc_frames'].std()\n",
    "\n",
    "#     # Plotting histograms\n",
    "#     fig, axes = plt.subplots(2, 2, figsize=(15, 5))\n",
    "\n",
    "#     axes[0, 0].hist(df['num_produced_segments'], bins=20)\n",
    "#     axes[0, 0].set_title('Histogram of num_produced_segments')\n",
    "#     axes[0, 0].text(0.6, 0.9, f'Mean: {mean_produced_segments:.2f}\\nMedian: {median_produced_segments:.2f}\\nStd: {std_produced_segments:.2f}', transform=axes[0].transAxes)\n",
    "\n",
    "#     axes[0, 1].hist(df['num_subsegments'], bins=20)\n",
    "#     axes[0, 1].set_title('Histogram of num_subsegments')\n",
    "#     axes[0, 1].text(0.6, 0.9, f'Mean: {mean_subsegments:.2f}\\nMedian: {median_subsegments:.2f}\\nStd: {std_subsegments:.2f}', transform=axes[1].transAxes)\n",
    "\n",
    "#     axes[1, 0].hist(df['ratio'], bins=20)\n",
    "#     axes[1, 0].set_title('Histogram of num_subsegments/num_produced_segments')\n",
    "#     axes[1, 0].text(0.6, 0.9, f'Mean: {mean_ratio:.2f}\\nMedian: {median_ratio:.2f}\\nStd: {std_ratio:.2f}', transform=axes[2].transAxes)\n",
    "\n",
    "#     axes[1, 1].hist(df['num_mfcc_frames'], bins=20)\n",
    "#     axes[1, 1].set_title('Histogram of num_mfcc_frames')\n",
    "#     axes[1, 1].text(0.6, 0.9, f'Mean: {mean_frame:.2f}\\nMedian: {median_frame:.2f}\\nStd: {std_frame:.2f}', transform=axes[2].transAxes)\n",
    "\n",
    "#     plt.show()"
   ]
  },
  {
   "cell_type": "code",
   "execution_count": 13,
   "metadata": {},
   "outputs": [
    {
     "data": {
      "image/png": "[encoded data removed]",
      "text/plain": [
       "<Figure size 1200x800 with 4 Axes>"
      ]
     },
     "metadata": {},
     "output_type": "display_data"
    }
   ],
   "source": [
    "plot_subsegment_ratio_stat(stat_res)"
   ]
  },
  {
   "cell_type": "code",
   "execution_count": null,
   "metadata": {},
   "outputs": [],
   "source": []
  }
 ],
 "metadata": {
  "accelerator": "GPU",
  "colab": {
   "provenance": []
  },
  "gpuClass": "standard",
  "kernelspec": {
   "display_name": "Python 3 (ipykernel)",
   "language": "python",
   "name": "python3"
  },
  "language_info": {
   "codemirror_mode": {
    "name": "ipython",
    "version": 3
   },
   "file_extension": ".py",
   "mimetype": "text/x-python",
   "name": "python",
   "nbconvert_exporter": "python",
   "pygments_lexer": "ipython3",
   "version": "3.10.11"
  }
 },
 "nbformat": 4,
 "nbformat_minor": 4
}
