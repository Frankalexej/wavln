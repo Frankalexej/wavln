{
 "cells": [
  {
   "cell_type": "markdown",
   "metadata": {},
   "source": [
    "# Speaker Gender Organize\n",
    "- 20240910\n",
    "There is no gender information in our current data, however, since we collected spearke id, and the dataset provides metadata regarding gender of speakers, we could therefore figure out gender of spearkers by matching speaker id with metadata. "
   ]
  },
  {
   "cell_type": "code",
   "execution_count": 2,
   "metadata": {},
   "outputs": [],
   "source": [
    "from paths import *\n",
    "import pandas as pd\n",
    "import os"
   ]
  },
  {
   "cell_type": "code",
   "execution_count": 6,
   "metadata": {},
   "outputs": [],
   "source": [
    "text_dir = os.path.join(src_, 'SPEAKERS.TXT')"
   ]
  },
  {
   "cell_type": "code",
   "execution_count": 12,
   "metadata": {},
   "outputs": [
    {
     "data": {
      "text/html": [
       "<div>\n",
       "<style scoped>\n",
       "    .dataframe tbody tr th:only-of-type {\n",
       "        vertical-align: middle;\n",
       "    }\n",
       "\n",
       "    .dataframe tbody tr th {\n",
       "        vertical-align: top;\n",
       "    }\n",
       "\n",
       "    .dataframe thead th {\n",
       "        text-align: right;\n",
       "    }\n",
       "</style>\n",
       "<table border=\"1\" class=\"dataframe\">\n",
       "  <thead>\n",
       "    <tr style=\"text-align: right;\">\n",
       "      <th></th>\n",
       "      <th>ID</th>\n",
       "      <th>SEX</th>\n",
       "      <th>SUBSET</th>\n",
       "      <th>MINUTES</th>\n",
       "      <th>NAME</th>\n",
       "    </tr>\n",
       "  </thead>\n",
       "  <tbody>\n",
       "    <tr>\n",
       "      <th>0</th>\n",
       "      <td>14</td>\n",
       "      <td>F</td>\n",
       "      <td>train-clean-360</td>\n",
       "      <td>25.03</td>\n",
       "      <td>Kristin LeMoine</td>\n",
       "    </tr>\n",
       "    <tr>\n",
       "      <th>1</th>\n",
       "      <td>16</td>\n",
       "      <td>F</td>\n",
       "      <td>train-clean-360</td>\n",
       "      <td>25.11</td>\n",
       "      <td>Alys AtteWater</td>\n",
       "    </tr>\n",
       "    <tr>\n",
       "      <th>2</th>\n",
       "      <td>17</td>\n",
       "      <td>M</td>\n",
       "      <td>train-clean-360</td>\n",
       "      <td>25.04</td>\n",
       "      <td>Gord Mackenzie</td>\n",
       "    </tr>\n",
       "    <tr>\n",
       "      <th>3</th>\n",
       "      <td>19</td>\n",
       "      <td>F</td>\n",
       "      <td>train-clean-100</td>\n",
       "      <td>25.19</td>\n",
       "      <td>Kara Shallenberg</td>\n",
       "    </tr>\n",
       "    <tr>\n",
       "      <th>4</th>\n",
       "      <td>20</td>\n",
       "      <td>F</td>\n",
       "      <td>train-other-500</td>\n",
       "      <td>30.07</td>\n",
       "      <td>Gesine</td>\n",
       "    </tr>\n",
       "    <tr>\n",
       "      <th>...</th>\n",
       "      <td>...</td>\n",
       "      <td>...</td>\n",
       "      <td>...</td>\n",
       "      <td>...</td>\n",
       "      <td>...</td>\n",
       "    </tr>\n",
       "    <tr>\n",
       "      <th>2479</th>\n",
       "      <td>8975</td>\n",
       "      <td>F</td>\n",
       "      <td>train-clean-100</td>\n",
       "      <td>25.11</td>\n",
       "      <td>Daisy Flaim</td>\n",
       "    </tr>\n",
       "    <tr>\n",
       "      <th>2480</th>\n",
       "      <td>9000</td>\n",
       "      <td>M</td>\n",
       "      <td>train-other-500</td>\n",
       "      <td>27.26</td>\n",
       "      <td>Ramon Escamilla</td>\n",
       "    </tr>\n",
       "    <tr>\n",
       "      <th>2481</th>\n",
       "      <td>9022</td>\n",
       "      <td>F</td>\n",
       "      <td>train-clean-360</td>\n",
       "      <td>25.17</td>\n",
       "      <td>Claire M</td>\n",
       "    </tr>\n",
       "    <tr>\n",
       "      <th>2482</th>\n",
       "      <td>9023</td>\n",
       "      <td>F</td>\n",
       "      <td>train-clean-360</td>\n",
       "      <td>25.19</td>\n",
       "      <td>P. J. Morgan</td>\n",
       "    </tr>\n",
       "    <tr>\n",
       "      <th>2483</th>\n",
       "      <td>9026</td>\n",
       "      <td>F</td>\n",
       "      <td>train-clean-360</td>\n",
       "      <td>21.75</td>\n",
       "      <td>Tammy Porter</td>\n",
       "    </tr>\n",
       "  </tbody>\n",
       "</table>\n",
       "<p>2484 rows × 5 columns</p>\n",
       "</div>"
      ],
      "text/plain": [
       "        ID SEX             SUBSET  MINUTES              NAME\n",
       "0       14  F   train-clean-360      25.03   Kristin LeMoine\n",
       "1       16  F   train-clean-360      25.11    Alys AtteWater\n",
       "2       17  M   train-clean-360      25.04    Gord Mackenzie\n",
       "3       19  F   train-clean-100      25.19  Kara Shallenberg\n",
       "4       20  F   train-other-500      30.07            Gesine\n",
       "...    ...  ..                ...      ...               ...\n",
       "2479  8975  F   train-clean-100      25.11       Daisy Flaim\n",
       "2480  9000  M   train-other-500      27.26   Ramon Escamilla\n",
       "2481  9022  F   train-clean-360      25.17          Claire M\n",
       "2482  9023  F   train-clean-360      25.19      P. J. Morgan\n",
       "2483  9026  F   train-clean-360      21.75      Tammy Porter\n",
       "\n",
       "[2484 rows x 5 columns]"
      ]
     },
     "execution_count": 12,
     "metadata": {},
     "output_type": "execute_result"
    }
   ],
   "source": [
    "df = pd.read_csv(\n",
    "    text_dir,  # Replace with the actual file path\n",
    "    sep='|',                  # Specify that the separator is a pipe (|)\n",
    "    skiprows=12,               # Skip the first 7 lines of comments\n",
    "    engine='python',          # Use the Python engine to handle complex separators\n",
    "    names=['ID', 'SEX', 'SUBSET', 'MINUTES', 'NAME'],  # Assign column names\n",
    "    skipinitialspace=True     # Remove any leading spaces after the separator\n",
    ")\n",
    "\n",
    "# Display the DataFrame\n",
    "df"
   ]
  },
  {
   "cell_type": "markdown",
   "metadata": {},
   "source": [
    "We can see that the gender (SEX) and ID is very clearly defined in the metadata. We can use this information to determine the gender of speakers using speaker ID. "
   ]
  },
  {
   "cell_type": "code",
   "execution_count": 15,
   "metadata": {},
   "outputs": [],
   "source": [
    "# Now save it. \n",
    "\n",
    "df.to_csv(os.path.join(src_, 'speakers.csv'), index=False)"
   ]
  },
  {
   "cell_type": "code",
   "execution_count": null,
   "metadata": {},
   "outputs": [],
   "source": []
  }
 ],
 "metadata": {
  "kernelspec": {
   "display_name": "wavln",
   "language": "python",
   "name": "python3"
  },
  "language_info": {
   "codemirror_mode": {
    "name": "ipython",
    "version": 3
   },
   "file_extension": ".py",
   "mimetype": "text/x-python",
   "name": "python",
   "nbconvert_exporter": "python",
   "pygments_lexer": "ipython3",
   "version": "3.11.7"
  }
 },
 "nbformat": 4,
 "nbformat_minor": 2
}
