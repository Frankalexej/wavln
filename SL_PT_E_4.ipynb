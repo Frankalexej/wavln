{
 "cells": [
  {
   "attachments": {},
   "cell_type": "markdown",
   "metadata": {
    "id": "B-mljeGlqMqo"
   },
   "source": [
    "# Sequence Learning - Phone Training - English\n",
    "Version 2:  This version has a core structure using HM-RNN. Unlike traditional approaches, our model can automatically detect boundaries. It is trainable and updates the upper layer only upon detecting boundaries. This makes our model suitable for detecting boundaries and capturing the representations of sub-segments based on these detected boundaries. In essence, our model performs boundary detection and representation learning simultaneously.\n",
    "\n",
    "Version 3: this version completed the coding of the core model structure as well as the dataloading, preprocessing, padding and loss calculation processes. At present we only try mel->model -> mel structure, since wav <> wav would introduce extra complexion. In addition, our model will process padded multi-batch tensors as normal but count for the paddings (ignore paddings) during calculation. \n",
    "\n",
    "Version 4: this version is testing whether our hmrnn is not working. It imports a modified version of model: model_test"
   ]
  },
  {
   "cell_type": "code",
   "execution_count": 1,
   "metadata": {},
   "outputs": [],
   "source": [
    "# import sys\n",
    "# sys.path.append('./multiscale_rnn')"
   ]
  },
  {
   "cell_type": "code",
   "execution_count": 2,
   "metadata": {
    "id": "jN5DNuExjwet"
   },
   "outputs": [],
   "source": [
    "import torch\n",
    "import torchaudio\n",
    "from torch import nn\n",
    "import torch.nn.functional as F\n",
    "from torch.nn.utils.rnn import pad_sequence, pack_sequence\n",
    "from torch import optim\n",
    "from torch.utils.data import Dataset, DataLoader, random_split\n",
    "import matplotlib.pyplot as plt\n",
    "import numpy as np\n",
    "import csv\n",
    "import pandas as pd\n",
    "from sklearn.cluster import KMeans\n",
    "from sklearn.metrics import homogeneity_completeness_v_measure\n",
    "import pickle\n",
    "from paths import *\n",
    "from my_utils import *\n",
    "from padding import generate_mask_from_lengths_mat, mask_it, masked_loss\n",
    "import pytz\n",
    "from datetime import datetime\n",
    "import random\n",
    "import gc"
   ]
  },
  {
   "cell_type": "code",
   "execution_count": 3,
   "metadata": {},
   "outputs": [],
   "source": [
    "from model import PhonLearn_Net"
   ]
  },
  {
   "attachments": {},
   "cell_type": "markdown",
   "metadata": {
    "tags": []
   },
   "source": [
    "### Dirs"
   ]
  },
  {
   "cell_type": "code",
   "execution_count": 4,
   "metadata": {
    "id": "iGouCDYD3h18"
   },
   "outputs": [],
   "source": [
    "model_save_dir = model_eng_save_dir\n",
    "# random_data:phone_seg_random_path\n",
    "# anno_data: phone_seg_anno_path\n",
    "\n",
    "# random_log_path = phone_seg_random_log_path + \"log.csv\"\n",
    "random_log_path = word_seg_anno_log_path\n",
    "random_path = word_seg_anno_path\n",
    "anno_log_path = phone_seg_anno_path"
   ]
  },
  {
   "attachments": {},
   "cell_type": "markdown",
   "metadata": {},
   "source": [
    "### Constants"
   ]
  },
  {
   "cell_type": "code",
   "execution_count": 5,
   "metadata": {},
   "outputs": [],
   "source": [
    "# 规范用语；规定两种方式：全加载；按rec加载（舍弃了按chunk加载，处理起来更简单）\n",
    "# RandomPhoneDataset; AnnoPhoneDataset; AnnoSeqDataset"
   ]
  },
  {
   "cell_type": "code",
   "execution_count": 6,
   "metadata": {},
   "outputs": [],
   "source": [
    "class PhoneDataset(Dataset):\n",
    "    \"\"\"\n",
    "    A PyTorch dataset that loads cutted wave files from disk and returns input-output pairs for\n",
    "    training autoencoder. \n",
    "    \n",
    "    Version 3: wav -> mel\n",
    "    \"\"\"\n",
    "    \n",
    "    def __init__(self, load_dir, load_control_path, transform=None):\n",
    "        \"\"\"\n",
    "        Initializes the class by reading a CSV file and merging the \"rec\" and \"idx\" columns.\n",
    "\n",
    "        The function reads the CSV file from the provided control path, extracts the \"rec\" and \"idx\" columns,\n",
    "        and concatenates the values from these columns using an underscore. It then appends the \".wav\" extension\n",
    "        to each of the merged strings and converts the merged pandas Series to a list, which is assigned to\n",
    "        the 'dataset' attribute of the class.\n",
    "\n",
    "        Args:\n",
    "        load_dir (str): The directory containing the files to load.\n",
    "        load_control_path (str): The path to the CSV file containing the \"rec\" and \"idx\" columns.\n",
    "\n",
    "        Attributes:\n",
    "        dataset (list): A list of merged strings from the \"rec\" and \"idx\" columns, with the \".wav\" extension.\n",
    "        \"\"\"\n",
    "        control_file = pd.read_csv(load_control_path)\n",
    "        control_file = control_file[control_file['n_frames'] > 0]\n",
    "        control_file = control_file[control_file['duration'] <= 2.0]\n",
    "        \n",
    "        # Extract the \"rec\" and \"idx\" columns\n",
    "        rec_col = control_file['rec'].astype(str)\n",
    "        idx_col = control_file['idx'].astype(str).str.zfill(8)\n",
    "        \n",
    "        # Merge the two columns by concatenating the strings with '_' and append extension name\n",
    "        merged_col = rec_col + '_' + idx_col + \".wav\"\n",
    "        \n",
    "        self.dataset = merged_col.tolist()\n",
    "        self.load_dir = load_dir\n",
    "        self.transform = transform\n",
    "        \n",
    "    \n",
    "    def __len__(self):\n",
    "        \"\"\"\n",
    "        Returns the length of the dataset.\n",
    "        \n",
    "        Returns:\n",
    "            int: The number of input-output pairs in the dataset.\n",
    "        \"\"\"\n",
    "        return len(self.dataset)\n",
    "    \n",
    "    def __getitem__(self, idx):\n",
    "        \"\"\"\n",
    "        Returns a tuple (input_data, output_data) for the given index.\n",
    "\n",
    "        The function first checks if the provided index is a tensor, and if so, converts it to a list.\n",
    "        It then constructs the file path for the .wav file using the dataset attribute and the provided index.\n",
    "        The .wav file is loaded using torchaudio, and its data is normalized. If a transform is provided,\n",
    "        the data is transformed using the specified transform. Finally, the input_data and output_data are\n",
    "        set to the same data (creating a tuple), and the tuple is returned.\n",
    "\n",
    "        Args:\n",
    "        idx (int or torch.Tensor): The index of the desired data.\n",
    "\n",
    "        Returns:\n",
    "        tuple: A tuple containing input_data and output_data, both of which are the audio data\n",
    "               from the .wav file at the specified index.\n",
    "\n",
    "        Note: \n",
    "        This function assumes that the class has the following attributes:\n",
    "        - self.load_dir (str): The directory containing the .wav files.\n",
    "        - self.dataset (list): A list of .wav file names.\n",
    "        - self.transform (callable, optional): An optional transform to apply to the audio data.\n",
    "        \"\"\"\n",
    "        if torch.is_tensor(idx):\n",
    "            idx = idx.tolist()\n",
    "        wav_name = os.path.join(self.load_dir,\n",
    "                                self.dataset[idx])\n",
    "        \n",
    "        data, sample_rate = torchaudio.load(wav_name, normalize=True)\n",
    "        if self.transform:\n",
    "            data = self.transform(data)\n",
    "        \n",
    "        # # Prepare for possible in-out discrepencies in the future\n",
    "        # input_data = data\n",
    "        # output_data = data\n",
    "        \n",
    "        return data\n",
    "\n",
    "def collate_fn(xx):\n",
    "    # only working for one data at the moment\n",
    "    batch_first = True\n",
    "    x_lens = [len(x) for x in xx]\n",
    "    xx_pad = pad_sequence(xx, batch_first=batch_first, padding_value=0)\n",
    "    return xx_pad, x_lens\n",
    "\n",
    "\n",
    "class MyTransform(nn.Module): \n",
    "    def __init__(self, sample_rate, n_fft): \n",
    "        super().__init__()\n",
    "        self.transform = torchaudio.transforms.MelSpectrogram(sample_rate, n_fft=n_fft)\n",
    "    \n",
    "    def forward(self, waveform): \n",
    "        mel_spec = self.transform(waveform)\n",
    "        mel_spec = mel_spec.squeeze()\n",
    "        mel_spec = mel_spec.permute(1, 0) # (F, L) -> (L, F)\n",
    "        return mel_spec"
   ]
  },
  {
   "cell_type": "code",
   "execution_count": 7,
   "metadata": {},
   "outputs": [],
   "source": [
    "# # NOTE: THIS IS HOW WE CAN CREATE THE DATASET AND DATALOADER\n",
    "# sample_rate = 16000\n",
    "# n_fft = 400\n",
    "\n",
    "# transform = MyTransform(sample_rate, n_fft)\n",
    "\n",
    "# ds = PhoneDataset(phone_seg_random_path, phone_seg_random_log_path + \"s0101a.csv\", transform=transform)\n",
    "\n",
    "# test_dl = DataLoader(ds, batch_size=2, shuffle=True, collate_fn=collate_fn)\n",
    "\n",
    "# indata, in_lens = next(iter(test_dl))\n",
    "\n",
    "# print(indata.shape, in_lens)"
   ]
  },
  {
   "cell_type": "code",
   "execution_count": 8,
   "metadata": {},
   "outputs": [],
   "source": [
    "EPOCHS = 10\n",
    "BATCH_SIZE = 128\n",
    "\n",
    "# SEGMENTS_IN_CHUNK = 100  # set_size\n",
    "\n",
    "INPUT_DIM = 128\n",
    "OUTPUT_DIM = 128\n",
    "\n",
    "INTER_DIM_0 = 64\n",
    "INTER_DIM_1 = 32\n",
    "INTER_DIM_2 = 8\n",
    "INTER_DIM_3 = 3\n",
    "\n",
    "SIZE_LIST = [INTER_DIM_1, INTER_DIM_2]\n",
    "\n",
    "DROPOUT = 0.5\n",
    "\n",
    "REC_SAMPLE_RATE = 16000\n",
    "N_FFT = 400\n",
    "\n",
    "LOADER_WORKER = 0"
   ]
  },
  {
   "cell_type": "code",
   "execution_count": 9,
   "metadata": {
    "id": "lUxoYBUg1jLq"
   },
   "outputs": [],
   "source": [
    "device = torch.device('cuda' if torch.cuda.is_available() else 'cpu')\n",
    "# device = torch.device('cpu')\n",
    "recon_loss = nn.MSELoss(reduction='mean')\n",
    "model = PhonLearn_Net(1.0, SIZE_LIST, in_size=INPUT_DIM, \n",
    "                      in2_size=INTER_DIM_0, hid_size=INTER_DIM_3, out_size=OUTPUT_DIM)\n",
    "model.to(device)\n",
    "optimizer = optim.Adam(model.parameters(), lr=1e-3)"
   ]
  },
  {
   "cell_type": "code",
   "execution_count": 10,
   "metadata": {
    "colab": {
     "base_uri": "https://localhost:8080/"
    },
    "id": "QZBCTRw3iXys",
    "outputId": "7947acdb-1a95-49a4-8b1d-93f442cf41d1"
   },
   "outputs": [
    {
     "data": {
      "text/plain": [
       "PhonLearn_Net(\n",
       "  (encoder): Encoder(\n",
       "    (lin_1): LinearPack(\n",
       "      (linear): Linear(in_features=128, out_features=64, bias=True)\n",
       "      (relu): ReLU()\n",
       "      (dropout): Dropout(p=0.5, inplace=False)\n",
       "    )\n",
       "    (rnn): HM_LSTM(\n",
       "      (cell_1): HM_LSTMCell()\n",
       "      (cell_2): HM_LSTMCell()\n",
       "    )\n",
       "    (lin_2): LinearPack(\n",
       "      (linear): Linear(in_features=8, out_features=3, bias=True)\n",
       "      (relu): ReLU()\n",
       "      (dropout): Dropout(p=0.5, inplace=False)\n",
       "    )\n",
       "  )\n",
       "  (decoder): Decoder(\n",
       "    (lin_1): LinearPack(\n",
       "      (linear): Linear(in_features=128, out_features=8, bias=True)\n",
       "      (relu): ReLU()\n",
       "      (dropout): Dropout(p=0.5, inplace=False)\n",
       "    )\n",
       "    (rnn): LSTM(8, 64, batch_first=True)\n",
       "    (attention): ScaledDotProductAttention(\n",
       "      (w_q): Linear(in_features=64, out_features=64, bias=True)\n",
       "      (w_k): Linear(in_features=3, out_features=64, bias=True)\n",
       "      (w_v): Linear(in_features=3, out_features=64, bias=True)\n",
       "    )\n",
       "    (lin_2): LinearPack(\n",
       "      (linear): Linear(in_features=64, out_features=128, bias=True)\n",
       "      (relu): ReLU()\n",
       "      (dropout): Dropout(p=0.5, inplace=False)\n",
       "    )\n",
       "  )\n",
       ")"
      ]
     },
     "execution_count": 10,
     "metadata": {},
     "output_type": "execute_result"
    }
   ],
   "source": [
    "model"
   ]
  },
  {
   "cell_type": "code",
   "execution_count": 11,
   "metadata": {},
   "outputs": [],
   "source": [
    "model_parameters = filter(lambda p: p.requires_grad, model.parameters())\n",
    "params = sum([np.prod(p.size()) for p in model_parameters])"
   ]
  },
  {
   "cell_type": "code",
   "execution_count": 12,
   "metadata": {},
   "outputs": [
    {
     "data": {
      "text/plain": [
       "56149"
      ]
     },
     "execution_count": 12,
     "metadata": {},
     "output_type": "execute_result"
    }
   ],
   "source": [
    "params"
   ]
  },
  {
   "cell_type": "code",
   "execution_count": 13,
   "metadata": {
    "id": "NNHDmuigs8OB"
   },
   "outputs": [],
   "source": [
    "# Define recorders of training hists, for ease of extension\n",
    "class Recorder: \n",
    "    def __init__(self, IOPath): \n",
    "        self.record = []\n",
    "        self.IOPath = IOPath\n",
    "\n",
    "    def save(self): \n",
    "        pass\n",
    "    \n",
    "    def append(self, content): \n",
    "        self.record.append(content)\n",
    "    \n",
    "    def get(self): \n",
    "        return self.record"
   ]
  },
  {
   "cell_type": "code",
   "execution_count": 14,
   "metadata": {
    "id": "kGMfle47t3Hj"
   },
   "outputs": [],
   "source": [
    "class LossRecorder(Recorder): \n",
    "    def read(self): \n",
    "        # only used by loss hists \n",
    "        with open(self.IOPath, 'rb') as f:\n",
    "            self.record = pickle.load(f)\n",
    "    \n",
    "    def save(self): \n",
    "        with open(self.IOPath, 'wb') as file:\n",
    "            pickle.dump(self.record, file)\n",
    "\n",
    "\n",
    "class HistRecorder(Recorder):     \n",
    "    def save(self): \n",
    "        with open(self.IOPath, \"a\") as txt:\n",
    "            txt.write(\"\\n\".join(self.record))\n",
    "    \n",
    "    def print(self, content): \n",
    "        self.append(content)\n",
    "        print(content)"
   ]
  },
  {
   "cell_type": "code",
   "execution_count": 15,
   "metadata": {
    "id": "ofsEE6OaoyPh"
   },
   "outputs": [],
   "source": [
    "# Just for keeping records of training hists. \n",
    "ts = str(get_timestamp())\n",
    "# ts = \"0130021416\"\n",
    "save_txt_name = \"train_txt_{}.hst\".format(ts)\n",
    "save_trainhist_name = \"train_hist_{}.hst\".format(ts)\n",
    "save_valhist_name = \"val_hist_{}.hst\".format(ts)"
   ]
  },
  {
   "cell_type": "code",
   "execution_count": 16,
   "metadata": {
    "id": "xUHYarigvT64"
   },
   "outputs": [],
   "source": [
    "valid_losses = LossRecorder(model_save_dir + save_valhist_name)\n",
    "train_losses = LossRecorder(model_save_dir + save_trainhist_name)\n",
    "text_hist = HistRecorder(model_save_dir + save_txt_name)"
   ]
  },
  {
   "cell_type": "code",
   "execution_count": 17,
   "metadata": {
    "id": "-T4OYaoXsxe_"
   },
   "outputs": [],
   "source": [
    "READ = False\n",
    "# READ = True"
   ]
  },
  {
   "cell_type": "code",
   "execution_count": 18,
   "metadata": {
    "id": "nVvnpUk5sWxb"
   },
   "outputs": [],
   "source": [
    "if READ: \n",
    "    valid_losses.read()\n",
    "    train_losses.read()\n",
    "\n",
    "    # model_name = last_model_name\n",
    "    model_name = \"PT_0130021416_9.pt\"\n",
    "    model_path = os.path.join(model_save_dir, model_name)\n",
    "    state = torch.load(model_path)\n",
    "    model = PhonLearn_Net()\n",
    "    model.load_state_dict(state)\n",
    "    # device = torch.device('cuda' if torch.cuda.is_available() else 'cpu')\n",
    "    model.to(device)"
   ]
  },
  {
   "cell_type": "code",
   "execution_count": 19,
   "metadata": {
    "id": "6OCx4nqP40fz"
   },
   "outputs": [
    {
     "name": "stderr",
     "output_type": "stream",
     "text": [
      "a:\\ProgramData\\anaconda3\\envs\\wavln\\lib\\site-packages\\torchaudio\\functional\\functional.py:576: UserWarning: At least one mel filterbank has all zero values. The value for `n_mels` (128) may be set too high. Or, the value for `n_freqs` (201) may be set too low.\n",
      "  warnings.warn(\n"
     ]
    }
   ],
   "source": [
    "mytrans = MyTransform(sample_rate=REC_SAMPLE_RATE, n_fft=N_FFT)\n",
    "ds = PhoneDataset(random_path, os.path.join(random_log_path, \"log.csv\"), transform=mytrans)\n",
    "train_len = int(0.8 * len(ds))\n",
    "valid_len = len(ds) - train_len\n",
    "\n",
    "# Randomly split the dataset into train and validation sets\n",
    "train_ds, valid_ds = random_split(ds, [train_len, valid_len])\n",
    "\n",
    "train_loader = DataLoader(train_ds, batch_size=BATCH_SIZE, shuffle=True, num_workers=LOADER_WORKER, collate_fn=collate_fn)\n",
    "train_num = len(train_loader.dataset)\n",
    "\n",
    "valid_loader = DataLoader(valid_ds, batch_size=BATCH_SIZE, shuffle=True, num_workers=LOADER_WORKER, collate_fn=collate_fn)\n",
    "valid_num = len(valid_loader.dataset)"
   ]
  },
  {
   "cell_type": "code",
   "execution_count": 20,
   "metadata": {},
   "outputs": [],
   "source": [
    "EPOCHS = 5\n",
    "BASE = 0"
   ]
  },
  {
   "cell_type": "code",
   "execution_count": 22,
   "metadata": {
    "colab": {
     "base_uri": "https://localhost:8080/"
    },
    "id": "y2n7doAD1uRi",
    "outputId": "e9c5bcb7-72db-4238-e83f-36e4dbe35748"
   },
   "outputs": [],
   "source": [
    "def train(): \n",
    "    for epoch in range(BASE, BASE + EPOCHS):\n",
    "        text_hist.print(\"Epoch {}\".format(epoch))\n",
    "\n",
    "        model.train()\n",
    "        train_loss = 0.\n",
    "        train_num = len(train_loader)\n",
    "        for idx, (x, x_lens) in enumerate(train_loader):\n",
    "            batch = x.size(0)\n",
    "            # print(x.size(1))\n",
    "            x_mask = generate_mask_from_lengths_mat(x_lens, device=device)\n",
    "            \n",
    "            x = x.to(device)\n",
    "            recon_x, _ = model(x, x_mask) # _ = hidden, z_1, z_2\n",
    "            \n",
    "            loss = masked_loss(recon_loss, recon_x, x, x_mask)\n",
    "\n",
    "            train_loss += loss.item()\n",
    "            # loss = loss / batch\n",
    "\n",
    "            optimizer.zero_grad()\n",
    "            loss.backward()\n",
    "            optimizer.step()\n",
    "\n",
    "            if idx % 20 == 0:\n",
    "                text_hist.print(f\"Training loss {loss: .3f} in Step {idx}\")\n",
    "                gc.collect()\n",
    "\n",
    "        train_losses.append(train_loss / train_num)\n",
    "        text_hist.print(f\"※※※Training loss {train_loss / train_num: .3f}※※※\")\n",
    "\n",
    "        last_model_name = \"PT_{}_{}_full.pt\".format(ts, epoch)\n",
    "        torch.save(model.state_dict(), os.path.join(model_save_dir, last_model_name))\n",
    "        text_hist.print(\"Training timepoint saved\")\n",
    "\n",
    "        model.eval()\n",
    "        valid_loss = 0.\n",
    "        valid_num = len(valid_loader)\n",
    "        for idx, (x, x_lens) in enumerate(valid_loader):\n",
    "            batch = x.size(0)\n",
    "            x_mask = generate_mask_from_lengths_mat(x_lens, device=device)\n",
    "            \n",
    "            x = x.to(device)\n",
    "            recon_x, _ = model(x, x_mask) # _ = hidden, z_1, z_2\n",
    "\n",
    "            loss = masked_loss(recon_loss, recon_x, x, x_mask)\n",
    "            valid_loss += loss.item()\n",
    "\n",
    "            # optimizer.zero_grad()\n",
    "            # loss.backward()\n",
    "            # optimizer.step()\n",
    "\n",
    "            if idx % 20 == 0:\n",
    "                # \\t Recon {recon / batch: .3f} \\t KL {kl / batch: .3f}\n",
    "                text_hist.print(f\"Valid loss {loss: .3f} in Step {idx}\")\n",
    "                gc.collect()\n",
    "\n",
    "        valid_losses.append(valid_loss / valid_num)\n",
    "        text_hist.print(f\"※※※Valid loss {valid_loss / valid_num: .3f}※※※\")"
   ]
  },
  {
   "cell_type": "code",
   "execution_count": 23,
   "metadata": {},
   "outputs": [
    {
     "name": "stdout",
     "output_type": "stream",
     "text": [
      "Epoch 0\n",
      "Training loss  47.236 in Step 0\n",
      "Training loss  95.204 in Step 20\n",
      "Training loss  27.758 in Step 40\n",
      "Training loss  84.375 in Step 60\n",
      "Training loss  87.464 in Step 80\n",
      "Training loss  19.101 in Step 100\n",
      "Training loss  23.252 in Step 120\n",
      "Training loss  94.971 in Step 140\n",
      "Training loss  76.845 in Step 160\n",
      "Training loss  144.011 in Step 180\n",
      "Training loss  690.503 in Step 200\n",
      "Training loss  31.237 in Step 220\n",
      "Training loss  103.132 in Step 240\n",
      "Training loss  50.907 in Step 260\n",
      "Training loss  70.931 in Step 280\n",
      "Training loss  136.197 in Step 300\n",
      "Training loss  62.136 in Step 320\n",
      "Training loss  371.980 in Step 340\n",
      "Training loss  206.231 in Step 360\n",
      "Training loss  14.090 in Step 380\n",
      "Training loss  60.188 in Step 400\n",
      "Training loss  178.188 in Step 420\n",
      "Training loss  50.812 in Step 440\n",
      "Training loss  238.896 in Step 460\n",
      "Training loss  31.765 in Step 480\n",
      "Training loss  36.669 in Step 500\n",
      "Training loss  356.313 in Step 520\n",
      "Training loss  90.099 in Step 540\n",
      "Training loss  191.524 in Step 560\n",
      "Training loss  74.530 in Step 580\n",
      "Training loss  83.751 in Step 600\n",
      "Training loss  314.480 in Step 620\n",
      "Training loss  11.667 in Step 640\n",
      "Training loss  46.939 in Step 660\n",
      "Training loss  41.369 in Step 680\n",
      "Training loss  60.293 in Step 700\n",
      "Training loss  63.247 in Step 720\n",
      "Training loss  42.656 in Step 740\n",
      "Training loss  460.633 in Step 760\n",
      "Training loss  16.916 in Step 780\n",
      "Training loss  54.050 in Step 800\n",
      "Training loss  201.967 in Step 820\n",
      "Training loss  664.519 in Step 840\n",
      "Training loss  134.700 in Step 860\n",
      "Training loss  288.863 in Step 880\n",
      "Training loss  336.659 in Step 900\n",
      "Training loss  116.861 in Step 920\n",
      "Training loss  188.230 in Step 940\n",
      "Training loss  23.158 in Step 960\n",
      "Training loss  88.218 in Step 980\n",
      "Training loss  157.341 in Step 1000\n",
      "Training loss  312.414 in Step 1020\n",
      "Training loss  119.129 in Step 1040\n",
      "Training loss  15.316 in Step 1060\n",
      "Training loss  136.848 in Step 1080\n",
      "Training loss  98.402 in Step 1100\n",
      "Training loss  75.745 in Step 1120\n",
      "Training loss  54.135 in Step 1140\n",
      "Training loss  266.925 in Step 1160\n",
      "Training loss  52.058 in Step 1180\n",
      "Training loss  215.896 in Step 1200\n",
      "Training loss  31.846 in Step 1220\n",
      "Training loss  76.527 in Step 1240\n",
      "Training loss  68.060 in Step 1260\n",
      "Training loss  219.614 in Step 1280\n",
      "Training loss  34.094 in Step 1300\n",
      "Training loss  112.335 in Step 1320\n",
      "Training loss  166.549 in Step 1340\n",
      "Training loss  72.734 in Step 1360\n",
      "Training loss  180.193 in Step 1380\n",
      "Training loss  125.147 in Step 1400\n",
      "Training loss  88.925 in Step 1420\n",
      "Training loss  56.901 in Step 1440\n",
      "Training loss  306.788 in Step 1460\n",
      "Training loss  114.178 in Step 1480\n",
      "Training loss  124.085 in Step 1500\n",
      "Training loss  30.878 in Step 1520\n",
      "Training loss  198.657 in Step 1540\n",
      "Training loss  326.098 in Step 1560\n",
      "Training loss  175.884 in Step 1580\n",
      "Training loss  58.932 in Step 1600\n",
      "Training loss  194.225 in Step 1620\n",
      "Training loss  228.087 in Step 1640\n",
      "Training loss  44.981 in Step 1660\n",
      "Training loss  27.857 in Step 1680\n",
      "Training loss  123.901 in Step 1700\n",
      "Training loss  30.860 in Step 1720\n",
      "Training loss  42.682 in Step 1740\n",
      "Training loss  200.798 in Step 1760\n",
      "※※※Training loss  136.656※※※\n",
      "Training timepoint saved\n",
      "Valid loss  16.162 in Step 0\n",
      "Valid loss  14.890 in Step 20\n",
      "Valid loss  85.626 in Step 40\n",
      "Valid loss  29.717 in Step 60\n",
      "Valid loss  443.691 in Step 80\n",
      "Valid loss  170.497 in Step 100\n",
      "Valid loss  180.606 in Step 120\n",
      "Valid loss  671.214 in Step 140\n",
      "Valid loss  232.565 in Step 160\n",
      "Valid loss  84.061 in Step 180\n",
      "Valid loss  43.664 in Step 200\n",
      "Valid loss  62.988 in Step 220\n",
      "Valid loss  48.376 in Step 240\n",
      "Valid loss  75.734 in Step 260\n",
      "Valid loss  60.405 in Step 280\n",
      "Valid loss  35.888 in Step 300\n",
      "Valid loss  266.949 in Step 320\n",
      "Valid loss  68.891 in Step 340\n",
      "Valid loss  204.937 in Step 360\n",
      "Valid loss  243.646 in Step 380\n",
      "Valid loss  154.849 in Step 400\n",
      "Valid loss  31.354 in Step 420\n",
      "Valid loss  246.505 in Step 440\n",
      "※※※Valid loss  138.144※※※\n",
      "Epoch 1\n",
      "Training loss  29.715 in Step 0\n",
      "Training loss  22.770 in Step 20\n",
      "Training loss  83.565 in Step 40\n",
      "Training loss  31.642 in Step 60\n",
      "Training loss  411.083 in Step 80\n",
      "Training loss  88.772 in Step 100\n",
      "Training loss  13.542 in Step 120\n",
      "Training loss  278.910 in Step 140\n",
      "Training loss  33.994 in Step 160\n",
      "Training loss  42.409 in Step 180\n",
      "Training loss  25.747 in Step 200\n",
      "Training loss  106.350 in Step 220\n",
      "Training loss  17.785 in Step 240\n",
      "Training loss  55.474 in Step 260\n",
      "Training loss  31.226 in Step 280\n",
      "Training loss  7.431 in Step 300\n",
      "Training loss  28.900 in Step 320\n",
      "Training loss  103.276 in Step 340\n",
      "Training loss  159.243 in Step 360\n",
      "Training loss  18.893 in Step 380\n",
      "Training loss  78.224 in Step 400\n",
      "Training loss  128.011 in Step 420\n",
      "Training loss  156.632 in Step 440\n",
      "Training loss  198.582 in Step 460\n",
      "Training loss  30.243 in Step 480\n",
      "Training loss  61.475 in Step 500\n",
      "Training loss  208.236 in Step 520\n",
      "Training loss  43.637 in Step 540\n",
      "Training loss  39.580 in Step 560\n",
      "Training loss  7.723 in Step 580\n",
      "Training loss  183.048 in Step 600\n",
      "Training loss  600.990 in Step 620\n",
      "Training loss  363.129 in Step 640\n",
      "Training loss  110.358 in Step 660\n",
      "Training loss  35.052 in Step 680\n",
      "Training loss  100.849 in Step 700\n",
      "Training loss  238.196 in Step 720\n",
      "Training loss  373.364 in Step 740\n",
      "Training loss  190.873 in Step 760\n",
      "Training loss  88.152 in Step 780\n",
      "Training loss  189.530 in Step 800\n",
      "Training loss  278.527 in Step 820\n",
      "Training loss  53.857 in Step 840\n",
      "Training loss  107.517 in Step 860\n",
      "Training loss  46.400 in Step 880\n",
      "Training loss  58.435 in Step 900\n",
      "Training loss  52.766 in Step 920\n",
      "Training loss  142.395 in Step 940\n",
      "Training loss  248.867 in Step 960\n",
      "Training loss  33.806 in Step 980\n",
      "Training loss  672.298 in Step 1000\n",
      "Training loss  35.851 in Step 1020\n",
      "Training loss  33.041 in Step 1040\n",
      "Training loss  103.905 in Step 1060\n",
      "Training loss  26.632 in Step 1080\n",
      "Training loss  64.319 in Step 1100\n",
      "Training loss  496.536 in Step 1120\n",
      "Training loss  12.012 in Step 1140\n",
      "Training loss  19.532 in Step 1160\n",
      "Training loss  91.752 in Step 1180\n",
      "Training loss  92.635 in Step 1200\n",
      "Training loss  55.427 in Step 1220\n",
      "Training loss  24.323 in Step 1240\n",
      "Training loss  236.424 in Step 1260\n",
      "Training loss  27.561 in Step 1280\n",
      "Training loss  117.113 in Step 1300\n",
      "Training loss  281.744 in Step 1320\n",
      "Training loss  139.002 in Step 1340\n",
      "Training loss  153.611 in Step 1360\n",
      "Training loss  208.506 in Step 1380\n",
      "Training loss  178.076 in Step 1400\n",
      "Training loss  108.249 in Step 1420\n",
      "Training loss  187.531 in Step 1440\n",
      "Training loss  170.427 in Step 1460\n",
      "Training loss  35.023 in Step 1480\n",
      "Training loss  54.107 in Step 1500\n",
      "Training loss  132.932 in Step 1520\n",
      "Training loss  53.574 in Step 1540\n",
      "Training loss  27.347 in Step 1560\n",
      "Training loss  45.009 in Step 1580\n",
      "Training loss  173.207 in Step 1600\n",
      "Training loss  254.304 in Step 1620\n",
      "Training loss  23.774 in Step 1640\n",
      "Training loss  984.220 in Step 1660\n",
      "Training loss  18.487 in Step 1680\n",
      "Training loss  209.035 in Step 1700\n",
      "Training loss  260.767 in Step 1720\n",
      "Training loss  191.829 in Step 1740\n",
      "Training loss  133.886 in Step 1760\n",
      "※※※Training loss  135.706※※※\n",
      "Training timepoint saved\n",
      "Valid loss  18.602 in Step 0\n",
      "Valid loss  265.034 in Step 20\n",
      "Valid loss  43.510 in Step 40\n",
      "Valid loss  47.993 in Step 60\n",
      "Valid loss  182.934 in Step 80\n",
      "Valid loss  44.364 in Step 100\n",
      "Valid loss  70.914 in Step 120\n",
      "Valid loss  83.497 in Step 140\n",
      "Valid loss  59.568 in Step 160\n",
      "Valid loss  130.513 in Step 180\n",
      "Valid loss  48.651 in Step 200\n",
      "Valid loss  46.024 in Step 220\n",
      "Valid loss  76.769 in Step 240\n",
      "Valid loss  50.486 in Step 260\n",
      "Valid loss  68.204 in Step 280\n",
      "Valid loss  32.815 in Step 300\n",
      "Valid loss  34.720 in Step 320\n",
      "Valid loss  92.546 in Step 340\n",
      "Valid loss  14.505 in Step 360\n",
      "Valid loss  83.973 in Step 380\n",
      "Valid loss  63.356 in Step 400\n",
      "Valid loss  1062.916 in Step 420\n",
      "Valid loss  49.942 in Step 440\n",
      "※※※Valid loss  136.979※※※\n",
      "Epoch 2\n",
      "Training loss  500.648 in Step 0\n",
      "Training loss  136.190 in Step 20\n",
      "Training loss  162.531 in Step 40\n",
      "Training loss  53.296 in Step 60\n",
      "Training loss  164.885 in Step 80\n",
      "Training loss  123.695 in Step 100\n",
      "Training loss  36.126 in Step 120\n",
      "Training loss  51.773 in Step 140\n",
      "Training loss  673.734 in Step 160\n",
      "Training loss  39.799 in Step 180\n",
      "Training loss  10.991 in Step 200\n",
      "Training loss  22.690 in Step 220\n",
      "Training loss  39.664 in Step 240\n",
      "Training loss  175.285 in Step 260\n",
      "Training loss  39.761 in Step 280\n",
      "Training loss  25.319 in Step 300\n",
      "Training loss  116.503 in Step 320\n",
      "Training loss  82.406 in Step 340\n",
      "Training loss  32.147 in Step 360\n",
      "Training loss  431.708 in Step 380\n",
      "Training loss  144.747 in Step 400\n",
      "Training loss  102.707 in Step 420\n",
      "Training loss  90.368 in Step 440\n",
      "Training loss  531.601 in Step 460\n",
      "Training loss  506.960 in Step 480\n",
      "Training loss  45.177 in Step 500\n",
      "Training loss  237.398 in Step 520\n",
      "Training loss  83.160 in Step 540\n",
      "Training loss  23.580 in Step 560\n",
      "Training loss  90.651 in Step 580\n",
      "Training loss  29.231 in Step 600\n",
      "Training loss  28.193 in Step 620\n",
      "Training loss  300.428 in Step 640\n",
      "Training loss  31.641 in Step 660\n",
      "Training loss  68.628 in Step 680\n",
      "Training loss  35.259 in Step 700\n",
      "Training loss  91.231 in Step 720\n",
      "Training loss  67.157 in Step 740\n",
      "Training loss  53.170 in Step 760\n",
      "Training loss  321.742 in Step 780\n",
      "Training loss  159.575 in Step 800\n",
      "Training loss  544.577 in Step 820\n",
      "Training loss  117.031 in Step 840\n",
      "Training loss  105.015 in Step 860\n",
      "Training loss  74.747 in Step 880\n",
      "Training loss  31.923 in Step 900\n",
      "Training loss  126.330 in Step 920\n",
      "Training loss  76.217 in Step 940\n",
      "Training loss  25.303 in Step 960\n",
      "Training loss  91.646 in Step 980\n",
      "Training loss  52.903 in Step 1000\n",
      "Training loss  31.751 in Step 1020\n",
      "Training loss  13.609 in Step 1040\n",
      "Training loss  89.664 in Step 1060\n",
      "Training loss  119.785 in Step 1080\n",
      "Training loss  13.501 in Step 1100\n",
      "Training loss  269.320 in Step 1120\n",
      "Training loss  163.954 in Step 1140\n",
      "Training loss  179.949 in Step 1160\n",
      "Training loss  51.070 in Step 1180\n",
      "Training loss  69.195 in Step 1200\n",
      "Training loss  117.578 in Step 1220\n",
      "Training loss  63.740 in Step 1240\n",
      "Training loss  628.006 in Step 1260\n",
      "Training loss  385.526 in Step 1280\n",
      "Training loss  83.412 in Step 1300\n",
      "Training loss  262.718 in Step 1320\n",
      "Training loss  357.965 in Step 1340\n",
      "Training loss  127.757 in Step 1360\n",
      "Training loss  27.099 in Step 1380\n",
      "Training loss  38.349 in Step 1400\n",
      "Training loss  23.918 in Step 1420\n",
      "Training loss  118.860 in Step 1440\n",
      "Training loss  70.825 in Step 1460\n",
      "Training loss  208.277 in Step 1480\n",
      "Training loss  93.800 in Step 1500\n",
      "Training loss  134.881 in Step 1520\n",
      "Training loss  183.114 in Step 1540\n",
      "Training loss  907.856 in Step 1560\n",
      "Training loss  163.158 in Step 1580\n",
      "Training loss  76.930 in Step 1600\n",
      "Training loss  112.292 in Step 1620\n",
      "Training loss  36.706 in Step 1640\n",
      "Training loss  190.928 in Step 1660\n",
      "Training loss  856.879 in Step 1680\n",
      "Training loss  78.038 in Step 1700\n",
      "Training loss  58.674 in Step 1720\n",
      "Training loss  136.347 in Step 1740\n",
      "Training loss  38.950 in Step 1760\n",
      "※※※Training loss  135.699※※※\n",
      "Training timepoint saved\n",
      "Valid loss  57.149 in Step 0\n",
      "Valid loss  434.238 in Step 20\n",
      "Valid loss  1011.890 in Step 40\n",
      "Valid loss  27.740 in Step 60\n",
      "Valid loss  33.302 in Step 80\n",
      "Valid loss  81.006 in Step 100\n",
      "Valid loss  20.157 in Step 120\n",
      "Valid loss  52.192 in Step 140\n",
      "Valid loss  17.881 in Step 160\n",
      "Valid loss  34.513 in Step 180\n",
      "Valid loss  407.473 in Step 200\n",
      "Valid loss  346.458 in Step 220\n",
      "Valid loss  87.851 in Step 240\n",
      "Valid loss  23.985 in Step 260\n",
      "Valid loss  728.116 in Step 280\n",
      "Valid loss  152.663 in Step 300\n",
      "Valid loss  541.528 in Step 320\n",
      "Valid loss  58.717 in Step 340\n",
      "Valid loss  205.245 in Step 360\n",
      "Valid loss  17.223 in Step 380\n",
      "Valid loss  38.515 in Step 400\n",
      "Valid loss  53.986 in Step 420\n",
      "Valid loss  189.745 in Step 440\n",
      "※※※Valid loss  136.768※※※\n",
      "Epoch 3\n",
      "Training loss  95.982 in Step 0\n",
      "Training loss  26.819 in Step 20\n",
      "Training loss  56.298 in Step 40\n",
      "Training loss  102.630 in Step 60\n",
      "Training loss  43.861 in Step 80\n",
      "Training loss  52.075 in Step 100\n",
      "Training loss  19.040 in Step 120\n",
      "Training loss  324.114 in Step 140\n",
      "Training loss  201.926 in Step 160\n",
      "Training loss  14.785 in Step 180\n",
      "Training loss  220.351 in Step 200\n",
      "Training loss  267.899 in Step 220\n",
      "Training loss  101.556 in Step 240\n",
      "Training loss  59.982 in Step 260\n",
      "Training loss  103.153 in Step 280\n",
      "Training loss  168.120 in Step 300\n",
      "Training loss  9.774 in Step 320\n",
      "Training loss  60.207 in Step 340\n",
      "Training loss  60.420 in Step 360\n",
      "Training loss  38.263 in Step 380\n",
      "Training loss  22.978 in Step 400\n",
      "Training loss  202.796 in Step 420\n",
      "Training loss  254.765 in Step 440\n",
      "Training loss  25.076 in Step 460\n",
      "Training loss  58.843 in Step 480\n",
      "Training loss  80.426 in Step 500\n",
      "Training loss  304.837 in Step 520\n",
      "Training loss  210.906 in Step 540\n",
      "Training loss  126.150 in Step 560\n",
      "Training loss  28.589 in Step 580\n",
      "Training loss  272.500 in Step 600\n",
      "Training loss  108.287 in Step 620\n",
      "Training loss  18.272 in Step 640\n",
      "Training loss  23.526 in Step 660\n",
      "Training loss  207.317 in Step 680\n",
      "Training loss  81.102 in Step 700\n",
      "Training loss  43.193 in Step 720\n",
      "Training loss  35.741 in Step 740\n",
      "Training loss  111.859 in Step 760\n",
      "Training loss  100.381 in Step 780\n",
      "Training loss  369.796 in Step 800\n",
      "Training loss  545.168 in Step 820\n",
      "Training loss  117.035 in Step 840\n",
      "Training loss  201.026 in Step 860\n",
      "Training loss  102.960 in Step 880\n",
      "Training loss  20.729 in Step 900\n",
      "Training loss  57.341 in Step 920\n",
      "Training loss  52.530 in Step 940\n",
      "Training loss  495.612 in Step 960\n",
      "Training loss  16.810 in Step 980\n",
      "Training loss  33.974 in Step 1000\n",
      "Training loss  291.638 in Step 1020\n",
      "Training loss  509.049 in Step 1040\n",
      "Training loss  22.938 in Step 1060\n",
      "Training loss  216.062 in Step 1080\n",
      "Training loss  50.481 in Step 1100\n",
      "Training loss  37.792 in Step 1120\n",
      "Training loss  129.255 in Step 1140\n",
      "Training loss  122.430 in Step 1160\n",
      "Training loss  290.048 in Step 1180\n",
      "Training loss  105.757 in Step 1200\n",
      "Training loss  125.042 in Step 1220\n",
      "Training loss  173.592 in Step 1240\n",
      "Training loss  43.383 in Step 1260\n",
      "Training loss  42.002 in Step 1280\n",
      "Training loss  16.172 in Step 1300\n",
      "Training loss  17.417 in Step 1320\n",
      "Training loss  56.368 in Step 1340\n",
      "Training loss  92.899 in Step 1360\n",
      "Training loss  110.272 in Step 1380\n",
      "Training loss  152.062 in Step 1400\n",
      "Training loss  166.422 in Step 1420\n",
      "Training loss  49.224 in Step 1440\n",
      "Training loss  22.954 in Step 1460\n",
      "Training loss  43.307 in Step 1480\n",
      "Training loss  26.741 in Step 1500\n",
      "Training loss  57.370 in Step 1520\n",
      "Training loss  23.851 in Step 1540\n",
      "Training loss  70.886 in Step 1560\n",
      "Training loss  252.187 in Step 1580\n",
      "Training loss  16.552 in Step 1600\n",
      "Training loss  116.427 in Step 1620\n",
      "Training loss  115.516 in Step 1640\n",
      "Training loss  51.926 in Step 1660\n",
      "Training loss  16.523 in Step 1680\n",
      "Training loss  799.557 in Step 1700\n",
      "Training loss  76.258 in Step 1720\n",
      "Training loss  213.446 in Step 1740\n",
      "Training loss  62.250 in Step 1760\n",
      "※※※Training loss  134.983※※※\n",
      "Training timepoint saved\n",
      "Valid loss  22.533 in Step 0\n",
      "Valid loss  21.866 in Step 20\n",
      "Valid loss  80.070 in Step 40\n",
      "Valid loss  105.218 in Step 60\n",
      "Valid loss  52.679 in Step 80\n",
      "Valid loss  196.537 in Step 100\n",
      "Valid loss  693.826 in Step 120\n",
      "Valid loss  52.591 in Step 140\n",
      "Valid loss  90.104 in Step 160\n",
      "Valid loss  118.091 in Step 180\n",
      "Valid loss  49.794 in Step 200\n",
      "Valid loss  88.648 in Step 220\n",
      "Valid loss  127.179 in Step 240\n",
      "Valid loss  34.887 in Step 260\n",
      "Valid loss  109.765 in Step 280\n",
      "Valid loss  33.271 in Step 300\n",
      "Valid loss  131.610 in Step 320\n",
      "Valid loss  240.937 in Step 340\n",
      "Valid loss  24.212 in Step 360\n",
      "Valid loss  42.170 in Step 380\n",
      "Valid loss  80.089 in Step 400\n",
      "Valid loss  26.978 in Step 420\n",
      "Valid loss  184.625 in Step 440\n",
      "※※※Valid loss  136.899※※※\n",
      "Epoch 4\n",
      "Training loss  105.983 in Step 0\n",
      "Training loss  36.620 in Step 20\n",
      "Training loss  108.646 in Step 40\n",
      "Training loss  322.630 in Step 60\n",
      "Training loss  129.331 in Step 80\n",
      "Training loss  143.366 in Step 100\n",
      "Training loss  82.068 in Step 120\n",
      "Training loss  37.083 in Step 140\n",
      "Training loss  63.586 in Step 160\n",
      "Training loss  30.751 in Step 180\n",
      "Training loss  1253.619 in Step 200\n",
      "Training loss  163.270 in Step 220\n",
      "Training loss  135.883 in Step 240\n",
      "Training loss  18.657 in Step 260\n",
      "Training loss  49.177 in Step 280\n",
      "Training loss  39.909 in Step 300\n",
      "Training loss  17.109 in Step 320\n",
      "Training loss  35.802 in Step 340\n",
      "Training loss  715.402 in Step 360\n",
      "Training loss  59.791 in Step 380\n",
      "Training loss  465.868 in Step 400\n",
      "Training loss  246.809 in Step 420\n",
      "Training loss  93.454 in Step 440\n",
      "Training loss  84.764 in Step 460\n",
      "Training loss  178.977 in Step 480\n",
      "Training loss  14.990 in Step 500\n",
      "Training loss  62.378 in Step 520\n",
      "Training loss  67.312 in Step 540\n",
      "Training loss  132.326 in Step 560\n",
      "Training loss  213.793 in Step 580\n",
      "Training loss  42.943 in Step 600\n",
      "Training loss  258.617 in Step 620\n",
      "Training loss  202.375 in Step 640\n",
      "Training loss  44.901 in Step 660\n",
      "Training loss  54.647 in Step 680\n",
      "Training loss  16.686 in Step 700\n",
      "Training loss  88.693 in Step 720\n",
      "Training loss  20.513 in Step 740\n",
      "Training loss  16.340 in Step 760\n",
      "Training loss  18.766 in Step 780\n",
      "Training loss  61.366 in Step 800\n",
      "Training loss  68.141 in Step 820\n",
      "Training loss  29.763 in Step 840\n",
      "Training loss  84.582 in Step 860\n",
      "Training loss  507.936 in Step 880\n",
      "Training loss  12.306 in Step 900\n",
      "Training loss  137.868 in Step 920\n",
      "Training loss  296.574 in Step 940\n",
      "Training loss  157.380 in Step 960\n",
      "Training loss  280.301 in Step 980\n",
      "Training loss  116.225 in Step 1000\n",
      "Training loss  76.082 in Step 1020\n",
      "Training loss  96.597 in Step 1040\n",
      "Training loss  175.137 in Step 1060\n",
      "Training loss  395.447 in Step 1080\n",
      "Training loss  88.637 in Step 1100\n",
      "Training loss  12.688 in Step 1120\n",
      "Training loss  25.325 in Step 1140\n",
      "Training loss  91.226 in Step 1160\n",
      "Training loss  84.881 in Step 1180\n",
      "Training loss  78.099 in Step 1200\n",
      "Training loss  89.047 in Step 1220\n",
      "Training loss  37.825 in Step 1240\n",
      "Training loss  150.466 in Step 1260\n",
      "Training loss  192.402 in Step 1280\n",
      "Training loss  74.232 in Step 1300\n",
      "Training loss  43.304 in Step 1320\n",
      "Training loss  216.659 in Step 1340\n",
      "Training loss  86.872 in Step 1360\n",
      "Training loss  14.065 in Step 1380\n",
      "Training loss  131.813 in Step 1400\n",
      "Training loss  8.999 in Step 1420\n",
      "Training loss  141.809 in Step 1440\n",
      "Training loss  232.799 in Step 1460\n",
      "Training loss  80.670 in Step 1480\n",
      "Training loss  429.776 in Step 1500\n",
      "Training loss  130.059 in Step 1520\n",
      "Training loss  18.908 in Step 1540\n",
      "Training loss  252.208 in Step 1560\n",
      "Training loss  131.083 in Step 1580\n",
      "Training loss  123.593 in Step 1600\n",
      "Training loss  38.282 in Step 1620\n",
      "Training loss  151.333 in Step 1640\n",
      "Training loss  154.813 in Step 1660\n",
      "Training loss  9.042 in Step 1680\n",
      "Training loss  721.992 in Step 1700\n",
      "Training loss  203.672 in Step 1720\n",
      "Training loss  253.963 in Step 1740\n",
      "Training loss  66.785 in Step 1760\n",
      "※※※Training loss  135.464※※※\n",
      "Training timepoint saved\n",
      "Valid loss  15.675 in Step 0\n",
      "Valid loss  148.788 in Step 20\n",
      "Valid loss  1092.472 in Step 40\n",
      "Valid loss  313.403 in Step 60\n",
      "Valid loss  29.830 in Step 80\n",
      "Valid loss  97.067 in Step 100\n",
      "Valid loss  52.174 in Step 120\n",
      "Valid loss  39.919 in Step 140\n",
      "Valid loss  27.995 in Step 160\n",
      "Valid loss  17.496 in Step 180\n",
      "Valid loss  29.990 in Step 200\n",
      "Valid loss  26.912 in Step 220\n",
      "Valid loss  34.080 in Step 240\n",
      "Valid loss  223.331 in Step 260\n",
      "Valid loss  135.615 in Step 280\n",
      "Valid loss  47.858 in Step 300\n",
      "Valid loss  763.502 in Step 320\n",
      "Valid loss  40.307 in Step 340\n",
      "Valid loss  323.030 in Step 360\n",
      "Valid loss  167.223 in Step 380\n",
      "Valid loss  28.451 in Step 400\n",
      "Valid loss  36.055 in Step 420\n",
      "Valid loss  54.012 in Step 440\n",
      "※※※Valid loss  137.051※※※\n"
     ]
    }
   ],
   "source": [
    "if __name__ == \"__main__\": \n",
    "    train()"
   ]
  },
  {
   "attachments": {},
   "cell_type": "markdown",
   "metadata": {},
   "source": [
    "# Remark: this problem: RuntimeError: Argument #4: Padding size should be less than the corresponding input dimension, but got: padding (200, 200) at dimension 2 of input [1, 1, 27]. is consistent across CPU and GPU. "
   ]
  },
  {
   "cell_type": "code",
   "execution_count": 24,
   "metadata": {
    "id": "KSTTwi31xAvh"
   },
   "outputs": [],
   "source": [
    "### Save\n",
    "valid_losses.save()\n",
    "train_losses.save()\n",
    "text_hist.save()"
   ]
  },
  {
   "cell_type": "code",
   "execution_count": 25,
   "metadata": {
    "colab": {
     "base_uri": "https://localhost:8080/",
     "height": 281
    },
    "id": "3yaMyIzH12RD",
    "outputId": "1426c24a-c60c-48c2-8690-f3a07bb9ba7b"
   },
   "outputs": [
    {
     "data": {
      "text/plain": [
       "<matplotlib.legend.Legend at 0x21836c1b280>"
      ]
     },
     "execution_count": 25,
     "metadata": {},
     "output_type": "execute_result"
    },
    {
     "data": {
      "image/png": "[encoded data removed]",
      "text/plain": [
       "<Figure size 640x480 with 1 Axes>"
      ]
     },
     "metadata": {},
     "output_type": "display_data"
    }
   ],
   "source": [
    "plt.plot(train_losses.get(), label='Train')\n",
    "plt.plot(valid_losses.get(), label='Valid')\n",
    "plt.title(\"Learning Curve\")\n",
    "plt.legend()"
   ]
  },
  {
   "cell_type": "code",
   "execution_count": null,
   "metadata": {
    "colab": {
     "base_uri": "https://localhost:8080/",
     "height": 35
    },
    "id": "_UcLyHcQMGu0",
    "outputId": "4b56200c-1dc4-4286-b51a-d19e9c75ddd9"
   },
   "outputs": [
    {
     "data": {
      "application/vnd.google.colaboratory.intrinsic+json": {
       "type": "string"
      },
      "text/plain": [
       "'0130021416'"
      ]
     },
     "execution_count": 23,
     "metadata": {},
     "output_type": "execute_result"
    }
   ],
   "source": [
    "ts"
   ]
  },
  {
   "attachments": {},
   "cell_type": "markdown",
   "metadata": {
    "id": "E6-6g-sW3zeg"
   },
   "source": [
    "We can see that with Sigmoid the model seems to perform slightly worse, but this should not be a big problem. Then the decision might depend more on whether the use of it is common and justifiable. I don't think it's common, and the use of it does not seem to be analytically necessary. "
   ]
  },
  {
   "cell_type": "code",
   "execution_count": null,
   "metadata": {
    "id": "tNJ0DAlaWrEE"
   },
   "outputs": [],
   "source": [
    "class ResAECluster(ResAE): \n",
    "    def __init__(self, input_dim=INPUT_DIM, inter_dim1=INTER_DIM_1, inter_dim2=INTER_DIM_2, inter_dim3=INTER_DIM_3, latent_dim=LATENT_DIM, output_dim=OUTPUT_DIM): \n",
    "        super().__init__(input_dim, inter_dim1, inter_dim2, inter_dim3, latent_dim, output_dim)\n",
    "\n",
    "    def forward(self, x):\n",
    "        org_size = x.size()\n",
    "        batch = org_size[0]\n",
    "        x = x.view(batch, -1)\n",
    "\n",
    "        h = self.encoder(x)\n",
    "        # mu, logvar = h.chunk(2, dim=1)\n",
    "        # z = self.reparameterise(mu, logvar)\n",
    "\n",
    "        return h"
   ]
  },
  {
   "cell_type": "code",
   "execution_count": null,
   "metadata": {
    "id": "BFrvzaGC45Gi"
   },
   "outputs": [],
   "source": [
    "seq = \"_01_05\"\n",
    "tags = pd.read_csv(tags_name + seq + \".csv\")\n",
    "gsds = GroundedSoundDataset(tags, test_name + seq + \".npy\")\n",
    "eval_loader = DataLoader(gsds, batch_size=BATCH_SIZE, shuffle=False, num_workers=0)"
   ]
  },
  {
   "cell_type": "code",
   "execution_count": null,
   "metadata": {
    "colab": {
     "base_uri": "https://localhost:8080/",
     "height": 35
    },
    "id": "QARr-C_qpBLb",
    "outputId": "acd5e8ab-1ef6-4968-c205-b437ecfd7b8e"
   },
   "outputs": [
    {
     "data": {
      "application/vnd.google.colaboratory.intrinsic+json": {
       "type": "string"
      },
      "text/plain": [
       "'model_english_0130021416_29_full'"
      ]
     },
     "execution_count": 26,
     "metadata": {},
     "output_type": "execute_result"
    }
   ],
   "source": [
    "last_model_name"
   ]
  },
  {
   "cell_type": "code",
   "execution_count": null,
   "metadata": {
    "id": "KXLqyT3PYFkR"
   },
   "outputs": [],
   "source": [
    "# model_name = last_model_name\n",
    "model_name = \"model_english_0130021416_13_full\"\n",
    "model_path = save_dir + model_name + \".pt\"\n",
    "state = torch.load(model_path)\n",
    "model = ResAECluster()\n",
    "model.load_state_dict(state)\n",
    "# device = torch.device('cuda' if torch.cuda.is_available() else 'cpu')\n",
    "model.to(device)\n",
    "hiddens = None\n",
    "tags = None\n",
    "model.eval()\n",
    "with torch.no_grad():\n",
    "    for idx, (s, e, t) in enumerate(eval_loader):\n",
    "        s = s.to(device)\n",
    "        hidden = model(s)\n",
    "        hidden = hidden.cpu().data.numpy()\n",
    "\n",
    "        if hiddens is not None: \n",
    "            hiddens = np.concatenate((hiddens, hidden), axis=0)\n",
    "            tags = np.concatenate((tags, t), axis=0)\n",
    "        else: \n",
    "            hiddens = hidden\n",
    "            tags = t\n",
    "num_phones = np.unique(tags).shape[0]\n",
    "kmeansmodel = KMeans(n_clusters=num_phones) # , random_state=0\n",
    "clusters = kmeansmodel.fit_predict(hiddens)\n",
    "np.save(save_dir + model_name + seq + \"_hiddenclusters.npy\", clusters)\n",
    "np.save(save_dir + model_name + seq + \"_hiddenrepresentation.npy\", hiddens)\n"
   ]
  },
  {
   "cell_type": "code",
   "execution_count": null,
   "metadata": {
    "id": "BzTuc2Mz6niT"
   },
   "outputs": [],
   "source": [
    "h, c, v = homogeneity_completeness_v_measure(tags, clusters)"
   ]
  },
  {
   "cell_type": "code",
   "execution_count": null,
   "metadata": {
    "colab": {
     "base_uri": "https://localhost:8080/"
    },
    "id": "3ogsEovzEbpc",
    "outputId": "3cd43d32-f30c-4fb3-f5eb-945d6dd0ecc6"
   },
   "outputs": [
    {
     "name": "stdout",
     "output_type": "stream",
     "text": [
      "_01_05 0.30813685860010276 0.2726217590636009 0.2892933823757265\n"
     ]
    }
   ],
   "source": [
    "print(seq, h, c, v) # trained on sampled data"
   ]
  },
  {
   "cell_type": "code",
   "execution_count": null,
   "metadata": {
    "id": "FMFbNimpx-iJ"
   },
   "outputs": [],
   "source": [
    "# _17_24 0.3429902101084872 0.329164358854651 0.33593508938856537   # 256+8\n",
    "# _17_24 0.3071758873778334 0.2958512436337788 0.3014072290332542   # 128+4\n",
    "# _17_24 0.3048181747064378 0.303971996633573 0.3043944976042278    # 128+2\n",
    "# _17_24 0.3109960687106377 0.3020004935745723 0.3064322772063619   # 256+2, 2res\n",
    "# _17_24 0.27632046463064963 0.29796767719078493 0.28673608598337974    # 256+64+2, 2res, new model\n",
    "# _17_24 0.29619001674434664 0.30940705212658304 0.30265430485339223    # 256+64+4, 0res\n",
    "# _17_24 0.3394207670351701 0.3356821861468344 0.33754112484613674      # 256+64+4, 2res\n",
    "# _17_24 0.3246121630042821 0.3173438869288583 0.32093687897447765  # 256+3, 2res, not very bad. So we may try this. This is error, decoder only having 1 res\n",
    "# _17_24 0.3227539602867097 0.32256957773330264 0.3226617426690128  # 256+3, 2res\n",
    "# _17_24 0.3403517130774138 0.33762198107176034 0.33898135170147237 # 256+3, 1res\n",
    "# _17_24 0.3202704367215642 0.31097127191607643 0.3155523587925454  # 256+3, 0res\n",
    "\n",
    "\n",
    "# _01_05 0.30784101366300043 0.2717512535534188 0.28867252408265254"
   ]
  },
  {
   "attachments": {},
   "cell_type": "markdown",
   "metadata": {
    "id": "_gYDGP0Cdf1o"
   },
   "source": [
    "总的来说分成四个，神经网层来进行降维处理，得到的损失比较大，但是 hcv值倒是接近不过，如果能尽量的接近原作的模型结构，我们就不去动它了，所以可能目前来看最好的是保留两个降为层加上两个残差层，最后从256降到2，也许是最好的结果当然降到4也是可以的，都是比较低的维度，不过如果我们想要直接能够，在，可视的空间中画出这些点来，2或者3可能会比四更好一些。 "
   ]
  },
  {
   "attachments": {},
   "cell_type": "markdown",
   "metadata": {
    "id": "nTTdgp_HokAn"
   },
   "source": [
    "从使用不同数量残插块儿的实验结果来看，是由一个残渣块，应该是最好的解决方式，使用零个或两个第三个都可能是都会使hcv值相对降低。由此来看在选择，隐性层纬度为三的情况下，我们应该选择适用一个参差款。"
   ]
  },
  {
   "attachments": {},
   "cell_type": "markdown",
   "metadata": {
    "id": "BxdQ9f85WY1K"
   },
   "source": [
    "### Conclusion\n",
    "Adding new data slightly improves the performance of the model in HCV score, in addition, shuffling the training data largely lowers the HGV score perhaps we should discuss this phenomenon and justify use no shuffling during training. Perhaps this is because of some sort of phonotactics or naturalness of sound streams. "
   ]
  },
  {
   "attachments": {},
   "cell_type": "markdown",
   "metadata": {
    "id": "kjoJ2fFKpmVC"
   },
   "source": [
    "Good news is that for the English model it performs similar well. "
   ]
  },
  {
   "cell_type": "code",
   "execution_count": null,
   "metadata": {
    "id": "ZjPWgjpid7PR"
   },
   "outputs": [],
   "source": []
  }
 ],
 "metadata": {
  "accelerator": "GPU",
  "colab": {
   "provenance": []
  },
  "gpuClass": "standard",
  "kernelspec": {
   "display_name": "Python 3 (ipykernel)",
   "language": "python",
   "name": "python3"
  },
  "language_info": {
   "codemirror_mode": {
    "name": "ipython",
    "version": 3
   },
   "file_extension": ".py",
   "mimetype": "text/x-python",
   "name": "python",
   "nbconvert_exporter": "python",
   "pygments_lexer": "ipython3",
   "version": "3.10.11"
  }
 },
 "nbformat": 4,
 "nbformat_minor": 4
}
