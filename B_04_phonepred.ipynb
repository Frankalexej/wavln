{
 "cells": [
  {
   "attachments": {},
   "cell_type": "markdown",
   "metadata": {
    "id": "B-mljeGlqMqo"
   },
   "source": [
    "# AI Lab Run\n",
    "V1: New dataset, old model.   \n",
    "A3: untrain model.   \n",
    "A5: this time we change the traning target to predicting the phoneme of each frame (which we can grab from the matched phone guide). From this we again check the several matters concerned and evaluate how well it can be guided to learned the phonemes. \n",
    "\n",
    "A6: This time we use CTC as prediction loss. "
   ]
  },
  {
   "cell_type": "code",
   "execution_count": 1,
   "metadata": {
    "id": "jN5DNuExjwet"
   },
   "outputs": [],
   "source": [
    "import torch\n",
    "from torch import nn\n",
    "import torch.nn.functional as F\n",
    "from torch.nn.utils.rnn import pad_sequence, pack_sequence\n",
    "from torch import optim\n",
    "from torch.utils.data import Dataset, DataLoader, random_split\n",
    "import matplotlib.pyplot as plt\n",
    "import numpy as np\n",
    "from torchaudio.models.decoder import ctc_decoder"
   ]
  },
  {
   "cell_type": "code",
   "execution_count": 2,
   "metadata": {},
   "outputs": [],
   "source": [
    "from model_model import VQVAEV1 as TheEncoder\n",
    "from model_model import VQPhonePredV1 as ThePredictor\n",
    "from model_dataset import DS_Tools\n",
    "from model_dataset import WordDatasetPhoneseq as ThisDataset\n",
    "from model_dataset import Normalizer, DeNormalizer, TokenMap\n",
    "from model_dataset import MelSpecTransformDB as TheTransform\n",
    "from paths import *\n",
    "from misc_my_utils import *\n",
    "from misc_recorder import *\n",
    "from model_loss import *\n",
    "from model_padding import generate_mask_from_lengths_mat"
   ]
  },
  {
   "attachments": {},
   "cell_type": "markdown",
   "metadata": {
    "tags": []
   },
   "source": [
    "### Dirs"
   ]
  },
  {
   "cell_type": "code",
   "execution_count": 3,
   "metadata": {
    "id": "iGouCDYD3h18"
   },
   "outputs": [],
   "source": [
    "rec_dir = train_cut_word_\n",
    "train_guide_path = os.path.join(src_, \"guide_train.csv\")\n",
    "valid_guide_path = os.path.join(src_, \"guide_validation.csv\")\n",
    "test_guide_path = os.path.join(src_, \"guide_test.csv\")"
   ]
  },
  {
   "attachments": {},
   "cell_type": "markdown",
   "metadata": {},
   "source": [
    "### Constants"
   ]
  },
  {
   "cell_type": "code",
   "execution_count": 4,
   "metadata": {},
   "outputs": [],
   "source": [
    "BATCH_SIZE = 512\n",
    "\n",
    "INPUT_DIM = 64\n",
    "OUTPUT_DIM = 64 \n",
    "\n",
    "INTER_DIM_0 = 32\n",
    "INTER_DIM_1 = 16\n",
    "INTER_DIM_2 = 8\n",
    "\n",
    "ENC_SIZE_LIST = [INPUT_DIM, INTER_DIM_0, INTER_DIM_1, INTER_DIM_2]\n",
    "DEC_SIZE_LIST = [OUTPUT_DIM, INTER_DIM_0, INTER_DIM_1, INTER_DIM_2]\n",
    "\n",
    "DROPOUT = 0.3\n",
    "NUM_LAYERS = 3\n",
    "EMBEDDING_DIM = 256\n",
    "\n",
    "REC_SAMPLE_RATE = 16000\n",
    "N_FFT = 400\n",
    "N_MELS = 64\n",
    "\n",
    "LOADER_WORKER = 32\n",
    "# LOADER_WORKER = 0"
   ]
  },
  {
   "cell_type": "markdown",
   "metadata": {},
   "source": [
    "## Prepare for this time of training"
   ]
  },
  {
   "cell_type": "code",
   "execution_count": 15,
   "metadata": {
    "id": "ofsEE6OaoyPh"
   },
   "outputs": [
    {
     "name": "stdout",
     "output_type": "stream",
     "text": [
      "B_04-0218230825-predict\n"
     ]
    }
   ],
   "source": [
    "ts = \"0218230825\"\n",
    "stop_epoch = \"99\"\n",
    "train_name = \"B_04\"\n",
    "this_save_name = f\"{train_name}-{ts}-predict\"\n",
    "model_save_dir = os.path.join(model_save_, this_save_name)\n",
    "encoder_model_save_dir = os.path.join(model_save_, f\"{train_name}-{ts}\")\n",
    "mk(model_save_dir)\n",
    "print(this_save_name)\n",
    "\n",
    "train_losses = ListRecorder(os.path.join(model_save_dir, \"train.loss\"))\n",
    "valid_losses = ListRecorder(os.path.join(model_save_dir, \"valid.loss\"))\n",
    "train_accs = ListRecorder(os.path.join(model_save_dir, \"train.acc\"))\n",
    "valid_accs = ListRecorder(os.path.join(model_save_dir, \"valid.acc\"))\n",
    "text_hist = HistRecorder(os.path.join(model_save_dir, \"trainhist.txt\"))"
   ]
  },
  {
   "cell_type": "code",
   "execution_count": 6,
   "metadata": {
    "id": "-T4OYaoXsxe_"
   },
   "outputs": [],
   "source": [
    "READ = True\n",
    "DATAREAD = True"
   ]
  },
  {
   "cell_type": "code",
   "execution_count": 7,
   "metadata": {
    "id": "6OCx4nqP40fz"
   },
   "outputs": [],
   "source": [
    "with open(os.path.join(src_, \"no-stress-seg.dict\"), \"rb\") as file:\n",
    "    # Load the object from the file\n",
    "    mylist = pickle.load(file)\n",
    "    mylist = [\"BLANK\"] + mylist\n",
    "\n",
    "# Now you can use the loaded object\n",
    "mymap = TokenMap(mylist)\n",
    "\n",
    "mytrans = TheTransform(sample_rate=REC_SAMPLE_RATE, \n",
    "                       n_fft=N_FFT, n_mels=N_MELS, \n",
    "                       normalizer=Normalizer.norm_mvn, \n",
    "                       denormalizer=DeNormalizer.norm_mvn)\n",
    "\n",
    "train_ds = ThisDataset(rec_dir, \n",
    "                       train_guide_path, \n",
    "                       mapper=mymap, \n",
    "                       transform=mytrans, \n",
    "                       ground_truth_path=os.path.join(src_, \"train-phoneseq.gt\"))\n",
    "valid_ds = ThisDataset(rec_dir, \n",
    "                       valid_guide_path, \n",
    "                       mapper=mymap, \n",
    "                       transform=mytrans, \n",
    "                       ground_truth_path=os.path.join(src_, \"valid-phoneseq.gt\"))\n",
    "\n",
    "use_proportion = 0.3\n",
    "\n",
    "if READ or DATAREAD: \n",
    "    train_ds_indices = DS_Tools.read_indices(os.path.join(encoder_model_save_dir, \"train.use\"))\n",
    "    valid_ds_indices = DS_Tools.read_indices(os.path.join(encoder_model_save_dir, \"valid.use\"))\n",
    "\n",
    "    use_train_ds = torch.utils.data.Subset(train_ds, train_ds_indices)\n",
    "    use_valid_ds = torch.utils.data.Subset(valid_ds, valid_ds_indices)\n",
    "else: \n",
    "    # train data\n",
    "    use_len = int(use_proportion * len(train_ds))\n",
    "    remain_len = len(train_ds) - use_len\n",
    "    use_train_ds, remain_ds = random_split(train_ds, [use_len, remain_len])\n",
    "\n",
    "    # valid data\n",
    "    use_len = int(use_proportion * len(valid_ds))\n",
    "    remain_len = len(valid_ds) - use_len\n",
    "    use_valid_ds, remain_ds = random_split(valid_ds, [use_len, remain_len])\n",
    "\n",
    "    # NOTE: we don't need to save the cut-small subset, because after cutting-small, \n",
    "    # the saved train and valid separations will reflect this\n",
    "    DS_Tools.save_indices(os.path.join(model_save_dir, \"train.use\"), use_train_ds.indices)\n",
    "    DS_Tools.save_indices(os.path.join(model_save_dir, \"valid.use\"), use_valid_ds.indices)\n",
    "\n",
    "train_loader = DataLoader(use_train_ds, batch_size=BATCH_SIZE, shuffle=True, num_workers=LOADER_WORKER, collate_fn=ThisDataset.collate_fn)\n",
    "train_num = len(train_loader.dataset)\n",
    "\n",
    "valid_loader = DataLoader(use_valid_ds, batch_size=BATCH_SIZE, shuffle=False, num_workers=LOADER_WORKER, collate_fn=ThisDataset.collate_fn)\n",
    "valid_num = len(valid_loader.dataset)"
   ]
  },
  {
   "cell_type": "code",
   "execution_count": 8,
   "metadata": {},
   "outputs": [
    {
     "data": {
      "text/plain": [
       "(231830, 31142, 453, 61)"
      ]
     },
     "execution_count": 8,
     "metadata": {},
     "output_type": "execute_result"
    }
   ],
   "source": [
    "train_num, valid_num, len(train_loader), len(valid_loader)"
   ]
  },
  {
   "cell_type": "code",
   "execution_count": 10,
   "metadata": {},
   "outputs": [
    {
     "name": "stdout",
     "output_type": "stream",
     "text": [
      "torch.Size([512, 68, 64])\n"
     ]
    },
    {
     "data": {
      "image/png": "[encoded data removed]",
      "text/plain": [
       "<Figure size 1200x800 with 7 Axes>"
      ]
     },
     "metadata": {},
     "output_type": "display_data"
    }
   ],
   "source": [
    "# Load sample data from train_loader\n",
    "sample_data = next(iter(valid_loader))\n",
    "xx_pad, x_lens, yy_pad, y_lens = sample_data\n",
    "print(xx_pad.shape)\n",
    "# Set the random seed for reproducibility\n",
    "# random.seed(101)\n",
    "# Generate six random indices\n",
    "# random_indices = random.sample(range(len(xx_pad)), 6)\n",
    "random_indices = list(range(6, 12))\n",
    "\n",
    "# Plot the spectrograms and mark the corresponding seg\n",
    "fig, axes = plt.subplots(2, 3, figsize=(12, 8))\n",
    "axes = axes.flatten()\n",
    "\n",
    "for i, idx in enumerate(random_indices):\n",
    "    spectrogram = xx_pad[idx]\n",
    "    \n",
    "    ax = axes[i]\n",
    "    img = ax.imshow(spectrogram.T, aspect='auto', origin=\"lower\")\n",
    "    # ax.axvline(x=segment, color='red', linestyle='--')\n",
    "    # ax.axvline(x=segment[1], color='red', linestyle='--')\n",
    "    ax.set_title(f'Spectrogram')\n",
    "    ax.set_xlabel('Time')\n",
    "    ax.set_ylabel('Frequency')\n",
    "plt.tight_layout()\n",
    "plt.colorbar(img,ax=axes)\n",
    "plt.show()"
   ]
  },
  {
   "cell_type": "markdown",
   "metadata": {},
   "source": [
    "## Prepare model"
   ]
  },
  {
   "cell_type": "code",
   "execution_count": 11,
   "metadata": {},
   "outputs": [],
   "source": [
    "device = torch.device('cuda' if torch.cuda.is_available() else 'cpu')\n",
    "model_loss = nn.CTCLoss(blank=mymap.encode(\"BLANK\"))\n",
    "\n",
    "encode_model = TheEncoder(enc_size_list=ENC_SIZE_LIST, \n",
    "                   dec_size_list=DEC_SIZE_LIST, \n",
    "                   embedding_dim=EMBEDDING_DIM, \n",
    "                   num_layers=NUM_LAYERS, dropout=DROPOUT)\n",
    "\n",
    "predict_model = ThePredictor(in_dim=ENC_SIZE_LIST[3], \n",
    "                             out_dim=mymap.token_num())\n",
    "encode_model.to(device)\n",
    "predict_model.to(device)\n",
    "\n",
    "# we only train the predict model\n",
    "optimizer = optim.Adam(predict_model.parameters(), lr=0.001)\n",
    "\n",
    "model_str = str(predict_model)\n",
    "model_txt_path = os.path.join(model_save_dir, \"model.txt\")\n",
    "\n",
    "with open(model_txt_path, \"w\") as f:\n",
    "    f.write(model_str)"
   ]
  },
  {
   "cell_type": "code",
   "execution_count": 12,
   "metadata": {},
   "outputs": [],
   "source": [
    "model_parameters = filter(lambda p: p.requires_grad, predict_model.parameters())\n",
    "params = sum([np.prod(p.size()) for p in model_parameters])"
   ]
  },
  {
   "cell_type": "code",
   "execution_count": 13,
   "metadata": {},
   "outputs": [
    {
     "data": {
      "text/plain": [
       "360"
      ]
     },
     "execution_count": 13,
     "metadata": {},
     "output_type": "execute_result"
    }
   ],
   "source": [
    "params"
   ]
  },
  {
   "cell_type": "markdown",
   "metadata": {},
   "source": [
    "### Load model if READ"
   ]
  },
  {
   "cell_type": "code",
   "execution_count": 16,
   "metadata": {},
   "outputs": [],
   "source": [
    "if READ: \n",
    "    model_name = \"{}.pt\".format(stop_epoch)\n",
    "    model_path = os.path.join(encoder_model_save_dir, model_name)\n",
    "    state = torch.load(model_path)\n",
    "\n",
    "    encode_model.load_state_dict(state)\n",
    "    encode_model.to(device)\n",
    "\n",
    "    # FREEZE THE ENCODER MODEL\n",
    "    for param in encode_model.parameters():\n",
    "        param.requires_grad = False  # Freezing the encoder"
   ]
  },
  {
   "cell_type": "code",
   "execution_count": 17,
   "metadata": {},
   "outputs": [],
   "source": [
    "EPOCHS = 30\n",
    "BASE = 0"
   ]
  },
  {
   "cell_type": "code",
   "execution_count": 18,
   "metadata": {
    "colab": {
     "base_uri": "https://localhost:8080/"
    },
    "id": "y2n7doAD1uRi",
    "outputId": "e9c5bcb7-72db-4238-e83f-36e4dbe35748"
   },
   "outputs": [],
   "source": [
    "def train(): \n",
    "    for epoch in range(BASE, BASE + EPOCHS):\n",
    "        text_hist.print(\"Epoch {}\".format(epoch))\n",
    "\n",
    "        encode_model.eval()\n",
    "        predict_model.train()\n",
    "        train_loss = 0.\n",
    "        train_num = len(train_loader)    # train_loader\n",
    "        for idx, (x, x_lens, y, y_lens) in enumerate(train_loader):\n",
    "            # y_lens should be the same as x_lens\n",
    "            optimizer.zero_grad()\n",
    "            x_mask = generate_mask_from_lengths_mat(x_lens, device=device)\n",
    "            \n",
    "            x = x.to(device)\n",
    "            y = y.to(device)\n",
    "            y = y.long()\n",
    "\n",
    "            ze, zq = encode_model.encode(x, x_lens, x_mask)\n",
    "            # print(x_hat, y, x_mask.shape)\n",
    "            # Here x_hat: (B, L, C); we change to (L, B, C)\n",
    "            x_hat = predict_model(zq)\n",
    "            x_hat = x_hat.permute(1, 0, 2)\n",
    "\n",
    "            # loss = model_loss.get_loss(x_hat, y, x_mask)\n",
    "            loss = model_loss(x_hat, y, x_lens, y_lens)\n",
    "            train_loss += loss.item()\n",
    "            loss.backward()\n",
    "            optimizer.step()\n",
    "\n",
    "            if idx % 100 == 0:\n",
    "                text_hist.print(f\"Training loss {loss: .3f} in Step {idx}\")\n",
    "\n",
    "        train_losses.append(train_loss / train_num)\n",
    "        text_hist.print(f\"※※※Training loss {train_loss / train_num: .3f}※※※\")\n",
    "\n",
    "        last_model_name = \"{}.pt\".format(epoch)\n",
    "        torch.save(predict_model.state_dict(), os.path.join(model_save_dir, last_model_name))\n",
    "\n",
    "        encode_model.eval()\n",
    "        predict_model.eval()\n",
    "        valid_loss = 0.\n",
    "        valid_num = len(valid_loader)\n",
    "        for idx, (x, x_lens, y, y_lens) in enumerate(valid_loader):\n",
    "            x_mask = generate_mask_from_lengths_mat(x_lens, device=device)\n",
    "            \n",
    "            x = x.to(device)\n",
    "            y = y.to(device)\n",
    "            y = y.long()\n",
    "\n",
    "            ze, zq = encode_model.encode(x, x_lens, x_mask)\n",
    "            x_hat = predict_model(zq)\n",
    "            x_hat = x_hat.permute(1, 0, 2)\n",
    "            loss = model_loss(x_hat, y, x_lens, y_lens)\n",
    "            valid_loss += loss.item()\n",
    "\n",
    "            if idx % 50 == 0:\n",
    "                text_hist.print(f\"Valid loss {loss: .3f} in Step {idx}\")\n",
    "\n",
    "        valid_losses.append(valid_loss / valid_num)\n",
    "        # valid_accs.append(valid_correct / valid_total)\n",
    "\n",
    "        text_hist.print(f\"※※※Valid loss {valid_loss / valid_num: .3f}※※※\")"
   ]
  },
  {
   "cell_type": "code",
   "execution_count": 19,
   "metadata": {},
   "outputs": [
    {
     "name": "stdout",
     "output_type": "stream",
     "text": [
      "Epoch 0\n",
      "Training loss  22.062 in Step 0\n",
      "Training loss  17.450 in Step 100\n",
      "Training loss  13.501 in Step 200\n",
      "Training loss  10.684 in Step 300\n",
      "Training loss  11.449 in Step 400\n",
      "※※※Training loss  14.291※※※\n",
      "Valid loss  8.963 in Step 0\n",
      "Valid loss  9.257 in Step 50\n",
      "※※※Valid loss  9.384※※※\n",
      "Epoch 1\n",
      "Training loss  9.813 in Step 0\n",
      "Training loss  9.728 in Step 100\n",
      "Training loss  9.398 in Step 200\n",
      "Training loss  8.788 in Step 300\n",
      "Training loss  8.490 in Step 400\n",
      "※※※Training loss  9.070※※※\n",
      "Valid loss  7.364 in Step 0\n",
      "Valid loss  7.668 in Step 50\n",
      "※※※Valid loss  7.755※※※\n",
      "Epoch 2\n",
      "Training loss  8.621 in Step 0\n",
      "Training loss  8.140 in Step 100\n",
      "Training loss  7.672 in Step 200\n",
      "Training loss  7.344 in Step 300\n",
      "Training loss  7.472 in Step 400\n",
      "※※※Training loss  7.909※※※\n",
      "Valid loss  6.657 in Step 0\n",
      "Valid loss  7.011 in Step 50\n",
      "※※※Valid loss  7.016※※※\n",
      "Epoch 3\n",
      "Training loss  7.706 in Step 0\n",
      "Training loss  7.326 in Step 100\n",
      "Training loss  7.062 in Step 200\n",
      "Training loss  6.914 in Step 300\n",
      "Training loss  6.726 in Step 400\n",
      "※※※Training loss  7.229※※※\n",
      "Valid loss  6.180 in Step 0\n",
      "Valid loss  6.561 in Step 50\n",
      "※※※Valid loss  6.525※※※\n",
      "Epoch 4\n",
      "Training loss  6.764 in Step 0\n",
      "Training loss  6.653 in Step 100\n",
      "Training loss  6.528 in Step 200\n",
      "Training loss  6.552 in Step 300\n",
      "Training loss  6.439 in Step 400\n",
      "※※※Training loss  6.810※※※\n",
      "Valid loss  5.901 in Step 0\n",
      "Valid loss  6.288 in Step 50\n",
      "※※※Valid loss  6.239※※※\n",
      "Epoch 5\n",
      "Training loss  6.715 in Step 0\n",
      "Training loss  6.235 in Step 100\n",
      "Training loss  6.372 in Step 200\n",
      "Training loss  6.414 in Step 300\n",
      "Training loss  6.541 in Step 400\n",
      "※※※Training loss  6.521※※※\n",
      "Valid loss  5.669 in Step 0\n",
      "Valid loss  6.065 in Step 50\n",
      "※※※Valid loss  6.000※※※\n",
      "Epoch 6\n",
      "Training loss  6.647 in Step 0\n",
      "Training loss  6.591 in Step 100\n",
      "Training loss  6.229 in Step 200\n",
      "Training loss  6.423 in Step 300\n",
      "Training loss  6.095 in Step 400\n",
      "※※※Training loss  6.274※※※\n",
      "Valid loss  5.485 in Step 0\n",
      "Valid loss  5.880 in Step 50\n",
      "※※※Valid loss  5.804※※※\n",
      "Epoch 7\n",
      "Training loss  6.381 in Step 0\n",
      "Training loss  6.005 in Step 100\n",
      "Training loss  6.087 in Step 200\n",
      "Training loss  6.277 in Step 300\n",
      "Training loss  5.889 in Step 400\n",
      "※※※Training loss  6.078※※※\n",
      "Valid loss  5.356 in Step 0\n",
      "Valid loss  5.730 in Step 50\n",
      "※※※Valid loss  5.643※※※\n",
      "Epoch 8\n",
      "Training loss  6.150 in Step 0\n",
      "Training loss  5.803 in Step 100\n",
      "Training loss  6.034 in Step 200\n",
      "Training loss  5.966 in Step 300\n",
      "Training loss  6.158 in Step 400\n",
      "※※※Training loss  5.883※※※\n",
      "Valid loss  5.187 in Step 0\n",
      "Valid loss  5.554 in Step 50\n",
      "※※※Valid loss  5.441※※※\n",
      "Epoch 9\n",
      "Training loss  5.893 in Step 0\n",
      "Training loss  5.779 in Step 100\n",
      "Training loss  5.478 in Step 200\n",
      "Training loss  5.194 in Step 300\n",
      "Training loss  5.141 in Step 400\n",
      "※※※Training loss  5.510※※※\n",
      "Valid loss  4.734 in Step 0\n",
      "Valid loss  4.965 in Step 50\n",
      "※※※Valid loss  4.856※※※\n",
      "Epoch 10\n",
      "Training loss  4.944 in Step 0\n",
      "Training loss  4.359 in Step 100\n",
      "Training loss  4.016 in Step 200\n",
      "Training loss  3.770 in Step 300\n",
      "Training loss  3.625 in Step 400\n",
      "※※※Training loss  4.078※※※\n",
      "Valid loss  3.587 in Step 0\n",
      "Valid loss  3.626 in Step 50\n",
      "※※※Valid loss  3.594※※※\n",
      "Epoch 11\n",
      "Training loss  3.571 in Step 0\n",
      "Training loss  3.512 in Step 100\n",
      "Training loss  3.457 in Step 200\n",
      "Training loss  3.431 in Step 300\n",
      "Training loss  3.423 in Step 400\n",
      "※※※Training loss  3.478※※※\n",
      "Valid loss  3.384 in Step 0\n",
      "Valid loss  3.428 in Step 50\n",
      "※※※Valid loss  3.392※※※\n",
      "Epoch 12\n",
      "Training loss  3.409 in Step 0\n",
      "Training loss  3.370 in Step 100\n",
      "Training loss  3.278 in Step 200\n",
      "Training loss  3.327 in Step 300\n",
      "Training loss  3.330 in Step 400\n",
      "※※※Training loss  3.345※※※\n",
      "Valid loss  3.295 in Step 0\n",
      "Valid loss  3.341 in Step 50\n",
      "※※※Valid loss  3.303※※※\n",
      "Epoch 13\n",
      "Training loss  3.294 in Step 0\n",
      "Training loss  3.304 in Step 100\n",
      "Training loss  3.275 in Step 200\n",
      "Training loss  3.192 in Step 300\n",
      "Training loss  3.298 in Step 400\n",
      "※※※Training loss  3.274※※※\n",
      "Valid loss  3.243 in Step 0\n",
      "Valid loss  3.291 in Step 50\n",
      "※※※Valid loss  3.252※※※\n",
      "Epoch 14\n",
      "Training loss  3.243 in Step 0\n",
      "Training loss  3.252 in Step 100\n",
      "Training loss  3.263 in Step 200\n",
      "Training loss  3.225 in Step 300\n",
      "Training loss  3.170 in Step 400\n",
      "※※※Training loss  3.231※※※\n",
      "Valid loss  3.214 in Step 0\n",
      "Valid loss  3.262 in Step 50\n",
      "※※※Valid loss  3.220※※※\n",
      "Epoch 15\n",
      "Training loss  3.135 in Step 0\n",
      "Training loss  3.215 in Step 100\n",
      "Training loss  3.204 in Step 200\n",
      "Training loss  3.216 in Step 300\n",
      "Training loss  3.220 in Step 400\n",
      "※※※Training loss  3.203※※※\n",
      "Valid loss  3.195 in Step 0\n",
      "Valid loss  3.243 in Step 50\n",
      "※※※Valid loss  3.200※※※\n",
      "Epoch 16\n",
      "Training loss  3.197 in Step 0\n",
      "Training loss  3.161 in Step 100\n",
      "Training loss  3.210 in Step 200\n",
      "Training loss  3.144 in Step 300\n",
      "Training loss  3.175 in Step 400\n",
      "※※※Training loss  3.185※※※\n",
      "Valid loss  3.183 in Step 0\n",
      "Valid loss  3.230 in Step 50\n",
      "※※※Valid loss  3.186※※※\n",
      "Epoch 17\n",
      "Training loss  3.206 in Step 0\n",
      "Training loss  3.154 in Step 100\n",
      "Training loss  3.187 in Step 200\n",
      "Training loss  3.180 in Step 300\n",
      "Training loss  3.218 in Step 400\n",
      "※※※Training loss  3.173※※※\n",
      "Valid loss  3.174 in Step 0\n",
      "Valid loss  3.222 in Step 50\n",
      "※※※Valid loss  3.177※※※\n",
      "Epoch 18\n",
      "Training loss  3.163 in Step 0\n",
      "Training loss  3.165 in Step 100\n",
      "Training loss  3.164 in Step 200\n",
      "Training loss  3.183 in Step 300\n",
      "Training loss  3.148 in Step 400\n",
      "※※※Training loss  3.164※※※\n",
      "Valid loss  3.171 in Step 0\n",
      "Valid loss  3.218 in Step 50\n",
      "※※※Valid loss  3.172※※※\n",
      "Epoch 19\n",
      "Training loss  3.174 in Step 0\n",
      "Training loss  3.162 in Step 100\n",
      "Training loss  3.114 in Step 200\n",
      "Training loss  3.175 in Step 300\n",
      "Training loss  3.189 in Step 400\n",
      "※※※Training loss  3.158※※※\n",
      "Valid loss  3.165 in Step 0\n",
      "Valid loss  3.214 in Step 50\n",
      "※※※Valid loss  3.167※※※\n",
      "Epoch 20\n",
      "Training loss  3.114 in Step 0\n",
      "Training loss  3.139 in Step 100\n",
      "Training loss  3.168 in Step 200\n",
      "Training loss  3.128 in Step 300\n",
      "Training loss  3.168 in Step 400\n",
      "※※※Training loss  3.154※※※\n",
      "Valid loss  3.163 in Step 0\n",
      "Valid loss  3.212 in Step 50\n",
      "※※※Valid loss  3.164※※※\n",
      "Epoch 21\n",
      "Training loss  3.155 in Step 0\n",
      "Training loss  3.187 in Step 100\n",
      "Training loss  3.132 in Step 200\n",
      "Training loss  3.129 in Step 300\n",
      "Training loss  3.143 in Step 400\n",
      "※※※Training loss  3.151※※※\n",
      "Valid loss  3.161 in Step 0\n",
      "Valid loss  3.209 in Step 50\n",
      "※※※Valid loss  3.162※※※\n",
      "Epoch 22\n",
      "Training loss  3.106 in Step 0\n",
      "Training loss  3.128 in Step 100\n",
      "Training loss  3.133 in Step 200\n",
      "Training loss  3.113 in Step 300\n",
      "Training loss  3.183 in Step 400\n",
      "※※※Training loss  3.148※※※\n",
      "Valid loss  3.161 in Step 0\n",
      "Valid loss  3.209 in Step 50\n",
      "※※※Valid loss  3.160※※※\n",
      "Epoch 23\n",
      "Training loss  3.144 in Step 0\n",
      "Training loss  3.115 in Step 100\n",
      "Training loss  3.119 in Step 200\n",
      "Training loss  3.142 in Step 300\n",
      "Training loss  3.140 in Step 400\n",
      "※※※Training loss  3.146※※※\n",
      "Valid loss  3.159 in Step 0\n",
      "Valid loss  3.207 in Step 50\n",
      "※※※Valid loss  3.158※※※\n",
      "Epoch 24\n",
      "Training loss  3.179 in Step 0\n",
      "Training loss  3.110 in Step 100\n",
      "Training loss  3.137 in Step 200\n",
      "Training loss  3.159 in Step 300\n",
      "Training loss  3.100 in Step 400\n",
      "※※※Training loss  3.145※※※\n",
      "Valid loss  3.158 in Step 0\n",
      "Valid loss  3.205 in Step 50\n",
      "※※※Valid loss  3.157※※※\n",
      "Epoch 25\n",
      "Training loss  3.153 in Step 0\n",
      "Training loss  3.129 in Step 100\n",
      "Training loss  3.156 in Step 200\n",
      "Training loss  3.105 in Step 300\n",
      "Training loss  3.204 in Step 400\n",
      "※※※Training loss  3.144※※※\n",
      "Valid loss  3.159 in Step 0\n",
      "Valid loss  3.206 in Step 50\n",
      "※※※Valid loss  3.157※※※\n",
      "Epoch 26\n",
      "Training loss  3.147 in Step 0\n",
      "Training loss  3.138 in Step 100\n",
      "Training loss  3.188 in Step 200\n",
      "Training loss  3.173 in Step 300\n",
      "Training loss  3.183 in Step 400\n",
      "※※※Training loss  3.143※※※\n",
      "Valid loss  3.157 in Step 0\n",
      "Valid loss  3.206 in Step 50\n",
      "※※※Valid loss  3.156※※※\n",
      "Epoch 27\n",
      "Training loss  3.160 in Step 0\n",
      "Training loss  3.107 in Step 100\n",
      "Training loss  3.189 in Step 200\n",
      "Training loss  3.130 in Step 300\n",
      "Training loss  3.147 in Step 400\n",
      "※※※Training loss  3.142※※※\n",
      "Valid loss  3.157 in Step 0\n",
      "Valid loss  3.204 in Step 50\n",
      "※※※Valid loss  3.155※※※\n",
      "Epoch 28\n",
      "Training loss  3.121 in Step 0\n",
      "Training loss  3.143 in Step 100\n",
      "Training loss  3.132 in Step 200\n",
      "Training loss  3.105 in Step 300\n",
      "Training loss  3.126 in Step 400\n",
      "※※※Training loss  3.142※※※\n",
      "Valid loss  3.158 in Step 0\n",
      "Valid loss  3.204 in Step 50\n",
      "※※※Valid loss  3.155※※※\n",
      "Epoch 29\n",
      "Training loss  3.137 in Step 0\n",
      "Training loss  3.142 in Step 100\n",
      "Training loss  3.125 in Step 200\n",
      "Training loss  3.135 in Step 300\n",
      "Training loss  3.133 in Step 400\n",
      "※※※Training loss  3.141※※※\n",
      "Valid loss  3.157 in Step 0\n",
      "Valid loss  3.202 in Step 50\n",
      "※※※Valid loss  3.154※※※\n"
     ]
    }
   ],
   "source": [
    "if __name__ == \"__main__\": \n",
    "    train()"
   ]
  },
  {
   "cell_type": "code",
   "execution_count": 20,
   "metadata": {
    "id": "KSTTwi31xAvh"
   },
   "outputs": [],
   "source": [
    "### Save\n",
    "train_losses.save()\n",
    "\n",
    "valid_losses.save()\n",
    "\n",
    "text_hist.save()"
   ]
  },
  {
   "cell_type": "code",
   "execution_count": 23,
   "metadata": {},
   "outputs": [
    {
     "data": {
      "text/plain": [
       "<matplotlib.legend.Legend at 0x7fa4db8db7d0>"
      ]
     },
     "execution_count": 23,
     "metadata": {},
     "output_type": "execute_result"
    },
    {
     "data": {
      "image/png": "[encoded data removed]",
      "text/plain": [
       "<Figure size 1200x400 with 2 Axes>"
      ]
     },
     "metadata": {},
     "output_type": "display_data"
    }
   ],
   "source": [
    "start, end = 0, 100\n",
    "\n",
    "fig, (ax1, ax2) = plt.subplots(1, 2, figsize=(12, 4))\n",
    "# Plot Loss on the left subplot\n",
    "ax1.plot(train_losses.get()[start:end], label='Train')\n",
    "ax1.plot(valid_losses.get()[start:end], label='Valid')\n",
    "ax1.set_title(\"Learning Curve Loss\")\n",
    "ax1.legend(loc=\"upper right\")\n",
    "\n",
    "# Plot Accuracy on the right subplot\n",
    "ax2.plot(train_accs.get()[start:end], label='Train')\n",
    "ax2.plot(valid_accs.get()[start:end], label='Valid')\n",
    "ax2.set_title('Learning Curve Accuracy')\n",
    "ax2.legend(loc=\"lower right\")"
   ]
  },
  {
   "cell_type": "markdown",
   "metadata": {},
   "source": [
    "## Testing"
   ]
  },
  {
   "cell_type": "code",
   "execution_count": 25,
   "metadata": {},
   "outputs": [],
   "source": [
    "import torchaudio\n",
    "from tqdm import tqdm"
   ]
  },
  {
   "cell_type": "code",
   "execution_count": 26,
   "metadata": {},
   "outputs": [],
   "source": [
    "CTCDecoder = ctc_decoder(\n",
    "    lexicon=None, \n",
    "    tokens=mylist + [\"|\"], \n",
    "    blank_token=\"BLANK\"\n",
    ")"
   ]
  },
  {
   "cell_type": "code",
   "execution_count": 29,
   "metadata": {},
   "outputs": [],
   "source": [
    "ALLOWTESTREAD = False"
   ]
  },
  {
   "cell_type": "code",
   "execution_count": 30,
   "metadata": {},
   "outputs": [],
   "source": [
    "test_ds = ThisDataset(rec_dir, \n",
    "                       test_guide_path, \n",
    "                       mapper=mymap, \n",
    "                       transform=mytrans, \n",
    "                       ground_truth_path=os.path.join(src_, \"test-phoneseq.gt\"))\n",
    "\n",
    "use_proportion = 0.1\n",
    "\n",
    "if ALLOWTESTREAD and (READ or DATAREAD): \n",
    "    test_ds_indices = DS_Tools.read_indices(os.path.join(model_save_dir, \"test.use\"))\n",
    "    use_test_ds = torch.utils.data.Subset(test_ds,test_ds_indices)\n",
    "else: \n",
    "    # train data\n",
    "    use_len = int(use_proportion * len(test_ds))\n",
    "    remain_len = len(test_ds) - use_len\n",
    "    use_test_ds, remain_ds = random_split(test_ds, [use_len, remain_len])\n",
    "    DS_Tools.save_indices(os.path.join(model_save_dir, \"test.use\"), use_train_ds.indices)\n",
    "\n",
    "test_loader = DataLoader(use_test_ds, batch_size=BATCH_SIZE, shuffle=False, num_workers=LOADER_WORKER, collate_fn=ThisDataset.collate_fn_yNoPad)\n",
    "test_num = len(test_loader.dataset)"
   ]
  },
  {
   "cell_type": "code",
   "execution_count": 36,
   "metadata": {},
   "outputs": [
    {
     "name": "stderr",
     "output_type": "stream",
     "text": [
      "100%|██████████| 20/20 [02:36<00:00,  7.84s/it]\n"
     ]
    }
   ],
   "source": [
    "encode_model.eval()\n",
    "predict_model.eval()\n",
    "test_loss = 0.\n",
    "test_num = len(test_loader)\n",
    "preds = []\n",
    "reals = []\n",
    "for (x, x_lens, y, y_lens) in tqdm(test_loader):\n",
    "    x_mask = generate_mask_from_lengths_mat(x_lens, device=device)\n",
    "    \n",
    "    x = x.to(device)\n",
    "\n",
    "    ze, zq = encode_model.encode(x, x_lens, x_mask)\n",
    "    x_hat = predict_model(zq)\n",
    "    # x_hat = x_hat.permute(1, 0, 2)\n",
    "\n",
    "    # print(x_hat)\n",
    "    # raise Exception\n",
    "\n",
    "    preds += CTCDecoder(x_hat.cpu())\n",
    "    reals += y"
   ]
  },
  {
   "cell_type": "code",
   "execution_count": 37,
   "metadata": {},
   "outputs": [],
   "source": [
    "total_per = 0\n",
    "total = 0\n",
    "for real, pred in zip(reals, preds): \n",
    "    total_per += torchaudio.functional.edit_distance(real, pred[0].tokens[1:-1]) / len(real)\n",
    "    total += 1"
   ]
  },
  {
   "cell_type": "code",
   "execution_count": 40,
   "metadata": {},
   "outputs": [
    {
     "name": "stdout",
     "output_type": "stream",
     "text": [
      "['N', 'EY', 'M', 'L', 'IY']\n",
      "[]\n"
     ]
    }
   ],
   "source": [
    "i = torch.randint(0, total, size=(1, )).item()\n",
    "print([mymap.decode(x.item()) for x in reals[i]])\n",
    "print([mymap.decode(x.item()) for x in preds[i][0].tokens[1:-1]])"
   ]
  },
  {
   "cell_type": "code",
   "execution_count": 41,
   "metadata": {},
   "outputs": [
    {
     "data": {
      "text/plain": [
       "1.0"
      ]
     },
     "execution_count": 41,
     "metadata": {},
     "output_type": "execute_result"
    }
   ],
   "source": [
    "total_per / total"
   ]
  },
  {
   "cell_type": "code",
   "execution_count": null,
   "metadata": {},
   "outputs": [],
   "source": []
  }
 ],
 "metadata": {
  "accelerator": "GPU",
  "colab": {
   "provenance": []
  },
  "gpuClass": "standard",
  "kernelspec": {
   "display_name": "Python 3 (ipykernel)",
   "language": "python",
   "name": "python3"
  },
  "language_info": {
   "codemirror_mode": {
    "name": "ipython",
    "version": 3
   },
   "file_extension": ".py",
   "mimetype": "text/x-python",
   "name": "python",
   "nbconvert_exporter": "python",
   "pygments_lexer": "ipython3",
   "version": "3.11.7"
  }
 },
 "nbformat": 4,
 "nbformat_minor": 4
}
