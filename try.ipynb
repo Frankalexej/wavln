{
 "cells": [
  {
   "attachments": {},
   "cell_type": "markdown",
   "metadata": {},
   "source": [
    "# Problem might lie in loss! \n",
    "# Noooooo! Problem is not the loss! "
   ]
  },
  {
   "cell_type": "code",
   "execution_count": 20,
   "metadata": {},
   "outputs": [],
   "source": [
    "import torch\n",
    "import torch.nn as nn"
   ]
  },
  {
   "cell_type": "code",
   "execution_count": 43,
   "metadata": {},
   "outputs": [],
   "source": [
    "ls = nn.MSELoss(reduction='none')"
   ]
  },
  {
   "cell_type": "code",
   "execution_count": 44,
   "metadata": {},
   "outputs": [],
   "source": [
    "mask = torch.tensor([[1., 1., 1.],\n",
    "        [1., 1., 1.],\n",
    "        [1., 1., 1.],\n",
    "        [1., 1., 0.],\n",
    "        [1., 0., 0.]])"
   ]
  },
  {
   "cell_type": "code",
   "execution_count": 72,
   "metadata": {},
   "outputs": [],
   "source": [
    "x = torch.rand(128, 3, 2)\n",
    "y = torch.rand(128, 3, 2)\n",
    "mask = torch.ones(128, 3)"
   ]
  },
  {
   "cell_type": "code",
   "execution_count": 73,
   "metadata": {},
   "outputs": [],
   "source": [
    "loss = ls(x, y)"
   ]
  },
  {
   "cell_type": "code",
   "execution_count": 74,
   "metadata": {},
   "outputs": [
    {
     "data": {
      "text/plain": [
       "torch.Size([128, 3, 2])"
      ]
     },
     "execution_count": 74,
     "metadata": {},
     "output_type": "execute_result"
    }
   ],
   "source": [
    "loss.shape"
   ]
  },
  {
   "cell_type": "code",
   "execution_count": 75,
   "metadata": {},
   "outputs": [
    {
     "data": {
      "text/plain": [
       "torch.Size([128, 3])"
      ]
     },
     "execution_count": 75,
     "metadata": {},
     "output_type": "execute_result"
    }
   ],
   "source": [
    "mask.shape"
   ]
  },
  {
   "cell_type": "code",
   "execution_count": 76,
   "metadata": {},
   "outputs": [],
   "source": [
    "b, t, f = y.shape"
   ]
  },
  {
   "cell_type": "code",
   "execution_count": 77,
   "metadata": {},
   "outputs": [],
   "source": [
    "maskex = mask.unsqueeze(-1).expand((b, t, f)).bool()"
   ]
  },
  {
   "cell_type": "code",
   "execution_count": 78,
   "metadata": {},
   "outputs": [
    {
     "data": {
      "text/plain": [
       "tensor([[[True, True],\n",
       "         [True, True],\n",
       "         [True, True]],\n",
       "\n",
       "        [[True, True],\n",
       "         [True, True],\n",
       "         [True, True]],\n",
       "\n",
       "        [[True, True],\n",
       "         [True, True],\n",
       "         [True, True]],\n",
       "\n",
       "        [[True, True],\n",
       "         [True, True],\n",
       "         [True, True]],\n",
       "\n",
       "        [[True, True],\n",
       "         [True, True],\n",
       "         [True, True]],\n",
       "\n",
       "        [[True, True],\n",
       "         [True, True],\n",
       "         [True, True]],\n",
       "\n",
       "        [[True, True],\n",
       "         [True, True],\n",
       "         [True, True]],\n",
       "\n",
       "        [[True, True],\n",
       "         [True, True],\n",
       "         [True, True]],\n",
       "\n",
       "        [[True, True],\n",
       "         [True, True],\n",
       "         [True, True]],\n",
       "\n",
       "        [[True, True],\n",
       "         [True, True],\n",
       "         [True, True]],\n",
       "\n",
       "        [[True, True],\n",
       "         [True, True],\n",
       "         [True, True]],\n",
       "\n",
       "        [[True, True],\n",
       "         [True, True],\n",
       "         [True, True]],\n",
       "\n",
       "        [[True, True],\n",
       "         [True, True],\n",
       "         [True, True]],\n",
       "\n",
       "        [[True, True],\n",
       "         [True, True],\n",
       "         [True, True]],\n",
       "\n",
       "        [[True, True],\n",
       "         [True, True],\n",
       "         [True, True]],\n",
       "\n",
       "        [[True, True],\n",
       "         [True, True],\n",
       "         [True, True]],\n",
       "\n",
       "        [[True, True],\n",
       "         [True, True],\n",
       "         [True, True]],\n",
       "\n",
       "        [[True, True],\n",
       "         [True, True],\n",
       "         [True, True]],\n",
       "\n",
       "        [[True, True],\n",
       "         [True, True],\n",
       "         [True, True]],\n",
       "\n",
       "        [[True, True],\n",
       "         [True, True],\n",
       "         [True, True]],\n",
       "\n",
       "        [[True, True],\n",
       "         [True, True],\n",
       "         [True, True]],\n",
       "\n",
       "        [[True, True],\n",
       "         [True, True],\n",
       "         [True, True]],\n",
       "\n",
       "        [[True, True],\n",
       "         [True, True],\n",
       "         [True, True]],\n",
       "\n",
       "        [[True, True],\n",
       "         [True, True],\n",
       "         [True, True]],\n",
       "\n",
       "        [[True, True],\n",
       "         [True, True],\n",
       "         [True, True]],\n",
       "\n",
       "        [[True, True],\n",
       "         [True, True],\n",
       "         [True, True]],\n",
       "\n",
       "        [[True, True],\n",
       "         [True, True],\n",
       "         [True, True]],\n",
       "\n",
       "        [[True, True],\n",
       "         [True, True],\n",
       "         [True, True]],\n",
       "\n",
       "        [[True, True],\n",
       "         [True, True],\n",
       "         [True, True]],\n",
       "\n",
       "        [[True, True],\n",
       "         [True, True],\n",
       "         [True, True]],\n",
       "\n",
       "        [[True, True],\n",
       "         [True, True],\n",
       "         [True, True]],\n",
       "\n",
       "        [[True, True],\n",
       "         [True, True],\n",
       "         [True, True]],\n",
       "\n",
       "        [[True, True],\n",
       "         [True, True],\n",
       "         [True, True]],\n",
       "\n",
       "        [[True, True],\n",
       "         [True, True],\n",
       "         [True, True]],\n",
       "\n",
       "        [[True, True],\n",
       "         [True, True],\n",
       "         [True, True]],\n",
       "\n",
       "        [[True, True],\n",
       "         [True, True],\n",
       "         [True, True]],\n",
       "\n",
       "        [[True, True],\n",
       "         [True, True],\n",
       "         [True, True]],\n",
       "\n",
       "        [[True, True],\n",
       "         [True, True],\n",
       "         [True, True]],\n",
       "\n",
       "        [[True, True],\n",
       "         [True, True],\n",
       "         [True, True]],\n",
       "\n",
       "        [[True, True],\n",
       "         [True, True],\n",
       "         [True, True]],\n",
       "\n",
       "        [[True, True],\n",
       "         [True, True],\n",
       "         [True, True]],\n",
       "\n",
       "        [[True, True],\n",
       "         [True, True],\n",
       "         [True, True]],\n",
       "\n",
       "        [[True, True],\n",
       "         [True, True],\n",
       "         [True, True]],\n",
       "\n",
       "        [[True, True],\n",
       "         [True, True],\n",
       "         [True, True]],\n",
       "\n",
       "        [[True, True],\n",
       "         [True, True],\n",
       "         [True, True]],\n",
       "\n",
       "        [[True, True],\n",
       "         [True, True],\n",
       "         [True, True]],\n",
       "\n",
       "        [[True, True],\n",
       "         [True, True],\n",
       "         [True, True]],\n",
       "\n",
       "        [[True, True],\n",
       "         [True, True],\n",
       "         [True, True]],\n",
       "\n",
       "        [[True, True],\n",
       "         [True, True],\n",
       "         [True, True]],\n",
       "\n",
       "        [[True, True],\n",
       "         [True, True],\n",
       "         [True, True]],\n",
       "\n",
       "        [[True, True],\n",
       "         [True, True],\n",
       "         [True, True]],\n",
       "\n",
       "        [[True, True],\n",
       "         [True, True],\n",
       "         [True, True]],\n",
       "\n",
       "        [[True, True],\n",
       "         [True, True],\n",
       "         [True, True]],\n",
       "\n",
       "        [[True, True],\n",
       "         [True, True],\n",
       "         [True, True]],\n",
       "\n",
       "        [[True, True],\n",
       "         [True, True],\n",
       "         [True, True]],\n",
       "\n",
       "        [[True, True],\n",
       "         [True, True],\n",
       "         [True, True]],\n",
       "\n",
       "        [[True, True],\n",
       "         [True, True],\n",
       "         [True, True]],\n",
       "\n",
       "        [[True, True],\n",
       "         [True, True],\n",
       "         [True, True]],\n",
       "\n",
       "        [[True, True],\n",
       "         [True, True],\n",
       "         [True, True]],\n",
       "\n",
       "        [[True, True],\n",
       "         [True, True],\n",
       "         [True, True]],\n",
       "\n",
       "        [[True, True],\n",
       "         [True, True],\n",
       "         [True, True]],\n",
       "\n",
       "        [[True, True],\n",
       "         [True, True],\n",
       "         [True, True]],\n",
       "\n",
       "        [[True, True],\n",
       "         [True, True],\n",
       "         [True, True]],\n",
       "\n",
       "        [[True, True],\n",
       "         [True, True],\n",
       "         [True, True]],\n",
       "\n",
       "        [[True, True],\n",
       "         [True, True],\n",
       "         [True, True]],\n",
       "\n",
       "        [[True, True],\n",
       "         [True, True],\n",
       "         [True, True]],\n",
       "\n",
       "        [[True, True],\n",
       "         [True, True],\n",
       "         [True, True]],\n",
       "\n",
       "        [[True, True],\n",
       "         [True, True],\n",
       "         [True, True]],\n",
       "\n",
       "        [[True, True],\n",
       "         [True, True],\n",
       "         [True, True]],\n",
       "\n",
       "        [[True, True],\n",
       "         [True, True],\n",
       "         [True, True]],\n",
       "\n",
       "        [[True, True],\n",
       "         [True, True],\n",
       "         [True, True]],\n",
       "\n",
       "        [[True, True],\n",
       "         [True, True],\n",
       "         [True, True]],\n",
       "\n",
       "        [[True, True],\n",
       "         [True, True],\n",
       "         [True, True]],\n",
       "\n",
       "        [[True, True],\n",
       "         [True, True],\n",
       "         [True, True]],\n",
       "\n",
       "        [[True, True],\n",
       "         [True, True],\n",
       "         [True, True]],\n",
       "\n",
       "        [[True, True],\n",
       "         [True, True],\n",
       "         [True, True]],\n",
       "\n",
       "        [[True, True],\n",
       "         [True, True],\n",
       "         [True, True]],\n",
       "\n",
       "        [[True, True],\n",
       "         [True, True],\n",
       "         [True, True]],\n",
       "\n",
       "        [[True, True],\n",
       "         [True, True],\n",
       "         [True, True]],\n",
       "\n",
       "        [[True, True],\n",
       "         [True, True],\n",
       "         [True, True]],\n",
       "\n",
       "        [[True, True],\n",
       "         [True, True],\n",
       "         [True, True]],\n",
       "\n",
       "        [[True, True],\n",
       "         [True, True],\n",
       "         [True, True]],\n",
       "\n",
       "        [[True, True],\n",
       "         [True, True],\n",
       "         [True, True]],\n",
       "\n",
       "        [[True, True],\n",
       "         [True, True],\n",
       "         [True, True]],\n",
       "\n",
       "        [[True, True],\n",
       "         [True, True],\n",
       "         [True, True]],\n",
       "\n",
       "        [[True, True],\n",
       "         [True, True],\n",
       "         [True, True]],\n",
       "\n",
       "        [[True, True],\n",
       "         [True, True],\n",
       "         [True, True]],\n",
       "\n",
       "        [[True, True],\n",
       "         [True, True],\n",
       "         [True, True]],\n",
       "\n",
       "        [[True, True],\n",
       "         [True, True],\n",
       "         [True, True]],\n",
       "\n",
       "        [[True, True],\n",
       "         [True, True],\n",
       "         [True, True]],\n",
       "\n",
       "        [[True, True],\n",
       "         [True, True],\n",
       "         [True, True]],\n",
       "\n",
       "        [[True, True],\n",
       "         [True, True],\n",
       "         [True, True]],\n",
       "\n",
       "        [[True, True],\n",
       "         [True, True],\n",
       "         [True, True]],\n",
       "\n",
       "        [[True, True],\n",
       "         [True, True],\n",
       "         [True, True]],\n",
       "\n",
       "        [[True, True],\n",
       "         [True, True],\n",
       "         [True, True]],\n",
       "\n",
       "        [[True, True],\n",
       "         [True, True],\n",
       "         [True, True]],\n",
       "\n",
       "        [[True, True],\n",
       "         [True, True],\n",
       "         [True, True]],\n",
       "\n",
       "        [[True, True],\n",
       "         [True, True],\n",
       "         [True, True]],\n",
       "\n",
       "        [[True, True],\n",
       "         [True, True],\n",
       "         [True, True]],\n",
       "\n",
       "        [[True, True],\n",
       "         [True, True],\n",
       "         [True, True]],\n",
       "\n",
       "        [[True, True],\n",
       "         [True, True],\n",
       "         [True, True]],\n",
       "\n",
       "        [[True, True],\n",
       "         [True, True],\n",
       "         [True, True]],\n",
       "\n",
       "        [[True, True],\n",
       "         [True, True],\n",
       "         [True, True]],\n",
       "\n",
       "        [[True, True],\n",
       "         [True, True],\n",
       "         [True, True]],\n",
       "\n",
       "        [[True, True],\n",
       "         [True, True],\n",
       "         [True, True]],\n",
       "\n",
       "        [[True, True],\n",
       "         [True, True],\n",
       "         [True, True]],\n",
       "\n",
       "        [[True, True],\n",
       "         [True, True],\n",
       "         [True, True]],\n",
       "\n",
       "        [[True, True],\n",
       "         [True, True],\n",
       "         [True, True]],\n",
       "\n",
       "        [[True, True],\n",
       "         [True, True],\n",
       "         [True, True]],\n",
       "\n",
       "        [[True, True],\n",
       "         [True, True],\n",
       "         [True, True]],\n",
       "\n",
       "        [[True, True],\n",
       "         [True, True],\n",
       "         [True, True]],\n",
       "\n",
       "        [[True, True],\n",
       "         [True, True],\n",
       "         [True, True]],\n",
       "\n",
       "        [[True, True],\n",
       "         [True, True],\n",
       "         [True, True]],\n",
       "\n",
       "        [[True, True],\n",
       "         [True, True],\n",
       "         [True, True]],\n",
       "\n",
       "        [[True, True],\n",
       "         [True, True],\n",
       "         [True, True]],\n",
       "\n",
       "        [[True, True],\n",
       "         [True, True],\n",
       "         [True, True]],\n",
       "\n",
       "        [[True, True],\n",
       "         [True, True],\n",
       "         [True, True]],\n",
       "\n",
       "        [[True, True],\n",
       "         [True, True],\n",
       "         [True, True]],\n",
       "\n",
       "        [[True, True],\n",
       "         [True, True],\n",
       "         [True, True]],\n",
       "\n",
       "        [[True, True],\n",
       "         [True, True],\n",
       "         [True, True]],\n",
       "\n",
       "        [[True, True],\n",
       "         [True, True],\n",
       "         [True, True]],\n",
       "\n",
       "        [[True, True],\n",
       "         [True, True],\n",
       "         [True, True]],\n",
       "\n",
       "        [[True, True],\n",
       "         [True, True],\n",
       "         [True, True]],\n",
       "\n",
       "        [[True, True],\n",
       "         [True, True],\n",
       "         [True, True]],\n",
       "\n",
       "        [[True, True],\n",
       "         [True, True],\n",
       "         [True, True]],\n",
       "\n",
       "        [[True, True],\n",
       "         [True, True],\n",
       "         [True, True]],\n",
       "\n",
       "        [[True, True],\n",
       "         [True, True],\n",
       "         [True, True]],\n",
       "\n",
       "        [[True, True],\n",
       "         [True, True],\n",
       "         [True, True]]])"
      ]
     },
     "execution_count": 78,
     "metadata": {},
     "output_type": "execute_result"
    }
   ],
   "source": [
    "maskex"
   ]
  },
  {
   "cell_type": "code",
   "execution_count": 79,
   "metadata": {},
   "outputs": [
    {
     "data": {
      "text/plain": [
       "tensor(0.1741)"
      ]
     },
     "execution_count": 79,
     "metadata": {},
     "output_type": "execute_result"
    }
   ],
   "source": [
    "loss.masked_select(maskex).mean()"
   ]
  },
  {
   "cell_type": "code",
   "execution_count": 80,
   "metadata": {},
   "outputs": [],
   "source": [
    "y_hat_masked = y.masked_select(maskex)\n",
    "y_masked = x.masked_select(maskex)"
   ]
  },
  {
   "cell_type": "code",
   "execution_count": 81,
   "metadata": {},
   "outputs": [],
   "source": [
    "loss_fn = nn.MSELoss(reduction='mean')"
   ]
  },
  {
   "cell_type": "code",
   "execution_count": 82,
   "metadata": {},
   "outputs": [],
   "source": [
    "loss = loss_fn(y_hat_masked, y_masked)"
   ]
  },
  {
   "cell_type": "code",
   "execution_count": 83,
   "metadata": {},
   "outputs": [
    {
     "data": {
      "text/plain": [
       "tensor(0.1741)"
      ]
     },
     "execution_count": 83,
     "metadata": {},
     "output_type": "execute_result"
    }
   ],
   "source": [
    "loss"
   ]
  },
  {
   "cell_type": "code",
   "execution_count": 84,
   "metadata": {},
   "outputs": [],
   "source": [
    "loss_fn = nn.MSELoss(reduction='none')"
   ]
  },
  {
   "cell_type": "code",
   "execution_count": 85,
   "metadata": {},
   "outputs": [],
   "source": [
    "def masked_loss(loss_fn, y_hat, y, mask):\n",
    "    \"\"\"\n",
    "    Computes the masked loss given a loss function, predicted values, ground truth values, and a mask tensor.\n",
    "    \"\"\"\n",
    "    b, t, f = y_hat.shape\n",
    "    mask = mask.unsqueeze(-1).expand((b, t, f)).bool()  # both y_hat and y are of same size\n",
    "    # Apply mask to the predicted and ground truth values\n",
    "    y_hat_masked = y_hat.masked_select(mask)\n",
    "    y_masked = y.masked_select(mask)\n",
    "\n",
    "    # Calculate the loss using the masked values\n",
    "    # loss = loss_fn(y_hat_masked, y_masked)\n",
    "    loss = torch.sum(loss_fn(y_hat_masked, y_masked)) / torch.sum(mask)\n",
    "\n",
    "    return loss"
   ]
  },
  {
   "cell_type": "code",
   "execution_count": 86,
   "metadata": {},
   "outputs": [
    {
     "data": {
      "text/plain": [
       "tensor(0.1741)"
      ]
     },
     "execution_count": 86,
     "metadata": {},
     "output_type": "execute_result"
    }
   ],
   "source": [
    "masked_loss(loss_fn, y, x, mask)"
   ]
  },
  {
   "cell_type": "code",
   "execution_count": 87,
   "metadata": {},
   "outputs": [
    {
     "data": {
      "text/plain": [
       "tensor(384.)"
      ]
     },
     "execution_count": 87,
     "metadata": {},
     "output_type": "execute_result"
    }
   ],
   "source": [
    "torch.sum(mask)"
   ]
  },
  {
   "cell_type": "code",
   "execution_count": 2,
   "metadata": {},
   "outputs": [],
   "source": [
    "import librosa\n",
    "import librosa.display\n",
    "import numpy as np"
   ]
  },
  {
   "cell_type": "code",
   "execution_count": 3,
   "metadata": {},
   "outputs": [],
   "source": [
    "y, sr = librosa.load('s2201b_00000935.wav', sr = None)"
   ]
  },
  {
   "cell_type": "code",
   "execution_count": 2,
   "metadata": {},
   "outputs": [],
   "source": [
    "\n",
    "normalizedy = librosa.util.normalize(y)\n",
    "\n",
    "stft = librosa.core.stft(normalizedy, n_fft = 256, hop_length=16)\n",
    "mel = librosa.feature.melspectrogram(S=stft, n_mels=32)\n",
    "mellog = np.log(mel + 1e-9)\n",
    "melnormalized = librosa.util.normalize(mellog)"
   ]
  },
  {
   "cell_type": "code",
   "execution_count": 20,
   "metadata": {},
   "outputs": [],
   "source": [
    "import torchaudio"
   ]
  },
  {
   "cell_type": "code",
   "execution_count": 21,
   "metadata": {},
   "outputs": [],
   "source": [
    "waveform, sample_rate = torchaudio.load('s2201b_00000935.wav', normalize=True)"
   ]
  },
  {
   "cell_type": "code",
   "execution_count": 23,
   "metadata": {},
   "outputs": [],
   "source": [
    "mfcc = torchaudio.transforms.MFCC(n_mfcc=13)"
   ]
  },
  {
   "cell_type": "code",
   "execution_count": 24,
   "metadata": {},
   "outputs": [],
   "source": [
    "m = mfcc(waveform)"
   ]
  },
  {
   "cell_type": "code",
   "execution_count": 26,
   "metadata": {},
   "outputs": [
    {
     "data": {
      "text/plain": [
       "tensor([[[-3.7962e+02, -3.6230e+02, -3.6508e+02, -3.6261e+02, -3.4902e+02,\n",
       "          -3.7203e+02, -3.2691e+02, -2.9459e+02, -2.9167e+02, -2.8693e+02,\n",
       "          -2.7629e+02, -2.8340e+02, -2.8161e+02, -2.8229e+02, -2.7193e+02,\n",
       "          -2.7922e+02, -2.8311e+02, -2.8034e+02, -2.7894e+02, -2.8684e+02,\n",
       "          -2.7806e+02, -2.7558e+02, -2.7373e+02, -2.7846e+02, -2.8148e+02,\n",
       "          -2.8047e+02, -2.9212e+02, -3.0340e+02, -3.0164e+02, -3.2727e+02,\n",
       "          -3.4559e+02, -3.4841e+02, -3.5718e+02, -3.5382e+02, -3.6979e+02,\n",
       "          -3.6509e+02, -3.5893e+02, -3.5052e+02, -3.5979e+02, -3.4636e+02,\n",
       "          -3.5895e+02, -3.6911e+02, -3.5946e+02, -3.8408e+02, -3.8175e+02,\n",
       "          -3.5572e+02, -3.1451e+02, -3.3534e+02, -3.3453e+02, -2.8098e+02,\n",
       "          -3.0376e+02, -2.7683e+02, -3.2178e+02, -3.3437e+02, -3.8629e+02,\n",
       "          -4.4410e+02, -5.0081e+02, -5.2545e+02],\n",
       "         [ 8.1613e+01,  1.0408e+02,  1.0015e+02,  1.0229e+02,  9.2200e+01,\n",
       "           1.0163e+02,  1.3707e+02,  1.1183e+02,  1.1536e+02,  1.1825e+02,\n",
       "           1.1226e+02,  1.0396e+02,  1.0271e+02,  9.6846e+01,  9.6150e+01,\n",
       "           1.0377e+02,  1.0121e+02,  9.9772e+01,  1.0091e+02,  9.0138e+01,\n",
       "           9.7700e+01,  8.9668e+01,  7.8323e+01,  9.2809e+01,  1.0318e+02,\n",
       "           9.8054e+01,  9.6326e+01,  1.0600e+02,  8.4211e+01,  1.0697e+02,\n",
       "           1.1610e+02,  1.1401e+02,  1.2402e+02,  1.1572e+02,  1.1002e+02,\n",
       "           1.1832e+02,  1.1534e+02,  1.0750e+02,  1.1651e+02,  1.1361e+02,\n",
       "           1.1046e+02,  1.2265e+02,  1.1315e+02,  1.1127e+02,  7.2958e+01,\n",
       "          -1.5117e+01, -3.7513e+01, -7.3612e+01, -8.2488e+01, -2.1247e+01,\n",
       "          -3.1404e+01,  1.8298e+01, -1.7350e+01,  1.4738e+01,  1.2173e+01,\n",
       "           5.7815e+01,  7.4929e+01,  8.0081e+01],\n",
       "         [-8.2060e+00, -2.5137e+01, -2.8485e+01, -2.3946e+01, -2.3637e+01,\n",
       "          -1.9993e+01, -4.2560e+01, -4.6600e+01, -6.1950e+01, -6.4676e+01,\n",
       "          -6.0649e+01, -5.8822e+01, -6.5679e+01, -7.5255e+01, -8.2366e+01,\n",
       "          -8.0149e+01, -8.4847e+01, -8.3007e+01, -8.0676e+01, -8.5508e+01,\n",
       "          -8.4331e+01, -8.3316e+01, -6.9533e+01, -7.8332e+01, -7.6290e+01,\n",
       "          -6.9673e+01, -5.7893e+01, -5.0917e+01, -1.7737e+01, -2.7621e+01,\n",
       "          -2.1910e+01, -2.1076e+01, -2.0293e+01, -1.1703e+01,  4.2157e+00,\n",
       "          -6.3522e+00, -3.4724e+00, -6.2319e+00, -8.2086e+00, -1.5207e+01,\n",
       "          -1.5962e+01, -3.4510e+00, -1.4798e+01, -1.0199e+00, -8.9322e+00,\n",
       "          -2.7630e+01, -2.8690e+01, -2.2587e+01, -1.7651e+01,  6.2567e+00,\n",
       "           1.0232e+01,  1.1030e+01,  1.1739e+00,  1.3605e+01,  5.4539e+00,\n",
       "           1.8388e+01,  1.4231e+01,  1.5299e+01],\n",
       "         [ 5.5155e+01,  2.9586e+01,  2.6227e+01,  1.7228e+01,  2.1002e+01,\n",
       "           2.0885e+01, -1.4013e+01, -2.9499e+01, -3.2337e+01, -1.9070e+01,\n",
       "          -2.0401e+01, -2.4438e+01, -2.7103e+01, -1.6365e+01, -3.7410e+00,\n",
       "           1.0524e+00,  1.3247e+01,  1.2034e+01,  5.0102e+00,  1.0310e+01,\n",
       "           1.4730e+00, -1.1488e+00, -7.5658e+00, -5.3733e+00, -1.4841e+01,\n",
       "          -1.4590e+01, -1.6675e+01, -1.7158e+01, -2.5332e+01, -2.2244e+00,\n",
       "           2.6118e+00,  1.3801e+01,  3.8590e+00,  1.0934e+01,  1.6803e+01,\n",
       "           1.1029e+01,  8.0653e+00,  1.1371e+01,  1.2502e+01,  1.6402e+01,\n",
       "           1.0708e+01, -5.3094e+00,  2.4141e+00,  1.0785e+01,  3.0829e+01,\n",
       "           7.5480e+01,  5.8895e+01,  7.1086e+01,  6.8579e+01,  7.0157e+01,\n",
       "           8.1720e+01,  5.5160e+01,  6.9135e+01,  7.0738e+01,  6.8244e+01,\n",
       "           5.4020e+01,  3.9282e+01,  2.7478e+01],\n",
       "         [-1.6144e+01, -1.4112e+01, -1.2045e+01, -8.8175e+00, -9.6054e+00,\n",
       "          -5.8284e+00, -4.2889e+01, -4.3103e+01, -4.2923e+01, -4.5087e+01,\n",
       "          -4.2844e+01, -3.8410e+01, -2.4923e+01, -2.2057e+01, -1.5059e+01,\n",
       "          -2.3029e+00,  2.3382e-01,  3.8039e+00,  1.1024e+01,  1.1494e+01,\n",
       "           6.5179e+00,  6.6276e+00, -1.3664e+01,  1.7397e-01, -1.4174e+01,\n",
       "          -2.5634e+01, -3.9026e+01, -4.0227e+01, -3.7374e+01, -4.3697e+01,\n",
       "          -5.6750e+01, -6.0836e+01, -5.4373e+01, -5.5104e+01, -5.7181e+01,\n",
       "          -5.4005e+01, -4.9856e+01, -5.6106e+01, -4.9571e+01, -5.1954e+01,\n",
       "          -4.4302e+01, -3.7269e+01, -4.0704e+01, -2.6444e+01, -2.1133e+01,\n",
       "          -9.9127e+00, -2.0049e+01, -5.9630e+00,  6.7344e-01,  4.6290e-01,\n",
       "           2.2518e+00, -1.8201e+01,  1.0419e+01,  2.2624e+01,  9.9520e+00,\n",
       "           9.5980e+00,  2.4620e+01,  3.7420e+01],\n",
       "         [-3.0934e+01, -4.7327e+01, -5.0548e+01, -5.9443e+01, -5.6328e+01,\n",
       "          -5.8977e+01, -4.9517e+01, -5.0939e+01, -5.1810e+01, -5.3556e+01,\n",
       "          -5.2490e+01, -5.2269e+01, -6.4809e+01, -6.6268e+01, -6.5657e+01,\n",
       "          -7.4561e+01, -7.9706e+01, -7.9692e+01, -8.6655e+01, -9.1732e+01,\n",
       "          -8.5751e+01, -9.2695e+01, -6.9045e+01, -7.1579e+01, -7.8802e+01,\n",
       "          -6.5053e+01, -5.7949e+01, -6.7332e+01, -7.5606e+01, -7.7438e+01,\n",
       "          -7.1052e+01, -6.5788e+01, -7.8821e+01, -7.7683e+01, -7.3598e+01,\n",
       "          -7.9359e+01, -7.3467e+01, -6.2628e+01, -6.6423e+01, -6.3503e+01,\n",
       "          -5.8165e+01, -5.2858e+01, -3.7493e+01, -4.3739e+01, -3.0073e+01,\n",
       "          -1.2162e+01, -9.7201e+00, -1.2078e+01, -7.2047e+00, -1.8595e+01,\n",
       "          -2.2527e+01, -3.0978e+01, -1.6310e+01, -1.5905e+01, -1.5151e+01,\n",
       "          -1.3705e+01, -6.8217e+00, -9.3700e-01],\n",
       "         [-3.2879e+00, -1.5036e+01, -2.3115e+01, -1.6242e+01, -8.4685e+00,\n",
       "          -6.3083e+00,  3.9828e+00,  1.4789e+01,  2.0514e+01,  2.1987e+01,\n",
       "           2.0913e+01,  1.0550e+01,  1.1601e+01,  1.4164e+00, -3.1743e+00,\n",
       "          -1.8904e+01, -1.6526e+01, -2.3215e+01, -2.4373e+01, -2.4787e+01,\n",
       "          -3.1183e+01, -2.8532e+01, -3.4241e+01, -1.0500e+01,  1.5720e+00,\n",
       "           1.4425e+01,  1.0542e+01,  2.0037e+01,  2.2166e+00,  1.3109e+01,\n",
       "           1.1873e+01,  3.7153e+00,  6.8631e+00,  2.8208e+00, -8.1369e+00,\n",
       "          -1.2108e+00, -6.3623e+00, -7.9257e+00,  4.5948e+00,  3.1145e+00,\n",
       "          -4.4748e-01, -4.7754e+00, -3.2442e-01, -2.5720e+01, -1.5476e+01,\n",
       "          -1.8056e+01, -2.5301e+01, -1.9124e+01, -1.7470e+01, -2.5161e+01,\n",
       "          -1.8031e+01, -3.2664e+01, -1.5089e+01, -2.3789e+01, -2.2978e+01,\n",
       "          -1.8102e+01, -1.0733e+01, -1.0458e+01],\n",
       "         [-2.6729e+01, -4.1370e+01, -3.3697e+01, -3.3324e+01, -3.2558e+01,\n",
       "          -2.7352e+01, -1.6860e+01, -2.0041e+01, -2.1194e+01, -3.3211e+01,\n",
       "          -2.8686e+01, -2.8376e+01, -3.6159e+01, -3.7143e+01, -3.5068e+01,\n",
       "          -2.5461e+01, -2.0475e+01, -1.7019e+01, -1.1071e+01, -1.7847e+01,\n",
       "          -1.8140e+01, -1.3898e+01, -1.1802e+01, -2.5956e+01, -3.6143e+01,\n",
       "          -2.5777e+01, -1.8252e+01, -2.4065e+01, -2.6724e+00, -1.3897e+01,\n",
       "          -1.2113e+01, -1.2528e+01, -1.2280e+01, -1.7239e+01, -7.3145e+00,\n",
       "          -1.5738e+01, -1.2036e+01, -1.2871e+01, -1.9997e+01, -1.3581e+01,\n",
       "          -1.0779e+01, -1.4118e+01, -1.5960e+01, -2.0209e+01, -2.9372e+00,\n",
       "           9.3326e+00,  1.5476e+01,  9.3138e+00,  1.2404e+01, -2.7592e+00,\n",
       "           3.3094e+00, -4.4139e+00,  2.0420e+00, -1.0433e+01, -5.7275e+00,\n",
       "          -2.5706e+00,  9.7657e+00, -1.2031e+01],\n",
       "         [-3.5604e+01, -2.9384e+01, -2.6237e+01, -3.0060e+01, -3.1126e+01,\n",
       "          -3.3294e+01, -1.9836e+01, -2.1244e+01, -2.0225e+01, -1.7830e+01,\n",
       "          -1.7541e+01, -2.2609e+01, -2.3002e+01, -1.6222e+01, -1.0167e+01,\n",
       "          -7.4237e+00,  1.7202e-01, -2.4275e+00, -8.2557e-02,  1.6937e+00,\n",
       "          -4.5544e+00, -3.2873e+00, -1.0561e+01, -1.4045e+01, -1.5498e+01,\n",
       "          -1.6260e+01, -3.1249e+01, -2.2884e+01, -2.5232e+01, -2.2289e+01,\n",
       "          -1.6072e+01, -8.6024e+00, -7.5492e+00, -2.1843e+00, -3.6525e+00,\n",
       "          -5.9108e+00, -5.2462e+00, -2.0774e+00, -1.2716e+01, -1.1174e+01,\n",
       "          -2.3036e+01, -5.5734e+00, -6.1605e+00, -7.3938e+00, -1.9125e+01,\n",
       "          -1.4173e+01,  6.9642e+00, -1.7184e+01, -7.9964e+00, -1.3117e+01,\n",
       "          -3.0384e+01, -2.0304e+01, -2.9926e+01, -4.1894e+01, -3.3791e+01,\n",
       "          -2.0443e+01, -2.4821e+00, -7.1665e+00],\n",
       "         [ 1.2483e-01, -1.6867e+00, -4.7685e+00, -1.5459e+01, -1.8013e+01,\n",
       "          -3.4872e+01, -1.1909e+01,  1.9206e+00,  1.3418e+01,  6.5927e+00,\n",
       "           1.0616e+01,  6.0761e+00,  8.8335e+00,  8.1185e+00,  1.0538e+01,\n",
       "           1.4677e+01,  6.3935e+00,  5.3382e+00,  6.6266e+00,  7.5650e+00,\n",
       "           7.4252e+00,  1.6409e+01,  1.6368e+01,  1.9914e+01,  8.4181e+00,\n",
       "           1.3501e+01,  7.8395e+00,  4.8360e+00,  1.1680e+01,  7.5758e+00,\n",
       "          -2.4534e+00, -4.6427e-01, -4.2286e+00, -1.1354e+01, -1.5182e+01,\n",
       "          -1.3801e+01, -1.4242e+01, -2.1860e+01, -5.6667e+00, -5.8209e+00,\n",
       "          -1.3557e+01, -1.4901e+01, -1.1292e+01, -1.5054e+01, -1.6525e+01,\n",
       "          -1.2127e+01, -5.4048e+00, -1.0184e+01,  8.1724e+00,  5.0601e+00,\n",
       "          -6.0595e+00,  5.7739e+00,  5.7120e+00, -1.5709e+00,  8.7431e+00,\n",
       "           6.1918e+00,  2.5620e+01,  1.9990e+01],\n",
       "         [ 7.7998e-01, -8.7320e+00, -9.4876e+00, -7.2522e+00, -1.3647e+01,\n",
       "          -1.3759e+01, -1.5378e+01, -1.0207e+01, -9.8820e+00, -1.2512e+01,\n",
       "          -7.4608e+00,  1.6118e+00,  1.0806e+01,  7.9228e+00,  2.1398e+01,\n",
       "           1.4301e+01,  1.1807e+01,  1.1491e+01,  1.2084e+01,  8.8207e+00,\n",
       "           6.8166e+00,  8.9391e+00,  4.4162e+00,  1.9240e+01,  1.5688e+01,\n",
       "           1.6091e+01,  7.2953e+00,  1.5069e+01,  4.2924e+00, -4.5916e+00,\n",
       "           1.7989e+00,  3.8070e+00, -5.2732e+00,  1.6607e+00, -7.4729e+00,\n",
       "          -7.1657e+00,  1.0057e+00,  8.0163e+00,  4.2100e+00, -7.8760e-01,\n",
       "           3.2062e+00,  2.7123e+00,  3.2617e+00, -5.6682e+00,  2.7674e+00,\n",
       "           1.1413e+01,  6.5699e+00,  1.1272e+01,  1.7345e+01,  3.0252e-01,\n",
       "           4.7769e+00, -1.2467e+00, -3.4388e+00,  9.0027e+00,  1.6470e+01,\n",
       "          -1.8962e+00,  2.4610e+00, -1.4794e+00],\n",
       "         [ 4.9130e+00, -5.7618e+00, -1.1758e-01,  3.0649e+00,  1.0196e+01,\n",
       "           5.7095e+00,  5.6785e+00,  3.9011e+00,  3.6684e+00,  1.6798e+00,\n",
       "          -1.0610e+00, -1.6381e+01, -1.7510e+01, -2.0604e+01, -3.0459e+01,\n",
       "          -3.1500e+01, -3.4657e+01, -3.1369e+01, -3.4306e+01, -2.9517e+01,\n",
       "          -2.5220e+01, -3.0206e+01, -3.3517e+01, -2.8575e+01, -2.2378e+01,\n",
       "          -1.3421e+01, -1.5687e+01, -3.4464e+00, -3.4420e+00,  5.1710e+00,\n",
       "           4.3115e+00, -5.0853e+00, -2.0084e+00, -4.1647e+00, -9.5042e+00,\n",
       "          -6.0003e+00, -5.3194e+00,  3.0073e+00,  6.7666e+00,  1.5222e+01,\n",
       "           1.1895e+01,  1.0008e+01,  1.7820e+01,  1.3224e+01,  1.7697e+00,\n",
       "          -1.3947e-01, -1.1816e+00,  6.0980e-01, -2.6251e+00, -1.7743e+01,\n",
       "          -1.4756e+01, -8.8160e+00, -2.2192e+01, -6.8904e+00, -2.1541e+01,\n",
       "          -1.6138e+01, -3.1356e+01, -1.8014e+01],\n",
       "         [-1.8170e+01, -2.3380e+01, -3.0956e+01, -2.8335e+01, -2.8189e+01,\n",
       "          -1.8606e+01, -1.4403e+01, -1.0262e+01, -9.6118e+00, -1.6507e+01,\n",
       "          -1.6899e+01, -1.6733e+01, -2.9439e+01, -3.6607e+01, -2.8207e+01,\n",
       "          -2.4968e+01, -1.0208e+01, -1.3443e+01, -7.9184e+00, -1.2363e+01,\n",
       "          -1.7616e+01, -1.4194e+01, -1.6072e+01, -2.4792e+01, -3.0389e+01,\n",
       "          -3.0320e+01, -1.8445e+01, -2.3950e+01, -1.7178e+01, -2.1975e+01,\n",
       "          -2.4409e+01, -1.9691e+01, -2.1099e+01, -2.7457e+01, -3.3941e+01,\n",
       "          -3.2965e+01, -3.1942e+01, -2.5274e+01, -3.1477e+01, -3.5840e+01,\n",
       "          -3.0410e+01, -3.7912e+01, -3.7260e+01, -3.7034e+01, -3.0745e+01,\n",
       "          -1.3978e+01, -9.9986e+00, -1.1910e+01, -1.3167e+01, -1.5837e+01,\n",
       "          -1.8420e+01, -2.0822e+01, -2.5623e+01, -1.7027e+01, -2.4001e+01,\n",
       "          -1.6648e+01, -2.4854e+01, -2.6259e+01]]])"
      ]
     },
     "execution_count": 26,
     "metadata": {},
     "output_type": "execute_result"
    }
   ],
   "source": [
    "m"
   ]
  },
  {
   "cell_type": "code",
   "execution_count": 18,
   "metadata": {},
   "outputs": [],
   "source": [
    "t = torchaudio.transforms.MelSpectrogram(sample_rate, n_fft=400, n_mels=64)"
   ]
  },
  {
   "cell_type": "code",
   "execution_count": 9,
   "metadata": {},
   "outputs": [],
   "source": [
    "atd = torchaudio.transforms.AmplitudeToDB()"
   ]
  },
  {
   "cell_type": "code",
   "execution_count": 10,
   "metadata": {},
   "outputs": [],
   "source": [
    "mel = t(waveform)"
   ]
  },
  {
   "cell_type": "code",
   "execution_count": 11,
   "metadata": {},
   "outputs": [
    {
     "data": {
      "text/plain": [
       "tensor([[[0.0000e+00, 0.0000e+00, 0.0000e+00,  ..., 0.0000e+00,\n",
       "          0.0000e+00, 0.0000e+00],\n",
       "         [1.6428e-01, 5.1216e-04, 1.1408e-04,  ..., 2.9220e-01,\n",
       "          3.2471e-01, 1.2320e-01],\n",
       "         [8.8451e-01, 2.7576e-03, 6.1423e-04,  ..., 1.5733e+00,\n",
       "          1.7484e+00, 6.6336e-01],\n",
       "         ...,\n",
       "         [1.8699e-06, 3.0843e-06, 5.5021e-06,  ..., 5.5968e-06,\n",
       "          2.0315e-06, 1.4247e-06],\n",
       "         [9.3079e-06, 4.7386e-06, 3.8569e-06,  ..., 3.1327e-06,\n",
       "          8.1938e-07, 4.1661e-07],\n",
       "         [4.6462e-06, 4.3422e-06, 1.6264e-06,  ..., 2.0404e-06,\n",
       "          7.7219e-07, 3.5185e-07]]])"
      ]
     },
     "execution_count": 11,
     "metadata": {},
     "output_type": "execute_result"
    }
   ],
   "source": [
    "mel"
   ]
  },
  {
   "cell_type": "code",
   "execution_count": 12,
   "metadata": {},
   "outputs": [
    {
     "data": {
      "text/plain": [
       "torch.Size([1, 128, 58])"
      ]
     },
     "execution_count": 12,
     "metadata": {},
     "output_type": "execute_result"
    }
   ],
   "source": [
    "mel.shape"
   ]
  },
  {
   "cell_type": "code",
   "execution_count": 13,
   "metadata": {},
   "outputs": [],
   "source": [
    "dbmel = atd(mel)"
   ]
  },
  {
   "cell_type": "code",
   "execution_count": 14,
   "metadata": {},
   "outputs": [
    {
     "data": {
      "text/plain": [
       "tensor([[[-100.0000, -100.0000, -100.0000,  ..., -100.0000, -100.0000,\n",
       "          -100.0000],\n",
       "         [  -7.8443,  -32.9060,  -39.4280,  ...,   -5.3432,   -4.8850,\n",
       "            -9.0938],\n",
       "         [  -0.5330,  -25.5947,  -32.1167,  ...,    1.9681,    2.4263,\n",
       "            -1.7825],\n",
       "         ...,\n",
       "         [ -57.2818,  -55.1084,  -52.5947,  ...,  -52.5206,  -56.9218,\n",
       "           -58.4627],\n",
       "         [ -50.3115,  -53.2435,  -54.1376,  ...,  -55.0409,  -60.8652,\n",
       "           -63.8027],\n",
       "         [ -53.3290,  -53.6229,  -57.8876,  ...,  -56.9029,  -61.1228,\n",
       "           -64.5364]]])"
      ]
     },
     "execution_count": 14,
     "metadata": {},
     "output_type": "execute_result"
    }
   ],
   "source": [
    "dbmel"
   ]
  },
  {
   "cell_type": "code",
   "execution_count": 15,
   "metadata": {},
   "outputs": [
    {
     "data": {
      "text/plain": [
       "torch.Size([1, 128, 58])"
      ]
     },
     "execution_count": 15,
     "metadata": {},
     "output_type": "execute_result"
    }
   ],
   "source": [
    "dbmel.shape"
   ]
  },
  {
   "cell_type": "code",
   "execution_count": null,
   "metadata": {},
   "outputs": [],
   "source": []
  }
 ],
 "metadata": {
  "kernelspec": {
   "display_name": "wavln",
   "language": "python",
   "name": "python3"
  },
  "language_info": {
   "codemirror_mode": {
    "name": "ipython",
    "version": 3
   },
   "file_extension": ".py",
   "mimetype": "text/x-python",
   "name": "python",
   "nbconvert_exporter": "python",
   "pygments_lexer": "ipython3",
   "version": "3.10.11"
  },
  "orig_nbformat": 4
 },
 "nbformat": 4,
 "nbformat_minor": 2
}
