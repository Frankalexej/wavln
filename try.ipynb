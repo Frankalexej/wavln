{
 "cells": [
  {
   "cell_type": "code",
   "execution_count": 2,
   "metadata": {},
   "outputs": [],
   "source": [
    "import torch\n",
    "from loss import *"
   ]
  },
  {
   "cell_type": "code",
   "execution_count": 5,
   "metadata": {},
   "outputs": [],
   "source": [
    "# Calculate the expected loss manually (using MSE loss)\n",
    "mse_loss = nn.MSELoss(reduction=\"none\")\n",
    "masked_loss = MaskedLoss(mse_loss)\n",
    "\n",
    "\n",
    "y_hat = torch.tensor(\n",
    "    [\n",
    "        [[0.9, 0.8], [0.7, 0.6], [0.5, 0.4], [0.3, 0.2], [0.1, 0.0]],\n",
    "        [[0.5, 0.6], [0.7, 0.8], [0.9, 1.0], [1.1, 1.2], [1.3, 1.4]],\n",
    "        [[1.0, 0.9], [0.8, 0.7], [0.6, 0.5], [0.4, 0.3], [0.2, 0.1]],\n",
    "    ],\n",
    "    dtype=torch.float32,\n",
    ")\n",
    "y = torch.tensor(\n",
    "    [\n",
    "        [[1.0, 0.8], [0.7, 0.6], [0.5, 0.4], [0.3, 0.2], [0.1, 0.0]],\n",
    "        [[0.5, 0.6], [0.7, 0.8], [0.9, 1.0], [1.1, 1.2], [1.3, 1.4]],\n",
    "        [[1.0, 0.9], [0.8, 0.7], [0.6, 0.5], [0.4, 0.3], [0.2, 0.1]],\n",
    "    ],\n",
    "    dtype=torch.float32,\n",
    ")\n",
    "mask = torch.tensor(\n",
    "    [\n",
    "        [1, 0, 1, 1, 0],\n",
    "        [1, 1, 0, 1, 0],\n",
    "        [1, 1, 1, 1, 1],\n",
    "    ],\n",
    "    dtype=torch.float32,\n",
    ")\n",
    "\n",
    "# Calculate the loss using the MaskedLoss class\n",
    "masked_loss = masked_loss.get_loss(y_hat, y, mask)\n",
    "expected_loss = mse_loss(y_hat, y)"
   ]
  },
  {
   "cell_type": "code",
   "execution_count": 6,
   "metadata": {},
   "outputs": [
    {
     "data": {
      "text/plain": [
       "tensor(0.0005)"
      ]
     },
     "execution_count": 6,
     "metadata": {},
     "output_type": "execute_result"
    }
   ],
   "source": [
    "masked_loss"
   ]
  },
  {
   "cell_type": "code",
   "execution_count": 8,
   "metadata": {},
   "outputs": [
    {
     "data": {
      "text/plain": [
       "tensor(0.0100)"
      ]
     },
     "execution_count": 8,
     "metadata": {},
     "output_type": "execute_result"
    }
   ],
   "source": [
    "torch.sum(expected_loss)"
   ]
  },
  {
   "cell_type": "code",
   "execution_count": 1,
   "metadata": {},
   "outputs": [],
   "source": [
    "import numpy as np"
   ]
  },
  {
   "cell_type": "code",
   "execution_count": 283,
   "metadata": {},
   "outputs": [
    {
     "name": "stdout",
     "output_type": "stream",
     "text": [
      "Directional consistency (variance of angles): 0.3138348994231784\n"
     ]
    }
   ],
   "source": [
    "def calculate_directional_consistency(trajectory):\n",
    "    \"\"\"\n",
    "    Calculate directional consistency of a 3D trajectory.\n",
    "\n",
    "    Args:\n",
    "        trajectory (numpy.ndarray): NumPy array of shape (num_frame, 3) representing the 3D trajectory.\n",
    "\n",
    "    Returns:\n",
    "        float: Variance of the angles between consecutive direction vectors.\n",
    "    \"\"\"\n",
    "    if trajectory.shape[0] < 2:\n",
    "        raise ValueError(\"Trajectory must have at least two data points for directional consistency calculation.\")\n",
    "\n",
    "    # Compute direction vectors between consecutive points\n",
    "    direction_vectors = np.diff(trajectory, axis=0)\n",
    "\n",
    "    # Calculate angles between consecutive direction vectors\n",
    "    angles = []\n",
    "    for i in range(1, len(direction_vectors)):\n",
    "        v1 = direction_vectors[i - 1]\n",
    "        v2 = direction_vectors[i]\n",
    "        cos_theta = np.dot(v1, v2) / (np.linalg.norm(v1) * np.linalg.norm(v2))\n",
    "        angle = np.arccos(np.clip(cos_theta, -1.0, 1.0))\n",
    "        angles.append(angle)\n",
    "\n",
    "    # Calculate variance of the angles\n",
    "    variance = np.var(angles)\n",
    "\n",
    "    return variance\n",
    "\n",
    "# Example usage:\n",
    "if __name__ == \"__main__\":\n",
    "    # Create a sample 3D trajectory (num_frame, 3)\n",
    "    sample_trajectory = np.array([[0.0, 0.0, 0.0],\n",
    "                                   [1.0, 0.0, 0.0],\n",
    "                                   [2.0, 0.0, 0.0],\n",
    "                                   [2.0, 1.0, 0.0],\n",
    "                                   [2.0, 2.0, 0.0]])\n",
    "    \n",
    "    sample_trajectory = np.random.rand(50, 3)\n",
    "\n",
    "    # Calculate directional consistency\n",
    "    variance = calculate_directional_consistency(sample_trajectory)\n",
    "\n",
    "    print(f\"Directional consistency (variance of angles): {variance}\")\n"
   ]
  },
  {
   "cell_type": "code",
   "execution_count": null,
   "metadata": {},
   "outputs": [],
   "source": []
  }
 ],
 "metadata": {
  "kernelspec": {
   "display_name": "wavln",
   "language": "python",
   "name": "python3"
  },
  "language_info": {
   "codemirror_mode": {
    "name": "ipython",
    "version": 3
   },
   "file_extension": ".py",
   "mimetype": "text/x-python",
   "name": "python",
   "nbconvert_exporter": "python",
   "pygments_lexer": "ipython3",
   "version": "3.11.3"
  },
  "orig_nbformat": 4
 },
 "nbformat": 4,
 "nbformat_minor": 2
}
