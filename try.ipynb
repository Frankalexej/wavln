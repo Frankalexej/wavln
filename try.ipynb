{
 "cells": [
  {
   "cell_type": "code",
   "execution_count": 2,
   "metadata": {},
   "outputs": [],
   "source": [
    "import torch\n",
    "from loss import *"
   ]
  },
  {
   "cell_type": "code",
   "execution_count": 5,
   "metadata": {},
   "outputs": [],
   "source": [
    "# Calculate the expected loss manually (using MSE loss)\n",
    "mse_loss = nn.MSELoss(reduction=\"none\")\n",
    "masked_loss = MaskedLoss(mse_loss)\n",
    "\n",
    "\n",
    "y_hat = torch.tensor(\n",
    "    [\n",
    "        [[0.9, 0.8], [0.7, 0.6], [0.5, 0.4], [0.3, 0.2], [0.1, 0.0]],\n",
    "        [[0.5, 0.6], [0.7, 0.8], [0.9, 1.0], [1.1, 1.2], [1.3, 1.4]],\n",
    "        [[1.0, 0.9], [0.8, 0.7], [0.6, 0.5], [0.4, 0.3], [0.2, 0.1]],\n",
    "    ],\n",
    "    dtype=torch.float32,\n",
    ")\n",
    "y = torch.tensor(\n",
    "    [\n",
    "        [[1.0, 0.8], [0.7, 0.6], [0.5, 0.4], [0.3, 0.2], [0.1, 0.0]],\n",
    "        [[0.5, 0.6], [0.7, 0.8], [0.9, 1.0], [1.1, 1.2], [1.3, 1.4]],\n",
    "        [[1.0, 0.9], [0.8, 0.7], [0.6, 0.5], [0.4, 0.3], [0.2, 0.1]],\n",
    "    ],\n",
    "    dtype=torch.float32,\n",
    ")\n",
    "mask = torch.tensor(\n",
    "    [\n",
    "        [1, 0, 1, 1, 0],\n",
    "        [1, 1, 0, 1, 0],\n",
    "        [1, 1, 1, 1, 1],\n",
    "    ],\n",
    "    dtype=torch.float32,\n",
    ")\n",
    "\n",
    "# Calculate the loss using the MaskedLoss class\n",
    "masked_loss = masked_loss.get_loss(y_hat, y, mask)\n",
    "expected_loss = mse_loss(y_hat, y)"
   ]
  },
  {
   "cell_type": "code",
   "execution_count": 6,
   "metadata": {},
   "outputs": [
    {
     "data": {
      "text/plain": [
       "tensor(0.0005)"
      ]
     },
     "execution_count": 6,
     "metadata": {},
     "output_type": "execute_result"
    }
   ],
   "source": [
    "masked_loss"
   ]
  },
  {
   "cell_type": "code",
   "execution_count": 8,
   "metadata": {},
   "outputs": [
    {
     "data": {
      "text/plain": [
       "tensor(0.0100)"
      ]
     },
     "execution_count": 8,
     "metadata": {},
     "output_type": "execute_result"
    }
   ],
   "source": [
    "torch.sum(expected_loss)"
   ]
  },
  {
   "cell_type": "code",
   "execution_count": 1,
   "metadata": {},
   "outputs": [],
   "source": [
    "import numpy as np"
   ]
  },
  {
   "cell_type": "code",
   "execution_count": 283,
   "metadata": {},
   "outputs": [
    {
     "name": "stdout",
     "output_type": "stream",
     "text": [
      "Directional consistency (variance of angles): 0.3138348994231784\n"
     ]
    }
   ],
   "source": [
    "def calculate_directional_consistency(trajectory):\n",
    "    \"\"\"\n",
    "    Calculate directional consistency of a 3D trajectory.\n",
    "\n",
    "    Args:\n",
    "        trajectory (numpy.ndarray): NumPy array of shape (num_frame, 3) representing the 3D trajectory.\n",
    "\n",
    "    Returns:\n",
    "        float: Variance of the angles between consecutive direction vectors.\n",
    "    \"\"\"\n",
    "    if trajectory.shape[0] < 2:\n",
    "        raise ValueError(\"Trajectory must have at least two data points for directional consistency calculation.\")\n",
    "\n",
    "    # Compute direction vectors between consecutive points\n",
    "    direction_vectors = np.diff(trajectory, axis=0)\n",
    "\n",
    "    # Calculate angles between consecutive direction vectors\n",
    "    angles = []\n",
    "    for i in range(1, len(direction_vectors)):\n",
    "        v1 = direction_vectors[i - 1]\n",
    "        v2 = direction_vectors[i]\n",
    "        cos_theta = np.dot(v1, v2) / (np.linalg.norm(v1) * np.linalg.norm(v2))\n",
    "        angle = np.arccos(np.clip(cos_theta, -1.0, 1.0))\n",
    "        angles.append(angle)\n",
    "\n",
    "    # Calculate variance of the angles\n",
    "    variance = np.var(angles)\n",
    "\n",
    "    return variance\n",
    "\n",
    "# Example usage:\n",
    "if __name__ == \"__main__\":\n",
    "    # Create a sample 3D trajectory (num_frame, 3)\n",
    "    sample_trajectory = np.array([[0.0, 0.0, 0.0],\n",
    "                                   [1.0, 0.0, 0.0],\n",
    "                                   [2.0, 0.0, 0.0],\n",
    "                                   [2.0, 1.0, 0.0],\n",
    "                                   [2.0, 2.0, 0.0]])\n",
    "    \n",
    "    sample_trajectory = np.random.rand(50, 3)\n",
    "\n",
    "    # Calculate directional consistency\n",
    "    variance = calculate_directional_consistency(sample_trajectory)\n",
    "\n",
    "    print(f\"Directional consistency (variance of angles): {variance}\")\n"
   ]
  },
  {
   "cell_type": "code",
   "execution_count": 11,
   "metadata": {},
   "outputs": [
    {
     "data": {
      "image/png": "[encoded data removed]",
      "text/plain": [
       "<Figure size 600x600 with 1 Axes>"
      ]
     },
     "metadata": {},
     "output_type": "display_data"
    }
   ],
   "source": [
    "import pandas as pd\n",
    "import matplotlib.pyplot as plt\n",
    "import os\n",
    "from paths import bsc_path\n",
    "\n",
    "log_path = os.path.join(bsc_path, \"word_log.csv\")\n",
    "df = pd.read_csv(log_path)\n",
    "\n",
    "# Specify the column you want to plot\n",
    "column_to_plot = 'diff'\n",
    "\n",
    "# Count the occurrences of each unique value\n",
    "value_counts = df[column_to_plot].value_counts()\n",
    "\n",
    "# Plot a pie chart\n",
    "plt.figure(figsize=(6, 6))  # Adjust the figure size as needed\n",
    "plt.pie(value_counts, labels=value_counts.index, autopct='%1.1f%%', startangle=90)\n",
    "plt.axis('equal')  # Equal aspect ratio ensures that pie is drawn as a circle.\n",
    "plt.title(f'Percentage of {column_to_plot}')\n",
    "plt.show()\n",
    "\n",
    "\n",
    "\"\"\"\n",
    "NOTE\n",
    "There are very occasional words who lost n_frames. \n",
    "I am not sure whether we will encounter those in phones, just see. \n",
    "\"\"\""
   ]
  },
  {
   "cell_type": "code",
   "execution_count": 2,
   "metadata": {},
   "outputs": [],
   "source": [
    "import torchaudio\n",
    "import os\n",
    "from paths import *"
   ]
  },
  {
   "cell_type": "code",
   "execution_count": 3,
   "metadata": {},
   "outputs": [],
   "source": [
    "rec, sr = torchaudio.load(os.path.join(bsc_path, \"s0101a.wav\"))"
   ]
  },
  {
   "cell_type": "code",
   "execution_count": 5,
   "metadata": {},
   "outputs": [
    {
     "data": {
      "text/plain": [
       "9969854"
      ]
     },
     "execution_count": 5,
     "metadata": {},
     "output_type": "execute_result"
    }
   ],
   "source": [
    "rec.size(1)"
   ]
  },
  {
   "cell_type": "code",
   "execution_count": 6,
   "metadata": {},
   "outputs": [
    {
     "name": "stdout",
     "output_type": "stream",
     "text": [
      "  Group  Value  timestep\n",
      "0     A     10         1\n",
      "1     A     20         2\n",
      "3     A     15         3\n",
      "2     B      5         1\n",
      "4     B      8         2\n",
      "5     B     12         3\n"
     ]
    }
   ],
   "source": [
    "import pandas as pd\n",
    "\n",
    "def assign_timestep(df, group_col):\n",
    "    \"\"\"\n",
    "    Assign a \"timestep\" value to each row based on the order within the group.\n",
    "\n",
    "    Parameters:\n",
    "    - df (pandas.DataFrame): The input DataFrame.\n",
    "    - group_col (str): The name of the column containing grouping information.\n",
    "\n",
    "    Returns:\n",
    "    - df (pandas.DataFrame): The DataFrame with an additional \"timestep\" column.\n",
    "    \"\"\"\n",
    "    # Sort the DataFrame by the grouping column (optional but can be useful)\n",
    "    df = df.sort_values(by=[group_col])\n",
    "\n",
    "    # Group the DataFrame by the grouping column and assign timesteps within each group\n",
    "    df['timestep'] = df.groupby(group_col).cumcount() + 1\n",
    "\n",
    "    return df\n",
    "\n",
    "# Example usage:\n",
    "data = {'Group': ['A', 'A', 'B', 'A', 'B', 'B'],\n",
    "        'Value': [10, 20, 5, 15, 8, 12]}\n",
    "df = pd.DataFrame(data)\n",
    "\n",
    "# Assign timesteps based on the 'Group' column\n",
    "df = assign_timestep(df, 'Group')\n",
    "print(df)\n"
   ]
  }
 ],
 "metadata": {
  "kernelspec": {
   "display_name": "wavln",
   "language": "python",
   "name": "python3"
  },
  "language_info": {
   "codemirror_mode": {
    "name": "ipython",
    "version": 3
   },
   "file_extension": ".py",
   "mimetype": "text/x-python",
   "name": "python",
   "nbconvert_exporter": "python",
   "pygments_lexer": "ipython3",
   "version": "3.11.3"
  },
  "orig_nbformat": 4
 },
 "nbformat": 4,
 "nbformat_minor": 2
}
