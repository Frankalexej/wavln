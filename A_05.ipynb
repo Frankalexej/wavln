{
 "cells": [
  {
   "attachments": {},
   "cell_type": "markdown",
   "metadata": {
    "id": "B-mljeGlqMqo"
   },
   "source": [
    "# AI Lab Run\n",
    "V1: New dataset, old model.   \n",
    "A3: untrain model.   \n",
    "A5: this time we change the traning target to predicting the phoneme of each frame (which we can grab from the matched phone guide). From this we again check the several matters concerned and evaluate how well it can be guided to learned the phonemes. "
   ]
  },
  {
   "cell_type": "code",
   "execution_count": 1,
   "metadata": {
    "id": "jN5DNuExjwet"
   },
   "outputs": [],
   "source": [
    "import torch\n",
    "from torch import nn\n",
    "import torch.nn.functional as F\n",
    "from torch.nn.utils.rnn import pad_sequence, pack_sequence\n",
    "from torch import optim\n",
    "from torch.utils.data import Dataset, DataLoader, random_split\n",
    "import matplotlib.pyplot as plt\n",
    "import numpy as np"
   ]
  },
  {
   "cell_type": "code",
   "execution_count": 2,
   "metadata": {},
   "outputs": [],
   "source": [
    "from model_model import SimplerPhxLearnerInit as TheLearner\n",
    "from model_dataset import DS_Tools\n",
    "from model_dataset import WordDataset as ThisDataset\n",
    "from model_dataset import Normalizer, DeNormalizer\n",
    "from model_dataset import MelSpecTransformDB as TheTransform\n",
    "from paths import *\n",
    "from misc_my_utils import *\n",
    "from misc_recorder import *\n",
    "from model_loss import *\n",
    "from model_padding import generate_mask_from_lengths_mat"
   ]
  },
  {
   "attachments": {},
   "cell_type": "markdown",
   "metadata": {
    "tags": []
   },
   "source": [
    "### Dirs"
   ]
  },
  {
   "cell_type": "code",
   "execution_count": 3,
   "metadata": {
    "id": "iGouCDYD3h18"
   },
   "outputs": [],
   "source": [
    "rec_dir = train_cut_word_\n",
    "train_guide_path = os.path.join(src_, \"guide_train.csv\")\n",
    "valid_guide_path = os.path.join(src_, \"guide_validation.csv\")\n",
    "test_guide_path = os.path.join(src_, \"guide_test.csv\")"
   ]
  },
  {
   "attachments": {},
   "cell_type": "markdown",
   "metadata": {},
   "source": [
    "### Constants"
   ]
  },
  {
   "cell_type": "code",
   "execution_count": 4,
   "metadata": {},
   "outputs": [],
   "source": [
    "BATCH_SIZE = 256\n",
    "\n",
    "INPUT_DIM = 64\n",
    "OUTPUT_DIM = 64 \n",
    "\n",
    "INTER_DIM_0 = 32\n",
    "INTER_DIM_1 = 16\n",
    "INTER_DIM_2 = 8\n",
    "\n",
    "ENC_SIZE_LIST = [INPUT_DIM, INTER_DIM_0, INTER_DIM_1, INTER_DIM_2]\n",
    "DEC_SIZE_LIST = [OUTPUT_DIM, INTER_DIM_0, INTER_DIM_1, INTER_DIM_2]\n",
    "\n",
    "DROPOUT = 0.7\n",
    "\n",
    "REC_SAMPLE_RATE = 16000\n",
    "N_FFT = 400\n",
    "N_MELS = 64\n",
    "\n",
    "LOADER_WORKER = 32\n",
    "# LOADER_WORKER = 0"
   ]
  },
  {
   "cell_type": "markdown",
   "metadata": {},
   "source": [
    "## Prepare for this time of training"
   ]
  },
  {
   "cell_type": "code",
   "execution_count": 5,
   "metadata": {
    "id": "ofsEE6OaoyPh"
   },
   "outputs": [
    {
     "name": "stdout",
     "output_type": "stream",
     "text": [
      "A_01-0130100718\n"
     ]
    }
   ],
   "source": [
    "ts = str(get_timestamp())\n",
    "# ts = \"0129190623\"\n",
    "stop_epoch = \"149\"\n",
    "train_name = \"A_01\"\n",
    "model_save_dir = os.path.join(model_save_, f\"{train_name}-{ts}\")\n",
    "mk(model_save_dir)\n",
    "print(f\"{train_name}-{ts}\")\n",
    "\n",
    "train_losses = ListRecorder(os.path.join(model_save_dir, \"train.loss\"))\n",
    "valid_losses = ListRecorder(os.path.join(model_save_dir, \"valid.loss\"))\n",
    "text_hist = HistRecorder(os.path.join(model_save_dir, \"trainhist.txt\"))"
   ]
  },
  {
   "cell_type": "markdown",
   "metadata": {},
   "source": [
    "- A_01-0129130409: Small subset training. \n",
    "- A_01-0129155044: adding back LayerNorm and Dropout for LinPack. \n",
    "- A_01-0129155514: deleted LayerNorm but kept Dropout. To test whether having LayerNorm in final layer will make things bad. It seems that somehow having Dropout only is still not godd. \n",
    "- A_01-0129161251: add an additional layer to avoid direct use of LN and D in last layer. \n",
    "- A_01-0129162601: SimplerPhxLearnerInit -> LRLInitLRALNet. We add an extra pure linear-layer as the last layer. LN and D is added back. \n",
    "- A_01-0129171225: delete LN again. \n",
    "- A_01-0129190623: deleting LN and D. Only keeping relu (changed to Tanh). But two lins are kept. \n",
    "- A_01-0129200928: using DB based data. Including LN and D. Also apply minmax norm. \n",
    "- A_01-0129202748: Minmax -> MVN. Keep DB. length filter upto 15000 (from 8000). 8000~ 7x%, 15000~ >99%\n",
    "- A_01-0129210506: keep DB. LRLInitLRALNet -> SimplerPhxLearnerInit. Delete LN and D. ReLU -> LeakyReLU. \n",
    "\n",
    "- A_01-0130100718: untrained model. Just create a new model and save. "
   ]
  },
  {
   "cell_type": "code",
   "execution_count": 6,
   "metadata": {
    "id": "-T4OYaoXsxe_"
   },
   "outputs": [],
   "source": [
    "READ = False\n",
    "# READ = True"
   ]
  },
  {
   "cell_type": "code",
   "execution_count": 7,
   "metadata": {},
   "outputs": [],
   "source": [
    "DATAREAD = False"
   ]
  },
  {
   "cell_type": "code",
   "execution_count": 8,
   "metadata": {
    "id": "6OCx4nqP40fz"
   },
   "outputs": [],
   "source": [
    "mytrans = TheTransform(sample_rate=REC_SAMPLE_RATE, \n",
    "                       n_fft=N_FFT, n_mels=N_MELS, \n",
    "                       normalizer=Normalizer.norm_mvn, \n",
    "                       denormalizer=DeNormalizer.norm_mvn)\n",
    "\n",
    "train_ds = ThisDataset(rec_dir, \n",
    "                       train_guide_path, \n",
    "                       transform=mytrans)\n",
    "valid_ds = ThisDataset(rec_dir, \n",
    "                       valid_guide_path, \n",
    "                       transform=mytrans)\n",
    "\n",
    "use_proportion = 0.1\n",
    "\n",
    "if READ or DATAREAD: \n",
    "    train_ds_indices = DS_Tools.read_indices(os.path.join(model_save_dir, \"train.use\"))\n",
    "    valid_ds_indices = DS_Tools.read_indices(os.path.join(model_save_dir, \"valid.use\"))\n",
    "\n",
    "    use_train_ds = torch.utils.data.Subset(train_ds, train_ds_indices)\n",
    "    use_valid_ds = torch.utils.data.Subset(valid_ds, valid_ds_indices)\n",
    "else: \n",
    "    # train data\n",
    "    use_len = int(use_proportion * len(train_ds))\n",
    "    remain_len = len(train_ds) - use_len\n",
    "    use_train_ds, remain_ds = random_split(train_ds, [use_len, remain_len])\n",
    "\n",
    "    # valid data\n",
    "    use_len = int(use_proportion * len(valid_ds))\n",
    "    remain_len = len(valid_ds) - use_len\n",
    "    use_valid_ds, remain_ds = random_split(valid_ds, [use_len, remain_len])\n",
    "\n",
    "    # NOTE: we don't need to save the cut-small subset, because after cutting-small, \n",
    "    # the saved train and valid separations will reflect this\n",
    "    DS_Tools.save_indices(os.path.join(model_save_dir, \"train.use\"), use_train_ds.indices)\n",
    "    DS_Tools.save_indices(os.path.join(model_save_dir, \"valid.use\"), use_valid_ds.indices)\n",
    "\n",
    "train_loader = DataLoader(use_train_ds, batch_size=BATCH_SIZE, shuffle=True, num_workers=LOADER_WORKER, collate_fn=ThisDataset.collate_fn)\n",
    "train_num = len(train_loader.dataset)\n",
    "\n",
    "valid_loader = DataLoader(use_valid_ds, batch_size=BATCH_SIZE, shuffle=False, num_workers=LOADER_WORKER, collate_fn=ThisDataset.collate_fn)\n",
    "valid_num = len(valid_loader.dataset)\n"
   ]
  },
  {
   "cell_type": "code",
   "execution_count": 9,
   "metadata": {},
   "outputs": [
    {
     "data": {
      "text/plain": [
       "(77276, 10380, 302, 41)"
      ]
     },
     "execution_count": 9,
     "metadata": {},
     "output_type": "execute_result"
    }
   ],
   "source": [
    "train_num, valid_num, len(train_loader), len(valid_loader)"
   ]
  },
  {
   "cell_type": "code",
   "execution_count": 10,
   "metadata": {},
   "outputs": [
    {
     "name": "stdout",
     "output_type": "stream",
     "text": [
      "torch.Size([256, 61, 64])\n"
     ]
    }
   ],
   "source": [
    "# Load sample data from train_loader\n",
    "sample_data = next(iter(valid_loader))\n",
    "xx_pad, seg = sample_data\n",
    "print(xx_pad.shape)"
   ]
  },
  {
   "cell_type": "code",
   "execution_count": 11,
   "metadata": {},
   "outputs": [
    {
     "data": {
      "image/png": "[encoded data removed]",
      "text/plain": [
       "<Figure size 1200x800 with 7 Axes>"
      ]
     },
     "metadata": {},
     "output_type": "display_data"
    }
   ],
   "source": [
    "# Set the random seed for reproducibility\n",
    "# random.seed(101)\n",
    "# Generate six random indices\n",
    "# random_indices = random.sample(range(len(xx_pad)), 6)\n",
    "random_indices = list(range(6, 12))\n",
    "\n",
    "# Plot the spectrograms and mark the corresponding seg\n",
    "fig, axes = plt.subplots(2, 3, figsize=(12, 8))\n",
    "axes = axes.flatten()\n",
    "\n",
    "for i, idx in enumerate(random_indices):\n",
    "    spectrogram = xx_pad[idx]\n",
    "    \n",
    "    ax = axes[i]\n",
    "    img = ax.imshow(spectrogram.T, aspect='auto', origin=\"lower\")\n",
    "    # ax.axvline(x=segment, color='red', linestyle='--')\n",
    "    # ax.axvline(x=segment[1], color='red', linestyle='--')\n",
    "    ax.set_title(f'Spectrogram')\n",
    "    ax.set_xlabel('Time')\n",
    "    ax.set_ylabel('Frequency')\n",
    "plt.tight_layout()\n",
    "plt.colorbar(img,ax=axes)\n",
    "plt.show()"
   ]
  },
  {
   "cell_type": "markdown",
   "metadata": {},
   "source": [
    "## Prepare model"
   ]
  },
  {
   "cell_type": "code",
   "execution_count": 12,
   "metadata": {},
   "outputs": [],
   "source": [
    "device = torch.device('cuda' if torch.cuda.is_available() else 'cpu')\n",
    "recon_loss = nn.MSELoss(reduction='none')\n",
    "masked_recon_loss = MaskedLoss(recon_loss)\n",
    "model_loss = masked_recon_loss\n",
    "\n",
    "model = TheLearner(enc_size_list=ENC_SIZE_LIST, dec_size_list=DEC_SIZE_LIST, num_layers=2)\n",
    "# model = TheLearner(enc_size_list=ENC_SIZE_LIST, dec_size_list=DEC_SIZE_LIST, num_layers=1)\n",
    "model.to(device)\n",
    "optimizer = optim.Adam(model.parameters(), lr=1e-3)\n",
    "\n",
    "model_str = str(model)\n",
    "model_txt_path = os.path.join(model_save_dir, \"model.txt\")\n",
    "\n",
    "with open(model_txt_path, \"w\") as f:\n",
    "    f.write(model_str)"
   ]
  },
  {
   "cell_type": "code",
   "execution_count": 13,
   "metadata": {},
   "outputs": [],
   "source": [
    "# # initialize model weights\n",
    "# def init_weights(m):\n",
    "#     if isinstance(m, nn.Linear):\n",
    "#         torch.nn.init.orthogonal_(m.weight)\n",
    "#         m.bias.data.fill_(0.01)\n",
    "#     if isinstance(m, nn.LSTM): \n",
    "#         for name, p in m.named_parameters():\n",
    "#             if \"weight\" in name: \n",
    "#                 nn.init.orthogonal_(p)\n",
    "#             elif \"bias\" in name: \n",
    "#                 nn.init.constant_(p, 0)\n",
    "\n",
    "# model.apply(init_weights)"
   ]
  },
  {
   "cell_type": "code",
   "execution_count": 13,
   "metadata": {},
   "outputs": [],
   "source": [
    "model_parameters = filter(lambda p: p.requires_grad, model.parameters())\n",
    "params = sum([np.prod(p.size()) for p in model_parameters])"
   ]
  },
  {
   "cell_type": "code",
   "execution_count": 14,
   "metadata": {},
   "outputs": [
    {
     "data": {
      "text/plain": [
       "11296"
      ]
     },
     "execution_count": 14,
     "metadata": {},
     "output_type": "execute_result"
    }
   ],
   "source": [
    "params"
   ]
  },
  {
   "cell_type": "markdown",
   "metadata": {},
   "source": [
    "### Load model if READ"
   ]
  },
  {
   "cell_type": "code",
   "execution_count": 16,
   "metadata": {},
   "outputs": [],
   "source": [
    "if READ: \n",
    "    valid_losses.read()\n",
    "    train_losses.read()\n",
    "\n",
    "    model_name = \"{}.pt\".format(stop_epoch)\n",
    "    model_path = os.path.join(model_save_dir, model_name)\n",
    "    state = torch.load(model_path)\n",
    "\n",
    "    model.load_state_dict(state)\n",
    "    model.to(device)"
   ]
  },
  {
   "cell_type": "code",
   "execution_count": 33,
   "metadata": {},
   "outputs": [],
   "source": [
    "EPOCHS = 20\n",
    "BASE = 60"
   ]
  },
  {
   "cell_type": "code",
   "execution_count": 34,
   "metadata": {
    "colab": {
     "base_uri": "https://localhost:8080/"
    },
    "id": "y2n7doAD1uRi",
    "outputId": "e9c5bcb7-72db-4238-e83f-36e4dbe35748"
   },
   "outputs": [],
   "source": [
    "def train(): \n",
    "    for epoch in range(BASE, BASE + EPOCHS):\n",
    "        text_hist.print(\"Epoch {}\".format(epoch))\n",
    "\n",
    "        model.train()\n",
    "        train_loss = 0.\n",
    "        train_num = len(train_loader)    # train_loader\n",
    "        for idx, (x, x_lens) in enumerate(train_loader):\n",
    "            optimizer.zero_grad()\n",
    "            y = x \n",
    "            \n",
    "            x_mask = generate_mask_from_lengths_mat(x_lens, device=device)\n",
    "            \n",
    "            x = x.to(device)\n",
    "            y = y.to(device)\n",
    "\n",
    "            recon_x, attn_weight = model(x, x_lens, x_mask)\n",
    "\n",
    "            loss = model_loss.get_loss(recon_x, y, x_mask)\n",
    "\n",
    "            train_loss += loss.item()\n",
    "\n",
    "            loss.backward()\n",
    "            \n",
    "            # torch.nn.utils.clip_grad_norm_(model.parameters(), clip_value)\n",
    "            # 这个函数计算的是全局梯度范数\n",
    "            # torch.nn.utils.clip_grad_norm(parameters=model.parameters(), max_norm=5, norm_type=2)\n",
    "            torch.nn.utils.clip_grad_norm_(parameters=model.parameters(), max_norm=5, norm_type=2)\n",
    "            # parameters: an iterable of Variables that will have gradients normalized\n",
    "            # max_norm: max norm of the gradients(阈值设定)\n",
    "            # norm_type: type of the used p-norm. Can be'inf'for infinity norm(定义范数类型)\n",
    "\n",
    "            optimizer.step()\n",
    "\n",
    "            if idx % 100 == 0:\n",
    "                text_hist.print(f\"Training loss {loss: .3f} in Step {idx}\")\n",
    "\n",
    "        train_losses.append(train_loss / train_num)\n",
    "        text_hist.print(f\"※※※Training loss {train_loss / train_num: .3f}※※※\")\n",
    "\n",
    "        last_model_name = \"{}.pt\".format(epoch)\n",
    "        torch.save(model.state_dict(), os.path.join(model_save_dir, last_model_name))\n",
    "        text_hist.print(\"Training timepoint saved\")\n",
    "\n",
    "        model.eval()\n",
    "        valid_loss = 0.\n",
    "        valid_num = len(valid_loader)\n",
    "        for idx, (x, x_lens) in enumerate(valid_loader):\n",
    "            y = x    # extract MFCC-only data\n",
    "            x_mask = generate_mask_from_lengths_mat(x_lens, device=device)\n",
    "            \n",
    "            x = x.to(device)\n",
    "            y = y.to(device)\n",
    "\n",
    "            recon_x, attn_weight = model(x, x_lens, x_mask)\n",
    "\n",
    "            loss = model_loss.get_loss(recon_x, y, x_mask)\n",
    "\n",
    "            valid_loss += loss.item()\n",
    "\n",
    "            if idx % 50 == 0:\n",
    "                text_hist.print(f\"Valid loss {loss: .3f} in Step {idx}\")\n",
    "\n",
    "        valid_losses.append(valid_loss / valid_num)\n",
    "\n",
    "        text_hist.print(f\"※※※Valid loss {valid_loss / valid_num: .3f}※※※\")"
   ]
  },
  {
   "cell_type": "code",
   "execution_count": 35,
   "metadata": {},
   "outputs": [
    {
     "name": "stdout",
     "output_type": "stream",
     "text": [
      "Epoch 60\n",
      "Training loss  0.254 in Step 0\n",
      "Training loss  0.242 in Step 100\n",
      "Training loss  0.242 in Step 200\n",
      "Training loss  0.242 in Step 300\n",
      "※※※Training loss  0.241※※※\n",
      "Training timepoint saved\n",
      "Valid loss  0.245 in Step 0\n",
      "※※※Valid loss  0.248※※※\n",
      "Epoch 61\n",
      "Training loss  0.237 in Step 0\n",
      "Training loss  0.239 in Step 100\n",
      "Training loss  0.234 in Step 200\n",
      "Training loss  0.239 in Step 300\n",
      "※※※Training loss  0.240※※※\n",
      "Training timepoint saved\n",
      "Valid loss  0.245 in Step 0\n",
      "※※※Valid loss  0.247※※※\n",
      "Epoch 62\n",
      "Training loss  0.241 in Step 0\n",
      "Training loss  0.246 in Step 100\n",
      "Training loss  0.232 in Step 200\n",
      "Training loss  0.243 in Step 300\n",
      "※※※Training loss  0.241※※※\n",
      "Training timepoint saved\n",
      "Valid loss  0.244 in Step 0\n",
      "※※※Valid loss  0.246※※※\n",
      "Epoch 63\n",
      "Training loss  0.236 in Step 0\n",
      "Training loss  0.247 in Step 100\n",
      "Training loss  0.247 in Step 200\n",
      "Training loss  0.242 in Step 300\n",
      "※※※Training loss  0.239※※※\n",
      "Training timepoint saved\n",
      "Valid loss  0.244 in Step 0\n",
      "※※※Valid loss  0.246※※※\n",
      "Epoch 64\n",
      "Training loss  0.242 in Step 0\n",
      "Training loss  0.234 in Step 100\n",
      "Training loss  0.236 in Step 200\n",
      "Training loss  0.247 in Step 300\n",
      "※※※Training loss  0.238※※※\n",
      "Training timepoint saved\n",
      "Valid loss  0.243 in Step 0\n",
      "※※※Valid loss  0.245※※※\n",
      "Epoch 65\n",
      "Training loss  0.240 in Step 0\n",
      "Training loss  0.242 in Step 100\n",
      "Training loss  0.246 in Step 200\n",
      "Training loss  0.235 in Step 300\n",
      "※※※Training loss  0.238※※※\n",
      "Training timepoint saved\n",
      "Valid loss  0.242 in Step 0\n",
      "※※※Valid loss  0.244※※※\n",
      "Epoch 66\n",
      "Training loss  0.239 in Step 0\n",
      "Training loss  0.243 in Step 100\n",
      "Training loss  0.228 in Step 200\n",
      "Training loss  0.232 in Step 300\n",
      "※※※Training loss  0.237※※※\n",
      "Training timepoint saved\n",
      "Valid loss  0.242 in Step 0\n",
      "※※※Valid loss  0.244※※※\n",
      "Epoch 67\n",
      "Training loss  0.244 in Step 0\n",
      "Training loss  0.245 in Step 100\n",
      "Training loss  0.239 in Step 200\n",
      "Training loss  0.237 in Step 300\n",
      "※※※Training loss  0.237※※※\n",
      "Training timepoint saved\n",
      "Valid loss  0.242 in Step 0\n",
      "※※※Valid loss  0.244※※※\n",
      "Epoch 68\n",
      "Training loss  0.244 in Step 0\n",
      "Training loss  0.227 in Step 100\n",
      "Training loss  0.230 in Step 200\n",
      "Training loss  0.236 in Step 300\n",
      "※※※Training loss  0.236※※※\n",
      "Training timepoint saved\n",
      "Valid loss  0.241 in Step 0\n",
      "※※※Valid loss  0.243※※※\n",
      "Epoch 69\n",
      "Training loss  0.233 in Step 0\n",
      "Training loss  0.242 in Step 100\n",
      "Training loss  0.242 in Step 200\n",
      "Training loss  0.225 in Step 300\n",
      "※※※Training loss  0.236※※※\n",
      "Training timepoint saved\n",
      "Valid loss  0.241 in Step 0\n",
      "※※※Valid loss  0.242※※※\n",
      "Epoch 70\n",
      "Training loss  0.238 in Step 0\n",
      "Training loss  0.225 in Step 100\n",
      "Training loss  0.236 in Step 200\n",
      "Training loss  0.239 in Step 300\n",
      "※※※Training loss  0.235※※※\n",
      "Training timepoint saved\n",
      "Valid loss  0.240 in Step 0\n",
      "※※※Valid loss  0.242※※※\n",
      "Epoch 71\n",
      "Training loss  0.238 in Step 0\n",
      "Training loss  0.249 in Step 100\n",
      "Training loss  0.236 in Step 200\n",
      "Training loss  0.247 in Step 300\n",
      "※※※Training loss  0.235※※※\n",
      "Training timepoint saved\n",
      "Valid loss  0.239 in Step 0\n",
      "※※※Valid loss  0.241※※※\n",
      "Epoch 72\n",
      "Training loss  0.231 in Step 0\n",
      "Training loss  0.245 in Step 100\n",
      "Training loss  0.235 in Step 200\n",
      "Training loss  0.230 in Step 300\n",
      "※※※Training loss  0.235※※※\n",
      "Training timepoint saved\n",
      "Valid loss  0.239 in Step 0\n",
      "※※※Valid loss  0.240※※※\n",
      "Epoch 73\n",
      "Training loss  0.230 in Step 0\n",
      "Training loss  0.231 in Step 100\n",
      "Training loss  0.241 in Step 200\n",
      "Training loss  0.239 in Step 300\n",
      "※※※Training loss  0.234※※※\n",
      "Training timepoint saved\n",
      "Valid loss  0.238 in Step 0\n",
      "※※※Valid loss  0.240※※※\n",
      "Epoch 74\n",
      "Training loss  0.227 in Step 0\n",
      "Training loss  0.245 in Step 100\n",
      "Training loss  0.231 in Step 200\n",
      "Training loss  0.231 in Step 300\n",
      "※※※Training loss  0.233※※※\n",
      "Training timepoint saved\n",
      "Valid loss  0.238 in Step 0\n",
      "※※※Valid loss  0.239※※※\n",
      "Epoch 75\n",
      "Training loss  0.240 in Step 0\n",
      "Training loss  0.233 in Step 100\n",
      "Training loss  0.230 in Step 200\n",
      "Training loss  0.232 in Step 300\n",
      "※※※Training loss  0.233※※※\n",
      "Training timepoint saved\n",
      "Valid loss  0.237 in Step 0\n",
      "※※※Valid loss  0.239※※※\n",
      "Epoch 76\n",
      "Training loss  0.236 in Step 0\n",
      "Training loss  0.237 in Step 100\n",
      "Training loss  0.237 in Step 200\n",
      "Training loss  0.236 in Step 300\n",
      "※※※Training loss  0.233※※※\n",
      "Training timepoint saved\n",
      "Valid loss  0.237 in Step 0\n",
      "※※※Valid loss  0.238※※※\n",
      "Epoch 77\n",
      "Training loss  0.234 in Step 0\n",
      "Training loss  0.236 in Step 100\n",
      "Training loss  0.234 in Step 200\n",
      "Training loss  0.233 in Step 300\n",
      "※※※Training loss  0.232※※※\n",
      "Training timepoint saved\n",
      "Valid loss  0.236 in Step 0\n",
      "※※※Valid loss  0.238※※※\n",
      "Epoch 78\n",
      "Training loss  0.236 in Step 0\n",
      "Training loss  0.227 in Step 100\n",
      "Training loss  0.234 in Step 200\n",
      "Training loss  0.243 in Step 300\n",
      "※※※Training loss  0.232※※※\n",
      "Training timepoint saved\n",
      "Valid loss  0.236 in Step 0\n",
      "※※※Valid loss  0.237※※※\n",
      "Epoch 79\n",
      "Training loss  0.227 in Step 0\n",
      "Training loss  0.226 in Step 100\n",
      "Training loss  0.246 in Step 200\n",
      "Training loss  0.231 in Step 300\n",
      "※※※Training loss  0.231※※※\n",
      "Training timepoint saved\n",
      "Valid loss  0.236 in Step 0\n",
      "※※※Valid loss  0.237※※※\n"
     ]
    }
   ],
   "source": [
    "if __name__ == \"__main__\": \n",
    "    train()"
   ]
  },
  {
   "cell_type": "code",
   "execution_count": 36,
   "metadata": {
    "id": "KSTTwi31xAvh"
   },
   "outputs": [],
   "source": [
    "### Save\n",
    "train_losses.save()\n",
    "\n",
    "valid_losses.save()\n",
    "\n",
    "text_hist.save()"
   ]
  },
  {
   "cell_type": "code",
   "execution_count": 37,
   "metadata": {
    "colab": {
     "base_uri": "https://localhost:8080/",
     "height": 281
    },
    "id": "3yaMyIzH12RD",
    "outputId": "1426c24a-c60c-48c2-8690-f3a07bb9ba7b"
   },
   "outputs": [
    {
     "data": {
      "image/png": "[encoded data removed]",
      "text/plain": [
       "<Figure size 640x480 with 1 Axes>"
      ]
     },
     "metadata": {},
     "output_type": "display_data"
    }
   ],
   "source": [
    "plt.plot(train_losses.get(), label='Train')\n",
    "plt.plot(valid_losses.get(), label='Valid')\n",
    "plt.title(\"Learning Curve Loss\")\n",
    "plt.legend()\n",
    "plt.savefig(os.path.join(model_save_dir, \"train.png\"))"
   ]
  },
  {
   "cell_type": "code",
   "execution_count": 28,
   "metadata": {},
   "outputs": [
    {
     "data": {
      "text/plain": [
       "[0.6973373221188057,\n",
       " 0.5841517593802475,\n",
       " 0.46406597117098364,\n",
       " 0.44220086641427947,\n",
       " 0.433954004107452,\n",
       " 0.40526596729348346,\n",
       " 0.4018787022044019,\n",
       " 0.38418969802740144,\n",
       " 0.3629494374845086,\n",
       " 0.3243178616209728,\n",
       " 0.2918721691864293,\n",
       " 0.2824630453819182,\n",
       " 0.27500432366278116,\n",
       " 0.26278095855945494,\n",
       " 0.2574981138473604,\n",
       " 0.25056687578922365,\n",
       " 0.25194803752550265,\n",
       " 0.24937494498927418,\n",
       " 0.2532334076922114,\n",
       " 0.2538182386537878,\n",
       " 0.26212876744386626,\n",
       " 0.26849532272757554,\n",
       " 0.2811444946905462,\n",
       " 0.2902815022119662,\n",
       " 0.30480065723744837,\n",
       " 0.3194227662028336,\n",
       " 0.33510804030953384,\n",
       " 0.3481292710071657,\n",
       " 0.35091513467998037,\n",
       " 0.3703691254301769]"
      ]
     },
     "execution_count": 28,
     "metadata": {},
     "output_type": "execute_result"
    }
   ],
   "source": [
    "valid_losses.get()"
   ]
  },
  {
   "cell_type": "markdown",
   "metadata": {},
   "source": [
    "## Conclusion\n",
    "This model should converge to loss around 0.49x. "
   ]
  },
  {
   "cell_type": "markdown",
   "metadata": {},
   "source": []
  }
 ],
 "metadata": {
  "accelerator": "GPU",
  "colab": {
   "provenance": []
  },
  "gpuClass": "standard",
  "kernelspec": {
   "display_name": "Python 3 (ipykernel)",
   "language": "python",
   "name": "python3"
  },
  "language_info": {
   "codemirror_mode": {
    "name": "ipython",
    "version": 3
   },
   "file_extension": ".py",
   "mimetype": "text/x-python",
   "name": "python",
   "nbconvert_exporter": "python",
   "pygments_lexer": "ipython3",
   "version": "3.11.7"
  }
 },
 "nbformat": 4,
 "nbformat_minor": 4
}
