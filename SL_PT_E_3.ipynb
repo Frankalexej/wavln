{
 "cells": [
  {
   "attachments": {},
   "cell_type": "markdown",
   "metadata": {
    "id": "B-mljeGlqMqo"
   },
   "source": [
    "# Sequence Learning - Phone Training - English\n",
    "Version 2:  This version has a core structure using HM-RNN. Unlike traditional approaches, our model can automatically detect boundaries. It is trainable and updates the upper layer only upon detecting boundaries. This makes our model suitable for detecting boundaries and capturing the representations of sub-segments based on these detected boundaries. In essence, our model performs boundary detection and representation learning simultaneously.\n",
    "\n",
    "Version 3: this version completed the coding of the core model structure as well as the dataloading, preprocessing, padding and loss calculation processes. At present we only try mel->model -> mel structure, since wav <> wav would introduce extra complexion. In addition, our model will process padded multi-batch tensors as normal but count for the paddings (ignore paddings) during calculation. "
   ]
  },
  {
   "cell_type": "code",
   "execution_count": 36,
   "metadata": {},
   "outputs": [],
   "source": [
    "# import sys\n",
    "# sys.path.append('./multiscale_rnn')"
   ]
  },
  {
   "cell_type": "code",
   "execution_count": 37,
   "metadata": {
    "id": "jN5DNuExjwet"
   },
   "outputs": [],
   "source": [
    "import torch\n",
    "import torchaudio\n",
    "from torch import nn\n",
    "import torch.nn.functional as F\n",
    "from torch.nn.utils.rnn import pad_sequence, pack_sequence\n",
    "from torch import optim\n",
    "from torch.utils.data import Dataset, DataLoader, random_split\n",
    "import matplotlib.pyplot as plt\n",
    "import numpy as np\n",
    "import csv\n",
    "import pandas as pd\n",
    "from sklearn.cluster import KMeans\n",
    "from sklearn.metrics import homogeneity_completeness_v_measure\n",
    "import pickle\n",
    "from paths import *\n",
    "from my_utils import *\n",
    "from padding import generate_mask_from_lengths_mat, mask_it, masked_loss\n",
    "import pytz\n",
    "from datetime import datetime\n",
    "import random\n",
    "import gc"
   ]
  },
  {
   "cell_type": "code",
   "execution_count": 38,
   "metadata": {},
   "outputs": [],
   "source": [
    "from model import PhonLearn_Net"
   ]
  },
  {
   "attachments": {},
   "cell_type": "markdown",
   "metadata": {
    "tags": []
   },
   "source": [
    "### Dirs"
   ]
  },
  {
   "cell_type": "code",
   "execution_count": 39,
   "metadata": {
    "id": "iGouCDYD3h18"
   },
   "outputs": [],
   "source": [
    "model_save_dir = model_eng_save_dir\n",
    "# random_data:phone_seg_random_path\n",
    "# anno_data: phone_seg_anno_path\n",
    "\n",
    "# random_log_path = phone_seg_random_log_path + \"log.csv\"\n",
    "random_log_path = word_seg_anno_log_path\n",
    "random_path = word_seg_anno_path\n",
    "anno_log_path = phone_seg_anno_path"
   ]
  },
  {
   "attachments": {},
   "cell_type": "markdown",
   "metadata": {},
   "source": [
    "### Constants"
   ]
  },
  {
   "cell_type": "code",
   "execution_count": 40,
   "metadata": {},
   "outputs": [],
   "source": [
    "# 规范用语；规定两种方式：全加载；按rec加载（舍弃了按chunk加载，处理起来更简单）\n",
    "# RandomPhoneDataset; AnnoPhoneDataset; AnnoSeqDataset"
   ]
  },
  {
   "cell_type": "code",
   "execution_count": 41,
   "metadata": {},
   "outputs": [],
   "source": [
    "class PhoneDataset(Dataset):\n",
    "    \"\"\"\n",
    "    A PyTorch dataset that loads cutted wave files from disk and returns input-output pairs for\n",
    "    training autoencoder. \n",
    "    \n",
    "    Version 3: wav -> mel\n",
    "    \"\"\"\n",
    "    \n",
    "    def __init__(self, load_dir, load_control_path, transform=None):\n",
    "        \"\"\"\n",
    "        Initializes the class by reading a CSV file and merging the \"rec\" and \"idx\" columns.\n",
    "\n",
    "        The function reads the CSV file from the provided control path, extracts the \"rec\" and \"idx\" columns,\n",
    "        and concatenates the values from these columns using an underscore. It then appends the \".wav\" extension\n",
    "        to each of the merged strings and converts the merged pandas Series to a list, which is assigned to\n",
    "        the 'dataset' attribute of the class.\n",
    "\n",
    "        Args:\n",
    "        load_dir (str): The directory containing the files to load.\n",
    "        load_control_path (str): The path to the CSV file containing the \"rec\" and \"idx\" columns.\n",
    "\n",
    "        Attributes:\n",
    "        dataset (list): A list of merged strings from the \"rec\" and \"idx\" columns, with the \".wav\" extension.\n",
    "        \"\"\"\n",
    "        control_file = pd.read_csv(load_control_path)\n",
    "        control_file = control_file[control_file['n_frames'] > 0]\n",
    "        control_file = control_file[control_file['duration'] <= 2.0]\n",
    "        \n",
    "        # Extract the \"rec\" and \"idx\" columns\n",
    "        rec_col = control_file['rec'].astype(str)\n",
    "        idx_col = control_file['idx'].astype(str).str.zfill(8)\n",
    "        \n",
    "        # Merge the two columns by concatenating the strings with '_' and append extension name\n",
    "        merged_col = rec_col + '_' + idx_col + \".wav\"\n",
    "        \n",
    "        self.dataset = merged_col.tolist()\n",
    "        self.load_dir = load_dir\n",
    "        self.transform = transform\n",
    "        \n",
    "    \n",
    "    def __len__(self):\n",
    "        \"\"\"\n",
    "        Returns the length of the dataset.\n",
    "        \n",
    "        Returns:\n",
    "            int: The number of input-output pairs in the dataset.\n",
    "        \"\"\"\n",
    "        return len(self.dataset)\n",
    "    \n",
    "    def __getitem__(self, idx):\n",
    "        \"\"\"\n",
    "        Returns a tuple (input_data, output_data) for the given index.\n",
    "\n",
    "        The function first checks if the provided index is a tensor, and if so, converts it to a list.\n",
    "        It then constructs the file path for the .wav file using the dataset attribute and the provided index.\n",
    "        The .wav file is loaded using torchaudio, and its data is normalized. If a transform is provided,\n",
    "        the data is transformed using the specified transform. Finally, the input_data and output_data are\n",
    "        set to the same data (creating a tuple), and the tuple is returned.\n",
    "\n",
    "        Args:\n",
    "        idx (int or torch.Tensor): The index of the desired data.\n",
    "\n",
    "        Returns:\n",
    "        tuple: A tuple containing input_data and output_data, both of which are the audio data\n",
    "               from the .wav file at the specified index.\n",
    "\n",
    "        Note: \n",
    "        This function assumes that the class has the following attributes:\n",
    "        - self.load_dir (str): The directory containing the .wav files.\n",
    "        - self.dataset (list): A list of .wav file names.\n",
    "        - self.transform (callable, optional): An optional transform to apply to the audio data.\n",
    "        \"\"\"\n",
    "        if torch.is_tensor(idx):\n",
    "            idx = idx.tolist()\n",
    "        wav_name = os.path.join(self.load_dir,\n",
    "                                self.dataset[idx])\n",
    "        \n",
    "        data, sample_rate = torchaudio.load(wav_name, normalize=True)\n",
    "        if self.transform:\n",
    "            data = self.transform(data)\n",
    "        \n",
    "        # # Prepare for possible in-out discrepencies in the future\n",
    "        # input_data = data\n",
    "        # output_data = data\n",
    "        \n",
    "        return data\n",
    "\n",
    "def collate_fn(xx):\n",
    "    # only working for one data at the moment\n",
    "    batch_first = True\n",
    "    x_lens = [len(x) for x in xx]\n",
    "    xx_pad = pad_sequence(xx, batch_first=batch_first, padding_value=0)\n",
    "    return xx_pad, x_lens\n",
    "\n",
    "\n",
    "class MyTransform(nn.Module): \n",
    "    def __init__(self, sample_rate, n_fft): \n",
    "        super().__init__()\n",
    "        self.transform = torchaudio.transforms.MelSpectrogram(sample_rate, n_fft=n_fft)\n",
    "    \n",
    "    def forward(self, waveform): \n",
    "        mel_spec = self.transform(waveform)\n",
    "        mel_spec = mel_spec.squeeze()\n",
    "        mel_spec = mel_spec.permute(1, 0) # (F, L) -> (L, F)\n",
    "        return mel_spec"
   ]
  },
  {
   "cell_type": "code",
   "execution_count": 42,
   "metadata": {},
   "outputs": [],
   "source": [
    "# # NOTE: THIS IS HOW WE CAN CREATE THE DATASET AND DATALOADER\n",
    "# sample_rate = 16000\n",
    "# n_fft = 400\n",
    "\n",
    "# transform = MyTransform(sample_rate, n_fft)\n",
    "\n",
    "# ds = PhoneDataset(phone_seg_random_path, phone_seg_random_log_path + \"s0101a.csv\", transform=transform)\n",
    "\n",
    "# test_dl = DataLoader(ds, batch_size=2, shuffle=True, collate_fn=collate_fn)\n",
    "\n",
    "# indata, in_lens = next(iter(test_dl))\n",
    "\n",
    "# print(indata.shape, in_lens)"
   ]
  },
  {
   "cell_type": "code",
   "execution_count": 43,
   "metadata": {},
   "outputs": [],
   "source": [
    "EPOCHS = 10\n",
    "BATCH_SIZE = 128\n",
    "\n",
    "# SEGMENTS_IN_CHUNK = 100  # set_size\n",
    "\n",
    "INPUT_DIM = 128\n",
    "OUTPUT_DIM = 128\n",
    "\n",
    "INTER_DIM_0 = 64\n",
    "INTER_DIM_1 = 32\n",
    "INTER_DIM_2 = 8\n",
    "INTER_DIM_3 = 3\n",
    "\n",
    "SIZE_LIST = [INTER_DIM_1, INTER_DIM_2]\n",
    "\n",
    "DROPOUT = 0.5\n",
    "\n",
    "REC_SAMPLE_RATE = 16000\n",
    "N_FFT = 400\n",
    "\n",
    "LOADER_WORKER = 20"
   ]
  },
  {
   "cell_type": "code",
   "execution_count": 44,
   "metadata": {
    "id": "lUxoYBUg1jLq"
   },
   "outputs": [],
   "source": [
    "device = torch.device('cuda' if torch.cuda.is_available() else 'cpu')\n",
    "# device = torch.device('cpu')\n",
    "recon_loss = nn.MSELoss(reduction='mean')\n",
    "model = PhonLearn_Net(1.0, SIZE_LIST, in_size=INPUT_DIM, \n",
    "                      in2_size=INTER_DIM_0, hid_size=INTER_DIM_3, out_size=OUTPUT_DIM)\n",
    "model.to(device)\n",
    "optimizer = optim.Adam(model.parameters(), lr=1e-3)"
   ]
  },
  {
   "cell_type": "code",
   "execution_count": 45,
   "metadata": {
    "colab": {
     "base_uri": "https://localhost:8080/"
    },
    "id": "QZBCTRw3iXys",
    "outputId": "7947acdb-1a95-49a4-8b1d-93f442cf41d1"
   },
   "outputs": [
    {
     "data": {
      "text/plain": [
       "PhonLearn_Net(\n",
       "  (encoder): Encoder(\n",
       "    (lin_1): LinearPack(\n",
       "      (linear): Linear(in_features=128, out_features=64, bias=True)\n",
       "      (relu): ReLU()\n",
       "      (dropout): Dropout(p=0.5, inplace=False)\n",
       "    )\n",
       "    (rnn): HM_LSTM(\n",
       "      (cell_1): HM_LSTMCell()\n",
       "      (cell_2): HM_LSTMCell()\n",
       "    )\n",
       "    (lin_2): LinearPack(\n",
       "      (linear): Linear(in_features=8, out_features=3, bias=True)\n",
       "      (relu): ReLU()\n",
       "      (dropout): Dropout(p=0.5, inplace=False)\n",
       "    )\n",
       "  )\n",
       "  (decoder): Decoder(\n",
       "    (lin_1): LinearPack(\n",
       "      (linear): Linear(in_features=128, out_features=8, bias=True)\n",
       "      (relu): ReLU()\n",
       "      (dropout): Dropout(p=0.5, inplace=False)\n",
       "    )\n",
       "    (rnn): LSTM(8, 64, batch_first=True)\n",
       "    (attention): ScaledDotProductAttention(\n",
       "      (w_q): Linear(in_features=64, out_features=64, bias=True)\n",
       "      (w_k): Linear(in_features=3, out_features=64, bias=True)\n",
       "      (w_v): Linear(in_features=3, out_features=64, bias=True)\n",
       "    )\n",
       "    (lin_2): LinearPack(\n",
       "      (linear): Linear(in_features=64, out_features=128, bias=True)\n",
       "      (relu): ReLU()\n",
       "      (dropout): Dropout(p=0.5, inplace=False)\n",
       "    )\n",
       "  )\n",
       ")"
      ]
     },
     "execution_count": 45,
     "metadata": {},
     "output_type": "execute_result"
    }
   ],
   "source": [
    "model"
   ]
  },
  {
   "cell_type": "code",
   "execution_count": 46,
   "metadata": {},
   "outputs": [],
   "source": [
    "model_parameters = filter(lambda p: p.requires_grad, model.parameters())\n",
    "params = sum([np.prod(p.size()) for p in model_parameters])"
   ]
  },
  {
   "cell_type": "code",
   "execution_count": 47,
   "metadata": {},
   "outputs": [
    {
     "data": {
      "text/plain": [
       "56149"
      ]
     },
     "execution_count": 47,
     "metadata": {},
     "output_type": "execute_result"
    }
   ],
   "source": [
    "params"
   ]
  },
  {
   "cell_type": "code",
   "execution_count": 48,
   "metadata": {
    "id": "NNHDmuigs8OB"
   },
   "outputs": [],
   "source": [
    "# Define recorders of training hists, for ease of extension\n",
    "class Recorder: \n",
    "    def __init__(self, IOPath): \n",
    "        self.record = []\n",
    "        self.IOPath = IOPath\n",
    "\n",
    "    def save(self): \n",
    "        pass\n",
    "    \n",
    "    def append(self, content): \n",
    "        self.record.append(content)\n",
    "    \n",
    "    def get(self): \n",
    "        return self.record"
   ]
  },
  {
   "cell_type": "code",
   "execution_count": 49,
   "metadata": {
    "id": "kGMfle47t3Hj"
   },
   "outputs": [],
   "source": [
    "class LossRecorder(Recorder): \n",
    "    def read(self): \n",
    "        # only used by loss hists \n",
    "        with open(self.IOPath, 'rb') as f:\n",
    "            self.record = pickle.load(f)\n",
    "    \n",
    "    def save(self): \n",
    "        with open(self.IOPath, 'wb') as file:\n",
    "            pickle.dump(self.record, file)\n",
    "\n",
    "\n",
    "class HistRecorder(Recorder):     \n",
    "    def save(self): \n",
    "        with open(self.IOPath, \"a\") as txt:\n",
    "            txt.write(\"\\n\".join(self.record))\n",
    "    \n",
    "    def print(self, content): \n",
    "        self.append(content)\n",
    "        print(content)"
   ]
  },
  {
   "cell_type": "code",
   "execution_count": 50,
   "metadata": {
    "id": "ofsEE6OaoyPh"
   },
   "outputs": [],
   "source": [
    "# Just for keeping records of training hists. \n",
    "ts = str(get_timestamp())\n",
    "# ts = \"0130021416\"\n",
    "save_txt_name = \"train_txt_{}.hst\".format(ts)\n",
    "save_trainhist_name = \"train_hist_{}.hst\".format(ts)\n",
    "save_valhist_name = \"val_hist_{}.hst\".format(ts)"
   ]
  },
  {
   "cell_type": "code",
   "execution_count": 51,
   "metadata": {
    "id": "xUHYarigvT64"
   },
   "outputs": [],
   "source": [
    "valid_losses = LossRecorder(model_save_dir + save_valhist_name)\n",
    "train_losses = LossRecorder(model_save_dir + save_trainhist_name)\n",
    "text_hist = HistRecorder(model_save_dir + save_txt_name)"
   ]
  },
  {
   "cell_type": "code",
   "execution_count": 52,
   "metadata": {
    "id": "-T4OYaoXsxe_"
   },
   "outputs": [],
   "source": [
    "READ = False\n",
    "# READ = True"
   ]
  },
  {
   "cell_type": "code",
   "execution_count": 55,
   "metadata": {
    "id": "nVvnpUk5sWxb"
   },
   "outputs": [],
   "source": [
    "if READ: \n",
    "    valid_losses.read()\n",
    "    train_losses.read()\n",
    "\n",
    "    # model_name = last_model_name\n",
    "    model_name = \"PT_0130021416_9.pt\"\n",
    "    model_path = os.path.join(model_save_dir, model_name)\n",
    "    state = torch.load(model_path)\n",
    "    model = PhonLearn_Net()\n",
    "    model.load_state_dict(state)\n",
    "    # device = torch.device('cuda' if torch.cuda.is_available() else 'cpu')\n",
    "    model.to(device)"
   ]
  },
  {
   "cell_type": "code",
   "execution_count": 56,
   "metadata": {
    "id": "6OCx4nqP40fz"
   },
   "outputs": [
    {
     "name": "stderr",
     "output_type": "stream",
     "text": [
      "/home/ldlmdl/anaconda3/envs/wavln/lib/python3.11/site-packages/torchaudio/functional/functional.py:576: UserWarning: At least one mel filterbank has all zero values. The value for `n_mels` (128) may be set too high. Or, the value for `n_freqs` (201) may be set too low.\n",
      "  warnings.warn(\n"
     ]
    }
   ],
   "source": [
    "mytrans = MyTransform(sample_rate=REC_SAMPLE_RATE, n_fft=N_FFT)\n",
    "ds = PhoneDataset(random_path, os.path.join(random_log_path, \"log.csv\"), transform=mytrans)\n",
    "try_len = int(0.1 * len(ds))\n",
    "try_ds, remain_ds = random_split(ds, [try_len, len(ds) - try_len])\n",
    "\n",
    "ds = try_ds\n",
    "\n",
    "train_len = int(0.8 * len(ds))\n",
    "valid_len = len(ds) - train_len\n",
    "\n",
    "# Randomly split the dataset into train and validation sets\n",
    "train_ds, valid_ds = random_split(ds, [train_len, valid_len])\n",
    "\n",
    "train_loader = DataLoader(train_ds, batch_size=BATCH_SIZE, shuffle=True, num_workers=LOADER_WORKER, collate_fn=collate_fn)\n",
    "train_num = len(train_loader.dataset)\n",
    "\n",
    "valid_loader = DataLoader(valid_ds, batch_size=BATCH_SIZE, shuffle=True, num_workers=LOADER_WORKER, collate_fn=collate_fn)\n",
    "valid_num = len(valid_loader.dataset)"
   ]
  },
  {
   "cell_type": "code",
   "execution_count": 63,
   "metadata": {},
   "outputs": [],
   "source": [
    "EPOCHS = 20\n",
    "BASE = 5"
   ]
  },
  {
   "cell_type": "code",
   "execution_count": 64,
   "metadata": {
    "colab": {
     "base_uri": "https://localhost:8080/"
    },
    "id": "y2n7doAD1uRi",
    "outputId": "e9c5bcb7-72db-4238-e83f-36e4dbe35748"
   },
   "outputs": [],
   "source": [
    "def train(): \n",
    "    for epoch in range(BASE, BASE + EPOCHS):\n",
    "        text_hist.print(\"Epoch {}\".format(epoch))\n",
    "\n",
    "        model.train()\n",
    "        train_loss = 0.\n",
    "        train_num = len(train_loader)\n",
    "        for idx, (x, x_lens) in enumerate(train_loader):\n",
    "            batch = x.size(0)\n",
    "            # print(x.size(1))\n",
    "            x_mask = generate_mask_from_lengths_mat(x_lens, device=device)\n",
    "            \n",
    "            x = x.to(device)\n",
    "            recon_x, _ = model(x, x_mask) # _ = hidden, z_1, z_2\n",
    "            \n",
    "            loss = masked_loss(recon_loss, recon_x, x, x_mask)\n",
    "\n",
    "            train_loss += loss.item()\n",
    "            # loss = loss / batch\n",
    "\n",
    "            optimizer.zero_grad()\n",
    "            loss.backward()\n",
    "            optimizer.step()\n",
    "\n",
    "            if idx % 20 == 0:\n",
    "                text_hist.print(f\"Training loss {loss: .3f} in Step {idx}\")\n",
    "                gc.collect()\n",
    "\n",
    "        train_losses.append(train_loss / train_num)\n",
    "        text_hist.print(f\"※※※Training loss {train_loss / train_num: .3f}※※※\")\n",
    "\n",
    "        last_model_name = \"PT_{}_{}_full.pt\".format(ts, epoch)\n",
    "        torch.save(model.state_dict(), os.path.join(model_save_dir, last_model_name))\n",
    "        text_hist.print(\"Training timepoint saved\")\n",
    "\n",
    "        model.eval()\n",
    "        valid_loss = 0.\n",
    "        valid_num = len(valid_loader)\n",
    "        for idx, (x, x_lens) in enumerate(valid_loader):\n",
    "            batch = x.size(0)\n",
    "            x_mask = generate_mask_from_lengths_mat(x_lens, device=device)\n",
    "            \n",
    "            x = x.to(device)\n",
    "            recon_x, _ = model(x, x_mask) # _ = hidden, z_1, z_2\n",
    "\n",
    "            loss = masked_loss(recon_loss, recon_x, x, x_mask)\n",
    "            valid_loss += loss.item()\n",
    "\n",
    "            # optimizer.zero_grad()\n",
    "            # loss.backward()\n",
    "            # optimizer.step()\n",
    "\n",
    "            if idx % 20 == 0:\n",
    "                # \\t Recon {recon / batch: .3f} \\t KL {kl / batch: .3f}\n",
    "                text_hist.print(f\"Valid loss {loss: .3f} in Step {idx}\")\n",
    "                gc.collect()\n",
    "\n",
    "        valid_losses.append(valid_loss / valid_num)\n",
    "        text_hist.print(f\"※※※Valid loss {valid_loss / valid_num: .3f}※※※\")"
   ]
  },
  {
   "cell_type": "code",
   "execution_count": 65,
   "metadata": {},
   "outputs": [
    {
     "name": "stdout",
     "output_type": "stream",
     "text": [
      "Epoch 5\n",
      "Training loss  38.273 in Step 0\n",
      "Training loss  116.016 in Step 20\n",
      "Training loss  17.723 in Step 40\n",
      "Training loss  237.906 in Step 60\n",
      "Training loss  191.200 in Step 80\n",
      "Training loss  141.516 in Step 100\n",
      "Training loss  148.858 in Step 120\n",
      "Training loss  79.162 in Step 140\n",
      "Training loss  126.324 in Step 160\n",
      "※※※Training loss  132.342※※※\n",
      "Training timepoint saved\n",
      "Valid loss  70.576 in Step 0\n",
      "Valid loss  80.624 in Step 20\n",
      "Valid loss  336.370 in Step 40\n",
      "※※※Valid loss  144.887※※※\n",
      "Epoch 6\n",
      "Training loss  124.624 in Step 0\n",
      "Training loss  106.393 in Step 20\n",
      "Training loss  115.974 in Step 40\n",
      "Training loss  7.708 in Step 60\n",
      "Training loss  345.639 in Step 80\n",
      "Training loss  7.609 in Step 100\n",
      "Training loss  74.914 in Step 120\n",
      "Training loss  51.294 in Step 140\n",
      "Training loss  1095.251 in Step 160\n",
      "※※※Training loss  132.458※※※\n",
      "Training timepoint saved\n",
      "Valid loss  99.112 in Step 0\n",
      "Valid loss  45.813 in Step 20\n",
      "Valid loss  34.897 in Step 40\n",
      "※※※Valid loss  143.275※※※\n",
      "Epoch 7\n",
      "Training loss  66.804 in Step 0\n",
      "Training loss  119.258 in Step 20\n",
      "Training loss  20.138 in Step 40\n",
      "Training loss  11.160 in Step 60\n",
      "Training loss  924.072 in Step 80\n",
      "Training loss  14.455 in Step 100\n",
      "Training loss  229.749 in Step 120\n",
      "Training loss  35.127 in Step 140\n",
      "Training loss  31.729 in Step 160\n",
      "※※※Training loss  132.783※※※\n",
      "Training timepoint saved\n",
      "Valid loss  75.498 in Step 0\n",
      "Valid loss  205.862 in Step 20\n",
      "Valid loss  90.698 in Step 40\n",
      "※※※Valid loss  143.703※※※\n",
      "Epoch 8\n",
      "Training loss  37.579 in Step 0\n",
      "Training loss  228.720 in Step 20\n",
      "Training loss  136.709 in Step 40\n",
      "Training loss  153.126 in Step 60\n",
      "Training loss  245.255 in Step 80\n",
      "Training loss  27.598 in Step 100\n",
      "Training loss  42.949 in Step 120\n",
      "Training loss  65.666 in Step 140\n",
      "Training loss  22.511 in Step 160\n",
      "※※※Training loss  131.705※※※\n",
      "Training timepoint saved\n",
      "Valid loss  174.517 in Step 0\n",
      "Valid loss  71.498 in Step 20\n",
      "Valid loss  462.045 in Step 40\n",
      "※※※Valid loss  143.238※※※\n",
      "Epoch 9\n",
      "Training loss  11.487 in Step 0\n",
      "Training loss  152.009 in Step 20\n",
      "Training loss  17.570 in Step 40\n",
      "Training loss  18.320 in Step 60\n",
      "Training loss  113.126 in Step 80\n",
      "Training loss  175.848 in Step 100\n",
      "Training loss  95.716 in Step 120\n",
      "Training loss  45.295 in Step 140\n",
      "Training loss  102.795 in Step 160\n",
      "※※※Training loss  132.389※※※\n",
      "Training timepoint saved\n",
      "Valid loss  112.232 in Step 0\n",
      "Valid loss  181.870 in Step 20\n",
      "Valid loss  339.367 in Step 40\n",
      "※※※Valid loss  142.146※※※\n",
      "Epoch 10\n",
      "Training loss  140.106 in Step 0\n",
      "Training loss  1298.999 in Step 20\n",
      "Training loss  51.854 in Step 40\n",
      "Training loss  192.894 in Step 60\n",
      "Training loss  138.307 in Step 80\n",
      "Training loss  25.852 in Step 100\n",
      "Training loss  188.392 in Step 120\n",
      "Training loss  54.308 in Step 140\n",
      "Training loss  153.721 in Step 160\n",
      "※※※Training loss  132.767※※※\n",
      "Training timepoint saved\n",
      "Valid loss  211.495 in Step 0\n",
      "Valid loss  64.678 in Step 20\n",
      "Valid loss  93.165 in Step 40\n",
      "※※※Valid loss  142.974※※※\n",
      "Epoch 11\n",
      "Training loss  109.139 in Step 0\n",
      "Training loss  22.254 in Step 20\n",
      "Training loss  26.255 in Step 40\n",
      "Training loss  26.560 in Step 60\n",
      "Training loss  479.902 in Step 80\n",
      "Training loss  61.102 in Step 100\n",
      "Training loss  170.625 in Step 120\n",
      "Training loss  43.009 in Step 140\n",
      "Training loss  26.686 in Step 160\n",
      "※※※Training loss  130.558※※※\n",
      "Training timepoint saved\n",
      "Valid loss  218.067 in Step 0\n",
      "Valid loss  20.415 in Step 20\n",
      "Valid loss  48.929 in Step 40\n",
      "※※※Valid loss  143.991※※※\n",
      "Epoch 12\n",
      "Training loss  5.808 in Step 0\n",
      "Training loss  14.037 in Step 20\n",
      "Training loss  26.224 in Step 40\n",
      "Training loss  7.216 in Step 60\n",
      "Training loss  68.729 in Step 80\n",
      "Training loss  126.665 in Step 100\n",
      "Training loss  93.859 in Step 120\n",
      "Training loss  77.625 in Step 140\n",
      "Training loss  38.215 in Step 160\n",
      "※※※Training loss  131.518※※※\n",
      "Training timepoint saved\n",
      "Valid loss  71.312 in Step 0\n",
      "Valid loss  20.281 in Step 20\n",
      "Valid loss  35.159 in Step 40\n",
      "※※※Valid loss  141.533※※※\n",
      "Epoch 13\n",
      "Training loss  196.869 in Step 0\n",
      "Training loss  37.567 in Step 20\n",
      "Training loss  308.480 in Step 40\n",
      "Training loss  125.359 in Step 60\n",
      "Training loss  27.330 in Step 80\n",
      "Training loss  75.375 in Step 100\n",
      "Training loss  31.890 in Step 120\n",
      "Training loss  49.891 in Step 140\n",
      "Training loss  41.165 in Step 160\n",
      "※※※Training loss  130.575※※※\n",
      "Training timepoint saved\n",
      "Valid loss  954.477 in Step 0\n",
      "Valid loss  11.637 in Step 20\n",
      "Valid loss  170.952 in Step 40\n",
      "※※※Valid loss  142.857※※※\n",
      "Epoch 14\n",
      "Training loss  37.441 in Step 0\n",
      "Training loss  154.213 in Step 20\n",
      "Training loss  52.340 in Step 40\n",
      "Training loss  15.512 in Step 60\n",
      "Training loss  26.481 in Step 80\n",
      "Training loss  86.383 in Step 100\n",
      "Training loss  74.501 in Step 120\n",
      "Training loss  497.373 in Step 140\n",
      "Training loss  35.828 in Step 160\n",
      "※※※Training loss  132.180※※※\n",
      "Training timepoint saved\n",
      "Valid loss  45.357 in Step 0\n",
      "Valid loss  158.010 in Step 20\n",
      "Valid loss  110.662 in Step 40\n",
      "※※※Valid loss  148.274※※※\n",
      "Epoch 15\n",
      "Training loss  14.858 in Step 0\n",
      "Training loss  494.178 in Step 20\n",
      "Training loss  181.871 in Step 40\n",
      "Training loss  38.703 in Step 60\n",
      "Training loss  61.329 in Step 80\n",
      "Training loss  231.806 in Step 100\n",
      "Training loss  117.020 in Step 120\n",
      "Training loss  13.007 in Step 140\n",
      "Training loss  51.910 in Step 160\n",
      "※※※Training loss  132.490※※※\n",
      "Training timepoint saved\n",
      "Valid loss  57.113 in Step 0\n",
      "Valid loss  31.696 in Step 20\n",
      "Valid loss  414.973 in Step 40\n",
      "※※※Valid loss  142.465※※※\n",
      "Epoch 16\n",
      "Training loss  440.921 in Step 0\n",
      "Training loss  95.049 in Step 20\n",
      "Training loss  59.984 in Step 40\n",
      "Training loss  25.654 in Step 60\n",
      "Training loss  109.117 in Step 80\n",
      "Training loss  71.595 in Step 100\n",
      "Training loss  339.801 in Step 120\n",
      "Training loss  104.557 in Step 140\n",
      "Training loss  176.049 in Step 160\n",
      "※※※Training loss  132.244※※※\n",
      "Training timepoint saved\n",
      "Valid loss  78.173 in Step 0\n",
      "Valid loss  58.778 in Step 20\n",
      "Valid loss  133.901 in Step 40\n",
      "※※※Valid loss  142.068※※※\n",
      "Epoch 17\n",
      "Training loss  57.521 in Step 0\n",
      "Training loss  87.906 in Step 20\n",
      "Training loss  153.257 in Step 40\n",
      "Training loss  198.737 in Step 60\n",
      "Training loss  152.219 in Step 80\n",
      "Training loss  196.636 in Step 100\n",
      "Training loss  36.367 in Step 120\n",
      "Training loss  30.992 in Step 140\n",
      "Training loss  19.246 in Step 160\n",
      "※※※Training loss  132.244※※※\n",
      "Training timepoint saved\n",
      "Valid loss  42.452 in Step 0\n",
      "Valid loss  53.682 in Step 20\n",
      "Valid loss  8.160 in Step 40\n",
      "※※※Valid loss  151.058※※※\n",
      "Epoch 18\n",
      "Training loss  163.588 in Step 0\n",
      "Training loss  982.352 in Step 20\n",
      "Training loss  70.189 in Step 40\n",
      "Training loss  73.718 in Step 60\n",
      "Training loss  67.324 in Step 80\n",
      "Training loss  67.865 in Step 100\n",
      "Training loss  59.451 in Step 120\n",
      "Training loss  125.230 in Step 140\n",
      "Training loss  38.977 in Step 160\n",
      "※※※Training loss  131.928※※※\n",
      "Training timepoint saved\n",
      "Valid loss  7.440 in Step 0\n",
      "Valid loss  66.416 in Step 20\n",
      "Valid loss  77.029 in Step 40\n",
      "※※※Valid loss  143.962※※※\n",
      "Epoch 19\n",
      "Training loss  224.119 in Step 0\n",
      "Training loss  145.186 in Step 20\n",
      "Training loss  118.062 in Step 40\n",
      "Training loss  37.063 in Step 60\n",
      "Training loss  60.876 in Step 80\n",
      "Training loss  177.203 in Step 100\n",
      "Training loss  118.204 in Step 120\n",
      "Training loss  119.136 in Step 140\n",
      "Training loss  50.560 in Step 160\n",
      "※※※Training loss  132.524※※※\n",
      "Training timepoint saved\n",
      "Valid loss  88.169 in Step 0\n",
      "Valid loss  65.036 in Step 20\n",
      "Valid loss  388.849 in Step 40\n",
      "※※※Valid loss  142.535※※※\n",
      "Epoch 20\n",
      "Training loss  425.427 in Step 0\n",
      "Training loss  39.956 in Step 20\n",
      "Training loss  13.419 in Step 40\n",
      "Training loss  393.230 in Step 60\n",
      "Training loss  34.106 in Step 80\n",
      "Training loss  1120.690 in Step 100\n",
      "Training loss  131.101 in Step 120\n",
      "Training loss  84.196 in Step 140\n",
      "Training loss  82.272 in Step 160\n",
      "※※※Training loss  132.149※※※\n",
      "Training timepoint saved\n",
      "Valid loss  52.622 in Step 0\n",
      "Valid loss  29.271 in Step 20\n",
      "Valid loss  124.714 in Step 40\n",
      "※※※Valid loss  143.719※※※\n",
      "Epoch 21\n",
      "Training loss  346.595 in Step 0\n",
      "Training loss  117.288 in Step 20\n",
      "Training loss  20.161 in Step 40\n",
      "Training loss  65.256 in Step 60\n",
      "Training loss  30.281 in Step 80\n",
      "Training loss  35.011 in Step 100\n",
      "Training loss  58.357 in Step 120\n",
      "Training loss  31.750 in Step 140\n",
      "Training loss  248.612 in Step 160\n",
      "※※※Training loss  132.077※※※\n",
      "Training timepoint saved\n",
      "Valid loss  59.228 in Step 0\n",
      "Valid loss  209.906 in Step 20\n",
      "Valid loss  21.419 in Step 40\n",
      "※※※Valid loss  145.401※※※\n",
      "Epoch 22\n",
      "Training loss  51.636 in Step 0\n",
      "Training loss  36.335 in Step 20\n",
      "Training loss  84.163 in Step 40\n",
      "Training loss  41.482 in Step 60\n",
      "Training loss  83.189 in Step 80\n",
      "Training loss  130.888 in Step 100\n",
      "Training loss  15.807 in Step 120\n",
      "Training loss  187.304 in Step 140\n",
      "Training loss  23.961 in Step 160\n",
      "※※※Training loss  131.833※※※\n",
      "Training timepoint saved\n",
      "Valid loss  161.762 in Step 0\n",
      "Valid loss  261.826 in Step 20\n",
      "Valid loss  370.895 in Step 40\n",
      "※※※Valid loss  146.701※※※\n",
      "Epoch 23\n",
      "Training loss  127.441 in Step 0\n",
      "Training loss  108.320 in Step 20\n",
      "Training loss  21.394 in Step 40\n",
      "Training loss  127.582 in Step 60\n",
      "Training loss  25.215 in Step 80\n",
      "Training loss  44.621 in Step 100\n",
      "Training loss  23.927 in Step 120\n",
      "Training loss  871.342 in Step 140\n",
      "Training loss  29.118 in Step 160\n",
      "※※※Training loss  130.910※※※\n",
      "Training timepoint saved\n",
      "Valid loss  306.361 in Step 0\n",
      "Valid loss  45.244 in Step 20\n",
      "Valid loss  216.325 in Step 40\n",
      "※※※Valid loss  143.714※※※\n",
      "Epoch 24\n",
      "Training loss  129.171 in Step 0\n",
      "Training loss  45.686 in Step 20\n",
      "Training loss  213.611 in Step 40\n",
      "Training loss  66.125 in Step 60\n",
      "Training loss  41.562 in Step 80\n",
      "Training loss  50.660 in Step 100\n",
      "Training loss  35.778 in Step 120\n",
      "Training loss  7.324 in Step 140\n",
      "Training loss  92.467 in Step 160\n",
      "※※※Training loss  132.577※※※\n",
      "Training timepoint saved\n",
      "Valid loss  83.962 in Step 0\n",
      "Valid loss  524.941 in Step 20\n",
      "Valid loss  606.624 in Step 40\n",
      "※※※Valid loss  143.785※※※\n"
     ]
    }
   ],
   "source": [
    "if __name__ == \"__main__\": \n",
    "    train()"
   ]
  },
  {
   "attachments": {},
   "cell_type": "markdown",
   "metadata": {},
   "source": [
    "# Remark: this problem: RuntimeError: Argument #4: Padding size should be less than the corresponding input dimension, but got: padding (200, 200) at dimension 2 of input [1, 1, 27]. is consistent across CPU and GPU. "
   ]
  },
  {
   "cell_type": "code",
   "execution_count": 66,
   "metadata": {
    "id": "KSTTwi31xAvh"
   },
   "outputs": [],
   "source": [
    "### Save\n",
    "valid_losses.save()\n",
    "train_losses.save()\n",
    "text_hist.save()"
   ]
  },
  {
   "cell_type": "code",
   "execution_count": 67,
   "metadata": {
    "colab": {
     "base_uri": "https://localhost:8080/",
     "height": 281
    },
    "id": "3yaMyIzH12RD",
    "outputId": "1426c24a-c60c-48c2-8690-f3a07bb9ba7b"
   },
   "outputs": [
    {
     "data": {
      "text/plain": [
       "<matplotlib.legend.Legend at 0x7f89022c9390>"
      ]
     },
     "execution_count": 67,
     "metadata": {},
     "output_type": "execute_result"
    },
    {
     "data": {
      "image/png": "[encoded data removed]",
      "text/plain": [
       "<Figure size 640x480 with 1 Axes>"
      ]
     },
     "metadata": {},
     "output_type": "display_data"
    }
   ],
   "source": [
    "plt.plot(train_losses.get(), label='Train')\n",
    "plt.plot(valid_losses.get(), label='Valid')\n",
    "plt.title(\"Learning Curve\")\n",
    "plt.legend()"
   ]
  },
  {
   "cell_type": "code",
   "execution_count": null,
   "metadata": {
    "colab": {
     "base_uri": "https://localhost:8080/",
     "height": 35
    },
    "id": "_UcLyHcQMGu0",
    "outputId": "4b56200c-1dc4-4286-b51a-d19e9c75ddd9"
   },
   "outputs": [
    {
     "data": {
      "application/vnd.google.colaboratory.intrinsic+json": {
       "type": "string"
      },
      "text/plain": [
       "'0130021416'"
      ]
     },
     "execution_count": 23,
     "metadata": {},
     "output_type": "execute_result"
    }
   ],
   "source": [
    "ts"
   ]
  },
  {
   "attachments": {},
   "cell_type": "markdown",
   "metadata": {
    "id": "E6-6g-sW3zeg"
   },
   "source": [
    "We can see that with Sigmoid the model seems to perform slightly worse, but this should not be a big problem. Then the decision might depend more on whether the use of it is common and justifiable. I don't think it's common, and the use of it does not seem to be analytically necessary. "
   ]
  },
  {
   "cell_type": "code",
   "execution_count": null,
   "metadata": {
    "id": "tNJ0DAlaWrEE"
   },
   "outputs": [],
   "source": [
    "class ResAECluster(ResAE): \n",
    "    def __init__(self, input_dim=INPUT_DIM, inter_dim1=INTER_DIM_1, inter_dim2=INTER_DIM_2, inter_dim3=INTER_DIM_3, latent_dim=LATENT_DIM, output_dim=OUTPUT_DIM): \n",
    "        super().__init__(input_dim, inter_dim1, inter_dim2, inter_dim3, latent_dim, output_dim)\n",
    "\n",
    "    def forward(self, x):\n",
    "        org_size = x.size()\n",
    "        batch = org_size[0]\n",
    "        x = x.view(batch, -1)\n",
    "\n",
    "        h = self.encoder(x)\n",
    "        # mu, logvar = h.chunk(2, dim=1)\n",
    "        # z = self.reparameterise(mu, logvar)\n",
    "\n",
    "        return h"
   ]
  },
  {
   "cell_type": "code",
   "execution_count": null,
   "metadata": {
    "id": "BFrvzaGC45Gi"
   },
   "outputs": [],
   "source": [
    "seq = \"_01_05\"\n",
    "tags = pd.read_csv(tags_name + seq + \".csv\")\n",
    "gsds = GroundedSoundDataset(tags, test_name + seq + \".npy\")\n",
    "eval_loader = DataLoader(gsds, batch_size=BATCH_SIZE, shuffle=False, num_workers=0)"
   ]
  },
  {
   "cell_type": "code",
   "execution_count": null,
   "metadata": {
    "colab": {
     "base_uri": "https://localhost:8080/",
     "height": 35
    },
    "id": "QARr-C_qpBLb",
    "outputId": "acd5e8ab-1ef6-4968-c205-b437ecfd7b8e"
   },
   "outputs": [
    {
     "data": {
      "application/vnd.google.colaboratory.intrinsic+json": {
       "type": "string"
      },
      "text/plain": [
       "'model_english_0130021416_29_full'"
      ]
     },
     "execution_count": 26,
     "metadata": {},
     "output_type": "execute_result"
    }
   ],
   "source": [
    "last_model_name"
   ]
  },
  {
   "cell_type": "code",
   "execution_count": null,
   "metadata": {
    "id": "KXLqyT3PYFkR"
   },
   "outputs": [],
   "source": [
    "# model_name = last_model_name\n",
    "model_name = \"model_english_0130021416_13_full\"\n",
    "model_path = save_dir + model_name + \".pt\"\n",
    "state = torch.load(model_path)\n",
    "model = ResAECluster()\n",
    "model.load_state_dict(state)\n",
    "# device = torch.device('cuda' if torch.cuda.is_available() else 'cpu')\n",
    "model.to(device)\n",
    "hiddens = None\n",
    "tags = None\n",
    "model.eval()\n",
    "with torch.no_grad():\n",
    "    for idx, (s, e, t) in enumerate(eval_loader):\n",
    "        s = s.to(device)\n",
    "        hidden = model(s)\n",
    "        hidden = hidden.cpu().data.numpy()\n",
    "\n",
    "        if hiddens is not None: \n",
    "            hiddens = np.concatenate((hiddens, hidden), axis=0)\n",
    "            tags = np.concatenate((tags, t), axis=0)\n",
    "        else: \n",
    "            hiddens = hidden\n",
    "            tags = t\n",
    "num_phones = np.unique(tags).shape[0]\n",
    "kmeansmodel = KMeans(n_clusters=num_phones) # , random_state=0\n",
    "clusters = kmeansmodel.fit_predict(hiddens)\n",
    "np.save(save_dir + model_name + seq + \"_hiddenclusters.npy\", clusters)\n",
    "np.save(save_dir + model_name + seq + \"_hiddenrepresentation.npy\", hiddens)\n"
   ]
  },
  {
   "cell_type": "code",
   "execution_count": null,
   "metadata": {
    "id": "BzTuc2Mz6niT"
   },
   "outputs": [],
   "source": [
    "h, c, v = homogeneity_completeness_v_measure(tags, clusters)"
   ]
  },
  {
   "cell_type": "code",
   "execution_count": null,
   "metadata": {
    "colab": {
     "base_uri": "https://localhost:8080/"
    },
    "id": "3ogsEovzEbpc",
    "outputId": "3cd43d32-f30c-4fb3-f5eb-945d6dd0ecc6"
   },
   "outputs": [
    {
     "name": "stdout",
     "output_type": "stream",
     "text": [
      "_01_05 0.30813685860010276 0.2726217590636009 0.2892933823757265\n"
     ]
    }
   ],
   "source": [
    "print(seq, h, c, v) # trained on sampled data"
   ]
  },
  {
   "cell_type": "code",
   "execution_count": null,
   "metadata": {
    "id": "FMFbNimpx-iJ"
   },
   "outputs": [],
   "source": [
    "# _17_24 0.3429902101084872 0.329164358854651 0.33593508938856537   # 256+8\n",
    "# _17_24 0.3071758873778334 0.2958512436337788 0.3014072290332542   # 128+4\n",
    "# _17_24 0.3048181747064378 0.303971996633573 0.3043944976042278    # 128+2\n",
    "# _17_24 0.3109960687106377 0.3020004935745723 0.3064322772063619   # 256+2, 2res\n",
    "# _17_24 0.27632046463064963 0.29796767719078493 0.28673608598337974    # 256+64+2, 2res, new model\n",
    "# _17_24 0.29619001674434664 0.30940705212658304 0.30265430485339223    # 256+64+4, 0res\n",
    "# _17_24 0.3394207670351701 0.3356821861468344 0.33754112484613674      # 256+64+4, 2res\n",
    "# _17_24 0.3246121630042821 0.3173438869288583 0.32093687897447765  # 256+3, 2res, not very bad. So we may try this. This is error, decoder only having 1 res\n",
    "# _17_24 0.3227539602867097 0.32256957773330264 0.3226617426690128  # 256+3, 2res\n",
    "# _17_24 0.3403517130774138 0.33762198107176034 0.33898135170147237 # 256+3, 1res\n",
    "# _17_24 0.3202704367215642 0.31097127191607643 0.3155523587925454  # 256+3, 0res\n",
    "\n",
    "\n",
    "# _01_05 0.30784101366300043 0.2717512535534188 0.28867252408265254"
   ]
  },
  {
   "attachments": {},
   "cell_type": "markdown",
   "metadata": {
    "id": "_gYDGP0Cdf1o"
   },
   "source": [
    "总的来说分成四个，神经网层来进行降维处理，得到的损失比较大，但是 hcv值倒是接近不过，如果能尽量的接近原作的模型结构，我们就不去动它了，所以可能目前来看最好的是保留两个降为层加上两个残差层，最后从256降到2，也许是最好的结果当然降到4也是可以的，都是比较低的维度，不过如果我们想要直接能够，在，可视的空间中画出这些点来，2或者3可能会比四更好一些。 "
   ]
  },
  {
   "attachments": {},
   "cell_type": "markdown",
   "metadata": {
    "id": "nTTdgp_HokAn"
   },
   "source": [
    "从使用不同数量残插块儿的实验结果来看，是由一个残渣块，应该是最好的解决方式，使用零个或两个第三个都可能是都会使hcv值相对降低。由此来看在选择，隐性层纬度为三的情况下，我们应该选择适用一个参差款。"
   ]
  },
  {
   "attachments": {},
   "cell_type": "markdown",
   "metadata": {
    "id": "BxdQ9f85WY1K"
   },
   "source": [
    "### Conclusion\n",
    "Adding new data slightly improves the performance of the model in HCV score, in addition, shuffling the training data largely lowers the HGV score perhaps we should discuss this phenomenon and justify use no shuffling during training. Perhaps this is because of some sort of phonotactics or naturalness of sound streams. "
   ]
  },
  {
   "attachments": {},
   "cell_type": "markdown",
   "metadata": {
    "id": "kjoJ2fFKpmVC"
   },
   "source": [
    "Good news is that for the English model it performs similar well. "
   ]
  },
  {
   "cell_type": "code",
   "execution_count": null,
   "metadata": {
    "id": "ZjPWgjpid7PR"
   },
   "outputs": [],
   "source": []
  }
 ],
 "metadata": {
  "accelerator": "GPU",
  "colab": {
   "provenance": []
  },
  "gpuClass": "standard",
  "kernelspec": {
   "display_name": "Python 3 (ipykernel)",
   "language": "python",
   "name": "python3"
  },
  "language_info": {
   "codemirror_mode": {
    "name": "ipython",
    "version": 3
   },
   "file_extension": ".py",
   "mimetype": "text/x-python",
   "name": "python",
   "nbconvert_exporter": "python",
   "pygments_lexer": "ipython3",
   "version": "3.11.3"
  }
 },
 "nbformat": 4,
 "nbformat_minor": 4
}
