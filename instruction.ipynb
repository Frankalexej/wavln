{
 "cells": [
  {
   "attachments": {},
   "cell_type": "markdown",
   "metadata": {},
   "source": [
    "# How to run this project? "
   ]
  },
  {
   "attachments": {},
   "cell_type": "markdown",
   "metadata": {},
   "source": [
    "## Data\n",
    "In addition to the scripts, first download the adapted version of BSC and AISHELL (later) [zip files]. Unzip into /src/. "
   ]
  },
  {
   "attachments": {},
   "cell_type": "markdown",
   "metadata": {},
   "source": [
    "## Preproc\n",
    "1. ```python paths.py``` to set up paths in case they are not existing. \n",
    "2. ```python preproc_alignment_extract_bsc.py``` to extract the alignment files. \n",
    "3.  ```python preproc_length_stat.py``` to collect stat info on dataset and save stat feature for sampling. \n",
    "4. ```python preproc_samplecut.py``` to randomly and alignedly sample wave segments from the data. This process should take quite long, at the moment we are using segmented wav file (single) as input, but this format might result in too many files and very long loading time and process time during training. So I am thinking about inmtegrating all into one file after transforming into MelSpectrogram first and then concatenate them all into one single file. Then use csv file to note down the cutting indices. "
   ]
  },
  {
   "attachments": {},
   "cell_type": "markdown",
   "metadata": {},
   "source": []
  }
 ],
 "metadata": {
  "language_info": {
   "name": "python"
  },
  "orig_nbformat": 4
 },
 "nbformat": 4,
 "nbformat_minor": 2
}
