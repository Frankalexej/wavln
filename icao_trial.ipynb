{
 "cells": [
  {
   "cell_type": "code",
   "execution_count": 1,
   "metadata": {},
   "outputs": [],
   "source": [
    "import numpy as np"
   ]
  },
  {
   "cell_type": "code",
   "execution_count": 11,
   "metadata": {},
   "outputs": [],
   "source": [
    "x = [[\"1\", \"b\", \"c\", \"d\", \"5\"], [\"1\", \"b\", \"c\", \"d\", \"6\"]]\n",
    "y = [[\"1\", \"b\", \"c\", \"d\", \"5\"], [\"1\", \"b\", \"c\", \"d\", \"6\"]]"
   ]
  },
  {
   "cell_type": "code",
   "execution_count": 12,
   "metadata": {},
   "outputs": [],
   "source": [
    "a = np.array(x)\n",
    "b = np.array(y)"
   ]
  },
  {
   "cell_type": "code",
   "execution_count": 14,
   "metadata": {},
   "outputs": [
    {
     "data": {
      "text/plain": [
       "array([['1', 'b', 'c', 'd', '5'],\n",
       "       ['1', 'b', 'c', 'd', '6'],\n",
       "       ['1', 'b', 'c', 'd', '5'],\n",
       "       ['1', 'b', 'c', 'd', '6']], dtype='<U1')"
      ]
     },
     "execution_count": 14,
     "metadata": {},
     "output_type": "execute_result"
    }
   ],
   "source": [
    "np.vstack([a, b])"
   ]
  },
  {
   "cell_type": "code",
   "execution_count": 15,
   "metadata": {},
   "outputs": [
    {
     "name": "stdout",
     "output_type": "stream",
     "text": [
      "Filtered data:\n",
      "[[ 1  2  3]\n",
      " [ 7  8  9]\n",
      " [10 11 12]]\n",
      "Filtered tags:\n",
      "['a' 'a' 'c']\n"
     ]
    }
   ],
   "source": [
    "import numpy as np\n",
    "\n",
    "def filter_data_by_tags(data, tags, tag_list):\n",
    "    tag_set = set(tag_list)\n",
    "\n",
    "    # Create a boolean mask where True indicates the tag is in tag_list\n",
    "    mask = np.isin(tags, list(tag_set))\n",
    "\n",
    "    # Use the mask to filter the data and tags arrays\n",
    "    filtered_data = data[mask]\n",
    "    filtered_tags = tags[mask]\n",
    "\n",
    "    return filtered_data, filtered_tags\n",
    "\n",
    "# Example usage\n",
    "data = np.array([[1, 2, 3], [4, 5, 6], [7, 8, 9], [10, 11, 12]])\n",
    "tags = np.array(['a', 'b', 'a', 'c'])\n",
    "tag_list = ['a', 'c']\n",
    "\n",
    "filtered_data, filtered_tags = filter_data_by_tags(data, tags, tag_list)\n",
    "\n",
    "print(\"Filtered data:\")\n",
    "print(filtered_data)\n",
    "\n",
    "print(\"Filtered tags:\")\n",
    "print(filtered_tags)\n"
   ]
  },
  {
   "cell_type": "code",
   "execution_count": 16,
   "metadata": {},
   "outputs": [],
   "source": [
    "a, b = [\"1\", \"2\"]"
   ]
  }
 ],
 "metadata": {
  "kernelspec": {
   "display_name": "wavln",
   "language": "python",
   "name": "python3"
  },
  "language_info": {
   "codemirror_mode": {
    "name": "ipython",
    "version": 3
   },
   "file_extension": ".py",
   "mimetype": "text/x-python",
   "name": "python",
   "nbconvert_exporter": "python",
   "pygments_lexer": "ipython3",
   "version": "3.11.7"
  }
 },
 "nbformat": 4,
 "nbformat_minor": 2
}
