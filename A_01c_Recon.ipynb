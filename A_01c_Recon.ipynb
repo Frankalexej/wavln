{
 "cells": [
  {
   "attachments": {},
   "cell_type": "markdown",
   "metadata": {
    "id": "B-mljeGlqMqo"
   },
   "source": [
    "# AI Lab Run Reconstruction\n",
    "- V2: using DB and minmax. \n",
    "\n",
    "A1 recon @25"
   ]
  },
  {
   "cell_type": "code",
   "execution_count": 1,
   "metadata": {
    "id": "jN5DNuExjwet"
   },
   "outputs": [],
   "source": [
    "import torch\n",
    "import torchaudio\n",
    "from torch import nn\n",
    "import torch.nn.functional as F\n",
    "from torch import optim\n",
    "from torch.utils.data import DataLoader, random_split\n",
    "import matplotlib.pyplot as plt\n",
    "import random\n",
    "from IPython.display import Audio\n",
    "from tqdm import tqdm"
   ]
  },
  {
   "cell_type": "code",
   "execution_count": 2,
   "metadata": {},
   "outputs": [],
   "source": [
    "from model_padding import generate_mask_from_lengths_mat, mask_it\n",
    "from paths import *\n",
    "from misc_my_utils import *\n",
    "from model_loss import *\n",
    "from model_model import SimplerPhxLearnerInit as TheLearner\n",
    "from model_dataset import WordDatasetPath as ThisDataset\n",
    "from model_dataset import Normalizer, DeNormalizer\n",
    "from model_dataset import MelSpecTransformDB as TheTransform\n",
    "from model_dataset import DS_Tools\n",
    "from reshandler import ReconResHandler\n",
    "from misc_progress_bar import draw_progress_bar\n",
    "from test_bnd_detect_tools import *\n",
    "from misc_tools import PathUtils as PU\n",
    "from misc_tools import AudioCut"
   ]
  },
  {
   "cell_type": "markdown",
   "metadata": {},
   "source": [
    "## Preps"
   ]
  },
  {
   "attachments": {},
   "cell_type": "markdown",
   "metadata": {
    "tags": []
   },
   "source": [
    "### Dirs"
   ]
  },
  {
   "cell_type": "code",
   "execution_count": 3,
   "metadata": {
    "id": "iGouCDYD3h18"
   },
   "outputs": [],
   "source": [
    "rec_dir = train_cut_word_\n",
    "train_guide_path = os.path.join(src_, \"guide_train.csv\")\n",
    "valid_guide_path = os.path.join(src_, \"guide_validation.csv\")\n",
    "test_guide_path = os.path.join(src_, \"guide_test.csv\")"
   ]
  },
  {
   "cell_type": "markdown",
   "metadata": {},
   "source": [
    "### Constants"
   ]
  },
  {
   "cell_type": "code",
   "execution_count": 4,
   "metadata": {},
   "outputs": [],
   "source": [
    "EPOCHS = 10\n",
    "BATCH_SIZE = 1\n",
    "\n",
    "INPUT_DIM = 64\n",
    "OUTPUT_DIM = 64\n",
    "\n",
    "INTER_DIM_0 = 32\n",
    "INTER_DIM_1 = 16\n",
    "INTER_DIM_2 = 8\n",
    "\n",
    "ENC_SIZE_LIST = [INPUT_DIM, INTER_DIM_0, INTER_DIM_1, INTER_DIM_2]\n",
    "DEC_SIZE_LIST = [OUTPUT_DIM, INTER_DIM_0, INTER_DIM_1, INTER_DIM_2]\n",
    "\n",
    "DROPOUT = 0.5\n",
    "\n",
    "REC_SAMPLE_RATE = 16000\n",
    "N_FFT = 400\n",
    "N_MELS = 64\n",
    "\n",
    "LOADER_WORKER = 16"
   ]
  },
  {
   "cell_type": "markdown",
   "metadata": {},
   "source": [
    "## Prepare for loading Model"
   ]
  },
  {
   "cell_type": "code",
   "execution_count": 5,
   "metadata": {},
   "outputs": [
    {
     "name": "stdout",
     "output_type": "stream",
     "text": [
      "A_01-0129210506\n"
     ]
    }
   ],
   "source": [
    "ts = \"0129210506\"\n",
    "stop_epoch = \"25\"\n",
    "train_name = \"A_01\"\n",
    "model_save_dir = os.path.join(model_save_, f\"{train_name}-{ts}\")\n",
    "assert PU.path_exist(model_save_dir)\n",
    "print(f\"{train_name}-{ts}\")"
   ]
  },
  {
   "cell_type": "markdown",
   "metadata": {},
   "source": [
    "## Load Dataset"
   ]
  },
  {
   "cell_type": "code",
   "execution_count": 6,
   "metadata": {},
   "outputs": [],
   "source": [
    "TEST = False"
   ]
  },
  {
   "cell_type": "code",
   "execution_count": 7,
   "metadata": {},
   "outputs": [],
   "source": [
    "mytrans = TheTransform(sample_rate=REC_SAMPLE_RATE, \n",
    "                       n_fft=N_FFT, n_mels=N_MELS, \n",
    "                       normalizer=Normalizer.norm_mvn, \n",
    "                       denormalizer=DeNormalizer.norm_mvn)\n",
    "\n",
    "valid_ds = ThisDataset(rec_dir, \n",
    "                       valid_guide_path, \n",
    "                       transform=mytrans)\n",
    "\n",
    "valid_ds_indices = DS_Tools.read_indices(os.path.join(model_save_dir, \"valid.use\"))\n",
    "\n",
    "use_valid_ds = torch.utils.data.Subset(valid_ds, valid_ds_indices)\n",
    "\n",
    "valid_loader = DataLoader(use_valid_ds, batch_size=BATCH_SIZE, shuffle=False, num_workers=LOADER_WORKER, collate_fn=ThisDataset.collate_fn)\n",
    "valid_num = len(valid_loader.dataset)\n",
    "\n",
    "\n",
    "# Load Test set\n",
    "if TEST: \n",
    "    test_ds = ThisDataset(rec_dir, \n",
    "                        test_guide_path, \n",
    "                        transform=mytrans)\n",
    "    test_ds_indices = DS_Tools.read_indices(os.path.join(model_save_dir, \"test.use\"))\n",
    "\n",
    "    use_test_ds = torch.utils.data.Subset(test_ds, test_ds_indices)\n",
    "\n",
    "    test_loader = DataLoader(use_test_ds, batch_size=BATCH_SIZE, shuffle=False, num_workers=LOADER_WORKER, collate_fn=ThisDataset.collate_fn)\n",
    "    test_num = len(test_loader.dataset)"
   ]
  },
  {
   "cell_type": "markdown",
   "metadata": {},
   "source": [
    "## Model"
   ]
  },
  {
   "cell_type": "markdown",
   "metadata": {},
   "source": [
    "### Model-related defs"
   ]
  },
  {
   "cell_type": "code",
   "execution_count": 8,
   "metadata": {
    "id": "lUxoYBUg1jLq"
   },
   "outputs": [],
   "source": [
    "device = torch.device('cuda' if torch.cuda.is_available() else 'cpu')\n",
    "recon_loss = nn.MSELoss(reduction='none')\n",
    "masked_recon_loss = MaskedLoss(recon_loss)\n",
    "model_loss = masked_recon_loss\n",
    "\n",
    "model = TheLearner(enc_size_list=ENC_SIZE_LIST, dec_size_list=DEC_SIZE_LIST, num_layers=2)\n",
    "# model = TheLearner(enc_size_list=ENC_SIZE_LIST, dec_size_list=DEC_SIZE_LIST, num_layers=1)\n",
    "model.to(device)\n",
    "optimizer = optim.Adam(model.parameters(), lr=1e-3)"
   ]
  },
  {
   "cell_type": "markdown",
   "metadata": {},
   "source": [
    "### Load Model"
   ]
  },
  {
   "cell_type": "code",
   "execution_count": 9,
   "metadata": {},
   "outputs": [
    {
     "data": {
      "text/plain": [
       "SimplerPhxLearnerInit(\n",
       "  (encoder): RLEncoder(\n",
       "    (rnn): LSTM(64, 16, num_layers=2, batch_first=True)\n",
       "    (lin_2): LinearPack(\n",
       "      (linear): Linear(in_features=16, out_features=8, bias=True)\n",
       "      (relu): LeakyReLU(negative_slope=0.01)\n",
       "    )\n",
       "  )\n",
       "  (decoder): InitRALDecoder(\n",
       "    (rnn): LSTM(64, 8, num_layers=2, batch_first=True)\n",
       "    (attention): ScaledDotProductAttention(\n",
       "      (w_q): Linear(in_features=8, out_features=8, bias=True)\n",
       "      (w_k): Linear(in_features=8, out_features=8, bias=True)\n",
       "      (w_v): Linear(in_features=8, out_features=8, bias=True)\n",
       "    )\n",
       "    (lin_3): LinearPack(\n",
       "      (linear): Linear(in_features=8, out_features=64, bias=True)\n",
       "      (relu): LeakyReLU(negative_slope=0.01)\n",
       "    )\n",
       "  )\n",
       ")"
      ]
     },
     "execution_count": 9,
     "metadata": {},
     "output_type": "execute_result"
    }
   ],
   "source": [
    "model_name = \"{}.pt\".format(stop_epoch)\n",
    "model_path = os.path.join(model_save_dir, model_name)\n",
    "state = torch.load(model_path)\n",
    "\n",
    "model.load_state_dict(state)\n",
    "model.to(device)"
   ]
  },
  {
   "cell_type": "markdown",
   "metadata": {},
   "source": [
    "## Inference"
   ]
  },
  {
   "cell_type": "code",
   "execution_count": 10,
   "metadata": {},
   "outputs": [],
   "source": [
    "def infer(): \n",
    "    model.eval()\n",
    "    reshandler = ReconResHandler(whole_res_dir=model_save_dir, \n",
    "                                 file_prefix=f\"recon-{stop_epoch}\")\n",
    "    all_res = []\n",
    "    all_ori = []\n",
    "    all_name = []\n",
    "\n",
    "    total = len(valid_loader)\n",
    "\n",
    "    for (x, x_lens, name) in tqdm(valid_loader): \n",
    "        name = name[0]\n",
    "\n",
    "        x_mask = generate_mask_from_lengths_mat(x_lens, device=device)\n",
    "        \n",
    "        x = x.to(device)\n",
    "\n",
    "        recon_x, attn_weight = model(x, x_lens, x_mask)\n",
    "\n",
    "        recon_x = recon_x.cpu().detach().numpy().squeeze()\n",
    "        ori_x = x.cpu().detach().numpy().squeeze()\n",
    "\n",
    "        all_res += [recon_x]\n",
    "        # note that this is bit different, not each frame, but each sequence is treated as one data point\n",
    "        all_ori += [ori_x]\n",
    "        all_name += [name]\n",
    "    \n",
    "\n",
    "    reshandler.res = all_res\n",
    "    reshandler.tok = all_ori\n",
    "    reshandler.name = all_name\n",
    "    reshandler.save()"
   ]
  },
  {
   "cell_type": "code",
   "execution_count": 11,
   "metadata": {},
   "outputs": [
    {
     "name": "stderr",
     "output_type": "stream",
     "text": [
      "100%|██████████| 10380/10380 [01:40<00:00, 102.95it/s]\n"
     ]
    }
   ],
   "source": [
    "if __name__ == \"__main__\": \n",
    "    infer()"
   ]
  },
  {
   "cell_type": "markdown",
   "metadata": {},
   "source": [
    "# Load Res"
   ]
  },
  {
   "cell_type": "code",
   "execution_count": 12,
   "metadata": {},
   "outputs": [],
   "source": [
    "reshandler = ReconResHandler(whole_res_dir=model_save_dir, file_prefix=f\"recon-{stop_epoch}\")\n",
    "reshandler.read()"
   ]
  },
  {
   "cell_type": "markdown",
   "metadata": {},
   "source": [
    "# Plot some recon and original comparisons"
   ]
  },
  {
   "cell_type": "code",
   "execution_count": 13,
   "metadata": {},
   "outputs": [],
   "source": [
    "# all\n",
    "all_recon = reshandler.res\n",
    "all_ori = reshandler.tok\n",
    "all_name = reshandler.name"
   ]
  },
  {
   "cell_type": "code",
   "execution_count": 14,
   "metadata": {},
   "outputs": [],
   "source": [
    "def plot_spectrogram(specgram, title=None, ylabel=\"freq_bin\", ax=None):\n",
    "    if ax is None:\n",
    "        _, ax = plt.subplots(1, 1)\n",
    "    if title is not None:\n",
    "        ax.set_title(title)\n",
    "    ax.set_ylabel(ylabel)\n",
    "    # ax.imshow(librosa.power_to_db(specgram), origin=\"lower\", aspect=\"auto\", interpolation=\"nearest\")\n",
    "    ax.imshow(specgram, origin=\"lower\", aspect=\"auto\", interpolation=\"nearest\")"
   ]
  },
  {
   "cell_type": "code",
   "execution_count": 15,
   "metadata": {},
   "outputs": [],
   "source": [
    "i = random.randint(0, len(all_name))"
   ]
  },
  {
   "cell_type": "code",
   "execution_count": 16,
   "metadata": {},
   "outputs": [
    {
     "data": {
      "text/plain": [
       "'3259-158083-0001-0009'"
      ]
     },
     "execution_count": 16,
     "metadata": {},
     "output_type": "execute_result"
    }
   ],
   "source": [
    "reshandler.name[i]"
   ]
  },
  {
   "cell_type": "code",
   "execution_count": 17,
   "metadata": {},
   "outputs": [
    {
     "data": {
      "image/png": "[encoded data removed]",
      "text/plain": [
       "<Figure size 640x480 with 2 Axes>"
      ]
     },
     "metadata": {},
     "output_type": "display_data"
    }
   ],
   "source": [
    "fig, axs = plt.subplots(2, 1)\n",
    "plot_spectrogram(all_ori[i].T, title=\"mel-spectrogram of input\", ax=axs[0])\n",
    "plot_spectrogram(all_recon[i].T, title=\"reconstructed mel-spectrogram\", ax=axs[1])\n",
    "fig.tight_layout()"
   ]
  },
  {
   "cell_type": "code",
   "execution_count": 18,
   "metadata": {},
   "outputs": [
    {
     "data": {
      "image/png": "[encoded data removed]",
      "text/plain": [
       "<Figure size 640x480 with 2 Axes>"
      ]
     },
     "metadata": {},
     "output_type": "display_data"
    }
   ],
   "source": [
    "rec, rate = torchaudio.load(os.path.join(rec_dir, \"/\".join(AudioCut.solve_name(all_name[i])[:-1]), all_name[i] + \".flac\"))\n",
    "\n",
    "fig, axs = plt.subplots(2, 1)\n",
    "plot_spectrogram(mytrans.de_norm(torch.from_numpy(all_ori[i]), rec).numpy().T, title=\"mel-spectrogram of input\", ax=axs[0])\n",
    "plot_spectrogram(mytrans.de_norm(torch.from_numpy(all_recon[i]), rec).numpy().T, title=\"reconstructed mel-spectrogram\", ax=axs[1])\n",
    "fig.tight_layout()"
   ]
  },
  {
   "cell_type": "code",
   "execution_count": 19,
   "metadata": {},
   "outputs": [
    {
     "data": {
      "text/html": [
       "\n",
       "                <audio  controls=\"controls\" >\n",
       "                    <source src=\"data:audio/wav;base64,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\" type=\"audio/wav\" />\n",
       "                    Your browser does not support the audio element.\n",
       "                </audio>\n",
       "              "
      ],
      "text/plain": [
       "<IPython.lib.display.Audio object>"
      ]
     },
     "execution_count": 19,
     "metadata": {},
     "output_type": "execute_result"
    }
   ],
   "source": [
    "Audio(rec.numpy(), rate=rate)"
   ]
  },
  {
   "cell_type": "code",
   "execution_count": 20,
   "metadata": {},
   "outputs": [
    {
     "ename": "_LinAlgError",
     "evalue": "torch.linalg.lstsq: The least squares solution could not be computed because the input matrix does not have full rank (error code: 3).",
     "output_type": "error",
     "traceback": [
      "\u001b[0;31m---------------------------------------------------------------------------\u001b[0m",
      "\u001b[0;31m_LinAlgError\u001b[0m                              Traceback (most recent call last)",
      "Cell \u001b[0;32mIn[20], line 1\u001b[0m\n\u001b[0;32m----> 1\u001b[0m Audio(mytrans\u001b[38;5;241m.\u001b[39minverse(mytrans\u001b[38;5;241m.\u001b[39mde_norm(torch\u001b[38;5;241m.\u001b[39mfrom_numpy(all_ori[i]), rec))\u001b[38;5;241m.\u001b[39mnumpy(), rate\u001b[38;5;241m=\u001b[39mREC_SAMPLE_RATE)\n",
      "File \u001b[0;32m~/Projects/wavln/script/model_dataset.py:373\u001b[0m, in \u001b[0;36mMelSpecTransformDB.inverse\u001b[0;34m(self, mel_spec)\u001b[0m\n\u001b[1;32m    371\u001b[0m mel_spec \u001b[38;5;241m=\u001b[39m torchaudio\u001b[38;5;241m.\u001b[39mfunctional\u001b[38;5;241m.\u001b[39mDB_to_amplitude(mel_spec, ref\u001b[38;5;241m=\u001b[39m\u001b[38;5;241m1.0\u001b[39m, power\u001b[38;5;241m=\u001b[39m\u001b[38;5;241m1\u001b[39m)\n\u001b[1;32m    372\u001b[0m mel_spec \u001b[38;5;241m=\u001b[39m mel_spec\u001b[38;5;241m.\u001b[39munsqueeze(\u001b[38;5;241m0\u001b[39m)  \u001b[38;5;66;03m# restore from (F, L) to (channel, F, L)\u001b[39;00m\n\u001b[0;32m--> 373\u001b[0m i_mel \u001b[38;5;241m=\u001b[39m \u001b[38;5;28mself\u001b[39m\u001b[38;5;241m.\u001b[39minverse_mel(mel_spec)\n\u001b[1;32m    374\u001b[0m inv \u001b[38;5;241m=\u001b[39m \u001b[38;5;28mself\u001b[39m\u001b[38;5;241m.\u001b[39mgrifflim(i_mel)\n\u001b[1;32m    375\u001b[0m \u001b[38;5;28;01mreturn\u001b[39;00m inv\n",
      "File \u001b[0;32m~/anaconda3/envs/wavln/lib/python3.11/site-packages/torch/nn/modules/module.py:1518\u001b[0m, in \u001b[0;36mModule._wrapped_call_impl\u001b[0;34m(self, *args, **kwargs)\u001b[0m\n\u001b[1;32m   1516\u001b[0m     \u001b[38;5;28;01mreturn\u001b[39;00m \u001b[38;5;28mself\u001b[39m\u001b[38;5;241m.\u001b[39m_compiled_call_impl(\u001b[38;5;241m*\u001b[39margs, \u001b[38;5;241m*\u001b[39m\u001b[38;5;241m*\u001b[39mkwargs)  \u001b[38;5;66;03m# type: ignore[misc]\u001b[39;00m\n\u001b[1;32m   1517\u001b[0m \u001b[38;5;28;01melse\u001b[39;00m:\n\u001b[0;32m-> 1518\u001b[0m     \u001b[38;5;28;01mreturn\u001b[39;00m \u001b[38;5;28mself\u001b[39m\u001b[38;5;241m.\u001b[39m_call_impl(\u001b[38;5;241m*\u001b[39margs, \u001b[38;5;241m*\u001b[39m\u001b[38;5;241m*\u001b[39mkwargs)\n",
      "File \u001b[0;32m~/anaconda3/envs/wavln/lib/python3.11/site-packages/torch/nn/modules/module.py:1527\u001b[0m, in \u001b[0;36mModule._call_impl\u001b[0;34m(self, *args, **kwargs)\u001b[0m\n\u001b[1;32m   1522\u001b[0m \u001b[38;5;66;03m# If we don't have any hooks, we want to skip the rest of the logic in\u001b[39;00m\n\u001b[1;32m   1523\u001b[0m \u001b[38;5;66;03m# this function, and just call forward.\u001b[39;00m\n\u001b[1;32m   1524\u001b[0m \u001b[38;5;28;01mif\u001b[39;00m \u001b[38;5;129;01mnot\u001b[39;00m (\u001b[38;5;28mself\u001b[39m\u001b[38;5;241m.\u001b[39m_backward_hooks \u001b[38;5;129;01mor\u001b[39;00m \u001b[38;5;28mself\u001b[39m\u001b[38;5;241m.\u001b[39m_backward_pre_hooks \u001b[38;5;129;01mor\u001b[39;00m \u001b[38;5;28mself\u001b[39m\u001b[38;5;241m.\u001b[39m_forward_hooks \u001b[38;5;129;01mor\u001b[39;00m \u001b[38;5;28mself\u001b[39m\u001b[38;5;241m.\u001b[39m_forward_pre_hooks\n\u001b[1;32m   1525\u001b[0m         \u001b[38;5;129;01mor\u001b[39;00m _global_backward_pre_hooks \u001b[38;5;129;01mor\u001b[39;00m _global_backward_hooks\n\u001b[1;32m   1526\u001b[0m         \u001b[38;5;129;01mor\u001b[39;00m _global_forward_hooks \u001b[38;5;129;01mor\u001b[39;00m _global_forward_pre_hooks):\n\u001b[0;32m-> 1527\u001b[0m     \u001b[38;5;28;01mreturn\u001b[39;00m forward_call(\u001b[38;5;241m*\u001b[39margs, \u001b[38;5;241m*\u001b[39m\u001b[38;5;241m*\u001b[39mkwargs)\n\u001b[1;32m   1529\u001b[0m \u001b[38;5;28;01mtry\u001b[39;00m:\n\u001b[1;32m   1530\u001b[0m     result \u001b[38;5;241m=\u001b[39m \u001b[38;5;28;01mNone\u001b[39;00m\n",
      "File \u001b[0;32m~/anaconda3/envs/wavln/lib/python3.11/site-packages/torchaudio/transforms/_transforms.py:498\u001b[0m, in \u001b[0;36mInverseMelScale.forward\u001b[0;34m(self, melspec)\u001b[0m\n\u001b[1;32m    495\u001b[0m \u001b[38;5;28;01mif\u001b[39;00m \u001b[38;5;28mself\u001b[39m\u001b[38;5;241m.\u001b[39mn_mels \u001b[38;5;241m!=\u001b[39m n_mels:\n\u001b[1;32m    496\u001b[0m     \u001b[38;5;28;01mraise\u001b[39;00m \u001b[38;5;167;01mValueError\u001b[39;00m(\u001b[38;5;124m\"\u001b[39m\u001b[38;5;124mExpected an input with \u001b[39m\u001b[38;5;132;01m{}\u001b[39;00m\u001b[38;5;124m mel bins. Found: \u001b[39m\u001b[38;5;132;01m{}\u001b[39;00m\u001b[38;5;124m\"\u001b[39m\u001b[38;5;241m.\u001b[39mformat(\u001b[38;5;28mself\u001b[39m\u001b[38;5;241m.\u001b[39mn_mels, n_mels))\n\u001b[0;32m--> 498\u001b[0m specgram \u001b[38;5;241m=\u001b[39m torch\u001b[38;5;241m.\u001b[39mrelu(torch\u001b[38;5;241m.\u001b[39mlinalg\u001b[38;5;241m.\u001b[39mlstsq(\u001b[38;5;28mself\u001b[39m\u001b[38;5;241m.\u001b[39mfb\u001b[38;5;241m.\u001b[39mtranspose(\u001b[38;5;241m-\u001b[39m\u001b[38;5;241m1\u001b[39m, \u001b[38;5;241m-\u001b[39m\u001b[38;5;241m2\u001b[39m)[\u001b[38;5;28;01mNone\u001b[39;00m], melspec, driver\u001b[38;5;241m=\u001b[39m\u001b[38;5;28mself\u001b[39m\u001b[38;5;241m.\u001b[39mdriver)\u001b[38;5;241m.\u001b[39msolution)\n\u001b[1;32m    500\u001b[0m \u001b[38;5;66;03m# unpack batch\u001b[39;00m\n\u001b[1;32m    501\u001b[0m specgram \u001b[38;5;241m=\u001b[39m specgram\u001b[38;5;241m.\u001b[39mview(shape[:\u001b[38;5;241m-\u001b[39m\u001b[38;5;241m2\u001b[39m] \u001b[38;5;241m+\u001b[39m (freq, time))\n",
      "\u001b[0;31m_LinAlgError\u001b[0m: torch.linalg.lstsq: The least squares solution could not be computed because the input matrix does not have full rank (error code: 3)."
     ]
    }
   ],
   "source": [
    "Audio(mytrans.inverse(mytrans.de_norm(torch.from_numpy(all_ori[i]), rec)).numpy(), rate=REC_SAMPLE_RATE)"
   ]
  },
  {
   "cell_type": "code",
   "execution_count": 19,
   "metadata": {},
   "outputs": [
    {
     "ename": "RuntimeError",
     "evalue": "istft(CPUComplexFloatType[1, 200, 21], n_fft=400, hop_length=200, win_length=400, window=torch.FloatTensor{[400]}, center=1, normalized=0, onesided=None, length=None, return_complex=0) : expected the frequency dimension (3rd to the last) of the input tensor to match n_fft / 2 + 1 when onesided=True, but got 200",
     "output_type": "error",
     "traceback": [
      "\u001b[0;31m---------------------------------------------------------------------------\u001b[0m",
      "\u001b[0;31mRuntimeError\u001b[0m                              Traceback (most recent call last)",
      "Cell \u001b[0;32mIn[19], line 1\u001b[0m\n\u001b[0;32m----> 1\u001b[0m Audio(mytrans\u001b[38;5;241m.\u001b[39minverse(mytrans\u001b[38;5;241m.\u001b[39mde_norm(torch\u001b[38;5;241m.\u001b[39mfrom_numpy(all_recon[i]), rec))\u001b[38;5;241m.\u001b[39mnumpy(), rate\u001b[38;5;241m=\u001b[39mREC_SAMPLE_RATE)\n",
      "File \u001b[0;32m~/Projects/wavln/script/model_dataset.py:382\u001b[0m, in \u001b[0;36mMelSpecTransformNoDB.inverse\u001b[0;34m(self, mel_spec)\u001b[0m\n\u001b[1;32m    380\u001b[0m mel_spec \u001b[38;5;241m=\u001b[39m mel_spec\u001b[38;5;241m.\u001b[39munsqueeze(\u001b[38;5;241m0\u001b[39m)  \u001b[38;5;66;03m# restore from (F, L) to (channel, F, L)\u001b[39;00m\n\u001b[1;32m    381\u001b[0m i_mel \u001b[38;5;241m=\u001b[39m \u001b[38;5;28mself\u001b[39m\u001b[38;5;241m.\u001b[39minverse_mel(mel_spec)\n\u001b[0;32m--> 382\u001b[0m inv \u001b[38;5;241m=\u001b[39m \u001b[38;5;28mself\u001b[39m\u001b[38;5;241m.\u001b[39mgrifflim(i_mel)\n\u001b[1;32m    383\u001b[0m \u001b[38;5;28;01mreturn\u001b[39;00m inv\n",
      "File \u001b[0;32m~/anaconda3/envs/wavln/lib/python3.11/site-packages/torch/nn/modules/module.py:1518\u001b[0m, in \u001b[0;36mModule._wrapped_call_impl\u001b[0;34m(self, *args, **kwargs)\u001b[0m\n\u001b[1;32m   1516\u001b[0m     \u001b[38;5;28;01mreturn\u001b[39;00m \u001b[38;5;28mself\u001b[39m\u001b[38;5;241m.\u001b[39m_compiled_call_impl(\u001b[38;5;241m*\u001b[39margs, \u001b[38;5;241m*\u001b[39m\u001b[38;5;241m*\u001b[39mkwargs)  \u001b[38;5;66;03m# type: ignore[misc]\u001b[39;00m\n\u001b[1;32m   1517\u001b[0m \u001b[38;5;28;01melse\u001b[39;00m:\n\u001b[0;32m-> 1518\u001b[0m     \u001b[38;5;28;01mreturn\u001b[39;00m \u001b[38;5;28mself\u001b[39m\u001b[38;5;241m.\u001b[39m_call_impl(\u001b[38;5;241m*\u001b[39margs, \u001b[38;5;241m*\u001b[39m\u001b[38;5;241m*\u001b[39mkwargs)\n",
      "File \u001b[0;32m~/anaconda3/envs/wavln/lib/python3.11/site-packages/torch/nn/modules/module.py:1527\u001b[0m, in \u001b[0;36mModule._call_impl\u001b[0;34m(self, *args, **kwargs)\u001b[0m\n\u001b[1;32m   1522\u001b[0m \u001b[38;5;66;03m# If we don't have any hooks, we want to skip the rest of the logic in\u001b[39;00m\n\u001b[1;32m   1523\u001b[0m \u001b[38;5;66;03m# this function, and just call forward.\u001b[39;00m\n\u001b[1;32m   1524\u001b[0m \u001b[38;5;28;01mif\u001b[39;00m \u001b[38;5;129;01mnot\u001b[39;00m (\u001b[38;5;28mself\u001b[39m\u001b[38;5;241m.\u001b[39m_backward_hooks \u001b[38;5;129;01mor\u001b[39;00m \u001b[38;5;28mself\u001b[39m\u001b[38;5;241m.\u001b[39m_backward_pre_hooks \u001b[38;5;129;01mor\u001b[39;00m \u001b[38;5;28mself\u001b[39m\u001b[38;5;241m.\u001b[39m_forward_hooks \u001b[38;5;129;01mor\u001b[39;00m \u001b[38;5;28mself\u001b[39m\u001b[38;5;241m.\u001b[39m_forward_pre_hooks\n\u001b[1;32m   1525\u001b[0m         \u001b[38;5;129;01mor\u001b[39;00m _global_backward_pre_hooks \u001b[38;5;129;01mor\u001b[39;00m _global_backward_hooks\n\u001b[1;32m   1526\u001b[0m         \u001b[38;5;129;01mor\u001b[39;00m _global_forward_hooks \u001b[38;5;129;01mor\u001b[39;00m _global_forward_pre_hooks):\n\u001b[0;32m-> 1527\u001b[0m     \u001b[38;5;28;01mreturn\u001b[39;00m forward_call(\u001b[38;5;241m*\u001b[39margs, \u001b[38;5;241m*\u001b[39m\u001b[38;5;241m*\u001b[39mkwargs)\n\u001b[1;32m   1529\u001b[0m \u001b[38;5;28;01mtry\u001b[39;00m:\n\u001b[1;32m   1530\u001b[0m     result \u001b[38;5;241m=\u001b[39m \u001b[38;5;28;01mNone\u001b[39;00m\n",
      "File \u001b[0;32m~/anaconda3/envs/wavln/lib/python3.11/site-packages/torchaudio/transforms/_transforms.py:285\u001b[0m, in \u001b[0;36mGriffinLim.forward\u001b[0;34m(self, specgram)\u001b[0m\n\u001b[1;32m    275\u001b[0m \u001b[38;5;28;01mdef\u001b[39;00m \u001b[38;5;21mforward\u001b[39m(\u001b[38;5;28mself\u001b[39m, specgram: Tensor) \u001b[38;5;241m-\u001b[39m\u001b[38;5;241m>\u001b[39m Tensor:\n\u001b[1;32m    276\u001b[0m \u001b[38;5;250m    \u001b[39m\u001b[38;5;124mr\u001b[39m\u001b[38;5;124;03m\"\"\"\u001b[39;00m\n\u001b[1;32m    277\u001b[0m \u001b[38;5;124;03m    Args:\u001b[39;00m\n\u001b[1;32m    278\u001b[0m \u001b[38;5;124;03m        specgram (Tensor):\u001b[39;00m\n\u001b[0;32m   (...)\u001b[0m\n\u001b[1;32m    283\u001b[0m \u001b[38;5;124;03m        Tensor: waveform of (..., time), where time equals the ``length`` parameter if given.\u001b[39;00m\n\u001b[1;32m    284\u001b[0m \u001b[38;5;124;03m    \"\"\"\u001b[39;00m\n\u001b[0;32m--> 285\u001b[0m     \u001b[38;5;28;01mreturn\u001b[39;00m F\u001b[38;5;241m.\u001b[39mgriffinlim(\n\u001b[1;32m    286\u001b[0m         specgram,\n\u001b[1;32m    287\u001b[0m         \u001b[38;5;28mself\u001b[39m\u001b[38;5;241m.\u001b[39mwindow,\n\u001b[1;32m    288\u001b[0m         \u001b[38;5;28mself\u001b[39m\u001b[38;5;241m.\u001b[39mn_fft,\n\u001b[1;32m    289\u001b[0m         \u001b[38;5;28mself\u001b[39m\u001b[38;5;241m.\u001b[39mhop_length,\n\u001b[1;32m    290\u001b[0m         \u001b[38;5;28mself\u001b[39m\u001b[38;5;241m.\u001b[39mwin_length,\n\u001b[1;32m    291\u001b[0m         \u001b[38;5;28mself\u001b[39m\u001b[38;5;241m.\u001b[39mpower,\n\u001b[1;32m    292\u001b[0m         \u001b[38;5;28mself\u001b[39m\u001b[38;5;241m.\u001b[39mn_iter,\n\u001b[1;32m    293\u001b[0m         \u001b[38;5;28mself\u001b[39m\u001b[38;5;241m.\u001b[39mmomentum,\n\u001b[1;32m    294\u001b[0m         \u001b[38;5;28mself\u001b[39m\u001b[38;5;241m.\u001b[39mlength,\n\u001b[1;32m    295\u001b[0m         \u001b[38;5;28mself\u001b[39m\u001b[38;5;241m.\u001b[39mrand_init,\n\u001b[1;32m    296\u001b[0m     )\n",
      "File \u001b[0;32m~/anaconda3/envs/wavln/lib/python3.11/site-packages/torchaudio/functional/functional.py:321\u001b[0m, in \u001b[0;36mgriffinlim\u001b[0;34m(specgram, window, n_fft, hop_length, win_length, power, n_iter, momentum, length, rand_init)\u001b[0m\n\u001b[1;32m    318\u001b[0m tprev \u001b[38;5;241m=\u001b[39m torch\u001b[38;5;241m.\u001b[39mtensor(\u001b[38;5;241m0.0\u001b[39m, dtype\u001b[38;5;241m=\u001b[39mspecgram\u001b[38;5;241m.\u001b[39mdtype, device\u001b[38;5;241m=\u001b[39mspecgram\u001b[38;5;241m.\u001b[39mdevice)\n\u001b[1;32m    319\u001b[0m \u001b[38;5;28;01mfor\u001b[39;00m _ \u001b[38;5;129;01min\u001b[39;00m \u001b[38;5;28mrange\u001b[39m(n_iter):\n\u001b[1;32m    320\u001b[0m     \u001b[38;5;66;03m# Invert with our current estimate of the phases\u001b[39;00m\n\u001b[0;32m--> 321\u001b[0m     inverse \u001b[38;5;241m=\u001b[39m torch\u001b[38;5;241m.\u001b[39mistft(\n\u001b[1;32m    322\u001b[0m         specgram \u001b[38;5;241m*\u001b[39m angles, n_fft\u001b[38;5;241m=\u001b[39mn_fft, hop_length\u001b[38;5;241m=\u001b[39mhop_length, win_length\u001b[38;5;241m=\u001b[39mwin_length, window\u001b[38;5;241m=\u001b[39mwindow, length\u001b[38;5;241m=\u001b[39mlength\n\u001b[1;32m    323\u001b[0m     )\n\u001b[1;32m    325\u001b[0m     \u001b[38;5;66;03m# Rebuild the spectrogram\u001b[39;00m\n\u001b[1;32m    326\u001b[0m     rebuilt \u001b[38;5;241m=\u001b[39m torch\u001b[38;5;241m.\u001b[39mstft(\n\u001b[1;32m    327\u001b[0m         \u001b[38;5;28minput\u001b[39m\u001b[38;5;241m=\u001b[39minverse,\n\u001b[1;32m    328\u001b[0m         n_fft\u001b[38;5;241m=\u001b[39mn_fft,\n\u001b[0;32m   (...)\u001b[0m\n\u001b[1;32m    336\u001b[0m         return_complex\u001b[38;5;241m=\u001b[39m\u001b[38;5;28;01mTrue\u001b[39;00m,\n\u001b[1;32m    337\u001b[0m     )\n",
      "\u001b[0;31mRuntimeError\u001b[0m: istft(CPUComplexFloatType[1, 200, 21], n_fft=400, hop_length=200, win_length=400, window=torch.FloatTensor{[400]}, center=1, normalized=0, onesided=None, length=None, return_complex=0) : expected the frequency dimension (3rd to the last) of the input tensor to match n_fft / 2 + 1 when onesided=True, but got 200"
     ]
    }
   ],
   "source": [
    "Audio(mytrans.inverse(mytrans.de_norm(torch.from_numpy(all_recon[i]), rec)).numpy(), rate=REC_SAMPLE_RATE)"
   ]
  },
  {
   "cell_type": "code",
   "execution_count": 30,
   "metadata": {},
   "outputs": [
    {
     "ename": "_LinAlgError",
     "evalue": "torch.linalg.lstsq: The least squares solution could not be computed because the input matrix does not have full rank (error code: 3).",
     "output_type": "error",
     "traceback": [
      "\u001b[0;31m---------------------------------------------------------------------------\u001b[0m",
      "\u001b[0;31m_LinAlgError\u001b[0m                              Traceback (most recent call last)",
      "Cell \u001b[0;32mIn[30], line 1\u001b[0m\n\u001b[0;32m----> 1\u001b[0m Audio(mytrans\u001b[38;5;241m.\u001b[39minverse(torch\u001b[38;5;241m.\u001b[39mfrom_numpy(all_ori[i]))\u001b[38;5;241m.\u001b[39mnumpy(), rate\u001b[38;5;241m=\u001b[39mREC_SAMPLE_RATE)\n",
      "File \u001b[0;32m~/Projects/wavln/script/model_dataset.py:380\u001b[0m, in \u001b[0;36mMelSpecTransformNoDB.inverse\u001b[0;34m(self, mel_spec)\u001b[0m\n\u001b[1;32m    378\u001b[0m mel_spec \u001b[38;5;241m=\u001b[39m mel_spec\u001b[38;5;241m.\u001b[39mpermute(\u001b[38;5;241m1\u001b[39m, \u001b[38;5;241m0\u001b[39m) \u001b[38;5;66;03m# (L, F) -> (F, L)\u001b[39;00m\n\u001b[1;32m    379\u001b[0m mel_spec \u001b[38;5;241m=\u001b[39m mel_spec\u001b[38;5;241m.\u001b[39munsqueeze(\u001b[38;5;241m0\u001b[39m)  \u001b[38;5;66;03m# restore from (F, L) to (channel, F, L)\u001b[39;00m\n\u001b[0;32m--> 380\u001b[0m i_mel \u001b[38;5;241m=\u001b[39m \u001b[38;5;28mself\u001b[39m\u001b[38;5;241m.\u001b[39minverse_mel(mel_spec)\n\u001b[1;32m    381\u001b[0m inv \u001b[38;5;241m=\u001b[39m \u001b[38;5;28mself\u001b[39m\u001b[38;5;241m.\u001b[39mgrifflim(i_mel)\n\u001b[1;32m    382\u001b[0m \u001b[38;5;28;01mreturn\u001b[39;00m inv\n",
      "File \u001b[0;32m~/anaconda3/envs/wavln/lib/python3.11/site-packages/torch/nn/modules/module.py:1518\u001b[0m, in \u001b[0;36mModule._wrapped_call_impl\u001b[0;34m(self, *args, **kwargs)\u001b[0m\n\u001b[1;32m   1516\u001b[0m     \u001b[38;5;28;01mreturn\u001b[39;00m \u001b[38;5;28mself\u001b[39m\u001b[38;5;241m.\u001b[39m_compiled_call_impl(\u001b[38;5;241m*\u001b[39margs, \u001b[38;5;241m*\u001b[39m\u001b[38;5;241m*\u001b[39mkwargs)  \u001b[38;5;66;03m# type: ignore[misc]\u001b[39;00m\n\u001b[1;32m   1517\u001b[0m \u001b[38;5;28;01melse\u001b[39;00m:\n\u001b[0;32m-> 1518\u001b[0m     \u001b[38;5;28;01mreturn\u001b[39;00m \u001b[38;5;28mself\u001b[39m\u001b[38;5;241m.\u001b[39m_call_impl(\u001b[38;5;241m*\u001b[39margs, \u001b[38;5;241m*\u001b[39m\u001b[38;5;241m*\u001b[39mkwargs)\n",
      "File \u001b[0;32m~/anaconda3/envs/wavln/lib/python3.11/site-packages/torch/nn/modules/module.py:1527\u001b[0m, in \u001b[0;36mModule._call_impl\u001b[0;34m(self, *args, **kwargs)\u001b[0m\n\u001b[1;32m   1522\u001b[0m \u001b[38;5;66;03m# If we don't have any hooks, we want to skip the rest of the logic in\u001b[39;00m\n\u001b[1;32m   1523\u001b[0m \u001b[38;5;66;03m# this function, and just call forward.\u001b[39;00m\n\u001b[1;32m   1524\u001b[0m \u001b[38;5;28;01mif\u001b[39;00m \u001b[38;5;129;01mnot\u001b[39;00m (\u001b[38;5;28mself\u001b[39m\u001b[38;5;241m.\u001b[39m_backward_hooks \u001b[38;5;129;01mor\u001b[39;00m \u001b[38;5;28mself\u001b[39m\u001b[38;5;241m.\u001b[39m_backward_pre_hooks \u001b[38;5;129;01mor\u001b[39;00m \u001b[38;5;28mself\u001b[39m\u001b[38;5;241m.\u001b[39m_forward_hooks \u001b[38;5;129;01mor\u001b[39;00m \u001b[38;5;28mself\u001b[39m\u001b[38;5;241m.\u001b[39m_forward_pre_hooks\n\u001b[1;32m   1525\u001b[0m         \u001b[38;5;129;01mor\u001b[39;00m _global_backward_pre_hooks \u001b[38;5;129;01mor\u001b[39;00m _global_backward_hooks\n\u001b[1;32m   1526\u001b[0m         \u001b[38;5;129;01mor\u001b[39;00m _global_forward_hooks \u001b[38;5;129;01mor\u001b[39;00m _global_forward_pre_hooks):\n\u001b[0;32m-> 1527\u001b[0m     \u001b[38;5;28;01mreturn\u001b[39;00m forward_call(\u001b[38;5;241m*\u001b[39margs, \u001b[38;5;241m*\u001b[39m\u001b[38;5;241m*\u001b[39mkwargs)\n\u001b[1;32m   1529\u001b[0m \u001b[38;5;28;01mtry\u001b[39;00m:\n\u001b[1;32m   1530\u001b[0m     result \u001b[38;5;241m=\u001b[39m \u001b[38;5;28;01mNone\u001b[39;00m\n",
      "File \u001b[0;32m~/anaconda3/envs/wavln/lib/python3.11/site-packages/torchaudio/transforms/_transforms.py:498\u001b[0m, in \u001b[0;36mInverseMelScale.forward\u001b[0;34m(self, melspec)\u001b[0m\n\u001b[1;32m    495\u001b[0m \u001b[38;5;28;01mif\u001b[39;00m \u001b[38;5;28mself\u001b[39m\u001b[38;5;241m.\u001b[39mn_mels \u001b[38;5;241m!=\u001b[39m n_mels:\n\u001b[1;32m    496\u001b[0m     \u001b[38;5;28;01mraise\u001b[39;00m \u001b[38;5;167;01mValueError\u001b[39;00m(\u001b[38;5;124m\"\u001b[39m\u001b[38;5;124mExpected an input with \u001b[39m\u001b[38;5;132;01m{}\u001b[39;00m\u001b[38;5;124m mel bins. Found: \u001b[39m\u001b[38;5;132;01m{}\u001b[39;00m\u001b[38;5;124m\"\u001b[39m\u001b[38;5;241m.\u001b[39mformat(\u001b[38;5;28mself\u001b[39m\u001b[38;5;241m.\u001b[39mn_mels, n_mels))\n\u001b[0;32m--> 498\u001b[0m specgram \u001b[38;5;241m=\u001b[39m torch\u001b[38;5;241m.\u001b[39mrelu(torch\u001b[38;5;241m.\u001b[39mlinalg\u001b[38;5;241m.\u001b[39mlstsq(\u001b[38;5;28mself\u001b[39m\u001b[38;5;241m.\u001b[39mfb\u001b[38;5;241m.\u001b[39mtranspose(\u001b[38;5;241m-\u001b[39m\u001b[38;5;241m1\u001b[39m, \u001b[38;5;241m-\u001b[39m\u001b[38;5;241m2\u001b[39m)[\u001b[38;5;28;01mNone\u001b[39;00m], melspec, driver\u001b[38;5;241m=\u001b[39m\u001b[38;5;28mself\u001b[39m\u001b[38;5;241m.\u001b[39mdriver)\u001b[38;5;241m.\u001b[39msolution)\n\u001b[1;32m    500\u001b[0m \u001b[38;5;66;03m# unpack batch\u001b[39;00m\n\u001b[1;32m    501\u001b[0m specgram \u001b[38;5;241m=\u001b[39m specgram\u001b[38;5;241m.\u001b[39mview(shape[:\u001b[38;5;241m-\u001b[39m\u001b[38;5;241m2\u001b[39m] \u001b[38;5;241m+\u001b[39m (freq, time))\n",
      "\u001b[0;31m_LinAlgError\u001b[0m: torch.linalg.lstsq: The least squares solution could not be computed because the input matrix does not have full rank (error code: 3)."
     ]
    }
   ],
   "source": [
    "Audio(mytrans.inverse(torch.from_numpy(all_ori[i])).numpy(), rate=REC_SAMPLE_RATE)"
   ]
  },
  {
   "cell_type": "code",
   "execution_count": 58,
   "metadata": {},
   "outputs": [
    {
     "data": {
      "text/html": [
       "\n",
       "                <audio  controls=\"controls\" >\n",
       "                    <source src=\"data:audio/wav;base64,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\" type=\"audio/wav\" />\n",
       "                    Your browser does not support the audio element.\n",
       "                </audio>\n",
       "              "
      ],
      "text/plain": [
       "<IPython.lib.display.Audio object>"
      ]
     },
     "execution_count": 58,
     "metadata": {},
     "output_type": "execute_result"
    }
   ],
   "source": [
    "Audio(mytrans.inverse(torch.from_numpy(all_recon[i])).numpy(), rate=REC_SAMPLE_RATE)"
   ]
  },
  {
   "cell_type": "code",
   "execution_count": null,
   "metadata": {},
   "outputs": [],
   "source": []
  },
  {
   "cell_type": "code",
   "execution_count": null,
   "metadata": {},
   "outputs": [],
   "source": []
  }
 ],
 "metadata": {
  "accelerator": "GPU",
  "colab": {
   "provenance": []
  },
  "gpuClass": "standard",
  "kernelspec": {
   "display_name": "Python 3 (ipykernel)",
   "language": "python",
   "name": "python3"
  },
  "language_info": {
   "codemirror_mode": {
    "name": "ipython",
    "version": 3
   },
   "file_extension": ".py",
   "mimetype": "text/x-python",
   "name": "python",
   "nbconvert_exporter": "python",
   "pygments_lexer": "ipython3",
   "version": "3.11.7"
  }
 },
 "nbformat": 4,
 "nbformat_minor": 4
}
