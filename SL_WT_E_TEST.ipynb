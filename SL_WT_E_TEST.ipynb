{
 "cells": [
  {
   "attachments": {},
   "cell_type": "markdown",
   "metadata": {
    "id": "B-mljeGlqMqo"
   },
   "source": [
    "# Sequence Learning - Word Training - English - Testing Session\n",
    "In this session, we will look into the working status of our HMRNN-based AE and test:   \n",
    "    1. whether the segmentation is okayish  \n",
    "    2. by plotting the progression of each sub-phoneme segment and try to grab some info from it  "
   ]
  },
  {
   "cell_type": "code",
   "execution_count": 3,
   "metadata": {
    "id": "jN5DNuExjwet"
   },
   "outputs": [],
   "source": [
    "import torch\n",
    "import torchaudio\n",
    "from torch import nn\n",
    "import torch.nn.functional as F\n",
    "from torch.nn.utils.rnn import pad_sequence, pack_sequence\n",
    "from torch import optim\n",
    "from torch.utils.data import Dataset, DataLoader, random_split\n",
    "import matplotlib.pyplot as plt\n",
    "import numpy as np\n",
    "# import csv\n",
    "import pandas as pd\n",
    "from sklearn.cluster import KMeans\n",
    "from sklearn.metrics import homogeneity_completeness_v_measure\n",
    "import pickle\n",
    "from paths import *\n",
    "from my_utils import *\n",
    "from recorder import *\n",
    "from padding import generate_mask_from_lengths_mat, mask_it, masked_loss\n",
    "# import pytz\n",
    "from datetime import datetime\n",
    "# import random\n",
    "# import gc"
   ]
  },
  {
   "cell_type": "code",
   "execution_count": 4,
   "metadata": {},
   "outputs": [],
   "source": [
    "from model import PhonLearn_Net"
   ]
  },
  {
   "attachments": {},
   "cell_type": "markdown",
   "metadata": {
    "tags": []
   },
   "source": [
    "### Dirs"
   ]
  },
  {
   "cell_type": "code",
   "execution_count": 5,
   "metadata": {
    "id": "iGouCDYD3h18"
   },
   "outputs": [],
   "source": [
    "model_save_dir = model_eng_save_dir\n",
    "# random_data:phone_seg_random_path\n",
    "# anno_data: phone_seg_anno_path\n",
    "\n",
    "# random_log_path = phone_seg_random_log_path + \"log.csv\"\n",
    "random_log_path = word_seg_anno_log_path\n",
    "random_path = word_seg_anno_path\n",
    "anno_log_path = phone_seg_anno_path"
   ]
  },
  {
   "attachments": {},
   "cell_type": "markdown",
   "metadata": {},
   "source": [
    "### Constants"
   ]
  },
  {
   "cell_type": "code",
   "execution_count": 6,
   "metadata": {},
   "outputs": [],
   "source": [
    "# 规范用语；规定两种方式：全加载；按rec加载（舍弃了按chunk加载，处理起来更简单）\n",
    "# RandomPhoneDataset; AnnoPhoneDataset; AnnoSeqDataset"
   ]
  },
  {
   "cell_type": "code",
   "execution_count": 7,
   "metadata": {},
   "outputs": [],
   "source": [
    "class AnnoWordWholeDataset(Dataset):\n",
    "    \"\"\"\n",
    "    A PyTorch dataset that loads cutted wave files from disk and returns input-output pairs for\n",
    "    training autoencoder. \n",
    "    \n",
    "    Version 3: wav -> mel\n",
    "    \"\"\"\n",
    "    \n",
    "    def __init__(self, load_dir, load_control_path, transform=None):\n",
    "        \"\"\"\n",
    "        Initializes the class by reading a CSV file and merging the \"rec\" and \"idx\" columns.\n",
    "\n",
    "        The function reads the CSV file from the provided control path, extracts the \"rec\" and \"idx\" columns,\n",
    "        and concatenates the values from these columns using an underscore. It then appends the \".wav\" extension\n",
    "        to each of the merged strings and converts the merged pandas Series to a list, which is assigned to\n",
    "        the 'dataset' attribute of the class.\n",
    "\n",
    "        Args:\n",
    "        load_dir (str): The directory containing the files to load.\n",
    "        load_control_path (str): The path to the CSV file containing the \"rec\" and \"idx\" columns.\n",
    "\n",
    "        Attributes:\n",
    "        dataset (list): A list of merged strings from the \"rec\" and \"idx\" columns, with the \".wav\" extension.\n",
    "        \"\"\"\n",
    "        control_file = pd.read_csv(load_control_path)\n",
    "        control_file = control_file[control_file['n_frames'] > 400]\n",
    "        control_file = control_file[control_file['duration'] <= 2.0]\n",
    "        \n",
    "        # Extract the \"rec\" and \"idx\" columns\n",
    "        rec_col = control_file['rec'].astype(str)\n",
    "        idx_col = control_file['idx'].astype(str).str.zfill(8)\n",
    "        \n",
    "        # Merge the two columns by concatenating the strings with '_' and append extension name\n",
    "        merged_col = rec_col + '_' + idx_col + \".wav\"\n",
    "        \n",
    "        self.dataset = merged_col.tolist()\n",
    "        self.load_dir = load_dir\n",
    "        self.transform = transform\n",
    "        \n",
    "    \n",
    "    def __len__(self):\n",
    "        \"\"\"\n",
    "        Returns the length of the dataset.\n",
    "        \n",
    "        Returns:\n",
    "            int: The number of input-output pairs in the dataset.\n",
    "        \"\"\"\n",
    "        return len(self.dataset)\n",
    "    \n",
    "    def __getitem__(self, idx):\n",
    "        \"\"\"\n",
    "        Returns a tuple (input_data, output_data) for the given index.\n",
    "\n",
    "        The function first checks if the provided index is a tensor, and if so, converts it to a list.\n",
    "        It then constructs the file path for the .wav file using the dataset attribute and the provided index.\n",
    "        The .wav file is loaded using torchaudio, and its data is normalized. If a transform is provided,\n",
    "        the data is transformed using the specified transform. Finally, the input_data and output_data are\n",
    "        set to the same data (creating a tuple), and the tuple is returned.\n",
    "\n",
    "        Args:\n",
    "        idx (int or torch.Tensor): The index of the desired data.\n",
    "\n",
    "        Returns:\n",
    "        tuple: A tuple containing input_data and output_data, both of which are the audio data\n",
    "               from the .wav file at the specified index.\n",
    "\n",
    "        Note: \n",
    "        This function assumes that the class has the following attributes:\n",
    "        - self.load_dir (str): The directory containing the .wav files.\n",
    "        - self.dataset (list): A list of .wav file names.\n",
    "        - self.transform (callable, optional): An optional transform to apply to the audio data.\n",
    "        \"\"\"\n",
    "        if torch.is_tensor(idx):\n",
    "            idx = idx.tolist()\n",
    "        wav_name = os.path.join(self.load_dir,\n",
    "                                self.dataset[idx])\n",
    "        \n",
    "        data, sample_rate = torchaudio.load(wav_name, normalize=True)\n",
    "        if self.transform:\n",
    "            data = self.transform(data, sr=sample_rate)\n",
    "        \n",
    "        # # Prepare for possible in-out discrepencies in the future\n",
    "        # input_data = data\n",
    "        # output_data = data\n",
    "        \n",
    "        return data\n",
    "\n",
    "def collate_fn(xx):\n",
    "    # only working for one data at the moment\n",
    "    batch_first = True\n",
    "    x_lens = [len(x) for x in xx]\n",
    "    xx_pad = pad_sequence(xx, batch_first=batch_first, padding_value=0)\n",
    "    return xx_pad, x_lens\n",
    "\n",
    "\n",
    "class MyTransform(nn.Module): \n",
    "    def __init__(self, sample_rate, n_fft): \n",
    "        super().__init__()\n",
    "        # self.transform = torchaudio.transforms.MelSpectrogram(sample_rate, n_fft=n_fft, n_mels=64)\n",
    "        # self.to_db = torchaudio.transforms.AmplitudeToDB()\n",
    "        # self.transform = torchaudio.transforms.MFCC(n_mfcc=13)\n",
    "    \n",
    "    def forward(self, waveform, sr=16000): \n",
    "        # extract mfcc\n",
    "        feature = torchaudio.compliance.kaldi.mfcc(waveform, sample_frequency=sr)\n",
    "\n",
    "        # add deltas\n",
    "        d1 = torchaudio.functional.compute_deltas(feature)\n",
    "        d2 = torchaudio.functional.compute_deltas(d1)\n",
    "        feature = torch.cat([feature, d1, d2], dim=-1)\n",
    "\n",
    "        # Apply normalization (CMVN)\n",
    "        eps = 1e-9\n",
    "        mean = feature.mean(0, keepdim=True)\n",
    "        std = feature.std(0, keepdim=True, unbiased=False)\n",
    "        # print(feature.shape)\n",
    "        # print(mean, std)\n",
    "        feature = (feature - mean) / (std + eps)\n",
    "\n",
    "        # mel_spec = self.transform(waveform)\n",
    "        # # mel_spec = self.to_db(mel_spec)\n",
    "        # mel_spec = mel_spec.squeeze()\n",
    "        # mel_spec = mel_spec.permute(1, 0) # (F, L) -> (L, F)\n",
    "        return feature"
   ]
  },
  {
   "cell_type": "code",
   "execution_count": 8,
   "metadata": {},
   "outputs": [],
   "source": [
    "EPOCHS = 10\n",
    "BATCH_SIZE = 128\n",
    "\n",
    "# SEGMENTS_IN_CHUNK = 100  # set_size\n",
    "\n",
    "# INPUT_DIM = 128\n",
    "# OUTPUT_DIM = 128\n",
    "\n",
    "INPUT_DIM = 39\n",
    "OUTPUT_DIM = 13\n",
    "\n",
    "INTER_DIM_0 = 32\n",
    "INTER_DIM_1 = 16\n",
    "INTER_DIM_2 = 8\n",
    "INTER_DIM_3 = 3\n",
    "\n",
    "SIZE_LIST = [INTER_DIM_1, INTER_DIM_2]\n",
    "\n",
    "DROPOUT = 0.5\n",
    "\n",
    "REC_SAMPLE_RATE = 16000\n",
    "N_FFT = 400\n",
    "\n",
    "LOADER_WORKER = 8"
   ]
  },
  {
   "cell_type": "code",
   "execution_count": 9,
   "metadata": {
    "id": "lUxoYBUg1jLq"
   },
   "outputs": [],
   "source": [
    "device = torch.device('cuda' if torch.cuda.is_available() else 'cpu')\n",
    "# device = torch.device('cpu')\n",
    "recon_loss = nn.MSELoss(reduction='none')\n",
    "# model = TwoRNNAttn(1.0, SIZE_LIST, in_size=INPUT_DIM, \n",
    "#                       in2_size=INTER_DIM_0, hid_size=INTER_DIM_3, out_size=OUTPUT_DIM)\n",
    "model = PhonLearn_Net(1.0, SIZE_LIST, in_size=INPUT_DIM, \n",
    "                      in2_size=INTER_DIM_0, hid_size=INTER_DIM_3, out_size=OUTPUT_DIM)\n",
    "model.to(device)\n",
    "optimizer = optim.Adam(model.parameters(), lr=1e-3)"
   ]
  },
  {
   "cell_type": "code",
   "execution_count": 10,
   "metadata": {
    "colab": {
     "base_uri": "https://localhost:8080/"
    },
    "id": "QZBCTRw3iXys",
    "outputId": "7947acdb-1a95-49a4-8b1d-93f442cf41d1"
   },
   "outputs": [
    {
     "data": {
      "text/plain": [
       "PhonLearn_Net(\n",
       "  (encoder): Encoder(\n",
       "    (lin_1): LinearPack(\n",
       "      (linear): Linear(in_features=39, out_features=32, bias=True)\n",
       "      (relu): Tanh()\n",
       "      (dropout): Dropout(p=0.5, inplace=False)\n",
       "    )\n",
       "    (rnn): HM_LSTM(\n",
       "      (cell_1): HM_LSTMCell()\n",
       "      (cell_2): HM_LSTMCell()\n",
       "    )\n",
       "    (lin_2): LinearPack(\n",
       "      (linear): Linear(in_features=8, out_features=3, bias=True)\n",
       "      (relu): Tanh()\n",
       "      (dropout): Dropout(p=0.5, inplace=False)\n",
       "    )\n",
       "  )\n",
       "  (decoder): Decoder(\n",
       "    (lin_1): LinearPack(\n",
       "      (linear): Linear(in_features=13, out_features=8, bias=True)\n",
       "      (relu): Tanh()\n",
       "      (dropout): Dropout(p=0.5, inplace=False)\n",
       "    )\n",
       "    (rnn): LSTM(8, 32, batch_first=True)\n",
       "    (attention): ScaledDotProductAttention(\n",
       "      (w_q): Linear(in_features=32, out_features=32, bias=True)\n",
       "      (w_k): Linear(in_features=3, out_features=32, bias=True)\n",
       "      (w_v): Linear(in_features=3, out_features=32, bias=True)\n",
       "    )\n",
       "    (lin_2): LinearPack(\n",
       "      (linear): Linear(in_features=32, out_features=13, bias=True)\n",
       "      (relu): Tanh()\n",
       "      (dropout): Dropout(p=0.5, inplace=False)\n",
       "    )\n",
       "  )\n",
       ")"
      ]
     },
     "execution_count": 10,
     "metadata": {},
     "output_type": "execute_result"
    }
   ],
   "source": [
    "model"
   ]
  },
  {
   "cell_type": "code",
   "execution_count": 11,
   "metadata": {},
   "outputs": [
    {
     "data": {
      "text/plain": [
       "device(type='cuda')"
      ]
     },
     "execution_count": 11,
     "metadata": {},
     "output_type": "execute_result"
    }
   ],
   "source": [
    "device"
   ]
  },
  {
   "cell_type": "code",
   "execution_count": 12,
   "metadata": {},
   "outputs": [],
   "source": [
    "model_parameters = filter(lambda p: p.requires_grad, model.parameters())\n",
    "params = sum([np.prod(p.size()) for p in model_parameters])"
   ]
  },
  {
   "cell_type": "code",
   "execution_count": 13,
   "metadata": {},
   "outputs": [
    {
     "data": {
      "text/plain": [
       "13066"
      ]
     },
     "execution_count": 13,
     "metadata": {},
     "output_type": "execute_result"
    }
   ],
   "source": [
    "params"
   ]
  },
  {
   "cell_type": "code",
   "execution_count": 14,
   "metadata": {
    "id": "ofsEE6OaoyPh"
   },
   "outputs": [],
   "source": [
    "# Just for keeping records of training hists. \n",
    "ts = str(get_timestamp())\n",
    "# ts = \"0620172459\"\n",
    "save_txt_name = \"train_txt_{}.hst\".format(ts)\n",
    "save_trainhist_name = \"train_hist_{}.hst\".format(ts)\n",
    "save_valhist_name = \"val_hist_{}.hst\".format(ts)"
   ]
  },
  {
   "cell_type": "code",
   "execution_count": 15,
   "metadata": {
    "id": "xUHYarigvT64"
   },
   "outputs": [],
   "source": [
    "valid_losses = LossRecorder(model_save_dir + save_valhist_name)\n",
    "train_losses = LossRecorder(model_save_dir + save_trainhist_name)\n",
    "text_hist = HistRecorder(model_save_dir + save_txt_name)"
   ]
  },
  {
   "cell_type": "code",
   "execution_count": 16,
   "metadata": {
    "id": "-T4OYaoXsxe_"
   },
   "outputs": [],
   "source": [
    "# READ = False\n",
    "READ = True"
   ]
  },
  {
   "cell_type": "code",
   "execution_count": 17,
   "metadata": {
    "id": "nVvnpUk5sWxb"
   },
   "outputs": [],
   "source": [
    "if READ: \n",
    "    # valid_losses.read()\n",
    "    # train_losses.read()\n",
    "\n",
    "    # model_name = last_model_name\n",
    "    model_name = \"PT_0620172459_25_full.pt\"\n",
    "    model_path = os.path.join(model_save_dir, model_name)\n",
    "    state = torch.load(model_path)\n",
    "    model = PhonLearn_Net(1.0, SIZE_LIST, in_size=INPUT_DIM, \n",
    "                      in2_size=INTER_DIM_0, hid_size=INTER_DIM_3, out_size=OUTPUT_DIM)\n",
    "    model.load_state_dict(state)\n",
    "    # device = torch.device('cuda' if torch.cuda.is_available() else 'cpu')\n",
    "    model.to(device)"
   ]
  },
  {
   "cell_type": "code",
   "execution_count": 18,
   "metadata": {},
   "outputs": [],
   "source": [
    "mytrans = MyTransform(sample_rate=REC_SAMPLE_RATE, n_fft=N_FFT)"
   ]
  },
  {
   "cell_type": "code",
   "execution_count": 19,
   "metadata": {},
   "outputs": [],
   "source": [
    "test_wave, sr = torchaudio.load(\"s2201b_00000935.wav\")"
   ]
  },
  {
   "cell_type": "code",
   "execution_count": 20,
   "metadata": {},
   "outputs": [],
   "source": [
    "testMFCC = mytrans(test_wave)"
   ]
  },
  {
   "cell_type": "code",
   "execution_count": 21,
   "metadata": {},
   "outputs": [],
   "source": [
    "testMFCC = testMFCC.unsqueeze(0)"
   ]
  },
  {
   "cell_type": "code",
   "execution_count": 22,
   "metadata": {},
   "outputs": [],
   "source": [
    "mask = torch.ones((testMFCC.size(0), testMFCC.size(1)))"
   ]
  },
  {
   "cell_type": "code",
   "execution_count": 23,
   "metadata": {},
   "outputs": [],
   "source": [
    "testMFCC = testMFCC.to(device)\n",
    "mask = mask.to(device)"
   ]
  },
  {
   "cell_type": "code",
   "execution_count": 24,
   "metadata": {},
   "outputs": [],
   "source": [
    "testout, z1, z2, h_2 = model.encode(testMFCC, mask)"
   ]
  },
  {
   "cell_type": "code",
   "execution_count": 25,
   "metadata": {},
   "outputs": [
    {
     "data": {
      "text/plain": [
       "tensor(28., device='cuda:0')"
      ]
     },
     "execution_count": 25,
     "metadata": {},
     "output_type": "execute_result"
    }
   ],
   "source": [
    "z1.sum()"
   ]
  },
  {
   "cell_type": "code",
   "execution_count": 29,
   "metadata": {},
   "outputs": [
    {
     "data": {
      "text/plain": [
       "torch.Size([1])"
      ]
     },
     "execution_count": 29,
     "metadata": {},
     "output_type": "execute_result"
    }
   ],
   "source": [
    "torch.sum(z1, dim=(1, 2)).shape"
   ]
  },
  {
   "cell_type": "code",
   "execution_count": 24,
   "metadata": {},
   "outputs": [
    {
     "data": {
      "text/plain": [
       "tensor([[[ 0.0000,  0.0000,  0.0000,  0.0000,  0.0000,  0.0000,  0.0000,\n",
       "           0.0000],\n",
       "         [ 0.0000,  0.0000,  0.0000,  0.0000,  0.0000,  0.0000,  0.0000,\n",
       "           0.0000],\n",
       "         [-0.1940, -0.0320, -0.0912, -0.1086,  0.1649, -0.1969, -0.0430,\n",
       "           0.0038],\n",
       "         [-0.1940, -0.0320, -0.0912, -0.1086,  0.1649, -0.1969, -0.0430,\n",
       "           0.0038],\n",
       "         [-0.2573, -0.0402, -0.1558, -0.1350,  0.1660, -0.2730, -0.1038,\n",
       "           0.1004],\n",
       "         [-0.2788, -0.0502, -0.1857, -0.1453,  0.1439, -0.3296, -0.1363,\n",
       "           0.1360],\n",
       "         [-0.2678, -0.0521, -0.1794, -0.1274,  0.1039, -0.3238, -0.1822,\n",
       "           0.1629],\n",
       "         [-0.2048, -0.0855, -0.0401, -0.1142,  0.0841, -0.2590, -0.1721,\n",
       "           0.2236],\n",
       "         [-0.2272, -0.1069,  0.0527, -0.1168,  0.0382, -0.2404, -0.2292,\n",
       "           0.2997],\n",
       "         [-0.2275, -0.1348,  0.1122, -0.1235, -0.0073, -0.2245, -0.2834,\n",
       "           0.3573],\n",
       "         [-0.2044, -0.1625,  0.1398, -0.1443, -0.0608, -0.2236, -0.3340,\n",
       "           0.4156],\n",
       "         [-0.1713, -0.1774,  0.1563, -0.1822, -0.1230, -0.2208, -0.3816,\n",
       "           0.4811],\n",
       "         [-0.1446, -0.1969,  0.1452, -0.2038, -0.1679, -0.2251, -0.3983,\n",
       "           0.4971],\n",
       "         [-0.0788, -0.2057,  0.1111, -0.1787, -0.2450, -0.1925, -0.4392,\n",
       "           0.5332],\n",
       "         [-0.1205, -0.2491,  0.1611, -0.2763, -0.2474, -0.1795, -0.3700,\n",
       "           0.4334],\n",
       "         [-0.0614, -0.2511,  0.1313, -0.2932, -0.3454, -0.1713, -0.4525,\n",
       "           0.5339],\n",
       "         [-0.1047, -0.2795,  0.1844, -0.3960, -0.3279, -0.1870, -0.3815,\n",
       "           0.4362],\n",
       "         [-0.0803, -0.3068,  0.1900, -0.4460, -0.4009, -0.2592, -0.4211,\n",
       "           0.4943],\n",
       "         [-0.0609, -0.3305,  0.2030, -0.5107, -0.4378, -0.2936, -0.4122,\n",
       "           0.5019],\n",
       "         [-0.0535, -0.3293,  0.2170, -0.5736, -0.4760, -0.3443, -0.4074,\n",
       "           0.5159],\n",
       "         [-0.0521, -0.3426,  0.2262, -0.6178, -0.4905, -0.4026, -0.3957,\n",
       "           0.5100],\n",
       "         [-0.0525, -0.3309,  0.2319, -0.6479, -0.5127, -0.4583, -0.3836,\n",
       "           0.5122],\n",
       "         [-0.0536, -0.3084,  0.2302, -0.6663, -0.5300, -0.4948, -0.3707,\n",
       "           0.5157],\n",
       "         [-0.0503, -0.3091,  0.2366, -0.6761, -0.5289, -0.4984, -0.3601,\n",
       "           0.5062],\n",
       "         [-0.0511, -0.3197,  0.2287, -0.6847, -0.5269, -0.5100, -0.3628,\n",
       "           0.5001],\n",
       "         [-0.0487, -0.3129,  0.2290, -0.6842, -0.5359, -0.5010, -0.3660,\n",
       "           0.5014],\n",
       "         [-0.0527, -0.3452,  0.2113, -0.6911, -0.5352, -0.5144, -0.3852,\n",
       "           0.4945],\n",
       "         [-0.0489, -0.3571,  0.2205, -0.6890, -0.5399, -0.4965, -0.3970,\n",
       "           0.4899],\n",
       "         [-0.0483, -0.3827,  0.2125, -0.6877, -0.5380, -0.4891, -0.4110,\n",
       "           0.4796],\n",
       "         [-0.0468, -0.4035,  0.2051, -0.6855, -0.5330, -0.4779, -0.4198,\n",
       "           0.4654],\n",
       "         [-0.0270, -0.3596,  0.1222, -0.6919, -0.5406, -0.4380, -0.4827,\n",
       "           0.5319],\n",
       "         [-0.0777, -0.4111,  0.1150, -0.6355, -0.4775, -0.3965, -0.4321,\n",
       "           0.4004],\n",
       "         [-0.0556, -0.4342,  0.1258, -0.6329, -0.5022, -0.4229, -0.4296,\n",
       "           0.3938],\n",
       "         [-0.0507, -0.4611,  0.0882, -0.6434, -0.5059, -0.4536, -0.4197,\n",
       "           0.3776],\n",
       "         [-0.0468, -0.4747,  0.0475, -0.6409, -0.4897, -0.4647, -0.4027,\n",
       "           0.3522],\n",
       "         [-0.0434, -0.4616,  0.0205, -0.6424, -0.4960, -0.4750, -0.3875,\n",
       "           0.3495],\n",
       "         [-0.0467, -0.4604, -0.0348, -0.6501, -0.4857, -0.4896, -0.3706,\n",
       "           0.3379],\n",
       "         [-0.0465, -0.4574, -0.0576, -0.6495, -0.4907, -0.4924, -0.3648,\n",
       "           0.3337],\n",
       "         [-0.0492, -0.4566, -0.1012, -0.6514, -0.4857, -0.4993, -0.3516,\n",
       "           0.3252],\n",
       "         [-0.0338, -0.4127, -0.2256, -0.6506, -0.4789, -0.4707, -0.4051,\n",
       "           0.3769],\n",
       "         [-0.0612, -0.3441, -0.2598, -0.6016, -0.4254, -0.4480, -0.3953,\n",
       "           0.3789],\n",
       "         [-0.0749, -0.2933, -0.2867, -0.5822, -0.4239, -0.4853, -0.3546,\n",
       "           0.3746],\n",
       "         [-0.0783, -0.2801, -0.2832, -0.5784, -0.4359, -0.4932, -0.3498,\n",
       "           0.3866],\n",
       "         [-0.0796, -0.2696, -0.2781, -0.5775, -0.4504, -0.4939, -0.3508,\n",
       "           0.4020],\n",
       "         [-0.0810, -0.2843, -0.2697, -0.5638, -0.4626, -0.4894, -0.3555,\n",
       "           0.3993],\n",
       "         [-0.0752, -0.2923, -0.2603, -0.5409, -0.4716, -0.4779, -0.3576,\n",
       "           0.3933],\n",
       "         [-0.0753, -0.2932, -0.2608, -0.5253, -0.4767, -0.4762, -0.3518,\n",
       "           0.3863],\n",
       "         [-0.0774, -0.2917, -0.2613, -0.5205, -0.4852, -0.4747, -0.3546,\n",
       "           0.3906],\n",
       "         [-0.0793, -0.3065, -0.2552, -0.5015, -0.4877, -0.4681, -0.3579,\n",
       "           0.3803],\n",
       "         [-0.0824, -0.3101, -0.2618, -0.4757, -0.4876, -0.4691, -0.3491,\n",
       "           0.3618],\n",
       "         [-0.0895, -0.3316, -0.2621, -0.4696, -0.4930, -0.4618, -0.3641,\n",
       "           0.3563],\n",
       "         [-0.0910, -0.3453, -0.2587, -0.4442, -0.4858, -0.4486, -0.3672,\n",
       "           0.3378],\n",
       "         [-0.1168, -0.3751, -0.1619, -0.4927, -0.4778, -0.4347, -0.3452,\n",
       "           0.3179],\n",
       "         [-0.1118, -0.4318, -0.1961, -0.5009, -0.4779, -0.4937, -0.3147,\n",
       "           0.2774],\n",
       "         [-0.0849, -0.4310, -0.1845, -0.5286, -0.5287, -0.5062, -0.3159,\n",
       "           0.3064],\n",
       "         [-0.1050, -0.4542, -0.2546, -0.5478, -0.5082, -0.5515, -0.2780,\n",
       "           0.2684],\n",
       "         [-0.0787, -0.4352, -0.2288, -0.5474, -0.5379, -0.5352, -0.2850,\n",
       "           0.2945],\n",
       "         [-0.0721, -0.4285, -0.2231, -0.5607, -0.5508, -0.5361, -0.2891,\n",
       "           0.3077],\n",
       "         [-0.0966, -0.4269, -0.3387, -0.5620, -0.5225, -0.5634, -0.2971,\n",
       "           0.2767],\n",
       "         [-0.1446, -0.3718, -0.2909, -0.5156, -0.4593, -0.5339, -0.2607,\n",
       "           0.2637],\n",
       "         [-0.1041, -0.4001, -0.2548, -0.5083, -0.5004, -0.5454, -0.2604,\n",
       "           0.2746],\n",
       "         [-0.1015, -0.4233, -0.2728, -0.5346, -0.5051, -0.5634, -0.2512,\n",
       "           0.2669],\n",
       "         [-0.0821, -0.4091, -0.2478, -0.5433, -0.5380, -0.5525, -0.2627,\n",
       "           0.2954],\n",
       "         [-0.0734, -0.4235, -0.2273, -0.5676, -0.5505, -0.5401, -0.2873,\n",
       "           0.3147],\n",
       "         [-0.1349, -0.4989, -0.2942, -0.5870, -0.4859, -0.5677, -0.2759,\n",
       "           0.2529],\n",
       "         [-0.1149, -0.4801, -0.2970, -0.5747, -0.5066, -0.5642, -0.2725,\n",
       "           0.2561],\n",
       "         [-0.1442, -0.4937, -0.3175, -0.5851, -0.4733, -0.5823, -0.2547,\n",
       "           0.2369],\n",
       "         [-0.0791, -0.4407, -0.3435, -0.5214, -0.5306, -0.5401, -0.3389,\n",
       "           0.2811],\n",
       "         [-0.1654, -0.4452, -0.2786, -0.5175, -0.4163, -0.5182, -0.2942,\n",
       "           0.2444]]], device='cuda:0', grad_fn=<MulBackward0>)"
      ]
     },
     "execution_count": 24,
     "metadata": {},
     "output_type": "execute_result"
    }
   ],
   "source": [
    "h_2"
   ]
  },
  {
   "cell_type": "code",
   "execution_count": 25,
   "metadata": {},
   "outputs": [
    {
     "data": {
      "text/plain": [
       "tensor([[[ 0.0000, -0.0806,  0.0000],\n",
       "         [ 0.0000, -0.0806,  0.2843],\n",
       "         [ 0.3472, -0.0000,  0.0000],\n",
       "         [ 0.0000, -0.0017,  0.3534],\n",
       "         [ 0.4092, -0.0583,  0.0000],\n",
       "         [ 0.4520, -0.0590,  0.0000],\n",
       "         [ 0.3712, -0.0531,  0.0000],\n",
       "         [ 0.1336, -0.1509,  0.3174],\n",
       "         [-0.0000, -0.2219,  0.2558],\n",
       "         [-0.3430, -0.2595,  0.2376],\n",
       "         [-0.0000, -0.2733,  0.2224],\n",
       "         [-0.5613, -0.2793,  0.0000],\n",
       "         [-0.5737, -0.0000,  0.1620],\n",
       "         [-0.6126, -0.0000,  0.0000],\n",
       "         [-0.6677, -0.2427,  0.1063],\n",
       "         [-0.7462, -0.2522,  0.0000],\n",
       "         [-0.0000, -0.1878, -0.0000],\n",
       "         [-0.0000, -0.0000, -0.1147],\n",
       "         [-0.0000, -0.0000, -0.0000],\n",
       "         [-0.0000, -0.0000, -0.0000],\n",
       "         [-0.0000, -0.0532, -0.3803],\n",
       "         [-0.0000, -0.0184, -0.4731],\n",
       "         [-0.5566,  0.0030, -0.5576],\n",
       "         [-0.5470,  0.0132, -0.5724],\n",
       "         [-0.5258,  0.0278, -0.5560],\n",
       "         [-0.5440,  0.0000, -0.0000],\n",
       "         [-0.5298,  0.0461, -0.0000],\n",
       "         [-0.0000,  0.0497, -0.0000],\n",
       "         [-0.5898,  0.0000, -0.0000],\n",
       "         [-0.0000,  0.0667, -0.3497],\n",
       "         [-0.0000,  0.0000, -0.3281],\n",
       "         [-0.0000,  0.0000, -0.1360],\n",
       "         [-0.5555,  0.0811, -0.1243],\n",
       "         [-0.4599,  0.0944, -0.0801],\n",
       "         [-0.0000,  0.1050, -0.0000],\n",
       "         [-0.2941,  0.1035, -0.0000],\n",
       "         [-0.0000,  0.1046, -0.0000],\n",
       "         [-0.1386,  0.0000, -0.0000],\n",
       "         [-0.0536,  0.0000, -0.0084],\n",
       "         [ 0.0000,  0.1039,  0.0000],\n",
       "         [ 0.0000,  0.0826,  0.0000],\n",
       "         [ 0.0000,  0.0000, -0.0000],\n",
       "         [ 0.0000,  0.0553, -0.0000],\n",
       "         [ 0.0000,  0.0000, -0.0000],\n",
       "         [ 0.0000,  0.0000, -0.0000],\n",
       "         [ 0.0000,  0.0000, -0.0742],\n",
       "         [ 0.0000,  0.0000, -0.0000],\n",
       "         [ 0.1395, -0.0000, -0.0000],\n",
       "         [ 0.1167, -0.0000, -0.0293],\n",
       "         [ 0.0000, -0.0000,  0.0029],\n",
       "         [ 0.1016, -0.0000,  0.0514],\n",
       "         [ 0.0828, -0.0231,  0.1152],\n",
       "         [-0.0715, -0.0000,  0.0391],\n",
       "         [ 0.0874, -0.0000,  0.0000],\n",
       "         [ 0.0666, -0.0000,  0.0000],\n",
       "         [ 0.0000, -0.0121,  0.0698],\n",
       "         [ 0.0000, -0.0000,  0.0066],\n",
       "         [ 0.1787, -0.0000, -0.0317],\n",
       "         [ 0.0000,  0.0259,  0.0710],\n",
       "         [ 0.0000, -0.0000,  0.0000],\n",
       "         [ 0.2874, -0.0000,  0.0147],\n",
       "         [ 0.3379, -0.0000,  0.0000],\n",
       "         [ 0.0000, -0.0000, -0.0453],\n",
       "         [ 0.0000, -0.0000, -0.0000],\n",
       "         [ 0.0000, -0.0000,  0.0000],\n",
       "         [ 0.0000, -0.0000,  0.1038],\n",
       "         [ 0.0000, -0.0000,  0.1332],\n",
       "         [ 0.0000,  0.0370,  0.0000],\n",
       "         [ 0.2534, -0.0000,  0.0000]]], device='cuda:0',\n",
       "       grad_fn=<MulBackward0>)"
      ]
     },
     "execution_count": 25,
     "metadata": {},
     "output_type": "execute_result"
    }
   ],
   "source": [
    "testout"
   ]
  },
  {
   "cell_type": "code",
   "execution_count": 81,
   "metadata": {},
   "outputs": [],
   "source": [
    "import plotly.express as px\n",
    "from sklearn.decomposition import PCA"
   ]
  },
  {
   "cell_type": "code",
   "execution_count": 108,
   "metadata": {},
   "outputs": [],
   "source": [
    "def oneOut2ProgFrame(oneOut): \n",
    "    # oneOut is of tensor of shape (L, D)\n",
    "    df = pd.DataFrame(oneOut, columns=[\"dim_0\", \"dim_1\", \"dim_2\"])\n",
    "    df[\"timestep\"] = df.index\n",
    "    df = df[[\"timestep\", \"dim_0\", \"dim_1\", \"dim_2\"]]\n",
    "    return df\n",
    "def minmax(arr, a=-1, b=1): \n",
    "    min = arr.min()\n",
    "    max = arr.max()\n",
    "    return (b - a) * ((arr - min) / (max - min)) + a\n",
    "def operate_on(arr): \n",
    "    return minmax(arr)\n",
    "    # return arr\n",
    "def framify(these_hids): \n",
    "    # these are token categories to be included\n",
    "    # these hids are the corresponding hids\n",
    "    # these numtags are the corresponding tags, named using indices in these\n",
    "    # these_hids = st.zscore(these_hids, axis=0)\n",
    "    df = pd.DataFrame(data=these_hids)\n",
    "    # df = df.rename(columns={0: \"dim_0\", 1: \"dim_1\", 2: \"dim_2\"})\n",
    "    df['dim_0_norm'] = operate_on(df['dim_0'])\n",
    "    df['dim_1_norm'] = operate_on(df['dim_1'])\n",
    "    df['dim_2_norm'] = operate_on(df['dim_2'])\n",
    "    return df"
   ]
  },
  {
   "cell_type": "code",
   "execution_count": 109,
   "metadata": {},
   "outputs": [],
   "source": [
    "def plot3d(X): \n",
    "    df = framify(X)\n",
    "    config = {\n",
    "    'toImageButtonOptions': {\n",
    "        'format': 'png', # one of png, svg, jpeg, webp\n",
    "        'filename': 'custom_image',\n",
    "        'height': 1280,\n",
    "        'width': 1280,\n",
    "        'scale': 1 # Multiply title/legend/axis/canvas sizes by this factor\n",
    "    }\n",
    "    }\n",
    "    fig = px.scatter_3d(df, x=\"dim_0_norm\", y=\"dim_1_norm\", z=\"dim_2_norm\", animation_frame=\"timestep\")\n",
    "                # color='IPA')\n",
    "    fig.update_traces(marker=dict(size=2),\n",
    "                    selector=dict(mode='markers'))\n",
    "    fig.update_layout(\n",
    "        scene = dict(\n",
    "            xaxis = dict(nticks=8, range=[-1,1],),\n",
    "                        yaxis = dict(nticks=8, range=[-1,1],),\n",
    "                        zaxis = dict(nticks=8, range=[-1,1],),),)\n",
    "    fig.update_layout(legend= {'itemsizing': 'constant'})\n",
    "    fig.update_layout(legend_title_text='Phone')\n",
    "    fig.update_layout(\n",
    "        legend=dict(\n",
    "            x=0,\n",
    "            y=1,\n",
    "            title_font_family=\"Times New Roman\",\n",
    "            font=dict(\n",
    "                family=\"Times New Roman\",\n",
    "                size=36,\n",
    "                color=\"black\"\n",
    "            ),\n",
    "            # bgcolor=\"LightSteelBlue\",\n",
    "            bordercolor=\"Black\",\n",
    "            borderwidth=1\n",
    "        )\n",
    "    )\n",
    "    fig.update_layout(\n",
    "        margin=dict(l=0, r=0, t=0, b=0),\n",
    "    )\n",
    "    camera = dict(\n",
    "        eye=dict(x=0., y=0., z=2.5)\n",
    "    )\n",
    "    fig.update_layout(scene_camera=camera)\n",
    "    # html_plot = fig.to_html(full_html=False, config=config)\n",
    "    fig.show(config=config)\n",
    "    # return html_plot\n",
    "    return "
   ]
  },
  {
   "cell_type": "code",
   "execution_count": 111,
   "metadata": {},
   "outputs": [],
   "source": [
    "testoutcpu = h_2.cpu().detach()[:, :, :3]\n",
    "progf = oneOut2ProgFrame(testoutcpu[0])\n",
    "# framify(progf)"
   ]
  },
  {
   "cell_type": "code",
   "execution_count": 91,
   "metadata": {},
   "outputs": [],
   "source": [
    "h2cpu = h_2.cpu().detach()[0]"
   ]
  },
  {
   "cell_type": "code",
   "execution_count": 92,
   "metadata": {},
   "outputs": [],
   "source": [
    "pca = PCA(n_components=2)"
   ]
  },
  {
   "cell_type": "code",
   "execution_count": 94,
   "metadata": {},
   "outputs": [],
   "source": [
    "X = pca.fit_transform(h2cpu)"
   ]
  },
  {
   "cell_type": "code",
   "execution_count": 95,
   "metadata": {},
   "outputs": [],
   "source": [
    "df = pd.DataFrame(X, columns=[\"dim_0\", \"dim_1\"])\n",
    "df[\"timestep\"] = df.index\n",
    "df = df[[\"timestep\", \"dim_0\", \"dim_1\"]]"
   ]
  },
  {
   "cell_type": "code",
   "execution_count": null,
   "metadata": {},
   "outputs": [],
   "source": [
    "df = pd.DataFrame(data=df)\n",
    "df = df.rename(columns={0: \"dim_0\", 1: \"dim_1\"})\n",
    "df['dim_0_norm'] = operate_on(df['dim_0'])\n",
    "df['dim_1_norm'] = operate_on(df['dim_1'])\n",
    "df['dim_2_norm'] = operate_on(df['dim_2'])"
   ]
  },
  {
   "cell_type": "code",
   "execution_count": 53,
   "metadata": {},
   "outputs": [
    {
     "data": {
      "application/vnd.plotly.v1+json": {
       "config": {
        "plotlyServerURL": "https://plot.ly",
        "toImageButtonOptions": {
         "filename": "custom_image",
         "format": "png",
         "height": 1280,
         "scale": 1,
         "width": 1280
        }
       },
       "data": [
        {
         "hovertemplate": "timestep=0<br>dim_0_norm=%{x}<br>dim_1_norm=%{y}<br>dim_2_norm=%{z}<extra></extra>",
         "legendgroup": "",
         "marker": {
          "color": "#636efa",
          "size": 2,
          "symbol": "circle"
         },
         "mode": "markers",
         "name": "",
         "scene": "scene",
         "showlegend": false,
         "type": "scatter3d",
         "x": [
          1
         ],
         "y": [
          1
         ],
         "z": [
          0.18421947956085205
         ]
        }
       ],
       "frames": [
        {
         "data": [
          {
           "hovertemplate": "timestep=0<br>dim_0_norm=%{x}<br>dim_1_norm=%{y}<br>dim_2_norm=%{z}<extra></extra>",
           "legendgroup": "",
           "marker": {
            "color": "#636efa",
            "symbol": "circle"
           },
           "mode": "markers",
           "name": "",
           "scene": "scene",
           "showlegend": false,
           "type": "scatter3d",
           "x": [
            1
           ],
           "y": [
            1
           ],
           "z": [
            0.18421947956085205
           ]
          }
         ],
         "name": "0"
        },
        {
         "data": [
          {
           "hovertemplate": "timestep=1<br>dim_0_norm=%{x}<br>dim_1_norm=%{y}<br>dim_2_norm=%{z}<extra></extra>",
           "legendgroup": "",
           "marker": {
            "color": "#636efa",
            "symbol": "circle"
           },
           "mode": "markers",
           "name": "",
           "scene": "scene",
           "showlegend": false,
           "type": "scatter3d",
           "x": [
            1
           ],
           "y": [
            1
           ],
           "z": [
            0.18421947956085205
           ]
          }
         ],
         "name": "1"
        },
        {
         "data": [
          {
           "hovertemplate": "timestep=2<br>dim_0_norm=%{x}<br>dim_1_norm=%{y}<br>dim_2_norm=%{z}<extra></extra>",
           "legendgroup": "",
           "marker": {
            "color": "#636efa",
            "symbol": "circle"
           },
           "mode": "markers",
           "name": "",
           "scene": "scene",
           "showlegend": false,
           "type": "scatter3d",
           "x": [
            -0.39117634296417236
           ],
           "y": [
            0.8717547655105591
           ],
           "z": [
            -0.13002800941467285
           ]
          }
         ],
         "name": "2"
        },
        {
         "data": [
          {
           "hovertemplate": "timestep=3<br>dim_0_norm=%{x}<br>dim_1_norm=%{y}<br>dim_2_norm=%{z}<extra></extra>",
           "legendgroup": "",
           "marker": {
            "color": "#636efa",
            "symbol": "circle"
           },
           "mode": "markers",
           "name": "",
           "scene": "scene",
           "showlegend": false,
           "type": "scatter3d",
           "x": [
            -0.39117634296417236
           ],
           "y": [
            0.8717547655105591
           ],
           "z": [
            -0.13002800941467285
           ]
          }
         ],
         "name": "3"
        },
        {
         "data": [
          {
           "hovertemplate": "timestep=4<br>dim_0_norm=%{x}<br>dim_1_norm=%{y}<br>dim_2_norm=%{z}<extra></extra>",
           "legendgroup": "",
           "marker": {
            "color": "#636efa",
            "symbol": "circle"
           },
           "mode": "markers",
           "name": "",
           "scene": "scene",
           "showlegend": false,
           "type": "scatter3d",
           "x": [
            -0.845359206199646
           ],
           "y": [
            0.8386857509613037
           ],
           "z": [
            -0.35303932428359985
           ]
          }
         ],
         "name": "4"
        },
        {
         "data": [
          {
           "hovertemplate": "timestep=5<br>dim_0_norm=%{x}<br>dim_1_norm=%{y}<br>dim_2_norm=%{z}<extra></extra>",
           "legendgroup": "",
           "marker": {
            "color": "#636efa",
            "symbol": "circle"
           },
           "mode": "markers",
           "name": "",
           "scene": "scene",
           "showlegend": false,
           "type": "scatter3d",
           "x": [
            -1
           ],
           "y": [
            0.7986177206039429
           ],
           "z": [
            -0.45588362216949463
           ]
          }
         ],
         "name": "5"
        },
        {
         "data": [
          {
           "hovertemplate": "timestep=6<br>dim_0_norm=%{x}<br>dim_1_norm=%{y}<br>dim_2_norm=%{z}<extra></extra>",
           "legendgroup": "",
           "marker": {
            "color": "#636efa",
            "symbol": "circle"
           },
           "mode": "markers",
           "name": "",
           "scene": "scene",
           "showlegend": false,
           "type": "scatter3d",
           "x": [
            -0.9204633235931396
           ],
           "y": [
            0.7911510467529297
           ],
           "z": [
            -0.4343486428260803
           ]
          }
         ],
         "name": "6"
        },
        {
         "data": [
          {
           "hovertemplate": "timestep=7<br>dim_0_norm=%{x}<br>dim_1_norm=%{y}<br>dim_2_norm=%{z}<extra></extra>",
           "legendgroup": "",
           "marker": {
            "color": "#636efa",
            "symbol": "circle"
           },
           "mode": "markers",
           "name": "",
           "scene": "scene",
           "showlegend": false,
           "type": "scatter3d",
           "x": [
            -0.46901804208755493
           ],
           "y": [
            0.657140851020813
           ],
           "z": [
            0.04583609104156494
           ]
          }
         ],
         "name": "7"
        },
        {
         "data": [
          {
           "hovertemplate": "timestep=8<br>dim_0_norm=%{x}<br>dim_1_norm=%{y}<br>dim_2_norm=%{z}<extra></extra>",
           "legendgroup": "",
           "marker": {
            "color": "#636efa",
            "symbol": "circle"
           },
           "mode": "markers",
           "name": "",
           "scene": "scene",
           "showlegend": false,
           "type": "scatter3d",
           "x": [
            -0.6295565962791443
           ],
           "y": [
            0.5713794231414795
           ],
           "z": [
            0.36601829528808594
           ]
          }
         ],
         "name": "8"
        },
        {
         "data": [
          {
           "hovertemplate": "timestep=9<br>dim_0_norm=%{x}<br>dim_1_norm=%{y}<br>dim_2_norm=%{z}<extra></extra>",
           "legendgroup": "",
           "marker": {
            "color": "#636efa",
            "symbol": "circle"
           },
           "mode": "markers",
           "name": "",
           "scene": "scene",
           "showlegend": false,
           "type": "scatter3d",
           "x": [
            -0.63186115026474
           ],
           "y": [
            0.45941460132598877
           ],
           "z": [
            0.5710973739624023
           ]
          }
         ],
         "name": "9"
        },
        {
         "data": [
          {
           "hovertemplate": "timestep=10<br>dim_0_norm=%{x}<br>dim_1_norm=%{y}<br>dim_2_norm=%{z}<extra></extra>",
           "legendgroup": "",
           "marker": {
            "color": "#636efa",
            "symbol": "circle"
           },
           "mode": "markers",
           "name": "",
           "scene": "scene",
           "showlegend": false,
           "type": "scatter3d",
           "x": [
            -0.46609413623809814
           ],
           "y": [
            0.3486368656158447
           ],
           "z": [
            0.6662975549697876
           ]
          }
         ],
         "name": "10"
        },
        {
         "data": [
          {
           "hovertemplate": "timestep=11<br>dim_0_norm=%{x}<br>dim_1_norm=%{y}<br>dim_2_norm=%{z}<extra></extra>",
           "legendgroup": "",
           "marker": {
            "color": "#636efa",
            "symbol": "circle"
           },
           "mode": "markers",
           "name": "",
           "scene": "scene",
           "showlegend": false,
           "type": "scatter3d",
           "x": [
            -0.22895485162734985
           ],
           "y": [
            0.2885977029800415
           ],
           "z": [
            0.7232009172439575
           ]
          }
         ],
         "name": "11"
        },
        {
         "data": [
          {
           "hovertemplate": "timestep=12<br>dim_0_norm=%{x}<br>dim_1_norm=%{y}<br>dim_2_norm=%{z}<extra></extra>",
           "legendgroup": "",
           "marker": {
            "color": "#636efa",
            "symbol": "circle"
           },
           "mode": "markers",
           "name": "",
           "scene": "scene",
           "showlegend": false,
           "type": "scatter3d",
           "x": [
            -0.03743809461593628
           ],
           "y": [
            0.210687518119812
           ],
           "z": [
            0.6848005056381226
           ]
          }
         ],
         "name": "12"
        },
        {
         "data": [
          {
           "hovertemplate": "timestep=13<br>dim_0_norm=%{x}<br>dim_1_norm=%{y}<br>dim_2_norm=%{z}<extra></extra>",
           "legendgroup": "",
           "marker": {
            "color": "#636efa",
            "symbol": "circle"
           },
           "mode": "markers",
           "name": "",
           "scene": "scene",
           "showlegend": false,
           "type": "scatter3d",
           "x": [
            0.43473148345947266
           ],
           "y": [
            0.17521297931671143
           ],
           "z": [
            0.567244291305542
           ]
          }
         ],
         "name": "13"
        },
        {
         "data": [
          {
           "hovertemplate": "timestep=14<br>dim_0_norm=%{x}<br>dim_1_norm=%{y}<br>dim_2_norm=%{z}<extra></extra>",
           "legendgroup": "",
           "marker": {
            "color": "#636efa",
            "symbol": "circle"
           },
           "mode": "markers",
           "name": "",
           "scene": "scene",
           "showlegend": false,
           "type": "scatter3d",
           "x": [
            0.13608109951019287
           ],
           "y": [
            0.0012989044189453125
           ],
           "z": [
            0.7397031784057617
           ]
          }
         ],
         "name": "14"
        },
        {
         "data": [
          {
           "hovertemplate": "timestep=15<br>dim_0_norm=%{x}<br>dim_1_norm=%{y}<br>dim_2_norm=%{z}<extra></extra>",
           "legendgroup": "",
           "marker": {
            "color": "#636efa",
            "symbol": "circle"
           },
           "mode": "markers",
           "name": "",
           "scene": "scene",
           "showlegend": false,
           "type": "scatter3d",
           "x": [
            0.5594482421875
           ],
           "y": [
            -0.006765484809875488
           ],
           "z": [
            0.6369212865829468
           ]
          }
         ],
         "name": "15"
        },
        {
         "data": [
          {
           "hovertemplate": "timestep=16<br>dim_0_norm=%{x}<br>dim_1_norm=%{y}<br>dim_2_norm=%{z}<extra></extra>",
           "legendgroup": "",
           "marker": {
            "color": "#636efa",
            "symbol": "circle"
           },
           "mode": "markers",
           "name": "",
           "scene": "scene",
           "showlegend": false,
           "type": "scatter3d",
           "x": [
            0.2487727403640747
           ],
           "y": [
            -0.12073397636413574
           ],
           "z": [
            0.8199238777160645
           ]
          }
         ],
         "name": "16"
        },
        {
         "data": [
          {
           "hovertemplate": "timestep=17<br>dim_0_norm=%{x}<br>dim_1_norm=%{y}<br>dim_2_norm=%{z}<extra></extra>",
           "legendgroup": "",
           "marker": {
            "color": "#636efa",
            "symbol": "circle"
           },
           "mode": "markers",
           "name": "",
           "scene": "scene",
           "showlegend": false,
           "type": "scatter3d",
           "x": [
            0.4240483045578003
           ],
           "y": [
            -0.22997337579727173
           ],
           "z": [
            0.8392502069473267
           ]
          }
         ],
         "name": "17"
        },
        {
         "data": [
          {
           "hovertemplate": "timestep=18<br>dim_0_norm=%{x}<br>dim_1_norm=%{y}<br>dim_2_norm=%{z}<extra></extra>",
           "legendgroup": "",
           "marker": {
            "color": "#636efa",
            "symbol": "circle"
           },
           "mode": "markers",
           "name": "",
           "scene": "scene",
           "showlegend": false,
           "type": "scatter3d",
           "x": [
            0.5634012222290039
           ],
           "y": [
            -0.3251779079437256
           ],
           "z": [
            0.8842495679855347
           ]
          }
         ],
         "name": "18"
        },
        {
         "data": [
          {
           "hovertemplate": "timestep=19<br>dim_0_norm=%{x}<br>dim_1_norm=%{y}<br>dim_2_norm=%{z}<extra></extra>",
           "legendgroup": "",
           "marker": {
            "color": "#636efa",
            "symbol": "circle"
           },
           "mode": "markers",
           "name": "",
           "scene": "scene",
           "showlegend": false,
           "type": "scatter3d",
           "x": [
            0.6160883903503418
           ],
           "y": [
            -0.32014304399490356
           ],
           "z": [
            0.9323230981826782
           ]
          }
         ],
         "name": "19"
        },
        {
         "data": [
          {
           "hovertemplate": "timestep=20<br>dim_0_norm=%{x}<br>dim_1_norm=%{y}<br>dim_2_norm=%{z}<extra></extra>",
           "legendgroup": "",
           "marker": {
            "color": "#636efa",
            "symbol": "circle"
           },
           "mode": "markers",
           "name": "",
           "scene": "scene",
           "showlegend": false,
           "type": "scatter3d",
           "x": [
            0.6266672611236572
           ],
           "y": [
            -0.37364184856414795
           ],
           "z": [
            0.9640697240829468
           ]
          }
         ],
         "name": "20"
        },
        {
         "data": [
          {
           "hovertemplate": "timestep=21<br>dim_0_norm=%{x}<br>dim_1_norm=%{y}<br>dim_2_norm=%{z}<extra></extra>",
           "legendgroup": "",
           "marker": {
            "color": "#636efa",
            "symbol": "circle"
           },
           "mode": "markers",
           "name": "",
           "scene": "scene",
           "showlegend": false,
           "type": "scatter3d",
           "x": [
            0.6236058473587036
           ],
           "y": [
            -0.3266472816467285
           ],
           "z": [
            0.9837338924407959
           ]
          }
         ],
         "name": "21"
        },
        {
         "data": [
          {
           "hovertemplate": "timestep=22<br>dim_0_norm=%{x}<br>dim_1_norm=%{y}<br>dim_2_norm=%{z}<extra></extra>",
           "legendgroup": "",
           "marker": {
            "color": "#636efa",
            "symbol": "circle"
           },
           "mode": "markers",
           "name": "",
           "scene": "scene",
           "showlegend": false,
           "type": "scatter3d",
           "x": [
            0.6153415441513062
           ],
           "y": [
            -0.2364816665649414
           ],
           "z": [
            0.9779891967773438
           ]
          }
         ],
         "name": "22"
        },
        {
         "data": [
          {
           "hovertemplate": "timestep=23<br>dim_0_norm=%{x}<br>dim_1_norm=%{y}<br>dim_2_norm=%{z}<extra></extra>",
           "legendgroup": "",
           "marker": {
            "color": "#636efa",
            "symbol": "circle"
           },
           "mode": "markers",
           "name": "",
           "scene": "scene",
           "showlegend": false,
           "type": "scatter3d",
           "x": [
            0.6390249729156494
           ],
           "y": [
            -0.23917096853256226
           ],
           "z": [
            1
           ]
          }
         ],
         "name": "23"
        },
        {
         "data": [
          {
           "hovertemplate": "timestep=24<br>dim_0_norm=%{x}<br>dim_1_norm=%{y}<br>dim_2_norm=%{z}<extra></extra>",
           "legendgroup": "",
           "marker": {
            "color": "#636efa",
            "symbol": "circle"
           },
           "mode": "markers",
           "name": "",
           "scene": "scene",
           "showlegend": false,
           "type": "scatter3d",
           "x": [
            0.633144736289978
           ],
           "y": [
            -0.2818436622619629
           ],
           "z": [
            0.9726897478103638
           ]
          }
         ],
         "name": "24"
        },
        {
         "data": [
          {
           "hovertemplate": "timestep=25<br>dim_0_norm=%{x}<br>dim_1_norm=%{y}<br>dim_2_norm=%{z}<extra></extra>",
           "legendgroup": "",
           "marker": {
            "color": "#636efa",
            "symbol": "circle"
           },
           "mode": "markers",
           "name": "",
           "scene": "scene",
           "showlegend": false,
           "type": "scatter3d",
           "x": [
            0.6507850885391235
           ],
           "y": [
            -0.25456899404525757
           ],
           "z": [
            0.9736744165420532
           ]
          }
         ],
         "name": "25"
        },
        {
         "data": [
          {
           "hovertemplate": "timestep=26<br>dim_0_norm=%{x}<br>dim_1_norm=%{y}<br>dim_2_norm=%{z}<extra></extra>",
           "legendgroup": "",
           "marker": {
            "color": "#636efa",
            "symbol": "circle"
           },
           "mode": "markers",
           "name": "",
           "scene": "scene",
           "showlegend": false,
           "type": "scatter3d",
           "x": [
            0.6216952800750732
           ],
           "y": [
            -0.38413214683532715
           ],
           "z": [
            0.9126298427581787
           ]
          }
         ],
         "name": "26"
        },
        {
         "data": [
          {
           "hovertemplate": "timestep=27<br>dim_0_norm=%{x}<br>dim_1_norm=%{y}<br>dim_2_norm=%{z}<extra></extra>",
           "legendgroup": "",
           "marker": {
            "color": "#636efa",
            "symbol": "circle"
           },
           "mode": "markers",
           "name": "",
           "scene": "scene",
           "showlegend": false,
           "type": "scatter3d",
           "x": [
            0.6490243673324585
           ],
           "y": [
            -0.43167299032211304
           ],
           "z": [
            0.9442926645278931
           ]
          }
         ],
         "name": "27"
        },
        {
         "data": [
          {
           "hovertemplate": "timestep=28<br>dim_0_norm=%{x}<br>dim_1_norm=%{y}<br>dim_2_norm=%{z}<extra></extra>",
           "legendgroup": "",
           "marker": {
            "color": "#636efa",
            "symbol": "circle"
           },
           "mode": "markers",
           "name": "",
           "scene": "scene",
           "showlegend": false,
           "type": "scatter3d",
           "x": [
            0.6532192230224609
           ],
           "y": [
            -0.5344749093055725
           ],
           "z": [
            0.9169501066207886
           ]
          }
         ],
         "name": "28"
        },
        {
         "data": [
          {
           "hovertemplate": "timestep=29<br>dim_0_norm=%{x}<br>dim_1_norm=%{y}<br>dim_2_norm=%{z}<extra></extra>",
           "legendgroup": "",
           "marker": {
            "color": "#636efa",
            "symbol": "circle"
           },
           "mode": "markers",
           "name": "",
           "scene": "scene",
           "showlegend": false,
           "type": "scatter3d",
           "x": [
            0.6641545295715332
           ],
           "y": [
            -0.6176965832710266
           ],
           "z": [
            0.8913546800613403
           ]
          }
         ],
         "name": "29"
        },
        {
         "data": [
          {
           "hovertemplate": "timestep=30<br>dim_0_norm=%{x}<br>dim_1_norm=%{y}<br>dim_2_norm=%{z}<extra></extra>",
           "legendgroup": "",
           "marker": {
            "color": "#636efa",
            "symbol": "circle"
           },
           "mode": "markers",
           "name": "",
           "scene": "scene",
           "showlegend": false,
           "type": "scatter3d",
           "x": [
            0.8066698312759399
           ],
           "y": [
            -0.4416745901107788
           ],
           "z": [
            0.6053701639175415
           ]
          }
         ],
         "name": "30"
        },
        {
         "data": [
          {
           "hovertemplate": "timestep=31<br>dim_0_norm=%{x}<br>dim_1_norm=%{y}<br>dim_2_norm=%{z}<extra></extra>",
           "legendgroup": "",
           "marker": {
            "color": "#636efa",
            "symbol": "circle"
           },
           "mode": "markers",
           "name": "",
           "scene": "scene",
           "showlegend": false,
           "type": "scatter3d",
           "x": [
            0.44273507595062256
           ],
           "y": [
            -0.648298978805542
           ],
           "z": [
            0.5807373523712158
           ]
          }
         ],
         "name": "31"
        },
        {
         "data": [
          {
           "hovertemplate": "timestep=32<br>dim_0_norm=%{x}<br>dim_1_norm=%{y}<br>dim_2_norm=%{z}<extra></extra>",
           "legendgroup": "",
           "marker": {
            "color": "#636efa",
            "symbol": "circle"
           },
           "mode": "markers",
           "name": "",
           "scene": "scene",
           "showlegend": false,
           "type": "scatter3d",
           "x": [
            0.6009513139724731
           ],
           "y": [
            -0.7409452199935913
           ],
           "z": [
            0.6177833080291748
           ]
          }
         ],
         "name": "32"
        },
        {
         "data": [
          {
           "hovertemplate": "timestep=33<br>dim_0_norm=%{x}<br>dim_1_norm=%{y}<br>dim_2_norm=%{z}<extra></extra>",
           "legendgroup": "",
           "marker": {
            "color": "#636efa",
            "symbol": "circle"
           },
           "mode": "markers",
           "name": "",
           "scene": "scene",
           "showlegend": false,
           "type": "scatter3d",
           "x": [
            0.6364681720733643
           ],
           "y": [
            -0.8487523794174194
           ],
           "z": [
            0.48822176456451416
           ]
          }
         ],
         "name": "33"
        },
        {
         "data": [
          {
           "hovertemplate": "timestep=34<br>dim_0_norm=%{x}<br>dim_1_norm=%{y}<br>dim_2_norm=%{z}<extra></extra>",
           "legendgroup": "",
           "marker": {
            "color": "#636efa",
            "symbol": "circle"
           },
           "mode": "markers",
           "name": "",
           "scene": "scene",
           "showlegend": false,
           "type": "scatter3d",
           "x": [
            0.6642657518386841
           ],
           "y": [
            -0.9029808044433594
           ],
           "z": [
            0.3480045795440674
           ]
          }
         ],
         "name": "34"
        },
        {
         "data": [
          {
           "hovertemplate": "timestep=35<br>dim_0_norm=%{x}<br>dim_1_norm=%{y}<br>dim_2_norm=%{z}<extra></extra>",
           "legendgroup": "",
           "marker": {
            "color": "#636efa",
            "symbol": "circle"
           },
           "mode": "markers",
           "name": "",
           "scene": "scene",
           "showlegend": false,
           "type": "scatter3d",
           "x": [
            0.6887897253036499
           ],
           "y": [
            -0.8504883646965027
           ],
           "z": [
            0.25481927394866943
           ]
          }
         ],
         "name": "35"
        },
        {
         "data": [
          {
           "hovertemplate": "timestep=36<br>dim_0_norm=%{x}<br>dim_1_norm=%{y}<br>dim_2_norm=%{z}<extra></extra>",
           "legendgroup": "",
           "marker": {
            "color": "#636efa",
            "symbol": "circle"
           },
           "mode": "markers",
           "name": "",
           "scene": "scene",
           "showlegend": false,
           "type": "scatter3d",
           "x": [
            0.6647573709487915
           ],
           "y": [
            -0.8459423780441284
           ],
           "z": [
            0.06414282321929932
           ]
          }
         ],
         "name": "36"
        },
        {
         "data": [
          {
           "hovertemplate": "timestep=37<br>dim_0_norm=%{x}<br>dim_1_norm=%{y}<br>dim_2_norm=%{z}<extra></extra>",
           "legendgroup": "",
           "marker": {
            "color": "#636efa",
            "symbol": "circle"
           },
           "mode": "markers",
           "name": "",
           "scene": "scene",
           "showlegend": false,
           "type": "scatter3d",
           "x": [
            0.6664581298828125
           ],
           "y": [
            -0.8336026668548584
           ],
           "z": [
            -0.014485955238342285
           ]
          }
         ],
         "name": "37"
        },
        {
         "data": [
          {
           "hovertemplate": "timestep=38<br>dim_0_norm=%{x}<br>dim_1_norm=%{y}<br>dim_2_norm=%{z}<extra></extra>",
           "legendgroup": "",
           "marker": {
            "color": "#636efa",
            "symbol": "circle"
           },
           "mode": "markers",
           "name": "",
           "scene": "scene",
           "showlegend": false,
           "type": "scatter3d",
           "x": [
            0.647308349609375
           ],
           "y": [
            -0.8307250738143921
           ],
           "z": [
            -0.16473984718322754
           ]
          }
         ],
         "name": "38"
        },
        {
         "data": [
          {
           "hovertemplate": "timestep=39<br>dim_0_norm=%{x}<br>dim_1_norm=%{y}<br>dim_2_norm=%{z}<extra></extra>",
           "legendgroup": "",
           "marker": {
            "color": "#636efa",
            "symbol": "circle"
           },
           "mode": "markers",
           "name": "",
           "scene": "scene",
           "showlegend": false,
           "type": "scatter3d",
           "x": [
            0.7576637268066406
           ],
           "y": [
            -0.6546859741210938
           ],
           "z": [
            -0.593574583530426
           ]
          }
         ],
         "name": "39"
        },
        {
         "data": [
          {
           "hovertemplate": "timestep=40<br>dim_0_norm=%{x}<br>dim_1_norm=%{y}<br>dim_2_norm=%{z}<extra></extra>",
           "legendgroup": "",
           "marker": {
            "color": "#636efa",
            "symbol": "circle"
           },
           "mode": "markers",
           "name": "",
           "scene": "scene",
           "showlegend": false,
           "type": "scatter3d",
           "x": [
            0.5610867738723755
           ],
           "y": [
            -0.37952613830566406
           ],
           "z": [
            -0.7113134860992432
           ]
          }
         ],
         "name": "40"
        },
        {
         "data": [
          {
           "hovertemplate": "timestep=41<br>dim_0_norm=%{x}<br>dim_1_norm=%{y}<br>dim_2_norm=%{z}<extra></extra>",
           "legendgroup": "",
           "marker": {
            "color": "#636efa",
            "symbol": "circle"
           },
           "mode": "markers",
           "name": "",
           "scene": "scene",
           "showlegend": false,
           "type": "scatter3d",
           "x": [
            0.46301746368408203
           ],
           "y": [
            -0.17579489946365356
           ],
           "z": [
            -0.8043468594551086
           ]
          }
         ],
         "name": "41"
        },
        {
         "data": [
          {
           "hovertemplate": "timestep=42<br>dim_0_norm=%{x}<br>dim_1_norm=%{y}<br>dim_2_norm=%{z}<extra></extra>",
           "legendgroup": "",
           "marker": {
            "color": "#636efa",
            "symbol": "circle"
           },
           "mode": "markers",
           "name": "",
           "scene": "scene",
           "showlegend": false,
           "type": "scatter3d",
           "x": [
            0.43861937522888184
           ],
           "y": [
            -0.12280291318893433
           ],
           "z": [
            -0.792248547077179
           ]
          }
         ],
         "name": "42"
        },
        {
         "data": [
          {
           "hovertemplate": "timestep=43<br>dim_0_norm=%{x}<br>dim_1_norm=%{y}<br>dim_2_norm=%{z}<extra></extra>",
           "legendgroup": "",
           "marker": {
            "color": "#636efa",
            "symbol": "circle"
           },
           "mode": "markers",
           "name": "",
           "scene": "scene",
           "showlegend": false,
           "type": "scatter3d",
           "x": [
            0.4294072389602661
           ],
           "y": [
            -0.08072119951248169
           ],
           "z": [
            -0.7744668126106262
           ]
          }
         ],
         "name": "43"
        },
        {
         "data": [
          {
           "hovertemplate": "timestep=44<br>dim_0_norm=%{x}<br>dim_1_norm=%{y}<br>dim_2_norm=%{z}<extra></extra>",
           "legendgroup": "",
           "marker": {
            "color": "#636efa",
            "symbol": "circle"
           },
           "mode": "markers",
           "name": "",
           "scene": "scene",
           "showlegend": false,
           "type": "scatter3d",
           "x": [
            0.41927409172058105
           ],
           "y": [
            -0.13977795839309692
           ],
           "z": [
            -0.74556964635849
           ]
          }
         ],
         "name": "44"
        },
        {
         "data": [
          {
           "hovertemplate": "timestep=45<br>dim_0_norm=%{x}<br>dim_1_norm=%{y}<br>dim_2_norm=%{z}<extra></extra>",
           "legendgroup": "",
           "marker": {
            "color": "#636efa",
            "symbol": "circle"
           },
           "mode": "markers",
           "name": "",
           "scene": "scene",
           "showlegend": false,
           "type": "scatter3d",
           "x": [
            0.4608008861541748
           ],
           "y": [
            -0.1719977855682373
           ],
           "z": [
            -0.7132776379585266
           ]
          }
         ],
         "name": "45"
        },
        {
         "data": [
          {
           "hovertemplate": "timestep=46<br>dim_0_norm=%{x}<br>dim_1_norm=%{y}<br>dim_2_norm=%{z}<extra></extra>",
           "legendgroup": "",
           "marker": {
            "color": "#636efa",
            "symbol": "circle"
           },
           "mode": "markers",
           "name": "",
           "scene": "scene",
           "showlegend": false,
           "type": "scatter3d",
           "x": [
            0.46012580394744873
           ],
           "y": [
            -0.1755416989326477
           ],
           "z": [
            -0.7149747610092163
           ]
          }
         ],
         "name": "46"
        },
        {
         "data": [
          {
           "hovertemplate": "timestep=47<br>dim_0_norm=%{x}<br>dim_1_norm=%{y}<br>dim_2_norm=%{z}<extra></extra>",
           "legendgroup": "",
           "marker": {
            "color": "#636efa",
            "symbol": "circle"
           },
           "mode": "markers",
           "name": "",
           "scene": "scene",
           "showlegend": false,
           "type": "scatter3d",
           "x": [
            0.44473087787628174
           ],
           "y": [
            -0.1694561243057251
           ],
           "z": [
            -0.7165012359619141
           ]
          }
         ],
         "name": "47"
        },
        {
         "data": [
          {
           "hovertemplate": "timestep=48<br>dim_0_norm=%{x}<br>dim_1_norm=%{y}<br>dim_2_norm=%{z}<extra></extra>",
           "legendgroup": "",
           "marker": {
            "color": "#636efa",
            "symbol": "circle"
           },
           "mode": "markers",
           "name": "",
           "scene": "scene",
           "showlegend": false,
           "type": "scatter3d",
           "x": [
            0.43098342418670654
           ],
           "y": [
            -0.2287711501121521
           ],
           "z": [
            -0.695632815361023
           ]
          }
         ],
         "name": "48"
        },
        {
         "data": [
          {
           "hovertemplate": "timestep=49<br>dim_0_norm=%{x}<br>dim_1_norm=%{y}<br>dim_2_norm=%{z}<extra></extra>",
           "legendgroup": "",
           "marker": {
            "color": "#636efa",
            "symbol": "circle"
           },
           "mode": "markers",
           "name": "",
           "scene": "scene",
           "showlegend": false,
           "type": "scatter3d",
           "x": [
            0.40887176990509033
           ],
           "y": [
            -0.24304848909378052
           ],
           "z": [
            -0.7184815406799316
           ]
          }
         ],
         "name": "49"
        },
        {
         "data": [
          {
           "hovertemplate": "timestep=50<br>dim_0_norm=%{x}<br>dim_1_norm=%{y}<br>dim_2_norm=%{z}<extra></extra>",
           "legendgroup": "",
           "marker": {
            "color": "#636efa",
            "symbol": "circle"
           },
           "mode": "markers",
           "name": "",
           "scene": "scene",
           "showlegend": false,
           "type": "scatter3d",
           "x": [
            0.35813426971435547
           ],
           "y": [
            -0.32937973737716675
           ],
           "z": [
            -0.7193374633789062
           ]
          }
         ],
         "name": "50"
        },
        {
         "data": [
          {
           "hovertemplate": "timestep=51<br>dim_0_norm=%{x}<br>dim_1_norm=%{y}<br>dim_2_norm=%{z}<extra></extra>",
           "legendgroup": "",
           "marker": {
            "color": "#636efa",
            "symbol": "circle"
           },
           "mode": "markers",
           "name": "",
           "scene": "scene",
           "showlegend": false,
           "type": "scatter3d",
           "x": [
            0.3471599817276001
           ],
           "y": [
            -0.38441532850265503
           ],
           "z": [
            -0.7078378796577454
           ]
          }
         ],
         "name": "51"
        },
        {
         "data": [
          {
           "hovertemplate": "timestep=52<br>dim_0_norm=%{x}<br>dim_1_norm=%{y}<br>dim_2_norm=%{z}<extra></extra>",
           "legendgroup": "",
           "marker": {
            "color": "#636efa",
            "symbol": "circle"
           },
           "mode": "markers",
           "name": "",
           "scene": "scene",
           "showlegend": false,
           "type": "scatter3d",
           "x": [
            0.16246473789215088
           ],
           "y": [
            -0.5038498640060425
           ],
           "z": [
            -0.37391382455825806
           ]
          }
         ],
         "name": "52"
        },
        {
         "data": [
          {
           "hovertemplate": "timestep=53<br>dim_0_norm=%{x}<br>dim_1_norm=%{y}<br>dim_2_norm=%{z}<extra></extra>",
           "legendgroup": "",
           "marker": {
            "color": "#636efa",
            "symbol": "circle"
           },
           "mode": "markers",
           "name": "",
           "scene": "scene",
           "showlegend": false,
           "type": "scatter3d",
           "x": [
            0.19812226295471191
           ],
           "y": [
            -0.7313358783721924
           ],
           "z": [
            -0.491965115070343
           ]
          }
         ],
         "name": "53"
        },
        {
         "data": [
          {
           "hovertemplate": "timestep=54<br>dim_0_norm=%{x}<br>dim_1_norm=%{y}<br>dim_2_norm=%{z}<extra></extra>",
           "legendgroup": "",
           "marker": {
            "color": "#636efa",
            "symbol": "circle"
           },
           "mode": "markers",
           "name": "",
           "scene": "scene",
           "showlegend": false,
           "type": "scatter3d",
           "x": [
            0.3910651206970215
           ],
           "y": [
            -0.727903425693512
           ],
           "z": [
            -0.4518205523490906
           ]
          }
         ],
         "name": "54"
        },
        {
         "data": [
          {
           "hovertemplate": "timestep=55<br>dim_0_norm=%{x}<br>dim_1_norm=%{y}<br>dim_2_norm=%{z}<extra></extra>",
           "legendgroup": "",
           "marker": {
            "color": "#636efa",
            "symbol": "circle"
           },
           "mode": "markers",
           "name": "",
           "scene": "scene",
           "showlegend": false,
           "type": "scatter3d",
           "x": [
            0.2470637559890747
           ],
           "y": [
            -0.8209478259086609
           ],
           "z": [
            -0.6934216022491455
           ]
          }
         ],
         "name": "55"
        },
        {
         "data": [
          {
           "hovertemplate": "timestep=56<br>dim_0_norm=%{x}<br>dim_1_norm=%{y}<br>dim_2_norm=%{z}<extra></extra>",
           "legendgroup": "",
           "marker": {
            "color": "#636efa",
            "symbol": "circle"
           },
           "mode": "markers",
           "name": "",
           "scene": "scene",
           "showlegend": false,
           "type": "scatter3d",
           "x": [
            0.435321569442749
           ],
           "y": [
            -0.7447448968887329
           ],
           "z": [
            -0.6045030951499939
           ]
          }
         ],
         "name": "56"
        },
        {
         "data": [
          {
           "hovertemplate": "timestep=57<br>dim_0_norm=%{x}<br>dim_1_norm=%{y}<br>dim_2_norm=%{z}<extra></extra>",
           "legendgroup": "",
           "marker": {
            "color": "#636efa",
            "symbol": "circle"
           },
           "mode": "markers",
           "name": "",
           "scene": "scene",
           "showlegend": false,
           "type": "scatter3d",
           "x": [
            0.48274028301239014
           ],
           "y": [
            -0.7178597450256348
           ],
           "z": [
            -0.584977388381958
           ]
          }
         ],
         "name": "57"
        },
        {
         "data": [
          {
           "hovertemplate": "timestep=58<br>dim_0_norm=%{x}<br>dim_1_norm=%{y}<br>dim_2_norm=%{z}<extra></extra>",
           "legendgroup": "",
           "marker": {
            "color": "#636efa",
            "symbol": "circle"
           },
           "mode": "markers",
           "name": "",
           "scene": "scene",
           "showlegend": false,
           "type": "scatter3d",
           "x": [
            0.30703139305114746
           ],
           "y": [
            -0.7117049694061279
           ],
           "z": [
            -0.9834746718406677
           ]
          }
         ],
         "name": "58"
        },
        {
         "data": [
          {
           "hovertemplate": "timestep=59<br>dim_0_norm=%{x}<br>dim_1_norm=%{y}<br>dim_2_norm=%{z}<extra></extra>",
           "legendgroup": "",
           "marker": {
            "color": "#636efa",
            "symbol": "circle"
           },
           "mode": "markers",
           "name": "",
           "scene": "scene",
           "showlegend": false,
           "type": "scatter3d",
           "x": [
            -0.03715139627456665
           ],
           "y": [
            -0.49071675539016724
           ],
           "z": [
            -0.8186675906181335
           ]
          }
         ],
         "name": "59"
        },
        {
         "data": [
          {
           "hovertemplate": "timestep=60<br>dim_0_norm=%{x}<br>dim_1_norm=%{y}<br>dim_2_norm=%{z}<extra></extra>",
           "legendgroup": "",
           "marker": {
            "color": "#636efa",
            "symbol": "circle"
           },
           "mode": "markers",
           "name": "",
           "scene": "scene",
           "showlegend": false,
           "type": "scatter3d",
           "x": [
            0.2534524202346802
           ],
           "y": [
            -0.603928804397583
           ],
           "z": [
            -0.6941729784011841
           ]
          }
         ],
         "name": "60"
        },
        {
         "data": [
          {
           "hovertemplate": "timestep=61<br>dim_0_norm=%{x}<br>dim_1_norm=%{y}<br>dim_2_norm=%{z}<extra></extra>",
           "legendgroup": "",
           "marker": {
            "color": "#636efa",
            "symbol": "circle"
           },
           "mode": "markers",
           "name": "",
           "scene": "scene",
           "showlegend": false,
           "type": "scatter3d",
           "x": [
            0.27198898792266846
           ],
           "y": [
            -0.696898877620697
           ],
           "z": [
            -0.7561988234519958
           ]
          }
         ],
         "name": "61"
        },
        {
         "data": [
          {
           "hovertemplate": "timestep=62<br>dim_0_norm=%{x}<br>dim_1_norm=%{y}<br>dim_2_norm=%{z}<extra></extra>",
           "legendgroup": "",
           "marker": {
            "color": "#636efa",
            "symbol": "circle"
           },
           "mode": "markers",
           "name": "",
           "scene": "scene",
           "showlegend": false,
           "type": "scatter3d",
           "x": [
            0.41134464740753174
           ],
           "y": [
            -0.6402614116668701
           ],
           "z": [
            -0.6700406074523926
           ]
          }
         ],
         "name": "62"
        },
        {
         "data": [
          {
           "hovertemplate": "timestep=63<br>dim_0_norm=%{x}<br>dim_1_norm=%{y}<br>dim_2_norm=%{z}<extra></extra>",
           "legendgroup": "",
           "marker": {
            "color": "#636efa",
            "symbol": "circle"
           },
           "mode": "markers",
           "name": "",
           "scene": "scene",
           "showlegend": false,
           "type": "scatter3d",
           "x": [
            0.4738891124725342
           ],
           "y": [
            -0.6979780197143555
           ],
           "z": [
            -0.5995572209358215
           ]
          }
         ],
         "name": "63"
        },
        {
         "data": [
          {
           "hovertemplate": "timestep=64<br>dim_0_norm=%{x}<br>dim_1_norm=%{y}<br>dim_2_norm=%{z}<extra></extra>",
           "legendgroup": "",
           "marker": {
            "color": "#636efa",
            "symbol": "circle"
           },
           "mode": "markers",
           "name": "",
           "scene": "scene",
           "showlegend": false,
           "type": "scatter3d",
           "x": [
            0.03220319747924805
           ],
           "y": [
            -1
           ],
           "z": [
            -0.8302138447761536
           ]
          }
         ],
         "name": "64"
        },
        {
         "data": [
          {
           "hovertemplate": "timestep=65<br>dim_0_norm=%{x}<br>dim_1_norm=%{y}<br>dim_2_norm=%{z}<extra></extra>",
           "legendgroup": "",
           "marker": {
            "color": "#636efa",
            "symbol": "circle"
           },
           "mode": "markers",
           "name": "",
           "scene": "scene",
           "showlegend": false,
           "type": "scatter3d",
           "x": [
            0.17589199542999268
           ],
           "y": [
            -0.9249262809753418
           ],
           "z": [
            -0.8395905494689941
           ]
          }
         ],
         "name": "65"
        },
        {
         "data": [
          {
           "hovertemplate": "timestep=66<br>dim_0_norm=%{x}<br>dim_1_norm=%{y}<br>dim_2_norm=%{z}<extra></extra>",
           "legendgroup": "",
           "marker": {
            "color": "#636efa",
            "symbol": "circle"
           },
           "mode": "markers",
           "name": "",
           "scene": "scene",
           "showlegend": false,
           "type": "scatter3d",
           "x": [
            -0.03423607349395752
           ],
           "y": [
            -0.9791727066040039
           ],
           "z": [
            -0.9103805422782898
           ]
          }
         ],
         "name": "66"
        },
        {
         "data": [
          {
           "hovertemplate": "timestep=67<br>dim_0_norm=%{x}<br>dim_1_norm=%{y}<br>dim_2_norm=%{z}<extra></extra>",
           "legendgroup": "",
           "marker": {
            "color": "#636efa",
            "symbol": "circle"
           },
           "mode": "markers",
           "name": "",
           "scene": "scene",
           "showlegend": false,
           "type": "scatter3d",
           "x": [
            0.43239641189575195
           ],
           "y": [
            -0.7666364908218384
           ],
           "z": [
            -1
           ]
          }
         ],
         "name": "67"
        },
        {
         "data": [
          {
           "hovertemplate": "timestep=68<br>dim_0_norm=%{x}<br>dim_1_norm=%{y}<br>dim_2_norm=%{z}<extra></extra>",
           "legendgroup": "",
           "marker": {
            "color": "#636efa",
            "symbol": "circle"
           },
           "mode": "markers",
           "name": "",
           "scene": "scene",
           "showlegend": false,
           "type": "scatter3d",
           "x": [
            -0.18637031316757202
           ],
           "y": [
            -0.7849298119544983
           ],
           "z": [
            -0.776227593421936
           ]
          }
         ],
         "name": "68"
        }
       ],
       "layout": {
        "legend": {
         "bordercolor": "Black",
         "borderwidth": 1,
         "font": {
          "color": "black",
          "family": "Times New Roman",
          "size": 36
         },
         "itemsizing": "constant",
         "title": {
          "font": {
           "family": "Times New Roman"
          },
          "text": "Phone"
         },
         "tracegroupgap": 0,
         "x": 0,
         "y": 1
        },
        "margin": {
         "b": 0,
         "l": 0,
         "r": 0,
         "t": 0
        },
        "scene": {
         "camera": {
          "eye": {
           "x": 0,
           "y": 0,
           "z": 2.5
          }
         },
         "domain": {
          "x": [
           0,
           1
          ],
          "y": [
           0,
           1
          ]
         },
         "xaxis": {
          "nticks": 8,
          "range": [
           -1,
           1
          ],
          "title": {
           "text": "dim_0_norm"
          }
         },
         "yaxis": {
          "nticks": 8,
          "range": [
           -1,
           1
          ],
          "title": {
           "text": "dim_1_norm"
          }
         },
         "zaxis": {
          "nticks": 8,
          "range": [
           -1,
           1
          ],
          "title": {
           "text": "dim_2_norm"
          }
         }
        },
        "sliders": [
         {
          "active": 0,
          "currentvalue": {
           "prefix": "timestep="
          },
          "len": 0.9,
          "pad": {
           "b": 10,
           "t": 60
          },
          "steps": [
           {
            "args": [
             [
              "0"
             ],
             {
              "frame": {
               "duration": 0,
               "redraw": true
              },
              "fromcurrent": true,
              "mode": "immediate",
              "transition": {
               "duration": 0,
               "easing": "linear"
              }
             }
            ],
            "label": "0",
            "method": "animate"
           },
           {
            "args": [
             [
              "1"
             ],
             {
              "frame": {
               "duration": 0,
               "redraw": true
              },
              "fromcurrent": true,
              "mode": "immediate",
              "transition": {
               "duration": 0,
               "easing": "linear"
              }
             }
            ],
            "label": "1",
            "method": "animate"
           },
           {
            "args": [
             [
              "2"
             ],
             {
              "frame": {
               "duration": 0,
               "redraw": true
              },
              "fromcurrent": true,
              "mode": "immediate",
              "transition": {
               "duration": 0,
               "easing": "linear"
              }
             }
            ],
            "label": "2",
            "method": "animate"
           },
           {
            "args": [
             [
              "3"
             ],
             {
              "frame": {
               "duration": 0,
               "redraw": true
              },
              "fromcurrent": true,
              "mode": "immediate",
              "transition": {
               "duration": 0,
               "easing": "linear"
              }
             }
            ],
            "label": "3",
            "method": "animate"
           },
           {
            "args": [
             [
              "4"
             ],
             {
              "frame": {
               "duration": 0,
               "redraw": true
              },
              "fromcurrent": true,
              "mode": "immediate",
              "transition": {
               "duration": 0,
               "easing": "linear"
              }
             }
            ],
            "label": "4",
            "method": "animate"
           },
           {
            "args": [
             [
              "5"
             ],
             {
              "frame": {
               "duration": 0,
               "redraw": true
              },
              "fromcurrent": true,
              "mode": "immediate",
              "transition": {
               "duration": 0,
               "easing": "linear"
              }
             }
            ],
            "label": "5",
            "method": "animate"
           },
           {
            "args": [
             [
              "6"
             ],
             {
              "frame": {
               "duration": 0,
               "redraw": true
              },
              "fromcurrent": true,
              "mode": "immediate",
              "transition": {
               "duration": 0,
               "easing": "linear"
              }
             }
            ],
            "label": "6",
            "method": "animate"
           },
           {
            "args": [
             [
              "7"
             ],
             {
              "frame": {
               "duration": 0,
               "redraw": true
              },
              "fromcurrent": true,
              "mode": "immediate",
              "transition": {
               "duration": 0,
               "easing": "linear"
              }
             }
            ],
            "label": "7",
            "method": "animate"
           },
           {
            "args": [
             [
              "8"
             ],
             {
              "frame": {
               "duration": 0,
               "redraw": true
              },
              "fromcurrent": true,
              "mode": "immediate",
              "transition": {
               "duration": 0,
               "easing": "linear"
              }
             }
            ],
            "label": "8",
            "method": "animate"
           },
           {
            "args": [
             [
              "9"
             ],
             {
              "frame": {
               "duration": 0,
               "redraw": true
              },
              "fromcurrent": true,
              "mode": "immediate",
              "transition": {
               "duration": 0,
               "easing": "linear"
              }
             }
            ],
            "label": "9",
            "method": "animate"
           },
           {
            "args": [
             [
              "10"
             ],
             {
              "frame": {
               "duration": 0,
               "redraw": true
              },
              "fromcurrent": true,
              "mode": "immediate",
              "transition": {
               "duration": 0,
               "easing": "linear"
              }
             }
            ],
            "label": "10",
            "method": "animate"
           },
           {
            "args": [
             [
              "11"
             ],
             {
              "frame": {
               "duration": 0,
               "redraw": true
              },
              "fromcurrent": true,
              "mode": "immediate",
              "transition": {
               "duration": 0,
               "easing": "linear"
              }
             }
            ],
            "label": "11",
            "method": "animate"
           },
           {
            "args": [
             [
              "12"
             ],
             {
              "frame": {
               "duration": 0,
               "redraw": true
              },
              "fromcurrent": true,
              "mode": "immediate",
              "transition": {
               "duration": 0,
               "easing": "linear"
              }
             }
            ],
            "label": "12",
            "method": "animate"
           },
           {
            "args": [
             [
              "13"
             ],
             {
              "frame": {
               "duration": 0,
               "redraw": true
              },
              "fromcurrent": true,
              "mode": "immediate",
              "transition": {
               "duration": 0,
               "easing": "linear"
              }
             }
            ],
            "label": "13",
            "method": "animate"
           },
           {
            "args": [
             [
              "14"
             ],
             {
              "frame": {
               "duration": 0,
               "redraw": true
              },
              "fromcurrent": true,
              "mode": "immediate",
              "transition": {
               "duration": 0,
               "easing": "linear"
              }
             }
            ],
            "label": "14",
            "method": "animate"
           },
           {
            "args": [
             [
              "15"
             ],
             {
              "frame": {
               "duration": 0,
               "redraw": true
              },
              "fromcurrent": true,
              "mode": "immediate",
              "transition": {
               "duration": 0,
               "easing": "linear"
              }
             }
            ],
            "label": "15",
            "method": "animate"
           },
           {
            "args": [
             [
              "16"
             ],
             {
              "frame": {
               "duration": 0,
               "redraw": true
              },
              "fromcurrent": true,
              "mode": "immediate",
              "transition": {
               "duration": 0,
               "easing": "linear"
              }
             }
            ],
            "label": "16",
            "method": "animate"
           },
           {
            "args": [
             [
              "17"
             ],
             {
              "frame": {
               "duration": 0,
               "redraw": true
              },
              "fromcurrent": true,
              "mode": "immediate",
              "transition": {
               "duration": 0,
               "easing": "linear"
              }
             }
            ],
            "label": "17",
            "method": "animate"
           },
           {
            "args": [
             [
              "18"
             ],
             {
              "frame": {
               "duration": 0,
               "redraw": true
              },
              "fromcurrent": true,
              "mode": "immediate",
              "transition": {
               "duration": 0,
               "easing": "linear"
              }
             }
            ],
            "label": "18",
            "method": "animate"
           },
           {
            "args": [
             [
              "19"
             ],
             {
              "frame": {
               "duration": 0,
               "redraw": true
              },
              "fromcurrent": true,
              "mode": "immediate",
              "transition": {
               "duration": 0,
               "easing": "linear"
              }
             }
            ],
            "label": "19",
            "method": "animate"
           },
           {
            "args": [
             [
              "20"
             ],
             {
              "frame": {
               "duration": 0,
               "redraw": true
              },
              "fromcurrent": true,
              "mode": "immediate",
              "transition": {
               "duration": 0,
               "easing": "linear"
              }
             }
            ],
            "label": "20",
            "method": "animate"
           },
           {
            "args": [
             [
              "21"
             ],
             {
              "frame": {
               "duration": 0,
               "redraw": true
              },
              "fromcurrent": true,
              "mode": "immediate",
              "transition": {
               "duration": 0,
               "easing": "linear"
              }
             }
            ],
            "label": "21",
            "method": "animate"
           },
           {
            "args": [
             [
              "22"
             ],
             {
              "frame": {
               "duration": 0,
               "redraw": true
              },
              "fromcurrent": true,
              "mode": "immediate",
              "transition": {
               "duration": 0,
               "easing": "linear"
              }
             }
            ],
            "label": "22",
            "method": "animate"
           },
           {
            "args": [
             [
              "23"
             ],
             {
              "frame": {
               "duration": 0,
               "redraw": true
              },
              "fromcurrent": true,
              "mode": "immediate",
              "transition": {
               "duration": 0,
               "easing": "linear"
              }
             }
            ],
            "label": "23",
            "method": "animate"
           },
           {
            "args": [
             [
              "24"
             ],
             {
              "frame": {
               "duration": 0,
               "redraw": true
              },
              "fromcurrent": true,
              "mode": "immediate",
              "transition": {
               "duration": 0,
               "easing": "linear"
              }
             }
            ],
            "label": "24",
            "method": "animate"
           },
           {
            "args": [
             [
              "25"
             ],
             {
              "frame": {
               "duration": 0,
               "redraw": true
              },
              "fromcurrent": true,
              "mode": "immediate",
              "transition": {
               "duration": 0,
               "easing": "linear"
              }
             }
            ],
            "label": "25",
            "method": "animate"
           },
           {
            "args": [
             [
              "26"
             ],
             {
              "frame": {
               "duration": 0,
               "redraw": true
              },
              "fromcurrent": true,
              "mode": "immediate",
              "transition": {
               "duration": 0,
               "easing": "linear"
              }
             }
            ],
            "label": "26",
            "method": "animate"
           },
           {
            "args": [
             [
              "27"
             ],
             {
              "frame": {
               "duration": 0,
               "redraw": true
              },
              "fromcurrent": true,
              "mode": "immediate",
              "transition": {
               "duration": 0,
               "easing": "linear"
              }
             }
            ],
            "label": "27",
            "method": "animate"
           },
           {
            "args": [
             [
              "28"
             ],
             {
              "frame": {
               "duration": 0,
               "redraw": true
              },
              "fromcurrent": true,
              "mode": "immediate",
              "transition": {
               "duration": 0,
               "easing": "linear"
              }
             }
            ],
            "label": "28",
            "method": "animate"
           },
           {
            "args": [
             [
              "29"
             ],
             {
              "frame": {
               "duration": 0,
               "redraw": true
              },
              "fromcurrent": true,
              "mode": "immediate",
              "transition": {
               "duration": 0,
               "easing": "linear"
              }
             }
            ],
            "label": "29",
            "method": "animate"
           },
           {
            "args": [
             [
              "30"
             ],
             {
              "frame": {
               "duration": 0,
               "redraw": true
              },
              "fromcurrent": true,
              "mode": "immediate",
              "transition": {
               "duration": 0,
               "easing": "linear"
              }
             }
            ],
            "label": "30",
            "method": "animate"
           },
           {
            "args": [
             [
              "31"
             ],
             {
              "frame": {
               "duration": 0,
               "redraw": true
              },
              "fromcurrent": true,
              "mode": "immediate",
              "transition": {
               "duration": 0,
               "easing": "linear"
              }
             }
            ],
            "label": "31",
            "method": "animate"
           },
           {
            "args": [
             [
              "32"
             ],
             {
              "frame": {
               "duration": 0,
               "redraw": true
              },
              "fromcurrent": true,
              "mode": "immediate",
              "transition": {
               "duration": 0,
               "easing": "linear"
              }
             }
            ],
            "label": "32",
            "method": "animate"
           },
           {
            "args": [
             [
              "33"
             ],
             {
              "frame": {
               "duration": 0,
               "redraw": true
              },
              "fromcurrent": true,
              "mode": "immediate",
              "transition": {
               "duration": 0,
               "easing": "linear"
              }
             }
            ],
            "label": "33",
            "method": "animate"
           },
           {
            "args": [
             [
              "34"
             ],
             {
              "frame": {
               "duration": 0,
               "redraw": true
              },
              "fromcurrent": true,
              "mode": "immediate",
              "transition": {
               "duration": 0,
               "easing": "linear"
              }
             }
            ],
            "label": "34",
            "method": "animate"
           },
           {
            "args": [
             [
              "35"
             ],
             {
              "frame": {
               "duration": 0,
               "redraw": true
              },
              "fromcurrent": true,
              "mode": "immediate",
              "transition": {
               "duration": 0,
               "easing": "linear"
              }
             }
            ],
            "label": "35",
            "method": "animate"
           },
           {
            "args": [
             [
              "36"
             ],
             {
              "frame": {
               "duration": 0,
               "redraw": true
              },
              "fromcurrent": true,
              "mode": "immediate",
              "transition": {
               "duration": 0,
               "easing": "linear"
              }
             }
            ],
            "label": "36",
            "method": "animate"
           },
           {
            "args": [
             [
              "37"
             ],
             {
              "frame": {
               "duration": 0,
               "redraw": true
              },
              "fromcurrent": true,
              "mode": "immediate",
              "transition": {
               "duration": 0,
               "easing": "linear"
              }
             }
            ],
            "label": "37",
            "method": "animate"
           },
           {
            "args": [
             [
              "38"
             ],
             {
              "frame": {
               "duration": 0,
               "redraw": true
              },
              "fromcurrent": true,
              "mode": "immediate",
              "transition": {
               "duration": 0,
               "easing": "linear"
              }
             }
            ],
            "label": "38",
            "method": "animate"
           },
           {
            "args": [
             [
              "39"
             ],
             {
              "frame": {
               "duration": 0,
               "redraw": true
              },
              "fromcurrent": true,
              "mode": "immediate",
              "transition": {
               "duration": 0,
               "easing": "linear"
              }
             }
            ],
            "label": "39",
            "method": "animate"
           },
           {
            "args": [
             [
              "40"
             ],
             {
              "frame": {
               "duration": 0,
               "redraw": true
              },
              "fromcurrent": true,
              "mode": "immediate",
              "transition": {
               "duration": 0,
               "easing": "linear"
              }
             }
            ],
            "label": "40",
            "method": "animate"
           },
           {
            "args": [
             [
              "41"
             ],
             {
              "frame": {
               "duration": 0,
               "redraw": true
              },
              "fromcurrent": true,
              "mode": "immediate",
              "transition": {
               "duration": 0,
               "easing": "linear"
              }
             }
            ],
            "label": "41",
            "method": "animate"
           },
           {
            "args": [
             [
              "42"
             ],
             {
              "frame": {
               "duration": 0,
               "redraw": true
              },
              "fromcurrent": true,
              "mode": "immediate",
              "transition": {
               "duration": 0,
               "easing": "linear"
              }
             }
            ],
            "label": "42",
            "method": "animate"
           },
           {
            "args": [
             [
              "43"
             ],
             {
              "frame": {
               "duration": 0,
               "redraw": true
              },
              "fromcurrent": true,
              "mode": "immediate",
              "transition": {
               "duration": 0,
               "easing": "linear"
              }
             }
            ],
            "label": "43",
            "method": "animate"
           },
           {
            "args": [
             [
              "44"
             ],
             {
              "frame": {
               "duration": 0,
               "redraw": true
              },
              "fromcurrent": true,
              "mode": "immediate",
              "transition": {
               "duration": 0,
               "easing": "linear"
              }
             }
            ],
            "label": "44",
            "method": "animate"
           },
           {
            "args": [
             [
              "45"
             ],
             {
              "frame": {
               "duration": 0,
               "redraw": true
              },
              "fromcurrent": true,
              "mode": "immediate",
              "transition": {
               "duration": 0,
               "easing": "linear"
              }
             }
            ],
            "label": "45",
            "method": "animate"
           },
           {
            "args": [
             [
              "46"
             ],
             {
              "frame": {
               "duration": 0,
               "redraw": true
              },
              "fromcurrent": true,
              "mode": "immediate",
              "transition": {
               "duration": 0,
               "easing": "linear"
              }
             }
            ],
            "label": "46",
            "method": "animate"
           },
           {
            "args": [
             [
              "47"
             ],
             {
              "frame": {
               "duration": 0,
               "redraw": true
              },
              "fromcurrent": true,
              "mode": "immediate",
              "transition": {
               "duration": 0,
               "easing": "linear"
              }
             }
            ],
            "label": "47",
            "method": "animate"
           },
           {
            "args": [
             [
              "48"
             ],
             {
              "frame": {
               "duration": 0,
               "redraw": true
              },
              "fromcurrent": true,
              "mode": "immediate",
              "transition": {
               "duration": 0,
               "easing": "linear"
              }
             }
            ],
            "label": "48",
            "method": "animate"
           },
           {
            "args": [
             [
              "49"
             ],
             {
              "frame": {
               "duration": 0,
               "redraw": true
              },
              "fromcurrent": true,
              "mode": "immediate",
              "transition": {
               "duration": 0,
               "easing": "linear"
              }
             }
            ],
            "label": "49",
            "method": "animate"
           },
           {
            "args": [
             [
              "50"
             ],
             {
              "frame": {
               "duration": 0,
               "redraw": true
              },
              "fromcurrent": true,
              "mode": "immediate",
              "transition": {
               "duration": 0,
               "easing": "linear"
              }
             }
            ],
            "label": "50",
            "method": "animate"
           },
           {
            "args": [
             [
              "51"
             ],
             {
              "frame": {
               "duration": 0,
               "redraw": true
              },
              "fromcurrent": true,
              "mode": "immediate",
              "transition": {
               "duration": 0,
               "easing": "linear"
              }
             }
            ],
            "label": "51",
            "method": "animate"
           },
           {
            "args": [
             [
              "52"
             ],
             {
              "frame": {
               "duration": 0,
               "redraw": true
              },
              "fromcurrent": true,
              "mode": "immediate",
              "transition": {
               "duration": 0,
               "easing": "linear"
              }
             }
            ],
            "label": "52",
            "method": "animate"
           },
           {
            "args": [
             [
              "53"
             ],
             {
              "frame": {
               "duration": 0,
               "redraw": true
              },
              "fromcurrent": true,
              "mode": "immediate",
              "transition": {
               "duration": 0,
               "easing": "linear"
              }
             }
            ],
            "label": "53",
            "method": "animate"
           },
           {
            "args": [
             [
              "54"
             ],
             {
              "frame": {
               "duration": 0,
               "redraw": true
              },
              "fromcurrent": true,
              "mode": "immediate",
              "transition": {
               "duration": 0,
               "easing": "linear"
              }
             }
            ],
            "label": "54",
            "method": "animate"
           },
           {
            "args": [
             [
              "55"
             ],
             {
              "frame": {
               "duration": 0,
               "redraw": true
              },
              "fromcurrent": true,
              "mode": "immediate",
              "transition": {
               "duration": 0,
               "easing": "linear"
              }
             }
            ],
            "label": "55",
            "method": "animate"
           },
           {
            "args": [
             [
              "56"
             ],
             {
              "frame": {
               "duration": 0,
               "redraw": true
              },
              "fromcurrent": true,
              "mode": "immediate",
              "transition": {
               "duration": 0,
               "easing": "linear"
              }
             }
            ],
            "label": "56",
            "method": "animate"
           },
           {
            "args": [
             [
              "57"
             ],
             {
              "frame": {
               "duration": 0,
               "redraw": true
              },
              "fromcurrent": true,
              "mode": "immediate",
              "transition": {
               "duration": 0,
               "easing": "linear"
              }
             }
            ],
            "label": "57",
            "method": "animate"
           },
           {
            "args": [
             [
              "58"
             ],
             {
              "frame": {
               "duration": 0,
               "redraw": true
              },
              "fromcurrent": true,
              "mode": "immediate",
              "transition": {
               "duration": 0,
               "easing": "linear"
              }
             }
            ],
            "label": "58",
            "method": "animate"
           },
           {
            "args": [
             [
              "59"
             ],
             {
              "frame": {
               "duration": 0,
               "redraw": true
              },
              "fromcurrent": true,
              "mode": "immediate",
              "transition": {
               "duration": 0,
               "easing": "linear"
              }
             }
            ],
            "label": "59",
            "method": "animate"
           },
           {
            "args": [
             [
              "60"
             ],
             {
              "frame": {
               "duration": 0,
               "redraw": true
              },
              "fromcurrent": true,
              "mode": "immediate",
              "transition": {
               "duration": 0,
               "easing": "linear"
              }
             }
            ],
            "label": "60",
            "method": "animate"
           },
           {
            "args": [
             [
              "61"
             ],
             {
              "frame": {
               "duration": 0,
               "redraw": true
              },
              "fromcurrent": true,
              "mode": "immediate",
              "transition": {
               "duration": 0,
               "easing": "linear"
              }
             }
            ],
            "label": "61",
            "method": "animate"
           },
           {
            "args": [
             [
              "62"
             ],
             {
              "frame": {
               "duration": 0,
               "redraw": true
              },
              "fromcurrent": true,
              "mode": "immediate",
              "transition": {
               "duration": 0,
               "easing": "linear"
              }
             }
            ],
            "label": "62",
            "method": "animate"
           },
           {
            "args": [
             [
              "63"
             ],
             {
              "frame": {
               "duration": 0,
               "redraw": true
              },
              "fromcurrent": true,
              "mode": "immediate",
              "transition": {
               "duration": 0,
               "easing": "linear"
              }
             }
            ],
            "label": "63",
            "method": "animate"
           },
           {
            "args": [
             [
              "64"
             ],
             {
              "frame": {
               "duration": 0,
               "redraw": true
              },
              "fromcurrent": true,
              "mode": "immediate",
              "transition": {
               "duration": 0,
               "easing": "linear"
              }
             }
            ],
            "label": "64",
            "method": "animate"
           },
           {
            "args": [
             [
              "65"
             ],
             {
              "frame": {
               "duration": 0,
               "redraw": true
              },
              "fromcurrent": true,
              "mode": "immediate",
              "transition": {
               "duration": 0,
               "easing": "linear"
              }
             }
            ],
            "label": "65",
            "method": "animate"
           },
           {
            "args": [
             [
              "66"
             ],
             {
              "frame": {
               "duration": 0,
               "redraw": true
              },
              "fromcurrent": true,
              "mode": "immediate",
              "transition": {
               "duration": 0,
               "easing": "linear"
              }
             }
            ],
            "label": "66",
            "method": "animate"
           },
           {
            "args": [
             [
              "67"
             ],
             {
              "frame": {
               "duration": 0,
               "redraw": true
              },
              "fromcurrent": true,
              "mode": "immediate",
              "transition": {
               "duration": 0,
               "easing": "linear"
              }
             }
            ],
            "label": "67",
            "method": "animate"
           },
           {
            "args": [
             [
              "68"
             ],
             {
              "frame": {
               "duration": 0,
               "redraw": true
              },
              "fromcurrent": true,
              "mode": "immediate",
              "transition": {
               "duration": 0,
               "easing": "linear"
              }
             }
            ],
            "label": "68",
            "method": "animate"
           }
          ],
          "x": 0.1,
          "xanchor": "left",
          "y": 0,
          "yanchor": "top"
         }
        ],
        "template": {
         "data": {
          "bar": [
           {
            "error_x": {
             "color": "#2a3f5f"
            },
            "error_y": {
             "color": "#2a3f5f"
            },
            "marker": {
             "line": {
              "color": "#E5ECF6",
              "width": 0.5
             },
             "pattern": {
              "fillmode": "overlay",
              "size": 10,
              "solidity": 0.2
             }
            },
            "type": "bar"
           }
          ],
          "barpolar": [
           {
            "marker": {
             "line": {
              "color": "#E5ECF6",
              "width": 0.5
             },
             "pattern": {
              "fillmode": "overlay",
              "size": 10,
              "solidity": 0.2
             }
            },
            "type": "barpolar"
           }
          ],
          "carpet": [
           {
            "aaxis": {
             "endlinecolor": "#2a3f5f",
             "gridcolor": "white",
             "linecolor": "white",
             "minorgridcolor": "white",
             "startlinecolor": "#2a3f5f"
            },
            "baxis": {
             "endlinecolor": "#2a3f5f",
             "gridcolor": "white",
             "linecolor": "white",
             "minorgridcolor": "white",
             "startlinecolor": "#2a3f5f"
            },
            "type": "carpet"
           }
          ],
          "choropleth": [
           {
            "colorbar": {
             "outlinewidth": 0,
             "ticks": ""
            },
            "type": "choropleth"
           }
          ],
          "contour": [
           {
            "colorbar": {
             "outlinewidth": 0,
             "ticks": ""
            },
            "colorscale": [
             [
              0,
              "#0d0887"
             ],
             [
              0.1111111111111111,
              "#46039f"
             ],
             [
              0.2222222222222222,
              "#7201a8"
             ],
             [
              0.3333333333333333,
              "#9c179e"
             ],
             [
              0.4444444444444444,
              "#bd3786"
             ],
             [
              0.5555555555555556,
              "#d8576b"
             ],
             [
              0.6666666666666666,
              "#ed7953"
             ],
             [
              0.7777777777777778,
              "#fb9f3a"
             ],
             [
              0.8888888888888888,
              "#fdca26"
             ],
             [
              1,
              "#f0f921"
             ]
            ],
            "type": "contour"
           }
          ],
          "contourcarpet": [
           {
            "colorbar": {
             "outlinewidth": 0,
             "ticks": ""
            },
            "type": "contourcarpet"
           }
          ],
          "heatmap": [
           {
            "colorbar": {
             "outlinewidth": 0,
             "ticks": ""
            },
            "colorscale": [
             [
              0,
              "#0d0887"
             ],
             [
              0.1111111111111111,
              "#46039f"
             ],
             [
              0.2222222222222222,
              "#7201a8"
             ],
             [
              0.3333333333333333,
              "#9c179e"
             ],
             [
              0.4444444444444444,
              "#bd3786"
             ],
             [
              0.5555555555555556,
              "#d8576b"
             ],
             [
              0.6666666666666666,
              "#ed7953"
             ],
             [
              0.7777777777777778,
              "#fb9f3a"
             ],
             [
              0.8888888888888888,
              "#fdca26"
             ],
             [
              1,
              "#f0f921"
             ]
            ],
            "type": "heatmap"
           }
          ],
          "heatmapgl": [
           {
            "colorbar": {
             "outlinewidth": 0,
             "ticks": ""
            },
            "colorscale": [
             [
              0,
              "#0d0887"
             ],
             [
              0.1111111111111111,
              "#46039f"
             ],
             [
              0.2222222222222222,
              "#7201a8"
             ],
             [
              0.3333333333333333,
              "#9c179e"
             ],
             [
              0.4444444444444444,
              "#bd3786"
             ],
             [
              0.5555555555555556,
              "#d8576b"
             ],
             [
              0.6666666666666666,
              "#ed7953"
             ],
             [
              0.7777777777777778,
              "#fb9f3a"
             ],
             [
              0.8888888888888888,
              "#fdca26"
             ],
             [
              1,
              "#f0f921"
             ]
            ],
            "type": "heatmapgl"
           }
          ],
          "histogram": [
           {
            "marker": {
             "pattern": {
              "fillmode": "overlay",
              "size": 10,
              "solidity": 0.2
             }
            },
            "type": "histogram"
           }
          ],
          "histogram2d": [
           {
            "colorbar": {
             "outlinewidth": 0,
             "ticks": ""
            },
            "colorscale": [
             [
              0,
              "#0d0887"
             ],
             [
              0.1111111111111111,
              "#46039f"
             ],
             [
              0.2222222222222222,
              "#7201a8"
             ],
             [
              0.3333333333333333,
              "#9c179e"
             ],
             [
              0.4444444444444444,
              "#bd3786"
             ],
             [
              0.5555555555555556,
              "#d8576b"
             ],
             [
              0.6666666666666666,
              "#ed7953"
             ],
             [
              0.7777777777777778,
              "#fb9f3a"
             ],
             [
              0.8888888888888888,
              "#fdca26"
             ],
             [
              1,
              "#f0f921"
             ]
            ],
            "type": "histogram2d"
           }
          ],
          "histogram2dcontour": [
           {
            "colorbar": {
             "outlinewidth": 0,
             "ticks": ""
            },
            "colorscale": [
             [
              0,
              "#0d0887"
             ],
             [
              0.1111111111111111,
              "#46039f"
             ],
             [
              0.2222222222222222,
              "#7201a8"
             ],
             [
              0.3333333333333333,
              "#9c179e"
             ],
             [
              0.4444444444444444,
              "#bd3786"
             ],
             [
              0.5555555555555556,
              "#d8576b"
             ],
             [
              0.6666666666666666,
              "#ed7953"
             ],
             [
              0.7777777777777778,
              "#fb9f3a"
             ],
             [
              0.8888888888888888,
              "#fdca26"
             ],
             [
              1,
              "#f0f921"
             ]
            ],
            "type": "histogram2dcontour"
           }
          ],
          "mesh3d": [
           {
            "colorbar": {
             "outlinewidth": 0,
             "ticks": ""
            },
            "type": "mesh3d"
           }
          ],
          "parcoords": [
           {
            "line": {
             "colorbar": {
              "outlinewidth": 0,
              "ticks": ""
             }
            },
            "type": "parcoords"
           }
          ],
          "pie": [
           {
            "automargin": true,
            "type": "pie"
           }
          ],
          "scatter": [
           {
            "fillpattern": {
             "fillmode": "overlay",
             "size": 10,
             "solidity": 0.2
            },
            "type": "scatter"
           }
          ],
          "scatter3d": [
           {
            "line": {
             "colorbar": {
              "outlinewidth": 0,
              "ticks": ""
             }
            },
            "marker": {
             "colorbar": {
              "outlinewidth": 0,
              "ticks": ""
             }
            },
            "type": "scatter3d"
           }
          ],
          "scattercarpet": [
           {
            "marker": {
             "colorbar": {
              "outlinewidth": 0,
              "ticks": ""
             }
            },
            "type": "scattercarpet"
           }
          ],
          "scattergeo": [
           {
            "marker": {
             "colorbar": {
              "outlinewidth": 0,
              "ticks": ""
             }
            },
            "type": "scattergeo"
           }
          ],
          "scattergl": [
           {
            "marker": {
             "colorbar": {
              "outlinewidth": 0,
              "ticks": ""
             }
            },
            "type": "scattergl"
           }
          ],
          "scattermapbox": [
           {
            "marker": {
             "colorbar": {
              "outlinewidth": 0,
              "ticks": ""
             }
            },
            "type": "scattermapbox"
           }
          ],
          "scatterpolar": [
           {
            "marker": {
             "colorbar": {
              "outlinewidth": 0,
              "ticks": ""
             }
            },
            "type": "scatterpolar"
           }
          ],
          "scatterpolargl": [
           {
            "marker": {
             "colorbar": {
              "outlinewidth": 0,
              "ticks": ""
             }
            },
            "type": "scatterpolargl"
           }
          ],
          "scatterternary": [
           {
            "marker": {
             "colorbar": {
              "outlinewidth": 0,
              "ticks": ""
             }
            },
            "type": "scatterternary"
           }
          ],
          "surface": [
           {
            "colorbar": {
             "outlinewidth": 0,
             "ticks": ""
            },
            "colorscale": [
             [
              0,
              "#0d0887"
             ],
             [
              0.1111111111111111,
              "#46039f"
             ],
             [
              0.2222222222222222,
              "#7201a8"
             ],
             [
              0.3333333333333333,
              "#9c179e"
             ],
             [
              0.4444444444444444,
              "#bd3786"
             ],
             [
              0.5555555555555556,
              "#d8576b"
             ],
             [
              0.6666666666666666,
              "#ed7953"
             ],
             [
              0.7777777777777778,
              "#fb9f3a"
             ],
             [
              0.8888888888888888,
              "#fdca26"
             ],
             [
              1,
              "#f0f921"
             ]
            ],
            "type": "surface"
           }
          ],
          "table": [
           {
            "cells": {
             "fill": {
              "color": "#EBF0F8"
             },
             "line": {
              "color": "white"
             }
            },
            "header": {
             "fill": {
              "color": "#C8D4E3"
             },
             "line": {
              "color": "white"
             }
            },
            "type": "table"
           }
          ]
         },
         "layout": {
          "annotationdefaults": {
           "arrowcolor": "#2a3f5f",
           "arrowhead": 0,
           "arrowwidth": 1
          },
          "autotypenumbers": "strict",
          "coloraxis": {
           "colorbar": {
            "outlinewidth": 0,
            "ticks": ""
           }
          },
          "colorscale": {
           "diverging": [
            [
             0,
             "#8e0152"
            ],
            [
             0.1,
             "#c51b7d"
            ],
            [
             0.2,
             "#de77ae"
            ],
            [
             0.3,
             "#f1b6da"
            ],
            [
             0.4,
             "#fde0ef"
            ],
            [
             0.5,
             "#f7f7f7"
            ],
            [
             0.6,
             "#e6f5d0"
            ],
            [
             0.7,
             "#b8e186"
            ],
            [
             0.8,
             "#7fbc41"
            ],
            [
             0.9,
             "#4d9221"
            ],
            [
             1,
             "#276419"
            ]
           ],
           "sequential": [
            [
             0,
             "#0d0887"
            ],
            [
             0.1111111111111111,
             "#46039f"
            ],
            [
             0.2222222222222222,
             "#7201a8"
            ],
            [
             0.3333333333333333,
             "#9c179e"
            ],
            [
             0.4444444444444444,
             "#bd3786"
            ],
            [
             0.5555555555555556,
             "#d8576b"
            ],
            [
             0.6666666666666666,
             "#ed7953"
            ],
            [
             0.7777777777777778,
             "#fb9f3a"
            ],
            [
             0.8888888888888888,
             "#fdca26"
            ],
            [
             1,
             "#f0f921"
            ]
           ],
           "sequentialminus": [
            [
             0,
             "#0d0887"
            ],
            [
             0.1111111111111111,
             "#46039f"
            ],
            [
             0.2222222222222222,
             "#7201a8"
            ],
            [
             0.3333333333333333,
             "#9c179e"
            ],
            [
             0.4444444444444444,
             "#bd3786"
            ],
            [
             0.5555555555555556,
             "#d8576b"
            ],
            [
             0.6666666666666666,
             "#ed7953"
            ],
            [
             0.7777777777777778,
             "#fb9f3a"
            ],
            [
             0.8888888888888888,
             "#fdca26"
            ],
            [
             1,
             "#f0f921"
            ]
           ]
          },
          "colorway": [
           "#636efa",
           "#EF553B",
           "#00cc96",
           "#ab63fa",
           "#FFA15A",
           "#19d3f3",
           "#FF6692",
           "#B6E880",
           "#FF97FF",
           "#FECB52"
          ],
          "font": {
           "color": "#2a3f5f"
          },
          "geo": {
           "bgcolor": "white",
           "lakecolor": "white",
           "landcolor": "#E5ECF6",
           "showlakes": true,
           "showland": true,
           "subunitcolor": "white"
          },
          "hoverlabel": {
           "align": "left"
          },
          "hovermode": "closest",
          "mapbox": {
           "style": "light"
          },
          "paper_bgcolor": "white",
          "plot_bgcolor": "#E5ECF6",
          "polar": {
           "angularaxis": {
            "gridcolor": "white",
            "linecolor": "white",
            "ticks": ""
           },
           "bgcolor": "#E5ECF6",
           "radialaxis": {
            "gridcolor": "white",
            "linecolor": "white",
            "ticks": ""
           }
          },
          "scene": {
           "xaxis": {
            "backgroundcolor": "#E5ECF6",
            "gridcolor": "white",
            "gridwidth": 2,
            "linecolor": "white",
            "showbackground": true,
            "ticks": "",
            "zerolinecolor": "white"
           },
           "yaxis": {
            "backgroundcolor": "#E5ECF6",
            "gridcolor": "white",
            "gridwidth": 2,
            "linecolor": "white",
            "showbackground": true,
            "ticks": "",
            "zerolinecolor": "white"
           },
           "zaxis": {
            "backgroundcolor": "#E5ECF6",
            "gridcolor": "white",
            "gridwidth": 2,
            "linecolor": "white",
            "showbackground": true,
            "ticks": "",
            "zerolinecolor": "white"
           }
          },
          "shapedefaults": {
           "line": {
            "color": "#2a3f5f"
           }
          },
          "ternary": {
           "aaxis": {
            "gridcolor": "white",
            "linecolor": "white",
            "ticks": ""
           },
           "baxis": {
            "gridcolor": "white",
            "linecolor": "white",
            "ticks": ""
           },
           "bgcolor": "#E5ECF6",
           "caxis": {
            "gridcolor": "white",
            "linecolor": "white",
            "ticks": ""
           }
          },
          "title": {
           "x": 0.05
          },
          "xaxis": {
           "automargin": true,
           "gridcolor": "white",
           "linecolor": "white",
           "ticks": "",
           "title": {
            "standoff": 15
           },
           "zerolinecolor": "white",
           "zerolinewidth": 2
          },
          "yaxis": {
           "automargin": true,
           "gridcolor": "white",
           "linecolor": "white",
           "ticks": "",
           "title": {
            "standoff": 15
           },
           "zerolinecolor": "white",
           "zerolinewidth": 2
          }
         }
        },
        "updatemenus": [
         {
          "buttons": [
           {
            "args": [
             null,
             {
              "frame": {
               "duration": 500,
               "redraw": true
              },
              "fromcurrent": true,
              "mode": "immediate",
              "transition": {
               "duration": 500,
               "easing": "linear"
              }
             }
            ],
            "label": "&#9654;",
            "method": "animate"
           },
           {
            "args": [
             [
              null
             ],
             {
              "frame": {
               "duration": 0,
               "redraw": true
              },
              "fromcurrent": true,
              "mode": "immediate",
              "transition": {
               "duration": 0,
               "easing": "linear"
              }
             }
            ],
            "label": "&#9724;",
            "method": "animate"
           }
          ],
          "direction": "left",
          "pad": {
           "r": 10,
           "t": 70
          },
          "showactive": false,
          "type": "buttons",
          "x": 0.1,
          "xanchor": "right",
          "y": 0,
          "yanchor": "top"
         }
        ]
       }
      }
     },
     "metadata": {},
     "output_type": "display_data"
    }
   ],
   "source": [
    "config = {\n",
    "'toImageButtonOptions': {\n",
    "    'format': 'png', # one of png, svg, jpeg, webp\n",
    "    'filename': 'custom_image',\n",
    "    'height': 1280,\n",
    "    'width': 1280,\n",
    "    'scale': 1 # Multiply title/legend/axis/canvas sizes by this factor\n",
    "}\n",
    "}\n",
    "fig = px.scatter(framify(X), x=\"dim_0_norm\", y=\"dim_1_norm\", z=\"dim_2_norm\", animation_frame=\"timestep\")\n",
    "fig.update_traces(marker=dict(size=2),\n",
    "                selector=dict(mode='markers'))\n",
    "fig.update_layout(\n",
    "    scene = dict(\n",
    "        xaxis = dict(nticks=8, range=[-1,1],),\n",
    "                    yaxis = dict(nticks=8, range=[-1,1],),\n",
    "                    zaxis = dict(nticks=8, range=[-1,1],),),)\n",
    "fig.update_layout(legend= {'itemsizing': 'constant'})\n",
    "fig.update_layout(legend_title_text='Phone')\n",
    "fig.update_layout(\n",
    "    legend=dict(\n",
    "        x=0,\n",
    "        y=1,\n",
    "        title_font_family=\"Times New Roman\",\n",
    "        font=dict(\n",
    "            family=\"Times New Roman\",\n",
    "            size=36,\n",
    "            color=\"black\"\n",
    "        ),\n",
    "        # bgcolor=\"LightSteelBlue\",\n",
    "        bordercolor=\"Black\",\n",
    "        borderwidth=1\n",
    "    )\n",
    ")\n",
    "fig.update_layout(\n",
    "    margin=dict(l=0, r=0, t=0, b=0),\n",
    ")\n",
    "camera = dict(\n",
    "    eye=dict(x=0., y=0., z=2.5)\n",
    ")\n",
    "fig.update_layout(scene_camera=camera)\n",
    "# html_plot = fig.to_html(full_html=False, config=config)\n",
    "fig.show(config=config)"
   ]
  },
  {
   "cell_type": "code",
   "execution_count": null,
   "metadata": {},
   "outputs": [],
   "source": []
  },
  {
   "cell_type": "code",
   "execution_count": null,
   "metadata": {},
   "outputs": [],
   "source": []
  },
  {
   "cell_type": "code",
   "execution_count": null,
   "metadata": {},
   "outputs": [],
   "source": []
  },
  {
   "cell_type": "code",
   "execution_count": null,
   "metadata": {},
   "outputs": [],
   "source": []
  },
  {
   "cell_type": "code",
   "execution_count": null,
   "metadata": {},
   "outputs": [],
   "source": []
  },
  {
   "cell_type": "code",
   "execution_count": null,
   "metadata": {},
   "outputs": [],
   "source": []
  },
  {
   "cell_type": "code",
   "execution_count": null,
   "metadata": {},
   "outputs": [],
   "source": []
  }
 ],
 "metadata": {
  "accelerator": "GPU",
  "colab": {
   "provenance": []
  },
  "gpuClass": "standard",
  "kernelspec": {
   "display_name": "Python 3 (ipykernel)",
   "language": "python",
   "name": "python3"
  },
  "language_info": {
   "codemirror_mode": {
    "name": "ipython",
    "version": 3
   },
   "file_extension": ".py",
   "mimetype": "text/x-python",
   "name": "python",
   "nbconvert_exporter": "python",
   "pygments_lexer": "ipython3",
   "version": "3.10.11"
  }
 },
 "nbformat": 4,
 "nbformat_minor": 4
}
