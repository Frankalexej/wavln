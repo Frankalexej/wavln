{
 "cells": [
  {
   "attachments": {},
   "cell_type": "markdown",
   "metadata": {
    "id": "B-mljeGlqMqo"
   },
   "source": [
    "# AI Lab Run Reconstruction"
   ]
  },
  {
   "cell_type": "code",
   "execution_count": 1,
   "metadata": {
    "id": "jN5DNuExjwet"
   },
   "outputs": [],
   "source": [
    "import torch\n",
    "import torchaudio\n",
    "from torch import nn\n",
    "import torch.nn.functional as F\n",
    "from torch import optim\n",
    "from torch.utils.data import DataLoader, random_split\n",
    "import matplotlib.pyplot as plt\n",
    "import random\n",
    "from IPython.display import Audio\n",
    "from tqdm import tqdm"
   ]
  },
  {
   "cell_type": "code",
   "execution_count": 21,
   "metadata": {},
   "outputs": [],
   "source": [
    "from model_padding import generate_mask_from_lengths_mat, mask_it\n",
    "from paths import *\n",
    "from misc_my_utils import *\n",
    "from model_loss import *\n",
    "from model_model import SimplerPhxLearnerInit as TheLearner\n",
    "from model_dataset import WordDatasetPath as ThisDataset\n",
    "from model_dataset import Normalizer, DeNormalizer\n",
    "from model_dataset import MelSpecTransformNoDB as TheTransform\n",
    "from model_dataset import DS_Tools\n",
    "from reshandler import ReconResHandler\n",
    "from misc_progress_bar import draw_progress_bar\n",
    "from test_bnd_detect_tools import *\n",
    "from misc_tools import PathUtils as PU\n",
    "from misc_tools import AudioCut"
   ]
  },
  {
   "cell_type": "markdown",
   "metadata": {},
   "source": [
    "## Preps"
   ]
  },
  {
   "attachments": {},
   "cell_type": "markdown",
   "metadata": {
    "tags": []
   },
   "source": [
    "### Dirs"
   ]
  },
  {
   "cell_type": "code",
   "execution_count": 3,
   "metadata": {
    "id": "iGouCDYD3h18"
   },
   "outputs": [],
   "source": [
    "rec_dir = train_cut_word_\n",
    "train_guide_path = os.path.join(src_, \"guide_train.csv\")\n",
    "valid_guide_path = os.path.join(src_, \"guide_validation.csv\")\n",
    "test_guide_path = os.path.join(src_, \"guide_test.csv\")"
   ]
  },
  {
   "cell_type": "markdown",
   "metadata": {},
   "source": [
    "### Constants"
   ]
  },
  {
   "cell_type": "code",
   "execution_count": 4,
   "metadata": {},
   "outputs": [],
   "source": [
    "EPOCHS = 10\n",
    "BATCH_SIZE = 1\n",
    "\n",
    "INPUT_DIM = 64\n",
    "OUTPUT_DIM = 64\n",
    "\n",
    "INTER_DIM_0 = 32\n",
    "INTER_DIM_1 = 16\n",
    "INTER_DIM_2 = 8\n",
    "\n",
    "ENC_SIZE_LIST = [INPUT_DIM, INTER_DIM_0, INTER_DIM_1, INTER_DIM_2]\n",
    "DEC_SIZE_LIST = [OUTPUT_DIM, INTER_DIM_0, INTER_DIM_1, INTER_DIM_2]\n",
    "\n",
    "DROPOUT = 0.5\n",
    "\n",
    "REC_SAMPLE_RATE = 16000\n",
    "N_FFT = 400\n",
    "N_MELS = 64\n",
    "\n",
    "LOADER_WORKER = 16"
   ]
  },
  {
   "cell_type": "markdown",
   "metadata": {},
   "source": [
    "## Prepare for loading Model"
   ]
  },
  {
   "cell_type": "code",
   "execution_count": 5,
   "metadata": {},
   "outputs": [
    {
     "name": "stdout",
     "output_type": "stream",
     "text": [
      "A_01-0129130409\n"
     ]
    }
   ],
   "source": [
    "ts = \"0129130409\"\n",
    "stop_epoch = \"79\"\n",
    "train_name = \"A_01\"\n",
    "model_save_dir = os.path.join(model_save_, f\"{train_name}-{ts}\")\n",
    "assert PU.path_exist(model_save_dir)\n",
    "print(f\"{train_name}-{ts}\")"
   ]
  },
  {
   "cell_type": "markdown",
   "metadata": {},
   "source": [
    "## Load Dataset"
   ]
  },
  {
   "cell_type": "code",
   "execution_count": 6,
   "metadata": {},
   "outputs": [],
   "source": [
    "TEST = False"
   ]
  },
  {
   "cell_type": "code",
   "execution_count": 7,
   "metadata": {},
   "outputs": [],
   "source": [
    "mytrans = TheTransform(sample_rate=REC_SAMPLE_RATE, \n",
    "                       n_fft=N_FFT, n_mels=N_MELS, \n",
    "                       normalizer=Normalizer.norm_mvn, \n",
    "                       denormalizer=DeNormalizer.norm_mvn)\n",
    "\n",
    "valid_ds = ThisDataset(rec_dir, \n",
    "                       valid_guide_path, \n",
    "                       transform=mytrans)\n",
    "\n",
    "valid_ds_indices = DS_Tools.read_indices(os.path.join(model_save_dir, \"valid.use\"))\n",
    "\n",
    "use_valid_ds = torch.utils.data.Subset(valid_ds, valid_ds_indices)\n",
    "\n",
    "valid_loader = DataLoader(use_valid_ds, batch_size=BATCH_SIZE, shuffle=False, num_workers=LOADER_WORKER, collate_fn=ThisDataset.collate_fn)\n",
    "valid_num = len(valid_loader.dataset)\n",
    "\n",
    "\n",
    "# Load Test set\n",
    "if TEST: \n",
    "    test_ds = ThisDataset(rec_dir, \n",
    "                        test_guide_path, \n",
    "                        transform=mytrans)\n",
    "    test_ds_indices = DS_Tools.read_indices(os.path.join(model_save_dir, \"test.use\"))\n",
    "\n",
    "    use_test_ds = torch.utils.data.Subset(test_ds, test_ds_indices)\n",
    "\n",
    "    test_loader = DataLoader(use_test_ds, batch_size=BATCH_SIZE, shuffle=False, num_workers=LOADER_WORKER, collate_fn=ThisDataset.collate_fn)\n",
    "    test_num = len(test_loader.dataset)"
   ]
  },
  {
   "cell_type": "markdown",
   "metadata": {},
   "source": [
    "## Model"
   ]
  },
  {
   "cell_type": "markdown",
   "metadata": {},
   "source": [
    "### Model-related defs"
   ]
  },
  {
   "cell_type": "code",
   "execution_count": 8,
   "metadata": {
    "id": "lUxoYBUg1jLq"
   },
   "outputs": [],
   "source": [
    "device = torch.device('cuda' if torch.cuda.is_available() else 'cpu')\n",
    "recon_loss = nn.MSELoss(reduction='none')\n",
    "masked_recon_loss = MaskedLoss(recon_loss)\n",
    "model_loss = masked_recon_loss\n",
    "\n",
    "model = TheLearner(enc_size_list=ENC_SIZE_LIST, dec_size_list=DEC_SIZE_LIST, num_layers=2)\n",
    "# model = TheLearner(enc_size_list=ENC_SIZE_LIST, dec_size_list=DEC_SIZE_LIST, num_layers=1)\n",
    "model.to(device)\n",
    "optimizer = optim.Adam(model.parameters(), lr=1e-3)"
   ]
  },
  {
   "cell_type": "markdown",
   "metadata": {},
   "source": [
    "### Load Model"
   ]
  },
  {
   "cell_type": "code",
   "execution_count": 9,
   "metadata": {},
   "outputs": [
    {
     "data": {
      "text/plain": [
       "SimplerPhxLearnerInit(\n",
       "  (encoder): RLEncoder(\n",
       "    (rnn): LSTM(64, 16, num_layers=2, batch_first=True)\n",
       "    (lin_2): LinearPack(\n",
       "      (linear): Linear(in_features=16, out_features=8, bias=True)\n",
       "      (relu): ReLU()\n",
       "    )\n",
       "  )\n",
       "  (decoder): InitRALDecoder(\n",
       "    (rnn): LSTM(64, 8, num_layers=2, batch_first=True)\n",
       "    (attention): ScaledDotProductAttention(\n",
       "      (w_q): Linear(in_features=8, out_features=8, bias=True)\n",
       "      (w_k): Linear(in_features=8, out_features=8, bias=True)\n",
       "      (w_v): Linear(in_features=8, out_features=8, bias=True)\n",
       "    )\n",
       "    (lin_3): LinearPack(\n",
       "      (linear): Linear(in_features=8, out_features=64, bias=True)\n",
       "      (relu): ReLU()\n",
       "    )\n",
       "  )\n",
       ")"
      ]
     },
     "execution_count": 9,
     "metadata": {},
     "output_type": "execute_result"
    }
   ],
   "source": [
    "model_name = \"{}.pt\".format(stop_epoch)\n",
    "model_path = os.path.join(model_save_dir, model_name)\n",
    "state = torch.load(model_path)\n",
    "\n",
    "model.load_state_dict(state)\n",
    "model.to(device)"
   ]
  },
  {
   "cell_type": "markdown",
   "metadata": {},
   "source": [
    "## Inference"
   ]
  },
  {
   "cell_type": "code",
   "execution_count": 12,
   "metadata": {},
   "outputs": [],
   "source": [
    "def infer(): \n",
    "    model.eval()\n",
    "    reshandler = ReconResHandler(whole_res_dir=model_save_dir, \n",
    "                                 file_prefix=\"recon\")\n",
    "    all_res = []\n",
    "    all_ori = []\n",
    "    all_name = []\n",
    "\n",
    "    total = len(valid_loader)\n",
    "\n",
    "    for (x, x_lens, name) in tqdm(valid_loader): \n",
    "        name = name[0]\n",
    "\n",
    "        x_mask = generate_mask_from_lengths_mat(x_lens, device=device)\n",
    "        \n",
    "        x = x.to(device)\n",
    "\n",
    "        recon_x, attn_weight = model(x, x_lens, x_mask)\n",
    "\n",
    "        recon_x = recon_x.cpu().detach().numpy().squeeze()\n",
    "        ori_x = x.cpu().detach().numpy().squeeze()\n",
    "\n",
    "        all_res += [recon_x]\n",
    "        # note that this is bit different, not each frame, but each sequence is treated as one data point\n",
    "        all_ori += [ori_x]\n",
    "        all_name += [name]\n",
    "    \n",
    "\n",
    "    reshandler.res = all_res\n",
    "    reshandler.tok = all_ori\n",
    "    reshandler.name = all_name\n",
    "    reshandler.save()"
   ]
  },
  {
   "cell_type": "code",
   "execution_count": 13,
   "metadata": {},
   "outputs": [
    {
     "name": "stderr",
     "output_type": "stream",
     "text": [
      "100%|██████████| 10398/10398 [01:37<00:00, 106.14it/s]\n"
     ]
    }
   ],
   "source": [
    "if __name__ == \"__main__\": \n",
    "    infer()"
   ]
  },
  {
   "cell_type": "markdown",
   "metadata": {},
   "source": [
    "# Load Res"
   ]
  },
  {
   "cell_type": "code",
   "execution_count": 14,
   "metadata": {},
   "outputs": [],
   "source": [
    "reshandler = ReconResHandler(whole_res_dir=model_save_dir, file_prefix=\"recon\")\n",
    "reshandler.read()"
   ]
  },
  {
   "cell_type": "markdown",
   "metadata": {},
   "source": [
    "# Plot some recon and original comparisons"
   ]
  },
  {
   "cell_type": "code",
   "execution_count": 15,
   "metadata": {},
   "outputs": [],
   "source": [
    "# all\n",
    "all_recon = reshandler.res\n",
    "all_ori = reshandler.tok\n",
    "all_name = reshandler.name"
   ]
  },
  {
   "cell_type": "code",
   "execution_count": 16,
   "metadata": {},
   "outputs": [],
   "source": [
    "def plot_spectrogram(specgram, title=None, ylabel=\"freq_bin\", ax=None):\n",
    "    if ax is None:\n",
    "        _, ax = plt.subplots(1, 1)\n",
    "    if title is not None:\n",
    "        ax.set_title(title)\n",
    "    ax.set_ylabel(ylabel)\n",
    "    # ax.imshow(librosa.power_to_db(specgram), origin=\"lower\", aspect=\"auto\", interpolation=\"nearest\")\n",
    "    ax.imshow(specgram, origin=\"lower\", aspect=\"auto\", interpolation=\"nearest\")"
   ]
  },
  {
   "cell_type": "code",
   "execution_count": 40,
   "metadata": {},
   "outputs": [],
   "source": [
    "i = random.randint(0, len(all_name))"
   ]
  },
  {
   "cell_type": "code",
   "execution_count": 41,
   "metadata": {},
   "outputs": [
    {
     "data": {
      "text/plain": [
       "'8630-305213-0051-0005'"
      ]
     },
     "execution_count": 41,
     "metadata": {},
     "output_type": "execute_result"
    }
   ],
   "source": [
    "reshandler.name[i]"
   ]
  },
  {
   "cell_type": "code",
   "execution_count": 42,
   "metadata": {},
   "outputs": [
    {
     "data": {
      "image/png": "[encoded data removed]",
      "text/plain": [
       "<Figure size 640x480 with 2 Axes>"
      ]
     },
     "metadata": {},
     "output_type": "display_data"
    }
   ],
   "source": [
    "fig, axs = plt.subplots(2, 1)\n",
    "plot_spectrogram(all_ori[i].T, title=\"mel-spectrogram of input\", ax=axs[0])\n",
    "plot_spectrogram(all_recon[i].T, title=\"reconstructed mel-spectrogram\", ax=axs[1])\n",
    "fig.tight_layout()"
   ]
  },
  {
   "cell_type": "code",
   "execution_count": 34,
   "metadata": {},
   "outputs": [
    {
     "data": {
      "image/png": "[encoded data removed]",
      "text/plain": [
       "<Figure size 640x480 with 2 Axes>"
      ]
     },
     "metadata": {},
     "output_type": "display_data"
    }
   ],
   "source": [
    "rec, rate = torchaudio.load(os.path.join(rec_dir, \"/\".join(AudioCut.solve_name(all_name[i])[:-1]), all_name[i] + \".flac\"))\n",
    "\n",
    "fig, axs = plt.subplots(2, 1)\n",
    "plot_spectrogram(mytrans.de_norm(torch.from_numpy(all_ori[i]), rec).numpy().T, title=\"mel-spectrogram of input\", ax=axs[0])\n",
    "plot_spectrogram(mytrans.de_norm(torch.from_numpy(all_recon[i]), rec).numpy().T, title=\"reconstructed mel-spectrogram\", ax=axs[1])\n",
    "fig.tight_layout()"
   ]
  },
  {
   "cell_type": "code",
   "execution_count": 35,
   "metadata": {},
   "outputs": [
    {
     "data": {
      "text/html": [
       "\n",
       "                <audio  controls=\"controls\" >\n",
       "                    <source src=\"data:audio/wav;base64,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\" type=\"audio/wav\" />\n",
       "                    Your browser does not support the audio element.\n",
       "                </audio>\n",
       "              "
      ],
      "text/plain": [
       "<IPython.lib.display.Audio object>"
      ]
     },
     "execution_count": 35,
     "metadata": {},
     "output_type": "execute_result"
    }
   ],
   "source": [
    "Audio(rec.numpy(), rate=rate)"
   ]
  },
  {
   "cell_type": "code",
   "execution_count": 36,
   "metadata": {},
   "outputs": [
    {
     "ename": "_LinAlgError",
     "evalue": "torch.linalg.lstsq: The least squares solution could not be computed because the input matrix does not have full rank (error code: 3).",
     "output_type": "error",
     "traceback": [
      "\u001b[0;31m---------------------------------------------------------------------------\u001b[0m",
      "\u001b[0;31m_LinAlgError\u001b[0m                              Traceback (most recent call last)",
      "Cell \u001b[0;32mIn[36], line 1\u001b[0m\n\u001b[0;32m----> 1\u001b[0m Audio(mytrans\u001b[38;5;241m.\u001b[39minverse(mytrans\u001b[38;5;241m.\u001b[39mde_norm(torch\u001b[38;5;241m.\u001b[39mfrom_numpy(all_ori[i]), rec))\u001b[38;5;241m.\u001b[39mnumpy(), rate\u001b[38;5;241m=\u001b[39mREC_SAMPLE_RATE)\n",
      "File \u001b[0;32m~/Projects/wavln/script/model_dataset.py:380\u001b[0m, in \u001b[0;36mMelSpecTransformNoDB.inverse\u001b[0;34m(self, mel_spec)\u001b[0m\n\u001b[1;32m    378\u001b[0m mel_spec \u001b[38;5;241m=\u001b[39m mel_spec\u001b[38;5;241m.\u001b[39mpermute(\u001b[38;5;241m1\u001b[39m, \u001b[38;5;241m0\u001b[39m) \u001b[38;5;66;03m# (L, F) -> (F, L)\u001b[39;00m\n\u001b[1;32m    379\u001b[0m mel_spec \u001b[38;5;241m=\u001b[39m mel_spec\u001b[38;5;241m.\u001b[39munsqueeze(\u001b[38;5;241m0\u001b[39m)  \u001b[38;5;66;03m# restore from (F, L) to (channel, F, L)\u001b[39;00m\n\u001b[0;32m--> 380\u001b[0m i_mel \u001b[38;5;241m=\u001b[39m \u001b[38;5;28mself\u001b[39m\u001b[38;5;241m.\u001b[39minverse_mel(mel_spec)\n\u001b[1;32m    381\u001b[0m inv \u001b[38;5;241m=\u001b[39m \u001b[38;5;28mself\u001b[39m\u001b[38;5;241m.\u001b[39mgrifflim(i_mel)\n\u001b[1;32m    382\u001b[0m \u001b[38;5;28;01mreturn\u001b[39;00m inv\n",
      "File \u001b[0;32m~/anaconda3/envs/wavln/lib/python3.11/site-packages/torch/nn/modules/module.py:1518\u001b[0m, in \u001b[0;36mModule._wrapped_call_impl\u001b[0;34m(self, *args, **kwargs)\u001b[0m\n\u001b[1;32m   1516\u001b[0m     \u001b[38;5;28;01mreturn\u001b[39;00m \u001b[38;5;28mself\u001b[39m\u001b[38;5;241m.\u001b[39m_compiled_call_impl(\u001b[38;5;241m*\u001b[39margs, \u001b[38;5;241m*\u001b[39m\u001b[38;5;241m*\u001b[39mkwargs)  \u001b[38;5;66;03m# type: ignore[misc]\u001b[39;00m\n\u001b[1;32m   1517\u001b[0m \u001b[38;5;28;01melse\u001b[39;00m:\n\u001b[0;32m-> 1518\u001b[0m     \u001b[38;5;28;01mreturn\u001b[39;00m \u001b[38;5;28mself\u001b[39m\u001b[38;5;241m.\u001b[39m_call_impl(\u001b[38;5;241m*\u001b[39margs, \u001b[38;5;241m*\u001b[39m\u001b[38;5;241m*\u001b[39mkwargs)\n",
      "File \u001b[0;32m~/anaconda3/envs/wavln/lib/python3.11/site-packages/torch/nn/modules/module.py:1527\u001b[0m, in \u001b[0;36mModule._call_impl\u001b[0;34m(self, *args, **kwargs)\u001b[0m\n\u001b[1;32m   1522\u001b[0m \u001b[38;5;66;03m# If we don't have any hooks, we want to skip the rest of the logic in\u001b[39;00m\n\u001b[1;32m   1523\u001b[0m \u001b[38;5;66;03m# this function, and just call forward.\u001b[39;00m\n\u001b[1;32m   1524\u001b[0m \u001b[38;5;28;01mif\u001b[39;00m \u001b[38;5;129;01mnot\u001b[39;00m (\u001b[38;5;28mself\u001b[39m\u001b[38;5;241m.\u001b[39m_backward_hooks \u001b[38;5;129;01mor\u001b[39;00m \u001b[38;5;28mself\u001b[39m\u001b[38;5;241m.\u001b[39m_backward_pre_hooks \u001b[38;5;129;01mor\u001b[39;00m \u001b[38;5;28mself\u001b[39m\u001b[38;5;241m.\u001b[39m_forward_hooks \u001b[38;5;129;01mor\u001b[39;00m \u001b[38;5;28mself\u001b[39m\u001b[38;5;241m.\u001b[39m_forward_pre_hooks\n\u001b[1;32m   1525\u001b[0m         \u001b[38;5;129;01mor\u001b[39;00m _global_backward_pre_hooks \u001b[38;5;129;01mor\u001b[39;00m _global_backward_hooks\n\u001b[1;32m   1526\u001b[0m         \u001b[38;5;129;01mor\u001b[39;00m _global_forward_hooks \u001b[38;5;129;01mor\u001b[39;00m _global_forward_pre_hooks):\n\u001b[0;32m-> 1527\u001b[0m     \u001b[38;5;28;01mreturn\u001b[39;00m forward_call(\u001b[38;5;241m*\u001b[39margs, \u001b[38;5;241m*\u001b[39m\u001b[38;5;241m*\u001b[39mkwargs)\n\u001b[1;32m   1529\u001b[0m \u001b[38;5;28;01mtry\u001b[39;00m:\n\u001b[1;32m   1530\u001b[0m     result \u001b[38;5;241m=\u001b[39m \u001b[38;5;28;01mNone\u001b[39;00m\n",
      "File \u001b[0;32m~/anaconda3/envs/wavln/lib/python3.11/site-packages/torchaudio/transforms/_transforms.py:498\u001b[0m, in \u001b[0;36mInverseMelScale.forward\u001b[0;34m(self, melspec)\u001b[0m\n\u001b[1;32m    495\u001b[0m \u001b[38;5;28;01mif\u001b[39;00m \u001b[38;5;28mself\u001b[39m\u001b[38;5;241m.\u001b[39mn_mels \u001b[38;5;241m!=\u001b[39m n_mels:\n\u001b[1;32m    496\u001b[0m     \u001b[38;5;28;01mraise\u001b[39;00m \u001b[38;5;167;01mValueError\u001b[39;00m(\u001b[38;5;124m\"\u001b[39m\u001b[38;5;124mExpected an input with \u001b[39m\u001b[38;5;132;01m{}\u001b[39;00m\u001b[38;5;124m mel bins. Found: \u001b[39m\u001b[38;5;132;01m{}\u001b[39;00m\u001b[38;5;124m\"\u001b[39m\u001b[38;5;241m.\u001b[39mformat(\u001b[38;5;28mself\u001b[39m\u001b[38;5;241m.\u001b[39mn_mels, n_mels))\n\u001b[0;32m--> 498\u001b[0m specgram \u001b[38;5;241m=\u001b[39m torch\u001b[38;5;241m.\u001b[39mrelu(torch\u001b[38;5;241m.\u001b[39mlinalg\u001b[38;5;241m.\u001b[39mlstsq(\u001b[38;5;28mself\u001b[39m\u001b[38;5;241m.\u001b[39mfb\u001b[38;5;241m.\u001b[39mtranspose(\u001b[38;5;241m-\u001b[39m\u001b[38;5;241m1\u001b[39m, \u001b[38;5;241m-\u001b[39m\u001b[38;5;241m2\u001b[39m)[\u001b[38;5;28;01mNone\u001b[39;00m], melspec, driver\u001b[38;5;241m=\u001b[39m\u001b[38;5;28mself\u001b[39m\u001b[38;5;241m.\u001b[39mdriver)\u001b[38;5;241m.\u001b[39msolution)\n\u001b[1;32m    500\u001b[0m \u001b[38;5;66;03m# unpack batch\u001b[39;00m\n\u001b[1;32m    501\u001b[0m specgram \u001b[38;5;241m=\u001b[39m specgram\u001b[38;5;241m.\u001b[39mview(shape[:\u001b[38;5;241m-\u001b[39m\u001b[38;5;241m2\u001b[39m] \u001b[38;5;241m+\u001b[39m (freq, time))\n",
      "\u001b[0;31m_LinAlgError\u001b[0m: torch.linalg.lstsq: The least squares solution could not be computed because the input matrix does not have full rank (error code: 3)."
     ]
    }
   ],
   "source": [
    "Audio(mytrans.inverse(mytrans.de_norm(torch.from_numpy(all_ori[i]), rec)).numpy(), rate=REC_SAMPLE_RATE)"
   ]
  },
  {
   "cell_type": "code",
   "execution_count": 29,
   "metadata": {},
   "outputs": [
    {
     "ename": "_LinAlgError",
     "evalue": "torch.linalg.lstsq: The least squares solution could not be computed because the input matrix does not have full rank (error code: 3).",
     "output_type": "error",
     "traceback": [
      "\u001b[0;31m---------------------------------------------------------------------------\u001b[0m",
      "\u001b[0;31m_LinAlgError\u001b[0m                              Traceback (most recent call last)",
      "Cell \u001b[0;32mIn[29], line 1\u001b[0m\n\u001b[0;32m----> 1\u001b[0m Audio(mytrans\u001b[38;5;241m.\u001b[39minverse(mytrans\u001b[38;5;241m.\u001b[39mde_norm(torch\u001b[38;5;241m.\u001b[39mfrom_numpy(all_recon[i]), rec))\u001b[38;5;241m.\u001b[39mnumpy(), rate\u001b[38;5;241m=\u001b[39mREC_SAMPLE_RATE)\n",
      "File \u001b[0;32m~/Projects/wavln/script/model_dataset.py:380\u001b[0m, in \u001b[0;36mMelSpecTransformNoDB.inverse\u001b[0;34m(self, mel_spec)\u001b[0m\n\u001b[1;32m    378\u001b[0m mel_spec \u001b[38;5;241m=\u001b[39m mel_spec\u001b[38;5;241m.\u001b[39mpermute(\u001b[38;5;241m1\u001b[39m, \u001b[38;5;241m0\u001b[39m) \u001b[38;5;66;03m# (L, F) -> (F, L)\u001b[39;00m\n\u001b[1;32m    379\u001b[0m mel_spec \u001b[38;5;241m=\u001b[39m mel_spec\u001b[38;5;241m.\u001b[39munsqueeze(\u001b[38;5;241m0\u001b[39m)  \u001b[38;5;66;03m# restore from (F, L) to (channel, F, L)\u001b[39;00m\n\u001b[0;32m--> 380\u001b[0m i_mel \u001b[38;5;241m=\u001b[39m \u001b[38;5;28mself\u001b[39m\u001b[38;5;241m.\u001b[39minverse_mel(mel_spec)\n\u001b[1;32m    381\u001b[0m inv \u001b[38;5;241m=\u001b[39m \u001b[38;5;28mself\u001b[39m\u001b[38;5;241m.\u001b[39mgrifflim(i_mel)\n\u001b[1;32m    382\u001b[0m \u001b[38;5;28;01mreturn\u001b[39;00m inv\n",
      "File \u001b[0;32m~/anaconda3/envs/wavln/lib/python3.11/site-packages/torch/nn/modules/module.py:1518\u001b[0m, in \u001b[0;36mModule._wrapped_call_impl\u001b[0;34m(self, *args, **kwargs)\u001b[0m\n\u001b[1;32m   1516\u001b[0m     \u001b[38;5;28;01mreturn\u001b[39;00m \u001b[38;5;28mself\u001b[39m\u001b[38;5;241m.\u001b[39m_compiled_call_impl(\u001b[38;5;241m*\u001b[39margs, \u001b[38;5;241m*\u001b[39m\u001b[38;5;241m*\u001b[39mkwargs)  \u001b[38;5;66;03m# type: ignore[misc]\u001b[39;00m\n\u001b[1;32m   1517\u001b[0m \u001b[38;5;28;01melse\u001b[39;00m:\n\u001b[0;32m-> 1518\u001b[0m     \u001b[38;5;28;01mreturn\u001b[39;00m \u001b[38;5;28mself\u001b[39m\u001b[38;5;241m.\u001b[39m_call_impl(\u001b[38;5;241m*\u001b[39margs, \u001b[38;5;241m*\u001b[39m\u001b[38;5;241m*\u001b[39mkwargs)\n",
      "File \u001b[0;32m~/anaconda3/envs/wavln/lib/python3.11/site-packages/torch/nn/modules/module.py:1527\u001b[0m, in \u001b[0;36mModule._call_impl\u001b[0;34m(self, *args, **kwargs)\u001b[0m\n\u001b[1;32m   1522\u001b[0m \u001b[38;5;66;03m# If we don't have any hooks, we want to skip the rest of the logic in\u001b[39;00m\n\u001b[1;32m   1523\u001b[0m \u001b[38;5;66;03m# this function, and just call forward.\u001b[39;00m\n\u001b[1;32m   1524\u001b[0m \u001b[38;5;28;01mif\u001b[39;00m \u001b[38;5;129;01mnot\u001b[39;00m (\u001b[38;5;28mself\u001b[39m\u001b[38;5;241m.\u001b[39m_backward_hooks \u001b[38;5;129;01mor\u001b[39;00m \u001b[38;5;28mself\u001b[39m\u001b[38;5;241m.\u001b[39m_backward_pre_hooks \u001b[38;5;129;01mor\u001b[39;00m \u001b[38;5;28mself\u001b[39m\u001b[38;5;241m.\u001b[39m_forward_hooks \u001b[38;5;129;01mor\u001b[39;00m \u001b[38;5;28mself\u001b[39m\u001b[38;5;241m.\u001b[39m_forward_pre_hooks\n\u001b[1;32m   1525\u001b[0m         \u001b[38;5;129;01mor\u001b[39;00m _global_backward_pre_hooks \u001b[38;5;129;01mor\u001b[39;00m _global_backward_hooks\n\u001b[1;32m   1526\u001b[0m         \u001b[38;5;129;01mor\u001b[39;00m _global_forward_hooks \u001b[38;5;129;01mor\u001b[39;00m _global_forward_pre_hooks):\n\u001b[0;32m-> 1527\u001b[0m     \u001b[38;5;28;01mreturn\u001b[39;00m forward_call(\u001b[38;5;241m*\u001b[39margs, \u001b[38;5;241m*\u001b[39m\u001b[38;5;241m*\u001b[39mkwargs)\n\u001b[1;32m   1529\u001b[0m \u001b[38;5;28;01mtry\u001b[39;00m:\n\u001b[1;32m   1530\u001b[0m     result \u001b[38;5;241m=\u001b[39m \u001b[38;5;28;01mNone\u001b[39;00m\n",
      "File \u001b[0;32m~/anaconda3/envs/wavln/lib/python3.11/site-packages/torchaudio/transforms/_transforms.py:498\u001b[0m, in \u001b[0;36mInverseMelScale.forward\u001b[0;34m(self, melspec)\u001b[0m\n\u001b[1;32m    495\u001b[0m \u001b[38;5;28;01mif\u001b[39;00m \u001b[38;5;28mself\u001b[39m\u001b[38;5;241m.\u001b[39mn_mels \u001b[38;5;241m!=\u001b[39m n_mels:\n\u001b[1;32m    496\u001b[0m     \u001b[38;5;28;01mraise\u001b[39;00m \u001b[38;5;167;01mValueError\u001b[39;00m(\u001b[38;5;124m\"\u001b[39m\u001b[38;5;124mExpected an input with \u001b[39m\u001b[38;5;132;01m{}\u001b[39;00m\u001b[38;5;124m mel bins. Found: \u001b[39m\u001b[38;5;132;01m{}\u001b[39;00m\u001b[38;5;124m\"\u001b[39m\u001b[38;5;241m.\u001b[39mformat(\u001b[38;5;28mself\u001b[39m\u001b[38;5;241m.\u001b[39mn_mels, n_mels))\n\u001b[0;32m--> 498\u001b[0m specgram \u001b[38;5;241m=\u001b[39m torch\u001b[38;5;241m.\u001b[39mrelu(torch\u001b[38;5;241m.\u001b[39mlinalg\u001b[38;5;241m.\u001b[39mlstsq(\u001b[38;5;28mself\u001b[39m\u001b[38;5;241m.\u001b[39mfb\u001b[38;5;241m.\u001b[39mtranspose(\u001b[38;5;241m-\u001b[39m\u001b[38;5;241m1\u001b[39m, \u001b[38;5;241m-\u001b[39m\u001b[38;5;241m2\u001b[39m)[\u001b[38;5;28;01mNone\u001b[39;00m], melspec, driver\u001b[38;5;241m=\u001b[39m\u001b[38;5;28mself\u001b[39m\u001b[38;5;241m.\u001b[39mdriver)\u001b[38;5;241m.\u001b[39msolution)\n\u001b[1;32m    500\u001b[0m \u001b[38;5;66;03m# unpack batch\u001b[39;00m\n\u001b[1;32m    501\u001b[0m specgram \u001b[38;5;241m=\u001b[39m specgram\u001b[38;5;241m.\u001b[39mview(shape[:\u001b[38;5;241m-\u001b[39m\u001b[38;5;241m2\u001b[39m] \u001b[38;5;241m+\u001b[39m (freq, time))\n",
      "\u001b[0;31m_LinAlgError\u001b[0m: torch.linalg.lstsq: The least squares solution could not be computed because the input matrix does not have full rank (error code: 3)."
     ]
    }
   ],
   "source": [
    "Audio(mytrans.inverse(mytrans.de_norm(torch.from_numpy(all_recon[i]), rec)).numpy(), rate=REC_SAMPLE_RATE)"
   ]
  },
  {
   "cell_type": "code",
   "execution_count": 30,
   "metadata": {},
   "outputs": [
    {
     "ename": "_LinAlgError",
     "evalue": "torch.linalg.lstsq: The least squares solution could not be computed because the input matrix does not have full rank (error code: 3).",
     "output_type": "error",
     "traceback": [
      "\u001b[0;31m---------------------------------------------------------------------------\u001b[0m",
      "\u001b[0;31m_LinAlgError\u001b[0m                              Traceback (most recent call last)",
      "Cell \u001b[0;32mIn[30], line 1\u001b[0m\n\u001b[0;32m----> 1\u001b[0m Audio(mytrans\u001b[38;5;241m.\u001b[39minverse(torch\u001b[38;5;241m.\u001b[39mfrom_numpy(all_ori[i]))\u001b[38;5;241m.\u001b[39mnumpy(), rate\u001b[38;5;241m=\u001b[39mREC_SAMPLE_RATE)\n",
      "File \u001b[0;32m~/Projects/wavln/script/model_dataset.py:380\u001b[0m, in \u001b[0;36mMelSpecTransformNoDB.inverse\u001b[0;34m(self, mel_spec)\u001b[0m\n\u001b[1;32m    378\u001b[0m mel_spec \u001b[38;5;241m=\u001b[39m mel_spec\u001b[38;5;241m.\u001b[39mpermute(\u001b[38;5;241m1\u001b[39m, \u001b[38;5;241m0\u001b[39m) \u001b[38;5;66;03m# (L, F) -> (F, L)\u001b[39;00m\n\u001b[1;32m    379\u001b[0m mel_spec \u001b[38;5;241m=\u001b[39m mel_spec\u001b[38;5;241m.\u001b[39munsqueeze(\u001b[38;5;241m0\u001b[39m)  \u001b[38;5;66;03m# restore from (F, L) to (channel, F, L)\u001b[39;00m\n\u001b[0;32m--> 380\u001b[0m i_mel \u001b[38;5;241m=\u001b[39m \u001b[38;5;28mself\u001b[39m\u001b[38;5;241m.\u001b[39minverse_mel(mel_spec)\n\u001b[1;32m    381\u001b[0m inv \u001b[38;5;241m=\u001b[39m \u001b[38;5;28mself\u001b[39m\u001b[38;5;241m.\u001b[39mgrifflim(i_mel)\n\u001b[1;32m    382\u001b[0m \u001b[38;5;28;01mreturn\u001b[39;00m inv\n",
      "File \u001b[0;32m~/anaconda3/envs/wavln/lib/python3.11/site-packages/torch/nn/modules/module.py:1518\u001b[0m, in \u001b[0;36mModule._wrapped_call_impl\u001b[0;34m(self, *args, **kwargs)\u001b[0m\n\u001b[1;32m   1516\u001b[0m     \u001b[38;5;28;01mreturn\u001b[39;00m \u001b[38;5;28mself\u001b[39m\u001b[38;5;241m.\u001b[39m_compiled_call_impl(\u001b[38;5;241m*\u001b[39margs, \u001b[38;5;241m*\u001b[39m\u001b[38;5;241m*\u001b[39mkwargs)  \u001b[38;5;66;03m# type: ignore[misc]\u001b[39;00m\n\u001b[1;32m   1517\u001b[0m \u001b[38;5;28;01melse\u001b[39;00m:\n\u001b[0;32m-> 1518\u001b[0m     \u001b[38;5;28;01mreturn\u001b[39;00m \u001b[38;5;28mself\u001b[39m\u001b[38;5;241m.\u001b[39m_call_impl(\u001b[38;5;241m*\u001b[39margs, \u001b[38;5;241m*\u001b[39m\u001b[38;5;241m*\u001b[39mkwargs)\n",
      "File \u001b[0;32m~/anaconda3/envs/wavln/lib/python3.11/site-packages/torch/nn/modules/module.py:1527\u001b[0m, in \u001b[0;36mModule._call_impl\u001b[0;34m(self, *args, **kwargs)\u001b[0m\n\u001b[1;32m   1522\u001b[0m \u001b[38;5;66;03m# If we don't have any hooks, we want to skip the rest of the logic in\u001b[39;00m\n\u001b[1;32m   1523\u001b[0m \u001b[38;5;66;03m# this function, and just call forward.\u001b[39;00m\n\u001b[1;32m   1524\u001b[0m \u001b[38;5;28;01mif\u001b[39;00m \u001b[38;5;129;01mnot\u001b[39;00m (\u001b[38;5;28mself\u001b[39m\u001b[38;5;241m.\u001b[39m_backward_hooks \u001b[38;5;129;01mor\u001b[39;00m \u001b[38;5;28mself\u001b[39m\u001b[38;5;241m.\u001b[39m_backward_pre_hooks \u001b[38;5;129;01mor\u001b[39;00m \u001b[38;5;28mself\u001b[39m\u001b[38;5;241m.\u001b[39m_forward_hooks \u001b[38;5;129;01mor\u001b[39;00m \u001b[38;5;28mself\u001b[39m\u001b[38;5;241m.\u001b[39m_forward_pre_hooks\n\u001b[1;32m   1525\u001b[0m         \u001b[38;5;129;01mor\u001b[39;00m _global_backward_pre_hooks \u001b[38;5;129;01mor\u001b[39;00m _global_backward_hooks\n\u001b[1;32m   1526\u001b[0m         \u001b[38;5;129;01mor\u001b[39;00m _global_forward_hooks \u001b[38;5;129;01mor\u001b[39;00m _global_forward_pre_hooks):\n\u001b[0;32m-> 1527\u001b[0m     \u001b[38;5;28;01mreturn\u001b[39;00m forward_call(\u001b[38;5;241m*\u001b[39margs, \u001b[38;5;241m*\u001b[39m\u001b[38;5;241m*\u001b[39mkwargs)\n\u001b[1;32m   1529\u001b[0m \u001b[38;5;28;01mtry\u001b[39;00m:\n\u001b[1;32m   1530\u001b[0m     result \u001b[38;5;241m=\u001b[39m \u001b[38;5;28;01mNone\u001b[39;00m\n",
      "File \u001b[0;32m~/anaconda3/envs/wavln/lib/python3.11/site-packages/torchaudio/transforms/_transforms.py:498\u001b[0m, in \u001b[0;36mInverseMelScale.forward\u001b[0;34m(self, melspec)\u001b[0m\n\u001b[1;32m    495\u001b[0m \u001b[38;5;28;01mif\u001b[39;00m \u001b[38;5;28mself\u001b[39m\u001b[38;5;241m.\u001b[39mn_mels \u001b[38;5;241m!=\u001b[39m n_mels:\n\u001b[1;32m    496\u001b[0m     \u001b[38;5;28;01mraise\u001b[39;00m \u001b[38;5;167;01mValueError\u001b[39;00m(\u001b[38;5;124m\"\u001b[39m\u001b[38;5;124mExpected an input with \u001b[39m\u001b[38;5;132;01m{}\u001b[39;00m\u001b[38;5;124m mel bins. Found: \u001b[39m\u001b[38;5;132;01m{}\u001b[39;00m\u001b[38;5;124m\"\u001b[39m\u001b[38;5;241m.\u001b[39mformat(\u001b[38;5;28mself\u001b[39m\u001b[38;5;241m.\u001b[39mn_mels, n_mels))\n\u001b[0;32m--> 498\u001b[0m specgram \u001b[38;5;241m=\u001b[39m torch\u001b[38;5;241m.\u001b[39mrelu(torch\u001b[38;5;241m.\u001b[39mlinalg\u001b[38;5;241m.\u001b[39mlstsq(\u001b[38;5;28mself\u001b[39m\u001b[38;5;241m.\u001b[39mfb\u001b[38;5;241m.\u001b[39mtranspose(\u001b[38;5;241m-\u001b[39m\u001b[38;5;241m1\u001b[39m, \u001b[38;5;241m-\u001b[39m\u001b[38;5;241m2\u001b[39m)[\u001b[38;5;28;01mNone\u001b[39;00m], melspec, driver\u001b[38;5;241m=\u001b[39m\u001b[38;5;28mself\u001b[39m\u001b[38;5;241m.\u001b[39mdriver)\u001b[38;5;241m.\u001b[39msolution)\n\u001b[1;32m    500\u001b[0m \u001b[38;5;66;03m# unpack batch\u001b[39;00m\n\u001b[1;32m    501\u001b[0m specgram \u001b[38;5;241m=\u001b[39m specgram\u001b[38;5;241m.\u001b[39mview(shape[:\u001b[38;5;241m-\u001b[39m\u001b[38;5;241m2\u001b[39m] \u001b[38;5;241m+\u001b[39m (freq, time))\n",
      "\u001b[0;31m_LinAlgError\u001b[0m: torch.linalg.lstsq: The least squares solution could not be computed because the input matrix does not have full rank (error code: 3)."
     ]
    }
   ],
   "source": [
    "Audio(mytrans.inverse(torch.from_numpy(all_ori[i])).numpy(), rate=REC_SAMPLE_RATE)"
   ]
  },
  {
   "cell_type": "code",
   "execution_count": 58,
   "metadata": {},
   "outputs": [
    {
     "data": {
      "text/html": [
       "\n",
       "                <audio  controls=\"controls\" >\n",
       "                    <source src=\"data:audio/wav;base64,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\" type=\"audio/wav\" />\n",
       "                    Your browser does not support the audio element.\n",
       "                </audio>\n",
       "              "
      ],
      "text/plain": [
       "<IPython.lib.display.Audio object>"
      ]
     },
     "execution_count": 58,
     "metadata": {},
     "output_type": "execute_result"
    }
   ],
   "source": [
    "Audio(mytrans.inverse(torch.from_numpy(all_recon[i])).numpy(), rate=REC_SAMPLE_RATE)"
   ]
  },
  {
   "cell_type": "code",
   "execution_count": null,
   "metadata": {},
   "outputs": [],
   "source": []
  },
  {
   "cell_type": "code",
   "execution_count": null,
   "metadata": {},
   "outputs": [],
   "source": []
  }
 ],
 "metadata": {
  "accelerator": "GPU",
  "colab": {
   "provenance": []
  },
  "gpuClass": "standard",
  "kernelspec": {
   "display_name": "Python 3 (ipykernel)",
   "language": "python",
   "name": "python3"
  },
  "language_info": {
   "codemirror_mode": {
    "name": "ipython",
    "version": 3
   },
   "file_extension": ".py",
   "mimetype": "text/x-python",
   "name": "python",
   "nbconvert_exporter": "python",
   "pygments_lexer": "ipython3",
   "version": "3.11.7"
  }
 },
 "nbformat": 4,
 "nbformat_minor": 4
}
