{
 "cells": [
  {
   "attachments": {},
   "cell_type": "markdown",
   "metadata": {
    "id": "B-mljeGlqMqo"
   },
   "source": [
    "# AI Lab Run Reconstruction"
   ]
  },
  {
   "cell_type": "code",
   "execution_count": 1,
   "metadata": {
    "id": "jN5DNuExjwet"
   },
   "outputs": [],
   "source": [
    "import torch\n",
    "import torchaudio\n",
    "from torch import nn\n",
    "import torch.nn.functional as F\n",
    "from torch import optim\n",
    "from torch.utils.data import DataLoader, random_split\n",
    "import matplotlib.pyplot as plt\n",
    "import random\n",
    "from IPython.display import Audio\n",
    "from tqdm import tqdm"
   ]
  },
  {
   "cell_type": "code",
   "execution_count": 2,
   "metadata": {},
   "outputs": [],
   "source": [
    "from model_padding import generate_mask_from_lengths_mat, mask_it\n",
    "from paths import *\n",
    "from misc_my_utils import *\n",
    "from model_loss import *\n",
    "from model_model import LRLInitLRALNet as TheLearner\n",
    "from model_dataset import WordDatasetPath as ThisDataset\n",
    "from model_dataset import Normalizer, DeNormalizer\n",
    "from model_dataset import MelSpecTransformNoDB as TheTransform\n",
    "from model_dataset import DS_Tools\n",
    "from reshandler import ReconResHandler\n",
    "from misc_progress_bar import draw_progress_bar\n",
    "from test_bnd_detect_tools import *\n",
    "from misc_tools import PathUtils as PU\n",
    "from misc_tools import AudioCut"
   ]
  },
  {
   "cell_type": "markdown",
   "metadata": {},
   "source": [
    "## Preps"
   ]
  },
  {
   "attachments": {},
   "cell_type": "markdown",
   "metadata": {
    "tags": []
   },
   "source": [
    "### Dirs"
   ]
  },
  {
   "cell_type": "code",
   "execution_count": 3,
   "metadata": {
    "id": "iGouCDYD3h18"
   },
   "outputs": [],
   "source": [
    "rec_dir = train_cut_word_\n",
    "train_guide_path = os.path.join(src_, \"guide_train.csv\")\n",
    "valid_guide_path = os.path.join(src_, \"guide_validation.csv\")\n",
    "test_guide_path = os.path.join(src_, \"guide_test.csv\")"
   ]
  },
  {
   "cell_type": "markdown",
   "metadata": {},
   "source": [
    "### Constants"
   ]
  },
  {
   "cell_type": "code",
   "execution_count": 4,
   "metadata": {},
   "outputs": [],
   "source": [
    "EPOCHS = 10\n",
    "BATCH_SIZE = 1\n",
    "\n",
    "INPUT_DIM = 64\n",
    "OUTPUT_DIM = 64\n",
    "\n",
    "INTER_DIM_0 = 32\n",
    "INTER_DIM_1 = 16\n",
    "INTER_DIM_2 = 8\n",
    "\n",
    "ENC_SIZE_LIST = [INPUT_DIM, INTER_DIM_0, INTER_DIM_1, INTER_DIM_2]\n",
    "DEC_SIZE_LIST = [OUTPUT_DIM, INTER_DIM_0, INTER_DIM_1, INTER_DIM_2]\n",
    "\n",
    "DROPOUT = 0.5\n",
    "\n",
    "REC_SAMPLE_RATE = 16000\n",
    "N_FFT = 400\n",
    "N_MELS = 64\n",
    "\n",
    "LOADER_WORKER = 16"
   ]
  },
  {
   "cell_type": "markdown",
   "metadata": {},
   "source": [
    "## Prepare for loading Model"
   ]
  },
  {
   "cell_type": "code",
   "execution_count": 5,
   "metadata": {},
   "outputs": [
    {
     "name": "stdout",
     "output_type": "stream",
     "text": [
      "A_01-0129190623\n"
     ]
    }
   ],
   "source": [
    "ts = \"0129190623\"\n",
    "stop_epoch = \"49\"\n",
    "train_name = \"A_01\"\n",
    "model_save_dir = os.path.join(model_save_, f\"{train_name}-{ts}\")\n",
    "assert PU.path_exist(model_save_dir)\n",
    "print(f\"{train_name}-{ts}\")"
   ]
  },
  {
   "cell_type": "markdown",
   "metadata": {},
   "source": [
    "## Load Dataset"
   ]
  },
  {
   "cell_type": "code",
   "execution_count": 6,
   "metadata": {},
   "outputs": [],
   "source": [
    "TEST = False"
   ]
  },
  {
   "cell_type": "code",
   "execution_count": 7,
   "metadata": {},
   "outputs": [],
   "source": [
    "mytrans = TheTransform(sample_rate=REC_SAMPLE_RATE, \n",
    "                       n_fft=N_FFT, n_mels=N_MELS, \n",
    "                       normalizer=Normalizer.norm_mvn, \n",
    "                       denormalizer=DeNormalizer.norm_mvn)\n",
    "\n",
    "valid_ds = ThisDataset(rec_dir, \n",
    "                       valid_guide_path, \n",
    "                       transform=mytrans)\n",
    "\n",
    "valid_ds_indices = DS_Tools.read_indices(os.path.join(model_save_dir, \"valid.use\"))\n",
    "\n",
    "use_valid_ds = torch.utils.data.Subset(valid_ds, valid_ds_indices)\n",
    "\n",
    "valid_loader = DataLoader(use_valid_ds, batch_size=BATCH_SIZE, shuffle=False, num_workers=LOADER_WORKER, collate_fn=ThisDataset.collate_fn)\n",
    "valid_num = len(valid_loader.dataset)\n",
    "\n",
    "\n",
    "# Load Test set\n",
    "if TEST: \n",
    "    test_ds = ThisDataset(rec_dir, \n",
    "                        test_guide_path, \n",
    "                        transform=mytrans)\n",
    "    test_ds_indices = DS_Tools.read_indices(os.path.join(model_save_dir, \"test.use\"))\n",
    "\n",
    "    use_test_ds = torch.utils.data.Subset(test_ds, test_ds_indices)\n",
    "\n",
    "    test_loader = DataLoader(use_test_ds, batch_size=BATCH_SIZE, shuffle=False, num_workers=LOADER_WORKER, collate_fn=ThisDataset.collate_fn)\n",
    "    test_num = len(test_loader.dataset)"
   ]
  },
  {
   "cell_type": "markdown",
   "metadata": {},
   "source": [
    "## Model"
   ]
  },
  {
   "cell_type": "markdown",
   "metadata": {},
   "source": [
    "### Model-related defs"
   ]
  },
  {
   "cell_type": "code",
   "execution_count": 8,
   "metadata": {
    "id": "lUxoYBUg1jLq"
   },
   "outputs": [],
   "source": [
    "device = torch.device('cuda' if torch.cuda.is_available() else 'cpu')\n",
    "recon_loss = nn.MSELoss(reduction='none')\n",
    "masked_recon_loss = MaskedLoss(recon_loss)\n",
    "model_loss = masked_recon_loss\n",
    "\n",
    "model = TheLearner(enc_size_list=ENC_SIZE_LIST, dec_size_list=DEC_SIZE_LIST, num_layers=2)\n",
    "# model = TheLearner(enc_size_list=ENC_SIZE_LIST, dec_size_list=DEC_SIZE_LIST, num_layers=1)\n",
    "model.to(device)\n",
    "optimizer = optim.Adam(model.parameters(), lr=1e-3)"
   ]
  },
  {
   "cell_type": "markdown",
   "metadata": {},
   "source": [
    "### Load Model"
   ]
  },
  {
   "cell_type": "code",
   "execution_count": 9,
   "metadata": {},
   "outputs": [
    {
     "data": {
      "text/plain": [
       "LRLInitLRALNet(\n",
       "  (encoder): LRLEncoder(\n",
       "    (lin_1): LinearPack(\n",
       "      (linear): Linear(in_features=64, out_features=32, bias=True)\n",
       "      (norm): LayerNorm((32,), eps=1e-05, elementwise_affine=True)\n",
       "      (relu): Tanh()\n",
       "      (dropout): Dropout(p=0.5, inplace=False)\n",
       "    )\n",
       "    (rnn): LSTM(32, 16, num_layers=2, batch_first=True)\n",
       "    (lin_2): Linear(in_features=16, out_features=8, bias=True)\n",
       "  )\n",
       "  (decoder): InitLRALDecoder(\n",
       "    (lin_1): LinearPack(\n",
       "      (linear): Linear(in_features=64, out_features=32, bias=True)\n",
       "      (norm): LayerNorm((32,), eps=1e-05, elementwise_affine=True)\n",
       "      (relu): Tanh()\n",
       "      (dropout): Dropout(p=0.5, inplace=False)\n",
       "    )\n",
       "    (rnn): LSTM(32, 8, num_layers=2, batch_first=True)\n",
       "    (attention): ScaledDotProductAttention(\n",
       "      (w_q): Linear(in_features=8, out_features=8, bias=True)\n",
       "      (w_k): Linear(in_features=8, out_features=8, bias=True)\n",
       "      (w_v): Linear(in_features=8, out_features=8, bias=True)\n",
       "    )\n",
       "    (lin_3): Linear(in_features=8, out_features=64, bias=True)\n",
       "  )\n",
       ")"
      ]
     },
     "execution_count": 9,
     "metadata": {},
     "output_type": "execute_result"
    }
   ],
   "source": [
    "model_name = \"{}.pt\".format(stop_epoch)\n",
    "model_path = os.path.join(model_save_dir, model_name)\n",
    "state = torch.load(model_path)\n",
    "\n",
    "model.load_state_dict(state)\n",
    "model.to(device)"
   ]
  },
  {
   "cell_type": "markdown",
   "metadata": {},
   "source": [
    "## Inference"
   ]
  },
  {
   "cell_type": "code",
   "execution_count": 10,
   "metadata": {},
   "outputs": [],
   "source": [
    "def infer(): \n",
    "    model.eval()\n",
    "    reshandler = ReconResHandler(whole_res_dir=model_save_dir, \n",
    "                                 file_prefix=\"recon\")\n",
    "    all_res = []\n",
    "    all_ori = []\n",
    "    all_name = []\n",
    "\n",
    "    total = len(valid_loader)\n",
    "\n",
    "    for (x, x_lens, name) in tqdm(valid_loader): \n",
    "        name = name[0]\n",
    "\n",
    "        x_mask = generate_mask_from_lengths_mat(x_lens, device=device)\n",
    "        \n",
    "        x = x.to(device)\n",
    "\n",
    "        recon_x, attn_weight = model(x, x_lens, x_mask)\n",
    "\n",
    "        recon_x = recon_x.cpu().detach().numpy().squeeze()\n",
    "        ori_x = x.cpu().detach().numpy().squeeze()\n",
    "\n",
    "        all_res += [recon_x]\n",
    "        # note that this is bit different, not each frame, but each sequence is treated as one data point\n",
    "        all_ori += [ori_x]\n",
    "        all_name += [name]\n",
    "    \n",
    "\n",
    "    reshandler.res = all_res\n",
    "    reshandler.tok = all_ori\n",
    "    reshandler.name = all_name\n",
    "    reshandler.save()"
   ]
  },
  {
   "cell_type": "code",
   "execution_count": 11,
   "metadata": {},
   "outputs": [
    {
     "name": "stderr",
     "output_type": "stream",
     "text": [
      "100%|██████████| 9130/9130 [01:18<00:00, 117.05it/s]\n"
     ]
    }
   ],
   "source": [
    "if __name__ == \"__main__\": \n",
    "    infer()"
   ]
  },
  {
   "cell_type": "markdown",
   "metadata": {},
   "source": [
    "# Load Res"
   ]
  },
  {
   "cell_type": "code",
   "execution_count": 11,
   "metadata": {},
   "outputs": [],
   "source": [
    "reshandler = ReconResHandler(whole_res_dir=model_save_dir, file_prefix=\"recon\")\n",
    "reshandler.read()"
   ]
  },
  {
   "cell_type": "markdown",
   "metadata": {},
   "source": [
    "# Plot some recon and original comparisons"
   ]
  },
  {
   "cell_type": "code",
   "execution_count": 12,
   "metadata": {},
   "outputs": [],
   "source": [
    "# all\n",
    "all_recon = reshandler.res\n",
    "all_ori = reshandler.tok\n",
    "all_name = reshandler.name"
   ]
  },
  {
   "cell_type": "code",
   "execution_count": 13,
   "metadata": {},
   "outputs": [],
   "source": [
    "def plot_spectrogram(specgram, title=None, ylabel=\"freq_bin\", ax=None):\n",
    "    if ax is None:\n",
    "        _, ax = plt.subplots(1, 1)\n",
    "    if title is not None:\n",
    "        ax.set_title(title)\n",
    "    ax.set_ylabel(ylabel)\n",
    "    # ax.imshow(librosa.power_to_db(specgram), origin=\"lower\", aspect=\"auto\", interpolation=\"nearest\")\n",
    "    ax.imshow(specgram, origin=\"lower\", aspect=\"auto\", interpolation=\"nearest\")"
   ]
  },
  {
   "cell_type": "code",
   "execution_count": 21,
   "metadata": {},
   "outputs": [],
   "source": [
    "i = random.randint(0, len(all_name))"
   ]
  },
  {
   "cell_type": "code",
   "execution_count": 22,
   "metadata": {},
   "outputs": [
    {
     "data": {
      "text/plain": [
       "'8419-293473-0000-0014'"
      ]
     },
     "execution_count": 22,
     "metadata": {},
     "output_type": "execute_result"
    }
   ],
   "source": [
    "reshandler.name[i]"
   ]
  },
  {
   "cell_type": "code",
   "execution_count": 23,
   "metadata": {},
   "outputs": [
    {
     "data": {
      "image/png": "[encoded data removed]",
      "text/plain": [
       "<Figure size 640x480 with 2 Axes>"
      ]
     },
     "metadata": {},
     "output_type": "display_data"
    }
   ],
   "source": [
    "fig, axs = plt.subplots(2, 1)\n",
    "plot_spectrogram(all_ori[i].T, title=\"mel-spectrogram of input\", ax=axs[0])\n",
    "plot_spectrogram(all_recon[i].T, title=\"reconstructed mel-spectrogram\", ax=axs[1])\n",
    "fig.tight_layout()"
   ]
  },
  {
   "cell_type": "code",
   "execution_count": 25,
   "metadata": {},
   "outputs": [
    {
     "data": {
      "image/png": "[encoded data removed]",
      "text/plain": [
       "<Figure size 640x480 with 2 Axes>"
      ]
     },
     "metadata": {},
     "output_type": "display_data"
    }
   ],
   "source": [
    "rec, rate = torchaudio.load(os.path.join(rec_dir, \"/\".join(AudioCut.solve_name(all_name[i])[:-1]), all_name[i] + \".flac\"))\n",
    "\n",
    "fig, axs = plt.subplots(2, 1)\n",
    "plot_spectrogram(mytrans.de_norm(torch.from_numpy(all_ori[i]), rec).numpy().T, title=\"mel-spectrogram of input\", ax=axs[0])\n",
    "plot_spectrogram(mytrans.de_norm(torch.from_numpy(all_recon[i]), rec).numpy().T, title=\"reconstructed mel-spectrogram\", ax=axs[1])\n",
    "fig.tight_layout()"
   ]
  },
  {
   "cell_type": "code",
   "execution_count": 19,
   "metadata": {},
   "outputs": [
    {
     "data": {
      "text/html": [
       "\n",
       "                <audio  controls=\"controls\" >\n",
       "                    <source src=\"data:audio/wav;base64,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\" type=\"audio/wav\" />\n",
       "                    Your browser does not support the audio element.\n",
       "                </audio>\n",
       "              "
      ],
      "text/plain": [
       "<IPython.lib.display.Audio object>"
      ]
     },
     "execution_count": 19,
     "metadata": {},
     "output_type": "execute_result"
    }
   ],
   "source": [
    "Audio(rec.numpy(), rate=rate)"
   ]
  },
  {
   "cell_type": "code",
   "execution_count": 20,
   "metadata": {},
   "outputs": [
    {
     "ename": "_LinAlgError",
     "evalue": "torch.linalg.lstsq: The least squares solution could not be computed because the input matrix does not have full rank (error code: 3).",
     "output_type": "error",
     "traceback": [
      "\u001b[0;31m---------------------------------------------------------------------------\u001b[0m",
      "\u001b[0;31m_LinAlgError\u001b[0m                              Traceback (most recent call last)",
      "Cell \u001b[0;32mIn[20], line 1\u001b[0m\n\u001b[0;32m----> 1\u001b[0m Audio(mytrans\u001b[38;5;241m.\u001b[39minverse(mytrans\u001b[38;5;241m.\u001b[39mde_norm(torch\u001b[38;5;241m.\u001b[39mfrom_numpy(all_ori[i]), rec))\u001b[38;5;241m.\u001b[39mnumpy(), rate\u001b[38;5;241m=\u001b[39mREC_SAMPLE_RATE)\n",
      "File \u001b[0;32m~/Projects/wavln/script/model_dataset.py:381\u001b[0m, in \u001b[0;36mMelSpecTransformNoDB.inverse\u001b[0;34m(self, mel_spec)\u001b[0m\n\u001b[1;32m    379\u001b[0m mel_spec \u001b[38;5;241m=\u001b[39m mel_spec\u001b[38;5;241m.\u001b[39mpermute(\u001b[38;5;241m1\u001b[39m, \u001b[38;5;241m0\u001b[39m) \u001b[38;5;66;03m# (L, F) -> (F, L)\u001b[39;00m\n\u001b[1;32m    380\u001b[0m mel_spec \u001b[38;5;241m=\u001b[39m mel_spec\u001b[38;5;241m.\u001b[39munsqueeze(\u001b[38;5;241m0\u001b[39m)  \u001b[38;5;66;03m# restore from (F, L) to (channel, F, L)\u001b[39;00m\n\u001b[0;32m--> 381\u001b[0m i_mel \u001b[38;5;241m=\u001b[39m \u001b[38;5;28mself\u001b[39m\u001b[38;5;241m.\u001b[39minverse_mel(mel_spec)\n\u001b[1;32m    382\u001b[0m inv \u001b[38;5;241m=\u001b[39m \u001b[38;5;28mself\u001b[39m\u001b[38;5;241m.\u001b[39mgrifflim(i_mel)\n\u001b[1;32m    383\u001b[0m \u001b[38;5;28;01mreturn\u001b[39;00m inv\n",
      "File \u001b[0;32m~/anaconda3/envs/wavln/lib/python3.11/site-packages/torch/nn/modules/module.py:1518\u001b[0m, in \u001b[0;36mModule._wrapped_call_impl\u001b[0;34m(self, *args, **kwargs)\u001b[0m\n\u001b[1;32m   1516\u001b[0m     \u001b[38;5;28;01mreturn\u001b[39;00m \u001b[38;5;28mself\u001b[39m\u001b[38;5;241m.\u001b[39m_compiled_call_impl(\u001b[38;5;241m*\u001b[39margs, \u001b[38;5;241m*\u001b[39m\u001b[38;5;241m*\u001b[39mkwargs)  \u001b[38;5;66;03m# type: ignore[misc]\u001b[39;00m\n\u001b[1;32m   1517\u001b[0m \u001b[38;5;28;01melse\u001b[39;00m:\n\u001b[0;32m-> 1518\u001b[0m     \u001b[38;5;28;01mreturn\u001b[39;00m \u001b[38;5;28mself\u001b[39m\u001b[38;5;241m.\u001b[39m_call_impl(\u001b[38;5;241m*\u001b[39margs, \u001b[38;5;241m*\u001b[39m\u001b[38;5;241m*\u001b[39mkwargs)\n",
      "File \u001b[0;32m~/anaconda3/envs/wavln/lib/python3.11/site-packages/torch/nn/modules/module.py:1527\u001b[0m, in \u001b[0;36mModule._call_impl\u001b[0;34m(self, *args, **kwargs)\u001b[0m\n\u001b[1;32m   1522\u001b[0m \u001b[38;5;66;03m# If we don't have any hooks, we want to skip the rest of the logic in\u001b[39;00m\n\u001b[1;32m   1523\u001b[0m \u001b[38;5;66;03m# this function, and just call forward.\u001b[39;00m\n\u001b[1;32m   1524\u001b[0m \u001b[38;5;28;01mif\u001b[39;00m \u001b[38;5;129;01mnot\u001b[39;00m (\u001b[38;5;28mself\u001b[39m\u001b[38;5;241m.\u001b[39m_backward_hooks \u001b[38;5;129;01mor\u001b[39;00m \u001b[38;5;28mself\u001b[39m\u001b[38;5;241m.\u001b[39m_backward_pre_hooks \u001b[38;5;129;01mor\u001b[39;00m \u001b[38;5;28mself\u001b[39m\u001b[38;5;241m.\u001b[39m_forward_hooks \u001b[38;5;129;01mor\u001b[39;00m \u001b[38;5;28mself\u001b[39m\u001b[38;5;241m.\u001b[39m_forward_pre_hooks\n\u001b[1;32m   1525\u001b[0m         \u001b[38;5;129;01mor\u001b[39;00m _global_backward_pre_hooks \u001b[38;5;129;01mor\u001b[39;00m _global_backward_hooks\n\u001b[1;32m   1526\u001b[0m         \u001b[38;5;129;01mor\u001b[39;00m _global_forward_hooks \u001b[38;5;129;01mor\u001b[39;00m _global_forward_pre_hooks):\n\u001b[0;32m-> 1527\u001b[0m     \u001b[38;5;28;01mreturn\u001b[39;00m forward_call(\u001b[38;5;241m*\u001b[39margs, \u001b[38;5;241m*\u001b[39m\u001b[38;5;241m*\u001b[39mkwargs)\n\u001b[1;32m   1529\u001b[0m \u001b[38;5;28;01mtry\u001b[39;00m:\n\u001b[1;32m   1530\u001b[0m     result \u001b[38;5;241m=\u001b[39m \u001b[38;5;28;01mNone\u001b[39;00m\n",
      "File \u001b[0;32m~/anaconda3/envs/wavln/lib/python3.11/site-packages/torchaudio/transforms/_transforms.py:498\u001b[0m, in \u001b[0;36mInverseMelScale.forward\u001b[0;34m(self, melspec)\u001b[0m\n\u001b[1;32m    495\u001b[0m \u001b[38;5;28;01mif\u001b[39;00m \u001b[38;5;28mself\u001b[39m\u001b[38;5;241m.\u001b[39mn_mels \u001b[38;5;241m!=\u001b[39m n_mels:\n\u001b[1;32m    496\u001b[0m     \u001b[38;5;28;01mraise\u001b[39;00m \u001b[38;5;167;01mValueError\u001b[39;00m(\u001b[38;5;124m\"\u001b[39m\u001b[38;5;124mExpected an input with \u001b[39m\u001b[38;5;132;01m{}\u001b[39;00m\u001b[38;5;124m mel bins. Found: \u001b[39m\u001b[38;5;132;01m{}\u001b[39;00m\u001b[38;5;124m\"\u001b[39m\u001b[38;5;241m.\u001b[39mformat(\u001b[38;5;28mself\u001b[39m\u001b[38;5;241m.\u001b[39mn_mels, n_mels))\n\u001b[0;32m--> 498\u001b[0m specgram \u001b[38;5;241m=\u001b[39m torch\u001b[38;5;241m.\u001b[39mrelu(torch\u001b[38;5;241m.\u001b[39mlinalg\u001b[38;5;241m.\u001b[39mlstsq(\u001b[38;5;28mself\u001b[39m\u001b[38;5;241m.\u001b[39mfb\u001b[38;5;241m.\u001b[39mtranspose(\u001b[38;5;241m-\u001b[39m\u001b[38;5;241m1\u001b[39m, \u001b[38;5;241m-\u001b[39m\u001b[38;5;241m2\u001b[39m)[\u001b[38;5;28;01mNone\u001b[39;00m], melspec, driver\u001b[38;5;241m=\u001b[39m\u001b[38;5;28mself\u001b[39m\u001b[38;5;241m.\u001b[39mdriver)\u001b[38;5;241m.\u001b[39msolution)\n\u001b[1;32m    500\u001b[0m \u001b[38;5;66;03m# unpack batch\u001b[39;00m\n\u001b[1;32m    501\u001b[0m specgram \u001b[38;5;241m=\u001b[39m specgram\u001b[38;5;241m.\u001b[39mview(shape[:\u001b[38;5;241m-\u001b[39m\u001b[38;5;241m2\u001b[39m] \u001b[38;5;241m+\u001b[39m (freq, time))\n",
      "\u001b[0;31m_LinAlgError\u001b[0m: torch.linalg.lstsq: The least squares solution could not be computed because the input matrix does not have full rank (error code: 3)."
     ]
    }
   ],
   "source": [
    "Audio(mytrans.inverse(mytrans.de_norm(torch.from_numpy(all_ori[i]), rec)).numpy(), rate=REC_SAMPLE_RATE)"
   ]
  },
  {
   "cell_type": "code",
   "execution_count": 19,
   "metadata": {},
   "outputs": [
    {
     "ename": "RuntimeError",
     "evalue": "istft(CPUComplexFloatType[1, 200, 21], n_fft=400, hop_length=200, win_length=400, window=torch.FloatTensor{[400]}, center=1, normalized=0, onesided=None, length=None, return_complex=0) : expected the frequency dimension (3rd to the last) of the input tensor to match n_fft / 2 + 1 when onesided=True, but got 200",
     "output_type": "error",
     "traceback": [
      "\u001b[0;31m---------------------------------------------------------------------------\u001b[0m",
      "\u001b[0;31mRuntimeError\u001b[0m                              Traceback (most recent call last)",
      "Cell \u001b[0;32mIn[19], line 1\u001b[0m\n\u001b[0;32m----> 1\u001b[0m Audio(mytrans\u001b[38;5;241m.\u001b[39minverse(mytrans\u001b[38;5;241m.\u001b[39mde_norm(torch\u001b[38;5;241m.\u001b[39mfrom_numpy(all_recon[i]), rec))\u001b[38;5;241m.\u001b[39mnumpy(), rate\u001b[38;5;241m=\u001b[39mREC_SAMPLE_RATE)\n",
      "File \u001b[0;32m~/Projects/wavln/script/model_dataset.py:382\u001b[0m, in \u001b[0;36mMelSpecTransformNoDB.inverse\u001b[0;34m(self, mel_spec)\u001b[0m\n\u001b[1;32m    380\u001b[0m mel_spec \u001b[38;5;241m=\u001b[39m mel_spec\u001b[38;5;241m.\u001b[39munsqueeze(\u001b[38;5;241m0\u001b[39m)  \u001b[38;5;66;03m# restore from (F, L) to (channel, F, L)\u001b[39;00m\n\u001b[1;32m    381\u001b[0m i_mel \u001b[38;5;241m=\u001b[39m \u001b[38;5;28mself\u001b[39m\u001b[38;5;241m.\u001b[39minverse_mel(mel_spec)\n\u001b[0;32m--> 382\u001b[0m inv \u001b[38;5;241m=\u001b[39m \u001b[38;5;28mself\u001b[39m\u001b[38;5;241m.\u001b[39mgrifflim(i_mel)\n\u001b[1;32m    383\u001b[0m \u001b[38;5;28;01mreturn\u001b[39;00m inv\n",
      "File \u001b[0;32m~/anaconda3/envs/wavln/lib/python3.11/site-packages/torch/nn/modules/module.py:1518\u001b[0m, in \u001b[0;36mModule._wrapped_call_impl\u001b[0;34m(self, *args, **kwargs)\u001b[0m\n\u001b[1;32m   1516\u001b[0m     \u001b[38;5;28;01mreturn\u001b[39;00m \u001b[38;5;28mself\u001b[39m\u001b[38;5;241m.\u001b[39m_compiled_call_impl(\u001b[38;5;241m*\u001b[39margs, \u001b[38;5;241m*\u001b[39m\u001b[38;5;241m*\u001b[39mkwargs)  \u001b[38;5;66;03m# type: ignore[misc]\u001b[39;00m\n\u001b[1;32m   1517\u001b[0m \u001b[38;5;28;01melse\u001b[39;00m:\n\u001b[0;32m-> 1518\u001b[0m     \u001b[38;5;28;01mreturn\u001b[39;00m \u001b[38;5;28mself\u001b[39m\u001b[38;5;241m.\u001b[39m_call_impl(\u001b[38;5;241m*\u001b[39margs, \u001b[38;5;241m*\u001b[39m\u001b[38;5;241m*\u001b[39mkwargs)\n",
      "File \u001b[0;32m~/anaconda3/envs/wavln/lib/python3.11/site-packages/torch/nn/modules/module.py:1527\u001b[0m, in \u001b[0;36mModule._call_impl\u001b[0;34m(self, *args, **kwargs)\u001b[0m\n\u001b[1;32m   1522\u001b[0m \u001b[38;5;66;03m# If we don't have any hooks, we want to skip the rest of the logic in\u001b[39;00m\n\u001b[1;32m   1523\u001b[0m \u001b[38;5;66;03m# this function, and just call forward.\u001b[39;00m\n\u001b[1;32m   1524\u001b[0m \u001b[38;5;28;01mif\u001b[39;00m \u001b[38;5;129;01mnot\u001b[39;00m (\u001b[38;5;28mself\u001b[39m\u001b[38;5;241m.\u001b[39m_backward_hooks \u001b[38;5;129;01mor\u001b[39;00m \u001b[38;5;28mself\u001b[39m\u001b[38;5;241m.\u001b[39m_backward_pre_hooks \u001b[38;5;129;01mor\u001b[39;00m \u001b[38;5;28mself\u001b[39m\u001b[38;5;241m.\u001b[39m_forward_hooks \u001b[38;5;129;01mor\u001b[39;00m \u001b[38;5;28mself\u001b[39m\u001b[38;5;241m.\u001b[39m_forward_pre_hooks\n\u001b[1;32m   1525\u001b[0m         \u001b[38;5;129;01mor\u001b[39;00m _global_backward_pre_hooks \u001b[38;5;129;01mor\u001b[39;00m _global_backward_hooks\n\u001b[1;32m   1526\u001b[0m         \u001b[38;5;129;01mor\u001b[39;00m _global_forward_hooks \u001b[38;5;129;01mor\u001b[39;00m _global_forward_pre_hooks):\n\u001b[0;32m-> 1527\u001b[0m     \u001b[38;5;28;01mreturn\u001b[39;00m forward_call(\u001b[38;5;241m*\u001b[39margs, \u001b[38;5;241m*\u001b[39m\u001b[38;5;241m*\u001b[39mkwargs)\n\u001b[1;32m   1529\u001b[0m \u001b[38;5;28;01mtry\u001b[39;00m:\n\u001b[1;32m   1530\u001b[0m     result \u001b[38;5;241m=\u001b[39m \u001b[38;5;28;01mNone\u001b[39;00m\n",
      "File \u001b[0;32m~/anaconda3/envs/wavln/lib/python3.11/site-packages/torchaudio/transforms/_transforms.py:285\u001b[0m, in \u001b[0;36mGriffinLim.forward\u001b[0;34m(self, specgram)\u001b[0m\n\u001b[1;32m    275\u001b[0m \u001b[38;5;28;01mdef\u001b[39;00m \u001b[38;5;21mforward\u001b[39m(\u001b[38;5;28mself\u001b[39m, specgram: Tensor) \u001b[38;5;241m-\u001b[39m\u001b[38;5;241m>\u001b[39m Tensor:\n\u001b[1;32m    276\u001b[0m \u001b[38;5;250m    \u001b[39m\u001b[38;5;124mr\u001b[39m\u001b[38;5;124;03m\"\"\"\u001b[39;00m\n\u001b[1;32m    277\u001b[0m \u001b[38;5;124;03m    Args:\u001b[39;00m\n\u001b[1;32m    278\u001b[0m \u001b[38;5;124;03m        specgram (Tensor):\u001b[39;00m\n\u001b[0;32m   (...)\u001b[0m\n\u001b[1;32m    283\u001b[0m \u001b[38;5;124;03m        Tensor: waveform of (..., time), where time equals the ``length`` parameter if given.\u001b[39;00m\n\u001b[1;32m    284\u001b[0m \u001b[38;5;124;03m    \"\"\"\u001b[39;00m\n\u001b[0;32m--> 285\u001b[0m     \u001b[38;5;28;01mreturn\u001b[39;00m F\u001b[38;5;241m.\u001b[39mgriffinlim(\n\u001b[1;32m    286\u001b[0m         specgram,\n\u001b[1;32m    287\u001b[0m         \u001b[38;5;28mself\u001b[39m\u001b[38;5;241m.\u001b[39mwindow,\n\u001b[1;32m    288\u001b[0m         \u001b[38;5;28mself\u001b[39m\u001b[38;5;241m.\u001b[39mn_fft,\n\u001b[1;32m    289\u001b[0m         \u001b[38;5;28mself\u001b[39m\u001b[38;5;241m.\u001b[39mhop_length,\n\u001b[1;32m    290\u001b[0m         \u001b[38;5;28mself\u001b[39m\u001b[38;5;241m.\u001b[39mwin_length,\n\u001b[1;32m    291\u001b[0m         \u001b[38;5;28mself\u001b[39m\u001b[38;5;241m.\u001b[39mpower,\n\u001b[1;32m    292\u001b[0m         \u001b[38;5;28mself\u001b[39m\u001b[38;5;241m.\u001b[39mn_iter,\n\u001b[1;32m    293\u001b[0m         \u001b[38;5;28mself\u001b[39m\u001b[38;5;241m.\u001b[39mmomentum,\n\u001b[1;32m    294\u001b[0m         \u001b[38;5;28mself\u001b[39m\u001b[38;5;241m.\u001b[39mlength,\n\u001b[1;32m    295\u001b[0m         \u001b[38;5;28mself\u001b[39m\u001b[38;5;241m.\u001b[39mrand_init,\n\u001b[1;32m    296\u001b[0m     )\n",
      "File \u001b[0;32m~/anaconda3/envs/wavln/lib/python3.11/site-packages/torchaudio/functional/functional.py:321\u001b[0m, in \u001b[0;36mgriffinlim\u001b[0;34m(specgram, window, n_fft, hop_length, win_length, power, n_iter, momentum, length, rand_init)\u001b[0m\n\u001b[1;32m    318\u001b[0m tprev \u001b[38;5;241m=\u001b[39m torch\u001b[38;5;241m.\u001b[39mtensor(\u001b[38;5;241m0.0\u001b[39m, dtype\u001b[38;5;241m=\u001b[39mspecgram\u001b[38;5;241m.\u001b[39mdtype, device\u001b[38;5;241m=\u001b[39mspecgram\u001b[38;5;241m.\u001b[39mdevice)\n\u001b[1;32m    319\u001b[0m \u001b[38;5;28;01mfor\u001b[39;00m _ \u001b[38;5;129;01min\u001b[39;00m \u001b[38;5;28mrange\u001b[39m(n_iter):\n\u001b[1;32m    320\u001b[0m     \u001b[38;5;66;03m# Invert with our current estimate of the phases\u001b[39;00m\n\u001b[0;32m--> 321\u001b[0m     inverse \u001b[38;5;241m=\u001b[39m torch\u001b[38;5;241m.\u001b[39mistft(\n\u001b[1;32m    322\u001b[0m         specgram \u001b[38;5;241m*\u001b[39m angles, n_fft\u001b[38;5;241m=\u001b[39mn_fft, hop_length\u001b[38;5;241m=\u001b[39mhop_length, win_length\u001b[38;5;241m=\u001b[39mwin_length, window\u001b[38;5;241m=\u001b[39mwindow, length\u001b[38;5;241m=\u001b[39mlength\n\u001b[1;32m    323\u001b[0m     )\n\u001b[1;32m    325\u001b[0m     \u001b[38;5;66;03m# Rebuild the spectrogram\u001b[39;00m\n\u001b[1;32m    326\u001b[0m     rebuilt \u001b[38;5;241m=\u001b[39m torch\u001b[38;5;241m.\u001b[39mstft(\n\u001b[1;32m    327\u001b[0m         \u001b[38;5;28minput\u001b[39m\u001b[38;5;241m=\u001b[39minverse,\n\u001b[1;32m    328\u001b[0m         n_fft\u001b[38;5;241m=\u001b[39mn_fft,\n\u001b[0;32m   (...)\u001b[0m\n\u001b[1;32m    336\u001b[0m         return_complex\u001b[38;5;241m=\u001b[39m\u001b[38;5;28;01mTrue\u001b[39;00m,\n\u001b[1;32m    337\u001b[0m     )\n",
      "\u001b[0;31mRuntimeError\u001b[0m: istft(CPUComplexFloatType[1, 200, 21], n_fft=400, hop_length=200, win_length=400, window=torch.FloatTensor{[400]}, center=1, normalized=0, onesided=None, length=None, return_complex=0) : expected the frequency dimension (3rd to the last) of the input tensor to match n_fft / 2 + 1 when onesided=True, but got 200"
     ]
    }
   ],
   "source": [
    "Audio(mytrans.inverse(mytrans.de_norm(torch.from_numpy(all_recon[i]), rec)).numpy(), rate=REC_SAMPLE_RATE)"
   ]
  },
  {
   "cell_type": "code",
   "execution_count": 30,
   "metadata": {},
   "outputs": [
    {
     "ename": "_LinAlgError",
     "evalue": "torch.linalg.lstsq: The least squares solution could not be computed because the input matrix does not have full rank (error code: 3).",
     "output_type": "error",
     "traceback": [
      "\u001b[0;31m---------------------------------------------------------------------------\u001b[0m",
      "\u001b[0;31m_LinAlgError\u001b[0m                              Traceback (most recent call last)",
      "Cell \u001b[0;32mIn[30], line 1\u001b[0m\n\u001b[0;32m----> 1\u001b[0m Audio(mytrans\u001b[38;5;241m.\u001b[39minverse(torch\u001b[38;5;241m.\u001b[39mfrom_numpy(all_ori[i]))\u001b[38;5;241m.\u001b[39mnumpy(), rate\u001b[38;5;241m=\u001b[39mREC_SAMPLE_RATE)\n",
      "File \u001b[0;32m~/Projects/wavln/script/model_dataset.py:380\u001b[0m, in \u001b[0;36mMelSpecTransformNoDB.inverse\u001b[0;34m(self, mel_spec)\u001b[0m\n\u001b[1;32m    378\u001b[0m mel_spec \u001b[38;5;241m=\u001b[39m mel_spec\u001b[38;5;241m.\u001b[39mpermute(\u001b[38;5;241m1\u001b[39m, \u001b[38;5;241m0\u001b[39m) \u001b[38;5;66;03m# (L, F) -> (F, L)\u001b[39;00m\n\u001b[1;32m    379\u001b[0m mel_spec \u001b[38;5;241m=\u001b[39m mel_spec\u001b[38;5;241m.\u001b[39munsqueeze(\u001b[38;5;241m0\u001b[39m)  \u001b[38;5;66;03m# restore from (F, L) to (channel, F, L)\u001b[39;00m\n\u001b[0;32m--> 380\u001b[0m i_mel \u001b[38;5;241m=\u001b[39m \u001b[38;5;28mself\u001b[39m\u001b[38;5;241m.\u001b[39minverse_mel(mel_spec)\n\u001b[1;32m    381\u001b[0m inv \u001b[38;5;241m=\u001b[39m \u001b[38;5;28mself\u001b[39m\u001b[38;5;241m.\u001b[39mgrifflim(i_mel)\n\u001b[1;32m    382\u001b[0m \u001b[38;5;28;01mreturn\u001b[39;00m inv\n",
      "File \u001b[0;32m~/anaconda3/envs/wavln/lib/python3.11/site-packages/torch/nn/modules/module.py:1518\u001b[0m, in \u001b[0;36mModule._wrapped_call_impl\u001b[0;34m(self, *args, **kwargs)\u001b[0m\n\u001b[1;32m   1516\u001b[0m     \u001b[38;5;28;01mreturn\u001b[39;00m \u001b[38;5;28mself\u001b[39m\u001b[38;5;241m.\u001b[39m_compiled_call_impl(\u001b[38;5;241m*\u001b[39margs, \u001b[38;5;241m*\u001b[39m\u001b[38;5;241m*\u001b[39mkwargs)  \u001b[38;5;66;03m# type: ignore[misc]\u001b[39;00m\n\u001b[1;32m   1517\u001b[0m \u001b[38;5;28;01melse\u001b[39;00m:\n\u001b[0;32m-> 1518\u001b[0m     \u001b[38;5;28;01mreturn\u001b[39;00m \u001b[38;5;28mself\u001b[39m\u001b[38;5;241m.\u001b[39m_call_impl(\u001b[38;5;241m*\u001b[39margs, \u001b[38;5;241m*\u001b[39m\u001b[38;5;241m*\u001b[39mkwargs)\n",
      "File \u001b[0;32m~/anaconda3/envs/wavln/lib/python3.11/site-packages/torch/nn/modules/module.py:1527\u001b[0m, in \u001b[0;36mModule._call_impl\u001b[0;34m(self, *args, **kwargs)\u001b[0m\n\u001b[1;32m   1522\u001b[0m \u001b[38;5;66;03m# If we don't have any hooks, we want to skip the rest of the logic in\u001b[39;00m\n\u001b[1;32m   1523\u001b[0m \u001b[38;5;66;03m# this function, and just call forward.\u001b[39;00m\n\u001b[1;32m   1524\u001b[0m \u001b[38;5;28;01mif\u001b[39;00m \u001b[38;5;129;01mnot\u001b[39;00m (\u001b[38;5;28mself\u001b[39m\u001b[38;5;241m.\u001b[39m_backward_hooks \u001b[38;5;129;01mor\u001b[39;00m \u001b[38;5;28mself\u001b[39m\u001b[38;5;241m.\u001b[39m_backward_pre_hooks \u001b[38;5;129;01mor\u001b[39;00m \u001b[38;5;28mself\u001b[39m\u001b[38;5;241m.\u001b[39m_forward_hooks \u001b[38;5;129;01mor\u001b[39;00m \u001b[38;5;28mself\u001b[39m\u001b[38;5;241m.\u001b[39m_forward_pre_hooks\n\u001b[1;32m   1525\u001b[0m         \u001b[38;5;129;01mor\u001b[39;00m _global_backward_pre_hooks \u001b[38;5;129;01mor\u001b[39;00m _global_backward_hooks\n\u001b[1;32m   1526\u001b[0m         \u001b[38;5;129;01mor\u001b[39;00m _global_forward_hooks \u001b[38;5;129;01mor\u001b[39;00m _global_forward_pre_hooks):\n\u001b[0;32m-> 1527\u001b[0m     \u001b[38;5;28;01mreturn\u001b[39;00m forward_call(\u001b[38;5;241m*\u001b[39margs, \u001b[38;5;241m*\u001b[39m\u001b[38;5;241m*\u001b[39mkwargs)\n\u001b[1;32m   1529\u001b[0m \u001b[38;5;28;01mtry\u001b[39;00m:\n\u001b[1;32m   1530\u001b[0m     result \u001b[38;5;241m=\u001b[39m \u001b[38;5;28;01mNone\u001b[39;00m\n",
      "File \u001b[0;32m~/anaconda3/envs/wavln/lib/python3.11/site-packages/torchaudio/transforms/_transforms.py:498\u001b[0m, in \u001b[0;36mInverseMelScale.forward\u001b[0;34m(self, melspec)\u001b[0m\n\u001b[1;32m    495\u001b[0m \u001b[38;5;28;01mif\u001b[39;00m \u001b[38;5;28mself\u001b[39m\u001b[38;5;241m.\u001b[39mn_mels \u001b[38;5;241m!=\u001b[39m n_mels:\n\u001b[1;32m    496\u001b[0m     \u001b[38;5;28;01mraise\u001b[39;00m \u001b[38;5;167;01mValueError\u001b[39;00m(\u001b[38;5;124m\"\u001b[39m\u001b[38;5;124mExpected an input with \u001b[39m\u001b[38;5;132;01m{}\u001b[39;00m\u001b[38;5;124m mel bins. Found: \u001b[39m\u001b[38;5;132;01m{}\u001b[39;00m\u001b[38;5;124m\"\u001b[39m\u001b[38;5;241m.\u001b[39mformat(\u001b[38;5;28mself\u001b[39m\u001b[38;5;241m.\u001b[39mn_mels, n_mels))\n\u001b[0;32m--> 498\u001b[0m specgram \u001b[38;5;241m=\u001b[39m torch\u001b[38;5;241m.\u001b[39mrelu(torch\u001b[38;5;241m.\u001b[39mlinalg\u001b[38;5;241m.\u001b[39mlstsq(\u001b[38;5;28mself\u001b[39m\u001b[38;5;241m.\u001b[39mfb\u001b[38;5;241m.\u001b[39mtranspose(\u001b[38;5;241m-\u001b[39m\u001b[38;5;241m1\u001b[39m, \u001b[38;5;241m-\u001b[39m\u001b[38;5;241m2\u001b[39m)[\u001b[38;5;28;01mNone\u001b[39;00m], melspec, driver\u001b[38;5;241m=\u001b[39m\u001b[38;5;28mself\u001b[39m\u001b[38;5;241m.\u001b[39mdriver)\u001b[38;5;241m.\u001b[39msolution)\n\u001b[1;32m    500\u001b[0m \u001b[38;5;66;03m# unpack batch\u001b[39;00m\n\u001b[1;32m    501\u001b[0m specgram \u001b[38;5;241m=\u001b[39m specgram\u001b[38;5;241m.\u001b[39mview(shape[:\u001b[38;5;241m-\u001b[39m\u001b[38;5;241m2\u001b[39m] \u001b[38;5;241m+\u001b[39m (freq, time))\n",
      "\u001b[0;31m_LinAlgError\u001b[0m: torch.linalg.lstsq: The least squares solution could not be computed because the input matrix does not have full rank (error code: 3)."
     ]
    }
   ],
   "source": [
    "Audio(mytrans.inverse(torch.from_numpy(all_ori[i])).numpy(), rate=REC_SAMPLE_RATE)"
   ]
  },
  {
   "cell_type": "code",
   "execution_count": 58,
   "metadata": {},
   "outputs": [
    {
     "data": {
      "text/html": [
       "\n",
       "                <audio  controls=\"controls\" >\n",
       "                    <source src=\"data:audio/wav;base64,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\" type=\"audio/wav\" />\n",
       "                    Your browser does not support the audio element.\n",
       "                </audio>\n",
       "              "
      ],
      "text/plain": [
       "<IPython.lib.display.Audio object>"
      ]
     },
     "execution_count": 58,
     "metadata": {},
     "output_type": "execute_result"
    }
   ],
   "source": [
    "Audio(mytrans.inverse(torch.from_numpy(all_recon[i])).numpy(), rate=REC_SAMPLE_RATE)"
   ]
  },
  {
   "cell_type": "code",
   "execution_count": null,
   "metadata": {},
   "outputs": [],
   "source": []
  },
  {
   "cell_type": "code",
   "execution_count": null,
   "metadata": {},
   "outputs": [],
   "source": []
  }
 ],
 "metadata": {
  "accelerator": "GPU",
  "colab": {
   "provenance": []
  },
  "gpuClass": "standard",
  "kernelspec": {
   "display_name": "Python 3 (ipykernel)",
   "language": "python",
   "name": "python3"
  },
  "language_info": {
   "codemirror_mode": {
    "name": "ipython",
    "version": 3
   },
   "file_extension": ".py",
   "mimetype": "text/x-python",
   "name": "python",
   "nbconvert_exporter": "python",
   "pygments_lexer": "ipython3",
   "version": "3.11.7"
  }
 },
 "nbformat": 4,
 "nbformat_minor": 4
}
