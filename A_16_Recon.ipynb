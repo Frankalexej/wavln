{
 "cells": [
  {
   "attachments": {},
   "cell_type": "markdown",
   "metadata": {
    "id": "B-mljeGlqMqo"
   },
   "source": [
    "# Sequence Learning - Direct - English - Testing Session - Reconstruction\n",
    "Version 2: encode all validation set tokens, but keeping only those that are \"matching\" (= match_status==1)"
   ]
  },
  {
   "cell_type": "code",
   "execution_count": 2,
   "metadata": {
    "id": "jN5DNuExjwet"
   },
   "outputs": [],
   "source": [
    "import torch\n",
    "import torchaudio\n",
    "from torch import nn\n",
    "import torch.nn.functional as F\n",
    "from torch.nn.utils.rnn import pad_sequence\n",
    "from torch import optim\n",
    "from torch.utils.data import Dataset, DataLoader, random_split\n",
    "import matplotlib.pyplot as plt\n",
    "import numpy as np\n",
    "import pandas as pd\n",
    "from pandas.plotting import scatter_matrix\n",
    "import plotly.express as px\n",
    "import random\n",
    "from sklearn.manifold import TSNE  # Optional: Use t-SNE for dimensionality reduction\n",
    "import seaborn as sns\n",
    "from collections import Counter\n",
    "import librosa\n",
    "from IPython.display import Audio"
   ]
  },
  {
   "cell_type": "code",
   "execution_count": 3,
   "metadata": {},
   "outputs": [],
   "source": [
    "from padding import generate_mask_from_lengths_mat, mask_it\n",
    "from paths import *\n",
    "from my_utils import *\n",
    "from loss import *\n",
    "from model import SimplerPhxLearnerInit as TheLearner\n",
    "from dataset import SeqDatasetName, MelSpecTransform, Normalizer, DeNormalizer\n",
    "from dataset import MelSpecTransformNoDB as TheTransform\n",
    "from my_dataset import DS_Tools\n",
    "from reshandler import ReconResHandler\n",
    "from misc_progress_bar import draw_progress_bar\n",
    "from bnd_detect_tools import *"
   ]
  },
  {
   "cell_type": "markdown",
   "metadata": {},
   "source": [
    "## Preps"
   ]
  },
  {
   "attachments": {},
   "cell_type": "markdown",
   "metadata": {
    "tags": []
   },
   "source": [
    "### Dirs"
   ]
  },
  {
   "cell_type": "code",
   "execution_count": 4,
   "metadata": {
    "id": "iGouCDYD3h18"
   },
   "outputs": [],
   "source": [
    "model_save_dir = model_eng_save_dir\n",
    "\n",
    "log_path = compound_word_log_path\n",
    "rec_path = word_seg_anno_path"
   ]
  },
  {
   "cell_type": "markdown",
   "metadata": {},
   "source": [
    "### Constants"
   ]
  },
  {
   "cell_type": "code",
   "execution_count": 5,
   "metadata": {},
   "outputs": [],
   "source": [
    "EPOCHS = 10\n",
    "BATCH_SIZE = 1\n",
    "\n",
    "INPUT_DIM = 64\n",
    "OUTPUT_DIM = 64\n",
    "\n",
    "INTER_DIM_0 = 32\n",
    "INTER_DIM_1 = 16\n",
    "INTER_DIM_2 = 8\n",
    "\n",
    "ENC_SIZE_LIST = [INPUT_DIM, INTER_DIM_0, INTER_DIM_1, INTER_DIM_2]\n",
    "DEC_SIZE_LIST = [OUTPUT_DIM, INTER_DIM_0, INTER_DIM_1, INTER_DIM_2]\n",
    "\n",
    "DROPOUT = 0.5\n",
    "\n",
    "REC_SAMPLE_RATE = 16000\n",
    "N_FFT = 400\n",
    "N_MELS = 64\n",
    "\n",
    "LOADER_WORKER = 16"
   ]
  },
  {
   "cell_type": "markdown",
   "metadata": {},
   "source": [
    "## Model"
   ]
  },
  {
   "cell_type": "markdown",
   "metadata": {},
   "source": [
    "### Model-related defs"
   ]
  },
  {
   "cell_type": "code",
   "execution_count": 6,
   "metadata": {
    "id": "lUxoYBUg1jLq"
   },
   "outputs": [],
   "source": [
    "device = torch.device('cuda' if torch.cuda.is_available() else 'cpu')\n",
    "recon_loss = nn.MSELoss(reduction='none')\n",
    "masked_recon_loss = MaskedLoss(recon_loss)\n",
    "model_loss = masked_recon_loss\n",
    "\n",
    "# model = SimplerPhxLearner(enc_size_list=ENC_SIZE_LIST, dec_size_list=DEC_SIZE_LIST, num_layers=2)\n",
    "# model = LHYPhxLearner(enc_size_list=ENC_SIZE_LIST, dec_size_list=DEC_SIZE_LIST, num_layers=1)\n",
    "# model = TheLearner(enc_size_list=ENC_SIZE_LIST, dec_size_list=DEC_SIZE_LIST, num_layers=2)\n",
    "model = TheLearner(enc_size_list=ENC_SIZE_LIST, dec_size_list=DEC_SIZE_LIST, num_layers=2)\n",
    "model.to(device)\n",
    "optimizer = optim.Adam(model.parameters(), lr=1e-3)"
   ]
  },
  {
   "cell_type": "markdown",
   "metadata": {},
   "source": [
    "### Load Model"
   ]
  },
  {
   "cell_type": "code",
   "execution_count": 7,
   "metadata": {},
   "outputs": [],
   "source": [
    "load_ts = \"0126163236\"\n",
    "stop_epoch = \"89\""
   ]
  },
  {
   "cell_type": "code",
   "execution_count": 8,
   "metadata": {},
   "outputs": [
    {
     "data": {
      "text/plain": [
       "SimplerPhxLearnerInit(\n",
       "  (encoder): RLEncoder(\n",
       "    (rnn): LSTM(64, 16, num_layers=2, batch_first=True)\n",
       "    (lin_2): LinearPack(\n",
       "      (linear): Linear(in_features=16, out_features=8, bias=True)\n",
       "      (relu): ReLU()\n",
       "    )\n",
       "  )\n",
       "  (decoder): InitRALDecoder(\n",
       "    (rnn): LSTM(64, 8, num_layers=2, batch_first=True)\n",
       "    (attention): ScaledDotProductAttention(\n",
       "      (w_q): Linear(in_features=8, out_features=8, bias=True)\n",
       "      (w_k): Linear(in_features=8, out_features=8, bias=True)\n",
       "      (w_v): Linear(in_features=8, out_features=8, bias=True)\n",
       "    )\n",
       "    (lin_3): LinearPack(\n",
       "      (linear): Linear(in_features=8, out_features=64, bias=True)\n",
       "      (relu): ReLU()\n",
       "    )\n",
       "  )\n",
       ")"
      ]
     },
     "execution_count": 8,
     "metadata": {},
     "output_type": "execute_result"
    }
   ],
   "source": [
    "model_raw_name = \"PT_{}_{}_full\".format(load_ts, stop_epoch)\n",
    "model_name = model_raw_name + \".pt\"\n",
    "model_path = os.path.join(model_save_dir, model_name)\n",
    "state = torch.load(model_path)\n",
    "\n",
    "model.load_state_dict(state)\n",
    "model.to(device)"
   ]
  },
  {
   "cell_type": "markdown",
   "metadata": {},
   "source": [
    "### Dataset"
   ]
  },
  {
   "cell_type": "markdown",
   "metadata": {},
   "source": [
    "- Note that due to the separate setting of word and phone datasets, we cannot really make it to select those that have not been trained on \n",
    "for this test. This is a point to further fix. Make reference to out first work. "
   ]
  },
  {
   "cell_type": "code",
   "execution_count": 9,
   "metadata": {
    "id": "6OCx4nqP40fz"
   },
   "outputs": [],
   "source": [
    "mytrans = TheTransform(sample_rate=REC_SAMPLE_RATE, n_fft=N_FFT, n_mels=N_MELS, normalizer=Normalizer.norm_mvn, denormalizer=DeNormalizer.norm_mvn)\n",
    "ds = SeqDatasetName(rec_path, os.path.join(log_path, \"log.csv\"), transform=mytrans)\n",
    "\n",
    "# Cannot load dataset trained, data filtering applied\n",
    "valid_ds_indices = DS_Tools.read_indices(os.path.join(model_save_dir, \"valid_ds_{}.pkl\".format(load_ts)))\n",
    "\n",
    "valid_ds = torch.utils.data.Subset(ds, valid_ds_indices)\n",
    "\n",
    "# # this is to reduce the size of the dataset when the training power is not sufficient\n",
    "# small_len = int(0.5 * len(ds))\n",
    "# other_len = len(ds) - small_len\n",
    "\n",
    "# # Randomly split the dataset into train and validation sets\n",
    "# valid_ds, other_ds = random_split(ds, [small_len, other_len])\n",
    "\n",
    "valid_loader = DataLoader(valid_ds, batch_size=BATCH_SIZE, shuffle=False, num_workers=LOADER_WORKER, collate_fn=SeqDatasetName.collate_fn)\n",
    "valid_num = len(valid_loader.dataset)"
   ]
  },
  {
   "cell_type": "code",
   "execution_count": 10,
   "metadata": {},
   "outputs": [
    {
     "data": {
      "text/plain": [
       "56808"
      ]
     },
     "execution_count": 10,
     "metadata": {},
     "output_type": "execute_result"
    }
   ],
   "source": [
    "valid_num"
   ]
  },
  {
   "cell_type": "markdown",
   "metadata": {},
   "source": [
    "## Inference"
   ]
  },
  {
   "cell_type": "code",
   "execution_count": 10,
   "metadata": {},
   "outputs": [],
   "source": [
    "def infer(): \n",
    "    model.eval()\n",
    "    reshandler = ReconResHandler(whole_res_dir=compound_plot_res_path, file_prefix=\"recon_\" + model_raw_name)\n",
    "    all_res = []\n",
    "    all_ori = []\n",
    "    all_name = []\n",
    "\n",
    "    total = len(valid_loader)\n",
    "\n",
    "    for idx, (x, x_lens, name) in enumerate(valid_loader): \n",
    "        name = name[0]\n",
    "\n",
    "        x_mask = generate_mask_from_lengths_mat(x_lens, device=device)\n",
    "        \n",
    "        x = x.to(device)\n",
    "\n",
    "        recon_x, attn_weight = model(x, x_lens, x_mask)\n",
    "\n",
    "        recon_x = recon_x.cpu().detach().numpy().squeeze()\n",
    "        ori_x = x.cpu().detach().numpy().squeeze()\n",
    "\n",
    "        all_res += [recon_x]\n",
    "        # note that this is bit different, not each frame, but each sequence is treated as one data point\n",
    "        all_ori += [ori_x]\n",
    "        all_name += [name]\n",
    "\n",
    "        if idx % 10 == 0: \n",
    "            draw_progress_bar(idx, total)\n",
    "    \n",
    "\n",
    "    reshandler.res = all_res\n",
    "    reshandler.tok = all_ori\n",
    "    reshandler.name = all_name\n",
    "    reshandler.save()"
   ]
  },
  {
   "cell_type": "code",
   "execution_count": 11,
   "metadata": {},
   "outputs": [
    {
     "name": "stdout",
     "output_type": "stream",
     "text": [
      "[==================================================] 99%\t"
     ]
    }
   ],
   "source": [
    "if __name__ == \"__main__\": \n",
    "    infer()"
   ]
  },
  {
   "cell_type": "markdown",
   "metadata": {},
   "source": [
    "# Load Res"
   ]
  },
  {
   "cell_type": "code",
   "execution_count": 11,
   "metadata": {},
   "outputs": [],
   "source": [
    "reshandler = ReconResHandler(whole_res_dir=compound_plot_res_path, file_prefix=\"recon_\" + model_raw_name)\n",
    "reshandler.read()"
   ]
  },
  {
   "cell_type": "markdown",
   "metadata": {},
   "source": [
    "# Plot some recon and original comparisons"
   ]
  },
  {
   "cell_type": "code",
   "execution_count": 12,
   "metadata": {},
   "outputs": [],
   "source": [
    "# all\n",
    "all_recon = reshandler.res\n",
    "all_ori = reshandler.tok\n",
    "all_name = reshandler.name"
   ]
  },
  {
   "cell_type": "code",
   "execution_count": 29,
   "metadata": {},
   "outputs": [],
   "source": [
    "def plot_spectrogram(specgram, title=None, ylabel=\"freq_bin\", ax=None):\n",
    "    if ax is None:\n",
    "        _, ax = plt.subplots(1, 1)\n",
    "    if title is not None:\n",
    "        ax.set_title(title)\n",
    "    ax.set_ylabel(ylabel)\n",
    "    # ax.imshow(librosa.power_to_db(specgram), origin=\"lower\", aspect=\"auto\", interpolation=\"nearest\")\n",
    "    ax.imshow(specgram, origin=\"lower\", aspect=\"auto\", interpolation=\"nearest\")"
   ]
  },
  {
   "cell_type": "code",
   "execution_count": 67,
   "metadata": {},
   "outputs": [],
   "source": [
    "i = random.randint(0, len(all_name))"
   ]
  },
  {
   "cell_type": "code",
   "execution_count": 68,
   "metadata": {},
   "outputs": [
    {
     "data": {
      "text/plain": [
       "'s0803b_00000161'"
      ]
     },
     "execution_count": 68,
     "metadata": {},
     "output_type": "execute_result"
    }
   ],
   "source": [
    "reshandler.name[i]"
   ]
  },
  {
   "cell_type": "code",
   "execution_count": 69,
   "metadata": {},
   "outputs": [
    {
     "data": {
      "image/png": "[encoded data removed]",
      "text/plain": [
       "<Figure size 640x480 with 2 Axes>"
      ]
     },
     "metadata": {},
     "output_type": "display_data"
    }
   ],
   "source": [
    "fig, axs = plt.subplots(2, 1)\n",
    "plot_spectrogram(all_ori[i].T, title=\"mel-spectrogram of input\", ax=axs[0])\n",
    "plot_spectrogram(all_recon[i].T, title=\"reconstructed mel-spectrogram\", ax=axs[1])\n",
    "fig.tight_layout()"
   ]
  },
  {
   "cell_type": "code",
   "execution_count": 70,
   "metadata": {},
   "outputs": [
    {
     "data": {
      "image/png": "[encoded data removed]",
      "text/plain": [
       "<Figure size 640x480 with 2 Axes>"
      ]
     },
     "metadata": {},
     "output_type": "display_data"
    }
   ],
   "source": [
    "rec, rate = torchaudio.load(os.path.join(rec_path, all_name[i] + \".wav\"))\n",
    "\n",
    "fig, axs = plt.subplots(2, 1)\n",
    "plot_spectrogram(mytrans.de_norm(torch.from_numpy(all_ori[i]), rec).numpy().T, title=\"mel-spectrogram of input\", ax=axs[0])\n",
    "plot_spectrogram(mytrans.de_norm(torch.from_numpy(all_recon[i]), rec).numpy().T, title=\"reconstructed mel-spectrogram\", ax=axs[1])\n",
    "fig.tight_layout()"
   ]
  },
  {
   "cell_type": "code",
   "execution_count": 71,
   "metadata": {},
   "outputs": [
    {
     "data": {
      "text/html": [
       "\n",
       "                <audio  controls=\"controls\" >\n",
       "                    <source src=\"data:audio/wav;base64,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\" type=\"audio/wav\" />\n",
       "                    Your browser does not support the audio element.\n",
       "                </audio>\n",
       "              "
      ],
      "text/plain": [
       "<IPython.lib.display.Audio object>"
      ]
     },
     "execution_count": 71,
     "metadata": {},
     "output_type": "execute_result"
    }
   ],
   "source": [
    "Audio(rec.numpy(), rate=rate)"
   ]
  },
  {
   "cell_type": "code",
   "execution_count": 55,
   "metadata": {},
   "outputs": [
    {
     "data": {
      "text/html": [
       "\n",
       "                <audio  controls=\"controls\" >\n",
       "                    <source src=\"data:audio/wav;base64,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\" type=\"audio/wav\" />\n",
       "                    Your browser does not support the audio element.\n",
       "                </audio>\n",
       "              "
      ],
      "text/plain": [
       "<IPython.lib.display.Audio object>"
      ]
     },
     "execution_count": 55,
     "metadata": {},
     "output_type": "execute_result"
    }
   ],
   "source": [
    "Audio(mytrans.inverse(mytrans.de_norm(torch.from_numpy(all_ori[i]), rec)).numpy(), rate=REC_SAMPLE_RATE)"
   ]
  },
  {
   "cell_type": "code",
   "execution_count": 56,
   "metadata": {},
   "outputs": [
    {
     "data": {
      "text/html": [
       "\n",
       "                <audio  controls=\"controls\" >\n",
       "                    <source src=\"data:audio/wav;base64,UklGRrQaAABXQVZFZm10IBAAAAABAAEAgD4AAAB9AAACABAAZGF0YZAaAADS4Avq7PIZ+K8RGhjBCtMGSu0vAzsNxAg8IMH0I9fb/LH7tPwD+cPzBAZs9lT40ccR1bXYUOYh4Inf/vMQBtQL+fvT6xUAcejCzqv61yM6CZANcgNXKPX7zhe7AAskuwejDzsLe/3VCfjy/uWd9Hf46+RQBhv7QvuPGgIm/BpyG/vx5PNqD/P5tPJo+Cvozt8H9AMYHQCj7zwOBPNnK24GoiMiD5Da7f7B/Y38HxYCC3nW79Ss6kD/Ygog5BnxJPfM7YbdodTRB94D7CGr/rbiLgfUF8AsTyWyFFgNFQw4OJHkZvZ3Lok02B1lObw42P7UNyUkqhPPKulu/3+0TK5K4B4EECUWHxEJJ+ICYQ4yPpIrJxOBN/Y2oQpfD6cNfjn6NfwHoiQ6Jx5CIR6F8tcpYBcqw8b75PeC74L7RvSCEdLxpvgrBsr8kP/F6q7lRuHm4l7rIvPe5kDejtpw3//LX/kk8o/+1gD8AvfuMvRo/HsA8QNX85oAhAWK0DDrz+kP/pD+0w3R9cjxigO5CcIF+xD2/lwCY/gY/hMVBd6n/jT5rgbhE/EKvwUrDIf80hFR9OQO2QX8DMvxDuJD9Oj9jwFR6SMGxvA96nrlVgRA/S7se/uw1LHyNt0Y8LzL4OPp0JfpFe016cn7QBXVBFUO8gIoDOEMivgj4SEXOQTjJLoRNyq2/yUsvgGRGtQyVyXMC7Mp5RYyH3MZqCy+1VQNfhuJViJkDEuWGlohFPjiHmvmkN7t6VkIO/yd7yC1Xtay86733ffyDrDcFsOg7/sjlwF7E97drwEmLR8+DRRUNuI0NPBW1ALKgPKP+yPnnLy75EDsgxfUynjk/xMixtXfZ8eIuOXk+hnFJsUy3inE9WkK1f3d+kb13gPC5dH6Uwy+6eX9PguzFCIRPxU68qodzvKJ6Zz/Dgu5AS0B9s9a6kfH1NFH50zvF+9I+c4GfvQQ7MTocu+X+4Tu2xoC4D0BMO7V6DQQsQpH3P4BL+9w/LIGjgWtCxP8NB11LNMtFijeIgA7r//nHWMW0Bu+LYcRjAkiE+cayB2rFdIyUhyILaQk/jG7GAEs+SXvDWAXxQ8IBlMS6iw9J5whDh+FF4Ih7ih8J1YZ+f/AFbgWrgRm9NTe6hcw80r0U/LF+ZIZSfvo7mLpCPnv85z7HORj0oXP4/Gv8wfpy/3A9ODFy+UIAQkHO+oo+Dr54+cwBnXwLfNe2Y/8lRTKLu7t/iQXFxAMafWlBnLs9P9c/vQBMPh8ElEcLw8+COr3S/HgAKoc22G9NPPyVxhFHUMHPgznJ7oVjd+k3W8GCtyi3we6OqkF2+jSpenp65EG4tpPqpvdRMS2n3e+8wmmKwMRGu6/GcUNBfYbGFD5ARlPEy3lq9rm7uMI2x4/OAkgKD0vNMwTbd7YBkcgGjNSG6Ar+0J5LNsbeCBtHmEEnvIHTV0dHSIfF5wnwBgbKCIDriGIGEMWACyD/nkj4C64ETUsIeHX8+T4mB++9obxvfma+MIYHRuIBdDvke2d86IBCBItCaf7/OWb9l4GkvhUA5H66gSbAdHrqPmzAq70keNm9b4Fjvj/9SYK9RZWEpcT8gCfBiEQO/I1H3T7B/ts+FME8ekGDvL0BO+U+JkQ6hfjB6f4ghJY8zIJhgc48RTjle7K/YvuC9Gd+cLgRPae79Tuj+Y72W37u9yS3/Xqz+ZM2onIVt/w9pr8ggWR8P3dqOWIw5zauKs/z0m2Cu9rzOXqpQ2A8inWtQkaEeYky0VLEAX8GRKAHkUW2DKBEbQodC4MMKURBQUsSKY6/g9CB8oCNfdTNBgTTiBVKifwmtgl+4z2RxPZB4IBhglqINUKBQalVX1TFTkWFhXi6/6Y6GbMp+CK3RLk0/YCB4PtFfMx9eTbnQRfB1cR/SQv//sQGfOx8fz05sgBoqLCFf019QfKdiIp4Wi8fvUE9rXOYu425vHl4PKQBlHsdPQ+BKsCIvsBDnEMLBCp9B30iBbbC605bjfDIGAYYwOuAIkJzxOZCLoNFgxz5zz/wQFh/N0aXfSD6s3J5Omi84fevOQc87z9xBCtHpIXvgt0FQz6CPZg/1TUigG/AZz6zgMG6NDgWPYlIj8VwQLQ9mUICBrq75Pk8uTJGbILFPoGB0MzwSyFGNAEATAKA3gaUPoAI1cWPBHmG3Utb/lYGpYv5ghxG+oD9RxMJIYZ7jxkEbAfThVmD3kUkw3uBgkavhg4AMwIUQiy5J/1K+zzGMn4Jeldzd/T6PBPGfEVfvMl0jXb79cs2qjKJ/RcwCLdtt8J5Zi9cev3v1/hWNvL2a/gbcSAzWTkUeEnzv3c3fTC5+zdO9PTDDoCqyB075YFXNqsAhvmKP0x4vXj2QSND9bsg+TJ5DXyAA1yLxA5n0mpEXMsOAD/AQcONd6U40n+Mwrz5YHhD8c7zoubl+XVx/29ssX27TQmBPlI2pvpi9Om1PzqqervBPgMFwRN4dsFlByXBnEQyCBNKRDzfggwI0Af6i1BJAUVCThFJXIVzCw8C9fqcPNvHKAClu3IGJMmegtyIvUOXx2BJNESCxACJvAbUTKyBp0HxvzGGYUm2g+M/Ef8dOuc6Zjo9hBeC6jmmuZG7RMPa+wD74v4+vKgESTmnP3sz47vhPgdCtjyO9n652QEsdz046vt0Mcq5V37tNz43kD0tvSQ6CnwCOyJDSb3Deo9AS4HhQeWDpcDSAZJ9bYNi+bpAkry2tJE+NYAefOD3+LZWOOA/sTyDO8D+IH91QPF7WDjaeQj623nbb876lbPlOTY+CXX3eA/3kHTkuWHt7vgEOgtBO/hiQsa0A7WErmC0uHwqN60xFr0Tvf+ATf5cAG0GewB+PeX9vv9fjv9S+cxsw6fNGzg7PwmLiYm9SNSRE84jEuFdzVvnkx/IY0abGfTFmI3IPVP6YblJhMTPMRZC1jMVqweegi38uUDM/2KJXQYEyLv9Q8BgBihM29SdTS+VqE/JvWW8kAX+MCu4mfqztVvxu3ZTujtypDdSsWJ26rV4Aun673rI/sfz0vGh9UYxP/MdtHZ4MjI2+9YxHvXG7vM1L3eiueU+MQkbwT4BcoIsBUKC0/mXuEKDYMQ0gIO2eIUHRRfDQsIgfWK6IP2lPBvKycdDQVtDmshMfHgJY8daQ0zAAcMd/cLDSgEzxC9+vkSVgzACdwFneHl75j74eyH8Sf5AwLp8XcKoALiBujj2gDSDrYe9faqAosU4yAwDOkqXxAcLEwaWQLLH4sBGSYNF3swJB81AkgiByQ8M0Aqgyn5G3QijivfJmghUSljOC8+SysAEe4ewCDlKZ3+rSQpHlMGQB7kAU7yoTQP/wUFI/8ECor4HeoVARsjERGCCUzyZfN03CsQdPLt4crtyB8d+Qz0tNsr+pH0wcYOyoXD2NdhCVHSr7acnbfXcr6o6I7WwMfwu0nb3gRk+NPLad6R9Ab0ev6vHw8t2hDkAkgdPz21ArP/ut6s0votgf5NKY855gna8uHmmun34NvffNPByxbjBhDH0Pn4UwRNCfHdbcFh3GX+8AYq4WvmM81izgnHG7IUCTn/iNAu9JH1z/G773T1/92k/lELIeoR5nvIjdFD/NEWlfEz8wQK4Azb6IjhSQmsAMYng/xi/TMa9S65EEgmVhSH8F8yKin2HJcw7AGSHo0Q3Bp+PT8aGx4LNUoxXBdoGyswZDPGKBBKUTCBJ6oyUhw2FVAHnxX/A4nqwvAK92XbRPhkDeoEXwxWElciRvFL64jfZe/C3BXoT+0H5hrDLNdAzffe3vGf6aPueNhD7XP1n/4j/kjGkex+1xndQenG/AXhZAI174zfxM3w2aTdsfsH788NHA0x/Jbv9erp5dYIDe4GDRQBcAYWBycThQSw9mT4LvcX6Y/nNvAc5EXm8sNX+Jjim9Aerm7matOZy2y7f7YezcngQvtW6/8Qr/XzB58iYiDo7hbFVNUO6dnm9Azm5WwQrxfqGwXcr/FSAF/7Q/85HOkEJNQzA4NANTjSTFgMczy8IFcADERGTDdLYBfjJQEnQSuwRwMIBxaAAGY1rD7vU4RWrjoOQMNI7yWMTRhPAFgIDDs7H1QDWcNU5WhFYWErIA5D87fdl/d4Aqj69RNz/6caePFj4QLhau+jHwDxyPHe3Yrzq9119M774wDB5IkF4wwP/h3pF/Xd46Tn5tes6JXVmPt+8VoIj/Lw/s//lvZa9tIHW/9v4QLrBBdD4yjnQNKZFQLdOen27kkG4+ZzBBf3ru+BHbQWPPhvBRH+qPdd+9bwx/SQ+wTs3eta0UwD0Omz9GYE/eQa7cUAusdS+/HdN+k/BNbms/LQ79nZpv3rA7TtzdvP8ebfH/pL+xXltdZF5mriywxUEL4EoBf/9AoR5xysGCX7T+478t0RIR0PEtX+5RwANWAaFwVlH5Um3CpNWMRKZSbMQHkwJxDK8D8FXPk5LHUZNRoKIck4evg+IaskIiqbLMMLXgybEAH9+xIXB4IT/dZr1CT93Rw/783WGNDZ4VbZMuL99IYbQv1X2DjLXLtxsPztTe2V6jvaqvkK/xvzDPCd/kcZUHYvI5wFCQs8JesKBBZfCQLuRwjSAL/5hvacAI7vevAs7S766vUexLbVph3y9uLTtMqXyjvUd8ZAtSnKCdiV/nboSfj6/zP+ywqMDBL1l+Gbu0HjTNlh3E3wd/6Sz7Hcfc405PbkZOpfFhQm+QBhCz4PPB3z7VEWyARQEmYotDmyINdUkCCYGvgG+wl3J+sTjRDGGFYNDRc3NXZDvzy5aSBFQDUPOwYRUCmPMJcvqRy9B3NDeCCvNR4GlB4eIp4MBBR9AdYR/ANRDO8g7QoHE7YVwwLN4bwKPfgMCTzzUP8E9UEWm+J66d/7hNp0A2AgywN35tPilegr+jrZp/ulB5H1LA/w+DoEBPPF9KLy3OkU+00XPu1A+zwLEAfe/FkOB+o8/OzxpxUEFkE1pPdT/CQEGw+XDDsUtweq0x7qMxfP78zaNen90/zhMfoS2pntL75wyC/PI+W77rDV/dfJ5ya/BbsO8iD4gPMC0SvbKdZJ87Pl7RE/A0MjAOIy9E8AqEIh+XfX6dgozZfjfgnW6j0B6fvkFKjz9O65Lp0KdtEr9MQeKS3kD+0e8AGtGI0UeDe4KvgPFSQUPvFPKDIAFyYvwCYiRV0t5R7wNhNZ4zjGK/4Yex9/7vQXPzmO7XMutQs1F3LbIPUA8ecFIiDpF4kWm+bbCn392fyQAB4rywfGETTiJd9MA7L9v/eXB5Dmr/o45Mbud+8r++v4Gwbg+oIKXQdg6zrkkvfq83v3W9yvAPfvf+Iu5wH6T/LR8L34CRNV+T34VAzr/Rv3Lu6f/FQOgcLL4Dfxf+2h7Fra1sp1+l3s0PXj+HYIvuYWDpL6OfPj87UBnM7V4oDkhsNJ2abhM8YIzZrEgMNlyevsKtuS0W3b6MPW3gHmDOoG7LvVL+/M5t70rwG7/Nz3durCEnQLQgcTAxj6DxFcE9MGkQJ//DryAvC28G0R0jazFBkkf2mhXoRdVEw7WhYnUwZn7SD1OzqxLr41sUYpQEddShxUBlTmJeRWHXAMQuLa/nX/PRG8F43oRdAg2mfbmxUwCyQHF94en0ywWOOuzc/3bOfQxUHqWfbX36f3RxBYFNMd5P3M5u4TKvNCCb322OGX3JPoBA3o8rTySRg88T7xE8gq5b4B5Pgs+07tkQb++irf2APbJvQa/P0ZE/olyRo7E5P9UQmJFZrkVfPi8Rjr0+VzBqjcteA+3G3ZXfeS6EDxBxM/D9v7Wu1D9K7ys/kD7u7/u9Fw6Hr8GPWu2evzpfsfB4IGbv2C3IXS4eAu8b4LQB009wkRoAJL/wol8Q9sIMT52yZRHEoRlh1UBYUeuh5eL78olyz4CaA4300XFbUtBS3dQf04YzgSHZQx/iSjQKQfFANkMcsgywLeAjVBIiV9E5Id7SjU90UkyvnC9xbtLwwg+8D7Vviy3QXTt/Frx1/hEchVyb7KUehY9EoHPRSoBlfvaN9I273gOPib+6LhAN//4KP2Me3Q53DYx/Ms6oQt3hIbIinxdhGYwf3AENZT2MnQcdmguyMByuk+0UfmpPco2JbcN7j+ALPw9bwA09vihA4pIgL3ivvY1Art4riOyb3vT+BV19XfKuVhzNHGfCoPCKDlCL0mw/zHJMQWyBrCQcuBGQYVG/6k4YzHkvVQ8G75gh0OA0YZiBf7BxkGNBZLG+cGQSLSMRQlLxS2ImgPwgzx6X8MrhUBPQwNIScdAZUtryqkC24DhBCjGt4VAAp79hTsgApbBwsHE/+38/sV+/VYDGgTKPofLNbZCiSKJEcp8vZt+Y7txBAeAKYAhPOh+dkJJBBiBNIWg/3vFsD6WP2VFogDLQdnK0Is5DGKLrweIiVDLmgQ0Dx4OcML1QxjASQEAiBHIj351hxAHC/yJv5hCXYKiBm4LGH4x/xb9aUU0w7ZB48cqvLoA9n3kNDp2C7hDO1363jtD9716XzNetsO3IfmCr0PuDbaJd2p2vjuoftU1NfHWgm38afJHtnk4lnQ8tqE1d/sgOXwwS26H8k6zR7KrQrzB8YcnQQuE5curxhS/kDxivoc2eP6Cx2wLHw6QEMMJ7weXFPiaKNCsCwIRj5G0yJyPwAWAgnZ8Kzz9+6VMS8f4Q16+CH3O+5w61kDFDW1Dz78shJ/GI/3NyqhIIE1YhDZIWosOBdmIkoyHxVrNLkV8ivwOu0741jQePVKJTkKI9EdG//3GqYQ2/X8AE4VnP2ADUYpfDjpH1wZ3fxyI48XhifbFqXnlPcNINYWOBA617Dk0+Qu/pXd+sUG28v7osjN/IPfcNk0xwHd/Pc8/ADaQOq21uPam8wf0mLzmPRT5vz/4+Ao0Credcw3z9+9BNCo8THvWd6x41LgStiwAeoWPu86GZsMYAPK9Zv7LwP7BovucO9CFL4WFiWW+H0TCAP9/UDru+4UF+Ej+hGHBJsL3vaACE8MRvE3CznmWQB2BRwM0hc1GggTIOKdAXPfegbW3YnF3PdGEfj9sv0F+2v/8eoyBcgJAux++w7fmBEm4o74vwgS4sICRQoN9rvbeBlaCosetSovNjwvjjpzEMoK0xysInQG9x2JMYY+eyRTI2gQnQfBPs0fXhhXGj4YPOu274kCnAblOgQLk/9ADB3lPt/N94UDfRUJ4xXzTeaa2d8rVu1XG7YydRhg0Ln7Gw2mwMaiZtS71xPmJ6UBoVTCXurW3Y/xodVc2Of/sR8L9G0XY9MN5sPeNeVM2RDw1OcEBf4DLzHZC7L7VAB1+HUPZyOEC94VhwixJAX0Lh3o7oYJAeZbDsX8eRqq4aoF0xyLCDYErvuA9ToGgR5p/S8FSw3X+JDvOd2d98Du5P0S96wOK+pV96rlruuG4WTR1+n09VbyngNL57MX7RkyIVILVOyS7dYB/Bt8+V0H5hMzCXsFJiW3JDc8ezEjOzMqvw4HGAUg2CRGENwVsy9hJwEiTC1hLk0lfhPD70os+CEjBdIrQAE/FP0KJ/jwCscFQyP0D276aOgH7OzuTgVxEnn+RQ/l+l/rTN3T3bP8jMpH1mftwQmu6gfuP9Uwtr7VsPI68yTdWM8B8L7ck9PS/KbdV9a/0YPG5bBUvxq0YLIeug/eWMW3+lXXsOSU3Te4P8sA/SPrkvhpAFcSFviCCcwbIjwazOXnNCgmDCIFe/7b1BwGwehewrGq8MzctBawTwN6/8n2ByEWDKXm8NIP8+74xRxmK2j808Z7wZgL0woqAb//6u/X+TjUNOy19FsShDXFBhjpGwUvEE0/mQ8uDOktlifdJOAcAhPjLCIhnRBDD9UcbS9oRR9GBSRvM48wACyRNOIZCCsiGDoxXxgMP0BRgjKiIfQ62C9+EYr1+w8M+a7vfhdV+soQ5BpAFXIRaA1V/x0JyQaZAT4Z6PtJKRMBfhzb7fYMLu2mBt8Aqu1R5ZnC688v1YTOAPiA7ubiZ+uF//74JOgE+uTn4t+R4CDbFebP5Jf1Svhd7WbthOeB69XxJQ67CEAemB95FaANHOCLAVTpBPpg9/UA3e0fDP0epfZeDTcctf2qGFkPJggq+d/aMfrxA1rRQt4O6sAOtfNpvpTwGd4Z4U3a2NM/zh3yUM/47Gz5zuek2pPNIv0eJ6gUdgkp6E4VEfBMDiINP/7W2YkGCBgPG7bsQPMGA+cmBgi0LFEcVOhZ7U048N2XCgoofBycKMQwTAvXGMMTheCJ/2JNJUidV102HDJuA/36fQtBAR7woeUw81Dxb/5O49nMcsQ99mfUS9Rg2eDWA+z+5jveF+7uBqzYt50Rmpab3OMF+x//nePsxKrJPbar0rPkyfFp1LbdQ/wv2ObSRdHQ1XnAAMj30K2xBMMr2FgR6OQf34bsJhwjC8T/4AFMKDIHdd7S9oUHOQW3EG8TTwEdGiEb0Bb5Jmz7hxdMD74ZgP8Z81f7xvlnCkUG4BGWJB4PZSoUJOkbsA3BHhwYUgh9MTnv8wBXCFz3a/Eq35MDtQ3b8/v/AQWpAIX0JPfUCdQIWgCvBAAIZxlrA/0ekhFDIskK6ijyCO4R9vQM+uPcSSTlBucMCxo0D8Y+ji/JGMQoB/4rJZr9LRNlHT1EhSfiHQjpFydrB1XoyPJ59ADq7AOZFUsGeNzA+NbxnPLFDHX8vtYq2BbgjsHysm/3cefE6Tn9x9U53vvbhb6j85MGddlj87Xdz+2EMuoeBftl3Uj1HAKtGFf0pu7k1/7jq/dx6q8HrfTC+LP/1BbS47D4/wYV+rfZiws+1rfgceL69Jn9HQZBHzIswQfwGnw0nhFwFR1GWkpSExAYGheQPFk12CmBBHkafyf4B1boZOc95QXoDPaC+HoSGwNVICr01RfL/88WGxHh/FwZuBKm/NULMyDYE0L28AHQCj8eVAWXIAEZ4iIa7nIPLexh+N4aqkgwOTky6DVxBpz/6g8uG5IhTvCAFIEIfRS8FDkTGh4BFlIXUgSa+vYQ3ucyBiwJgNgB7CQFneni7/Xho9QW9ujWv+g0+vILp/7DyVfZ1OXn203bB8PDuw==\" type=\"audio/wav\" />\n",
       "                    Your browser does not support the audio element.\n",
       "                </audio>\n",
       "              "
      ],
      "text/plain": [
       "<IPython.lib.display.Audio object>"
      ]
     },
     "execution_count": 56,
     "metadata": {},
     "output_type": "execute_result"
    }
   ],
   "source": [
    "Audio(mytrans.inverse(mytrans.de_norm(torch.from_numpy(all_recon[i]), rec)).numpy(), rate=REC_SAMPLE_RATE)"
   ]
  },
  {
   "cell_type": "code",
   "execution_count": 57,
   "metadata": {},
   "outputs": [
    {
     "data": {
      "text/html": [
       "\n",
       "                <audio  controls=\"controls\" >\n",
       "                    <source src=\"data:audio/wav;base64,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\" type=\"audio/wav\" />\n",
       "                    Your browser does not support the audio element.\n",
       "                </audio>\n",
       "              "
      ],
      "text/plain": [
       "<IPython.lib.display.Audio object>"
      ]
     },
     "execution_count": 57,
     "metadata": {},
     "output_type": "execute_result"
    }
   ],
   "source": [
    "Audio(mytrans.inverse(torch.from_numpy(all_ori[i])).numpy(), rate=REC_SAMPLE_RATE)"
   ]
  },
  {
   "cell_type": "code",
   "execution_count": 58,
   "metadata": {},
   "outputs": [
    {
     "data": {
      "text/html": [
       "\n",
       "                <audio  controls=\"controls\" >\n",
       "                    <source src=\"data:audio/wav;base64,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\" type=\"audio/wav\" />\n",
       "                    Your browser does not support the audio element.\n",
       "                </audio>\n",
       "              "
      ],
      "text/plain": [
       "<IPython.lib.display.Audio object>"
      ]
     },
     "execution_count": 58,
     "metadata": {},
     "output_type": "execute_result"
    }
   ],
   "source": [
    "Audio(mytrans.inverse(torch.from_numpy(all_recon[i])).numpy(), rate=REC_SAMPLE_RATE)"
   ]
  },
  {
   "cell_type": "code",
   "execution_count": null,
   "metadata": {},
   "outputs": [],
   "source": []
  },
  {
   "cell_type": "code",
   "execution_count": null,
   "metadata": {},
   "outputs": [],
   "source": []
  }
 ],
 "metadata": {
  "accelerator": "GPU",
  "colab": {
   "provenance": []
  },
  "gpuClass": "standard",
  "kernelspec": {
   "display_name": "Python 3 (ipykernel)",
   "language": "python",
   "name": "python3"
  },
  "language_info": {
   "codemirror_mode": {
    "name": "ipython",
    "version": 3
   },
   "file_extension": ".py",
   "mimetype": "text/x-python",
   "name": "python",
   "nbconvert_exporter": "python",
   "pygments_lexer": "ipython3",
   "version": "3.11.3"
  }
 },
 "nbformat": 4,
 "nbformat_minor": 4
}
