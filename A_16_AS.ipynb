{
 "cells": [
  {
   "attachments": {},
   "cell_type": "markdown",
   "metadata": {
    "id": "B-mljeGlqMqo"
   },
   "source": [
    "# Sequence Learning - Direct - English - Testing Session - Boundary Prediction\n",
    "Version 2: encode all validation set tokens, but keeping only those that are \"matching\" (= match_status==1)"
   ]
  },
  {
   "cell_type": "code",
   "execution_count": 5,
   "metadata": {
    "id": "jN5DNuExjwet"
   },
   "outputs": [],
   "source": [
    "import torch\n",
    "import torchaudio\n",
    "from torch import nn\n",
    "import torch.nn.functional as F\n",
    "from torch.nn.utils.rnn import pad_sequence\n",
    "from torch import optim\n",
    "from torch.utils.data import Dataset, DataLoader, random_split\n",
    "import matplotlib.pyplot as plt\n",
    "import numpy as np\n",
    "import pandas as pd\n",
    "from pandas.plotting import scatter_matrix\n",
    "import plotly.express as px\n",
    "import random\n",
    "from sklearn.manifold import TSNE  # Optional: Use t-SNE for dimensionality reduction\n",
    "import seaborn as sns\n",
    "from collections import Counter"
   ]
  },
  {
   "cell_type": "code",
   "execution_count": 6,
   "metadata": {},
   "outputs": [],
   "source": [
    "from padding import generate_mask_from_lengths_mat, mask_it\n",
    "from paths import *\n",
    "from my_utils import *\n",
    "from loss import *\n",
    "from model import SimplerPhxLearnerInit as TheLearner\n",
    "from dataset import SeqDatasetBoundary, MelSpecTransform, Normalizer, DeNormalizer\n",
    "from dataset import MelSpecTransformNoDB as TheTransform\n",
    "from my_dataset import DS_Tools\n",
    "from reshandler import BndEncoderResHandler\n",
    "from misc_progress_bar import draw_progress_bar\n",
    "from bnd_detect_tools import *"
   ]
  },
  {
   "cell_type": "markdown",
   "metadata": {},
   "source": [
    "## Preps"
   ]
  },
  {
   "attachments": {},
   "cell_type": "markdown",
   "metadata": {
    "tags": []
   },
   "source": [
    "### Dirs"
   ]
  },
  {
   "cell_type": "code",
   "execution_count": 7,
   "metadata": {
    "id": "iGouCDYD3h18"
   },
   "outputs": [],
   "source": [
    "model_save_dir = model_eng_save_dir\n",
    "\n",
    "log_path = compound_word_log_path\n",
    "rec_path = word_seg_anno_path"
   ]
  },
  {
   "cell_type": "markdown",
   "metadata": {},
   "source": [
    "### Constants"
   ]
  },
  {
   "cell_type": "code",
   "execution_count": 8,
   "metadata": {},
   "outputs": [],
   "source": [
    "EPOCHS = 10\n",
    "BATCH_SIZE = 1\n",
    "\n",
    "INPUT_DIM = 64\n",
    "OUTPUT_DIM = 64\n",
    "\n",
    "INTER_DIM_0 = 32\n",
    "INTER_DIM_1 = 16\n",
    "INTER_DIM_2 = 8\n",
    "\n",
    "ENC_SIZE_LIST = [INPUT_DIM, INTER_DIM_0, INTER_DIM_1, INTER_DIM_2]\n",
    "DEC_SIZE_LIST = [OUTPUT_DIM, INTER_DIM_0, INTER_DIM_1, INTER_DIM_2]\n",
    "\n",
    "DROPOUT = 0.5\n",
    "\n",
    "REC_SAMPLE_RATE = 16000\n",
    "N_FFT = 400\n",
    "N_MELS = 64\n",
    "\n",
    "LOADER_WORKER = 16"
   ]
  },
  {
   "cell_type": "markdown",
   "metadata": {},
   "source": [
    "## Model"
   ]
  },
  {
   "cell_type": "markdown",
   "metadata": {},
   "source": [
    "### Model-related defs"
   ]
  },
  {
   "cell_type": "code",
   "execution_count": 9,
   "metadata": {
    "id": "lUxoYBUg1jLq"
   },
   "outputs": [],
   "source": [
    "device = torch.device('cuda' if torch.cuda.is_available() else 'cpu')\n",
    "recon_loss = nn.MSELoss(reduction='none')\n",
    "masked_recon_loss = MaskedLoss(recon_loss)\n",
    "model_loss = masked_recon_loss\n",
    "\n",
    "# model = SimplerPhxLearner(enc_size_list=ENC_SIZE_LIST, dec_size_list=DEC_SIZE_LIST, num_layers=2)\n",
    "# model = LHYPhxLearner(enc_size_list=ENC_SIZE_LIST, dec_size_list=DEC_SIZE_LIST, num_layers=1)\n",
    "model = TheLearner(enc_size_list=ENC_SIZE_LIST, dec_size_list=DEC_SIZE_LIST, num_layers=2)\n",
    "model.to(device)\n",
    "optimizer = optim.Adam(model.parameters(), lr=1e-3)"
   ]
  },
  {
   "cell_type": "markdown",
   "metadata": {},
   "source": [
    "### Load Model"
   ]
  },
  {
   "cell_type": "code",
   "execution_count": 10,
   "metadata": {},
   "outputs": [],
   "source": [
    "load_ts = \"0126163236\"\n",
    "stop_epoch = \"89\""
   ]
  },
  {
   "cell_type": "code",
   "execution_count": 11,
   "metadata": {},
   "outputs": [
    {
     "data": {
      "text/plain": [
       "SimplerPhxLearnerInit(\n",
       "  (encoder): RLEncoder(\n",
       "    (rnn): LSTM(64, 16, num_layers=2, batch_first=True)\n",
       "    (lin_2): LinearPack(\n",
       "      (linear): Linear(in_features=16, out_features=8, bias=True)\n",
       "      (relu): ReLU()\n",
       "    )\n",
       "  )\n",
       "  (decoder): InitRALDecoder(\n",
       "    (rnn): LSTM(64, 8, num_layers=2, batch_first=True)\n",
       "    (attention): ScaledDotProductAttention(\n",
       "      (w_q): Linear(in_features=8, out_features=8, bias=True)\n",
       "      (w_k): Linear(in_features=8, out_features=8, bias=True)\n",
       "      (w_v): Linear(in_features=8, out_features=8, bias=True)\n",
       "    )\n",
       "    (lin_3): LinearPack(\n",
       "      (linear): Linear(in_features=8, out_features=64, bias=True)\n",
       "      (relu): ReLU()\n",
       "    )\n",
       "  )\n",
       ")"
      ]
     },
     "execution_count": 11,
     "metadata": {},
     "output_type": "execute_result"
    }
   ],
   "source": [
    "model_raw_name = \"PT_{}_{}_full\".format(load_ts, stop_epoch)\n",
    "model_name = model_raw_name + \".pt\"\n",
    "model_path = os.path.join(model_save_dir, model_name)\n",
    "state = torch.load(model_path)\n",
    "\n",
    "model.load_state_dict(state)\n",
    "model.to(device)"
   ]
  },
  {
   "cell_type": "markdown",
   "metadata": {},
   "source": [
    "### Dataset"
   ]
  },
  {
   "cell_type": "markdown",
   "metadata": {},
   "source": [
    "- Note that due to the separate setting of word and phone datasets, we cannot really make it to select those that have not been trained on \n",
    "for this test. This is a point to further fix. Make reference to out first work. "
   ]
  },
  {
   "cell_type": "code",
   "execution_count": 12,
   "metadata": {},
   "outputs": [],
   "source": [
    "valid_ds_indices = DS_Tools.read_indices(os.path.join(model_save_dir, \"valid_ds_{}.pkl\".format(load_ts)))"
   ]
  },
  {
   "cell_type": "code",
   "execution_count": 13,
   "metadata": {},
   "outputs": [],
   "source": [
    "logdf = pd.read_csv(os.path.join(log_path, \"log.csv\"))"
   ]
  },
  {
   "cell_type": "code",
   "execution_count": 14,
   "metadata": {},
   "outputs": [],
   "source": [
    "val = logdf.loc[valid_ds_indices]\n",
    "val = val[val[\"match_status\"] == 1]"
   ]
  },
  {
   "cell_type": "code",
   "execution_count": 15,
   "metadata": {},
   "outputs": [],
   "source": [
    "train = logdf.loc[~logdf.index.isin(valid_ds_indices)]\n",
    "train = train[train[\"match_status\"] == 1]"
   ]
  },
  {
   "cell_type": "code",
   "execution_count": 16,
   "metadata": {},
   "outputs": [
    {
     "name": "stdout",
     "output_type": "stream",
     "text": [
      "Ratio of 'match status' being 1: 0.8701460002027781\n"
     ]
    }
   ],
   "source": [
    "# Apply the time_to_rel_frame function to the column\n",
    "val[\"time_to_rel_frame\"] = val.apply(time_to_rel_frame, axis=1)\n",
    "\n",
    "# Filter out rows with len <= 1\n",
    "over_one_count = (val[\"time_to_rel_frame\"].apply(len) > 1).sum()\n",
    "\n",
    "# Calculate the ratio\n",
    "total_rows = len(val)\n",
    "ratio = over_one_count / total_rows\n",
    "\n",
    "print(f\"Ratio of 'match status' being 1: {ratio}\")"
   ]
  },
  {
   "cell_type": "code",
   "execution_count": 17,
   "metadata": {},
   "outputs": [
    {
     "name": "stdout",
     "output_type": "stream",
     "text": [
      "Ratio of 'match status' being 1: 0.8682885427816801\n"
     ]
    }
   ],
   "source": [
    "# Apply the time_to_rel_frame function to the column\n",
    "train[\"time_to_rel_frame\"] = train.apply(time_to_rel_frame, axis=1)\n",
    "\n",
    "# Filter out rows with len <= 1\n",
    "over_one_count = (train[\"time_to_rel_frame\"].apply(len) > 1).sum()\n",
    "\n",
    "# Calculate the ratio\n",
    "total_rows = len(train)\n",
    "ratio = over_one_count / total_rows\n",
    "\n",
    "print(f\"Ratio of 'match status' being 1: {ratio}\")"
   ]
  },
  {
   "cell_type": "code",
   "execution_count": 18,
   "metadata": {
    "id": "6OCx4nqP40fz"
   },
   "outputs": [],
   "source": [
    "# mytrans = MelSpecTransform(sample_rate=REC_SAMPLE_RATE, n_fft=N_FFT, n_mels=N_MELS)\n",
    "mytrans = TheTransform(sample_rate=REC_SAMPLE_RATE, n_fft=N_FFT, n_mels=N_MELS, normalizer=Normalizer.norm_mvn, denormalizer=DeNormalizer.norm_mvn)\n",
    "ds = SeqDatasetBoundary(rec_path, os.path.join(log_path, \"log.csv\"), transform=mytrans)\n",
    "\n",
    "# Cannot load dataset trained, data filtering applied\n",
    "valid_ds_indices = DS_Tools.read_indices(os.path.join(model_save_dir, \"valid_ds_{}.pkl\".format(load_ts)))\n",
    "\n",
    "valid_ds = torch.utils.data.Subset(ds, valid_ds_indices)\n",
    "\n",
    "# # this is to reduce the size of the dataset when the training power is not sufficient\n",
    "# small_len = int(0.5 * len(ds))\n",
    "# other_len = len(ds) - small_len\n",
    "\n",
    "# # Randomly split the dataset into train and validation sets\n",
    "# valid_ds, other_ds = random_split(ds, [small_len, other_len])\n",
    "\n",
    "valid_loader = DataLoader(valid_ds, batch_size=BATCH_SIZE, shuffle=False, num_workers=LOADER_WORKER, collate_fn=SeqDatasetBoundary.collate_fn)\n",
    "valid_num = len(valid_loader.dataset)"
   ]
  },
  {
   "cell_type": "code",
   "execution_count": 19,
   "metadata": {},
   "outputs": [
    {
     "data": {
      "text/plain": [
       "56808"
      ]
     },
     "execution_count": 19,
     "metadata": {},
     "output_type": "execute_result"
    }
   ],
   "source": [
    "valid_num"
   ]
  },
  {
   "cell_type": "markdown",
   "metadata": {},
   "source": [
    "## Inference"
   ]
  },
  {
   "cell_type": "code",
   "execution_count": 20,
   "metadata": {},
   "outputs": [],
   "source": [
    "def infer(): \n",
    "    model.eval()\n",
    "    reshandler = BndEncoderResHandler(whole_res_dir=compound_plot_res_path, file_prefix=model_raw_name)\n",
    "    all_res = []\n",
    "    all_bnd = []\n",
    "    all_name = []\n",
    "    all_ms = []\n",
    "\n",
    "    total = len(valid_loader)\n",
    "\n",
    "    for idx, (x, x_lens, bnd, name, ms) in enumerate(valid_loader): \n",
    "        bnd = bnd[0]\n",
    "        name = name[0]\n",
    "        ms = ms[0]\n",
    "\n",
    "        x_mask = generate_mask_from_lengths_mat(x_lens, device=device)\n",
    "        \n",
    "        x = x.to(device)\n",
    "\n",
    "        hid_r = model.encode(x, x_lens, x_mask)\n",
    "\n",
    "        hid_r = hid_r.cpu().detach().numpy().squeeze()\n",
    "\n",
    "        length = hid_r.shape[0]\n",
    "\n",
    "        all_res += [hid_r]\n",
    "        # note that this is bit different, not each frame, but each sequence is treated as one data point\n",
    "        all_bnd += [bnd]\n",
    "        all_name += [name]\n",
    "        all_ms += [ms]\n",
    "\n",
    "        if idx % 10 == 0: \n",
    "            draw_progress_bar(idx, total)\n",
    "    \n",
    "\n",
    "    reshandler.res = all_res\n",
    "    reshandler.tok = all_bnd\n",
    "    reshandler.name = all_name\n",
    "    reshandler.match_status = all_ms\n",
    "    reshandler.save()"
   ]
  },
  {
   "cell_type": "code",
   "execution_count": 21,
   "metadata": {},
   "outputs": [
    {
     "name": "stdout",
     "output_type": "stream",
     "text": [
      "[==================================================] 99%\t"
     ]
    }
   ],
   "source": [
    "if __name__ == \"__main__\": \n",
    "    infer()"
   ]
  },
  {
   "cell_type": "markdown",
   "metadata": {},
   "source": [
    "# Load Res"
   ]
  },
  {
   "cell_type": "code",
   "execution_count": 22,
   "metadata": {},
   "outputs": [],
   "source": [
    "reshandler = BndEncoderResHandler(whole_res_dir=compound_plot_res_path, file_prefix=model_raw_name)\n",
    "reshandler.read()"
   ]
  },
  {
   "cell_type": "markdown",
   "metadata": {},
   "source": [
    "# Evaluate with Wang et al. method"
   ]
  },
  {
   "cell_type": "code",
   "execution_count": 23,
   "metadata": {},
   "outputs": [],
   "source": [
    "# all\n",
    "all_preds = reshandler.res\n",
    "all_bnds = reshandler.tok\n",
    "all_matching_status = reshandler.match_status"
   ]
  },
  {
   "cell_type": "code",
   "execution_count": 24,
   "metadata": {},
   "outputs": [
    {
     "name": "stdout",
     "output_type": "stream",
     "text": [
      "17397 56808 0.30624207858048164\n"
     ]
    }
   ],
   "source": [
    "mismatch_counter = 0\n",
    "total_counter = 0\n",
    "\n",
    "for ms in all_matching_status: \n",
    "    if ms != 1: \n",
    "        mismatch_counter += 1\n",
    "    total_counter += 1\n",
    "\n",
    "print(mismatch_counter, total_counter, mismatch_counter/total_counter)"
   ]
  },
  {
   "cell_type": "code",
   "execution_count": 25,
   "metadata": {},
   "outputs": [],
   "source": [
    "# mismatcher_out: exclude those that are not matching\n",
    "preds_misout = []\n",
    "bnds_misout = []\n",
    "for idx in range(len(all_preds)): \n",
    "    if all_matching_status[idx] != 1: \n",
    "        continue\n",
    "    preds_misout.append(all_preds[idx])\n",
    "    bnds_misout.append(all_bnds[idx])"
   ]
  },
  {
   "cell_type": "code",
   "execution_count": 26,
   "metadata": {},
   "outputs": [
    {
     "data": {
      "text/plain": [
       "39411"
      ]
     },
     "execution_count": 26,
     "metadata": {},
     "output_type": "execute_result"
    }
   ],
   "source": [
    "len(preds_misout)"
   ]
  },
  {
   "cell_type": "code",
   "execution_count": 27,
   "metadata": {},
   "outputs": [
    {
     "name": "stdout",
     "output_type": "stream",
     "text": [
      "5105 39411 0.1295323640607952\n"
     ]
    }
   ],
   "source": [
    "one_counter = 0\n",
    "total_counter = 0\n",
    "\n",
    "for bnd in bnds_misout: \n",
    "    if len(bnd) <= 1: \n",
    "        one_counter += 1\n",
    "    total_counter += 1\n",
    "\n",
    "print(one_counter, total_counter, one_counter/total_counter)"
   ]
  },
  {
   "cell_type": "code",
   "execution_count": 28,
   "metadata": {},
   "outputs": [],
   "source": [
    "# one_bound_out: bnds excludes last\n",
    "preds = []\n",
    "bnds = []\n",
    "for idx in range(len(preds_misout)): \n",
    "    if len(bnds_misout[idx]) <= 1: \n",
    "        continue\n",
    "    preds.append(preds_misout[idx])\n",
    "    bnds.append(bnds_misout[idx][:-1])"
   ]
  },
  {
   "cell_type": "code",
   "execution_count": 29,
   "metadata": {},
   "outputs": [
    {
     "data": {
      "text/plain": [
       "34306"
      ]
     },
     "execution_count": 29,
     "metadata": {},
     "output_type": "execute_result"
    }
   ],
   "source": [
    "len(bnds)"
   ]
  },
  {
   "cell_type": "code",
   "execution_count": 30,
   "metadata": {},
   "outputs": [],
   "source": [
    "periodic_preds = periodic_bnd_detect(preds, every=4, only_then_rand=False)"
   ]
  },
  {
   "cell_type": "code",
   "execution_count": 31,
   "metadata": {},
   "outputs": [
    {
     "name": "stdout",
     "output_type": "stream",
     "text": [
      "R-value for periodic boundary prediction is: 39.66194422961225\n"
     ]
    }
   ],
   "source": [
    "pb_precision_list, pb_recall_list = [], []\n",
    "\n",
    "#Recall\n",
    "for i in range(len(bnds)):\n",
    "    single_utt_recall = tolerance_recall(bnds[i], \\\n",
    "                            periodic_preds[i], tolerance_window=2)\n",
    "    pb_recall_list.append(single_utt_recall)\n",
    "\n",
    "#Precision\n",
    "for i in range(len(periodic_preds)):\n",
    "    single_utt_precision = tolerance_precision(bnds[i], \\\n",
    "                            periodic_preds[i], tolerance_window=2)\n",
    "    pb_precision_list.append(single_utt_precision)\n",
    "\n",
    "\n",
    "precision = sum(pb_precision_list) / len(pb_precision_list)\n",
    "recall = sum(pb_recall_list) / len(pb_recall_list)\n",
    "recall *= 100\n",
    "precision *= 100\n",
    "if recall == 0. or precision == 0.:\n",
    "    f_score = -1.\n",
    "    r_val = -1.\n",
    "else:\n",
    "    f_score = (2 * precision * recall) / (precision + recall)\n",
    "    r_val = r_val_eval(precision, recall)\n",
    "\n",
    "print(\"R-value for periodic boundary prediction is: {}\".format(r_val))"
   ]
  },
  {
   "cell_type": "markdown",
   "metadata": {},
   "source": [
    "## Run a through search through all dims"
   ]
  },
  {
   "cell_type": "code",
   "execution_count": 32,
   "metadata": {},
   "outputs": [
    {
     "name": "stdout",
     "output_type": "stream",
     "text": [
      "The best r_val is: 63.9950, th = 0.0007, dim = 0\n",
      "The best r_val is: 55.6610, th = 0.0007, dim = 1\n",
      "The best r_val is: 51.9383, th = 0.0007, dim = 2\n",
      "The best r_val is: 51.1225, th = 0.0007, dim = 3\n",
      "The best r_val is: 66.6591, th = 0.017, dim = 4\n",
      "The best r_val is: 60.7757, th = 0.0007, dim = 5\n",
      "The best r_val is: 42.7682, th = 0.0007, dim = 6\n",
      "The best r_val is: 39.2308, th = 0.0007, dim = 7\n",
      "The best r_val is: 29.5636, th = 0.08, dim = mean\n"
     ]
    }
   ],
   "source": [
    "dims = list(range(8)) + [\"mean\"]\n",
    "th = [0.1, 0.08, 0.06, 0.05, 0.04, 0.035, 0.03]\n",
    "th += [0.029, 0.028, 0.027, 0.026, 0.025, 0.024, 0.023, 0.022, 0.021, 0.02, 0.019]\n",
    "th += [0.018, 0.017, 0.016, 0.015, 0.014, 0.013, 0.012, 0.011, 0.01]\n",
    "th += [0.0008, 0.0007]\n",
    "th_total = len(th)\n",
    "\n",
    "recall_lslsls, precision_lslsls, r_val_lslsls = [], [], []\n",
    "\n",
    "for idx, dim in enumerate(dims): \n",
    "    recall_lsls, precision_lsls, r_val_ls = [], [], []\n",
    "    \n",
    "    for idx, thresh in enumerate(th): \n",
    "        recall_list, precision_list = thresh_segmentation_eval(batch_delta_hrs(preds, sel=dim, minus=True), bnds, tolerance_window=2, diff_thresh_factor=thresh)\n",
    "        recall_lsls.append(recall_list)\n",
    "        precision_lsls.append(precision_list)\n",
    "\n",
    "    for th_idx in range(len(th)): \n",
    "        precision_list = precision_lsls[th_idx]\n",
    "        recall_list = recall_lsls[th_idx]\n",
    "\n",
    "        precision = sum(precision_list) / len(precision_list)\n",
    "        recall = sum(recall_list) / len(recall_list)\n",
    "        recall *= 100\n",
    "        precision *= 100\n",
    "        if recall == 0. or precision == 0.:\n",
    "            f_score = -1.\n",
    "            r_val = -1.\n",
    "        else:\n",
    "            f_score = (2 * precision * recall) / (precision + recall)\n",
    "            r_val = r_val_eval(precision, recall)\n",
    "        \n",
    "        r_val_ls.append(r_val)\n",
    "    \n",
    "    recall_lslsls.append(recall_lsls)\n",
    "    precision_lslsls.append(precision_lsls)\n",
    "    r_val_lslsls.append(r_val_ls)\n",
    "    \n",
    "    print('The best r_val is: {:.4f}, th = {}, dim = {}'.format(max(r_val_ls), th[r_val_ls.index(max(r_val_ls))], dim))"
   ]
  },
  {
   "cell_type": "code",
   "execution_count": 59,
   "metadata": {},
   "outputs": [
    {
     "data": {
      "text/plain": [
       "'\\nThe best r_val is: 64.1667, th = 0.028, dim = 0\\nThe best r_val is: 29.5675, th = 0.001, dim = 1\\nThe best r_val is: 62.7918, th = 0.02, dim = 2\\nThe best r_val is: 64.6059, th = 0.03, dim = 3\\nThe best r_val is: 49.6220, th = 0.004, dim = 4\\nThe best r_val is: 67.6130, th = 0.008, dim = 5\\nThe best r_val is: 35.5199, th = 0.001, dim = 6\\nThe best r_val is: 63.5690, th = 0.022, dim = 7\\nThe best r_val is: 55.5489, th = 0.001, dim = mean\\n'"
      ]
     },
     "execution_count": 59,
     "metadata": {},
     "output_type": "execute_result"
    }
   ],
   "source": [
    "# Plus\n",
    "\"\"\"\n",
    "The best r_val is: 64.1704, th = 0.027, dim = 0\n",
    "The best r_val is: 29.5702, th = 0.0008, dim = 1\n",
    "The best r_val is: 62.8208, th = 0.019, dim = 2\n",
    "The best r_val is: 64.6059, th = 0.03, dim = 3\n",
    "The best r_val is: 49.6899, th = 0.003, dim = 4\n",
    "The best r_val is: 67.6130, th = 0.008, dim = 5\n",
    "The best r_val is: 35.5558, th = 0.0008, dim = 6\n",
    "The best r_val is: 63.5690, th = 0.022, dim = 7\n",
    "The best r_val is: 55.5981, th = 0.0008, dim = mean\n",
    "\"\"\"\n",
    "\n",
    "# Minus\n",
    "\"\"\"\n",
    "The best r_val is: 65.9907, th = 0.024, dim = 0\n",
    "The best r_val is: 51.9334, th = 0.035, dim = 1\n",
    "The best r_val is: 62.7616, th = 0.01, dim = 2\n",
    "The best r_val is: 65.6081, th = 0.03, dim = 3\n",
    "The best r_val is: 49.1389, th = 0.0008, dim = 4\n",
    "The best r_val is: 65.7445, th = 0.01, dim = 5\n",
    "The best r_val is: 65.8716, th = 0.027, dim = 6\n",
    "The best r_val is: 63.0764, th = 0.019, dim = 7\n",
    "The best r_val is: 66.7116, th = 0.027, dim = mean\n",
    "\"\"\"\n",
    "\n",
    "\n",
    "\"\"\"\n",
    "The best r_val is: 64.1667, th = 0.028, dim = 0\n",
    "The best r_val is: 29.5675, th = 0.001, dim = 1\n",
    "The best r_val is: 62.7918, th = 0.02, dim = 2\n",
    "The best r_val is: 64.6059, th = 0.03, dim = 3\n",
    "The best r_val is: 49.6220, th = 0.004, dim = 4\n",
    "The best r_val is: 67.6130, th = 0.008, dim = 5\n",
    "The best r_val is: 35.5199, th = 0.001, dim = 6\n",
    "The best r_val is: 63.5690, th = 0.022, dim = 7\n",
    "The best r_val is: 55.5489, th = 0.001, dim = mean\n",
    "\"\"\""
   ]
  },
  {
   "cell_type": "markdown",
   "metadata": {},
   "source": [
    "# Plot some hidrep graphs in relation to boundary"
   ]
  },
  {
   "cell_type": "code",
   "execution_count": 33,
   "metadata": {},
   "outputs": [],
   "source": [
    "def plot_feature_with_boundaries(features, boundaries, name):\n",
    "    num_features = features.shape[1]\n",
    "    num_samples = features.shape[0]\n",
    "\n",
    "\n",
    "    time_axis = np.arange(num_samples)\n",
    "\n",
    "    fig, axes = plt.subplots(num_features + 1, 1, figsize=(10, (num_features + 1) * 2), sharex=True)\n",
    "\n",
    "    # Plot each feature on separate subplots\n",
    "    for i in range(num_features):\n",
    "        ax = axes[i]\n",
    "        ax.plot(time_axis, features[:, i], label=f'Feature {i + 1}')\n",
    "\n",
    "        for boundary in boundaries:\n",
    "            if boundary < num_samples:\n",
    "                ax.axvline(x=boundary, color='red', linestyle='--', alpha=0.5)\n",
    "\n",
    "        ax.set_ylabel(f'Feature {i + 1}')\n",
    "\n",
    "    # Plot all dimensions together with different line colors\n",
    "    ax = axes[num_features]\n",
    "    for i in range(num_features):\n",
    "        ax.plot(time_axis, features[:, i], label=f'Feature {i + 1}', alpha=0.5)\n",
    "\n",
    "    for boundary in boundaries:\n",
    "        if boundary < num_samples:\n",
    "            ax.axvline(x=boundary, color='red', linestyle='--', alpha=0.5)\n",
    "\n",
    "    ax.set_ylabel('All Features')\n",
    "    ax.legend()\n",
    "\n",
    "    plt.xlabel('Time (frames)')\n",
    "\n",
    "    plt.tight_layout()\n",
    "    # plt.show()\n",
    "    plt.savefig(\"./8dim_hrs/\" + \"{}_dim.png\".format(name))\n",
    "    plt.close()"
   ]
  },
  {
   "cell_type": "code",
   "execution_count": 34,
   "metadata": {},
   "outputs": [],
   "source": [
    "def plot_mean_feature_with_boundaries(features, boundaries, name):\n",
    "    \"\"\"\n",
    "    Plot the mean of the features as a line graph with marked boundaries.\n",
    "    \n",
    "    Parameters:\n",
    "    - features: NumPy array of shape (length, 8)\n",
    "    - boundaries: List of boundary times (frame numbers)\n",
    "    \"\"\"\n",
    "    num_samples = features.shape[0]\n",
    "\n",
    "    # Create a time axis\n",
    "    time_axis = np.arange(num_samples)\n",
    "\n",
    "    # Create the plot\n",
    "    plt.figure(figsize=(10, 6))\n",
    "    plt.plot(time_axis, features, label='Mean Feature')\n",
    "\n",
    "    # Mark boundaries on the plot\n",
    "    for boundary in boundaries:\n",
    "        if boundary < num_samples:\n",
    "            plt.axvline(x=boundary, color='red', linestyle='--', alpha=0.5)\n",
    "\n",
    "    # Set labels and legend\n",
    "    plt.xlabel('Time (frames)')\n",
    "    plt.ylabel('Mean Feature Value')\n",
    "    plt.legend()\n",
    "    \n",
    "    # plt.show()\n",
    "    plt.savefig(\"./8dim_hrs/\" + \"{}_mean.png\".format(name))\n",
    "    plt.close()"
   ]
  },
  {
   "cell_type": "code",
   "execution_count": 35,
   "metadata": {},
   "outputs": [],
   "source": [
    "def plot_all_and_mean_feature_with_boundaries(features, mean_features, boundaries, name):\n",
    "    \"\"\"\n",
    "    Plot the mean of the features as a line graph with marked boundaries.\n",
    "    \n",
    "    Parameters:\n",
    "    - features: NumPy array of shape (length, 8)\n",
    "    - boundaries: List of boundary times (frame numbers)\n",
    "    \"\"\"\n",
    "    num_features = features.shape[1]\n",
    "    num_samples = features.shape[0]\n",
    "\n",
    "    # Create a time axis\n",
    "    time_axis = np.arange(num_samples)\n",
    "\n",
    "    # Create the plot\n",
    "    # plt.figure(figsize=(10, 6))\n",
    "    fig, axes = plt.subplots(2, 1, figsize=(10, 4), sharex=True)\n",
    "    # Plot all dimensions together with different line colors\n",
    "\n",
    "    ax = axes[0]\n",
    "    ax.plot(time_axis, mean_features, label='Mean Feature')\n",
    "\n",
    "    # Mark boundaries on the plot\n",
    "    for boundary in boundaries:\n",
    "        if boundary < num_samples:\n",
    "            ax.axvline(x=boundary, color='red', linestyle='--', alpha=0.5)\n",
    "\n",
    "    ax.set_ylabel('Mean Feature Value')\n",
    "\n",
    "    ax = axes[1]\n",
    "    for i in range(num_features):\n",
    "        ax.plot(time_axis, features[:, i], label=f'Feature {i + 1}', alpha=0.5)\n",
    "\n",
    "    for boundary in boundaries:\n",
    "        if boundary < num_samples:\n",
    "            ax.axvline(x=boundary, color='red', linestyle='--', alpha=0.5)\n",
    "    \n",
    "    ax.set_ylabel('All Features')\n",
    "    # ax.legend(loc=\"best\")\n",
    "\n",
    "    # Set labels and legend\n",
    "    plt.xlabel('Time (frames)')\n",
    "    \n",
    "    # plt.legend(pos=\"out\")\n",
    "    \n",
    "    plt.show()\n",
    "    # plt.savefig(\"./8dim_hrs/\" + \"{}_mean.png\".format(name))\n",
    "    # plt.close()"
   ]
  },
  {
   "cell_type": "code",
   "execution_count": 38,
   "metadata": {},
   "outputs": [],
   "source": [
    "spec_idx = reshandler.name.index(\"s0803b_00000161\")"
   ]
  },
  {
   "cell_type": "code",
   "execution_count": 39,
   "metadata": {},
   "outputs": [
    {
     "data": {
      "image/png": "[encoded data removed]",
      "text/plain": [
       "<Figure size 1000x400 with 2 Axes>"
      ]
     },
     "metadata": {},
     "output_type": "display_data"
    }
   ],
   "source": [
    "name = reshandler.name[spec_idx]\n",
    "pred = reshandler.res[spec_idx]\n",
    "bnd = reshandler.tok[spec_idx]\n",
    "\n",
    "delta = delta_hrs(pred)\n",
    "pred_mean = pred.mean(axis=1)\n",
    "delta_mean = delta_hrs(pred_mean)\n",
    "# delta = pred\n",
    "plot_all_and_mean_feature_with_boundaries(delta, delta_mean, bnd, name)"
   ]
  },
  {
   "cell_type": "code",
   "execution_count": 23,
   "metadata": {},
   "outputs": [],
   "source": [
    "mk(\"./8dim_hrs\")"
   ]
  },
  {
   "cell_type": "code",
   "execution_count": 24,
   "metadata": {},
   "outputs": [],
   "source": [
    "total_len = len(reshandler.name)"
   ]
  },
  {
   "cell_type": "code",
   "execution_count": 26,
   "metadata": {},
   "outputs": [],
   "source": [
    "spec_idx = reshandler.name.index(\"s0502a_00000395\")"
   ]
  },
  {
   "cell_type": "code",
   "execution_count": 27,
   "metadata": {},
   "outputs": [],
   "source": [
    "name = reshandler.name[spec_idx]\n",
    "pred = reshandler.res[spec_idx]\n",
    "bnd = reshandler.tok[spec_idx]\n",
    "\n",
    "delta = delta_hrs(pred)\n",
    "# delta = pred\n",
    "plot_feature_with_boundaries(delta, bnd, name)\n",
    "\n",
    "pred_mean = pred.mean(axis=1)\n",
    "delta = delta_hrs(pred_mean)\n",
    "# delta = pred_mean\n",
    "plot_mean_feature_with_boundaries(delta, bnd, name)"
   ]
  },
  {
   "cell_type": "code",
   "execution_count": 25,
   "metadata": {},
   "outputs": [],
   "source": [
    "for i in range(20): \n",
    "    randidx = random.randint(0, total_len)\n",
    "    name = reshandler.name[randidx]\n",
    "    pred = reshandler.res[randidx]\n",
    "    bnd = reshandler.tok[randidx]\n",
    "\n",
    "    # delta = delta_hrs(pred)\n",
    "    delta = pred\n",
    "    plot_feature_with_boundaries(delta, bnd, name)\n",
    "\n",
    "    pred_mean = pred.mean(axis=1)\n",
    "    # delta = delta_hrs(pred_mean)\n",
    "    delta = pred_mean\n",
    "    plot_mean_feature_with_boundaries(delta, bnd, name)"
   ]
  }
 ],
 "metadata": {
  "accelerator": "GPU",
  "colab": {
   "provenance": []
  },
  "gpuClass": "standard",
  "kernelspec": {
   "display_name": "Python 3 (ipykernel)",
   "language": "python",
   "name": "python3"
  },
  "language_info": {
   "codemirror_mode": {
    "name": "ipython",
    "version": 3
   },
   "file_extension": ".py",
   "mimetype": "text/x-python",
   "name": "python",
   "nbconvert_exporter": "python",
   "pygments_lexer": "ipython3",
   "version": "3.11.3"
  }
 },
 "nbformat": 4,
 "nbformat_minor": 4
}
