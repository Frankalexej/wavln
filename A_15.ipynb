{
 "cells": [
  {
   "cell_type": "markdown",
   "metadata": {},
   "source": [
    "# New Run\n",
    "A_01: Copy from SL_D_E_4.ipynb. Fixed the problem as we have found in normalization. This time we normalize over the whole course. \n",
    "\n",
    "\n",
    "A_05: This time we resume using two linear layers, one before RNN and one after. IN this way we make the last linear layer of both encoder and decoder\n",
    "a pure linear layer without other components. \n",
    "\n",
    "A_07: This time we delete the attention part of the decoder and make it completely autoregressive. See how it performs. \n",
    "\n",
    "A_08: Restore the inclusion of attention mechanism, and set the first input to decoder to all zero. \n",
    "\n",
    "A_10: This time we want to really try the autoregressive model and see how well it performs. \n",
    "\n",
    "A_12: This time resume to SimplePhxLearner structure, LinearPack -LayerNorm and +Tanh. In addition added LastElementExtractor. \n",
    "\n",
    "A_15: slightly play a bit with the model, see whether it can improve. LastElementExtractor should not be wrong. In addition, may play a bit with the model layering, as well as some components in LinearPack. We disable dropout first to see what can happen. [New: LastElementExtractor may be a wrong facility]"
   ]
  },
  {
   "attachments": {},
   "cell_type": "markdown",
   "metadata": {
    "id": "B-mljeGlqMqo"
   },
   "source": [
    "# Sequence Learning - Direct - English\n",
    "Version 1: In this version we make the model \"simple\": make the encoder RNN into normal RNN first and try to see the result.  \n",
    "Version 2: Learning is not very much. Following Dr Coupe's advice we try simpler model structure.   \n",
    "Version 3: A simple trial training with Mel spectrogram instead of MFCC.   \n",
    "Version 4: try to enlarge the hidden dimensions so that we might still make sense of the hidden representation. "
   ]
  },
  {
   "cell_type": "code",
   "execution_count": 1,
   "metadata": {
    "id": "jN5DNuExjwet"
   },
   "outputs": [],
   "source": [
    "import torch\n",
    "import torchaudio\n",
    "from torch import nn\n",
    "import torch.nn.functional as F\n",
    "from torch.nn.utils.rnn import pad_sequence, pack_sequence\n",
    "from torch import optim\n",
    "from torch.utils.data import Dataset, DataLoader, random_split\n",
    "import matplotlib.pyplot as plt\n",
    "import numpy as np\n",
    "import pandas as pd\n",
    "import pickle\n",
    "from datetime import datetime\n",
    "import random\n",
    "from torchinfo import summary"
   ]
  },
  {
   "cell_type": "code",
   "execution_count": 2,
   "metadata": {},
   "outputs": [],
   "source": [
    "from model import SimplerPhxLearnerInit as TheLearner\n",
    "from my_dataset import DS_Tools\n",
    "from dataset import SeqDataset, MelTransform, Normalizer, DeNormalizer\n",
    "from dataset import MelSpecTransformNoDB as TheTransform\n",
    "from paths import *\n",
    "from my_utils import *\n",
    "from recorder import *\n",
    "from loss import *\n",
    "from padding import generate_mask_from_lengths_mat, mask_it"
   ]
  },
  {
   "attachments": {},
   "cell_type": "markdown",
   "metadata": {
    "tags": []
   },
   "source": [
    "### Dirs"
   ]
  },
  {
   "cell_type": "code",
   "execution_count": 3,
   "metadata": {
    "id": "iGouCDYD3h18"
   },
   "outputs": [],
   "source": [
    "model_save_dir = model_eng_save_dir\n",
    "# random_data:phone_seg_random_path\n",
    "# anno_data: phone_seg_anno_path\n",
    "\n",
    "# random_log_path = phone_seg_random_log_path + \"log.csv\"\n",
    "random_log_path = word_seg_anno_log_path\n",
    "random_path = word_seg_anno_path\n",
    "anno_log_path = phone_seg_anno_path"
   ]
  },
  {
   "attachments": {},
   "cell_type": "markdown",
   "metadata": {},
   "source": [
    "### Constants"
   ]
  },
  {
   "cell_type": "code",
   "execution_count": 4,
   "metadata": {},
   "outputs": [],
   "source": [
    "BATCH_SIZE = 128\n",
    "\n",
    "INPUT_DIM = 64\n",
    "OUTPUT_DIM = 64 \n",
    "\n",
    "INTER_DIM_0 = 32\n",
    "INTER_DIM_1 = 16\n",
    "INTER_DIM_2 = 8\n",
    "\n",
    "ENC_SIZE_LIST = [INPUT_DIM, INTER_DIM_0, INTER_DIM_1, INTER_DIM_2]\n",
    "DEC_SIZE_LIST = [OUTPUT_DIM, INTER_DIM_0, INTER_DIM_1, INTER_DIM_2]\n",
    "\n",
    "DROPOUT = 0.5\n",
    "\n",
    "REC_SAMPLE_RATE = 16000\n",
    "N_FFT = 400\n",
    "N_MELS = 64\n",
    "\n",
    "LOADER_WORKER = 16\n",
    "# LOADER_WORKER = 0"
   ]
  },
  {
   "cell_type": "code",
   "execution_count": 5,
   "metadata": {
    "id": "lUxoYBUg1jLq"
   },
   "outputs": [],
   "source": [
    "device = torch.device('cuda' if torch.cuda.is_available() else 'cpu')\n",
    "recon_loss = nn.MSELoss(reduction='none')\n",
    "masked_recon_loss = MaskedLoss(recon_loss)\n",
    "model_loss = masked_recon_loss\n",
    "\n",
    "model = TheLearner(enc_size_list=ENC_SIZE_LIST, dec_size_list=DEC_SIZE_LIST, num_layers=2)\n",
    "# model = TheLearner(enc_size_list=ENC_SIZE_LIST, dec_size_list=DEC_SIZE_LIST, num_layers=1)\n",
    "model.to(device)\n",
    "optimizer = optim.Adam(model.parameters(), lr=1e-3)"
   ]
  },
  {
   "cell_type": "code",
   "execution_count": 6,
   "metadata": {},
   "outputs": [],
   "source": [
    "# # initialize model weights\n",
    "# def init_weights(m):\n",
    "#     if isinstance(m, nn.Linear):\n",
    "#         torch.nn.init.orthogonal_(m.weight)\n",
    "#         m.bias.data.fill_(0.01)\n",
    "#     if isinstance(m, nn.LSTM): \n",
    "#         for name, p in m.named_parameters():\n",
    "#             if \"weight\" in name: \n",
    "#                 nn.init.orthogonal_(p)\n",
    "#             elif \"bias\" in name: \n",
    "#                 nn.init.constant_(p, 0)\n",
    "\n",
    "# model.apply(init_weights)"
   ]
  },
  {
   "cell_type": "code",
   "execution_count": 7,
   "metadata": {},
   "outputs": [],
   "source": [
    "model_parameters = filter(lambda p: p.requires_grad, model.parameters())\n",
    "params = sum([np.prod(p.size()) for p in model_parameters])"
   ]
  },
  {
   "cell_type": "code",
   "execution_count": 8,
   "metadata": {},
   "outputs": [
    {
     "data": {
      "text/plain": [
       "11296"
      ]
     },
     "execution_count": 8,
     "metadata": {},
     "output_type": "execute_result"
    }
   ],
   "source": [
    "params"
   ]
  },
  {
   "cell_type": "code",
   "execution_count": 9,
   "metadata": {
    "id": "ofsEE6OaoyPh"
   },
   "outputs": [],
   "source": [
    "# Just for keeping records of training hists. \n",
    "# ts = \"0918192113\"\n",
    "stop_epoch = \"149\"\n",
    "ts = str(get_timestamp())\n",
    "save_txt_name = \"train_txt_{}.hst\".format(ts)\n",
    "save_trainhist_name = \"train_hist_{}.hst\".format(ts)\n",
    "\n",
    "save_valhist_name = \"val_hist_{}.hst\".format(ts)"
   ]
  },
  {
   "cell_type": "code",
   "execution_count": 10,
   "metadata": {
    "id": "xUHYarigvT64"
   },
   "outputs": [],
   "source": [
    "train_losses = LossRecorder(model_save_dir + save_trainhist_name)\n",
    "\n",
    "valid_losses = LossRecorder(model_save_dir + save_valhist_name)\n",
    "\n",
    "text_hist = HistRecorder(model_save_dir + save_txt_name)"
   ]
  },
  {
   "cell_type": "code",
   "execution_count": 11,
   "metadata": {
    "id": "-T4OYaoXsxe_"
   },
   "outputs": [],
   "source": [
    "READ = False\n",
    "# READ = True"
   ]
  },
  {
   "cell_type": "code",
   "execution_count": 12,
   "metadata": {
    "id": "nVvnpUk5sWxb"
   },
   "outputs": [],
   "source": [
    "if READ: \n",
    "    valid_losses.read()\n",
    "    train_losses.read()\n",
    "\n",
    "    model_raw_name = \"PT_{}_{}_full\".format(ts, stop_epoch)\n",
    "    model_name = model_raw_name + \".pt\"\n",
    "    model_path = os.path.join(model_save_dir, model_name)\n",
    "    state = torch.load(model_path)\n",
    "\n",
    "    model.load_state_dict(state)\n",
    "    model.to(device)"
   ]
  },
  {
   "cell_type": "code",
   "execution_count": 13,
   "metadata": {},
   "outputs": [
    {
     "data": {
      "text/plain": [
       "SimplerPhxLearnerInit(\n",
       "  (encoder): RLEncoder(\n",
       "    (rnn): LSTM(64, 16, num_layers=2, batch_first=True)\n",
       "    (lin_2): LinearPack(\n",
       "      (linear): Linear(in_features=16, out_features=8, bias=True)\n",
       "      (relu): Tanh()\n",
       "    )\n",
       "  )\n",
       "  (decoder): InitRALDecoder(\n",
       "    (rnn): LSTM(64, 8, num_layers=2, batch_first=True)\n",
       "    (attention): ScaledDotProductAttention(\n",
       "      (w_q): Linear(in_features=8, out_features=8, bias=True)\n",
       "      (w_k): Linear(in_features=8, out_features=8, bias=True)\n",
       "      (w_v): Linear(in_features=8, out_features=8, bias=True)\n",
       "    )\n",
       "    (lin_3): LinearPack(\n",
       "      (linear): Linear(in_features=8, out_features=64, bias=True)\n",
       "      (relu): Tanh()\n",
       "    )\n",
       "  )\n",
       ")"
      ]
     },
     "execution_count": 13,
     "metadata": {},
     "output_type": "execute_result"
    }
   ],
   "source": [
    "model"
   ]
  },
  {
   "cell_type": "code",
   "execution_count": 14,
   "metadata": {},
   "outputs": [],
   "source": [
    "DATAREAD = False"
   ]
  },
  {
   "cell_type": "code",
   "execution_count": 15,
   "metadata": {
    "id": "6OCx4nqP40fz"
   },
   "outputs": [],
   "source": [
    "# mytrans = MelSpecTransform(sample_rate=REC_SAMPLE_RATE, n_fft=N_FFT, n_mels=N_MELS)\n",
    "# mytrans = nn.Sequential(\n",
    "#     MelTransform(sample_rate=REC_SAMPLE_RATE, n_fft=N_FFT, n_mels=N_MELS),\n",
    "#     # torchaudio.transforms.AmplitudeToDB(stype=\"power\", top_db=80), \n",
    "#     Normalizer(Normalizer.norm_strip_minmax)\n",
    "# )\n",
    "# mytrans = TheTransform(sample_rate=REC_SAMPLE_RATE, n_fft=N_FFT, n_mels=N_MELS, normalizer=Normalizer.norm_strip_mvn, denormalizer=DeNormalizer.norm_strip_mvn)\n",
    "mytrans = TheTransform(sample_rate=REC_SAMPLE_RATE, n_fft=N_FFT, n_mels=N_MELS, normalizer=Normalizer.norm_mvn, denormalizer=DeNormalizer.norm_mvn)\n",
    "ds = SeqDataset(random_path, os.path.join(random_log_path, \"log.csv\"), transform=mytrans)\n",
    "\n",
    "test = False\n",
    "if test: \n",
    "    use_len = int(0.1 * len(ds))\n",
    "    remain_len = len(ds) - use_len\n",
    "\n",
    "    # Randomly split the dataset into train and validation sets\n",
    "    ds, remain_ds = random_split(ds, [use_len, remain_len])\n",
    "\n",
    "\n",
    "if READ or DATAREAD: \n",
    "    valid_ds_indices = DS_Tools.read_indices(os.path.join(model_save_dir, \"valid_ds_{}.pkl\".format(ts)))\n",
    "    all_indices = list(range(len(ds)))\n",
    "    train_ds_indices = list(set(all_indices).difference(set(valid_ds_indices)))\n",
    "\n",
    "    train_ds = torch.utils.data.Subset(ds, train_ds_indices)\n",
    "    valid_ds = torch.utils.data.Subset(ds, valid_ds_indices)\n",
    "else: \n",
    "    train_len = int(0.8 * len(ds))\n",
    "    valid_len = len(ds) - train_len\n",
    "\n",
    "    # Randomly split the dataset into train and validation sets\n",
    "    train_ds, valid_ds = random_split(ds, [train_len, valid_len])\n",
    "    DS_Tools.save_indices(os.path.join(model_save_dir, \"valid_ds_{}.pkl\".format(ts)), valid_ds.indices)\n",
    "\n",
    "train_loader = DataLoader(train_ds, batch_size=BATCH_SIZE, shuffle=True, num_workers=LOADER_WORKER, collate_fn=SeqDataset.collate_fn)\n",
    "train_num = len(train_loader.dataset)\n",
    "\n",
    "valid_loader = DataLoader(valid_ds, batch_size=BATCH_SIZE, shuffle=False, num_workers=LOADER_WORKER, collate_fn=SeqDataset.collate_fn)\n",
    "valid_num = len(valid_loader.dataset)\n"
   ]
  },
  {
   "cell_type": "code",
   "execution_count": 16,
   "metadata": {},
   "outputs": [
    {
     "data": {
      "text/plain": [
       "1776"
      ]
     },
     "execution_count": 16,
     "metadata": {},
     "output_type": "execute_result"
    }
   ],
   "source": [
    "len(train_loader)"
   ]
  },
  {
   "cell_type": "code",
   "execution_count": 17,
   "metadata": {},
   "outputs": [
    {
     "name": "stdout",
     "output_type": "stream",
     "text": [
      "torch.Size([128, 60, 64])\n"
     ]
    }
   ],
   "source": [
    "# Load sample data from train_loader\n",
    "sample_data = next(iter(valid_loader))\n",
    "xx_pad, seg = sample_data\n",
    "print(xx_pad.shape)"
   ]
  },
  {
   "cell_type": "code",
   "execution_count": 18,
   "metadata": {},
   "outputs": [
    {
     "data": {
      "image/png": "[encoded data removed]",
      "text/plain": [
       "<Figure size 1200x800 with 7 Axes>"
      ]
     },
     "metadata": {},
     "output_type": "display_data"
    }
   ],
   "source": [
    "# Set the random seed for reproducibility\n",
    "# random.seed(101)\n",
    "# Generate six random indices\n",
    "# random_indices = random.sample(range(len(xx_pad)), 6)\n",
    "random_indices = list(range(6, 12))\n",
    "\n",
    "# Plot the spectrograms and mark the corresponding seg\n",
    "fig, axes = plt.subplots(2, 3, figsize=(12, 8))\n",
    "axes = axes.flatten()\n",
    "\n",
    "for i, idx in enumerate(random_indices):\n",
    "    spectrogram = xx_pad[idx]\n",
    "    \n",
    "    ax = axes[i]\n",
    "    img = ax.imshow(spectrogram.T, aspect='auto', origin=\"lower\")\n",
    "    # ax.axvline(x=segment, color='red', linestyle='--')\n",
    "    # ax.axvline(x=segment[1], color='red', linestyle='--')\n",
    "    ax.set_title(f'Spectrogram')\n",
    "    ax.set_xlabel('Time')\n",
    "    ax.set_ylabel('Frequency')\n",
    "plt.tight_layout()\n",
    "plt.colorbar(img,ax=axes)\n",
    "plt.show()"
   ]
  },
  {
   "cell_type": "code",
   "execution_count": 19,
   "metadata": {},
   "outputs": [
    {
     "data": {
      "text/plain": [
       "'0126152020'"
      ]
     },
     "execution_count": 19,
     "metadata": {},
     "output_type": "execute_result"
    }
   ],
   "source": [
    "ts"
   ]
  },
  {
   "cell_type": "code",
   "execution_count": 28,
   "metadata": {},
   "outputs": [],
   "source": [
    "EPOCHS = 30\n",
    "BASE = 30"
   ]
  },
  {
   "cell_type": "code",
   "execution_count": 29,
   "metadata": {
    "colab": {
     "base_uri": "https://localhost:8080/"
    },
    "id": "y2n7doAD1uRi",
    "outputId": "e9c5bcb7-72db-4238-e83f-36e4dbe35748"
   },
   "outputs": [],
   "source": [
    "def train(): \n",
    "    for epoch in range(BASE, BASE + EPOCHS):\n",
    "        text_hist.print(\"Epoch {}\".format(epoch))\n",
    "\n",
    "        model.train()\n",
    "        train_loss = 0.\n",
    "        train_num = len(train_loader)    # train_loader\n",
    "        for idx, (x, x_lens) in enumerate(train_loader):\n",
    "            optimizer.zero_grad()\n",
    "            y = x \n",
    "            \n",
    "            x_mask = generate_mask_from_lengths_mat(x_lens, device=device)\n",
    "            \n",
    "            x = x.to(device)\n",
    "            y = y.to(device)\n",
    "\n",
    "            recon_x, attn_weight = model(x, x_lens, x_mask)\n",
    "\n",
    "            loss = model_loss.get_loss(recon_x, y, x_mask)\n",
    "\n",
    "            train_loss += loss.item()\n",
    "\n",
    "            loss.backward()\n",
    "            \n",
    "            # torch.nn.utils.clip_grad_norm_(model.parameters(), clip_value)\n",
    "            # 这个函数计算的是全局梯度范数\n",
    "            # torch.nn.utils.clip_grad_norm(parameters=model.parameters(), max_norm=5, norm_type=2)\n",
    "            torch.nn.utils.clip_grad_norm_(parameters=model.parameters(), max_norm=5, norm_type=2)\n",
    "            # parameters: an iterable of Variables that will have gradients normalized\n",
    "            # max_norm: max norm of the gradients(阈值设定)\n",
    "            # norm_type: type of the used p-norm. Can be'inf'for infinity norm(定义范数类型)\n",
    "\n",
    "            optimizer.step()\n",
    "\n",
    "            if idx % 100 == 0:\n",
    "                text_hist.print(f\"Training loss {loss: .3f} in Step {idx}\")\n",
    "\n",
    "        train_losses.append(train_loss / train_num)\n",
    "        text_hist.print(f\"※※※Training loss {train_loss / train_num: .3f}※※※\")\n",
    "\n",
    "        last_model_name = \"PT_{}_{}_full.pt\".format(ts, epoch)\n",
    "        torch.save(model.state_dict(), os.path.join(model_save_dir, last_model_name))\n",
    "        text_hist.print(\"Training timepoint saved\")\n",
    "\n",
    "        model.eval()\n",
    "        valid_loss = 0.\n",
    "        valid_num = len(valid_loader)\n",
    "        for idx, (x, x_lens) in enumerate(valid_loader):\n",
    "            y = x    # extract MFCC-only data\n",
    "            x_mask = generate_mask_from_lengths_mat(x_lens, device=device)\n",
    "            \n",
    "            x = x.to(device)\n",
    "            y = y.to(device)\n",
    "\n",
    "            recon_x, attn_weight = model(x, x_lens, x_mask)\n",
    "\n",
    "            loss = model_loss.get_loss(recon_x, y, x_mask)\n",
    "\n",
    "            valid_loss += loss.item()\n",
    "\n",
    "            if idx % 50 == 0:\n",
    "                text_hist.print(f\"Valid loss {loss: .3f} in Step {idx}\")\n",
    "\n",
    "        valid_losses.append(valid_loss / valid_num)\n",
    "\n",
    "        text_hist.print(f\"※※※Valid loss {valid_loss / valid_num: .3f}※※※\")"
   ]
  },
  {
   "cell_type": "code",
   "execution_count": 30,
   "metadata": {},
   "outputs": [
    {
     "name": "stdout",
     "output_type": "stream",
     "text": [
      "Epoch 30\n",
      "Training loss  0.658 in Step 0\n",
      "Training loss  0.681 in Step 100\n",
      "Training loss  0.651 in Step 200\n",
      "Training loss  0.678 in Step 300\n",
      "Training loss  0.648 in Step 400\n",
      "Training loss  0.672 in Step 500\n",
      "Training loss  0.664 in Step 600\n",
      "Training loss  0.651 in Step 700\n",
      "Training loss  0.645 in Step 800\n",
      "Training loss  0.646 in Step 900\n",
      "Training loss  0.669 in Step 1000\n",
      "Training loss  0.655 in Step 1100\n",
      "Training loss  0.645 in Step 1200\n",
      "Training loss  0.644 in Step 1300\n",
      "Training loss  0.669 in Step 1400\n",
      "Training loss  0.653 in Step 1500\n",
      "Training loss  0.652 in Step 1600\n",
      "Training loss  0.654 in Step 1700\n",
      "※※※Training loss  0.664※※※\n",
      "Training timepoint saved\n",
      "Valid loss  0.677 in Step 0\n",
      "Valid loss  0.650 in Step 50\n",
      "Valid loss  0.663 in Step 100\n",
      "Valid loss  0.682 in Step 150\n",
      "Valid loss  0.677 in Step 200\n",
      "Valid loss  0.656 in Step 250\n",
      "Valid loss  0.663 in Step 300\n",
      "Valid loss  0.663 in Step 350\n",
      "Valid loss  0.666 in Step 400\n",
      "※※※Valid loss  0.664※※※\n",
      "Epoch 31\n",
      "Training loss  0.665 in Step 0\n",
      "Training loss  0.664 in Step 100\n",
      "Training loss  0.670 in Step 200\n",
      "Training loss  0.670 in Step 300\n",
      "Training loss  0.676 in Step 400\n",
      "Training loss  0.675 in Step 500\n",
      "Training loss  0.675 in Step 600\n",
      "Training loss  0.649 in Step 700\n",
      "Training loss  0.671 in Step 800\n",
      "Training loss  0.650 in Step 900\n",
      "Training loss  0.663 in Step 1000\n",
      "Training loss  0.668 in Step 1100\n",
      "Training loss  0.663 in Step 1200\n",
      "Training loss  0.661 in Step 1300\n",
      "Training loss  0.649 in Step 1400\n",
      "Training loss  0.654 in Step 1500\n",
      "Training loss  0.674 in Step 1600\n",
      "Training loss  0.648 in Step 1700\n",
      "※※※Training loss  0.663※※※\n",
      "Training timepoint saved\n",
      "Valid loss  0.676 in Step 0\n",
      "Valid loss  0.649 in Step 50\n",
      "Valid loss  0.663 in Step 100\n",
      "Valid loss  0.681 in Step 150\n",
      "Valid loss  0.677 in Step 200\n",
      "Valid loss  0.655 in Step 250\n",
      "Valid loss  0.662 in Step 300\n",
      "Valid loss  0.662 in Step 350\n",
      "Valid loss  0.666 in Step 400\n",
      "※※※Valid loss  0.664※※※\n",
      "Epoch 32\n",
      "Training loss  0.652 in Step 0\n",
      "Training loss  0.692 in Step 100\n",
      "Training loss  0.655 in Step 200\n",
      "Training loss  0.660 in Step 300\n",
      "Training loss  0.666 in Step 400\n",
      "Training loss  0.668 in Step 500\n",
      "Training loss  0.654 in Step 600\n",
      "Training loss  0.660 in Step 700\n",
      "Training loss  0.667 in Step 800\n",
      "Training loss  0.670 in Step 900\n",
      "Training loss  0.659 in Step 1000\n",
      "Training loss  0.669 in Step 1100\n",
      "Training loss  0.655 in Step 1200\n",
      "Training loss  0.665 in Step 1300\n",
      "Training loss  0.647 in Step 1400\n",
      "Training loss  0.677 in Step 1500\n",
      "Training loss  0.671 in Step 1600\n",
      "Training loss  0.661 in Step 1700\n",
      "※※※Training loss  0.663※※※\n",
      "Training timepoint saved\n",
      "Valid loss  0.676 in Step 0\n",
      "Valid loss  0.649 in Step 50\n",
      "Valid loss  0.663 in Step 100\n",
      "Valid loss  0.681 in Step 150\n",
      "Valid loss  0.677 in Step 200\n",
      "Valid loss  0.655 in Step 250\n",
      "Valid loss  0.662 in Step 300\n",
      "Valid loss  0.662 in Step 350\n",
      "Valid loss  0.666 in Step 400\n",
      "※※※Valid loss  0.664※※※\n",
      "Epoch 33\n",
      "Training loss  0.669 in Step 0\n",
      "Training loss  0.635 in Step 100\n",
      "Training loss  0.670 in Step 200\n",
      "Training loss  0.658 in Step 300\n",
      "Training loss  0.666 in Step 400\n",
      "Training loss  0.663 in Step 500\n",
      "Training loss  0.679 in Step 600\n",
      "Training loss  0.668 in Step 700\n",
      "Training loss  0.651 in Step 800\n",
      "Training loss  0.660 in Step 900\n",
      "Training loss  0.662 in Step 1000\n",
      "Training loss  0.666 in Step 1100\n",
      "Training loss  0.665 in Step 1200\n",
      "Training loss  0.667 in Step 1300\n",
      "Training loss  0.658 in Step 1400\n",
      "Training loss  0.651 in Step 1500\n",
      "Training loss  0.674 in Step 1600\n",
      "Training loss  0.657 in Step 1700\n",
      "※※※Training loss  0.663※※※\n",
      "Training timepoint saved\n",
      "Valid loss  0.676 in Step 0\n",
      "Valid loss  0.649 in Step 50\n",
      "Valid loss  0.662 in Step 100\n",
      "Valid loss  0.681 in Step 150\n",
      "Valid loss  0.676 in Step 200\n",
      "Valid loss  0.655 in Step 250\n",
      "Valid loss  0.662 in Step 300\n",
      "Valid loss  0.662 in Step 350\n",
      "Valid loss  0.666 in Step 400\n",
      "※※※Valid loss  0.663※※※\n",
      "Epoch 34\n",
      "Training loss  0.676 in Step 0\n",
      "Training loss  0.652 in Step 100\n",
      "Training loss  0.661 in Step 200\n",
      "Training loss  0.649 in Step 300\n",
      "Training loss  0.659 in Step 400\n",
      "Training loss  0.653 in Step 500\n",
      "Training loss  0.661 in Step 600\n",
      "Training loss  0.650 in Step 700\n",
      "Training loss  0.657 in Step 800\n",
      "Training loss  0.671 in Step 900\n",
      "Training loss  0.646 in Step 1000\n",
      "Training loss  0.649 in Step 1100\n",
      "Training loss  0.664 in Step 1200\n",
      "Training loss  0.655 in Step 1300\n",
      "Training loss  0.664 in Step 1400\n",
      "Training loss  0.655 in Step 1500\n",
      "Training loss  0.674 in Step 1600\n",
      "Training loss  0.654 in Step 1700\n",
      "※※※Training loss  0.663※※※\n",
      "Training timepoint saved\n",
      "Valid loss  0.676 in Step 0\n",
      "Valid loss  0.649 in Step 50\n",
      "Valid loss  0.662 in Step 100\n",
      "Valid loss  0.681 in Step 150\n",
      "Valid loss  0.676 in Step 200\n",
      "Valid loss  0.655 in Step 250\n",
      "Valid loss  0.662 in Step 300\n",
      "Valid loss  0.662 in Step 350\n",
      "Valid loss  0.665 in Step 400\n",
      "※※※Valid loss  0.663※※※\n",
      "Epoch 35\n",
      "Training loss  0.671 in Step 0\n",
      "Training loss  0.662 in Step 100\n",
      "Training loss  0.667 in Step 200\n",
      "Training loss  0.665 in Step 300\n",
      "Training loss  0.659 in Step 400\n",
      "Training loss  0.664 in Step 500\n",
      "Training loss  0.670 in Step 600\n",
      "Training loss  0.676 in Step 700\n",
      "Training loss  0.673 in Step 800\n",
      "Training loss  0.660 in Step 900\n",
      "Training loss  0.662 in Step 1000\n",
      "Training loss  0.664 in Step 1100\n",
      "Training loss  0.659 in Step 1200\n",
      "Training loss  0.663 in Step 1300\n",
      "Training loss  0.671 in Step 1400\n",
      "Training loss  0.655 in Step 1500\n",
      "Training loss  0.678 in Step 1600\n",
      "Training loss  0.649 in Step 1700\n",
      "※※※Training loss  0.663※※※\n",
      "Training timepoint saved\n",
      "Valid loss  0.676 in Step 0\n",
      "Valid loss  0.649 in Step 50\n",
      "Valid loss  0.662 in Step 100\n",
      "Valid loss  0.680 in Step 150\n",
      "Valid loss  0.676 in Step 200\n",
      "Valid loss  0.655 in Step 250\n",
      "Valid loss  0.662 in Step 300\n",
      "Valid loss  0.662 in Step 350\n",
      "Valid loss  0.665 in Step 400\n",
      "※※※Valid loss  0.663※※※\n",
      "Epoch 36\n",
      "Training loss  0.662 in Step 0\n",
      "Training loss  0.666 in Step 100\n",
      "Training loss  0.673 in Step 200\n",
      "Training loss  0.661 in Step 300\n",
      "Training loss  0.661 in Step 400\n",
      "Training loss  0.666 in Step 500\n",
      "Training loss  0.660 in Step 600\n",
      "Training loss  0.676 in Step 700\n",
      "Training loss  0.671 in Step 800\n",
      "Training loss  0.668 in Step 900\n",
      "Training loss  0.653 in Step 1000\n",
      "Training loss  0.668 in Step 1100\n",
      "Training loss  0.673 in Step 1200\n",
      "Training loss  0.671 in Step 1300\n",
      "Training loss  0.655 in Step 1400\n",
      "Training loss  0.675 in Step 1500\n",
      "Training loss  0.648 in Step 1600\n",
      "Training loss  0.656 in Step 1700\n",
      "※※※Training loss  0.663※※※\n",
      "Training timepoint saved\n",
      "Valid loss  0.676 in Step 0\n",
      "Valid loss  0.649 in Step 50\n",
      "Valid loss  0.662 in Step 100\n",
      "Valid loss  0.681 in Step 150\n",
      "Valid loss  0.676 in Step 200\n",
      "Valid loss  0.655 in Step 250\n",
      "Valid loss  0.662 in Step 300\n",
      "Valid loss  0.662 in Step 350\n",
      "Valid loss  0.665 in Step 400\n",
      "※※※Valid loss  0.663※※※\n",
      "Epoch 37\n",
      "Training loss  0.655 in Step 0\n",
      "Training loss  0.678 in Step 100\n",
      "Training loss  0.667 in Step 200\n",
      "Training loss  0.664 in Step 300\n",
      "Training loss  0.672 in Step 400\n",
      "Training loss  0.669 in Step 500\n",
      "Training loss  0.664 in Step 600\n",
      "Training loss  0.665 in Step 700\n",
      "Training loss  0.661 in Step 800\n",
      "Training loss  0.652 in Step 900\n",
      "Training loss  0.663 in Step 1000\n",
      "Training loss  0.651 in Step 1100\n",
      "Training loss  0.668 in Step 1200\n",
      "Training loss  0.655 in Step 1300\n",
      "Training loss  0.666 in Step 1400\n",
      "Training loss  0.664 in Step 1500\n",
      "Training loss  0.674 in Step 1600\n",
      "Training loss  0.665 in Step 1700\n",
      "※※※Training loss  0.663※※※\n",
      "Training timepoint saved\n",
      "Valid loss  0.676 in Step 0\n",
      "Valid loss  0.649 in Step 50\n",
      "Valid loss  0.662 in Step 100\n",
      "Valid loss  0.681 in Step 150\n",
      "Valid loss  0.676 in Step 200\n",
      "Valid loss  0.655 in Step 250\n",
      "Valid loss  0.662 in Step 300\n",
      "Valid loss  0.661 in Step 350\n",
      "Valid loss  0.665 in Step 400\n",
      "※※※Valid loss  0.663※※※\n",
      "Epoch 38\n",
      "Training loss  0.666 in Step 0\n",
      "Training loss  0.657 in Step 100\n",
      "Training loss  0.662 in Step 200\n",
      "Training loss  0.673 in Step 300\n",
      "Training loss  0.669 in Step 400\n",
      "Training loss  0.660 in Step 500\n",
      "Training loss  0.670 in Step 600\n",
      "Training loss  0.695 in Step 700\n",
      "Training loss  0.661 in Step 800\n",
      "Training loss  0.654 in Step 900\n",
      "Training loss  0.667 in Step 1000\n",
      "Training loss  0.660 in Step 1100\n",
      "Training loss  0.655 in Step 1200\n",
      "Training loss  0.644 in Step 1300\n",
      "Training loss  0.653 in Step 1400\n",
      "Training loss  0.662 in Step 1500\n",
      "Training loss  0.652 in Step 1600\n",
      "Training loss  0.666 in Step 1700\n",
      "※※※Training loss  0.663※※※\n",
      "Training timepoint saved\n",
      "Valid loss  0.676 in Step 0\n",
      "Valid loss  0.649 in Step 50\n",
      "Valid loss  0.663 in Step 100\n",
      "Valid loss  0.681 in Step 150\n",
      "Valid loss  0.676 in Step 200\n",
      "Valid loss  0.655 in Step 250\n",
      "Valid loss  0.662 in Step 300\n",
      "Valid loss  0.662 in Step 350\n",
      "Valid loss  0.666 in Step 400\n",
      "※※※Valid loss  0.664※※※\n",
      "Epoch 39\n",
      "Training loss  0.650 in Step 0\n",
      "Training loss  0.659 in Step 100\n",
      "Training loss  0.669 in Step 200\n",
      "Training loss  0.653 in Step 300\n",
      "Training loss  0.650 in Step 400\n",
      "Training loss  0.667 in Step 500\n",
      "Training loss  0.671 in Step 600\n",
      "Training loss  0.655 in Step 700\n",
      "Training loss  0.680 in Step 800\n",
      "Training loss  0.669 in Step 900\n",
      "Training loss  0.652 in Step 1000\n",
      "Training loss  0.665 in Step 1100\n",
      "Training loss  0.663 in Step 1200\n",
      "Training loss  0.661 in Step 1300\n",
      "Training loss  0.654 in Step 1400\n",
      "Training loss  0.651 in Step 1500\n",
      "Training loss  0.670 in Step 1600\n",
      "Training loss  0.676 in Step 1700\n",
      "※※※Training loss  0.663※※※\n",
      "Training timepoint saved\n",
      "Valid loss  0.675 in Step 0\n",
      "Valid loss  0.648 in Step 50\n",
      "Valid loss  0.662 in Step 100\n",
      "Valid loss  0.680 in Step 150\n",
      "Valid loss  0.676 in Step 200\n",
      "Valid loss  0.654 in Step 250\n",
      "Valid loss  0.661 in Step 300\n",
      "Valid loss  0.661 in Step 350\n",
      "Valid loss  0.665 in Step 400\n",
      "※※※Valid loss  0.663※※※\n",
      "Epoch 40\n",
      "Training loss  0.651 in Step 0\n",
      "Training loss  0.652 in Step 100\n",
      "Training loss  0.654 in Step 200\n",
      "Training loss  0.665 in Step 300\n",
      "Training loss  0.644 in Step 400\n",
      "Training loss  0.669 in Step 500\n",
      "Training loss  0.664 in Step 600\n",
      "Training loss  0.659 in Step 700\n",
      "Training loss  0.659 in Step 800\n",
      "Training loss  0.651 in Step 900\n",
      "Training loss  0.668 in Step 1000\n",
      "Training loss  0.654 in Step 1100\n",
      "Training loss  0.644 in Step 1200\n",
      "Training loss  0.656 in Step 1300\n",
      "Training loss  0.666 in Step 1400\n",
      "Training loss  0.655 in Step 1500\n",
      "Training loss  0.654 in Step 1600\n",
      "Training loss  0.670 in Step 1700\n",
      "※※※Training loss  0.662※※※\n",
      "Training timepoint saved\n",
      "Valid loss  0.675 in Step 0\n",
      "Valid loss  0.648 in Step 50\n",
      "Valid loss  0.662 in Step 100\n",
      "Valid loss  0.680 in Step 150\n",
      "Valid loss  0.676 in Step 200\n",
      "Valid loss  0.654 in Step 250\n",
      "Valid loss  0.661 in Step 300\n",
      "Valid loss  0.661 in Step 350\n",
      "Valid loss  0.665 in Step 400\n",
      "※※※Valid loss  0.663※※※\n",
      "Epoch 41\n",
      "Training loss  0.660 in Step 0\n",
      "Training loss  0.662 in Step 100\n",
      "Training loss  0.643 in Step 200\n",
      "Training loss  0.662 in Step 300\n",
      "Training loss  0.663 in Step 400\n",
      "Training loss  0.668 in Step 500\n",
      "Training loss  0.655 in Step 600\n",
      "Training loss  0.661 in Step 700\n",
      "Training loss  0.667 in Step 800\n",
      "Training loss  0.650 in Step 900\n",
      "Training loss  0.652 in Step 1000\n",
      "Training loss  0.663 in Step 1100\n",
      "Training loss  0.665 in Step 1200\n",
      "Training loss  0.649 in Step 1300\n",
      "Training loss  0.669 in Step 1400\n",
      "Training loss  0.660 in Step 1500\n",
      "Training loss  0.648 in Step 1600\n",
      "Training loss  0.670 in Step 1700\n",
      "※※※Training loss  0.662※※※\n",
      "Training timepoint saved\n",
      "Valid loss  0.675 in Step 0\n",
      "Valid loss  0.648 in Step 50\n",
      "Valid loss  0.662 in Step 100\n",
      "Valid loss  0.680 in Step 150\n",
      "Valid loss  0.676 in Step 200\n",
      "Valid loss  0.654 in Step 250\n",
      "Valid loss  0.661 in Step 300\n",
      "Valid loss  0.661 in Step 350\n",
      "Valid loss  0.665 in Step 400\n",
      "※※※Valid loss  0.663※※※\n",
      "Epoch 42\n",
      "Training loss  0.678 in Step 0\n",
      "Training loss  0.667 in Step 100\n",
      "Training loss  0.659 in Step 200\n",
      "Training loss  0.640 in Step 300\n",
      "Training loss  0.672 in Step 400\n",
      "Training loss  0.654 in Step 500\n",
      "Training loss  0.661 in Step 600\n",
      "Training loss  0.659 in Step 700\n",
      "Training loss  0.663 in Step 800\n",
      "Training loss  0.651 in Step 900\n",
      "Training loss  0.663 in Step 1000\n",
      "Training loss  0.656 in Step 1100\n",
      "Training loss  0.663 in Step 1200\n",
      "Training loss  0.665 in Step 1300\n",
      "Training loss  0.655 in Step 1400\n",
      "Training loss  0.662 in Step 1500\n",
      "Training loss  0.672 in Step 1600\n",
      "Training loss  0.660 in Step 1700\n",
      "※※※Training loss  0.662※※※\n",
      "Training timepoint saved\n",
      "Valid loss  0.675 in Step 0\n",
      "Valid loss  0.648 in Step 50\n",
      "Valid loss  0.662 in Step 100\n",
      "Valid loss  0.680 in Step 150\n",
      "Valid loss  0.676 in Step 200\n",
      "Valid loss  0.654 in Step 250\n",
      "Valid loss  0.661 in Step 300\n",
      "Valid loss  0.661 in Step 350\n",
      "Valid loss  0.665 in Step 400\n",
      "※※※Valid loss  0.663※※※\n",
      "Epoch 43\n",
      "Training loss  0.662 in Step 0\n",
      "Training loss  0.660 in Step 100\n"
     ]
    },
    {
     "ename": "KeyboardInterrupt",
     "evalue": "",
     "output_type": "error",
     "traceback": [
      "\u001b[0;31m---------------------------------------------------------------------------\u001b[0m",
      "\u001b[0;31mKeyboardInterrupt\u001b[0m                         Traceback (most recent call last)",
      "Cell \u001b[0;32mIn[30], line 2\u001b[0m\n\u001b[1;32m      1\u001b[0m \u001b[38;5;28;01mif\u001b[39;00m \u001b[38;5;18m__name__\u001b[39m \u001b[38;5;241m==\u001b[39m \u001b[38;5;124m\"\u001b[39m\u001b[38;5;124m__main__\u001b[39m\u001b[38;5;124m\"\u001b[39m: \n\u001b[0;32m----> 2\u001b[0m     \u001b[43mtrain\u001b[49m\u001b[43m(\u001b[49m\u001b[43m)\u001b[49m\n",
      "Cell \u001b[0;32mIn[29], line 17\u001b[0m, in \u001b[0;36mtrain\u001b[0;34m()\u001b[0m\n\u001b[1;32m     14\u001b[0m x \u001b[38;5;241m=\u001b[39m x\u001b[38;5;241m.\u001b[39mto(device)\n\u001b[1;32m     15\u001b[0m y \u001b[38;5;241m=\u001b[39m y\u001b[38;5;241m.\u001b[39mto(device)\n\u001b[0;32m---> 17\u001b[0m recon_x, attn_weight \u001b[38;5;241m=\u001b[39m \u001b[43mmodel\u001b[49m\u001b[43m(\u001b[49m\u001b[43mx\u001b[49m\u001b[43m,\u001b[49m\u001b[43m \u001b[49m\u001b[43mx_lens\u001b[49m\u001b[43m,\u001b[49m\u001b[43m \u001b[49m\u001b[43mx_mask\u001b[49m\u001b[43m)\u001b[49m\n\u001b[1;32m     19\u001b[0m loss \u001b[38;5;241m=\u001b[39m model_loss\u001b[38;5;241m.\u001b[39mget_loss(recon_x, y, x_mask)\n\u001b[1;32m     21\u001b[0m train_loss \u001b[38;5;241m+\u001b[39m\u001b[38;5;241m=\u001b[39m loss\u001b[38;5;241m.\u001b[39mitem()\n",
      "File \u001b[0;32m~/anaconda3/envs/wavln/lib/python3.11/site-packages/torch/nn/modules/module.py:1501\u001b[0m, in \u001b[0;36mModule._call_impl\u001b[0;34m(self, *args, **kwargs)\u001b[0m\n\u001b[1;32m   1496\u001b[0m \u001b[38;5;66;03m# If we don't have any hooks, we want to skip the rest of the logic in\u001b[39;00m\n\u001b[1;32m   1497\u001b[0m \u001b[38;5;66;03m# this function, and just call forward.\u001b[39;00m\n\u001b[1;32m   1498\u001b[0m \u001b[38;5;28;01mif\u001b[39;00m \u001b[38;5;129;01mnot\u001b[39;00m (\u001b[38;5;28mself\u001b[39m\u001b[38;5;241m.\u001b[39m_backward_hooks \u001b[38;5;129;01mor\u001b[39;00m \u001b[38;5;28mself\u001b[39m\u001b[38;5;241m.\u001b[39m_backward_pre_hooks \u001b[38;5;129;01mor\u001b[39;00m \u001b[38;5;28mself\u001b[39m\u001b[38;5;241m.\u001b[39m_forward_hooks \u001b[38;5;129;01mor\u001b[39;00m \u001b[38;5;28mself\u001b[39m\u001b[38;5;241m.\u001b[39m_forward_pre_hooks\n\u001b[1;32m   1499\u001b[0m         \u001b[38;5;129;01mor\u001b[39;00m _global_backward_pre_hooks \u001b[38;5;129;01mor\u001b[39;00m _global_backward_hooks\n\u001b[1;32m   1500\u001b[0m         \u001b[38;5;129;01mor\u001b[39;00m _global_forward_hooks \u001b[38;5;129;01mor\u001b[39;00m _global_forward_pre_hooks):\n\u001b[0;32m-> 1501\u001b[0m     \u001b[38;5;28;01mreturn\u001b[39;00m \u001b[43mforward_call\u001b[49m\u001b[43m(\u001b[49m\u001b[38;5;241;43m*\u001b[39;49m\u001b[43margs\u001b[49m\u001b[43m,\u001b[49m\u001b[43m \u001b[49m\u001b[38;5;241;43m*\u001b[39;49m\u001b[38;5;241;43m*\u001b[39;49m\u001b[43mkwargs\u001b[49m\u001b[43m)\u001b[49m\n\u001b[1;32m   1502\u001b[0m \u001b[38;5;66;03m# Do not call functions when jit is used\u001b[39;00m\n\u001b[1;32m   1503\u001b[0m full_backward_hooks, non_full_backward_hooks \u001b[38;5;241m=\u001b[39m [], []\n",
      "File \u001b[0;32m~/Documents/wavln/scripts/model.py:780\u001b[0m, in \u001b[0;36mSimplerPhxLearnerInit.forward\u001b[0;34m(self, inputs, input_lens, in_mask)\u001b[0m\n\u001b[1;32m    777\u001b[0m dec_hid, init_in \u001b[38;5;241m=\u001b[39m \u001b[38;5;28mself\u001b[39m\u001b[38;5;241m.\u001b[39mdecoder\u001b[38;5;241m.\u001b[39minits(batch_size\u001b[38;5;241m=\u001b[39mbatch_size, device\u001b[38;5;241m=\u001b[39m\u001b[38;5;28mself\u001b[39m\u001b[38;5;241m.\u001b[39mdevice)\n\u001b[1;32m    779\u001b[0m enc_out \u001b[38;5;241m=\u001b[39m \u001b[38;5;28mself\u001b[39m\u001b[38;5;241m.\u001b[39mencoder(inputs, input_lens, in_mask)\n\u001b[0;32m--> 780\u001b[0m dec_out, attn_w \u001b[38;5;241m=\u001b[39m \u001b[38;5;28;43mself\u001b[39;49m\u001b[38;5;241;43m.\u001b[39;49m\u001b[43mdecoder\u001b[49m\u001b[43m(\u001b[49m\u001b[43menc_out\u001b[49m\u001b[43m,\u001b[49m\u001b[43m \u001b[49m\u001b[43min_mask\u001b[49m\u001b[43m,\u001b[49m\u001b[43m \u001b[49m\u001b[43minit_in\u001b[49m\u001b[43m,\u001b[49m\u001b[43m \u001b[49m\u001b[43mdec_hid\u001b[49m\u001b[43m)\u001b[49m\n\u001b[1;32m    781\u001b[0m \u001b[38;5;28;01mreturn\u001b[39;00m dec_out, attn_w\n",
      "File \u001b[0;32m~/anaconda3/envs/wavln/lib/python3.11/site-packages/torch/nn/modules/module.py:1501\u001b[0m, in \u001b[0;36mModule._call_impl\u001b[0;34m(self, *args, **kwargs)\u001b[0m\n\u001b[1;32m   1496\u001b[0m \u001b[38;5;66;03m# If we don't have any hooks, we want to skip the rest of the logic in\u001b[39;00m\n\u001b[1;32m   1497\u001b[0m \u001b[38;5;66;03m# this function, and just call forward.\u001b[39;00m\n\u001b[1;32m   1498\u001b[0m \u001b[38;5;28;01mif\u001b[39;00m \u001b[38;5;129;01mnot\u001b[39;00m (\u001b[38;5;28mself\u001b[39m\u001b[38;5;241m.\u001b[39m_backward_hooks \u001b[38;5;129;01mor\u001b[39;00m \u001b[38;5;28mself\u001b[39m\u001b[38;5;241m.\u001b[39m_backward_pre_hooks \u001b[38;5;129;01mor\u001b[39;00m \u001b[38;5;28mself\u001b[39m\u001b[38;5;241m.\u001b[39m_forward_hooks \u001b[38;5;129;01mor\u001b[39;00m \u001b[38;5;28mself\u001b[39m\u001b[38;5;241m.\u001b[39m_forward_pre_hooks\n\u001b[1;32m   1499\u001b[0m         \u001b[38;5;129;01mor\u001b[39;00m _global_backward_pre_hooks \u001b[38;5;129;01mor\u001b[39;00m _global_backward_hooks\n\u001b[1;32m   1500\u001b[0m         \u001b[38;5;129;01mor\u001b[39;00m _global_forward_hooks \u001b[38;5;129;01mor\u001b[39;00m _global_forward_pre_hooks):\n\u001b[0;32m-> 1501\u001b[0m     \u001b[38;5;28;01mreturn\u001b[39;00m \u001b[43mforward_call\u001b[49m\u001b[43m(\u001b[49m\u001b[38;5;241;43m*\u001b[39;49m\u001b[43margs\u001b[49m\u001b[43m,\u001b[49m\u001b[43m \u001b[49m\u001b[38;5;241;43m*\u001b[39;49m\u001b[38;5;241;43m*\u001b[39;49m\u001b[43mkwargs\u001b[49m\u001b[43m)\u001b[49m\n\u001b[1;32m   1502\u001b[0m \u001b[38;5;66;03m# Do not call functions when jit is used\u001b[39;00m\n\u001b[1;32m   1503\u001b[0m full_backward_hooks, non_full_backward_hooks \u001b[38;5;241m=\u001b[39m [], []\n",
      "File \u001b[0;32m~/Documents/wavln/scripts/model.py:396\u001b[0m, in \u001b[0;36mInitRALDecoder.forward\u001b[0;34m(self, hid_r, in_mask, init_in, hidden)\u001b[0m\n\u001b[1;32m    394\u001b[0m dec_x, hidden \u001b[38;5;241m=\u001b[39m \u001b[38;5;28mself\u001b[39m\u001b[38;5;241m.\u001b[39mrnn(dec_in_token, hidden)\n\u001b[1;32m    395\u001b[0m \u001b[38;5;66;03m# dec_x = self.lin_2(dec_x)\u001b[39;00m\n\u001b[0;32m--> 396\u001b[0m dec_x, attention_weight \u001b[38;5;241m=\u001b[39m \u001b[38;5;28;43mself\u001b[39;49m\u001b[38;5;241;43m.\u001b[39;49m\u001b[43mattention\u001b[49m\u001b[43m(\u001b[49m\u001b[43mdec_x\u001b[49m\u001b[43m,\u001b[49m\u001b[43m \u001b[49m\u001b[43mhid_r\u001b[49m\u001b[43m,\u001b[49m\u001b[43m \u001b[49m\u001b[43mhid_r\u001b[49m\u001b[43m,\u001b[49m\u001b[43m \u001b[49m\u001b[43min_mask\u001b[49m\u001b[38;5;241;43m.\u001b[39;49m\u001b[43munsqueeze\u001b[49m\u001b[43m(\u001b[49m\u001b[38;5;241;43m1\u001b[39;49m\u001b[43m)\u001b[49m\u001b[43m)\u001b[49m    \u001b[38;5;66;03m# unsqueeze mask here for broadcast\u001b[39;00m\n\u001b[1;32m    397\u001b[0m dec_x \u001b[38;5;241m=\u001b[39m \u001b[38;5;28mself\u001b[39m\u001b[38;5;241m.\u001b[39mlin_3(dec_x)\n\u001b[1;32m    398\u001b[0m \u001b[38;5;66;03m# dec_x = self.act(dec_x)\u001b[39;00m\n",
      "File \u001b[0;32m~/anaconda3/envs/wavln/lib/python3.11/site-packages/torch/nn/modules/module.py:1501\u001b[0m, in \u001b[0;36mModule._call_impl\u001b[0;34m(self, *args, **kwargs)\u001b[0m\n\u001b[1;32m   1496\u001b[0m \u001b[38;5;66;03m# If we don't have any hooks, we want to skip the rest of the logic in\u001b[39;00m\n\u001b[1;32m   1497\u001b[0m \u001b[38;5;66;03m# this function, and just call forward.\u001b[39;00m\n\u001b[1;32m   1498\u001b[0m \u001b[38;5;28;01mif\u001b[39;00m \u001b[38;5;129;01mnot\u001b[39;00m (\u001b[38;5;28mself\u001b[39m\u001b[38;5;241m.\u001b[39m_backward_hooks \u001b[38;5;129;01mor\u001b[39;00m \u001b[38;5;28mself\u001b[39m\u001b[38;5;241m.\u001b[39m_backward_pre_hooks \u001b[38;5;129;01mor\u001b[39;00m \u001b[38;5;28mself\u001b[39m\u001b[38;5;241m.\u001b[39m_forward_hooks \u001b[38;5;129;01mor\u001b[39;00m \u001b[38;5;28mself\u001b[39m\u001b[38;5;241m.\u001b[39m_forward_pre_hooks\n\u001b[1;32m   1499\u001b[0m         \u001b[38;5;129;01mor\u001b[39;00m _global_backward_pre_hooks \u001b[38;5;129;01mor\u001b[39;00m _global_backward_hooks\n\u001b[1;32m   1500\u001b[0m         \u001b[38;5;129;01mor\u001b[39;00m _global_forward_hooks \u001b[38;5;129;01mor\u001b[39;00m _global_forward_pre_hooks):\n\u001b[0;32m-> 1501\u001b[0m     \u001b[38;5;28;01mreturn\u001b[39;00m \u001b[43mforward_call\u001b[49m\u001b[43m(\u001b[49m\u001b[38;5;241;43m*\u001b[39;49m\u001b[43margs\u001b[49m\u001b[43m,\u001b[49m\u001b[43m \u001b[49m\u001b[38;5;241;43m*\u001b[39;49m\u001b[38;5;241;43m*\u001b[39;49m\u001b[43mkwargs\u001b[49m\u001b[43m)\u001b[49m\n\u001b[1;32m   1502\u001b[0m \u001b[38;5;66;03m# Do not call functions when jit is used\u001b[39;00m\n\u001b[1;32m   1503\u001b[0m full_backward_hooks, non_full_backward_hooks \u001b[38;5;241m=\u001b[39m [], []\n",
      "File \u001b[0;32m~/Documents/wavln/scripts/attention.py:34\u001b[0m, in \u001b[0;36mScaledDotProductAttention.forward\u001b[0;34m(self, q, k, v, mask)\u001b[0m\n\u001b[1;32m     32\u001b[0m \u001b[38;5;66;03m# Step 3: Apply the mask (if any)\u001b[39;00m\n\u001b[1;32m     33\u001b[0m \u001b[38;5;28;01mif\u001b[39;00m mask \u001b[38;5;129;01mis\u001b[39;00m \u001b[38;5;129;01mnot\u001b[39;00m \u001b[38;5;28;01mNone\u001b[39;00m:\n\u001b[0;32m---> 34\u001b[0m     attn_scores \u001b[38;5;241m=\u001b[39m attn_scores\u001b[38;5;241m.\u001b[39mmasked_fill(mask \u001b[38;5;241m==\u001b[39m \u001b[38;5;241m0\u001b[39m, \u001b[38;5;28mfloat\u001b[39m(\u001b[38;5;124m\"\u001b[39m\u001b[38;5;124m-inf\u001b[39m\u001b[38;5;124m\"\u001b[39m))\n\u001b[1;32m     36\u001b[0m \u001b[38;5;66;03m# Step 4: Compute the softmax of the attention scores\u001b[39;00m\n\u001b[1;32m     37\u001b[0m attn_weights \u001b[38;5;241m=\u001b[39m F\u001b[38;5;241m.\u001b[39msoftmax(attn_scores, dim\u001b[38;5;241m=\u001b[39m\u001b[38;5;241m-\u001b[39m\u001b[38;5;241m1\u001b[39m)  \u001b[38;5;66;03m# (batch_size, num_queries, num_keys)\u001b[39;00m\n",
      "\u001b[0;31mKeyboardInterrupt\u001b[0m: "
     ]
    }
   ],
   "source": [
    "if __name__ == \"__main__\": \n",
    "    train()"
   ]
  },
  {
   "cell_type": "code",
   "execution_count": 31,
   "metadata": {
    "id": "KSTTwi31xAvh"
   },
   "outputs": [],
   "source": [
    "### Save\n",
    "train_losses.save()\n",
    "\n",
    "valid_losses.save()\n",
    "\n",
    "text_hist.save()"
   ]
  },
  {
   "cell_type": "code",
   "execution_count": 32,
   "metadata": {
    "colab": {
     "base_uri": "https://localhost:8080/",
     "height": 281
    },
    "id": "3yaMyIzH12RD",
    "outputId": "1426c24a-c60c-48c2-8690-f3a07bb9ba7b"
   },
   "outputs": [
    {
     "data": {
      "text/plain": [
       "<matplotlib.legend.Legend at 0x7f49d7f85010>"
      ]
     },
     "execution_count": 32,
     "metadata": {},
     "output_type": "execute_result"
    },
    {
     "data": {
      "image/png": "[encoded data removed]",
      "text/plain": [
       "<Figure size 640x480 with 1 Axes>"
      ]
     },
     "metadata": {},
     "output_type": "display_data"
    }
   ],
   "source": [
    "plt.plot(train_losses.get(), label='Train')\n",
    "plt.plot(valid_losses.get(), label='Valid')\n",
    "plt.title(\"Learning Curve Loss\")\n",
    "plt.legend()"
   ]
  },
  {
   "cell_type": "markdown",
   "metadata": {},
   "source": [
    "## Conclusion\n",
    "This model should converge to loss around 0.49x. "
   ]
  },
  {
   "cell_type": "markdown",
   "metadata": {},
   "source": []
  }
 ],
 "metadata": {
  "accelerator": "GPU",
  "colab": {
   "provenance": []
  },
  "gpuClass": "standard",
  "kernelspec": {
   "display_name": "Python 3 (ipykernel)",
   "language": "python",
   "name": "python3"
  },
  "language_info": {
   "codemirror_mode": {
    "name": "ipython",
    "version": 3
   },
   "file_extension": ".py",
   "mimetype": "text/x-python",
   "name": "python",
   "nbconvert_exporter": "python",
   "pygments_lexer": "ipython3",
   "version": "3.11.3"
  }
 },
 "nbformat": 4,
 "nbformat_minor": 4
}
