{
 "cells": [
  {
   "cell_type": "markdown",
   "metadata": {},
   "source": [
    "# Post-hoc statistics about generated results"
   ]
  },
  {
   "cell_type": "markdown",
   "metadata": {},
   "source": [
    "## Imports"
   ]
  },
  {
   "cell_type": "code",
   "execution_count": 1,
   "metadata": {},
   "outputs": [],
   "source": [
    "import os\n",
    "import matplotlib.pyplot as plt\n",
    "import pandas as pd\n",
    "import plotly.express as px\n",
    "\n",
    "\n",
    "from paths import bsc_path, word_plot_res_path, word_plot_info_path, word_cluster_dbscan_plot_path, word_cluster_kmeans_plot_path\n",
    "from reshandler import EncoderResHandler, ClusterHandler\n",
    "from measurements import *\n",
    "from my_utils import remove_starting_space"
   ]
  },
  {
   "cell_type": "markdown",
   "metadata": {},
   "source": [
    "## 1. Direction Consistency"
   ]
  },
  {
   "cell_type": "code",
   "execution_count": 2,
   "metadata": {},
   "outputs": [],
   "source": [
    "vars = []\n",
    "reshandler = EncoderResHandler(data_dir=word_plot_res_path, info_dir=word_plot_info_path)\n",
    "\n",
    "for datapath in os.listdir(word_plot_res_path): \n",
    "    reshandler.file_prefix = datapath.split(\".\")[0]\n",
    "    reshandler.read()\n",
    "    res = reshandler.data\n",
    "\n",
    "    angles, var = DirectionalConsistency.analyze(res)\n",
    "    vars.append(var)"
   ]
  },
  {
   "cell_type": "code",
   "execution_count": 3,
   "metadata": {},
   "outputs": [
    {
     "data": {
      "text/plain": [
       "0.573041228383216"
      ]
     },
     "execution_count": 3,
     "metadata": {},
     "output_type": "execute_result"
    }
   ],
   "source": [
    "np.mean(vars)"
   ]
  },
  {
   "cell_type": "code",
   "execution_count": 4,
   "metadata": {},
   "outputs": [
    {
     "data": {
      "image/png": "[encoded data removed]",
      "text/plain": [
       "<Figure size 640x480 with 1 Axes>"
      ]
     },
     "metadata": {},
     "output_type": "display_data"
    }
   ],
   "source": [
    "# Create a histogram\n",
    "plt.hist(vars, bins=10, color='blue', edgecolor='black')\n",
    "\n",
    "# Customize the plot (optional)\n",
    "plt.title('Histogram')\n",
    "plt.xlabel('Values')\n",
    "plt.ylabel('Frequency')\n",
    "\n",
    "# Display the histogram\n",
    "plt.show()\n"
   ]
  },
  {
   "cell_type": "markdown",
   "metadata": {},
   "source": [
    "## 2. Clustering"
   ]
  },
  {
   "cell_type": "markdown",
   "metadata": {},
   "source": [
    "### DBSCAN\n",
    "- Note that this part is non-fix number clustering, meaning that the total number of clusters is not fixed for the dataset. However, we could see that, when we find a configuration that produces in general comparable number of clusters as the number of segments in reality, the degree of matching is quite high, i.e. for most words the clustering algorithm has found out the correct number of clusters (therefore diff = 0), or if mistaken, the algorithm has one more cluster, which is basically matching the ground truth that we have.  "
   ]
  },
  {
   "cell_type": "markdown",
   "metadata": {},
   "source": [
    "#### Looking for a good eps & min_samples using massive trials"
   ]
  },
  {
   "cell_type": "code",
   "execution_count": 5,
   "metadata": {},
   "outputs": [
    {
     "data": {
      "text/plain": [
       "4.9695"
      ]
     },
     "execution_count": 5,
     "metadata": {},
     "output_type": "execute_result"
    }
   ],
   "source": [
    "num_clusters_list = []\n",
    "\n",
    "for i in range(2000): \n",
    "    # Load your data (replace this with your own data)\n",
    "    data = np.random.rand(20, 3)  # Example random data with shape (frame_num, 3)\n",
    "\n",
    "    _, num_clusters = Clusterer.dbscan(data=data, r=0.36, m=1)\n",
    "\n",
    "    num_clusters_list.append(num_clusters)\n",
    "    \n",
    "np.mean(num_clusters_list)"
   ]
  },
  {
   "cell_type": "markdown",
   "metadata": {},
   "source": [
    "#### Looping over the data"
   ]
  },
  {
   "cell_type": "code",
   "execution_count": 6,
   "metadata": {},
   "outputs": [],
   "source": [
    "num_segments_list = []\n",
    "num_clusters_list = []\n",
    "\n",
    "file_prefixes = []\n",
    "infos = []\n",
    "labelss = []\n",
    "ress = []"
   ]
  },
  {
   "cell_type": "code",
   "execution_count": 7,
   "metadata": {},
   "outputs": [],
   "source": [
    "reshandler = EncoderResHandler(data_dir=word_plot_res_path, info_dir=word_plot_info_path)\n",
    "\n",
    "for datapath in os.listdir(word_plot_res_path): \n",
    "    reshandler.file_prefix = datapath.split(\".\")[0]\n",
    "    reshandler.read()\n",
    "\n",
    "    res = reshandler.data\n",
    "    info = reshandler.info\n",
    "\n",
    "    labels, num_clusters = Clusterer.dbscan(res, r=0.3, m=1)\n",
    "\n",
    "    num_segments_list.append(len(remove_starting_space(info[1]).split(\" \")))\n",
    "    num_clusters_list.append(num_clusters)\n",
    "\n",
    "    file_prefixes.append(reshandler.file_prefix)\n",
    "    infos.append(info)\n",
    "    ress.append(res)\n",
    "    labelss.append(labels)"
   ]
  },
  {
   "cell_type": "code",
   "execution_count": 8,
   "metadata": {},
   "outputs": [
    {
     "data": {
      "text/plain": [
       "(2.954929577464789, 2.887323943661972)"
      ]
     },
     "execution_count": 8,
     "metadata": {},
     "output_type": "execute_result"
    }
   ],
   "source": [
    "np.mean(num_segments_list), np.mean(num_clusters_list)"
   ]
  },
  {
   "cell_type": "code",
   "execution_count": 9,
   "metadata": {},
   "outputs": [
    {
     "data": {
      "text/html": [
       "<div>\n",
       "<style scoped>\n",
       "    .dataframe tbody tr th:only-of-type {\n",
       "        vertical-align: middle;\n",
       "    }\n",
       "\n",
       "    .dataframe tbody tr th {\n",
       "        vertical-align: top;\n",
       "    }\n",
       "\n",
       "    .dataframe thead th {\n",
       "        text-align: right;\n",
       "    }\n",
       "</style>\n",
       "<table border=\"1\" class=\"dataframe\">\n",
       "  <thead>\n",
       "    <tr style=\"text-align: right;\">\n",
       "      <th></th>\n",
       "      <th>Segments</th>\n",
       "      <th>Clusters</th>\n",
       "      <th>Difference</th>\n",
       "    </tr>\n",
       "  </thead>\n",
       "  <tbody>\n",
       "    <tr>\n",
       "      <th>0</th>\n",
       "      <td>2</td>\n",
       "      <td>3</td>\n",
       "      <td>-1</td>\n",
       "    </tr>\n",
       "    <tr>\n",
       "      <th>1</th>\n",
       "      <td>7</td>\n",
       "      <td>1</td>\n",
       "      <td>6</td>\n",
       "    </tr>\n",
       "    <tr>\n",
       "      <th>2</th>\n",
       "      <td>1</td>\n",
       "      <td>2</td>\n",
       "      <td>-1</td>\n",
       "    </tr>\n",
       "    <tr>\n",
       "      <th>3</th>\n",
       "      <td>3</td>\n",
       "      <td>4</td>\n",
       "      <td>-1</td>\n",
       "    </tr>\n",
       "    <tr>\n",
       "      <th>4</th>\n",
       "      <td>4</td>\n",
       "      <td>2</td>\n",
       "      <td>2</td>\n",
       "    </tr>\n",
       "    <tr>\n",
       "      <th>...</th>\n",
       "      <td>...</td>\n",
       "      <td>...</td>\n",
       "      <td>...</td>\n",
       "    </tr>\n",
       "    <tr>\n",
       "      <th>2835</th>\n",
       "      <td>4</td>\n",
       "      <td>2</td>\n",
       "      <td>2</td>\n",
       "    </tr>\n",
       "    <tr>\n",
       "      <th>2836</th>\n",
       "      <td>3</td>\n",
       "      <td>2</td>\n",
       "      <td>1</td>\n",
       "    </tr>\n",
       "    <tr>\n",
       "      <th>2837</th>\n",
       "      <td>2</td>\n",
       "      <td>3</td>\n",
       "      <td>-1</td>\n",
       "    </tr>\n",
       "    <tr>\n",
       "      <th>2838</th>\n",
       "      <td>1</td>\n",
       "      <td>4</td>\n",
       "      <td>-3</td>\n",
       "    </tr>\n",
       "    <tr>\n",
       "      <th>2839</th>\n",
       "      <td>1</td>\n",
       "      <td>4</td>\n",
       "      <td>-3</td>\n",
       "    </tr>\n",
       "  </tbody>\n",
       "</table>\n",
       "<p>2840 rows × 3 columns</p>\n",
       "</div>"
      ],
      "text/plain": [
       "      Segments  Clusters  Difference\n",
       "0            2         3          -1\n",
       "1            7         1           6\n",
       "2            1         2          -1\n",
       "3            3         4          -1\n",
       "4            4         2           2\n",
       "...        ...       ...         ...\n",
       "2835         4         2           2\n",
       "2836         3         2           1\n",
       "2837         2         3          -1\n",
       "2838         1         4          -3\n",
       "2839         1         4          -3\n",
       "\n",
       "[2840 rows x 3 columns]"
      ]
     },
     "execution_count": 9,
     "metadata": {},
     "output_type": "execute_result"
    }
   ],
   "source": [
    "# Create a DataFrame\n",
    "df = pd.DataFrame({'Segments': num_segments_list, 'Clusters': num_clusters_list})\n",
    "\n",
    "# Add a new column for the difference\n",
    "df['Difference'] = df['Segments'] - df['Clusters']\n",
    "\n",
    "df"
   ]
  },
  {
   "cell_type": "code",
   "execution_count": 10,
   "metadata": {},
   "outputs": [
    {
     "data": {
      "image/png": "[encoded data removed]",
      "text/plain": [
       "<Figure size 640x480 with 1 Axes>"
      ]
     },
     "metadata": {},
     "output_type": "display_data"
    }
   ],
   "source": [
    "# Create a histogram\n",
    "plt.hist(df['Difference'].tolist(), bins=10, color='blue', edgecolor='black')\n",
    "\n",
    "# Customize the plot (optional)\n",
    "plt.title('Histogram')\n",
    "plt.xlabel('Values')\n",
    "plt.ylabel('Frequency')\n",
    "\n",
    "# Display the histogram\n",
    "plt.show()"
   ]
  },
  {
   "cell_type": "markdown",
   "metadata": {},
   "source": [
    "#### Save results"
   ]
  },
  {
   "cell_type": "code",
   "execution_count": 11,
   "metadata": {},
   "outputs": [],
   "source": [
    "clhandler = ClusterHandler(put_path=os.path.join(bsc_path, \"dbscan.intgrt\"), \n",
    "                           data=(file_prefixes, infos, ress, labelss))\n",
    "# file prefix, info, ress, preds\n",
    "clhandler.save()"
   ]
  },
  {
   "cell_type": "markdown",
   "metadata": {},
   "source": [
    "#### Plot the Clusters"
   ]
  },
  {
   "cell_type": "code",
   "execution_count": 12,
   "metadata": {},
   "outputs": [],
   "source": [
    "def oneOut2ProgFrame(oneOut): \n",
    "    # oneOut is of tensor of shape (L, D)\n",
    "    cols = [\"dim_0\", \"dim_1\", \"dim_2\", \"cluster\"]\n",
    "    df = pd.DataFrame(oneOut, columns=cols)\n",
    "    df[\"timestep\"] = df.index\n",
    "    df = df[[\"timestep\"] + cols]\n",
    "    return df\n",
    "def minmax(arr, a=-1, b=1): \n",
    "    min = arr.min()\n",
    "    max = arr.max()\n",
    "    return (b - a) * ((arr - min) / (max - min)) + a\n",
    "def operate_on(arr): \n",
    "    # return minmax(arr)\n",
    "    return arr\n",
    "def framify(these_hids): \n",
    "    # these are token categories to be included\n",
    "    # these hids are the corresponding hids\n",
    "    # these numtags are the corresponding tags, named using indices in these\n",
    "    # these_hids = st.zscore(these_hids, axis=0)\n",
    "    df = pd.DataFrame(data=these_hids)\n",
    "    # df = df.rename(columns={0: \"dim_0\", 1: \"dim_1\", 2: \"dim_2\"})\n",
    "    df['dim_0_norm'] = operate_on(df['dim_0'])\n",
    "    df['dim_1_norm'] = operate_on(df['dim_1'])\n",
    "    df['dim_2_norm'] = operate_on(df['dim_2'])\n",
    "    return df\n",
    "\n",
    "def plot3dtrajectory(X): \n",
    "    config = {\n",
    "    'toImageButtonOptions': {\n",
    "        'format': 'png', # one of png, svg, jpeg, webp\n",
    "        'filename': 'custom_image',\n",
    "        'height': 1280,\n",
    "        'width': 1280,\n",
    "        'scale': 1 # Multiply title/legend/axis/canvas sizes by this factor\n",
    "    }\n",
    "    }\n",
    "\n",
    "    fig = px.line_3d(framify(X), x=\"dim_0_norm\", y=\"dim_1_norm\", z=\"dim_2_norm\", \n",
    "                     hover_data=[\"timestep\"], color=\"cluster\", markers=True)\n",
    "    fig.update_traces(marker=dict(size=2, color=\"red\"))\n",
    "    fig.update_layout(\n",
    "        scene = dict(\n",
    "            xaxis = dict(nticks=8, range=[-1,1],),\n",
    "                        yaxis = dict(nticks=8, range=[-1,1],),\n",
    "                        zaxis = dict(nticks=8, range=[-1,1],),),)\n",
    "    # fig.update_layout(legend= {'itemsizing': 'constant'})\n",
    "    # fig.update_layout(legend_title_text='Phone')\n",
    "    fig.update_layout(\n",
    "        legend=dict(\n",
    "            x=0,\n",
    "            y=1,\n",
    "            title_font_family=\"Times New Roman\",\n",
    "            font=dict(\n",
    "                family=\"Times New Roman\",\n",
    "                size=36,\n",
    "                color=\"black\"\n",
    "            ),\n",
    "            # bgcolor=\"LightSteelBlue\",\n",
    "            bordercolor=\"Black\",\n",
    "            borderwidth=1\n",
    "        )\n",
    "    )\n",
    "    fig.update_layout(\n",
    "        margin=dict(l=0, r=0, t=0, b=0),\n",
    "    )\n",
    "    camera = dict(\n",
    "        eye=dict(x=0., y=0., z=2.5)\n",
    "    )\n",
    "    fig.update_layout(scene_camera=camera)\n",
    "    html_plot = fig.to_html(full_html=False, config=config)\n",
    "    # fig.show(config=config)\n",
    "    return html_plot\n",
    "\n",
    "def save_html(htmlplot, plot_path, file_name, info_token, info_produce_segs): \n",
    "    save_html_path = os.path.join(plot_path, \"{}.html\".format(file_name))\n",
    "    with open(save_html_path, \"w\") as f: \n",
    "        f.write('<meta charset=\"UTF-8\">')\n",
    "        f.write(\"<h3>Token: {}</h3>\".format(info_token))\n",
    "        f.write(\"<h3>Produced Segments: {}</h3>\".format(info_produce_segs))\n",
    "        f.write(\"<hr>\")\n",
    "        f.write(htmlplot)"
   ]
  },
  {
   "cell_type": "code",
   "execution_count": 13,
   "metadata": {},
   "outputs": [],
   "source": [
    "for idx in range(len(file_prefixes)): \n",
    "    file_name = file_prefixes[idx]\n",
    "    info_token, info_produce_segs = infos[idx]\n",
    "    res = ress[idx]\n",
    "    labels = labelss[idx]\n",
    "\n",
    "    # Convert the list to a NumPy array with shape (frame_num, 1)\n",
    "    labels_array = np.array(labels).reshape(-1, 1)\n",
    "\n",
    "    # Combine the arrays horizontally (horizontally stack them)\n",
    "    combined_array = np.hstack((res, labels_array))\n",
    "\n",
    "    res_df = oneOut2ProgFrame(combined_array) # one in batch\n",
    "    res_df = framify(res_df)\n",
    "    htmlplot = plot3dtrajectory(res_df)\n",
    "    save_html(htmlplot=htmlplot, \n",
    "              plot_path=word_cluster_dbscan_plot_path, \n",
    "              file_name=file_name, \n",
    "              info_token=info_token, info_produce_segs=info_produce_segs)"
   ]
  },
  {
   "cell_type": "markdown",
   "metadata": {},
   "source": [
    "### Kmeans++\n",
    "使用kmeans我们需要为每一次clustering传入一个number of clusters的参数，因此我们也得以控制每一个clustering结果中聚类的数量，这样我们就可以把每一个聚类和这个词中的real segment对应起来。"
   ]
  },
  {
   "cell_type": "markdown",
   "metadata": {},
   "source": [
    "#### Looping over the data"
   ]
  },
  {
   "cell_type": "code",
   "execution_count": 14,
   "metadata": {},
   "outputs": [],
   "source": [
    "file_prefixes = []\n",
    "infos = []\n",
    "labelss = []\n",
    "ress = []\n",
    "centerss = []"
   ]
  },
  {
   "cell_type": "code",
   "execution_count": 15,
   "metadata": {},
   "outputs": [],
   "source": [
    "reshandler = EncoderResHandler(data_dir=word_plot_res_path, info_dir=word_plot_info_path)\n",
    "\n",
    "for datapath in os.listdir(word_plot_res_path): \n",
    "    reshandler.file_prefix = datapath.split(\".\")[0]\n",
    "    reshandler.read()\n",
    "\n",
    "    res = reshandler.data\n",
    "    info = reshandler.info\n",
    "\n",
    "    # Number of clusters (you can adjust this)\n",
    "    num_clusters = len(remove_starting_space(info[1]).split(\" \"))\n",
    "\n",
    "    labels, centers = Clusterer.kmeans(data=res, \n",
    "                                       n_clusters=num_clusters)\n",
    "\n",
    "    file_prefixes.append(reshandler.file_prefix)\n",
    "    infos.append(info)\n",
    "    ress.append(res)\n",
    "    labelss.append(labels)\n",
    "    centerss.append(centers)"
   ]
  },
  {
   "cell_type": "code",
   "execution_count": 16,
   "metadata": {},
   "outputs": [],
   "source": [
    "def oneOut2ProgFrame(oneOut): \n",
    "    # oneOut is of tensor of shape (L, D)\n",
    "    cols = [\"dim_0\", \"dim_1\", \"dim_2\", \"cluster\"]\n",
    "    df = pd.DataFrame(oneOut, columns=cols)\n",
    "    df[\"timestep\"] = df.index\n",
    "    df = df[[\"timestep\"] + cols]\n",
    "    return df\n",
    "def oneOut2CenterFrame(oneOut): \n",
    "    # oneOut is of tensor of shape (L, D)\n",
    "    cols = [\"dim_0\", \"dim_1\", \"dim_2\"]\n",
    "    df = pd.DataFrame(oneOut, columns=cols)\n",
    "    df[\"cluster\"] = df.index\n",
    "    df = df[[\"cluster\"] + cols]\n",
    "    return df\n",
    "def minmax(arr, a=-1, b=1): \n",
    "    min = arr.min()\n",
    "    max = arr.max()\n",
    "    return (b - a) * ((arr - min) / (max - min)) + a\n",
    "def operate_on(arr): \n",
    "    # return minmax(arr)\n",
    "    return arr\n",
    "def framify(these_hids): \n",
    "    # these are token categories to be included\n",
    "    # these hids are the corresponding hids\n",
    "    # these numtags are the corresponding tags, named using indices in these\n",
    "    # these_hids = st.zscore(these_hids, axis=0)\n",
    "    df = pd.DataFrame(data=these_hids)\n",
    "    # df = df.rename(columns={0: \"dim_0\", 1: \"dim_1\", 2: \"dim_2\"})\n",
    "    df['dim_0_norm'] = operate_on(df['dim_0'])\n",
    "    df['dim_1_norm'] = operate_on(df['dim_1'])\n",
    "    df['dim_2_norm'] = operate_on(df['dim_2'])\n",
    "    return df\n",
    "\n",
    "def plot3dtrajectory_plusCenter(X, C): \n",
    "    config = {\n",
    "    'toImageButtonOptions': {\n",
    "        'format': 'png', # one of png, svg, jpeg, webp\n",
    "        'filename': 'custom_image',\n",
    "        'height': 1280,\n",
    "        'width': 1280,\n",
    "        'scale': 1 # Multiply title/legend/axis/canvas sizes by this factor\n",
    "    }\n",
    "    }\n",
    "\n",
    "    fig = px.line_3d(X, x=\"dim_0_norm\", y=\"dim_1_norm\", z=\"dim_2_norm\", \n",
    "                     hover_data=[\"timestep\"], color=\"cluster\", markers=True)\n",
    "\n",
    "    fig.update_traces(marker=dict(size=2, color=\"red\"))\n",
    "\n",
    "    fig.add_scatter3d(x=C[\"dim_0_norm\"], y=C[\"dim_1_norm\"], z=C[\"dim_2_norm\"], mode='markers', marker=dict(size=5), name=\"Centers\")\n",
    "\n",
    "    fig.update_layout(\n",
    "        scene = dict(\n",
    "            xaxis = dict(nticks=8, range=[-1,1],),\n",
    "                        yaxis = dict(nticks=8, range=[-1,1],),\n",
    "                        zaxis = dict(nticks=8, range=[-1,1],),),)\n",
    "    fig.update_layout(\n",
    "        legend=dict(\n",
    "            x=0,\n",
    "            y=1,\n",
    "            title_font_family=\"Times New Roman\",\n",
    "            font=dict(\n",
    "                family=\"Times New Roman\",\n",
    "                size=36,\n",
    "                color=\"black\"\n",
    "            ),\n",
    "            # bgcolor=\"LightSteelBlue\",\n",
    "            bordercolor=\"Black\",\n",
    "            borderwidth=1\n",
    "        )\n",
    "    )\n",
    "    fig.update_layout(\n",
    "        margin=dict(l=0, r=0, t=0, b=0),\n",
    "    )\n",
    "    camera = dict(\n",
    "        eye=dict(x=0., y=0., z=2.5)\n",
    "    )\n",
    "    fig.update_layout(scene_camera=camera)\n",
    "    html_plot = fig.to_html(full_html=False, config=config)\n",
    "    # fig.show(config=config)\n",
    "    return html_plot\n",
    "\n",
    "def save_html(htmlplot, plot_path, file_name, info_token, info_produce_segs): \n",
    "    save_html_path = os.path.join(plot_path, \"{}.html\".format(file_name))\n",
    "    with open(save_html_path, \"w\") as f: \n",
    "        f.write('<meta charset=\"UTF-8\">')\n",
    "        f.write(\"<h3>Token: {}</h3>\".format(info_token))\n",
    "        f.write(\"<h3>Produced Segments: {}</h3>\".format(info_produce_segs))\n",
    "        f.write(\"<hr>\")\n",
    "        f.write(htmlplot)"
   ]
  },
  {
   "cell_type": "code",
   "execution_count": 17,
   "metadata": {},
   "outputs": [],
   "source": [
    "for idx in range(len(file_prefixes)): \n",
    "    file_name = file_prefixes[idx]\n",
    "    info_token, info_produce_segs = infos[idx]\n",
    "    res = ress[idx]\n",
    "    labels = labelss[idx]\n",
    "    centers = centerss[idx]\n",
    "\n",
    "    # Convert the list to a NumPy array with shape (frame_num, 1)\n",
    "    labels_array = np.array(labels).reshape(-1, 1)\n",
    "\n",
    "    # Combine the arrays horizontally (horizontally stack them)\n",
    "    combined_array = np.hstack((res, labels_array))\n",
    "\n",
    "    res_df = oneOut2ProgFrame(combined_array) # one in batch\n",
    "    res_df = framify(res_df)\n",
    "\n",
    "    center_df = oneOut2CenterFrame(centers)\n",
    "    center_df = framify(center_df)\n",
    "\n",
    "    htmlplot = plot3dtrajectory_plusCenter(res_df, center_df)\n",
    "    \n",
    "    save_html(htmlplot=htmlplot, \n",
    "              plot_path=word_cluster_kmeans_plot_path, \n",
    "              file_name=file_name, \n",
    "              info_token=info_token, info_produce_segs=info_produce_segs)"
   ]
  },
  {
   "cell_type": "code",
   "execution_count": 18,
   "metadata": {},
   "outputs": [],
   "source": [
    "clhandler = ClusterHandler(put_path=os.path.join(bsc_path, \"kmeans.intgrt\"), \n",
    "                           data=(file_prefixes, infos, ress, (labelss, centerss)))\n",
    "# file prefix, info, ress, preds\n",
    "clhandler.save()"
   ]
  },
  {
   "cell_type": "code",
   "execution_count": null,
   "metadata": {},
   "outputs": [],
   "source": [
    "def has_return(data): \n",
    "    if len(data) < 3: \n",
    "        # only when 3 we can have returning point\n",
    "        return False\n",
    "    \n",
    "    done_buffer = []\n",
    "    last_item = data[0]\n",
    "    for i in data: \n",
    "        if last_item != i: \n",
    "            # there is a change\n",
    "            if last_item in done_buffer: \n",
    "                # meaning that this has appeared before\n",
    "                return True\n",
    "            else: \n",
    "                done_buffer.append(last_item)\n",
    "        last_item = i\n",
    "    if last_item in done_buffer: \n",
    "        return True\n",
    "    return False"
   ]
  }
 ],
 "metadata": {
  "kernelspec": {
   "display_name": "wavln",
   "language": "python",
   "name": "python3"
  },
  "language_info": {
   "codemirror_mode": {
    "name": "ipython",
    "version": 3
   },
   "file_extension": ".py",
   "mimetype": "text/x-python",
   "name": "python",
   "nbconvert_exporter": "python",
   "pygments_lexer": "ipython3",
   "version": "3.11.3"
  },
  "orig_nbformat": 4
 },
 "nbformat": 4,
 "nbformat_minor": 2
}
