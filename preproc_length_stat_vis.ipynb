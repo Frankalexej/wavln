{
 "cells": [
  {
   "cell_type": "markdown",
   "id": "7e89962c-7abb-4f63-a74f-1396c393cfd3",
   "metadata": {},
   "source": [
    "# Length Analysis (English)\n",
    "This notebook performs length analysis on both phones and words in the English dataset. It extracts the duration of each phone/word token from the associated annotation file (done in alignment extract), filters out invalid tokens, and calculates the length statistics (mean, standard deviation, maximum, minimum, and histogram) of the valid tokens. The analysis provides insights into the distribution of phone/word lengths in the dataset and helps understand the characteristics of the dataset."
   ]
  },
  {
   "cell_type": "code",
   "execution_count": 1,
   "id": "aa0ca817-dd36-4448-8dd4-624a8648ad43",
   "metadata": {},
   "outputs": [],
   "source": [
    "import numpy as np\n",
    "import pandas as pd\n",
    "import os\n",
    "import matplotlib.pyplot as plt\n",
    "from scipy.stats import gamma, poisson\n",
    "import pickle\n",
    "from paths import *\n",
    "from mio import *\n",
    "from sampler import *"
   ]
  },
  {
   "cell_type": "markdown",
   "id": "d47151ab-7207-4f27-8949-0cbd4890c775",
   "metadata": {
    "jp-MarkdownHeadingCollapsed": true,
    "tags": []
   },
   "source": [
    "## Words"
   ]
  },
  {
   "cell_type": "code",
   "execution_count": 2,
   "id": "0ee124ab-c7b6-4245-aeed-68f0757ed32c",
   "metadata": {},
   "outputs": [],
   "source": [
    "# Create an empty numpy array to store durations\n",
    "total_durations = np.empty((0, ), dtype=float)\n",
    "\n",
    "\n",
    "# Iterate through all csv files in words_extract_path\n",
    "for file_name in os.listdir(words_extract_path): \n",
    "    # Check if the file ends with '.csv'\n",
    "    if file_name.endswith('.csv'): \n",
    "        # Filter out non-word tokens or \n",
    "        # tokens with invalid duration and get durations of remaining words\n",
    "        durations = filter_tokens_and_get_durations(os.path.join(words_extract_path, file_name))\n",
    "        # Concatenate the durations to the total_durations array\n",
    "        total_durations = np.concatenate((total_durations, durations), axis=0)"
   ]
  },
  {
   "cell_type": "code",
   "execution_count": 3,
   "id": "c4f7b810-0dcb-4c4d-a0e1-e493502425ce",
   "metadata": {},
   "outputs": [
    {
     "name": "stdout",
     "output_type": "stream",
     "text": [
      "Mean duration: 0.24\n",
      "Median duration: 0.20\n",
      "Standard deviation of duration: 0.17\n",
      "Minimum duration: 0.01\n",
      "Maximum duration: 26.59\n"
     ]
    },
    {
     "data": {
      "image/png": "[encoded data removed]",
      "text/plain": [
       "<Figure size 432x288 with 1 Axes>"
      ]
     },
     "metadata": {
      "needs_background": "light"
     },
     "output_type": "display_data"
    }
   ],
   "source": [
    "# Calculate some basic statistics on the durations\n",
    "mean_duration = np.mean(total_durations)\n",
    "median_duration = np.median(total_durations)\n",
    "std_duration = np.std(total_durations)\n",
    "min_duration = np.min(total_durations)\n",
    "max_duration = np.max(total_durations)\n",
    "\n",
    "# Print the statistics\n",
    "print(\"Mean duration: {:.2f}\".format(mean_duration))\n",
    "print(\"Median duration: {:.2f}\".format(median_duration))\n",
    "print(\"Standard deviation of duration: {:.2f}\".format(std_duration))\n",
    "print(\"Minimum duration: {:.2f}\".format(min_duration))\n",
    "print(\"Maximum duration: {:.2f}\".format(max_duration))\n",
    "\n",
    "# Plot a histogram of the durations\n",
    "plt.hist(total_durations, bins=20, color='blue', range=(0, 1.2))\n",
    "plt.axvline(mean_duration, color='red', linestyle='dashed', linewidth=2, label='Mean')\n",
    "plt.axvline(median_duration, color='green', linestyle='dashed', linewidth=2, label='Median')\n",
    "plt.legend()\n",
    "plt.title(\"Histogram of Word Durations\")\n",
    "plt.xlabel(\"Duration (seconds)\")\n",
    "plt.ylabel(\"Frequency\")\n",
    "plt.show()"
   ]
  },
  {
   "cell_type": "code",
   "execution_count": 4,
   "id": "61942c1b-fb8b-4b0c-88ea-3441723b9144",
   "metadata": {},
   "outputs": [
    {
     "name": "stdout",
     "output_type": "stream",
     "text": [
      "Fitted shape parameter: 2.6097110807008157\n",
      "Fitted scale parameter: 0.09262440275018433\n",
      "Sample mean: 0.24624869960786777\n",
      "Sample standard deviation: 0.148765485300679\n"
     ]
    }
   ],
   "source": [
    "# Fit a gamma distribution to the data\n",
    "shape, loc, scale = gamma.fit(total_durations, floc=0)\n",
    "\n",
    "# Generate a sample of durations from the fitted distribution\n",
    "sample = gamma.rvs(shape, loc=loc, scale=scale, size=1000)\n",
    "\n",
    "# Compute the mean and standard deviation of the sample\n",
    "mean = np.mean(sample)\n",
    "std_dev = np.std(sample)\n",
    "\n",
    "# Print the results\n",
    "print(f\"Fitted shape parameter: {shape}\")\n",
    "print(f\"Fitted scale parameter: {scale}\")\n",
    "print(f\"Sample mean: {mean}\")\n",
    "print(f\"Sample standard deviation: {std_dev}\")\n"
   ]
  },
  {
   "cell_type": "code",
   "execution_count": 5,
   "id": "3a6597e1-4834-4f72-b0ac-3fd7bf27cae0",
   "metadata": {},
   "outputs": [],
   "source": [
    "save_gamma_params(shape, loc, scale, path='words_length_gamma.param')"
   ]
  },
  {
   "cell_type": "code",
   "execution_count": 6,
   "id": "e5629053-ecc5-4058-bd5a-4c0a68655a10",
   "metadata": {},
   "outputs": [],
   "source": [
    "words_durations = total_durations"
   ]
  },
  {
   "cell_type": "markdown",
   "id": "b4d8442a-03f8-4605-ae29-8f8a681a1147",
   "metadata": {},
   "source": [
    "## Phones\n"
   ]
  },
  {
   "cell_type": "code",
   "execution_count": 2,
   "id": "d8d6e5d9-a3d4-405a-856b-78148326709a",
   "metadata": {},
   "outputs": [],
   "source": [
    "# Create an empty numpy array to store durations\n",
    "total_durations = np.empty((0, ), dtype=float)\n",
    "\n",
    "\n",
    "# Iterate through all csv files in phones_extract_path\n",
    "for file_name in os.listdir(phones_extract_path): \n",
    "    # Check if the file ends with '.csv'\n",
    "    if file_name.endswith('.csv'): \n",
    "        # Filter out non-word tokens or \n",
    "        # tokens with invalid duration and get durations of remaining words\n",
    "        durations = filter_tokens_and_get_durations(os.path.join(phones_extract_path, file_name))\n",
    "        # Concatenate the durations to the total_durations array\n",
    "        total_durations = np.concatenate((total_durations, durations), axis=0)"
   ]
  },
  {
   "cell_type": "code",
   "execution_count": 3,
   "id": "6b6d9a7b-d73d-4282-a007-8885e8894127",
   "metadata": {},
   "outputs": [
    {
     "data": {
      "text/plain": [
       "(863581,)"
      ]
     },
     "execution_count": 3,
     "metadata": {},
     "output_type": "execute_result"
    }
   ],
   "source": [
    "total_durations"
   ]
  },
  {
   "cell_type": "code",
   "execution_count": 8,
   "id": "844a3550-ba64-4088-a393-c35ed9a6e676",
   "metadata": {},
   "outputs": [
    {
     "name": "stdout",
     "output_type": "stream",
     "text": [
      "Mean duration: 0.08\n",
      "Median duration: 0.07\n",
      "Standard deviation of duration: 0.08\n",
      "Minimum duration: 0.00\n",
      "Maximum duration: 37.65\n"
     ]
    },
    {
     "data": {
      "image/png": "[encoded data removed]",
      "text/plain": [
       "<Figure size 432x288 with 1 Axes>"
      ]
     },
     "metadata": {
      "needs_background": "light"
     },
     "output_type": "display_data"
    }
   ],
   "source": [
    "# Calculate some basic statistics on the durations\n",
    "mean_duration = np.mean(total_durations)\n",
    "median_duration = np.median(total_durations)\n",
    "std_duration = np.std(total_durations)\n",
    "min_duration = np.min(total_durations)\n",
    "max_duration = np.max(total_durations)\n",
    "\n",
    "# Print the statistics\n",
    "print(\"Mean duration: {:.2f}\".format(mean_duration))\n",
    "print(\"Median duration: {:.2f}\".format(median_duration))\n",
    "print(\"Standard deviation of duration: {:.2f}\".format(std_duration))\n",
    "print(\"Minimum duration: {:.2f}\".format(min_duration))\n",
    "print(\"Maximum duration: {:.2f}\".format(max_duration))\n",
    "\n",
    "# Plot a histogram of the durations\n",
    "plt.hist(total_durations, bins=20, color='blue', range=(0,0.45))\n",
    "plt.axvline(mean_duration, color='red', linestyle='dashed', linewidth=2, label='Mean')\n",
    "plt.axvline(median_duration, color='green', linestyle='dashed', linewidth=2, label='Median')\n",
    "plt.legend()\n",
    "plt.title(\"Histogram of Phones Durations\")\n",
    "plt.xlabel(\"Duration (seconds)\")\n",
    "plt.ylabel(\"Frequency\")\n",
    "plt.show()"
   ]
  },
  {
   "cell_type": "code",
   "execution_count": 9,
   "id": "f65379e9-d088-4fd6-bbca-f03690ad6e71",
   "metadata": {},
   "outputs": [
    {
     "name": "stdout",
     "output_type": "stream",
     "text": [
      "Fitted shape parameter: 2.924430478914074\n",
      "Fitted scale parameter: 0.02823569989359639\n",
      "Sample mean: 0.08506609690594291\n",
      "Sample standard deviation: 0.050117963440098466\n"
     ]
    }
   ],
   "source": [
    "# Fit a gamma distribution to the data\n",
    "shape, loc, scale = gamma.fit(total_durations, floc=0)\n",
    "\n",
    "# Generate a sample of durations from the fitted distribution\n",
    "sample = gamma.rvs(shape, loc=loc, scale=scale, size=1000)\n",
    "\n",
    "# Compute the mean and standard deviation of the sample\n",
    "mean = np.mean(sample)\n",
    "std_dev = np.std(sample)\n",
    "\n",
    "# Print the results\n",
    "print(f\"Fitted shape parameter: {shape}\")\n",
    "print(f\"Fitted scale parameter: {scale}\")\n",
    "print(f\"Sample mean: {mean}\")\n",
    "print(f\"Sample standard deviation: {std_dev}\")\n"
   ]
  },
  {
   "cell_type": "code",
   "execution_count": 10,
   "id": "2cb22aeb-4a56-4561-9c68-0caaf0635d1e",
   "metadata": {},
   "outputs": [],
   "source": [
    "save_gamma_params(shape, loc, scale, path='phones_length_gamma.param')"
   ]
  },
  {
   "cell_type": "code",
   "execution_count": 11,
   "id": "9ba3bd68-1a4a-4c4b-a189-82a9eab25111",
   "metadata": {},
   "outputs": [],
   "source": [
    "phones_durations = total_durations"
   ]
  },
  {
   "cell_type": "markdown",
   "id": "df27c4a2-c8e9-4dd2-886f-c9c7a485caf3",
   "metadata": {},
   "source": [
    "## Compose phone number distribution out of the two\n",
    "This is a poisson distribution  \n",
    "However, according to the calculation process, there is no need to stick to data -> gammas -> samples -> poisson route, we can just skip fitting gamma distributions. "
   ]
  },
  {
   "cell_type": "code",
   "execution_count": 12,
   "id": "0331eaae-ee91-4a06-8da0-a6cddf264e69",
   "metadata": {},
   "outputs": [
    {
     "name": "stdout",
     "output_type": "stream",
     "text": [
      "Mean number: 3.90\n",
      "Median number: 4.00\n",
      "Standard deviation of number: 1.70\n",
      "Minimum number: 1.00\n",
      "Maximum number: 12.00\n"
     ]
    },
    {
     "data": {
      "image/png": "[encoded data removed]",
      "text/plain": [
       "<Figure size 432x288 with 1 Axes>"
      ]
     },
     "metadata": {
      "needs_background": "light"
     },
     "output_type": "display_data"
    }
   ],
   "source": [
    "# Define a shift for avoiding 0 (we don't want 0s)\n",
    "shift = 1\n",
    "# Generate some sample data\n",
    "shape, loc, scale = load_gamma_params(\"words_length_gamma.param\")\n",
    "word_lengths = gamma.rvs(shape, loc, scale, size=100000)\n",
    "shape, loc, scale = load_gamma_params(\"phones_length_gamma.param\")\n",
    "sound_lengths = gamma.rvs(shape, loc, scale, size=100000)\n",
    "\n",
    "# Calculate mean sound length\n",
    "mean_sound_length = np.mean(sound_lengths)\n",
    "\n",
    "# Calculate mean number of sounds per word\n",
    "mean_sounds_per_word = np.mean(word_lengths / mean_sound_length)\n",
    "\n",
    "# Sample number of sounds in each word\n",
    "num_sounds = np.random.poisson(mean_sounds_per_word, size=10000) + shift\n",
    "\n",
    "# Calculate some basic statistics on the numbers\n",
    "mean_number = np.mean(num_sounds)\n",
    "median_number = np.median(num_sounds)\n",
    "std_number = np.std(num_sounds)\n",
    "min_number = np.min(num_sounds)\n",
    "max_number = np.max(num_sounds)\n",
    "\n",
    "# Print the statistics\n",
    "print(\"Mean number: {:.2f}\".format(mean_number))\n",
    "print(\"Median number: {:.2f}\".format(median_number))\n",
    "print(\"Standard deviation of number: {:.2f}\".format(std_number))\n",
    "print(\"Minimum number: {:.2f}\".format(min_number))\n",
    "print(\"Maximum number: {:.2f}\".format(max_number))\n",
    "\n",
    "# Plot a histogram of the durations\n",
    "plt.hist(num_sounds, color='blue', range=(0, 20))\n",
    "plt.axvline(mean_number, color='red', linestyle='dashed', linewidth=2, label='Mean')\n",
    "plt.axvline(median_number, color='green', linestyle='dashed', linewidth=2, label='Median')\n",
    "plt.legend()\n",
    "plt.title(\"Histogram of Phones in Words\")\n",
    "plt.xlabel(\"Number of sounds\")\n",
    "plt.ylabel(\"Frequency\")\n",
    "plt.show()"
   ]
  },
  {
   "cell_type": "code",
   "execution_count": 13,
   "id": "64d6b014-41c1-4fe9-9a43-87d5ba626d3f",
   "metadata": {},
   "outputs": [],
   "source": [
    "poisson_data = num_sounds"
   ]
  },
  {
   "cell_type": "code",
   "execution_count": 14,
   "id": "4efa5fda-0b34-46df-8207-b588a0e315b3",
   "metadata": {},
   "outputs": [
    {
     "name": "stdout",
     "output_type": "stream",
     "text": [
      "Mean number: 3.91\n",
      "Median number: 4.00\n",
      "Standard deviation of number: 1.71\n",
      "Minimum number: 1.00\n",
      "Maximum number: 13.00\n"
     ]
    },
    {
     "data": {
      "image/png": "[encoded data removed]",
      "text/plain": [
       "<Figure size 432x288 with 1 Axes>"
      ]
     },
     "metadata": {
      "needs_background": "light"
     },
     "output_type": "display_data"
    }
   ],
   "source": [
    "# Define a shift for avoiding 0 (we don't want 0s)\n",
    "shift = 1\n",
    "\n",
    "word_lengths = words_durations\n",
    "sound_lengths = phones_durations\n",
    "\n",
    "# Calculate mean sound length\n",
    "mean_sound_length = np.mean(sound_lengths)\n",
    "\n",
    "# Calculate mean number of sounds per word\n",
    "mean_sounds_per_word = np.mean(word_lengths / mean_sound_length)\n",
    "\n",
    "# Sample number of sounds in each word\n",
    "num_sounds = np.random.poisson(mean_sounds_per_word, size = 10000) + shift\n",
    "\n",
    "# Calculate some basic statistics on the numbers\n",
    "mean_number = np.mean(num_sounds)\n",
    "median_number = np.median(num_sounds)\n",
    "std_number = np.std(num_sounds)\n",
    "min_number = np.min(num_sounds)\n",
    "max_number = np.max(num_sounds)\n",
    "\n",
    "# Print the statistics\n",
    "print(\"Mean number: {:.2f}\".format(mean_number))\n",
    "print(\"Median number: {:.2f}\".format(median_number))\n",
    "print(\"Standard deviation of number: {:.2f}\".format(std_number))\n",
    "print(\"Minimum number: {:.2f}\".format(min_number))\n",
    "print(\"Maximum number: {:.2f}\".format(max_number))\n",
    "\n",
    "# Plot a histogram of the durations\n",
    "plt.hist(num_sounds, color='blue', range=(0, 20))\n",
    "plt.axvline(mean_number, color='red', linestyle='dashed', linewidth=2, label='Mean')\n",
    "plt.axvline(median_number, color='green', linestyle='dashed', linewidth=2, label='Median')\n",
    "plt.legend()\n",
    "plt.title(\"Histogram of Phones in Words\")\n",
    "plt.xlabel(\"Number of sounds\")\n",
    "plt.ylabel(\"Frequency\")\n",
    "plt.show()"
   ]
  },
  {
   "cell_type": "markdown",
   "id": "d732ef5f-1845-4d36-a802-75d2adfe097f",
   "metadata": {},
   "source": [
    "## Conclusion\n",
    "Despite one distribution being real and the other being fitted and sampled, there is not much difference between the two. Additionally, the fit-and-sample distribution has fewer extreme outliers. \n",
    "\n",
    "Let's stick to the sampled one. \n",
    "\n",
    "The following code prepares a reusable poisson distribution"
   ]
  },
  {
   "cell_type": "code",
   "execution_count": 16,
   "id": "f752e564-444a-4ee2-979c-6ff462060e85",
   "metadata": {},
   "outputs": [],
   "source": [
    "# generate_sounds_per_word_sample(\"words_length_gamma.param\", \"phones_length_gamma.param\", poisson_size=100000)"
   ]
  },
  {
   "cell_type": "code",
   "execution_count": null,
   "id": "ff1ccbf2-f2d4-4bae-ace0-cc48b3672531",
   "metadata": {},
   "outputs": [],
   "source": []
  }
 ],
 "metadata": {
  "kernelspec": {
   "display_name": "Python 3 (ipykernel)",
   "language": "python",
   "name": "python3"
  },
  "language_info": {
   "codemirror_mode": {
    "name": "ipython",
    "version": 3
   },
   "file_extension": ".py",
   "mimetype": "text/x-python",
   "name": "python",
   "nbconvert_exporter": "python",
   "pygments_lexer": "ipython3",
   "version": "3.10.4"
  }
 },
 "nbformat": 4,
 "nbformat_minor": 5
}
