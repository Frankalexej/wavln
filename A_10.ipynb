{
 "cells": [
  {
   "cell_type": "markdown",
   "metadata": {},
   "source": [
    "# New Run\n",
    "A_01: Copy from SL_D_E_4.ipynb. Fixed the problem as we have found in normalization. This time we normalize over the whole course. \n",
    "\n",
    "\n",
    "A_05: This time we resume using two linear layers, one before RNN and one after. IN this way we make the last linear layer of both encoder and decoder\n",
    "a pure linear layer without other components. \n",
    "\n",
    "A_07: This time we delete the attention part of the decoder and make it completely autoregressive. See how it performs. \n",
    "\n",
    "A_08: Restore the inclusion of attention mechanism, and set the first input to decoder to all zero. \n",
    "\n",
    "A_10: This time we want to really try the autoregressive model and see how well it performs. "
   ]
  },
  {
   "attachments": {},
   "cell_type": "markdown",
   "metadata": {
    "id": "B-mljeGlqMqo"
   },
   "source": [
    "# Sequence Learning - Direct - English\n",
    "Version 1: In this version we make the model \"simple\": make the encoder RNN into normal RNN first and try to see the result.  \n",
    "Version 2: Learning is not very much. Following Dr Coupe's advice we try simpler model structure.   \n",
    "Version 3: A simple trial training with Mel spectrogram instead of MFCC.   \n",
    "Version 4: try to enlarge the hidden dimensions so that we might still make sense of the hidden representation. "
   ]
  },
  {
   "cell_type": "code",
   "execution_count": 1,
   "metadata": {
    "id": "jN5DNuExjwet"
   },
   "outputs": [],
   "source": [
    "import torch\n",
    "import torchaudio\n",
    "from torch import nn\n",
    "import torch.nn.functional as F\n",
    "from torch.nn.utils.rnn import pad_sequence, pack_sequence\n",
    "from torch import optim\n",
    "from torch.utils.data import Dataset, DataLoader, random_split\n",
    "import matplotlib.pyplot as plt\n",
    "import numpy as np\n",
    "import pandas as pd\n",
    "import pickle\n",
    "from datetime import datetime\n",
    "import random\n",
    "from torchinfo import summary"
   ]
  },
  {
   "cell_type": "code",
   "execution_count": 2,
   "metadata": {},
   "outputs": [],
   "source": [
    "from model import LHYPhxLearner as TheLearner\n",
    "from my_dataset import DS_Tools\n",
    "from dataset import SeqDataset, MelTransform, Normalizer, DeNormalizer\n",
    "from dataset import MelSpecTransformNoDB as TheTransform\n",
    "from paths import *\n",
    "from my_utils import *\n",
    "from recorder import *\n",
    "from loss import *\n",
    "from padding import generate_mask_from_lengths_mat, mask_it"
   ]
  },
  {
   "attachments": {},
   "cell_type": "markdown",
   "metadata": {
    "tags": []
   },
   "source": [
    "### Dirs"
   ]
  },
  {
   "cell_type": "code",
   "execution_count": 3,
   "metadata": {
    "id": "iGouCDYD3h18"
   },
   "outputs": [],
   "source": [
    "model_save_dir = model_eng_save_dir\n",
    "# random_data:phone_seg_random_path\n",
    "# anno_data: phone_seg_anno_path\n",
    "\n",
    "# random_log_path = phone_seg_random_log_path + \"log.csv\"\n",
    "random_log_path = word_seg_anno_log_path\n",
    "random_path = word_seg_anno_path\n",
    "anno_log_path = phone_seg_anno_path"
   ]
  },
  {
   "attachments": {},
   "cell_type": "markdown",
   "metadata": {},
   "source": [
    "### Constants"
   ]
  },
  {
   "cell_type": "code",
   "execution_count": 4,
   "metadata": {},
   "outputs": [],
   "source": [
    "BATCH_SIZE = 128\n",
    "\n",
    "INPUT_DIM = 64\n",
    "OUTPUT_DIM = 64 \n",
    "\n",
    "INTER_DIM_0 = 32\n",
    "INTER_DIM_1 = 16\n",
    "INTER_DIM_2 = 8\n",
    "\n",
    "ENC_SIZE_LIST = [INPUT_DIM, INTER_DIM_0, INTER_DIM_1, INTER_DIM_2]\n",
    "DEC_SIZE_LIST = [OUTPUT_DIM, INTER_DIM_0, INTER_DIM_1, INTER_DIM_2]\n",
    "\n",
    "DROPOUT = 0.5\n",
    "\n",
    "REC_SAMPLE_RATE = 16000\n",
    "N_FFT = 400\n",
    "N_MELS = 64\n",
    "\n",
    "LOADER_WORKER = 16\n",
    "# LOADER_WORKER = 0"
   ]
  },
  {
   "cell_type": "code",
   "execution_count": 5,
   "metadata": {
    "id": "lUxoYBUg1jLq"
   },
   "outputs": [],
   "source": [
    "device = torch.device('cuda' if torch.cuda.is_available() else 'cpu')\n",
    "recon_loss = nn.MSELoss(reduction='none')\n",
    "masked_recon_loss = MaskedLoss(recon_loss)\n",
    "model_loss = masked_recon_loss\n",
    "\n",
    "# model = TheLearner(enc_size_list=ENC_SIZE_LIST, dec_size_list=DEC_SIZE_LIST, num_layers=2)\n",
    "model = TheLearner(enc_size_list=ENC_SIZE_LIST, dec_size_list=DEC_SIZE_LIST, num_layers=1)\n",
    "model.to(device)\n",
    "optimizer = optim.Adam(model.parameters(), lr=1e-3)"
   ]
  },
  {
   "cell_type": "code",
   "execution_count": 6,
   "metadata": {},
   "outputs": [],
   "source": [
    "# # initialize model weights\n",
    "# def init_weights(m):\n",
    "#     if isinstance(m, nn.Linear):\n",
    "#         torch.nn.init.orthogonal_(m.weight)\n",
    "#         m.bias.data.fill_(0.01)\n",
    "#     if isinstance(m, nn.LSTM): \n",
    "#         for name, p in m.named_parameters():\n",
    "#             if \"weight\" in name: \n",
    "#                 nn.init.orthogonal_(p)\n",
    "#             elif \"bias\" in name: \n",
    "#                 nn.init.constant_(p, 0)\n",
    "\n",
    "# model.apply(init_weights)"
   ]
  },
  {
   "cell_type": "code",
   "execution_count": 7,
   "metadata": {},
   "outputs": [],
   "source": [
    "model_parameters = filter(lambda p: p.requires_grad, model.parameters())\n",
    "params = sum([np.prod(p.size()) for p in model_parameters])"
   ]
  },
  {
   "cell_type": "code",
   "execution_count": 8,
   "metadata": {},
   "outputs": [
    {
     "data": {
      "text/plain": [
       "10912"
      ]
     },
     "execution_count": 8,
     "metadata": {},
     "output_type": "execute_result"
    }
   ],
   "source": [
    "params"
   ]
  },
  {
   "cell_type": "code",
   "execution_count": 9,
   "metadata": {
    "id": "ofsEE6OaoyPh"
   },
   "outputs": [],
   "source": [
    "# Just for keeping records of training hists. \n",
    "# ts = \"0918192113\"\n",
    "stop_epoch = \"149\"\n",
    "ts = str(get_timestamp())\n",
    "save_txt_name = \"train_txt_{}.hst\".format(ts)\n",
    "save_trainhist_name = \"train_hist_{}.hst\".format(ts)\n",
    "\n",
    "save_valhist_name = \"val_hist_{}.hst\".format(ts)"
   ]
  },
  {
   "cell_type": "code",
   "execution_count": 10,
   "metadata": {
    "id": "xUHYarigvT64"
   },
   "outputs": [],
   "source": [
    "train_losses = LossRecorder(model_save_dir + save_trainhist_name)\n",
    "\n",
    "valid_losses = LossRecorder(model_save_dir + save_valhist_name)\n",
    "\n",
    "text_hist = HistRecorder(model_save_dir + save_txt_name)"
   ]
  },
  {
   "cell_type": "code",
   "execution_count": 11,
   "metadata": {
    "id": "-T4OYaoXsxe_"
   },
   "outputs": [],
   "source": [
    "READ = False\n",
    "# READ = True"
   ]
  },
  {
   "cell_type": "code",
   "execution_count": 12,
   "metadata": {
    "id": "nVvnpUk5sWxb"
   },
   "outputs": [],
   "source": [
    "if READ: \n",
    "    valid_losses.read()\n",
    "    train_losses.read()\n",
    "\n",
    "    model_raw_name = \"PT_{}_{}_full\".format(ts, stop_epoch)\n",
    "    model_name = model_raw_name + \".pt\"\n",
    "    model_path = os.path.join(model_save_dir, model_name)\n",
    "    state = torch.load(model_path)\n",
    "\n",
    "    model.load_state_dict(state)\n",
    "    model.to(device)"
   ]
  },
  {
   "cell_type": "code",
   "execution_count": 13,
   "metadata": {},
   "outputs": [
    {
     "data": {
      "text/plain": [
       "LHYPhxLearner(\n",
       "  (encoder): LHYEncoder(\n",
       "    (lin): LinearPack(\n",
       "      (linear): Linear(in_features=64, out_features=32, bias=True)\n",
       "      (relu): ReLU()\n",
       "      (dropout): Dropout(p=0.5, inplace=False)\n",
       "    )\n",
       "    (rnn): LSTM(32, 8, batch_first=True)\n",
       "  )\n",
       "  (decoder): LHYDecoder(\n",
       "    (rnn): LSTM(8, 32, batch_first=True)\n",
       "    (lin): Linear(in_features=32, out_features=64, bias=True)\n",
       "  )\n",
       ")"
      ]
     },
     "execution_count": 13,
     "metadata": {},
     "output_type": "execute_result"
    }
   ],
   "source": [
    "model"
   ]
  },
  {
   "cell_type": "code",
   "execution_count": 14,
   "metadata": {
    "id": "6OCx4nqP40fz"
   },
   "outputs": [],
   "source": [
    "# mytrans = MelSpecTransform(sample_rate=REC_SAMPLE_RATE, n_fft=N_FFT, n_mels=N_MELS)\n",
    "# mytrans = nn.Sequential(\n",
    "#     MelTransform(sample_rate=REC_SAMPLE_RATE, n_fft=N_FFT, n_mels=N_MELS),\n",
    "#     # torchaudio.transforms.AmplitudeToDB(stype=\"power\", top_db=80), \n",
    "#     Normalizer(Normalizer.norm_strip_minmax)\n",
    "# )\n",
    "mytrans = TheTransform(sample_rate=REC_SAMPLE_RATE, n_fft=N_FFT, n_mels=N_MELS, normalizer=Normalizer.norm_mvn, denormalizer=DeNormalizer.norm_mvn)\n",
    "ds = SeqDataset(random_path, os.path.join(random_log_path, \"log.csv\"), transform=mytrans)\n",
    "\n",
    "test = False\n",
    "if test: \n",
    "    use_len = int(0.1 * len(ds))\n",
    "    remain_len = len(ds) - use_len\n",
    "\n",
    "    # Randomly split the dataset into train and validation sets\n",
    "    ds, remain_ds = random_split(ds, [use_len, remain_len])\n",
    "\n",
    "\n",
    "if READ: \n",
    "    valid_ds_indices = DS_Tools.read_indices(os.path.join(model_save_dir, \"valid_ds_{}.pkl\".format(ts)))\n",
    "    all_indices = list(range(len(ds)))\n",
    "    train_ds_indices = list(set(all_indices).difference(set(valid_ds_indices)))\n",
    "\n",
    "    train_ds = torch.utils.data.Subset(ds, train_ds_indices)\n",
    "    valid_ds = torch.utils.data.Subset(ds, valid_ds_indices)\n",
    "else: \n",
    "    train_len = int(0.8 * len(ds))\n",
    "    valid_len = len(ds) - train_len\n",
    "\n",
    "    # Randomly split the dataset into train and validation sets\n",
    "    train_ds, valid_ds = random_split(ds, [train_len, valid_len])\n",
    "    DS_Tools.save_indices(os.path.join(model_save_dir, \"valid_ds_{}.pkl\".format(ts)), valid_ds.indices)\n",
    "\n",
    "train_loader = DataLoader(train_ds, batch_size=BATCH_SIZE, shuffle=True, num_workers=LOADER_WORKER, collate_fn=SeqDataset.collate_fn)\n",
    "train_num = len(train_loader.dataset)\n",
    "\n",
    "valid_loader = DataLoader(valid_ds, batch_size=BATCH_SIZE, shuffle=False, num_workers=LOADER_WORKER, collate_fn=SeqDataset.collate_fn)\n",
    "valid_num = len(valid_loader.dataset)\n"
   ]
  },
  {
   "cell_type": "code",
   "execution_count": 15,
   "metadata": {},
   "outputs": [
    {
     "data": {
      "text/plain": [
       "1776"
      ]
     },
     "execution_count": 15,
     "metadata": {},
     "output_type": "execute_result"
    }
   ],
   "source": [
    "len(train_loader)"
   ]
  },
  {
   "cell_type": "code",
   "execution_count": 16,
   "metadata": {},
   "outputs": [
    {
     "name": "stdout",
     "output_type": "stream",
     "text": [
      "torch.Size([128, 72, 64])\n"
     ]
    }
   ],
   "source": [
    "# Load sample data from train_loader\n",
    "sample_data = next(iter(valid_loader))\n",
    "xx_pad, seg = sample_data\n",
    "print(xx_pad.shape)"
   ]
  },
  {
   "cell_type": "code",
   "execution_count": 17,
   "metadata": {},
   "outputs": [
    {
     "data": {
      "image/png": "[encoded data removed]",
      "text/plain": [
       "<Figure size 1200x800 with 7 Axes>"
      ]
     },
     "metadata": {},
     "output_type": "display_data"
    }
   ],
   "source": [
    "# Set the random seed for reproducibility\n",
    "# random.seed(101)\n",
    "# Generate six random indices\n",
    "random_indices = random.sample(range(len(xx_pad)), 6)\n",
    "# random_indices = list(range(6, 12))\n",
    "\n",
    "# Plot the spectrograms and mark the corresponding seg\n",
    "fig, axes = plt.subplots(2, 3, figsize=(12, 8))\n",
    "axes = axes.flatten()\n",
    "\n",
    "for i, idx in enumerate(random_indices):\n",
    "    spectrogram = xx_pad[idx]\n",
    "    \n",
    "    ax = axes[i]\n",
    "    img = ax.imshow(spectrogram.T, aspect='auto', origin=\"lower\")\n",
    "    # ax.axvline(x=segment, color='red', linestyle='--')\n",
    "    # ax.axvline(x=segment[1], color='red', linestyle='--')\n",
    "    ax.set_title(f'Spectrogram')\n",
    "    ax.set_xlabel('Time')\n",
    "    ax.set_ylabel('Frequency')\n",
    "plt.tight_layout()\n",
    "plt.colorbar(img,ax=axes)\n",
    "plt.show()"
   ]
  },
  {
   "cell_type": "code",
   "execution_count": 18,
   "metadata": {},
   "outputs": [
    {
     "data": {
      "text/plain": [
       "'0122214822'"
      ]
     },
     "execution_count": 18,
     "metadata": {},
     "output_type": "execute_result"
    }
   ],
   "source": [
    "ts"
   ]
  },
  {
   "cell_type": "code",
   "execution_count": 19,
   "metadata": {},
   "outputs": [],
   "source": [
    "EPOCHS = 50\n",
    "BASE = 0"
   ]
  },
  {
   "cell_type": "code",
   "execution_count": 20,
   "metadata": {
    "colab": {
     "base_uri": "https://localhost:8080/"
    },
    "id": "y2n7doAD1uRi",
    "outputId": "e9c5bcb7-72db-4238-e83f-36e4dbe35748"
   },
   "outputs": [],
   "source": [
    "def train(): \n",
    "    for epoch in range(BASE, BASE + EPOCHS):\n",
    "        text_hist.print(\"Epoch {}\".format(epoch))\n",
    "\n",
    "        model.train()\n",
    "        train_loss = 0.\n",
    "        train_num = len(train_loader)    # train_loader\n",
    "        for idx, (x, x_lens) in enumerate(train_loader):\n",
    "            optimizer.zero_grad()\n",
    "            y = x \n",
    "            \n",
    "            x_mask = generate_mask_from_lengths_mat(x_lens, device=device)\n",
    "            \n",
    "            x = x.to(device)\n",
    "            y = y.to(device)\n",
    "\n",
    "            recon_x, attn_weight = model(x, x_lens, x_mask)\n",
    "\n",
    "            loss = model_loss.get_loss(recon_x, y, x_mask)\n",
    "\n",
    "            train_loss += loss.item()\n",
    "\n",
    "            loss.backward()\n",
    "            \n",
    "            # torch.nn.utils.clip_grad_norm_(model.parameters(), clip_value)\n",
    "            # 这个函数计算的是全局梯度范数\n",
    "            # torch.nn.utils.clip_grad_norm(parameters=model.parameters(), max_norm=5, norm_type=2)\n",
    "            torch.nn.utils.clip_grad_norm_(parameters=model.parameters(), max_norm=5, norm_type=2)\n",
    "            # parameters: an iterable of Variables that will have gradients normalized\n",
    "            # max_norm: max norm of the gradients(阈值设定)\n",
    "            # norm_type: type of the used p-norm. Can be'inf'for infinity norm(定义范数类型)\n",
    "\n",
    "            optimizer.step()\n",
    "\n",
    "            if idx % 100 == 0:\n",
    "                text_hist.print(f\"Training loss {loss: .3f} in Step {idx}\")\n",
    "\n",
    "        train_losses.append(train_loss / train_num)\n",
    "        text_hist.print(f\"※※※Training loss {train_loss / train_num: .3f}※※※\")\n",
    "\n",
    "        last_model_name = \"PT_{}_{}_full.pt\".format(ts, epoch)\n",
    "        torch.save(model.state_dict(), os.path.join(model_save_dir, last_model_name))\n",
    "        text_hist.print(\"Training timepoint saved\")\n",
    "\n",
    "        model.eval()\n",
    "        valid_loss = 0.\n",
    "        valid_num = len(valid_loader)\n",
    "        for idx, (x, x_lens) in enumerate(valid_loader):\n",
    "            y = x    # extract MFCC-only data\n",
    "            x_mask = generate_mask_from_lengths_mat(x_lens, device=device)\n",
    "            \n",
    "            x = x.to(device)\n",
    "            y = y.to(device)\n",
    "\n",
    "            recon_x, attn_weight = model(x, x_lens, x_mask)\n",
    "\n",
    "            loss = model_loss.get_loss(recon_x, y, x_mask)\n",
    "\n",
    "            valid_loss += loss.item()\n",
    "\n",
    "            if idx % 50 == 0:\n",
    "                text_hist.print(f\"Valid loss {loss: .3f} in Step {idx}\")\n",
    "\n",
    "        valid_losses.append(valid_loss / valid_num)\n",
    "\n",
    "        text_hist.print(f\"※※※Valid loss {valid_loss / valid_num: .3f}※※※\")"
   ]
  },
  {
   "cell_type": "code",
   "execution_count": 21,
   "metadata": {},
   "outputs": [
    {
     "name": "stdout",
     "output_type": "stream",
     "text": [
      "Epoch 0\n",
      "Training loss  1.004 in Step 0\n",
      "Training loss  0.706 in Step 100\n",
      "Training loss  0.561 in Step 200\n",
      "Training loss  0.551 in Step 300\n",
      "Training loss  0.503 in Step 400\n",
      "Training loss  0.464 in Step 500\n",
      "Training loss  0.427 in Step 600\n",
      "Training loss  0.366 in Step 700\n",
      "Training loss  0.360 in Step 800\n",
      "Training loss  0.349 in Step 900\n",
      "Training loss  0.356 in Step 1000\n",
      "Training loss  0.350 in Step 1100\n",
      "Training loss  0.334 in Step 1200\n",
      "Training loss  0.300 in Step 1300\n",
      "Training loss  0.344 in Step 1400\n",
      "Training loss  0.303 in Step 1500\n",
      "Training loss  0.279 in Step 1600\n",
      "Training loss  0.279 in Step 1700\n",
      "※※※Training loss  0.413※※※\n",
      "Training timepoint saved\n",
      "Valid loss  0.234 in Step 0\n",
      "Valid loss  0.226 in Step 50\n",
      "Valid loss  0.224 in Step 100\n",
      "Valid loss  0.206 in Step 150\n",
      "Valid loss  0.207 in Step 200\n",
      "Valid loss  0.232 in Step 250\n",
      "Valid loss  0.225 in Step 300\n",
      "Valid loss  0.215 in Step 350\n",
      "Valid loss  0.215 in Step 400\n",
      "※※※Valid loss  0.224※※※\n",
      "Epoch 1\n",
      "Training loss  0.271 in Step 0\n",
      "Training loss  0.269 in Step 100\n",
      "Training loss  0.273 in Step 200\n",
      "Training loss  0.263 in Step 300\n",
      "Training loss  0.272 in Step 400\n",
      "Training loss  0.267 in Step 500\n",
      "Training loss  0.260 in Step 600\n",
      "Training loss  0.266 in Step 700\n",
      "Training loss  0.240 in Step 800\n",
      "Training loss  0.268 in Step 900\n",
      "Training loss  0.276 in Step 1000\n",
      "Training loss  0.260 in Step 1100\n",
      "Training loss  0.231 in Step 1200\n",
      "Training loss  0.277 in Step 1300\n",
      "Training loss  0.222 in Step 1400\n",
      "Training loss  0.250 in Step 1500\n",
      "Training loss  0.245 in Step 1600\n",
      "Training loss  0.243 in Step 1700\n",
      "※※※Training loss  0.257※※※\n",
      "Training timepoint saved\n",
      "Valid loss  0.187 in Step 0\n",
      "Valid loss  0.179 in Step 50\n",
      "Valid loss  0.175 in Step 100\n",
      "Valid loss  0.161 in Step 150\n",
      "Valid loss  0.159 in Step 200\n",
      "Valid loss  0.196 in Step 250\n",
      "Valid loss  0.173 in Step 300\n",
      "Valid loss  0.163 in Step 350\n",
      "Valid loss  0.171 in Step 400\n",
      "※※※Valid loss  0.174※※※\n",
      "Epoch 2\n",
      "Training loss  0.244 in Step 0\n",
      "Training loss  0.258 in Step 100\n",
      "Training loss  0.247 in Step 200\n",
      "Training loss  0.219 in Step 300\n",
      "Training loss  0.227 in Step 400\n",
      "Training loss  0.209 in Step 500\n",
      "Training loss  0.247 in Step 600\n",
      "Training loss  0.237 in Step 700\n",
      "Training loss  0.227 in Step 800\n",
      "Training loss  0.227 in Step 900\n",
      "Training loss  0.250 in Step 1000\n",
      "Training loss  0.223 in Step 1100\n",
      "Training loss  0.214 in Step 1200\n",
      "Training loss  0.227 in Step 1300\n",
      "Training loss  0.244 in Step 1400\n",
      "Training loss  0.219 in Step 1500\n",
      "Training loss  0.234 in Step 1600\n",
      "Training loss  0.230 in Step 1700\n",
      "※※※Training loss  0.228※※※\n",
      "Training timepoint saved\n",
      "Valid loss  0.174 in Step 0\n",
      "Valid loss  0.164 in Step 50\n",
      "Valid loss  0.158 in Step 100\n",
      "Valid loss  0.149 in Step 150\n",
      "Valid loss  0.146 in Step 200\n",
      "Valid loss  0.184 in Step 250\n",
      "Valid loss  0.158 in Step 300\n",
      "Valid loss  0.150 in Step 350\n",
      "Valid loss  0.159 in Step 400\n",
      "※※※Valid loss  0.159※※※\n",
      "Epoch 3\n",
      "Training loss  0.208 in Step 0\n",
      "Training loss  0.188 in Step 100\n",
      "Training loss  0.210 in Step 200\n",
      "Training loss  0.212 in Step 300\n",
      "Training loss  0.205 in Step 400\n",
      "Training loss  0.227 in Step 500\n",
      "Training loss  0.219 in Step 600\n",
      "Training loss  0.197 in Step 700\n",
      "Training loss  0.215 in Step 800\n",
      "Training loss  0.215 in Step 900\n",
      "Training loss  0.221 in Step 1000\n",
      "Training loss  0.217 in Step 1100\n",
      "Training loss  0.185 in Step 1200\n",
      "Training loss  0.199 in Step 1300\n",
      "Training loss  0.209 in Step 1400\n",
      "Training loss  0.205 in Step 1500\n",
      "Training loss  0.209 in Step 1600\n",
      "Training loss  0.217 in Step 1700\n",
      "※※※Training loss  0.214※※※\n",
      "Training timepoint saved\n",
      "Valid loss  0.176 in Step 0\n",
      "Valid loss  0.163 in Step 50\n",
      "Valid loss  0.158 in Step 100\n",
      "Valid loss  0.151 in Step 150\n",
      "Valid loss  0.149 in Step 200\n",
      "Valid loss  0.186 in Step 250\n",
      "Valid loss  0.160 in Step 300\n",
      "Valid loss  0.152 in Step 350\n",
      "Valid loss  0.161 in Step 400\n",
      "※※※Valid loss  0.160※※※\n",
      "Epoch 4\n",
      "Training loss  0.205 in Step 0\n",
      "Training loss  0.212 in Step 100\n",
      "Training loss  0.222 in Step 200\n",
      "Training loss  0.191 in Step 300\n",
      "Training loss  0.203 in Step 400\n",
      "Training loss  0.188 in Step 500\n",
      "Training loss  0.213 in Step 600\n",
      "Training loss  0.201 in Step 700\n",
      "Training loss  0.182 in Step 800\n",
      "Training loss  0.205 in Step 900\n",
      "Training loss  0.210 in Step 1000\n",
      "Training loss  0.212 in Step 1100\n",
      "Training loss  0.202 in Step 1200\n",
      "Training loss  0.198 in Step 1300\n",
      "Training loss  0.177 in Step 1400\n",
      "Training loss  0.182 in Step 1500\n",
      "Training loss  0.191 in Step 1600\n",
      "Training loss  0.196 in Step 1700\n",
      "※※※Training loss  0.204※※※\n",
      "Training timepoint saved\n",
      "Valid loss  0.181 in Step 0\n",
      "Valid loss  0.167 in Step 50\n",
      "Valid loss  0.163 in Step 100\n",
      "Valid loss  0.158 in Step 150\n",
      "Valid loss  0.155 in Step 200\n",
      "Valid loss  0.190 in Step 250\n",
      "Valid loss  0.165 in Step 300\n",
      "Valid loss  0.157 in Step 350\n",
      "Valid loss  0.166 in Step 400\n",
      "※※※Valid loss  0.166※※※\n",
      "Epoch 5\n",
      "Training loss  0.210 in Step 0\n",
      "Training loss  0.208 in Step 100\n",
      "Training loss  0.197 in Step 200\n",
      "Training loss  0.181 in Step 300\n",
      "Training loss  0.191 in Step 400\n",
      "Training loss  0.197 in Step 500\n",
      "Training loss  0.195 in Step 600\n",
      "Training loss  0.199 in Step 700\n",
      "Training loss  0.191 in Step 800\n",
      "Training loss  0.199 in Step 900\n",
      "Training loss  0.171 in Step 1000\n",
      "Training loss  0.195 in Step 1100\n",
      "Training loss  0.194 in Step 1200\n",
      "Training loss  0.194 in Step 1300\n",
      "Training loss  0.199 in Step 1400\n",
      "Training loss  0.184 in Step 1500\n",
      "Training loss  0.200 in Step 1600\n",
      "Training loss  0.186 in Step 1700\n",
      "※※※Training loss  0.196※※※\n",
      "Training timepoint saved\n",
      "Valid loss  0.199 in Step 0\n",
      "Valid loss  0.183 in Step 50\n",
      "Valid loss  0.179 in Step 100\n",
      "Valid loss  0.178 in Step 150\n",
      "Valid loss  0.176 in Step 200\n",
      "Valid loss  0.203 in Step 250\n",
      "Valid loss  0.181 in Step 300\n",
      "Valid loss  0.173 in Step 350\n",
      "Valid loss  0.184 in Step 400\n",
      "※※※Valid loss  0.183※※※\n",
      "Epoch 6\n",
      "Training loss  0.171 in Step 0\n",
      "Training loss  0.198 in Step 100\n",
      "Training loss  0.181 in Step 200\n",
      "Training loss  0.182 in Step 300\n",
      "Training loss  0.208 in Step 400\n",
      "Training loss  0.183 in Step 500\n",
      "Training loss  0.216 in Step 600\n",
      "Training loss  0.181 in Step 700\n",
      "Training loss  0.211 in Step 800\n",
      "Training loss  0.194 in Step 900\n",
      "Training loss  0.176 in Step 1000\n",
      "Training loss  0.184 in Step 1100\n",
      "Training loss  0.180 in Step 1200\n",
      "Training loss  0.202 in Step 1300\n",
      "Training loss  0.192 in Step 1400\n",
      "Training loss  0.182 in Step 1500\n",
      "Training loss  0.186 in Step 1600\n",
      "Training loss  0.187 in Step 1700\n",
      "※※※Training loss  0.190※※※\n",
      "Training timepoint saved\n",
      "Valid loss  0.237 in Step 0\n",
      "Valid loss  0.222 in Step 50\n",
      "Valid loss  0.219 in Step 100\n",
      "Valid loss  0.218 in Step 150\n",
      "Valid loss  0.217 in Step 200\n",
      "Valid loss  0.236 in Step 250\n",
      "Valid loss  0.216 in Step 300\n",
      "Valid loss  0.211 in Step 350\n",
      "Valid loss  0.223 in Step 400\n",
      "※※※Valid loss  0.222※※※\n",
      "Epoch 7\n",
      "Training loss  0.191 in Step 0\n",
      "Training loss  0.173 in Step 100\n",
      "Training loss  0.185 in Step 200\n",
      "Training loss  0.180 in Step 300\n",
      "Training loss  0.188 in Step 400\n",
      "Training loss  0.190 in Step 500\n",
      "Training loss  0.176 in Step 600\n",
      "Training loss  0.171 in Step 700\n",
      "Training loss  0.180 in Step 800\n",
      "Training loss  0.176 in Step 900\n",
      "Training loss  0.208 in Step 1000\n",
      "Training loss  0.192 in Step 1100\n",
      "Training loss  0.192 in Step 1200\n",
      "Training loss  0.190 in Step 1300\n",
      "Training loss  0.185 in Step 1400\n",
      "Training loss  0.185 in Step 1500\n",
      "Training loss  0.176 in Step 1600\n",
      "Training loss  0.179 in Step 1700\n",
      "※※※Training loss  0.184※※※\n",
      "Training timepoint saved\n",
      "Valid loss  0.250 in Step 0\n",
      "Valid loss  0.232 in Step 50\n",
      "Valid loss  0.231 in Step 100\n",
      "Valid loss  0.228 in Step 150\n",
      "Valid loss  0.226 in Step 200\n",
      "Valid loss  0.247 in Step 250\n",
      "Valid loss  0.228 in Step 300\n",
      "Valid loss  0.220 in Step 350\n",
      "Valid loss  0.234 in Step 400\n",
      "※※※Valid loss  0.233※※※\n",
      "Epoch 8\n",
      "Training loss  0.188 in Step 0\n",
      "Training loss  0.173 in Step 100\n",
      "Training loss  0.184 in Step 200\n",
      "Training loss  0.171 in Step 300\n",
      "Training loss  0.196 in Step 400\n",
      "Training loss  0.160 in Step 500\n",
      "Training loss  0.178 in Step 600\n",
      "Training loss  0.184 in Step 700\n",
      "Training loss  0.192 in Step 800\n",
      "Training loss  0.185 in Step 900\n",
      "Training loss  0.187 in Step 1000\n",
      "Training loss  0.169 in Step 1100\n",
      "Training loss  0.181 in Step 1200\n",
      "Training loss  0.178 in Step 1300\n",
      "Training loss  0.167 in Step 1400\n",
      "Training loss  0.168 in Step 1500\n",
      "Training loss  0.176 in Step 1600\n",
      "Training loss  0.175 in Step 1700\n",
      "※※※Training loss  0.179※※※\n",
      "Training timepoint saved\n",
      "Valid loss  0.264 in Step 0\n",
      "Valid loss  0.247 in Step 50\n",
      "Valid loss  0.245 in Step 100\n",
      "Valid loss  0.242 in Step 150\n",
      "Valid loss  0.241 in Step 200\n",
      "Valid loss  0.260 in Step 250\n",
      "Valid loss  0.241 in Step 300\n",
      "Valid loss  0.234 in Step 350\n",
      "Valid loss  0.246 in Step 400\n",
      "※※※Valid loss  0.246※※※\n",
      "Epoch 9\n",
      "Training loss  0.170 in Step 0\n",
      "Training loss  0.167 in Step 100\n",
      "Training loss  0.182 in Step 200\n",
      "Training loss  0.162 in Step 300\n",
      "Training loss  0.166 in Step 400\n",
      "Training loss  0.170 in Step 500\n",
      "Training loss  0.163 in Step 600\n",
      "Training loss  0.163 in Step 700\n",
      "Training loss  0.183 in Step 800\n",
      "Training loss  0.183 in Step 900\n",
      "Training loss  0.164 in Step 1000\n",
      "Training loss  0.184 in Step 1100\n",
      "Training loss  0.174 in Step 1200\n",
      "Training loss  0.157 in Step 1300\n",
      "Training loss  0.180 in Step 1400\n",
      "Training loss  0.169 in Step 1500\n",
      "Training loss  0.183 in Step 1600\n",
      "Training loss  0.185 in Step 1700\n",
      "※※※Training loss  0.176※※※\n",
      "Training timepoint saved\n",
      "Valid loss  0.294 in Step 0\n",
      "Valid loss  0.276 in Step 50\n",
      "Valid loss  0.275 in Step 100\n",
      "Valid loss  0.273 in Step 150\n",
      "Valid loss  0.272 in Step 200\n",
      "Valid loss  0.288 in Step 250\n",
      "Valid loss  0.270 in Step 300\n",
      "Valid loss  0.264 in Step 350\n",
      "Valid loss  0.275 in Step 400\n",
      "※※※Valid loss  0.276※※※\n",
      "Epoch 10\n",
      "Training loss  0.180 in Step 0\n",
      "Training loss  0.173 in Step 100\n",
      "Training loss  0.169 in Step 200\n",
      "Training loss  0.172 in Step 300\n",
      "Training loss  0.175 in Step 400\n",
      "Training loss  0.183 in Step 500\n",
      "Training loss  0.183 in Step 600\n",
      "Training loss  0.184 in Step 700\n",
      "Training loss  0.165 in Step 800\n",
      "Training loss  0.175 in Step 900\n",
      "Training loss  0.152 in Step 1000\n",
      "Training loss  0.162 in Step 1100\n",
      "Training loss  0.159 in Step 1200\n",
      "Training loss  0.184 in Step 1300\n",
      "Training loss  0.188 in Step 1400\n",
      "Training loss  0.167 in Step 1500\n",
      "Training loss  0.160 in Step 1600\n",
      "Training loss  0.162 in Step 1700\n",
      "※※※Training loss  0.173※※※\n",
      "Training timepoint saved\n",
      "Valid loss  0.304 in Step 0\n",
      "Valid loss  0.286 in Step 50\n",
      "Valid loss  0.284 in Step 100\n",
      "Valid loss  0.283 in Step 150\n",
      "Valid loss  0.280 in Step 200\n",
      "Valid loss  0.297 in Step 250\n",
      "Valid loss  0.279 in Step 300\n",
      "Valid loss  0.274 in Step 350\n",
      "Valid loss  0.283 in Step 400\n",
      "※※※Valid loss  0.285※※※\n",
      "Epoch 11\n",
      "Training loss  0.174 in Step 0\n",
      "Training loss  0.177 in Step 100\n",
      "Training loss  0.173 in Step 200\n"
     ]
    },
    {
     "ename": "KeyboardInterrupt",
     "evalue": "",
     "output_type": "error",
     "traceback": [
      "\u001b[0;31m---------------------------------------------------------------------------\u001b[0m",
      "\u001b[0;31mKeyboardInterrupt\u001b[0m                         Traceback (most recent call last)",
      "\u001b[1;32m/home/ldlmdl/Documents/wavln/scripts/A_10.ipynb Cell 25\u001b[0m line \u001b[0;36m2\n\u001b[1;32m      <a href='vscode-notebook-cell:/home/ldlmdl/Documents/wavln/scripts/A_10.ipynb#X33sZmlsZQ%3D%3D?line=0'>1</a>\u001b[0m \u001b[39mif\u001b[39;00m \u001b[39m__name__\u001b[39m \u001b[39m==\u001b[39m \u001b[39m\"\u001b[39m\u001b[39m__main__\u001b[39m\u001b[39m\"\u001b[39m: \n\u001b[0;32m----> <a href='vscode-notebook-cell:/home/ldlmdl/Documents/wavln/scripts/A_10.ipynb#X33sZmlsZQ%3D%3D?line=1'>2</a>\u001b[0m     train()\n",
      "\u001b[1;32m/home/ldlmdl/Documents/wavln/scripts/A_10.ipynb Cell 25\u001b[0m line \u001b[0;36m8\n\u001b[1;32m      <a href='vscode-notebook-cell:/home/ldlmdl/Documents/wavln/scripts/A_10.ipynb#X33sZmlsZQ%3D%3D?line=5'>6</a>\u001b[0m train_loss \u001b[39m=\u001b[39m \u001b[39m0.\u001b[39m\n\u001b[1;32m      <a href='vscode-notebook-cell:/home/ldlmdl/Documents/wavln/scripts/A_10.ipynb#X33sZmlsZQ%3D%3D?line=6'>7</a>\u001b[0m train_num \u001b[39m=\u001b[39m \u001b[39mlen\u001b[39m(train_loader)    \u001b[39m# train_loader\u001b[39;00m\n\u001b[0;32m----> <a href='vscode-notebook-cell:/home/ldlmdl/Documents/wavln/scripts/A_10.ipynb#X33sZmlsZQ%3D%3D?line=7'>8</a>\u001b[0m \u001b[39mfor\u001b[39;00m idx, (x, x_lens) \u001b[39min\u001b[39;00m \u001b[39menumerate\u001b[39m(train_loader):\n\u001b[1;32m      <a href='vscode-notebook-cell:/home/ldlmdl/Documents/wavln/scripts/A_10.ipynb#X33sZmlsZQ%3D%3D?line=8'>9</a>\u001b[0m     optimizer\u001b[39m.\u001b[39mzero_grad()\n\u001b[1;32m     <a href='vscode-notebook-cell:/home/ldlmdl/Documents/wavln/scripts/A_10.ipynb#X33sZmlsZQ%3D%3D?line=9'>10</a>\u001b[0m     y \u001b[39m=\u001b[39m x \n",
      "File \u001b[0;32m~/anaconda3/envs/wavln/lib/python3.11/site-packages/torch/utils/data/dataloader.py:633\u001b[0m, in \u001b[0;36m_BaseDataLoaderIter.__next__\u001b[0;34m(self)\u001b[0m\n\u001b[1;32m    630\u001b[0m \u001b[39mif\u001b[39;00m \u001b[39mself\u001b[39m\u001b[39m.\u001b[39m_sampler_iter \u001b[39mis\u001b[39;00m \u001b[39mNone\u001b[39;00m:\n\u001b[1;32m    631\u001b[0m     \u001b[39m# TODO(https://github.com/pytorch/pytorch/issues/76750)\u001b[39;00m\n\u001b[1;32m    632\u001b[0m     \u001b[39mself\u001b[39m\u001b[39m.\u001b[39m_reset()  \u001b[39m# type: ignore[call-arg]\u001b[39;00m\n\u001b[0;32m--> 633\u001b[0m data \u001b[39m=\u001b[39m \u001b[39mself\u001b[39;49m\u001b[39m.\u001b[39;49m_next_data()\n\u001b[1;32m    634\u001b[0m \u001b[39mself\u001b[39m\u001b[39m.\u001b[39m_num_yielded \u001b[39m+\u001b[39m\u001b[39m=\u001b[39m \u001b[39m1\u001b[39m\n\u001b[1;32m    635\u001b[0m \u001b[39mif\u001b[39;00m \u001b[39mself\u001b[39m\u001b[39m.\u001b[39m_dataset_kind \u001b[39m==\u001b[39m _DatasetKind\u001b[39m.\u001b[39mIterable \u001b[39mand\u001b[39;00m \\\n\u001b[1;32m    636\u001b[0m         \u001b[39mself\u001b[39m\u001b[39m.\u001b[39m_IterableDataset_len_called \u001b[39mis\u001b[39;00m \u001b[39mnot\u001b[39;00m \u001b[39mNone\u001b[39;00m \u001b[39mand\u001b[39;00m \\\n\u001b[1;32m    637\u001b[0m         \u001b[39mself\u001b[39m\u001b[39m.\u001b[39m_num_yielded \u001b[39m>\u001b[39m \u001b[39mself\u001b[39m\u001b[39m.\u001b[39m_IterableDataset_len_called:\n",
      "File \u001b[0;32m~/anaconda3/envs/wavln/lib/python3.11/site-packages/torch/utils/data/dataloader.py:1328\u001b[0m, in \u001b[0;36m_MultiProcessingDataLoaderIter._next_data\u001b[0;34m(self)\u001b[0m\n\u001b[1;32m   1325\u001b[0m     \u001b[39mreturn\u001b[39;00m \u001b[39mself\u001b[39m\u001b[39m.\u001b[39m_process_data(data)\n\u001b[1;32m   1327\u001b[0m \u001b[39massert\u001b[39;00m \u001b[39mnot\u001b[39;00m \u001b[39mself\u001b[39m\u001b[39m.\u001b[39m_shutdown \u001b[39mand\u001b[39;00m \u001b[39mself\u001b[39m\u001b[39m.\u001b[39m_tasks_outstanding \u001b[39m>\u001b[39m \u001b[39m0\u001b[39m\n\u001b[0;32m-> 1328\u001b[0m idx, data \u001b[39m=\u001b[39m \u001b[39mself\u001b[39;49m\u001b[39m.\u001b[39;49m_get_data()\n\u001b[1;32m   1329\u001b[0m \u001b[39mself\u001b[39m\u001b[39m.\u001b[39m_tasks_outstanding \u001b[39m-\u001b[39m\u001b[39m=\u001b[39m \u001b[39m1\u001b[39m\n\u001b[1;32m   1330\u001b[0m \u001b[39mif\u001b[39;00m \u001b[39mself\u001b[39m\u001b[39m.\u001b[39m_dataset_kind \u001b[39m==\u001b[39m _DatasetKind\u001b[39m.\u001b[39mIterable:\n\u001b[1;32m   1331\u001b[0m     \u001b[39m# Check for _IterableDatasetStopIteration\u001b[39;00m\n",
      "File \u001b[0;32m~/anaconda3/envs/wavln/lib/python3.11/site-packages/torch/utils/data/dataloader.py:1294\u001b[0m, in \u001b[0;36m_MultiProcessingDataLoaderIter._get_data\u001b[0;34m(self)\u001b[0m\n\u001b[1;32m   1290\u001b[0m     \u001b[39m# In this case, `self._data_queue` is a `queue.Queue`,. But we don't\u001b[39;00m\n\u001b[1;32m   1291\u001b[0m     \u001b[39m# need to call `.task_done()` because we don't use `.join()`.\u001b[39;00m\n\u001b[1;32m   1292\u001b[0m \u001b[39melse\u001b[39;00m:\n\u001b[1;32m   1293\u001b[0m     \u001b[39mwhile\u001b[39;00m \u001b[39mTrue\u001b[39;00m:\n\u001b[0;32m-> 1294\u001b[0m         success, data \u001b[39m=\u001b[39m \u001b[39mself\u001b[39;49m\u001b[39m.\u001b[39;49m_try_get_data()\n\u001b[1;32m   1295\u001b[0m         \u001b[39mif\u001b[39;00m success:\n\u001b[1;32m   1296\u001b[0m             \u001b[39mreturn\u001b[39;00m data\n",
      "File \u001b[0;32m~/anaconda3/envs/wavln/lib/python3.11/site-packages/torch/utils/data/dataloader.py:1132\u001b[0m, in \u001b[0;36m_MultiProcessingDataLoaderIter._try_get_data\u001b[0;34m(self, timeout)\u001b[0m\n\u001b[1;32m   1119\u001b[0m \u001b[39mdef\u001b[39;00m \u001b[39m_try_get_data\u001b[39m(\u001b[39mself\u001b[39m, timeout\u001b[39m=\u001b[39m_utils\u001b[39m.\u001b[39mMP_STATUS_CHECK_INTERVAL):\n\u001b[1;32m   1120\u001b[0m     \u001b[39m# Tries to fetch data from `self._data_queue` once for a given timeout.\u001b[39;00m\n\u001b[1;32m   1121\u001b[0m     \u001b[39m# This can also be used as inner loop of fetching without timeout, with\u001b[39;00m\n\u001b[0;32m   (...)\u001b[0m\n\u001b[1;32m   1129\u001b[0m     \u001b[39m# Returns a 2-tuple:\u001b[39;00m\n\u001b[1;32m   1130\u001b[0m     \u001b[39m#   (bool: whether successfully get data, any: data if successful else None)\u001b[39;00m\n\u001b[1;32m   1131\u001b[0m     \u001b[39mtry\u001b[39;00m:\n\u001b[0;32m-> 1132\u001b[0m         data \u001b[39m=\u001b[39m \u001b[39mself\u001b[39;49m\u001b[39m.\u001b[39;49m_data_queue\u001b[39m.\u001b[39;49mget(timeout\u001b[39m=\u001b[39;49mtimeout)\n\u001b[1;32m   1133\u001b[0m         \u001b[39mreturn\u001b[39;00m (\u001b[39mTrue\u001b[39;00m, data)\n\u001b[1;32m   1134\u001b[0m     \u001b[39mexcept\u001b[39;00m \u001b[39mException\u001b[39;00m \u001b[39mas\u001b[39;00m e:\n\u001b[1;32m   1135\u001b[0m         \u001b[39m# At timeout and error, we manually check whether any worker has\u001b[39;00m\n\u001b[1;32m   1136\u001b[0m         \u001b[39m# failed. Note that this is the only mechanism for Windows to detect\u001b[39;00m\n\u001b[1;32m   1137\u001b[0m         \u001b[39m# worker failures.\u001b[39;00m\n",
      "File \u001b[0;32m~/anaconda3/envs/wavln/lib/python3.11/multiprocessing/queues.py:122\u001b[0m, in \u001b[0;36mQueue.get\u001b[0;34m(self, block, timeout)\u001b[0m\n\u001b[1;32m    120\u001b[0m         \u001b[39mself\u001b[39m\u001b[39m.\u001b[39m_rlock\u001b[39m.\u001b[39mrelease()\n\u001b[1;32m    121\u001b[0m \u001b[39m# unserialize the data after having released the lock\u001b[39;00m\n\u001b[0;32m--> 122\u001b[0m \u001b[39mreturn\u001b[39;00m _ForkingPickler\u001b[39m.\u001b[39mloads(res)\n",
      "File \u001b[0;32m~/anaconda3/envs/wavln/lib/python3.11/site-packages/torch/multiprocessing/reductions.py:312\u001b[0m, in \u001b[0;36mrebuild_storage_fd\u001b[0;34m(cls, df, size)\u001b[0m\n\u001b[1;32m    310\u001b[0m \u001b[39mif\u001b[39;00m storage \u001b[39mis\u001b[39;00m \u001b[39mnot\u001b[39;00m \u001b[39mNone\u001b[39;00m:\n\u001b[1;32m    311\u001b[0m     \u001b[39mreturn\u001b[39;00m storage\n\u001b[0;32m--> 312\u001b[0m storage \u001b[39m=\u001b[39m \u001b[39mcls\u001b[39;49m\u001b[39m.\u001b[39;49m_new_shared_fd_cpu(fd, size)\n\u001b[1;32m    313\u001b[0m shared_cache[fd_id(fd)] \u001b[39m=\u001b[39m StorageWeakRef(storage)\n\u001b[1;32m    314\u001b[0m \u001b[39mreturn\u001b[39;00m storage\n",
      "\u001b[0;31mKeyboardInterrupt\u001b[0m: "
     ]
    }
   ],
   "source": [
    "if __name__ == \"__main__\": \n",
    "    train()"
   ]
  },
  {
   "cell_type": "code",
   "execution_count": 22,
   "metadata": {
    "id": "KSTTwi31xAvh"
   },
   "outputs": [],
   "source": [
    "### Save\n",
    "train_losses.save()\n",
    "\n",
    "valid_losses.save()\n",
    "\n",
    "text_hist.save()"
   ]
  },
  {
   "cell_type": "code",
   "execution_count": 23,
   "metadata": {
    "colab": {
     "base_uri": "https://localhost:8080/",
     "height": 281
    },
    "id": "3yaMyIzH12RD",
    "outputId": "1426c24a-c60c-48c2-8690-f3a07bb9ba7b"
   },
   "outputs": [
    {
     "data": {
      "text/plain": [
       "<matplotlib.legend.Legend at 0x7f60a0515d10>"
      ]
     },
     "execution_count": 23,
     "metadata": {},
     "output_type": "execute_result"
    },
    {
     "data": {
      "image/png": "[encoded data removed]",
      "text/plain": [
       "<Figure size 640x480 with 1 Axes>"
      ]
     },
     "metadata": {},
     "output_type": "display_data"
    }
   ],
   "source": [
    "plt.plot(train_losses.get(), label='Train')\n",
    "plt.plot(valid_losses.get(), label='Valid')\n",
    "plt.title(\"Learning Curve Loss\")\n",
    "plt.legend()"
   ]
  },
  {
   "cell_type": "markdown",
   "metadata": {},
   "source": [
    "## Conclusion\n",
    "This model should converge to loss around 0.49x. "
   ]
  },
  {
   "cell_type": "markdown",
   "metadata": {},
   "source": []
  }
 ],
 "metadata": {
  "accelerator": "GPU",
  "colab": {
   "provenance": []
  },
  "gpuClass": "standard",
  "kernelspec": {
   "display_name": "Python 3 (ipykernel)",
   "language": "python",
   "name": "python3"
  },
  "language_info": {
   "codemirror_mode": {
    "name": "ipython",
    "version": 3
   },
   "file_extension": ".py",
   "mimetype": "text/x-python",
   "name": "python",
   "nbconvert_exporter": "python",
   "pygments_lexer": "ipython3",
   "version": "3.11.3"
  }
 },
 "nbformat": 4,
 "nbformat_minor": 4
}
