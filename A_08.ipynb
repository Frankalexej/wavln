{
 "cells": [
  {
   "attachments": {},
   "cell_type": "markdown",
   "metadata": {
    "id": "B-mljeGlqMqo"
   },
   "source": [
    "# AI Lab Run\n",
    "V1: New dataset, old model.   \n",
    "A3: untrain model.   \n",
    "A5: this time we change the traning target to predicting the phoneme of each frame (which we can grab from the matched phone guide). From this we again check the several matters concerned and evaluate how well it can be guided to learned the phonemes. \n",
    "\n",
    "A6: This time we use CTC as prediction loss. \n",
    "\n",
    "A7: we do bidirectional LSTM. Bidirectional LSTM using pytorch. (B, L, H) -> (B, L, 2H)\n",
    "\n",
    "A8: We resume to reconstruction model. But this time bidirectional. Also following the structure of Mockingjoy, not using attention but directly predict the reconstruction based on the BiLSTM result. "
   ]
  },
  {
   "cell_type": "code",
   "execution_count": 2,
   "metadata": {
    "id": "jN5DNuExjwet"
   },
   "outputs": [],
   "source": [
    "import torch\n",
    "from torch import nn\n",
    "import torch.nn.functional as F\n",
    "from torch.nn.utils.rnn import pad_sequence, pack_sequence\n",
    "from torch import optim\n",
    "from torch.utils.data import Dataset, DataLoader, random_split\n",
    "import matplotlib.pyplot as plt\n",
    "import numpy as np\n",
    "# from torchaudio.models.decoder import ctc_decoder"
   ]
  },
  {
   "cell_type": "code",
   "execution_count": 3,
   "metadata": {},
   "outputs": [],
   "source": [
    "from model_model import ReconMockingjoyNet as TheLearner\n",
    "from model_dataset import DS_Tools\n",
    "from model_dataset import WordDataset as ThisDataset\n",
    "from model_dataset import Normalizer, DeNormalizer, TokenMap\n",
    "# from model_dataset import MelSpecTransformDB as TheTransform\n",
    "from model_dataset import MelSpecTransformDB as TheTransform\n",
    "from paths import *\n",
    "from misc_my_utils import *\n",
    "from misc_recorder import *\n",
    "from model_loss import *\n",
    "from model_padding import generate_mask_from_lengths_mat"
   ]
  },
  {
   "attachments": {},
   "cell_type": "markdown",
   "metadata": {
    "tags": []
   },
   "source": [
    "### Dirs"
   ]
  },
  {
   "cell_type": "code",
   "execution_count": 4,
   "metadata": {
    "id": "iGouCDYD3h18"
   },
   "outputs": [],
   "source": [
    "rec_dir = train_cut_word_\n",
    "train_guide_path = os.path.join(src_, \"guide_train.csv\")\n",
    "valid_guide_path = os.path.join(src_, \"guide_validation.csv\")\n",
    "test_guide_path = os.path.join(src_, \"guide_test.csv\")"
   ]
  },
  {
   "attachments": {},
   "cell_type": "markdown",
   "metadata": {},
   "source": [
    "### Constants"
   ]
  },
  {
   "cell_type": "code",
   "execution_count": 5,
   "metadata": {},
   "outputs": [],
   "source": [
    "BATCH_SIZE = 512\n",
    "\n",
    "INPUT_DIM = 64\n",
    "OUTPUT_DIM = 64 \n",
    "\n",
    "INTER_DIM_0 = 32\n",
    "INTER_DIM_1 = 16\n",
    "INTER_DIM_2 = 8\n",
    "\n",
    "ENC_SIZE_LIST = [INPUT_DIM, INTER_DIM_0, INTER_DIM_1, INTER_DIM_2]\n",
    "DEC_SIZE_LIST = [OUTPUT_DIM, INTER_DIM_0, INTER_DIM_1, 2*INTER_DIM_2]\n",
    "\n",
    "DROPOUT = 0.5\n",
    "\n",
    "REC_SAMPLE_RATE = 16000\n",
    "N_FFT = 400\n",
    "N_MELS = 64\n",
    "\n",
    "LOADER_WORKER = 32\n",
    "# LOADER_WORKER = 0"
   ]
  },
  {
   "cell_type": "markdown",
   "metadata": {},
   "source": [
    "## Prepare for this time of training"
   ]
  },
  {
   "cell_type": "code",
   "execution_count": 6,
   "metadata": {
    "id": "ofsEE6OaoyPh"
   },
   "outputs": [
    {
     "name": "stdout",
     "output_type": "stream",
     "text": [
      "A_05-0205194558\n"
     ]
    }
   ],
   "source": [
    "ts = str(get_timestamp())\n",
    "# ts = \"0205143450\"\n",
    "stop_epoch = \"29\"\n",
    "train_name = \"A_05\"\n",
    "model_save_dir = os.path.join(model_save_, f\"{train_name}-{ts}\")\n",
    "mk(model_save_dir)\n",
    "print(f\"{train_name}-{ts}\")\n",
    "\n",
    "train_losses = ListRecorder(os.path.join(model_save_dir, \"train.loss\"))\n",
    "valid_losses = ListRecorder(os.path.join(model_save_dir, \"valid.loss\"))\n",
    "\n",
    "train_accs = ListRecorder(os.path.join(model_save_dir, \"train.acc\"))\n",
    "valid_accs = ListRecorder(os.path.join(model_save_dir, \"valid.acc\"))\n",
    "text_hist = HistRecorder(os.path.join(model_save_dir, \"trainhist.txt\"))"
   ]
  },
  {
   "cell_type": "markdown",
   "metadata": {},
   "source": [
    "0205185813: hiddim = 256. Totally overfitting. Very bad, unlike what Mockingjoy suggests. Dropout = 0.1\n",
    "\n",
    "0205194558: hiddim = 8. Dropout = 0.5. "
   ]
  },
  {
   "cell_type": "code",
   "execution_count": 7,
   "metadata": {
    "id": "-T4OYaoXsxe_"
   },
   "outputs": [],
   "source": [
    "READ = False\n",
    "# READ = True"
   ]
  },
  {
   "cell_type": "code",
   "execution_count": 8,
   "metadata": {},
   "outputs": [],
   "source": [
    "DATAREAD = False"
   ]
  },
  {
   "cell_type": "code",
   "execution_count": 9,
   "metadata": {
    "id": "6OCx4nqP40fz"
   },
   "outputs": [],
   "source": [
    "with open(os.path.join(src_, \"no-stress-seg.dict\"), \"rb\") as file:\n",
    "    # Load the object from the file\n",
    "    mylist = pickle.load(file)\n",
    "    mylist = [\"BLANK\"] + mylist\n",
    "\n",
    "# Now you can use the loaded object\n",
    "mymap = TokenMap(mylist)\n",
    "\n",
    "mytrans = TheTransform(sample_rate=REC_SAMPLE_RATE, \n",
    "                       n_fft=N_FFT, n_mels=N_MELS, \n",
    "                       normalizer=Normalizer.norm_mvn, \n",
    "                       denormalizer=DeNormalizer.norm_mvn)\n",
    "\n",
    "train_ds = ThisDataset(rec_dir, \n",
    "                       train_guide_path, \n",
    "                       mapper=mymap, \n",
    "                       transform=mytrans)\n",
    "valid_ds = ThisDataset(rec_dir, \n",
    "                       valid_guide_path, \n",
    "                       mapper=mymap, \n",
    "                       transform=mytrans)\n",
    "\n",
    "use_proportion = 0.5\n",
    "\n",
    "if READ or DATAREAD: \n",
    "    train_ds_indices = DS_Tools.read_indices(os.path.join(model_save_dir, \"train.use\"))\n",
    "    valid_ds_indices = DS_Tools.read_indices(os.path.join(model_save_dir, \"valid.use\"))\n",
    "\n",
    "    use_train_ds = torch.utils.data.Subset(train_ds, train_ds_indices)\n",
    "    use_valid_ds = torch.utils.data.Subset(valid_ds, valid_ds_indices)\n",
    "else: \n",
    "    # train data\n",
    "    use_len = int(use_proportion * len(train_ds))\n",
    "    remain_len = len(train_ds) - use_len\n",
    "    use_train_ds, remain_ds = random_split(train_ds, [use_len, remain_len])\n",
    "\n",
    "    # valid data\n",
    "    use_len = int(use_proportion * len(valid_ds))\n",
    "    remain_len = len(valid_ds) - use_len\n",
    "    use_valid_ds, remain_ds = random_split(valid_ds, [use_len, remain_len])\n",
    "\n",
    "    # NOTE: we don't need to save the cut-small subset, because after cutting-small, \n",
    "    # the saved train and valid separations will reflect this\n",
    "    DS_Tools.save_indices(os.path.join(model_save_dir, \"train.use\"), use_train_ds.indices)\n",
    "    DS_Tools.save_indices(os.path.join(model_save_dir, \"valid.use\"), use_valid_ds.indices)\n",
    "\n",
    "train_loader = DataLoader(use_train_ds, batch_size=BATCH_SIZE, shuffle=True, num_workers=LOADER_WORKER, collate_fn=ThisDataset.collate_fn)\n",
    "train_num = len(train_loader.dataset)\n",
    "\n",
    "valid_loader = DataLoader(use_valid_ds, batch_size=BATCH_SIZE, shuffle=False, num_workers=LOADER_WORKER, collate_fn=ThisDataset.collate_fn)\n",
    "valid_num = len(valid_loader.dataset)"
   ]
  },
  {
   "cell_type": "code",
   "execution_count": 10,
   "metadata": {},
   "outputs": [
    {
     "data": {
      "text/plain": [
       "(386384, 51904, 755, 102)"
      ]
     },
     "execution_count": 10,
     "metadata": {},
     "output_type": "execute_result"
    }
   ],
   "source": [
    "train_num, valid_num, len(train_loader), len(valid_loader)"
   ]
  },
  {
   "cell_type": "code",
   "execution_count": 11,
   "metadata": {},
   "outputs": [
    {
     "name": "stdout",
     "output_type": "stream",
     "text": [
      "torch.Size([512, 67, 64])\n"
     ]
    }
   ],
   "source": [
    "# Load sample data from train_loader\n",
    "sample_data = next(iter(valid_loader))\n",
    "xx_pad, x_lens = sample_data\n",
    "print(xx_pad.shape)"
   ]
  },
  {
   "cell_type": "code",
   "execution_count": 12,
   "metadata": {},
   "outputs": [
    {
     "data": {
      "image/png": "[encoded data removed]",
      "text/plain": [
       "<Figure size 1200x800 with 7 Axes>"
      ]
     },
     "metadata": {},
     "output_type": "display_data"
    }
   ],
   "source": [
    "# Set the random seed for reproducibility\n",
    "# random.seed(101)\n",
    "# Generate six random indices\n",
    "# random_indices = random.sample(range(len(xx_pad)), 6)\n",
    "random_indices = list(range(6, 12))\n",
    "\n",
    "# Plot the spectrograms and mark the corresponding seg\n",
    "fig, axes = plt.subplots(2, 3, figsize=(12, 8))\n",
    "axes = axes.flatten()\n",
    "\n",
    "for i, idx in enumerate(random_indices):\n",
    "    spectrogram = xx_pad[idx]\n",
    "    \n",
    "    ax = axes[i]\n",
    "    img = ax.imshow(spectrogram.T, aspect='auto', origin=\"lower\")\n",
    "    # ax.axvline(x=segment, color='red', linestyle='--')\n",
    "    # ax.axvline(x=segment[1], color='red', linestyle='--')\n",
    "    ax.set_title(f'Spectrogram')\n",
    "    ax.set_xlabel('Time')\n",
    "    ax.set_ylabel('Frequency')\n",
    "plt.tight_layout()\n",
    "plt.colorbar(img,ax=axes)\n",
    "plt.show()"
   ]
  },
  {
   "cell_type": "markdown",
   "metadata": {},
   "source": [
    "## Prepare model"
   ]
  },
  {
   "cell_type": "code",
   "execution_count": 13,
   "metadata": {},
   "outputs": [],
   "source": [
    "device = torch.device('cuda' if torch.cuda.is_available() else 'cpu')\n",
    "# model_loss = nn.CTCLoss(blank=mymap.encode(\"BLANK\"))\n",
    "model_loss = MaskedLoss(nn.MSELoss(reduction=\"none\"))\n",
    "\n",
    "model = TheLearner(enc_size_list=ENC_SIZE_LIST, dec_size_list=DEC_SIZE_LIST, num_layers=3)\n",
    "model.to(device)\n",
    "optimizer = optim.Adam(model.parameters(), lr=0.001)\n",
    "# optimizer = optim.SGD(params=model.parameters(), lr=1e-3, momentum=0.9)\n",
    "\n",
    "model_str = str(model)\n",
    "model_txt_path = os.path.join(model_save_dir, \"model.txt\")\n",
    "\n",
    "with open(model_txt_path, \"w\") as f:\n",
    "    f.write(model_str)"
   ]
  },
  {
   "cell_type": "code",
   "execution_count": 14,
   "metadata": {},
   "outputs": [
    {
     "data": {
      "text/plain": [
       "ReconMockingjoyNet(\n",
       "  (encoder): MockingjoyEncoder(\n",
       "    (lin_1): Linear(in_features=64, out_features=8, bias=True)\n",
       "    (rnn): LSTM(8, 8, num_layers=3, batch_first=True, dropout=0.5, bidirectional=True)\n",
       "  )\n",
       "  (decoder): MockingjoyDecoder(\n",
       "    (lin_1): Linear(in_features=16, out_features=16, bias=True)\n",
       "    (lin_2): Linear(in_features=16, out_features=64, bias=True)\n",
       "    (act): ReLU()\n",
       "    (norm): LayerNorm((16,), eps=1e-05, elementwise_affine=True)\n",
       "    (dropout): Dropout(p=0.5, inplace=False)\n",
       "  )\n",
       ")"
      ]
     },
     "execution_count": 14,
     "metadata": {},
     "output_type": "execute_result"
    }
   ],
   "source": [
    "# initialize model weights\n",
    "def init_weights(m):\n",
    "    if isinstance(m, nn.Linear):\n",
    "        torch.nn.init.orthogonal_(m.weight)\n",
    "        m.bias.data.fill_(0.01)\n",
    "    if isinstance(m, nn.LSTM): \n",
    "        for name, p in m.named_parameters():\n",
    "            if \"weight\" in name: \n",
    "                nn.init.orthogonal_(p)\n",
    "            elif \"bias\" in name: \n",
    "                nn.init.constant_(p, 0)\n",
    "\n",
    "model.apply(init_weights)"
   ]
  },
  {
   "cell_type": "code",
   "execution_count": 15,
   "metadata": {},
   "outputs": [],
   "source": [
    "model_parameters = filter(lambda p: p.requires_grad, model.parameters())\n",
    "params = sum([np.prod(p.size()) for p in model_parameters])"
   ]
  },
  {
   "cell_type": "code",
   "execution_count": 16,
   "metadata": {},
   "outputs": [
    {
     "data": {
      "text/plain": [
       "6392"
      ]
     },
     "execution_count": 16,
     "metadata": {},
     "output_type": "execute_result"
    }
   ],
   "source": [
    "params"
   ]
  },
  {
   "cell_type": "markdown",
   "metadata": {},
   "source": [
    "### Load model if READ"
   ]
  },
  {
   "cell_type": "code",
   "execution_count": 17,
   "metadata": {},
   "outputs": [],
   "source": [
    "if READ: \n",
    "    valid_losses.read()\n",
    "    train_losses.read()\n",
    "\n",
    "    model_name = \"{}.pt\".format(stop_epoch)\n",
    "    model_path = os.path.join(model_save_dir, model_name)\n",
    "    state = torch.load(model_path)\n",
    "\n",
    "    model.load_state_dict(state)\n",
    "    model.to(device)"
   ]
  },
  {
   "cell_type": "code",
   "execution_count": 19,
   "metadata": {},
   "outputs": [],
   "source": [
    "EPOCHS = 30\n",
    "BASE = 0"
   ]
  },
  {
   "cell_type": "code",
   "execution_count": 20,
   "metadata": {
    "colab": {
     "base_uri": "https://localhost:8080/"
    },
    "id": "y2n7doAD1uRi",
    "outputId": "e9c5bcb7-72db-4238-e83f-36e4dbe35748"
   },
   "outputs": [],
   "source": [
    "def train(): \n",
    "    for epoch in range(BASE, BASE + EPOCHS):\n",
    "        text_hist.print(\"Epoch {}\".format(epoch))\n",
    "\n",
    "        model.train()\n",
    "        train_loss = 0.\n",
    "        train_num = len(train_loader)    # train_loader\n",
    "        for idx, (x, x_lens) in enumerate(train_loader):\n",
    "            # y_lens should be the same as x_lens\n",
    "            optimizer.zero_grad()\n",
    "            y = x\n",
    "            x_mask = generate_mask_from_lengths_mat(x_lens, device=device)\n",
    "            \n",
    "            x = x.to(device)\n",
    "            y = y.to(device)\n",
    "\n",
    "            x_hat = model(x, x_lens, x_mask)\n",
    "\n",
    "            loss = model_loss.get_loss(x_hat, y, x_mask)\n",
    "\n",
    "            train_loss += loss.item()\n",
    "\n",
    "            loss.backward()\n",
    "            \n",
    "            # # torch.nn.utils.clip_grad_norm_(model.parameters(), clip_value)\n",
    "            # # 这个函数计算的是全局梯度范数\n",
    "            # # torch.nn.utils.clip_grad_norm(parameters=model.parameters(), max_norm=5, norm_type=2)\n",
    "            # torch.nn.utils.clip_grad_norm_(parameters=model.parameters(), max_norm=5, norm_type=2)\n",
    "            # # parameters: an iterable of Variables that will have gradients normalized\n",
    "            # # max_norm: max norm of the gradients(阈值设定)\n",
    "            # # norm_type: type of the used p-norm. Can be'inf'for infinity norm(定义范数类型)\n",
    "\n",
    "            optimizer.step()\n",
    "            # pred = model.predict_on_output(x_hat)\n",
    "            # this_correct, this_total = count_correct(pred, y, x_mask)\n",
    "            # train_total += this_total\n",
    "            # train_correct += this_correct\n",
    "\n",
    "            if idx % 100 == 0:\n",
    "                text_hist.print(f\"Training loss {loss: .3f} in Step {idx}\")\n",
    "\n",
    "        train_losses.append(train_loss / train_num)\n",
    "        text_hist.print(f\"※※※Training loss {train_loss / train_num: .3f}※※※\")\n",
    "\n",
    "        last_model_name = \"{}.pt\".format(epoch)\n",
    "        torch.save(model.state_dict(), os.path.join(model_save_dir, last_model_name))\n",
    "\n",
    "\n",
    "        model.eval()\n",
    "        valid_loss = 0.\n",
    "        valid_num = len(valid_loader)\n",
    "        for idx, (x, x_lens) in enumerate(valid_loader):\n",
    "            y = x\n",
    "            x_mask = generate_mask_from_lengths_mat(x_lens, device=device)\n",
    "            \n",
    "            x = x.to(device)\n",
    "            y = y.to(device)\n",
    "\n",
    "            x_hat = model(x, x_lens, x_mask)\n",
    "\n",
    "            loss = model_loss.get_loss(x_hat, y, x_mask)\n",
    "\n",
    "            valid_loss += loss.item()\n",
    "\n",
    "            if idx % 50 == 0:\n",
    "                text_hist.print(f\"Valid loss {loss: .3f} in Step {idx}\")\n",
    "\n",
    "        valid_losses.append(valid_loss / valid_num)\n",
    "\n",
    "        text_hist.print(f\"※※※Valid loss {valid_loss / valid_num: .3f}※※※\")"
   ]
  },
  {
   "cell_type": "code",
   "execution_count": 21,
   "metadata": {},
   "outputs": [
    {
     "name": "stdout",
     "output_type": "stream",
     "text": [
      "Epoch 0\n",
      "Training loss  1.258 in Step 0\n",
      "Training loss  0.538 in Step 100\n",
      "Training loss  0.418 in Step 200\n",
      "Training loss  0.368 in Step 300\n",
      "Training loss  0.347 in Step 400\n",
      "Training loss  0.338 in Step 500\n",
      "Training loss  0.324 in Step 600\n",
      "Training loss  0.323 in Step 700\n",
      "※※※Training loss  0.422※※※\n",
      "Valid loss  0.273 in Step 0\n",
      "Valid loss  0.265 in Step 50\n",
      "Valid loss  0.261 in Step 100\n",
      "※※※Valid loss  0.267※※※\n",
      "Epoch 1\n",
      "Training loss  0.324 in Step 0\n",
      "Training loss  0.320 in Step 100\n",
      "Training loss  0.311 in Step 200\n",
      "Training loss  0.316 in Step 300\n",
      "Training loss  0.307 in Step 400\n",
      "Training loss  0.308 in Step 500\n",
      "Training loss  0.316 in Step 600\n",
      "Training loss  0.314 in Step 700\n",
      "※※※Training loss  0.317※※※\n",
      "Valid loss  0.256 in Step 0\n",
      "Valid loss  0.249 in Step 50\n",
      "Valid loss  0.247 in Step 100\n",
      "※※※Valid loss  0.252※※※\n",
      "Epoch 2\n",
      "Training loss  0.309 in Step 0\n",
      "Training loss  0.313 in Step 100\n",
      "Training loss  0.310 in Step 200\n",
      "Training loss  0.312 in Step 300\n",
      "Training loss  0.314 in Step 400\n",
      "Training loss  0.306 in Step 500\n",
      "Training loss  0.304 in Step 600\n",
      "Training loss  0.306 in Step 700\n",
      "※※※Training loss  0.311※※※\n",
      "Valid loss  0.246 in Step 0\n",
      "Valid loss  0.239 in Step 50\n",
      "Valid loss  0.237 in Step 100\n",
      "※※※Valid loss  0.242※※※\n",
      "Epoch 3\n",
      "Training loss  0.316 in Step 0\n",
      "Training loss  0.297 in Step 100\n",
      "Training loss  0.308 in Step 200\n",
      "Training loss  0.298 in Step 300\n",
      "Training loss  0.285 in Step 400\n",
      "Training loss  0.292 in Step 500\n",
      "Training loss  0.290 in Step 600\n",
      "Training loss  0.290 in Step 700\n",
      "※※※Training loss  0.299※※※\n",
      "Valid loss  0.212 in Step 0\n",
      "Valid loss  0.206 in Step 50\n",
      "Valid loss  0.205 in Step 100\n",
      "※※※Valid loss  0.209※※※\n",
      "Epoch 4\n",
      "Training loss  0.299 in Step 0\n",
      "Training loss  0.292 in Step 100\n",
      "Training loss  0.289 in Step 200\n",
      "Training loss  0.293 in Step 300\n",
      "Training loss  0.294 in Step 400\n",
      "Training loss  0.289 in Step 500\n",
      "Training loss  0.292 in Step 600\n",
      "Training loss  0.295 in Step 700\n",
      "※※※Training loss  0.291※※※\n",
      "Valid loss  0.210 in Step 0\n",
      "Valid loss  0.205 in Step 50\n",
      "Valid loss  0.203 in Step 100\n",
      "※※※Valid loss  0.208※※※\n",
      "Epoch 5\n",
      "Training loss  0.289 in Step 0\n",
      "Training loss  0.291 in Step 100\n",
      "Training loss  0.286 in Step 200\n",
      "Training loss  0.291 in Step 300\n",
      "Training loss  0.280 in Step 400\n",
      "Training loss  0.286 in Step 500\n",
      "Training loss  0.290 in Step 600\n",
      "Training loss  0.292 in Step 700\n",
      "※※※Training loss  0.289※※※\n",
      "Valid loss  0.211 in Step 0\n",
      "Valid loss  0.206 in Step 50\n",
      "Valid loss  0.204 in Step 100\n",
      "※※※Valid loss  0.208※※※\n",
      "Epoch 6\n",
      "Training loss  0.293 in Step 0\n",
      "Training loss  0.286 in Step 100\n",
      "Training loss  0.297 in Step 200\n",
      "Training loss  0.278 in Step 300\n",
      "Training loss  0.282 in Step 400\n",
      "Training loss  0.292 in Step 500\n",
      "Training loss  0.285 in Step 600\n",
      "Training loss  0.290 in Step 700\n",
      "※※※Training loss  0.288※※※\n",
      "Valid loss  0.213 in Step 0\n",
      "Valid loss  0.208 in Step 50\n",
      "Valid loss  0.205 in Step 100\n",
      "※※※Valid loss  0.210※※※\n",
      "Epoch 7\n",
      "Training loss  0.288 in Step 0\n",
      "Training loss  0.290 in Step 100\n",
      "Training loss  0.277 in Step 200\n",
      "Training loss  0.289 in Step 300\n",
      "Training loss  0.286 in Step 400\n",
      "Training loss  0.288 in Step 500\n",
      "Training loss  0.290 in Step 600\n",
      "Training loss  0.283 in Step 700\n",
      "※※※Training loss  0.287※※※\n",
      "Valid loss  0.213 in Step 0\n",
      "Valid loss  0.208 in Step 50\n",
      "Valid loss  0.206 in Step 100\n",
      "※※※Valid loss  0.210※※※\n",
      "Epoch 8\n",
      "Training loss  0.283 in Step 0\n",
      "Training loss  0.278 in Step 100\n",
      "Training loss  0.286 in Step 200\n",
      "Training loss  0.283 in Step 300\n",
      "Training loss  0.291 in Step 400\n",
      "Training loss  0.288 in Step 500\n",
      "Training loss  0.288 in Step 600\n",
      "Training loss  0.286 in Step 700\n",
      "※※※Training loss  0.286※※※\n",
      "Valid loss  0.212 in Step 0\n",
      "Valid loss  0.207 in Step 50\n",
      "Valid loss  0.205 in Step 100\n",
      "※※※Valid loss  0.209※※※\n",
      "Epoch 9\n",
      "Training loss  0.283 in Step 0\n",
      "Training loss  0.291 in Step 100\n",
      "Training loss  0.287 in Step 200\n",
      "Training loss  0.289 in Step 300\n",
      "Training loss  0.289 in Step 400\n",
      "Training loss  0.284 in Step 500\n",
      "Training loss  0.287 in Step 600\n",
      "Training loss  0.285 in Step 700\n",
      "※※※Training loss  0.285※※※\n",
      "Valid loss  0.213 in Step 0\n",
      "Valid loss  0.209 in Step 50\n",
      "Valid loss  0.206 in Step 100\n",
      "※※※Valid loss  0.211※※※\n",
      "Epoch 10\n",
      "Training loss  0.291 in Step 0\n",
      "Training loss  0.286 in Step 100\n",
      "Training loss  0.281 in Step 200\n",
      "Training loss  0.289 in Step 300\n",
      "Training loss  0.290 in Step 400\n",
      "Training loss  0.287 in Step 500\n",
      "Training loss  0.287 in Step 600\n",
      "Training loss  0.289 in Step 700\n",
      "※※※Training loss  0.285※※※\n",
      "Valid loss  0.213 in Step 0\n",
      "Valid loss  0.209 in Step 50\n",
      "Valid loss  0.206 in Step 100\n",
      "※※※Valid loss  0.211※※※\n",
      "Epoch 11\n",
      "Training loss  0.292 in Step 0\n",
      "Training loss  0.282 in Step 100\n",
      "Training loss  0.288 in Step 200\n",
      "Training loss  0.286 in Step 300\n",
      "Training loss  0.283 in Step 400\n",
      "Training loss  0.285 in Step 500\n",
      "Training loss  0.288 in Step 600\n",
      "Training loss  0.275 in Step 700\n",
      "※※※Training loss  0.284※※※\n",
      "Valid loss  0.214 in Step 0\n",
      "Valid loss  0.210 in Step 50\n",
      "Valid loss  0.207 in Step 100\n",
      "※※※Valid loss  0.212※※※\n",
      "Epoch 12\n",
      "Training loss  0.288 in Step 0\n",
      "Training loss  0.282 in Step 100\n",
      "Training loss  0.280 in Step 200\n",
      "Training loss  0.281 in Step 300\n",
      "Training loss  0.287 in Step 400\n",
      "Training loss  0.281 in Step 500\n",
      "Training loss  0.288 in Step 600\n",
      "Training loss  0.290 in Step 700\n",
      "※※※Training loss  0.284※※※\n",
      "Valid loss  0.215 in Step 0\n",
      "Valid loss  0.210 in Step 50\n",
      "Valid loss  0.208 in Step 100\n",
      "※※※Valid loss  0.212※※※\n",
      "Epoch 13\n",
      "Training loss  0.277 in Step 0\n",
      "Training loss  0.291 in Step 100\n",
      "Training loss  0.282 in Step 200\n",
      "Training loss  0.278 in Step 300\n",
      "Training loss  0.290 in Step 400\n",
      "Training loss  0.284 in Step 500\n",
      "Training loss  0.279 in Step 600\n",
      "Training loss  0.290 in Step 700\n",
      "※※※Training loss  0.284※※※\n",
      "Valid loss  0.213 in Step 0\n",
      "Valid loss  0.208 in Step 50\n",
      "Valid loss  0.205 in Step 100\n",
      "※※※Valid loss  0.210※※※\n",
      "Epoch 14\n",
      "Training loss  0.284 in Step 0\n",
      "Training loss  0.278 in Step 100\n",
      "Training loss  0.285 in Step 200\n",
      "Training loss  0.283 in Step 300\n",
      "Training loss  0.279 in Step 400\n",
      "Training loss  0.279 in Step 500\n",
      "Training loss  0.284 in Step 600\n",
      "Training loss  0.293 in Step 700\n",
      "※※※Training loss  0.284※※※\n",
      "Valid loss  0.215 in Step 0\n",
      "Valid loss  0.211 in Step 50\n",
      "Valid loss  0.208 in Step 100\n",
      "※※※Valid loss  0.213※※※\n",
      "Epoch 15\n",
      "Training loss  0.282 in Step 0\n",
      "Training loss  0.287 in Step 100\n",
      "Training loss  0.282 in Step 200\n",
      "Training loss  0.280 in Step 300\n",
      "Training loss  0.287 in Step 400\n",
      "Training loss  0.286 in Step 500\n",
      "Training loss  0.280 in Step 600\n",
      "Training loss  0.284 in Step 700\n",
      "※※※Training loss  0.283※※※\n",
      "Valid loss  0.214 in Step 0\n",
      "Valid loss  0.209 in Step 50\n",
      "Valid loss  0.206 in Step 100\n",
      "※※※Valid loss  0.211※※※\n",
      "Epoch 16\n",
      "Training loss  0.287 in Step 0\n",
      "Training loss  0.281 in Step 100\n",
      "Training loss  0.290 in Step 200\n",
      "Training loss  0.289 in Step 300\n",
      "Training loss  0.281 in Step 400\n",
      "Training loss  0.286 in Step 500\n",
      "Training loss  0.284 in Step 600\n",
      "Training loss  0.284 in Step 700\n",
      "※※※Training loss  0.283※※※\n",
      "Valid loss  0.215 in Step 0\n",
      "Valid loss  0.211 in Step 50\n",
      "Valid loss  0.208 in Step 100\n",
      "※※※Valid loss  0.213※※※\n",
      "Epoch 17\n",
      "Training loss  0.284 in Step 0\n"
     ]
    },
    {
     "ename": "KeyboardInterrupt",
     "evalue": "",
     "output_type": "error",
     "traceback": [
      "\u001b[0;31m---------------------------------------------------------------------------\u001b[0m",
      "\u001b[0;31mKeyboardInterrupt\u001b[0m                         Traceback (most recent call last)",
      "Cell \u001b[0;32mIn[21], line 2\u001b[0m\n\u001b[1;32m      1\u001b[0m \u001b[38;5;28;01mif\u001b[39;00m \u001b[38;5;18m__name__\u001b[39m \u001b[38;5;241m==\u001b[39m \u001b[38;5;124m\"\u001b[39m\u001b[38;5;124m__main__\u001b[39m\u001b[38;5;124m\"\u001b[39m: \n\u001b[0;32m----> 2\u001b[0m     train()\n",
      "Cell \u001b[0;32mIn[20], line 17\u001b[0m, in \u001b[0;36mtrain\u001b[0;34m()\u001b[0m\n\u001b[1;32m     14\u001b[0m x \u001b[38;5;241m=\u001b[39m x\u001b[38;5;241m.\u001b[39mto(device)\n\u001b[1;32m     15\u001b[0m y \u001b[38;5;241m=\u001b[39m y\u001b[38;5;241m.\u001b[39mto(device)\n\u001b[0;32m---> 17\u001b[0m x_hat \u001b[38;5;241m=\u001b[39m model(x, x_lens, x_mask)\n\u001b[1;32m     19\u001b[0m loss \u001b[38;5;241m=\u001b[39m model_loss\u001b[38;5;241m.\u001b[39mget_loss(x_hat, y, x_mask)\n\u001b[1;32m     21\u001b[0m train_loss \u001b[38;5;241m+\u001b[39m\u001b[38;5;241m=\u001b[39m loss\u001b[38;5;241m.\u001b[39mitem()\n",
      "File \u001b[0;32m~/anaconda3/envs/wavln/lib/python3.11/site-packages/torch/nn/modules/module.py:1518\u001b[0m, in \u001b[0;36mModule._wrapped_call_impl\u001b[0;34m(self, *args, **kwargs)\u001b[0m\n\u001b[1;32m   1516\u001b[0m     \u001b[38;5;28;01mreturn\u001b[39;00m \u001b[38;5;28mself\u001b[39m\u001b[38;5;241m.\u001b[39m_compiled_call_impl(\u001b[38;5;241m*\u001b[39margs, \u001b[38;5;241m*\u001b[39m\u001b[38;5;241m*\u001b[39mkwargs)  \u001b[38;5;66;03m# type: ignore[misc]\u001b[39;00m\n\u001b[1;32m   1517\u001b[0m \u001b[38;5;28;01melse\u001b[39;00m:\n\u001b[0;32m-> 1518\u001b[0m     \u001b[38;5;28;01mreturn\u001b[39;00m \u001b[38;5;28mself\u001b[39m\u001b[38;5;241m.\u001b[39m_call_impl(\u001b[38;5;241m*\u001b[39margs, \u001b[38;5;241m*\u001b[39m\u001b[38;5;241m*\u001b[39mkwargs)\n",
      "File \u001b[0;32m~/anaconda3/envs/wavln/lib/python3.11/site-packages/torch/nn/modules/module.py:1527\u001b[0m, in \u001b[0;36mModule._call_impl\u001b[0;34m(self, *args, **kwargs)\u001b[0m\n\u001b[1;32m   1522\u001b[0m \u001b[38;5;66;03m# If we don't have any hooks, we want to skip the rest of the logic in\u001b[39;00m\n\u001b[1;32m   1523\u001b[0m \u001b[38;5;66;03m# this function, and just call forward.\u001b[39;00m\n\u001b[1;32m   1524\u001b[0m \u001b[38;5;28;01mif\u001b[39;00m \u001b[38;5;129;01mnot\u001b[39;00m (\u001b[38;5;28mself\u001b[39m\u001b[38;5;241m.\u001b[39m_backward_hooks \u001b[38;5;129;01mor\u001b[39;00m \u001b[38;5;28mself\u001b[39m\u001b[38;5;241m.\u001b[39m_backward_pre_hooks \u001b[38;5;129;01mor\u001b[39;00m \u001b[38;5;28mself\u001b[39m\u001b[38;5;241m.\u001b[39m_forward_hooks \u001b[38;5;129;01mor\u001b[39;00m \u001b[38;5;28mself\u001b[39m\u001b[38;5;241m.\u001b[39m_forward_pre_hooks\n\u001b[1;32m   1525\u001b[0m         \u001b[38;5;129;01mor\u001b[39;00m _global_backward_pre_hooks \u001b[38;5;129;01mor\u001b[39;00m _global_backward_hooks\n\u001b[1;32m   1526\u001b[0m         \u001b[38;5;129;01mor\u001b[39;00m _global_forward_hooks \u001b[38;5;129;01mor\u001b[39;00m _global_forward_pre_hooks):\n\u001b[0;32m-> 1527\u001b[0m     \u001b[38;5;28;01mreturn\u001b[39;00m forward_call(\u001b[38;5;241m*\u001b[39margs, \u001b[38;5;241m*\u001b[39m\u001b[38;5;241m*\u001b[39mkwargs)\n\u001b[1;32m   1529\u001b[0m \u001b[38;5;28;01mtry\u001b[39;00m:\n\u001b[1;32m   1530\u001b[0m     result \u001b[38;5;241m=\u001b[39m \u001b[38;5;28;01mNone\u001b[39;00m\n",
      "File \u001b[0;32m~/Projects/wavln/script/model_model.py:973\u001b[0m, in \u001b[0;36mReconMockingjoyNet.forward\u001b[0;34m(self, inputs, input_lens, in_mask)\u001b[0m\n\u001b[1;32m    972\u001b[0m \u001b[38;5;28;01mdef\u001b[39;00m \u001b[38;5;21mforward\u001b[39m(\u001b[38;5;28mself\u001b[39m, inputs, input_lens, in_mask):\n\u001b[0;32m--> 973\u001b[0m     enc_out \u001b[38;5;241m=\u001b[39m \u001b[38;5;28mself\u001b[39m\u001b[38;5;241m.\u001b[39mencoder(inputs, input_lens, in_mask)\n\u001b[1;32m    974\u001b[0m     dec_out \u001b[38;5;241m=\u001b[39m \u001b[38;5;28mself\u001b[39m\u001b[38;5;241m.\u001b[39mdecoder(enc_out)\n\u001b[1;32m    975\u001b[0m     \u001b[38;5;28;01mreturn\u001b[39;00m dec_out\n",
      "File \u001b[0;32m~/anaconda3/envs/wavln/lib/python3.11/site-packages/torch/nn/modules/module.py:1518\u001b[0m, in \u001b[0;36mModule._wrapped_call_impl\u001b[0;34m(self, *args, **kwargs)\u001b[0m\n\u001b[1;32m   1516\u001b[0m     \u001b[38;5;28;01mreturn\u001b[39;00m \u001b[38;5;28mself\u001b[39m\u001b[38;5;241m.\u001b[39m_compiled_call_impl(\u001b[38;5;241m*\u001b[39margs, \u001b[38;5;241m*\u001b[39m\u001b[38;5;241m*\u001b[39mkwargs)  \u001b[38;5;66;03m# type: ignore[misc]\u001b[39;00m\n\u001b[1;32m   1517\u001b[0m \u001b[38;5;28;01melse\u001b[39;00m:\n\u001b[0;32m-> 1518\u001b[0m     \u001b[38;5;28;01mreturn\u001b[39;00m \u001b[38;5;28mself\u001b[39m\u001b[38;5;241m.\u001b[39m_call_impl(\u001b[38;5;241m*\u001b[39margs, \u001b[38;5;241m*\u001b[39m\u001b[38;5;241m*\u001b[39mkwargs)\n",
      "File \u001b[0;32m~/anaconda3/envs/wavln/lib/python3.11/site-packages/torch/nn/modules/module.py:1527\u001b[0m, in \u001b[0;36mModule._call_impl\u001b[0;34m(self, *args, **kwargs)\u001b[0m\n\u001b[1;32m   1522\u001b[0m \u001b[38;5;66;03m# If we don't have any hooks, we want to skip the rest of the logic in\u001b[39;00m\n\u001b[1;32m   1523\u001b[0m \u001b[38;5;66;03m# this function, and just call forward.\u001b[39;00m\n\u001b[1;32m   1524\u001b[0m \u001b[38;5;28;01mif\u001b[39;00m \u001b[38;5;129;01mnot\u001b[39;00m (\u001b[38;5;28mself\u001b[39m\u001b[38;5;241m.\u001b[39m_backward_hooks \u001b[38;5;129;01mor\u001b[39;00m \u001b[38;5;28mself\u001b[39m\u001b[38;5;241m.\u001b[39m_backward_pre_hooks \u001b[38;5;129;01mor\u001b[39;00m \u001b[38;5;28mself\u001b[39m\u001b[38;5;241m.\u001b[39m_forward_hooks \u001b[38;5;129;01mor\u001b[39;00m \u001b[38;5;28mself\u001b[39m\u001b[38;5;241m.\u001b[39m_forward_pre_hooks\n\u001b[1;32m   1525\u001b[0m         \u001b[38;5;129;01mor\u001b[39;00m _global_backward_pre_hooks \u001b[38;5;129;01mor\u001b[39;00m _global_backward_hooks\n\u001b[1;32m   1526\u001b[0m         \u001b[38;5;129;01mor\u001b[39;00m _global_forward_hooks \u001b[38;5;129;01mor\u001b[39;00m _global_forward_pre_hooks):\n\u001b[0;32m-> 1527\u001b[0m     \u001b[38;5;28;01mreturn\u001b[39;00m forward_call(\u001b[38;5;241m*\u001b[39margs, \u001b[38;5;241m*\u001b[39m\u001b[38;5;241m*\u001b[39mkwargs)\n\u001b[1;32m   1529\u001b[0m \u001b[38;5;28;01mtry\u001b[39;00m:\n\u001b[1;32m   1530\u001b[0m     result \u001b[38;5;241m=\u001b[39m \u001b[38;5;28;01mNone\u001b[39;00m\n",
      "File \u001b[0;32m~/Projects/wavln/script/model_model.py:368\u001b[0m, in \u001b[0;36mMockingjoyEncoder.forward\u001b[0;34m(self, inputs, inputs_lens, in_mask, hidden)\u001b[0m\n\u001b[1;32m    360\u001b[0m \u001b[38;5;250m\u001b[39m\u001b[38;5;124;03m\"\"\"\u001b[39;00m\n\u001b[1;32m    361\u001b[0m \u001b[38;5;124;03mArgs:\u001b[39;00m\n\u001b[1;32m    362\u001b[0m \u001b[38;5;124;03m    inputs: input data (B, L, I)\u001b[39;00m\n\u001b[0;32m   (...)\u001b[0m\n\u001b[1;32m    365\u001b[0m \u001b[38;5;124;03m    hidden: HM_LSTM, abolished\u001b[39;00m\n\u001b[1;32m    366\u001b[0m \u001b[38;5;124;03m\"\"\"\u001b[39;00m\n\u001b[1;32m    367\u001b[0m enc_x \u001b[38;5;241m=\u001b[39m \u001b[38;5;28mself\u001b[39m\u001b[38;5;241m.\u001b[39mlin_1(inputs) \u001b[38;5;66;03m# (B, L, I) -> (B, L, H)\u001b[39;00m\n\u001b[0;32m--> 368\u001b[0m enc_x \u001b[38;5;241m=\u001b[39m pack_padded_sequence(enc_x, inputs_lens, batch_first\u001b[38;5;241m=\u001b[39m\u001b[38;5;28;01mTrue\u001b[39;00m, enforce_sorted\u001b[38;5;241m=\u001b[39m\u001b[38;5;28;01mFalse\u001b[39;00m)\n\u001b[1;32m    369\u001b[0m enc_x, (hn, cn) \u001b[38;5;241m=\u001b[39m \u001b[38;5;28mself\u001b[39m\u001b[38;5;241m.\u001b[39mrnn(enc_x)  \u001b[38;5;66;03m# (B, L, H) -> (B, L, H)\u001b[39;00m\n\u001b[1;32m    370\u001b[0m enc_x, _ \u001b[38;5;241m=\u001b[39m pad_packed_sequence(enc_x, batch_first\u001b[38;5;241m=\u001b[39m\u001b[38;5;28;01mTrue\u001b[39;00m)\n",
      "File \u001b[0;32m~/anaconda3/envs/wavln/lib/python3.11/site-packages/torch/nn/utils/rnn.py:265\u001b[0m, in \u001b[0;36mpack_padded_sequence\u001b[0;34m(input, lengths, batch_first, enforce_sorted)\u001b[0m\n\u001b[1;32m    261\u001b[0m     \u001b[38;5;28minput\u001b[39m \u001b[38;5;241m=\u001b[39m \u001b[38;5;28minput\u001b[39m\u001b[38;5;241m.\u001b[39mindex_select(batch_dim, sorted_indices)\n\u001b[1;32m    263\u001b[0m data, batch_sizes \u001b[38;5;241m=\u001b[39m \\\n\u001b[1;32m    264\u001b[0m     _VF\u001b[38;5;241m.\u001b[39m_pack_padded_sequence(\u001b[38;5;28minput\u001b[39m, lengths, batch_first)\n\u001b[0;32m--> 265\u001b[0m \u001b[38;5;28;01mreturn\u001b[39;00m _packed_sequence_init(data, batch_sizes, sorted_indices, \u001b[38;5;28;01mNone\u001b[39;00m)\n",
      "File \u001b[0;32m~/anaconda3/envs/wavln/lib/python3.11/site-packages/torch/nn/utils/rnn.py:193\u001b[0m, in \u001b[0;36m_packed_sequence_init\u001b[0;34m(data, batch_sizes, sorted_indices, unsorted_indices)\u001b[0m\n\u001b[1;32m    187\u001b[0m \u001b[38;5;28;01mdef\u001b[39;00m \u001b[38;5;21m_packed_sequence_init\u001b[39m(\n\u001b[1;32m    188\u001b[0m     data: Tensor,\n\u001b[1;32m    189\u001b[0m     batch_sizes: Optional[Tensor] \u001b[38;5;241m=\u001b[39m \u001b[38;5;28;01mNone\u001b[39;00m,\n\u001b[1;32m    190\u001b[0m     sorted_indices: Optional[Tensor] \u001b[38;5;241m=\u001b[39m \u001b[38;5;28;01mNone\u001b[39;00m,\n\u001b[1;32m    191\u001b[0m     unsorted_indices: Optional[Tensor] \u001b[38;5;241m=\u001b[39m \u001b[38;5;28;01mNone\u001b[39;00m,\n\u001b[1;32m    192\u001b[0m ) \u001b[38;5;241m-\u001b[39m\u001b[38;5;241m>\u001b[39m PackedSequence:\n\u001b[0;32m--> 193\u001b[0m     data, batch_sizes, sorted_indices, unsorted_indices \u001b[38;5;241m=\u001b[39m _packed_sequence_init_args(\n\u001b[1;32m    194\u001b[0m         data, batch_sizes, sorted_indices, unsorted_indices)\n\u001b[1;32m    195\u001b[0m     \u001b[38;5;28;01mreturn\u001b[39;00m PackedSequence(data, batch_sizes, sorted_indices, unsorted_indices)\n",
      "File \u001b[0;32m~/anaconda3/envs/wavln/lib/python3.11/site-packages/torch/nn/utils/rnn.py:167\u001b[0m, in \u001b[0;36m_packed_sequence_init_args\u001b[0;34m(data, batch_sizes, sorted_indices, unsorted_indices)\u001b[0m\n\u001b[1;32m    156\u001b[0m \u001b[38;5;28;01mdef\u001b[39;00m \u001b[38;5;21m_packed_sequence_init_args\u001b[39m(\n\u001b[1;32m    157\u001b[0m     data: Tensor,\n\u001b[1;32m    158\u001b[0m     batch_sizes: Optional[Tensor] \u001b[38;5;241m=\u001b[39m \u001b[38;5;28;01mNone\u001b[39;00m,\n\u001b[0;32m   (...)\u001b[0m\n\u001b[1;32m    163\u001b[0m     \u001b[38;5;66;03m# to sorted_indices. Don't assert it here because the PackedSequence ctor\u001b[39;00m\n\u001b[1;32m    164\u001b[0m     \u001b[38;5;66;03m# should only be used internally.\u001b[39;00m\n\u001b[1;32m    166\u001b[0m     \u001b[38;5;28;01mif\u001b[39;00m unsorted_indices \u001b[38;5;129;01mis\u001b[39;00m \u001b[38;5;28;01mNone\u001b[39;00m:\n\u001b[0;32m--> 167\u001b[0m         unsorted_indices \u001b[38;5;241m=\u001b[39m invert_permutation(sorted_indices)\n\u001b[1;32m    169\u001b[0m     \u001b[38;5;66;03m# support being called as `PackedSequence(data, batch_sizes, sorted_indices)`\u001b[39;00m\n\u001b[1;32m    170\u001b[0m     \u001b[38;5;28;01mif\u001b[39;00m batch_sizes \u001b[38;5;129;01mis\u001b[39;00m \u001b[38;5;129;01mnot\u001b[39;00m \u001b[38;5;28;01mNone\u001b[39;00m:\n\u001b[1;32m    171\u001b[0m         \u001b[38;5;66;03m# TODO: Re-enable this check (.type isn't supported in TorchScript)\u001b[39;00m\n",
      "File \u001b[0;32m~/anaconda3/envs/wavln/lib/python3.11/site-packages/torch/nn/utils/rnn.py:202\u001b[0m, in \u001b[0;36minvert_permutation\u001b[0;34m(permutation)\u001b[0m\n\u001b[1;32m    200\u001b[0m     \u001b[38;5;28;01mreturn\u001b[39;00m \u001b[38;5;28;01mNone\u001b[39;00m\n\u001b[1;32m    201\u001b[0m output \u001b[38;5;241m=\u001b[39m torch\u001b[38;5;241m.\u001b[39mempty_like(permutation, memory_format\u001b[38;5;241m=\u001b[39mtorch\u001b[38;5;241m.\u001b[39mlegacy_contiguous_format)\n\u001b[0;32m--> 202\u001b[0m output\u001b[38;5;241m.\u001b[39mscatter_(\u001b[38;5;241m0\u001b[39m, permutation,\n\u001b[1;32m    203\u001b[0m                 torch\u001b[38;5;241m.\u001b[39marange(\u001b[38;5;241m0\u001b[39m, permutation\u001b[38;5;241m.\u001b[39mnumel(), device\u001b[38;5;241m=\u001b[39mpermutation\u001b[38;5;241m.\u001b[39mdevice))\n\u001b[1;32m    204\u001b[0m \u001b[38;5;28;01mreturn\u001b[39;00m output\n",
      "\u001b[0;31mKeyboardInterrupt\u001b[0m: "
     ]
    }
   ],
   "source": [
    "if __name__ == \"__main__\": \n",
    "    train()"
   ]
  },
  {
   "cell_type": "code",
   "execution_count": 22,
   "metadata": {
    "id": "KSTTwi31xAvh"
   },
   "outputs": [],
   "source": [
    "### Save\n",
    "train_losses.save()\n",
    "\n",
    "valid_losses.save()\n",
    "\n",
    "text_hist.save()"
   ]
  },
  {
   "cell_type": "code",
   "execution_count": 23,
   "metadata": {},
   "outputs": [
    {
     "data": {
      "text/plain": [
       "<matplotlib.legend.Legend at 0x7f015c32b810>"
      ]
     },
     "execution_count": 23,
     "metadata": {},
     "output_type": "execute_result"
    },
    {
     "data": {
      "image/png": "[encoded data removed]",
      "text/plain": [
       "<Figure size 1200x400 with 2 Axes>"
      ]
     },
     "metadata": {},
     "output_type": "display_data"
    }
   ],
   "source": [
    "start, end = 0, 100\n",
    "\n",
    "fig, (ax1, ax2) = plt.subplots(1, 2, figsize=(12, 4))\n",
    "# Plot Loss on the left subplot\n",
    "ax1.plot(train_losses.get()[start:end], label='Train')\n",
    "ax1.plot(valid_losses.get()[start:end], label='Valid')\n",
    "ax1.set_title(\"Learning Curve Loss\")\n",
    "ax1.legend(loc=\"upper right\")\n",
    "\n",
    "# Plot Accuracy on the right subplot\n",
    "ax2.plot(train_accs.get()[start:end], label='Train')\n",
    "ax2.plot(valid_accs.get()[start:end], label='Valid')\n",
    "ax2.set_title('Learning Curve Accuracy')\n",
    "ax2.legend(loc=\"lower right\")"
   ]
  },
  {
   "cell_type": "markdown",
   "metadata": {},
   "source": [
    "## Testing"
   ]
  },
  {
   "cell_type": "code",
   "execution_count": 22,
   "metadata": {},
   "outputs": [],
   "source": [
    "import torchaudio\n",
    "from tqdm import tqdm"
   ]
  },
  {
   "cell_type": "code",
   "execution_count": 23,
   "metadata": {},
   "outputs": [],
   "source": [
    "CTCDecoder = ctc_decoder(\n",
    "    lexicon=None, \n",
    "    tokens=mylist + [\"|\"], \n",
    "    blank_token=\"BLANK\"\n",
    ")"
   ]
  },
  {
   "cell_type": "code",
   "execution_count": 25,
   "metadata": {},
   "outputs": [],
   "source": [
    "test_ds = ThisDataset(rec_dir, \n",
    "                       test_guide_path, \n",
    "                       mapper=mymap, \n",
    "                       transform=mytrans, \n",
    "                       ground_truth_path=os.path.join(src_, \"test-phoneseq.gt\"))\n",
    "\n",
    "use_proportion = 0.1\n",
    "\n",
    "if READ or DATAREAD: \n",
    "    test_ds_indices = DS_Tools.read_indices(os.path.join(model_save_dir, \"test.use\"))\n",
    "    use_test_ds = torch.utils.data.Subset(test_ds,test_ds_indices)\n",
    "else: \n",
    "    # train data\n",
    "    use_len = int(use_proportion * len(test_ds))\n",
    "    remain_len = len(test_ds) - use_len\n",
    "    use_test_ds, remain_ds = random_split(test_ds, [use_len, remain_len])\n",
    "    DS_Tools.save_indices(os.path.join(model_save_dir, \"test.use\"), use_train_ds.indices)\n",
    "\n",
    "test_loader = DataLoader(use_test_ds, batch_size=BATCH_SIZE, shuffle=False, num_workers=LOADER_WORKER, collate_fn=ThisDataset.collate_fn_yNoPad)\n",
    "test_num = len(test_loader.dataset)"
   ]
  },
  {
   "cell_type": "code",
   "execution_count": 33,
   "metadata": {},
   "outputs": [
    {
     "name": "stderr",
     "output_type": "stream",
     "text": [
      "100%|██████████| 20/20 [03:04<00:00,  9.22s/it]\n"
     ]
    }
   ],
   "source": [
    "model.eval()\n",
    "test_loss = 0.\n",
    "test_num = len(test_loader)\n",
    "preds = []\n",
    "reals = []\n",
    "for (x, x_lens, y, y_lens) in tqdm(test_loader):\n",
    "    x_mask = generate_mask_from_lengths_mat(x_lens, device=device)\n",
    "    \n",
    "    x = x.to(device)\n",
    "    # y = y.to(device)\n",
    "    # y = y.long()\n",
    "\n",
    "    x_hat = model(x, x_lens, x_mask)\n",
    "\n",
    "    preds += CTCDecoder(x_hat.cpu())\n",
    "    reals += y"
   ]
  },
  {
   "cell_type": "code",
   "execution_count": 34,
   "metadata": {},
   "outputs": [],
   "source": [
    "total_per = 0\n",
    "total = 0\n",
    "for real, pred in zip(reals, preds): \n",
    "    total_per += torchaudio.functional.edit_distance(real, pred[0].tokens[1:-1]) / len(real)\n",
    "    total += 1"
   ]
  },
  {
   "cell_type": "code",
   "execution_count": 64,
   "metadata": {},
   "outputs": [
    {
     "name": "stdout",
     "output_type": "stream",
     "text": [
      "['M', 'AH', 'S', 'T']\n",
      "['M', 'S', 'D']\n"
     ]
    }
   ],
   "source": [
    "i = torch.randint(0, total, size=(1, )).item()\n",
    "print([mymap.decode(x.item()) for x in reals[i]])\n",
    "print([mymap.decode(x.item()) for x in preds[i][0].tokens[1:-1]])"
   ]
  },
  {
   "cell_type": "code",
   "execution_count": 35,
   "metadata": {},
   "outputs": [
    {
     "data": {
      "text/plain": [
       "0.7639598337960807"
      ]
     },
     "execution_count": 35,
     "metadata": {},
     "output_type": "execute_result"
    }
   ],
   "source": [
    "total_per / total"
   ]
  },
  {
   "cell_type": "markdown",
   "metadata": {},
   "source": [
    "## Conclusion\n",
    "This model should converge to loss around 0.49x. "
   ]
  },
  {
   "cell_type": "markdown",
   "metadata": {},
   "source": []
  }
 ],
 "metadata": {
  "accelerator": "GPU",
  "colab": {
   "provenance": []
  },
  "gpuClass": "standard",
  "kernelspec": {
   "display_name": "Python 3 (ipykernel)",
   "language": "python",
   "name": "python3"
  },
  "language_info": {
   "codemirror_mode": {
    "name": "ipython",
    "version": 3
   },
   "file_extension": ".py",
   "mimetype": "text/x-python",
   "name": "python",
   "nbconvert_exporter": "python",
   "pygments_lexer": "ipython3",
   "version": "3.11.7"
  }
 },
 "nbformat": 4,
 "nbformat_minor": 4
}
