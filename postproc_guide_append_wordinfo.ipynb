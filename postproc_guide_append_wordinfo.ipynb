{
 "cells": [
  {
   "cell_type": "code",
   "execution_count": 8,
   "metadata": {},
   "outputs": [],
   "source": [
    "import os\n",
    "import pandas as pd\n",
    "from paths import *\n",
    "from misc_tools import PathUtils as PU\n",
    "from misc_tools import AudioCut"
   ]
  },
  {
   "cell_type": "code",
   "execution_count": null,
   "metadata": {},
   "outputs": [],
   "source": [
    "for x_name in [\"guide_train.csv\", \"guide_validation.csv\", \"guide_test.csv\"]: \n",
    "    x_ = os.path.join(src_, x_name)\n",
    "    word_ = os.path.join(src_, \"word_guide.csv\")\n",
    "\n",
    "    guide_x = pd.read_csv(x_)\n",
    "    worddf = pd.read_csv(word_)\n",
    "\n",
    "    worddfpath = worddf.copy()\n",
    "\n",
    "    worddfpath[\"word_path\"] = worddfpath.apply(AudioCut.record2filepath, axis=1)\n",
    "\n",
    "    columns_to_import = ['startTime', 'endTime', 'nSample']\n",
    "    df_b_selected = worddfpath[['word_path'] + columns_to_import]\n",
    "    df_b_selected = df_b_selected.rename(columns={'startTime': 'word_startTime', \n",
    "                                                'endTime': 'word_endTime', \n",
    "                                                'nSample': 'word_nSample'})\n",
    "\n",
    "    # Merge the dataframes\n",
    "    result_df = pd.merge(guide_x, df_b_selected, on='word_path', how='left')\n",
    "\n",
    "    result_df[\"wuid\"] = result_df.apply(AudioCut.wordrecord2wuid, axis=1)\n",
    "\n",
    "    result_df.to_csv(x_, index=False)"
   ]
  }
 ],
 "metadata": {
  "kernelspec": {
   "display_name": "wavln",
   "language": "python",
   "name": "python3"
  },
  "language_info": {
   "codemirror_mode": {
    "name": "ipython",
    "version": 3
   },
   "file_extension": ".py",
   "mimetype": "text/x-python",
   "name": "python",
   "nbconvert_exporter": "python",
   "pygments_lexer": "ipython3",
   "version": "3.11.7"
  }
 },
 "nbformat": 4,
 "nbformat_minor": 2
}
