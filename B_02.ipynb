{
 "cells": [
  {
   "cell_type": "markdown",
   "metadata": {},
   "source": [
    "# VAE Version (AI Lab Run)\n",
    "- V2: inheriting from A-V10, that we have attention module, as well as biLSTM. Now we also add VAE. "
   ]
  },
  {
   "cell_type": "markdown",
   "metadata": {},
   "source": [
    "## Preparing"
   ]
  },
  {
   "cell_type": "code",
   "execution_count": 1,
   "metadata": {},
   "outputs": [],
   "source": [
    "import torch\n",
    "from torch import nn\n",
    "import torch.nn.functional as F\n",
    "from torch.nn.utils.rnn import pad_sequence, pack_sequence\n",
    "from torch import optim\n",
    "from torch.utils.data import Dataset, DataLoader, random_split\n",
    "import matplotlib.pyplot as plt\n",
    "import numpy as np"
   ]
  },
  {
   "cell_type": "code",
   "execution_count": 2,
   "metadata": {},
   "outputs": [],
   "source": [
    "from model_model import VAENetV1 as TheLearner\n",
    "from model_dataset import DS_Tools\n",
    "from model_dataset import WordDataset as ThisDataset\n",
    "from model_dataset import Normalizer, DeNormalizer, TokenMap\n",
    "# from model_dataset import MelSpecTransformDB as TheTransform\n",
    "from model_dataset import MelSpecTransformDB as TheTransform\n",
    "from paths import *\n",
    "from misc_my_utils import *\n",
    "from misc_recorder import *\n",
    "from model_loss import *\n",
    "from model_padding import generate_mask_from_lengths_mat"
   ]
  },
  {
   "cell_type": "markdown",
   "metadata": {},
   "source": [
    "### Dirs"
   ]
  },
  {
   "cell_type": "code",
   "execution_count": 3,
   "metadata": {},
   "outputs": [],
   "source": [
    "rec_dir = train_cut_word_\n",
    "train_guide_path = os.path.join(src_, \"guide_train.csv\")\n",
    "valid_guide_path = os.path.join(src_, \"guide_validation.csv\")\n",
    "test_guide_path = os.path.join(src_, \"guide_test.csv\")"
   ]
  },
  {
   "cell_type": "markdown",
   "metadata": {},
   "source": [
    "### Constants"
   ]
  },
  {
   "cell_type": "code",
   "execution_count": 4,
   "metadata": {},
   "outputs": [],
   "source": [
    "BATCH_SIZE = 512\n",
    "\n",
    "INPUT_DIM = 64\n",
    "OUTPUT_DIM = 64 \n",
    "\n",
    "INTER_DIM_0 = 32\n",
    "INTER_DIM_1 = 16\n",
    "INTER_DIM_2 = 8\n",
    "\n",
    "ENC_SIZE_LIST = [INPUT_DIM, INTER_DIM_0, INTER_DIM_1, INTER_DIM_2]\n",
    "DEC_SIZE_LIST = [OUTPUT_DIM, INTER_DIM_0, INTER_DIM_1, INTER_DIM_2]\n",
    "\n",
    "DROPOUT = 0.5\n",
    "\n",
    "REC_SAMPLE_RATE = 16000\n",
    "N_FFT = 400\n",
    "N_MELS = 64\n",
    "\n",
    "LOADER_WORKER = 32\n",
    "# LOADER_WORKER = 0"
   ]
  },
  {
   "cell_type": "markdown",
   "metadata": {},
   "source": [
    "## Prepare for this time of training"
   ]
  },
  {
   "cell_type": "code",
   "execution_count": 5,
   "metadata": {},
   "outputs": [
    {
     "name": "stdout",
     "output_type": "stream",
     "text": [
      "B_02-0217200818\n"
     ]
    }
   ],
   "source": [
    "ts = str(get_timestamp())\n",
    "# ts = \"0217175750\"\n",
    "stop_epoch = \"29\"\n",
    "train_name = \"B_02\"\n",
    "model_save_dir = os.path.join(model_save_, f\"{train_name}-{ts}\")\n",
    "mk(model_save_dir)\n",
    "print(f\"{train_name}-{ts}\")\n",
    "\n",
    "train_losses = ListRecorder(os.path.join(model_save_dir, \"train.loss\"))\n",
    "valid_losses = ListRecorder(os.path.join(model_save_dir, \"valid.loss\"))\n",
    "\n",
    "train_kl_losses = ListRecorder(os.path.join(model_save_dir, \"train.kl.loss\"))\n",
    "valid_kl_losses = ListRecorder(os.path.join(model_save_dir, \"valid.kl.loss\"))\n",
    "\n",
    "train_accs = ListRecorder(os.path.join(model_save_dir, \"train.acc\"))\n",
    "valid_accs = ListRecorder(os.path.join(model_save_dir, \"valid.acc\"))\n",
    "text_hist = HistRecorder(os.path.join(model_save_dir, \"trainhist.txt\"))"
   ]
  },
  {
   "cell_type": "markdown",
   "metadata": {},
   "source": [
    "- 0217175750: first trial of training. \n",
    "- 0217195946: take the opposite of kl to turn it into loss, instead of divergence. [!!! This is wrong]\n",
    "- 0217200818: add num layers to 3. "
   ]
  },
  {
   "cell_type": "code",
   "execution_count": 6,
   "metadata": {},
   "outputs": [],
   "source": [
    "READ = False\n",
    "DATAREAD = False"
   ]
  },
  {
   "cell_type": "code",
   "execution_count": 7,
   "metadata": {},
   "outputs": [],
   "source": [
    "with open(os.path.join(src_, \"no-stress-seg.dict\"), \"rb\") as file:\n",
    "    # Load the object from the file\n",
    "    mylist = pickle.load(file)\n",
    "    mylist = [\"BLANK\"] + mylist\n",
    "\n",
    "# Now you can use the loaded object\n",
    "mymap = TokenMap(mylist)\n",
    "\n",
    "mytrans = TheTransform(sample_rate=REC_SAMPLE_RATE, \n",
    "                       n_fft=N_FFT, n_mels=N_MELS, \n",
    "                       normalizer=Normalizer.norm_mvn, \n",
    "                       denormalizer=DeNormalizer.norm_mvn)\n",
    "\n",
    "train_ds = ThisDataset(rec_dir, \n",
    "                       train_guide_path, \n",
    "                       mapper=mymap, \n",
    "                       transform=mytrans)\n",
    "valid_ds = ThisDataset(rec_dir, \n",
    "                       valid_guide_path, \n",
    "                       mapper=mymap, \n",
    "                       transform=mytrans)\n",
    "\n",
    "use_proportion = 0.3\n",
    "\n",
    "if READ or DATAREAD: \n",
    "    train_ds_indices = DS_Tools.read_indices(os.path.join(model_save_dir, \"train.use\"))\n",
    "    valid_ds_indices = DS_Tools.read_indices(os.path.join(model_save_dir, \"valid.use\"))\n",
    "\n",
    "    use_train_ds = torch.utils.data.Subset(train_ds, train_ds_indices)\n",
    "    use_valid_ds = torch.utils.data.Subset(valid_ds, valid_ds_indices)\n",
    "else: \n",
    "    # train data\n",
    "    use_len = int(use_proportion * len(train_ds))\n",
    "    remain_len = len(train_ds) - use_len\n",
    "    use_train_ds, remain_ds = random_split(train_ds, [use_len, remain_len])\n",
    "\n",
    "    # valid data\n",
    "    use_len = int(use_proportion * len(valid_ds))\n",
    "    remain_len = len(valid_ds) - use_len\n",
    "    use_valid_ds, remain_ds = random_split(valid_ds, [use_len, remain_len])\n",
    "\n",
    "    # NOTE: we don't need to save the cut-small subset, because after cutting-small, \n",
    "    # the saved train and valid separations will reflect this\n",
    "    DS_Tools.save_indices(os.path.join(model_save_dir, \"train.use\"), use_train_ds.indices)\n",
    "    DS_Tools.save_indices(os.path.join(model_save_dir, \"valid.use\"), use_valid_ds.indices)\n",
    "\n",
    "train_loader = DataLoader(use_train_ds, batch_size=BATCH_SIZE, shuffle=True, num_workers=LOADER_WORKER, collate_fn=ThisDataset.collate_fn)\n",
    "train_num = len(train_loader.dataset)\n",
    "\n",
    "valid_loader = DataLoader(use_valid_ds, batch_size=BATCH_SIZE, shuffle=False, num_workers=LOADER_WORKER, collate_fn=ThisDataset.collate_fn)\n",
    "valid_num = len(valid_loader.dataset)"
   ]
  },
  {
   "cell_type": "code",
   "execution_count": 8,
   "metadata": {},
   "outputs": [
    {
     "data": {
      "text/plain": [
       "(231830, 31142, 453, 61)"
      ]
     },
     "execution_count": 8,
     "metadata": {},
     "output_type": "execute_result"
    }
   ],
   "source": [
    "train_num, valid_num, len(train_loader), len(valid_loader)"
   ]
  },
  {
   "cell_type": "code",
   "execution_count": 9,
   "metadata": {},
   "outputs": [
    {
     "name": "stdout",
     "output_type": "stream",
     "text": [
      "torch.Size([512, 72, 64])\n"
     ]
    },
    {
     "data": {
      "image/png": "[encoded data removed]",
      "text/plain": [
       "<Figure size 1200x800 with 7 Axes>"
      ]
     },
     "metadata": {},
     "output_type": "display_data"
    }
   ],
   "source": [
    "# Load sample data from train_loader\n",
    "sample_data = next(iter(valid_loader))\n",
    "xx_pad, x_lens = sample_data\n",
    "print(xx_pad.shape)\n",
    "# Set the random seed for reproducibility\n",
    "# random.seed(101)\n",
    "# Generate six random indices\n",
    "# random_indices = random.sample(range(len(xx_pad)), 6)\n",
    "random_indices = list(range(6, 9))\n",
    "\n",
    "# Plot the spectrograms and mark the corresponding seg\n",
    "fig, axes = plt.subplots(2, 3, figsize=(12, 8))\n",
    "axes = axes.flatten()\n",
    "\n",
    "for i, idx in enumerate(random_indices):\n",
    "    spectrogram = xx_pad[idx]\n",
    "    \n",
    "    ax = axes[i]\n",
    "    img = ax.imshow(spectrogram.T, aspect='auto', origin=\"lower\")\n",
    "    ax.set_title(f'Spectrogram')\n",
    "    ax.set_xlabel('Time')\n",
    "    ax.set_ylabel('Frequency')\n",
    "\n",
    "# for i, idx in enumerate(random_indices):\n",
    "#     spectrogram = masked_xx_pad[idx]\n",
    "    \n",
    "#     ax = axes[i + 3]\n",
    "#     img = ax.imshow(spectrogram.T, aspect='auto', origin=\"lower\")\n",
    "#     ax.set_title(f'Spectrogram')\n",
    "#     ax.set_xlabel('Time')\n",
    "#     ax.set_ylabel('Frequency')\n",
    "plt.tight_layout()\n",
    "plt.colorbar(img,ax=axes)\n",
    "plt.show()"
   ]
  },
  {
   "cell_type": "markdown",
   "metadata": {},
   "source": [
    "## Loss\n",
    "VAE的损失由重构损失和KL损失组成.\n",
    "\n",
    "KL散度就不再推导了, 直接放结果:\n",
    "$$KL\\Big(N(\\mu,\\sigma^2)\\Big\\Vert N(0,1)\\Big)=\\frac{1}{2}\\Big(-\\log \\sigma^2+\\mu^2+\\sigma^2-1\\Big)$$\n",
    "\n",
    "VAE的目标是最小化$Z$和$\\mathcal{N}(0, I)$之间的KL散度, 代码只需要照着写就行了:"
   ]
  },
  {
   "cell_type": "code",
   "execution_count": 10,
   "metadata": {},
   "outputs": [],
   "source": [
    "kl_loss = MaskedKLDivLoss()\n",
    "recon_loss = MaskedLoss(loss_fn=nn.MSELoss(reduction=\"none\"))"
   ]
  },
  {
   "cell_type": "markdown",
   "metadata": {},
   "source": [
    "## Prepare Model\n",
    "先定义好训练的epoch和batch_size, 优化器随便选一个世界上最好的优化器Adam(lr=1e-3):"
   ]
  },
  {
   "cell_type": "code",
   "execution_count": 11,
   "metadata": {},
   "outputs": [],
   "source": [
    "device = torch.device('cuda' if torch.cuda.is_available() else 'cpu')\n",
    "model = TheLearner(enc_size_list=ENC_SIZE_LIST, dec_size_list=DEC_SIZE_LIST, num_layers=3, dropout=0.3)\n",
    "model.to(device)\n",
    "optimizer = optim.Adam(model.parameters(), lr=1e-3)\n",
    "\n",
    "model_str = str(model)\n",
    "model_txt_path = os.path.join(model_save_dir, \"model.txt\")\n",
    "\n",
    "with open(model_txt_path, \"w\") as f:\n",
    "    f.write(model_str)"
   ]
  },
  {
   "cell_type": "code",
   "execution_count": 12,
   "metadata": {},
   "outputs": [
    {
     "name": "stdout",
     "output_type": "stream",
     "text": [
      "10840\n"
     ]
    },
    {
     "data": {
      "text/plain": [
       "VAENetV1(\n",
       "  (encoder): VAEEncoderV1(\n",
       "    (lin_1): Linear(in_features=64, out_features=8, bias=True)\n",
       "    (rnn): LSTM(8, 8, num_layers=3, batch_first=True, dropout=0.3, bidirectional=True)\n",
       "  )\n",
       "  (decoder): VAEDecoderV1(\n",
       "    (rnn): LSTM(8, 8, num_layers=3, batch_first=True, dropout=0.3, bidirectional=True)\n",
       "    (lin_2): Linear(in_features=16, out_features=64, bias=True)\n",
       "  )\n",
       "  (mu_lin): Linear(in_features=16, out_features=8, bias=True)\n",
       "  (logvar_lin): Linear(in_features=16, out_features=8, bias=True)\n",
       ")"
      ]
     },
     "execution_count": 12,
     "metadata": {},
     "output_type": "execute_result"
    }
   ],
   "source": [
    "model_parameters = filter(lambda p: p.requires_grad, model.parameters())\n",
    "params = sum([np.prod(p.size()) for p in model_parameters])\n",
    "print(params)\n",
    "\n",
    "# initialize model weights\n",
    "def init_weights(m):\n",
    "    if isinstance(m, nn.Linear):\n",
    "        torch.nn.init.orthogonal_(m.weight)\n",
    "        m.bias.data.fill_(0.01)\n",
    "    if isinstance(m, nn.LSTM): \n",
    "        for name, p in m.named_parameters():\n",
    "            if \"weight\" in name: \n",
    "                nn.init.orthogonal_(p)\n",
    "            elif \"bias\" in name: \n",
    "                nn.init.constant_(p, 0)\n",
    "\n",
    "model.apply(init_weights)"
   ]
  },
  {
   "cell_type": "markdown",
   "metadata": {},
   "source": [
    "### Load model if READ"
   ]
  },
  {
   "cell_type": "code",
   "execution_count": 13,
   "metadata": {},
   "outputs": [],
   "source": [
    "if READ: \n",
    "    train_losses.read()\n",
    "    valid_losses.read()\n",
    "\n",
    "    train_kl_losses.read()\n",
    "    valid_kl_losses.read()\n",
    "\n",
    "    model_name = \"{}.pt\".format(stop_epoch)\n",
    "    model_path = os.path.join(model_save_dir, model_name)\n",
    "    state = torch.load(model_path)\n",
    "\n",
    "    model.load_state_dict(state)\n",
    "    model.to(device)"
   ]
  },
  {
   "cell_type": "markdown",
   "metadata": {},
   "source": [
    "## Training"
   ]
  },
  {
   "cell_type": "code",
   "execution_count": 14,
   "metadata": {},
   "outputs": [],
   "source": [
    "EPOCHS = 30\n",
    "BASE = 0"
   ]
  },
  {
   "cell_type": "code",
   "execution_count": 15,
   "metadata": {},
   "outputs": [
    {
     "name": "stdout",
     "output_type": "stream",
     "text": [
      "Epoch 0\n",
      "Training loss  1.002 \t Recon  1.000 \t KL  0.002 in Step 0\n",
      "Training loss  0.781 \t Recon  0.780 \t KL  0.001 in Step 100\n",
      "Training loss  0.768 \t Recon  0.745 \t KL  0.022 in Step 200\n",
      "Training loss  0.722 \t Recon  0.684 \t KL  0.038 in Step 300\n",
      "Training loss  0.721 \t Recon  0.673 \t KL  0.048 in Step 400\n",
      "※※※Training loss  0.772※※※\n",
      "Valid loss  0.712 \t Recon  0.669 \t KL  0.043\n",
      "Epoch 1\n",
      "Training loss  0.722 \t Recon  0.679 \t KL  0.044 in Step 0\n",
      "Training loss  0.687 \t Recon  0.642 \t KL  0.045 in Step 100\n",
      "Training loss  0.679 \t Recon  0.631 \t KL  0.049 in Step 200\n",
      "Training loss  0.674 \t Recon  0.621 \t KL  0.053 in Step 300\n",
      "Training loss  0.654 \t Recon  0.601 \t KL  0.053 in Step 400\n",
      "※※※Training loss  0.682※※※\n",
      "Valid loss  0.674 \t Recon  0.618 \t KL  0.057\n",
      "Epoch 2\n",
      "Training loss  0.671 \t Recon  0.616 \t KL  0.055 in Step 0\n",
      "Training loss  0.665 \t Recon  0.608 \t KL  0.057 in Step 100\n",
      "Training loss  0.674 \t Recon  0.617 \t KL  0.057 in Step 200\n",
      "Training loss  0.652 \t Recon  0.584 \t KL  0.068 in Step 300\n",
      "Training loss  0.660 \t Recon  0.591 \t KL  0.069 in Step 400\n",
      "※※※Training loss  0.667※※※\n",
      "Valid loss  0.667 \t Recon  0.600 \t KL  0.067\n",
      "Epoch 3\n",
      "Training loss  0.663 \t Recon  0.596 \t KL  0.066 in Step 0\n",
      "Training loss  0.661 \t Recon  0.596 \t KL  0.065 in Step 100\n",
      "Training loss  0.673 \t Recon  0.604 \t KL  0.069 in Step 200\n",
      "Training loss  0.654 \t Recon  0.582 \t KL  0.071 in Step 300\n",
      "Training loss  0.666 \t Recon  0.599 \t KL  0.067 in Step 400\n",
      "※※※Training loss  0.661※※※\n",
      "Valid loss  0.661 \t Recon  0.594 \t KL  0.068\n",
      "Epoch 4\n",
      "Training loss  0.643 \t Recon  0.580 \t KL  0.062 in Step 0\n",
      "Training loss  0.672 \t Recon  0.601 \t KL  0.071 in Step 100\n",
      "Training loss  0.661 \t Recon  0.590 \t KL  0.071 in Step 200\n",
      "Training loss  0.659 \t Recon  0.591 \t KL  0.068 in Step 300\n",
      "Training loss  0.645 \t Recon  0.578 \t KL  0.067 in Step 400\n",
      "※※※Training loss  0.657※※※\n",
      "Valid loss  0.658 \t Recon  0.589 \t KL  0.070\n",
      "Epoch 5\n",
      "Training loss  0.653 \t Recon  0.584 \t KL  0.069 in Step 0\n",
      "Training loss  0.645 \t Recon  0.574 \t KL  0.071 in Step 100\n",
      "Training loss  0.650 \t Recon  0.573 \t KL  0.077 in Step 200\n",
      "Training loss  0.655 \t Recon  0.587 \t KL  0.068 in Step 300\n",
      "Training loss  0.656 \t Recon  0.578 \t KL  0.078 in Step 400\n",
      "※※※Training loss  0.653※※※\n",
      "Valid loss  0.653 \t Recon  0.574 \t KL  0.078\n",
      "Epoch 6\n",
      "Training loss  0.659 \t Recon  0.575 \t KL  0.084 in Step 0\n",
      "Training loss  0.655 \t Recon  0.577 \t KL  0.078 in Step 100\n",
      "Training loss  0.651 \t Recon  0.573 \t KL  0.078 in Step 200\n",
      "Training loss  0.652 \t Recon  0.573 \t KL  0.079 in Step 300\n",
      "Training loss  0.650 \t Recon  0.571 \t KL  0.079 in Step 400\n",
      "※※※Training loss  0.648※※※\n",
      "Valid loss  0.649 \t Recon  0.568 \t KL  0.081\n",
      "Epoch 7\n",
      "Training loss  0.636 \t Recon  0.557 \t KL  0.079 in Step 0\n",
      "Training loss  0.649 \t Recon  0.566 \t KL  0.083 in Step 100\n",
      "Training loss  0.651 \t Recon  0.567 \t KL  0.085 in Step 200\n",
      "Training loss  0.638 \t Recon  0.557 \t KL  0.081 in Step 300\n",
      "Training loss  0.633 \t Recon  0.553 \t KL  0.080 in Step 400\n",
      "※※※Training loss  0.645※※※\n",
      "Valid loss  0.647 \t Recon  0.562 \t KL  0.085\n",
      "Epoch 8\n",
      "Training loss  0.668 \t Recon  0.578 \t KL  0.090 in Step 0\n",
      "Training loss  0.649 \t Recon  0.570 \t KL  0.078 in Step 100\n",
      "Training loss  0.619 \t Recon  0.542 \t KL  0.077 in Step 200\n",
      "Training loss  0.635 \t Recon  0.552 \t KL  0.083 in Step 300\n",
      "Training loss  0.646 \t Recon  0.562 \t KL  0.084 in Step 400\n",
      "※※※Training loss  0.643※※※\n",
      "Valid loss  0.645 \t Recon  0.562 \t KL  0.083\n",
      "Epoch 9\n",
      "Training loss  0.647 \t Recon  0.563 \t KL  0.084 in Step 0\n",
      "Training loss  0.626 \t Recon  0.551 \t KL  0.075 in Step 100\n",
      "Training loss  0.638 \t Recon  0.557 \t KL  0.081 in Step 200\n",
      "Training loss  0.641 \t Recon  0.557 \t KL  0.083 in Step 300\n",
      "Training loss  0.633 \t Recon  0.549 \t KL  0.084 in Step 400\n",
      "※※※Training loss  0.641※※※\n",
      "Valid loss  0.643 \t Recon  0.563 \t KL  0.080\n",
      "Epoch 10\n",
      "Training loss  0.637 \t Recon  0.557 \t KL  0.079 in Step 0\n",
      "Training loss  0.638 \t Recon  0.555 \t KL  0.083 in Step 100\n",
      "Training loss  0.654 \t Recon  0.569 \t KL  0.086 in Step 200\n",
      "Training loss  0.635 \t Recon  0.552 \t KL  0.083 in Step 300\n",
      "Training loss  0.641 \t Recon  0.558 \t KL  0.083 in Step 400\n",
      "※※※Training loss  0.640※※※\n",
      "Valid loss  0.642 \t Recon  0.557 \t KL  0.086\n",
      "Epoch 11\n",
      "Training loss  0.647 \t Recon  0.555 \t KL  0.091 in Step 0\n",
      "Training loss  0.652 \t Recon  0.566 \t KL  0.086 in Step 100\n",
      "Training loss  0.623 \t Recon  0.540 \t KL  0.083 in Step 200\n",
      "Training loss  0.656 \t Recon  0.573 \t KL  0.082 in Step 300\n",
      "Training loss  0.625 \t Recon  0.545 \t KL  0.080 in Step 400\n",
      "※※※Training loss  0.639※※※\n",
      "Valid loss  0.641 \t Recon  0.555 \t KL  0.086\n",
      "Epoch 12\n",
      "Training loss  0.640 \t Recon  0.552 \t KL  0.088 in Step 0\n",
      "Training loss  0.632 \t Recon  0.554 \t KL  0.079 in Step 100\n",
      "Training loss  0.631 \t Recon  0.546 \t KL  0.085 in Step 200\n",
      "Training loss  0.628 \t Recon  0.547 \t KL  0.081 in Step 300\n",
      "Training loss  0.629 \t Recon  0.548 \t KL  0.081 in Step 400\n",
      "※※※Training loss  0.638※※※\n",
      "Valid loss  0.642 \t Recon  0.556 \t KL  0.085\n",
      "Epoch 13\n",
      "Training loss  0.644 \t Recon  0.559 \t KL  0.085 in Step 0\n",
      "Training loss  0.616 \t Recon  0.531 \t KL  0.085 in Step 100\n",
      "Training loss  0.635 \t Recon  0.546 \t KL  0.088 in Step 200\n",
      "Training loss  0.635 \t Recon  0.549 \t KL  0.086 in Step 300\n",
      "Training loss  0.632 \t Recon  0.548 \t KL  0.085 in Step 400\n",
      "※※※Training loss  0.637※※※\n",
      "Valid loss  0.639 \t Recon  0.553 \t KL  0.086\n",
      "Epoch 14\n",
      "Training loss  0.637 \t Recon  0.551 \t KL  0.086 in Step 0\n",
      "Training loss  0.625 \t Recon  0.544 \t KL  0.082 in Step 100\n",
      "Training loss  0.637 \t Recon  0.555 \t KL  0.082 in Step 200\n",
      "Training loss  0.632 \t Recon  0.551 \t KL  0.081 in Step 300\n",
      "Training loss  0.649 \t Recon  0.563 \t KL  0.087 in Step 400\n",
      "※※※Training loss  0.637※※※\n",
      "Valid loss  0.639 \t Recon  0.552 \t KL  0.088\n",
      "Epoch 15\n",
      "Training loss  0.642 \t Recon  0.555 \t KL  0.087 in Step 0\n",
      "Training loss  0.627 \t Recon  0.539 \t KL  0.087 in Step 100\n",
      "Training loss  0.639 \t Recon  0.554 \t KL  0.085 in Step 200\n",
      "Training loss  0.624 \t Recon  0.541 \t KL  0.083 in Step 300\n",
      "Training loss  0.627 \t Recon  0.539 \t KL  0.088 in Step 400\n",
      "※※※Training loss  0.636※※※\n",
      "Valid loss  0.639 \t Recon  0.552 \t KL  0.087\n",
      "Epoch 16\n",
      "Training loss  0.636 \t Recon  0.552 \t KL  0.084 in Step 0\n",
      "Training loss  0.639 \t Recon  0.548 \t KL  0.091 in Step 100\n",
      "Training loss  0.629 \t Recon  0.541 \t KL  0.088 in Step 200\n",
      "Training loss  0.630 \t Recon  0.542 \t KL  0.088 in Step 300\n",
      "Training loss  0.629 \t Recon  0.539 \t KL  0.091 in Step 400\n",
      "※※※Training loss  0.635※※※\n",
      "Valid loss  0.638 \t Recon  0.548 \t KL  0.090\n",
      "Epoch 17\n",
      "Training loss  0.646 \t Recon  0.556 \t KL  0.090 in Step 0\n",
      "Training loss  0.630 \t Recon  0.545 \t KL  0.085 in Step 100\n",
      "Training loss  0.635 \t Recon  0.551 \t KL  0.084 in Step 200\n",
      "Training loss  0.634 \t Recon  0.550 \t KL  0.085 in Step 300\n",
      "Training loss  0.628 \t Recon  0.547 \t KL  0.082 in Step 400\n",
      "※※※Training loss  0.635※※※\n",
      "Valid loss  0.637 \t Recon  0.548 \t KL  0.089\n",
      "Epoch 18\n",
      "Training loss  0.635 \t Recon  0.548 \t KL  0.087 in Step 0\n",
      "Training loss  0.631 \t Recon  0.546 \t KL  0.085 in Step 100\n",
      "Training loss  0.641 \t Recon  0.550 \t KL  0.091 in Step 200\n",
      "Training loss  0.636 \t Recon  0.556 \t KL  0.080 in Step 300\n",
      "Training loss  0.625 \t Recon  0.540 \t KL  0.085 in Step 400\n",
      "※※※Training loss  0.634※※※\n",
      "Valid loss  0.637 \t Recon  0.545 \t KL  0.092\n",
      "Epoch 19\n",
      "Training loss  0.639 \t Recon  0.545 \t KL  0.093 in Step 0\n",
      "Training loss  0.628 \t Recon  0.545 \t KL  0.084 in Step 100\n",
      "Training loss  0.642 \t Recon  0.555 \t KL  0.087 in Step 200\n",
      "Training loss  0.642 \t Recon  0.546 \t KL  0.096 in Step 300\n",
      "Training loss  0.631 \t Recon  0.542 \t KL  0.090 in Step 400\n",
      "※※※Training loss  0.634※※※\n",
      "Valid loss  0.638 \t Recon  0.548 \t KL  0.090\n",
      "Epoch 20\n",
      "Training loss  0.635 \t Recon  0.545 \t KL  0.090 in Step 0\n",
      "Training loss  0.618 \t Recon  0.535 \t KL  0.082 in Step 100\n",
      "Training loss  0.648 \t Recon  0.557 \t KL  0.091 in Step 200\n",
      "Training loss  0.637 \t Recon  0.548 \t KL  0.089 in Step 300\n",
      "Training loss  0.634 \t Recon  0.540 \t KL  0.094 in Step 400\n",
      "※※※Training loss  0.634※※※\n",
      "Valid loss  0.637 \t Recon  0.548 \t KL  0.090\n",
      "Epoch 21\n",
      "Training loss  0.624 \t Recon  0.535 \t KL  0.089 in Step 0\n",
      "Training loss  0.621 \t Recon  0.531 \t KL  0.090 in Step 100\n",
      "Training loss  0.645 \t Recon  0.551 \t KL  0.094 in Step 200\n",
      "Training loss  0.634 \t Recon  0.550 \t KL  0.084 in Step 300\n",
      "Training loss  0.641 \t Recon  0.548 \t KL  0.093 in Step 400\n",
      "※※※Training loss  0.633※※※\n",
      "Valid loss  0.637 \t Recon  0.546 \t KL  0.090\n",
      "Epoch 22\n",
      "Training loss  0.620 \t Recon  0.531 \t KL  0.088 in Step 0\n",
      "Training loss  0.643 \t Recon  0.551 \t KL  0.093 in Step 100\n",
      "Training loss  0.633 \t Recon  0.543 \t KL  0.090 in Step 200\n",
      "Training loss  0.634 \t Recon  0.544 \t KL  0.090 in Step 300\n",
      "Training loss  0.631 \t Recon  0.541 \t KL  0.090 in Step 400\n",
      "※※※Training loss  0.633※※※\n",
      "Valid loss  0.636 \t Recon  0.546 \t KL  0.090\n",
      "Epoch 23\n",
      "Training loss  0.633 \t Recon  0.541 \t KL  0.092 in Step 0\n",
      "Training loss  0.632 \t Recon  0.542 \t KL  0.091 in Step 100\n",
      "Training loss  0.632 \t Recon  0.540 \t KL  0.092 in Step 200\n",
      "Training loss  0.616 \t Recon  0.529 \t KL  0.087 in Step 300\n",
      "Training loss  0.631 \t Recon  0.542 \t KL  0.089 in Step 400\n",
      "※※※Training loss  0.633※※※\n",
      "Valid loss  0.635 \t Recon  0.545 \t KL  0.091\n",
      "Epoch 24\n",
      "Training loss  0.622 \t Recon  0.536 \t KL  0.086 in Step 0\n",
      "Training loss  0.622 \t Recon  0.537 \t KL  0.085 in Step 100\n",
      "Training loss  0.618 \t Recon  0.534 \t KL  0.083 in Step 200\n",
      "Training loss  0.647 \t Recon  0.558 \t KL  0.089 in Step 300\n",
      "Training loss  0.618 \t Recon  0.534 \t KL  0.084 in Step 400\n",
      "※※※Training loss  0.632※※※\n",
      "Valid loss  0.636 \t Recon  0.546 \t KL  0.090\n",
      "Epoch 25\n",
      "Training loss  0.638 \t Recon  0.553 \t KL  0.086 in Step 0\n",
      "Training loss  0.615 \t Recon  0.531 \t KL  0.084 in Step 100\n",
      "Training loss  0.627 \t Recon  0.538 \t KL  0.089 in Step 200\n",
      "Training loss  0.635 \t Recon  0.545 \t KL  0.090 in Step 300\n",
      "Training loss  0.634 \t Recon  0.549 \t KL  0.086 in Step 400\n",
      "※※※Training loss  0.632※※※\n",
      "Valid loss  0.637 \t Recon  0.543 \t KL  0.094\n",
      "Epoch 26\n",
      "Training loss  0.641 \t Recon  0.546 \t KL  0.095 in Step 0\n",
      "Training loss  0.631 \t Recon  0.539 \t KL  0.092 in Step 100\n",
      "Training loss  0.629 \t Recon  0.538 \t KL  0.091 in Step 200\n",
      "Training loss  0.623 \t Recon  0.534 \t KL  0.089 in Step 300\n",
      "Training loss  0.615 \t Recon  0.522 \t KL  0.093 in Step 400\n",
      "※※※Training loss  0.632※※※\n",
      "Valid loss  0.636 \t Recon  0.545 \t KL  0.091\n",
      "Epoch 27\n",
      "Training loss  0.637 \t Recon  0.549 \t KL  0.088 in Step 0\n",
      "Training loss  0.655 \t Recon  0.568 \t KL  0.087 in Step 100\n",
      "Training loss  0.623 \t Recon  0.538 \t KL  0.085 in Step 200\n",
      "Training loss  0.619 \t Recon  0.534 \t KL  0.085 in Step 300\n",
      "Training loss  0.628 \t Recon  0.541 \t KL  0.087 in Step 400\n",
      "※※※Training loss  0.632※※※\n",
      "Valid loss  0.635 \t Recon  0.545 \t KL  0.089\n",
      "Epoch 28\n",
      "Training loss  0.633 \t Recon  0.545 \t KL  0.088 in Step 0\n",
      "Training loss  0.628 \t Recon  0.541 \t KL  0.087 in Step 100\n",
      "Training loss  0.626 \t Recon  0.538 \t KL  0.088 in Step 200\n",
      "Training loss  0.624 \t Recon  0.537 \t KL  0.087 in Step 300\n",
      "Training loss  0.626 \t Recon  0.535 \t KL  0.091 in Step 400\n",
      "※※※Training loss  0.631※※※\n",
      "Valid loss  0.635 \t Recon  0.547 \t KL  0.088\n",
      "Epoch 29\n",
      "Training loss  0.638 \t Recon  0.551 \t KL  0.087 in Step 0\n",
      "Training loss  0.627 \t Recon  0.543 \t KL  0.085 in Step 100\n",
      "Training loss  0.641 \t Recon  0.557 \t KL  0.084 in Step 200\n",
      "Training loss  0.629 \t Recon  0.537 \t KL  0.092 in Step 300\n",
      "Training loss  0.630 \t Recon  0.538 \t KL  0.092 in Step 400\n",
      "※※※Training loss  0.632※※※\n",
      "Valid loss  0.635 \t Recon  0.545 \t KL  0.090\n"
     ]
    }
   ],
   "source": [
    "for epoch in range(BASE, BASE + EPOCHS):\n",
    "    text_hist.print(\"Epoch {}\".format(epoch))\n",
    "\n",
    "    model.train()\n",
    "    train_loss = 0.\n",
    "    train_recon_loss = 0.\n",
    "    train_kl_loss = 0.\n",
    "    train_num = len(train_loader)    # train_loader\n",
    "    for idx, (x, x_lens) in enumerate(train_loader):\n",
    "        # y_lens should be the same as x_lens\n",
    "        optimizer.zero_grad()\n",
    "        x_mask = generate_mask_from_lengths_mat(x_lens, device=device)\n",
    "        # autoencoder\n",
    "        y = x\n",
    "        x = x.to(device)\n",
    "        y = y.to(device)\n",
    "\n",
    "        x_hat, (mu, logvar) = model(x, x_lens)\n",
    "\n",
    "        recon = recon_loss.get_loss(x_hat, y, x_mask)\n",
    "        kl = kl_loss.get_loss(mu, logvar, x_mask)\n",
    "        loss = recon + kl    # elbo\n",
    "\n",
    "        train_loss += loss.item()\n",
    "        train_recon_loss += recon.item()\n",
    "        train_kl_loss += kl.item()\n",
    "\n",
    "        loss.backward()\n",
    "        # torch.nn.utils.clip_grad_norm_(parameters=model.parameters(), max_norm=5, norm_type=2)\n",
    "        optimizer.step()\n",
    "\n",
    "        if idx % 100 == 0:\n",
    "            text_hist.print(f\"Training loss {loss: .3f} \\t Recon {recon: .3f} \\t KL {kl: .3f} in Step {idx}\")\n",
    "\n",
    "    train_losses.append(train_recon_loss / train_num)\n",
    "    train_kl_losses.append(train_kl_loss / train_num)\n",
    "    text_hist.print(f\"※※※Training loss {train_loss / train_num: .3f}※※※\")\n",
    "\n",
    "    last_model_name = \"{}.pt\".format(epoch)\n",
    "    torch.save(model.state_dict(), os.path.join(model_save_dir, last_model_name))\n",
    "\n",
    "\n",
    "    model.eval()\n",
    "    valid_loss = 0.\n",
    "    valid_recon_loss = 0.\n",
    "    valid_kl_loss = 0.\n",
    "    valid_num = len(valid_loader)\n",
    "    for idx, (x, x_lens) in enumerate(valid_loader):\n",
    "        x_mask = generate_mask_from_lengths_mat(x_lens, device=device)\n",
    "\n",
    "        y = x\n",
    "        x = x.to(device)\n",
    "        y = y.to(device)\n",
    "\n",
    "        x_hat, (mu, logvar) = model(x, x_lens)\n",
    "\n",
    "        recon = recon_loss.get_loss(x_hat, y, x_mask)\n",
    "        kl = kl_loss.get_loss(mu, logvar, x_mask)\n",
    "        loss = recon + kl    # elbo\n",
    "\n",
    "        valid_loss += loss.item()\n",
    "        valid_recon_loss += recon.item()\n",
    "        valid_kl_loss += kl.item()\n",
    "\n",
    "    text_hist.print(f\"Valid loss {valid_loss / valid_num: .3f} \\t Recon {valid_recon_loss / valid_num: .3f} \\t KL {valid_kl_loss / valid_num: .3f}\")\n",
    "    valid_losses.append(valid_recon_loss / valid_num)\n",
    "    valid_kl_losses.append(valid_kl_loss / valid_num)"
   ]
  },
  {
   "cell_type": "markdown",
   "metadata": {},
   "source": [
    "觉得Loss位数保留太多的可以自己设置.\n",
    "\n",
    "下面画出训练过程中训练集和验证集上的损失曲线:"
   ]
  },
  {
   "cell_type": "code",
   "execution_count": 16,
   "metadata": {},
   "outputs": [
    {
     "data": {
      "text/plain": [
       "Text(0.5, 1.0, 'Learning Curve')"
      ]
     },
     "execution_count": 16,
     "metadata": {},
     "output_type": "execute_result"
    },
    {
     "data": {
      "image/png": "[encoded data removed]",
      "text/plain": [
       "<Figure size 640x480 with 1 Axes>"
      ]
     },
     "metadata": {},
     "output_type": "display_data"
    }
   ],
   "source": [
    "plt.plot(train_losses.get(), label='Train_Recon')\n",
    "plt.plot(valid_losses.get(), label='Valid_Recon')\n",
    "plt.plot(train_kl_losses.get(), label='Train_KL')\n",
    "plt.plot(valid_kl_losses.get(), label='Valid_KL')\n",
    "plt.legend()\n",
    "plt.title('Learning Curve')"
   ]
  },
  {
   "cell_type": "markdown",
   "metadata": {},
   "source": [
    "基本上Valid Loss稳定了(其实还有下降空间). 同时要保存在验证集上结果最好的模型, 因为等会还要用最好的模型做生成."
   ]
  }
 ],
 "metadata": {
  "kernelspec": {
   "display_name": "wavln",
   "language": "python",
   "name": "python3"
  },
  "language_info": {
   "codemirror_mode": {
    "name": "ipython",
    "version": 3
   },
   "file_extension": ".py",
   "mimetype": "text/x-python",
   "name": "python",
   "nbconvert_exporter": "python",
   "pygments_lexer": "ipython3",
   "version": "3.11.7"
  }
 },
 "nbformat": 4,
 "nbformat_minor": 2
}
