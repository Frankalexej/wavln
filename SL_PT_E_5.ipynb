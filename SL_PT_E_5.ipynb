{
 "cells": [
  {
   "attachments": {},
   "cell_type": "markdown",
   "metadata": {
    "id": "B-mljeGlqMqo"
   },
   "source": [
    "# Sequence Learning - Phone Training - English\n",
    "Version 2:  This version has a core structure using HM-RNN. Unlike traditional approaches, our model can automatically detect boundaries. It is trainable and updates the upper layer only upon detecting boundaries. This makes our model suitable for detecting boundaries and capturing the representations of sub-segments based on these detected boundaries. In essence, our model performs boundary detection and representation learning simultaneously.\n",
    "\n",
    "Version 3: this version completed the coding of the core model structure as well as the dataloading, preprocessing, padding and loss calculation processes. At present we only try mel->model -> mel structure, since wav <> wav would introduce extra complexion. In addition, our model will process padded multi-batch tensors as normal but count for the paddings (ignore paddings) during calculation. \n",
    "\n",
    "Version 4: this version is testing whether our hmrnn is not working. It imports a modified version of model: model_test\n",
    "\n",
    "Version 5: this version is testing phase two, mainly working on preprocessing modifications. "
   ]
  },
  {
   "cell_type": "code",
   "execution_count": 1,
   "metadata": {},
   "outputs": [],
   "source": [
    "# import sys\n",
    "# sys.path.append('./multiscale_rnn')"
   ]
  },
  {
   "cell_type": "code",
   "execution_count": 2,
   "metadata": {
    "id": "jN5DNuExjwet"
   },
   "outputs": [],
   "source": [
    "import torch\n",
    "import torchaudio\n",
    "from torch import nn\n",
    "import torch.nn.functional as F\n",
    "from torch.nn.utils.rnn import pad_sequence, pack_sequence\n",
    "from torch import optim\n",
    "from torch.utils.data import Dataset, DataLoader, random_split\n",
    "import matplotlib.pyplot as plt\n",
    "import numpy as np\n",
    "import csv\n",
    "import pandas as pd\n",
    "from sklearn.cluster import KMeans\n",
    "from sklearn.metrics import homogeneity_completeness_v_measure\n",
    "import pickle\n",
    "from paths import *\n",
    "from my_utils import *\n",
    "from padding import generate_mask_from_lengths_mat, mask_it, masked_loss\n",
    "import pytz\n",
    "from datetime import datetime\n",
    "import random\n",
    "import gc"
   ]
  },
  {
   "cell_type": "code",
   "execution_count": 3,
   "metadata": {},
   "outputs": [],
   "source": [
    "# from model import PhonLearn_Net\n",
    "from model_test import PhonLearn_Net, DirectPassModel, TwoRNNModel, TwoRNNAttn"
   ]
  },
  {
   "attachments": {},
   "cell_type": "markdown",
   "metadata": {
    "tags": []
   },
   "source": [
    "### Dirs"
   ]
  },
  {
   "cell_type": "code",
   "execution_count": 4,
   "metadata": {
    "id": "iGouCDYD3h18"
   },
   "outputs": [],
   "source": [
    "model_save_dir = model_eng_save_dir\n",
    "# random_data:phone_seg_random_path\n",
    "# anno_data: phone_seg_anno_path\n",
    "\n",
    "# random_log_path = phone_seg_random_log_path + \"log.csv\"\n",
    "random_log_path = word_seg_anno_log_path\n",
    "random_path = word_seg_anno_path\n",
    "anno_log_path = phone_seg_anno_path"
   ]
  },
  {
   "attachments": {},
   "cell_type": "markdown",
   "metadata": {},
   "source": [
    "### Constants"
   ]
  },
  {
   "cell_type": "code",
   "execution_count": 5,
   "metadata": {},
   "outputs": [],
   "source": [
    "# 规范用语；规定两种方式：全加载；按rec加载（舍弃了按chunk加载，处理起来更简单）\n",
    "# RandomPhoneDataset; AnnoPhoneDataset; AnnoSeqDataset"
   ]
  },
  {
   "cell_type": "code",
   "execution_count": 6,
   "metadata": {},
   "outputs": [],
   "source": [
    "class PhoneDataset(Dataset):\n",
    "    \"\"\"\n",
    "    A PyTorch dataset that loads cutted wave files from disk and returns input-output pairs for\n",
    "    training autoencoder. \n",
    "    \n",
    "    Version 3: wav -> mel\n",
    "    \"\"\"\n",
    "    \n",
    "    def __init__(self, load_dir, load_control_path, transform=None):\n",
    "        \"\"\"\n",
    "        Initializes the class by reading a CSV file and merging the \"rec\" and \"idx\" columns.\n",
    "\n",
    "        The function reads the CSV file from the provided control path, extracts the \"rec\" and \"idx\" columns,\n",
    "        and concatenates the values from these columns using an underscore. It then appends the \".wav\" extension\n",
    "        to each of the merged strings and converts the merged pandas Series to a list, which is assigned to\n",
    "        the 'dataset' attribute of the class.\n",
    "\n",
    "        Args:\n",
    "        load_dir (str): The directory containing the files to load.\n",
    "        load_control_path (str): The path to the CSV file containing the \"rec\" and \"idx\" columns.\n",
    "\n",
    "        Attributes:\n",
    "        dataset (list): A list of merged strings from the \"rec\" and \"idx\" columns, with the \".wav\" extension.\n",
    "        \"\"\"\n",
    "        control_file = pd.read_csv(load_control_path)\n",
    "        control_file = control_file[control_file['n_frames'] > 400]\n",
    "        control_file = control_file[control_file['duration'] <= 2.0]\n",
    "        \n",
    "        # Extract the \"rec\" and \"idx\" columns\n",
    "        rec_col = control_file['rec'].astype(str)\n",
    "        idx_col = control_file['idx'].astype(str).str.zfill(8)\n",
    "        \n",
    "        # Merge the two columns by concatenating the strings with '_' and append extension name\n",
    "        merged_col = rec_col + '_' + idx_col + \".wav\"\n",
    "        \n",
    "        self.dataset = merged_col.tolist()\n",
    "        self.load_dir = load_dir\n",
    "        self.transform = transform\n",
    "        \n",
    "    \n",
    "    def __len__(self):\n",
    "        \"\"\"\n",
    "        Returns the length of the dataset.\n",
    "        \n",
    "        Returns:\n",
    "            int: The number of input-output pairs in the dataset.\n",
    "        \"\"\"\n",
    "        return len(self.dataset)\n",
    "    \n",
    "    def __getitem__(self, idx):\n",
    "        \"\"\"\n",
    "        Returns a tuple (input_data, output_data) for the given index.\n",
    "\n",
    "        The function first checks if the provided index is a tensor, and if so, converts it to a list.\n",
    "        It then constructs the file path for the .wav file using the dataset attribute and the provided index.\n",
    "        The .wav file is loaded using torchaudio, and its data is normalized. If a transform is provided,\n",
    "        the data is transformed using the specified transform. Finally, the input_data and output_data are\n",
    "        set to the same data (creating a tuple), and the tuple is returned.\n",
    "\n",
    "        Args:\n",
    "        idx (int or torch.Tensor): The index of the desired data.\n",
    "\n",
    "        Returns:\n",
    "        tuple: A tuple containing input_data and output_data, both of which are the audio data\n",
    "               from the .wav file at the specified index.\n",
    "\n",
    "        Note: \n",
    "        This function assumes that the class has the following attributes:\n",
    "        - self.load_dir (str): The directory containing the .wav files.\n",
    "        - self.dataset (list): A list of .wav file names.\n",
    "        - self.transform (callable, optional): An optional transform to apply to the audio data.\n",
    "        \"\"\"\n",
    "        if torch.is_tensor(idx):\n",
    "            idx = idx.tolist()\n",
    "        wav_name = os.path.join(self.load_dir,\n",
    "                                self.dataset[idx])\n",
    "        \n",
    "        data, sample_rate = torchaudio.load(wav_name, normalize=True)\n",
    "        if self.transform:\n",
    "            data = self.transform(data, sr=sample_rate)\n",
    "        \n",
    "        # # Prepare for possible in-out discrepencies in the future\n",
    "        # input_data = data\n",
    "        # output_data = data\n",
    "        \n",
    "        return data\n",
    "\n",
    "def collate_fn(xx):\n",
    "    # only working for one data at the moment\n",
    "    batch_first = True\n",
    "    x_lens = [len(x) for x in xx]\n",
    "    xx_pad = pad_sequence(xx, batch_first=batch_first, padding_value=0)\n",
    "    return xx_pad, x_lens\n",
    "\n",
    "\n",
    "class MyTransform(nn.Module): \n",
    "    def __init__(self, sample_rate, n_fft): \n",
    "        super().__init__()\n",
    "        # self.transform = torchaudio.transforms.MelSpectrogram(sample_rate, n_fft=n_fft, n_mels=64)\n",
    "        # self.to_db = torchaudio.transforms.AmplitudeToDB()\n",
    "        # self.transform = torchaudio.transforms.MFCC(n_mfcc=13)\n",
    "    \n",
    "    def forward(self, waveform, sr=16000): \n",
    "        # extract mfcc\n",
    "        feature = torchaudio.compliance.kaldi.mfcc(waveform, sample_frequency=sr)\n",
    "\n",
    "        # add deltas\n",
    "        d1 = torchaudio.functional.compute_deltas(feature)\n",
    "        d2 = torchaudio.functional.compute_deltas(d1)\n",
    "        feature = torch.cat([feature, d1, d2], dim=-1)\n",
    "\n",
    "        # Apply normalization (CMVN)\n",
    "        eps = 1e-9\n",
    "        mean = feature.mean(0, keepdim=True)\n",
    "        std = feature.std(0, keepdim=True, unbiased=False)\n",
    "        # print(feature.shape)\n",
    "        # print(mean, std)\n",
    "        feature = (feature - mean) / (std + eps)\n",
    "\n",
    "        # mel_spec = self.transform(waveform)\n",
    "        # # mel_spec = self.to_db(mel_spec)\n",
    "        # mel_spec = mel_spec.squeeze()\n",
    "        # mel_spec = mel_spec.permute(1, 0) # (F, L) -> (L, F)\n",
    "        return feature"
   ]
  },
  {
   "cell_type": "code",
   "execution_count": 7,
   "metadata": {},
   "outputs": [],
   "source": [
    "# # NOTE: THIS IS HOW WE CAN CREATE THE DATASET AND DATALOADER\n",
    "# sample_rate = 16000\n",
    "# n_fft = 400\n",
    "\n",
    "# transform = MyTransform(sample_rate, n_fft)\n",
    "\n",
    "# ds = PhoneDataset(phone_seg_random_path, phone_seg_random_log_path + \"s0101a.csv\", transform=transform)\n",
    "\n",
    "# test_dl = DataLoader(ds, batch_size=2, shuffle=True, collate_fn=collate_fn)\n",
    "\n",
    "# indata, in_lens = next(iter(test_dl))\n",
    "\n",
    "# print(indata.shape, in_lens)"
   ]
  },
  {
   "cell_type": "code",
   "execution_count": 8,
   "metadata": {},
   "outputs": [],
   "source": [
    "EPOCHS = 10\n",
    "BATCH_SIZE = 64\n",
    "\n",
    "# SEGMENTS_IN_CHUNK = 100  # set_size\n",
    "\n",
    "# INPUT_DIM = 128\n",
    "# OUTPUT_DIM = 128\n",
    "\n",
    "INPUT_DIM = 39\n",
    "OUTPUT_DIM = 13\n",
    "\n",
    "INTER_DIM_0 = 64\n",
    "INTER_DIM_1 = 32\n",
    "INTER_DIM_2 = 8\n",
    "INTER_DIM_3 = 3\n",
    "\n",
    "SIZE_LIST = [INTER_DIM_1, INTER_DIM_2]\n",
    "\n",
    "DROPOUT = 0.5\n",
    "\n",
    "REC_SAMPLE_RATE = 16000\n",
    "N_FFT = 400\n",
    "\n",
    "LOADER_WORKER = 0"
   ]
  },
  {
   "cell_type": "code",
   "execution_count": 9,
   "metadata": {
    "id": "lUxoYBUg1jLq"
   },
   "outputs": [],
   "source": [
    "device = torch.device('cuda' if torch.cuda.is_available() else 'cpu')\n",
    "# device = torch.device('cpu')\n",
    "recon_loss = nn.MSELoss(reduction='none')\n",
    "model = TwoRNNAttn(1.0, SIZE_LIST, in_size=INPUT_DIM, \n",
    "                      in2_size=INTER_DIM_0, hid_size=INTER_DIM_3, out_size=OUTPUT_DIM)\n",
    "# model = PhonLearn_Net(1.0, SIZE_LIST, in_size=INPUT_DIM, \n",
    "#                       in2_size=INTER_DIM_0, hid_size=INTER_DIM_3, out_size=OUTPUT_DIM)\n",
    "model.to(device)\n",
    "optimizer = optim.Adam(model.parameters(), lr=1e-3)"
   ]
  },
  {
   "cell_type": "code",
   "execution_count": 10,
   "metadata": {
    "colab": {
     "base_uri": "https://localhost:8080/"
    },
    "id": "QZBCTRw3iXys",
    "outputId": "7947acdb-1a95-49a4-8b1d-93f442cf41d1"
   },
   "outputs": [
    {
     "data": {
      "text/plain": [
       "TwoRNNAttn(\n",
       "  (encoder): EncoderSimple(\n",
       "    (lin_1): LinearPack(\n",
       "      (linear): Linear(in_features=39, out_features=64, bias=True)\n",
       "      (relu): Tanh()\n",
       "      (dropout): Dropout(p=0.5, inplace=False)\n",
       "    )\n",
       "    (rnn): LSTM(64, 8, batch_first=True)\n",
       "    (lin_2): LinearPack(\n",
       "      (linear): Linear(in_features=8, out_features=3, bias=True)\n",
       "      (relu): Tanh()\n",
       "      (dropout): Dropout(p=0.5, inplace=False)\n",
       "    )\n",
       "  )\n",
       "  (decoder): Decoder(\n",
       "    (lin_1): LinearPack(\n",
       "      (linear): Linear(in_features=13, out_features=8, bias=True)\n",
       "      (relu): Tanh()\n",
       "      (dropout): Dropout(p=0.5, inplace=False)\n",
       "    )\n",
       "    (rnn): LSTM(8, 64, batch_first=True)\n",
       "    (attention): ScaledDotProductAttention(\n",
       "      (w_q): Linear(in_features=64, out_features=64, bias=True)\n",
       "      (w_k): Linear(in_features=3, out_features=64, bias=True)\n",
       "      (w_v): Linear(in_features=3, out_features=64, bias=True)\n",
       "    )\n",
       "    (lin_2): LinearPack(\n",
       "      (linear): Linear(in_features=64, out_features=13, bias=True)\n",
       "      (relu): Tanh()\n",
       "      (dropout): Dropout(p=0.5, inplace=False)\n",
       "    )\n",
       "  )\n",
       ")"
      ]
     },
     "execution_count": 10,
     "metadata": {},
     "output_type": "execute_result"
    }
   ],
   "source": [
    "model"
   ]
  },
  {
   "cell_type": "code",
   "execution_count": 11,
   "metadata": {},
   "outputs": [
    {
     "data": {
      "text/plain": [
       "device(type='cuda')"
      ]
     },
     "execution_count": 11,
     "metadata": {},
     "output_type": "execute_result"
    }
   ],
   "source": [
    "device"
   ]
  },
  {
   "cell_type": "code",
   "execution_count": 12,
   "metadata": {},
   "outputs": [],
   "source": [
    "model_parameters = filter(lambda p: p.requires_grad, model.parameters())\n",
    "params = sum([np.prod(p.size()) for p in model_parameters])"
   ]
  },
  {
   "cell_type": "code",
   "execution_count": 13,
   "metadata": {},
   "outputs": [
    {
     "data": {
      "text/plain": [
       "29528"
      ]
     },
     "execution_count": 13,
     "metadata": {},
     "output_type": "execute_result"
    }
   ],
   "source": [
    "params"
   ]
  },
  {
   "cell_type": "code",
   "execution_count": 14,
   "metadata": {
    "id": "NNHDmuigs8OB"
   },
   "outputs": [],
   "source": [
    "# Define recorders of training hists, for ease of extension\n",
    "class Recorder: \n",
    "    def __init__(self, IOPath): \n",
    "        self.record = []\n",
    "        self.IOPath = IOPath\n",
    "\n",
    "    def save(self): \n",
    "        pass\n",
    "    \n",
    "    def append(self, content): \n",
    "        self.record.append(content)\n",
    "    \n",
    "    def get(self): \n",
    "        return self.record"
   ]
  },
  {
   "cell_type": "code",
   "execution_count": 15,
   "metadata": {
    "id": "kGMfle47t3Hj"
   },
   "outputs": [],
   "source": [
    "class LossRecorder(Recorder): \n",
    "    def read(self): \n",
    "        # only used by loss hists \n",
    "        with open(self.IOPath, 'rb') as f:\n",
    "            self.record = pickle.load(f)\n",
    "    \n",
    "    def save(self): \n",
    "        with open(self.IOPath, 'wb') as file:\n",
    "            pickle.dump(self.record, file)\n",
    "\n",
    "\n",
    "class HistRecorder(Recorder):     \n",
    "    def save(self): \n",
    "        with open(self.IOPath, \"a\") as txt:\n",
    "            txt.write(\"\\n\".join(self.record))\n",
    "    \n",
    "    def print(self, content): \n",
    "        self.append(content)\n",
    "        print(content)"
   ]
  },
  {
   "cell_type": "code",
   "execution_count": 16,
   "metadata": {
    "id": "ofsEE6OaoyPh"
   },
   "outputs": [],
   "source": [
    "# Just for keeping records of training hists. \n",
    "ts = str(get_timestamp())\n",
    "# ts = \"0130021416\"\n",
    "save_txt_name = \"train_txt_{}.hst\".format(ts)\n",
    "save_trainhist_name = \"train_hist_{}.hst\".format(ts)\n",
    "save_valhist_name = \"val_hist_{}.hst\".format(ts)"
   ]
  },
  {
   "cell_type": "code",
   "execution_count": 17,
   "metadata": {
    "id": "xUHYarigvT64"
   },
   "outputs": [],
   "source": [
    "valid_losses = LossRecorder(model_save_dir + save_valhist_name)\n",
    "train_losses = LossRecorder(model_save_dir + save_trainhist_name)\n",
    "text_hist = HistRecorder(model_save_dir + save_txt_name)"
   ]
  },
  {
   "cell_type": "code",
   "execution_count": 18,
   "metadata": {
    "id": "-T4OYaoXsxe_"
   },
   "outputs": [],
   "source": [
    "READ = False\n",
    "# READ = True"
   ]
  },
  {
   "cell_type": "code",
   "execution_count": 19,
   "metadata": {
    "id": "nVvnpUk5sWxb"
   },
   "outputs": [],
   "source": [
    "# if READ: \n",
    "#     valid_losses.read()\n",
    "#     train_losses.read()\n",
    "\n",
    "#     # model_name = last_model_name\n",
    "#     model_name = \"PT_0130021416_9.pt\"\n",
    "#     model_path = os.path.join(model_save_dir, model_name)\n",
    "#     state = torch.load(model_path)\n",
    "#     model = PhonLearn_Net()\n",
    "#     model.load_state_dict(state)\n",
    "#     # device = torch.device('cuda' if torch.cuda.is_available() else 'cpu')\n",
    "#     model.to(device)"
   ]
  },
  {
   "cell_type": "code",
   "execution_count": 20,
   "metadata": {
    "id": "6OCx4nqP40fz"
   },
   "outputs": [],
   "source": [
    "mytrans = MyTransform(sample_rate=REC_SAMPLE_RATE, n_fft=N_FFT)\n",
    "ds = PhoneDataset(random_path, os.path.join(random_log_path, \"log.csv\"), transform=mytrans)\n",
    "small_len = int(0.1 * len(ds))\n",
    "other_len = len(ds) - small_len\n",
    "\n",
    "# Randomly split the dataset into train and validation sets\n",
    "ds, other_ds = random_split(ds, [small_len, other_len])\n",
    "\n",
    "train_len = int(0.8 * len(ds))\n",
    "valid_len = len(ds) - train_len\n",
    "\n",
    "# Randomly split the dataset into train and validation sets\n",
    "train_ds, valid_ds = random_split(ds, [train_len, valid_len])\n",
    "\n",
    "train_loader = DataLoader(train_ds, batch_size=BATCH_SIZE, shuffle=False, num_workers=LOADER_WORKER, collate_fn=collate_fn)\n",
    "train_num = len(train_loader.dataset)\n",
    "\n",
    "valid_loader = DataLoader(valid_ds, batch_size=BATCH_SIZE, shuffle=True, num_workers=LOADER_WORKER, collate_fn=collate_fn)\n",
    "valid_num = len(valid_loader.dataset)"
   ]
  },
  {
   "cell_type": "code",
   "execution_count": 21,
   "metadata": {},
   "outputs": [
    {
     "data": {
      "text/plain": [
       "356"
      ]
     },
     "execution_count": 21,
     "metadata": {},
     "output_type": "execute_result"
    }
   ],
   "source": [
    "len(train_loader)"
   ]
  },
  {
   "cell_type": "code",
   "execution_count": 22,
   "metadata": {},
   "outputs": [],
   "source": [
    "EPOCHS = 30\n",
    "BASE = 0\n",
    "clip_value = 1.0"
   ]
  },
  {
   "cell_type": "code",
   "execution_count": 23,
   "metadata": {},
   "outputs": [],
   "source": [
    "# len(train_loader), this counts the number of batches\n",
    "# len(valid_loader.dataset), this counts the number of items"
   ]
  },
  {
   "cell_type": "code",
   "execution_count": 24,
   "metadata": {},
   "outputs": [],
   "source": [
    "def has_nan(t): \n",
    "    ns = torch.isnan(t)\n",
    "    return torch.sum(ns)"
   ]
  },
  {
   "cell_type": "code",
   "execution_count": 25,
   "metadata": {
    "colab": {
     "base_uri": "https://localhost:8080/"
    },
    "id": "y2n7doAD1uRi",
    "outputId": "e9c5bcb7-72db-4238-e83f-36e4dbe35748"
   },
   "outputs": [],
   "source": [
    "def train(): \n",
    "    for epoch in range(BASE, BASE + EPOCHS):\n",
    "        text_hist.print(\"Epoch {}\".format(epoch))\n",
    "\n",
    "        model.train()\n",
    "        train_loss = 0.\n",
    "        train_num = len(train_loader)    # train_loader\n",
    "        for idx, (x, x_lens) in enumerate(train_loader):\n",
    "            optimizer.zero_grad()\n",
    "            batch = x.size(0)\n",
    "            batch, length, dim = x.shape\n",
    "            y = x[:, :, :13]    # extract MFCC-only data\n",
    "            # print(x)\n",
    "\n",
    "            # Loop through each dimension and plot the histogram\n",
    "            # for i in range(dim):\n",
    "            #     plt.figure()\n",
    "            #     plt.hist(x[:, :, i].flatten(), bins=20)\n",
    "            #     plt.title(f\"Histogram for dimension {i+1}\")\n",
    "            #     plt.xlabel(\"Value\")\n",
    "            #     plt.ylabel(\"Frequency\")\n",
    "            #     plt.show()\n",
    "            # print(has_nan(y).item())\n",
    "            # if ct == 1: \n",
    "            #     raise Exception\n",
    "            # print(x.size(1))\n",
    "            x_mask = generate_mask_from_lengths_mat(x_lens, device=device)\n",
    "            \n",
    "            x = x.to(device)\n",
    "            y = y.to(device)\n",
    "\n",
    "            recon_x, _ = model(x, x_mask) # _ = hidden, z_1, z_2\n",
    "\n",
    "            # print(y)\n",
    "            # print(recon_x)\n",
    "            # raise Exception\n",
    "\n",
    "            \n",
    "            loss = masked_loss(recon_loss, recon_x, y, x_mask)\n",
    "            # loss = recon_loss(recon_x, x)\n",
    "\n",
    "            train_loss += loss.item()\n",
    "            # loss = loss / batch\n",
    "\n",
    "            loss.backward()\n",
    "            # torch.nn.utils.clip_grad_norm_(model.parameters(), clip_value)\n",
    "            optimizer.step()\n",
    "\n",
    "            if idx % 20 == 0:\n",
    "                text_hist.print(f\"Training loss {loss: .3f} in Step {idx}\")\n",
    "                gc.collect()\n",
    "\n",
    "        train_losses.append(train_loss / train_num)\n",
    "        text_hist.print(f\"※※※Training loss {train_loss / train_num: .3f}※※※\")\n",
    "\n",
    "        last_model_name = \"PT_{}_{}_full.pt\".format(ts, epoch)\n",
    "        torch.save(model.state_dict(), os.path.join(model_save_dir, last_model_name))\n",
    "        text_hist.print(\"Training timepoint saved\")\n",
    "\n",
    "        model.eval()\n",
    "        valid_loss = 0.\n",
    "        valid_num = len(valid_loader)\n",
    "        for idx, (x, x_lens) in enumerate(valid_loader):\n",
    "            # batch = x.size(0)\n",
    "            y = x[:, :, :13]    # extract MFCC-only data\n",
    "            x_mask = generate_mask_from_lengths_mat(x_lens, device=device)\n",
    "            \n",
    "            x = x.to(device)\n",
    "            y = y.to(device)\n",
    "\n",
    "            recon_x, _ = model(x, x_mask) # _ = hidden, z_1, z_2\n",
    "\n",
    "            loss = masked_loss(recon_loss, recon_x, y, x_mask)\n",
    "            # loss = recon_loss(recon_x, x)\n",
    "            valid_loss += loss.item()\n",
    "\n",
    "            # optimizer.zero_grad()\n",
    "            # loss.backward()\n",
    "            # optimizer.step()\n",
    "\n",
    "            if idx % 20 == 0:\n",
    "                # \\t Recon {recon / batch: .3f} \\t KL {kl / batch: .3f}\n",
    "                text_hist.print(f\"Valid loss {loss: .3f} in Step {idx}\")\n",
    "                gc.collect()\n",
    "\n",
    "        valid_losses.append(valid_loss / valid_num)\n",
    "        text_hist.print(f\"※※※Valid loss {valid_loss / valid_num: .3f}※※※\")"
   ]
  },
  {
   "cell_type": "code",
   "execution_count": 26,
   "metadata": {},
   "outputs": [
    {
     "name": "stdout",
     "output_type": "stream",
     "text": [
      "Epoch 0\n",
      "Training loss  1.088 in Step 0\n",
      "Training loss  1.005 in Step 20\n",
      "Training loss  1.001 in Step 40\n",
      "Training loss  1.000 in Step 60\n",
      "Training loss  1.000 in Step 80\n",
      "Training loss  1.000 in Step 100\n",
      "Training loss  1.000 in Step 120\n",
      "Training loss  0.995 in Step 140\n",
      "Training loss  0.998 in Step 160\n",
      "Training loss  0.998 in Step 180\n",
      "Training loss  0.996 in Step 200\n",
      "Training loss  0.999 in Step 220\n",
      "Training loss  0.997 in Step 240\n",
      "Training loss  0.993 in Step 260\n",
      "Training loss  0.998 in Step 280\n",
      "Training loss  0.995 in Step 300\n",
      "Training loss  0.993 in Step 320\n",
      "Training loss  0.993 in Step 340\n",
      "※※※Training loss  0.999※※※\n",
      "Training timepoint saved\n",
      "Valid loss  0.998 in Step 0\n",
      "Valid loss  1.000 in Step 20\n",
      "Valid loss  0.999 in Step 40\n",
      "Valid loss  0.999 in Step 60\n",
      "Valid loss  0.997 in Step 80\n",
      "※※※Valid loss  0.999※※※\n",
      "Epoch 1\n",
      "Training loss  0.998 in Step 0\n",
      "Training loss  0.997 in Step 20\n",
      "Training loss  0.993 in Step 40\n",
      "Training loss  1.002 in Step 60\n",
      "Training loss  0.992 in Step 80\n",
      "Training loss  0.999 in Step 100\n",
      "Training loss  0.993 in Step 120\n",
      "Training loss  0.985 in Step 140\n",
      "Training loss  0.990 in Step 160\n",
      "Training loss  0.988 in Step 180\n",
      "Training loss  0.990 in Step 200\n",
      "Training loss  0.989 in Step 220\n",
      "Training loss  0.983 in Step 240\n",
      "Training loss  0.985 in Step 260\n",
      "Training loss  0.989 in Step 280\n",
      "Training loss  0.982 in Step 300\n",
      "Training loss  0.982 in Step 320\n",
      "Training loss  0.979 in Step 340\n",
      "※※※Training loss  0.989※※※\n",
      "Training timepoint saved\n",
      "Valid loss  0.985 in Step 0\n",
      "Valid loss  0.985 in Step 20\n",
      "Valid loss  0.983 in Step 40\n",
      "Valid loss  0.989 in Step 60\n",
      "Valid loss  0.979 in Step 80\n",
      "※※※Valid loss  0.983※※※\n",
      "Epoch 2\n",
      "Training loss  0.985 in Step 0\n",
      "Training loss  0.984 in Step 20\n",
      "Training loss  0.977 in Step 40\n",
      "Training loss  0.983 in Step 60\n",
      "Training loss  0.982 in Step 80\n",
      "Training loss  0.984 in Step 100\n",
      "Training loss  0.984 in Step 120\n",
      "Training loss  0.972 in Step 140\n",
      "Training loss  0.977 in Step 160\n",
      "Training loss  0.973 in Step 180\n",
      "Training loss  0.973 in Step 200\n",
      "Training loss  0.979 in Step 220\n",
      "Training loss  0.976 in Step 240\n",
      "Training loss  0.971 in Step 260\n",
      "Training loss  0.977 in Step 280\n",
      "Training loss  0.970 in Step 300\n",
      "Training loss  0.967 in Step 320\n",
      "Training loss  0.962 in Step 340\n",
      "※※※Training loss  0.976※※※\n",
      "Training timepoint saved\n",
      "Valid loss  0.981 in Step 0\n",
      "Valid loss  0.971 in Step 20\n",
      "Valid loss  0.973 in Step 40\n",
      "Valid loss  0.976 in Step 60\n",
      "Valid loss  0.979 in Step 80\n",
      "※※※Valid loss  0.976※※※\n",
      "Epoch 3\n",
      "Training loss  0.980 in Step 0\n",
      "Training loss  0.979 in Step 20\n",
      "Training loss  0.965 in Step 40\n",
      "Training loss  0.975 in Step 60\n",
      "Training loss  0.967 in Step 80\n",
      "Training loss  0.982 in Step 100\n",
      "Training loss  0.985 in Step 120\n",
      "Training loss  0.960 in Step 140\n",
      "Training loss  0.968 in Step 160\n",
      "Training loss  0.966 in Step 180\n",
      "Training loss  0.965 in Step 200\n",
      "Training loss  0.977 in Step 220\n",
      "Training loss  0.969 in Step 240\n",
      "Training loss  0.969 in Step 260\n",
      "Training loss  0.977 in Step 280\n",
      "Training loss  0.964 in Step 300\n",
      "Training loss  0.968 in Step 320\n",
      "Training loss  0.961 in Step 340\n",
      "※※※Training loss  0.971※※※\n",
      "Training timepoint saved\n",
      "Valid loss  0.972 in Step 0\n",
      "Valid loss  0.971 in Step 20\n",
      "Valid loss  0.970 in Step 40\n",
      "Valid loss  0.967 in Step 60\n",
      "Valid loss  0.972 in Step 80\n",
      "※※※Valid loss  0.972※※※\n",
      "Epoch 4\n",
      "Training loss  0.976 in Step 0\n",
      "Training loss  0.970 in Step 20\n",
      "Training loss  0.967 in Step 40\n",
      "Training loss  0.969 in Step 60\n",
      "Training loss  0.965 in Step 80\n",
      "Training loss  0.981 in Step 100\n",
      "Training loss  0.978 in Step 120\n",
      "Training loss  0.964 in Step 140\n",
      "Training loss  0.964 in Step 160\n",
      "Training loss  0.960 in Step 180\n",
      "Training loss  0.959 in Step 200\n",
      "Training loss  0.977 in Step 220\n",
      "Training loss  0.973 in Step 240\n",
      "Training loss  0.969 in Step 260\n",
      "Training loss  0.966 in Step 280\n",
      "Training loss  0.963 in Step 300\n",
      "Training loss  0.965 in Step 320\n",
      "Training loss  0.964 in Step 340\n",
      "※※※Training loss  0.968※※※\n",
      "Training timepoint saved\n",
      "Valid loss  0.969 in Step 0\n",
      "Valid loss  0.967 in Step 20\n",
      "Valid loss  0.968 in Step 40\n",
      "Valid loss  0.973 in Step 60\n",
      "Valid loss  0.971 in Step 80\n",
      "※※※Valid loss  0.968※※※\n",
      "Epoch 5\n",
      "Training loss  0.983 in Step 0\n",
      "Training loss  0.967 in Step 20\n",
      "Training loss  0.962 in Step 40\n",
      "Training loss  0.971 in Step 60\n",
      "Training loss  0.969 in Step 80\n",
      "Training loss  0.973 in Step 100\n",
      "Training loss  0.974 in Step 120\n",
      "Training loss  0.950 in Step 140\n",
      "Training loss  0.961 in Step 160\n",
      "Training loss  0.961 in Step 180\n",
      "Training loss  0.965 in Step 200\n",
      "Training loss  0.969 in Step 220\n",
      "Training loss  0.972 in Step 240\n",
      "Training loss  0.964 in Step 260\n",
      "Training loss  0.972 in Step 280\n",
      "Training loss  0.961 in Step 300\n",
      "Training loss  0.961 in Step 320\n",
      "Training loss  0.964 in Step 340\n",
      "※※※Training loss  0.966※※※\n",
      "Training timepoint saved\n",
      "Valid loss  0.959 in Step 0\n",
      "Valid loss  0.968 in Step 20\n",
      "Valid loss  0.961 in Step 40\n",
      "Valid loss  0.966 in Step 60\n",
      "Valid loss  0.959 in Step 80\n",
      "※※※Valid loss  0.964※※※\n",
      "Epoch 6\n",
      "Training loss  0.976 in Step 0\n",
      "Training loss  0.959 in Step 20\n",
      "Training loss  0.964 in Step 40\n",
      "Training loss  0.965 in Step 60\n",
      "Training loss  0.969 in Step 80\n",
      "Training loss  0.968 in Step 100\n",
      "Training loss  0.970 in Step 120\n",
      "Training loss  0.953 in Step 140\n",
      "Training loss  0.961 in Step 160\n",
      "Training loss  0.961 in Step 180\n",
      "Training loss  0.959 in Step 200\n",
      "Training loss  0.967 in Step 220\n",
      "Training loss  0.969 in Step 240\n",
      "Training loss  0.954 in Step 260\n",
      "Training loss  0.964 in Step 280\n",
      "Training loss  0.958 in Step 300\n",
      "Training loss  0.965 in Step 320\n",
      "Training loss  0.961 in Step 340\n",
      "※※※Training loss  0.964※※※\n",
      "Training timepoint saved\n",
      "Valid loss  0.962 in Step 0\n",
      "Valid loss  0.967 in Step 20\n",
      "Valid loss  0.957 in Step 40\n",
      "Valid loss  0.969 in Step 60\n",
      "Valid loss  0.958 in Step 80\n",
      "※※※Valid loss  0.961※※※\n",
      "Epoch 7\n",
      "Training loss  0.972 in Step 0\n",
      "Training loss  0.964 in Step 20\n",
      "Training loss  0.960 in Step 40\n",
      "Training loss  0.965 in Step 60\n",
      "Training loss  0.963 in Step 80\n",
      "Training loss  0.970 in Step 100\n",
      "Training loss  0.973 in Step 120\n",
      "Training loss  0.957 in Step 140\n",
      "Training loss  0.963 in Step 160\n",
      "Training loss  0.961 in Step 180\n",
      "Training loss  0.955 in Step 200\n",
      "Training loss  0.963 in Step 220\n",
      "Training loss  0.965 in Step 240\n",
      "Training loss  0.958 in Step 260\n",
      "Training loss  0.966 in Step 280\n",
      "Training loss  0.959 in Step 300\n",
      "Training loss  0.956 in Step 320\n",
      "Training loss  0.957 in Step 340\n",
      "※※※Training loss  0.962※※※\n",
      "Training timepoint saved\n",
      "Valid loss  0.962 in Step 0\n",
      "Valid loss  0.963 in Step 20\n",
      "Valid loss  0.957 in Step 40\n",
      "Valid loss  0.961 in Step 60\n",
      "Valid loss  0.965 in Step 80\n",
      "※※※Valid loss  0.961※※※\n",
      "Epoch 8\n",
      "Training loss  0.975 in Step 0\n",
      "Training loss  0.953 in Step 20\n",
      "Training loss  0.955 in Step 40\n",
      "Training loss  0.960 in Step 60\n",
      "Training loss  0.962 in Step 80\n",
      "Training loss  0.966 in Step 100\n",
      "Training loss  0.978 in Step 120\n",
      "Training loss  0.957 in Step 140\n",
      "Training loss  0.960 in Step 160\n",
      "Training loss  0.955 in Step 180\n",
      "Training loss  0.958 in Step 200\n",
      "Training loss  0.956 in Step 220\n",
      "Training loss  0.954 in Step 240\n",
      "Training loss  0.965 in Step 260\n",
      "Training loss  0.965 in Step 280\n",
      "Training loss  0.956 in Step 300\n",
      "Training loss  0.959 in Step 320\n",
      "Training loss  0.957 in Step 340\n",
      "※※※Training loss  0.960※※※\n",
      "Training timepoint saved\n",
      "Valid loss  0.967 in Step 0\n",
      "Valid loss  0.956 in Step 20\n",
      "Valid loss  0.952 in Step 40\n",
      "Valid loss  0.970 in Step 60\n",
      "Valid loss  0.956 in Step 80\n",
      "※※※Valid loss  0.961※※※\n",
      "Epoch 9\n",
      "Training loss  0.969 in Step 0\n",
      "Training loss  0.952 in Step 20\n",
      "Training loss  0.952 in Step 40\n",
      "Training loss  0.967 in Step 60\n",
      "Training loss  0.963 in Step 80\n",
      "Training loss  0.964 in Step 100\n",
      "Training loss  0.967 in Step 120\n",
      "Training loss  0.953 in Step 140\n",
      "Training loss  0.957 in Step 160\n",
      "Training loss  0.953 in Step 180\n",
      "Training loss  0.956 in Step 200\n",
      "Training loss  0.959 in Step 220\n",
      "Training loss  0.963 in Step 240\n",
      "Training loss  0.956 in Step 260\n",
      "Training loss  0.967 in Step 280\n",
      "Training loss  0.952 in Step 300\n",
      "Training loss  0.958 in Step 320\n",
      "Training loss  0.954 in Step 340\n",
      "※※※Training loss  0.960※※※\n",
      "Training timepoint saved\n",
      "Valid loss  0.968 in Step 0\n",
      "Valid loss  0.970 in Step 20\n",
      "Valid loss  0.965 in Step 40\n",
      "Valid loss  0.960 in Step 60\n",
      "Valid loss  0.971 in Step 80\n",
      "※※※Valid loss  0.968※※※\n",
      "Epoch 10\n",
      "Training loss  0.971 in Step 0\n",
      "Training loss  0.966 in Step 20\n",
      "Training loss  0.959 in Step 40\n",
      "Training loss  0.962 in Step 60\n",
      "Training loss  0.956 in Step 80\n",
      "Training loss  0.965 in Step 100\n",
      "Training loss  0.971 in Step 120\n",
      "Training loss  0.954 in Step 140\n",
      "Training loss  0.956 in Step 160\n",
      "Training loss  0.959 in Step 180\n",
      "Training loss  0.948 in Step 200\n",
      "Training loss  0.962 in Step 220\n",
      "Training loss  0.964 in Step 240\n",
      "Training loss  0.959 in Step 260\n",
      "Training loss  0.964 in Step 280\n",
      "Training loss  0.964 in Step 300\n",
      "Training loss  0.951 in Step 320\n",
      "Training loss  0.953 in Step 340\n",
      "※※※Training loss  0.959※※※\n",
      "Training timepoint saved\n",
      "Valid loss  0.966 in Step 0\n",
      "Valid loss  0.967 in Step 20\n",
      "Valid loss  0.958 in Step 40\n",
      "Valid loss  0.959 in Step 60\n",
      "Valid loss  0.958 in Step 80\n",
      "※※※Valid loss  0.962※※※\n",
      "Epoch 11\n",
      "Training loss  0.966 in Step 0\n",
      "Training loss  0.960 in Step 20\n",
      "Training loss  0.954 in Step 40\n",
      "Training loss  0.956 in Step 60\n",
      "Training loss  0.958 in Step 80\n",
      "Training loss  0.962 in Step 100\n",
      "Training loss  0.971 in Step 120\n",
      "Training loss  0.953 in Step 140\n",
      "Training loss  0.955 in Step 160\n",
      "Training loss  0.957 in Step 180\n",
      "Training loss  0.953 in Step 200\n",
      "Training loss  0.952 in Step 220\n",
      "Training loss  0.966 in Step 240\n",
      "Training loss  0.971 in Step 260\n",
      "Training loss  0.961 in Step 280\n",
      "Training loss  0.957 in Step 300\n",
      "Training loss  0.957 in Step 320\n",
      "Training loss  0.956 in Step 340\n",
      "※※※Training loss  0.958※※※\n",
      "Training timepoint saved\n",
      "Valid loss  0.969 in Step 0\n",
      "Valid loss  0.967 in Step 20\n",
      "Valid loss  0.960 in Step 40\n",
      "Valid loss  0.966 in Step 60\n",
      "Valid loss  0.967 in Step 80\n",
      "※※※Valid loss  0.961※※※\n",
      "Epoch 12\n",
      "Training loss  0.970 in Step 0\n",
      "Training loss  0.961 in Step 20\n",
      "Training loss  0.955 in Step 40\n",
      "Training loss  0.957 in Step 60\n",
      "Training loss  0.950 in Step 80\n"
     ]
    },
    {
     "ename": "",
     "evalue": "",
     "output_type": "error",
     "traceback": [
      "\u001b[1;31mCannot execute code, session has been disposed. Please try restarting the Kernel."
     ]
    },
    {
     "ename": "",
     "evalue": "",
     "output_type": "error",
     "traceback": [
      "\u001b[1;31mThe Kernel crashed while executing code in the the current cell or a previous cell. Please review the code in the cell(s) to identify a possible cause of the failure. Click <a href='https://aka.ms/vscodeJupyterKernelCrash'>here</a> for more info. View Jupyter <a href='command:jupyter.viewOutput'>log</a> for further details."
     ]
    }
   ],
   "source": [
    "if __name__ == \"__main__\": \n",
    "    train()"
   ]
  },
  {
   "cell_type": "code",
   "execution_count": 53,
   "metadata": {
    "id": "KSTTwi31xAvh"
   },
   "outputs": [],
   "source": [
    "### Save\n",
    "valid_losses.save()\n",
    "train_losses.save()\n",
    "text_hist.save()"
   ]
  },
  {
   "cell_type": "code",
   "execution_count": 27,
   "metadata": {
    "colab": {
     "base_uri": "https://localhost:8080/",
     "height": 281
    },
    "id": "3yaMyIzH12RD",
    "outputId": "1426c24a-c60c-48c2-8690-f3a07bb9ba7b"
   },
   "outputs": [
    {
     "data": {
      "text/plain": [
       "<matplotlib.legend.Legend at 0x1e159827d30>"
      ]
     },
     "execution_count": 27,
     "metadata": {},
     "output_type": "execute_result"
    },
    {
     "data": {
      "image/png": "[encoded data removed]",
      "text/plain": [
       "<Figure size 640x480 with 1 Axes>"
      ]
     },
     "metadata": {},
     "output_type": "display_data"
    }
   ],
   "source": [
    "plt.plot(train_losses.get(), label='Train')\n",
    "plt.plot(valid_losses.get(), label='Valid')\n",
    "plt.title(\"Learning Curve\")\n",
    "plt.legend()"
   ]
  },
  {
   "cell_type": "code",
   "execution_count": 25,
   "metadata": {
    "colab": {
     "base_uri": "https://localhost:8080/",
     "height": 35
    },
    "id": "_UcLyHcQMGu0",
    "outputId": "4b56200c-1dc4-4286-b51a-d19e9c75ddd9"
   },
   "outputs": [
    {
     "data": {
      "text/plain": [
       "'0613160106'"
      ]
     },
     "execution_count": 25,
     "metadata": {},
     "output_type": "execute_result"
    }
   ],
   "source": [
    "ts"
   ]
  },
  {
   "attachments": {},
   "cell_type": "markdown",
   "metadata": {
    "id": "E6-6g-sW3zeg"
   },
   "source": [
    "We can see that with Sigmoid the model seems to perform slightly worse, but this should not be a big problem. Then the decision might depend more on whether the use of it is common and justifiable. I don't think it's common, and the use of it does not seem to be analytically necessary. "
   ]
  },
  {
   "cell_type": "code",
   "execution_count": null,
   "metadata": {
    "id": "tNJ0DAlaWrEE"
   },
   "outputs": [],
   "source": [
    "class ResAECluster(ResAE): \n",
    "    def __init__(self, input_dim=INPUT_DIM, inter_dim1=INTER_DIM_1, inter_dim2=INTER_DIM_2, inter_dim3=INTER_DIM_3, latent_dim=LATENT_DIM, output_dim=OUTPUT_DIM): \n",
    "        super().__init__(input_dim, inter_dim1, inter_dim2, inter_dim3, latent_dim, output_dim)\n",
    "\n",
    "    def forward(self, x):\n",
    "        org_size = x.size()\n",
    "        batch = org_size[0]\n",
    "        x = x.view(batch, -1)\n",
    "\n",
    "        h = self.encoder(x)\n",
    "        # mu, logvar = h.chunk(2, dim=1)\n",
    "        # z = self.reparameterise(mu, logvar)\n",
    "\n",
    "        return h"
   ]
  },
  {
   "cell_type": "code",
   "execution_count": null,
   "metadata": {
    "id": "BFrvzaGC45Gi"
   },
   "outputs": [],
   "source": [
    "seq = \"_01_05\"\n",
    "tags = pd.read_csv(tags_name + seq + \".csv\")\n",
    "gsds = GroundedSoundDataset(tags, test_name + seq + \".npy\")\n",
    "eval_loader = DataLoader(gsds, batch_size=BATCH_SIZE, shuffle=False, num_workers=0)"
   ]
  },
  {
   "cell_type": "code",
   "execution_count": null,
   "metadata": {
    "colab": {
     "base_uri": "https://localhost:8080/",
     "height": 35
    },
    "id": "QARr-C_qpBLb",
    "outputId": "acd5e8ab-1ef6-4968-c205-b437ecfd7b8e"
   },
   "outputs": [
    {
     "data": {
      "application/vnd.google.colaboratory.intrinsic+json": {
       "type": "string"
      },
      "text/plain": [
       "'model_english_0130021416_29_full'"
      ]
     },
     "execution_count": 26,
     "metadata": {},
     "output_type": "execute_result"
    }
   ],
   "source": [
    "last_model_name"
   ]
  },
  {
   "cell_type": "code",
   "execution_count": null,
   "metadata": {
    "id": "KXLqyT3PYFkR"
   },
   "outputs": [],
   "source": [
    "# model_name = last_model_name\n",
    "model_name = \"model_english_0130021416_13_full\"\n",
    "model_path = save_dir + model_name + \".pt\"\n",
    "state = torch.load(model_path)\n",
    "model = ResAECluster()\n",
    "model.load_state_dict(state)\n",
    "# device = torch.device('cuda' if torch.cuda.is_available() else 'cpu')\n",
    "model.to(device)\n",
    "hiddens = None\n",
    "tags = None\n",
    "model.eval()\n",
    "with torch.no_grad():\n",
    "    for idx, (s, e, t) in enumerate(eval_loader):\n",
    "        s = s.to(device)\n",
    "        hidden = model(s)\n",
    "        hidden = hidden.cpu().data.numpy()\n",
    "\n",
    "        if hiddens is not None: \n",
    "            hiddens = np.concatenate((hiddens, hidden), axis=0)\n",
    "            tags = np.concatenate((tags, t), axis=0)\n",
    "        else: \n",
    "            hiddens = hidden\n",
    "            tags = t\n",
    "num_phones = np.unique(tags).shape[0]\n",
    "kmeansmodel = KMeans(n_clusters=num_phones) # , random_state=0\n",
    "clusters = kmeansmodel.fit_predict(hiddens)\n",
    "np.save(save_dir + model_name + seq + \"_hiddenclusters.npy\", clusters)\n",
    "np.save(save_dir + model_name + seq + \"_hiddenrepresentation.npy\", hiddens)\n"
   ]
  },
  {
   "cell_type": "code",
   "execution_count": null,
   "metadata": {
    "id": "BzTuc2Mz6niT"
   },
   "outputs": [],
   "source": [
    "h, c, v = homogeneity_completeness_v_measure(tags, clusters)"
   ]
  },
  {
   "cell_type": "code",
   "execution_count": null,
   "metadata": {
    "colab": {
     "base_uri": "https://localhost:8080/"
    },
    "id": "3ogsEovzEbpc",
    "outputId": "3cd43d32-f30c-4fb3-f5eb-945d6dd0ecc6"
   },
   "outputs": [
    {
     "name": "stdout",
     "output_type": "stream",
     "text": [
      "_01_05 0.30813685860010276 0.2726217590636009 0.2892933823757265\n"
     ]
    }
   ],
   "source": [
    "print(seq, h, c, v) # trained on sampled data"
   ]
  },
  {
   "cell_type": "code",
   "execution_count": null,
   "metadata": {
    "id": "FMFbNimpx-iJ"
   },
   "outputs": [],
   "source": [
    "# _17_24 0.3429902101084872 0.329164358854651 0.33593508938856537   # 256+8\n",
    "# _17_24 0.3071758873778334 0.2958512436337788 0.3014072290332542   # 128+4\n",
    "# _17_24 0.3048181747064378 0.303971996633573 0.3043944976042278    # 128+2\n",
    "# _17_24 0.3109960687106377 0.3020004935745723 0.3064322772063619   # 256+2, 2res\n",
    "# _17_24 0.27632046463064963 0.29796767719078493 0.28673608598337974    # 256+64+2, 2res, new model\n",
    "# _17_24 0.29619001674434664 0.30940705212658304 0.30265430485339223    # 256+64+4, 0res\n",
    "# _17_24 0.3394207670351701 0.3356821861468344 0.33754112484613674      # 256+64+4, 2res\n",
    "# _17_24 0.3246121630042821 0.3173438869288583 0.32093687897447765  # 256+3, 2res, not very bad. So we may try this. This is error, decoder only having 1 res\n",
    "# _17_24 0.3227539602867097 0.32256957773330264 0.3226617426690128  # 256+3, 2res\n",
    "# _17_24 0.3403517130774138 0.33762198107176034 0.33898135170147237 # 256+3, 1res\n",
    "# _17_24 0.3202704367215642 0.31097127191607643 0.3155523587925454  # 256+3, 0res\n",
    "\n",
    "\n",
    "# _01_05 0.30784101366300043 0.2717512535534188 0.28867252408265254"
   ]
  },
  {
   "attachments": {},
   "cell_type": "markdown",
   "metadata": {
    "id": "_gYDGP0Cdf1o"
   },
   "source": [
    "总的来说分成四个，神经网层来进行降维处理，得到的损失比较大，但是 hcv值倒是接近不过，如果能尽量的接近原作的模型结构，我们就不去动它了，所以可能目前来看最好的是保留两个降为层加上两个残差层，最后从256降到2，也许是最好的结果当然降到4也是可以的，都是比较低的维度，不过如果我们想要直接能够，在，可视的空间中画出这些点来，2或者3可能会比四更好一些。 "
   ]
  },
  {
   "attachments": {},
   "cell_type": "markdown",
   "metadata": {
    "id": "nTTdgp_HokAn"
   },
   "source": [
    "从使用不同数量残插块儿的实验结果来看，是由一个残渣块，应该是最好的解决方式，使用零个或两个第三个都可能是都会使hcv值相对降低。由此来看在选择，隐性层纬度为三的情况下，我们应该选择适用一个参差款。"
   ]
  },
  {
   "attachments": {},
   "cell_type": "markdown",
   "metadata": {
    "id": "BxdQ9f85WY1K"
   },
   "source": [
    "### Conclusion\n",
    "Adding new data slightly improves the performance of the model in HCV score, in addition, shuffling the training data largely lowers the HGV score perhaps we should discuss this phenomenon and justify use no shuffling during training. Perhaps this is because of some sort of phonotactics or naturalness of sound streams. "
   ]
  },
  {
   "attachments": {},
   "cell_type": "markdown",
   "metadata": {
    "id": "kjoJ2fFKpmVC"
   },
   "source": [
    "Good news is that for the English model it performs similar well. "
   ]
  },
  {
   "cell_type": "code",
   "execution_count": null,
   "metadata": {
    "id": "ZjPWgjpid7PR"
   },
   "outputs": [],
   "source": []
  }
 ],
 "metadata": {
  "accelerator": "GPU",
  "colab": {
   "provenance": []
  },
  "gpuClass": "standard",
  "kernelspec": {
   "display_name": "Python 3 (ipykernel)",
   "language": "python",
   "name": "python3"
  },
  "language_info": {
   "codemirror_mode": {
    "name": "ipython",
    "version": 3
   },
   "file_extension": ".py",
   "mimetype": "text/x-python",
   "name": "python",
   "nbconvert_exporter": "python",
   "pygments_lexer": "ipython3",
   "version": "3.10.11"
  }
 },
 "nbformat": 4,
 "nbformat_minor": 4
}
