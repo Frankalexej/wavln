{
 "cells": [
  {
   "attachments": {},
   "cell_type": "markdown",
   "metadata": {
    "id": "B-mljeGlqMqo"
   },
   "source": [
    "# Sequence Learning - Direct - English - Testing Session - Reconstruction\n",
    "Version 2: encode all validation set tokens, but keeping only those that are \"matching\" (= match_status==1)"
   ]
  },
  {
   "cell_type": "code",
   "execution_count": 3,
   "metadata": {
    "id": "jN5DNuExjwet"
   },
   "outputs": [],
   "source": [
    "import torch\n",
    "import torchaudio\n",
    "from torch import nn\n",
    "import torch.nn.functional as F\n",
    "from torch.nn.utils.rnn import pad_sequence\n",
    "from torch import optim\n",
    "from torch.utils.data import Dataset, DataLoader, random_split\n",
    "import matplotlib.pyplot as plt\n",
    "import numpy as np\n",
    "import pandas as pd\n",
    "from pandas.plotting import scatter_matrix\n",
    "import plotly.express as px\n",
    "import random\n",
    "from sklearn.manifold import TSNE  # Optional: Use t-SNE for dimensionality reduction\n",
    "import seaborn as sns\n",
    "from collections import Counter\n",
    "import librosa\n",
    "from IPython.display import Audio"
   ]
  },
  {
   "cell_type": "code",
   "execution_count": 4,
   "metadata": {},
   "outputs": [],
   "source": [
    "from padding import generate_mask_from_lengths_mat, mask_it\n",
    "from paths import *\n",
    "from my_utils import *\n",
    "from loss import *\n",
    "from model import TwoLinPhxLearner as TheLearner\n",
    "from dataset import SeqDatasetName, MelSpecTransform, Normalizer, DeNormalizer\n",
    "from dataset import MelSpecTransformNoDB as TheTransform\n",
    "from my_dataset import DS_Tools\n",
    "from reshandler import ReconResHandler\n",
    "from misc_progress_bar import draw_progress_bar\n",
    "from bnd_detect_tools import *"
   ]
  },
  {
   "cell_type": "markdown",
   "metadata": {},
   "source": [
    "## Preps"
   ]
  },
  {
   "attachments": {},
   "cell_type": "markdown",
   "metadata": {
    "tags": []
   },
   "source": [
    "### Dirs"
   ]
  },
  {
   "cell_type": "code",
   "execution_count": 5,
   "metadata": {
    "id": "iGouCDYD3h18"
   },
   "outputs": [],
   "source": [
    "model_save_dir = model_eng_save_dir\n",
    "\n",
    "log_path = compound_word_log_path\n",
    "rec_path = word_seg_anno_path"
   ]
  },
  {
   "cell_type": "markdown",
   "metadata": {},
   "source": [
    "### Constants"
   ]
  },
  {
   "cell_type": "code",
   "execution_count": 6,
   "metadata": {},
   "outputs": [],
   "source": [
    "EPOCHS = 10\n",
    "BATCH_SIZE = 1\n",
    "\n",
    "INPUT_DIM = 64\n",
    "OUTPUT_DIM = 64\n",
    "\n",
    "INTER_DIM_0 = 32\n",
    "INTER_DIM_1 = 16\n",
    "INTER_DIM_2 = 8\n",
    "\n",
    "ENC_SIZE_LIST = [INPUT_DIM, INTER_DIM_0, INTER_DIM_1, INTER_DIM_2]\n",
    "DEC_SIZE_LIST = [OUTPUT_DIM, INTER_DIM_0, INTER_DIM_1, INTER_DIM_2]\n",
    "\n",
    "DROPOUT = 0.5\n",
    "\n",
    "REC_SAMPLE_RATE = 16000\n",
    "N_FFT = 400\n",
    "N_MELS = 64\n",
    "\n",
    "LOADER_WORKER = 16"
   ]
  },
  {
   "cell_type": "markdown",
   "metadata": {},
   "source": [
    "## Model"
   ]
  },
  {
   "cell_type": "markdown",
   "metadata": {},
   "source": [
    "### Model-related defs"
   ]
  },
  {
   "cell_type": "code",
   "execution_count": 7,
   "metadata": {
    "id": "lUxoYBUg1jLq"
   },
   "outputs": [],
   "source": [
    "device = torch.device('cuda' if torch.cuda.is_available() else 'cpu')\n",
    "recon_loss = nn.MSELoss(reduction='none')\n",
    "masked_recon_loss = MaskedLoss(recon_loss)\n",
    "model_loss = masked_recon_loss\n",
    "\n",
    "# model = SimplerPhxLearner(enc_size_list=ENC_SIZE_LIST, dec_size_list=DEC_SIZE_LIST, num_layers=2)\n",
    "# model = LHYPhxLearner(enc_size_list=ENC_SIZE_LIST, dec_size_list=DEC_SIZE_LIST, num_layers=1)\n",
    "model = TheLearner(enc_size_list=ENC_SIZE_LIST, dec_size_list=DEC_SIZE_LIST, num_layers=2)\n",
    "model.to(device)\n",
    "optimizer = optim.Adam(model.parameters(), lr=1e-3)"
   ]
  },
  {
   "cell_type": "markdown",
   "metadata": {},
   "source": [
    "### Load Model"
   ]
  },
  {
   "cell_type": "code",
   "execution_count": 8,
   "metadata": {},
   "outputs": [],
   "source": [
    "load_ts = \"0122204715\"\n",
    "stop_epoch = \"5\""
   ]
  },
  {
   "cell_type": "code",
   "execution_count": 9,
   "metadata": {},
   "outputs": [
    {
     "data": {
      "text/plain": [
       "TwoLinPhxLearner(\n",
       "  (encoder): LRLEncoder(\n",
       "    (lin_1): LinearPack(\n",
       "      (linear): Linear(in_features=64, out_features=32, bias=True)\n",
       "      (relu): ReLU()\n",
       "      (dropout): Dropout(p=0.5, inplace=False)\n",
       "    )\n",
       "    (rnn): LSTM(32, 16, num_layers=2, batch_first=True)\n",
       "    (lin_2): Linear(in_features=16, out_features=8, bias=True)\n",
       "  )\n",
       "  (decoder): LRALDecoder(\n",
       "    (lin_1): LinearPack(\n",
       "      (linear): Linear(in_features=64, out_features=32, bias=True)\n",
       "      (relu): ReLU()\n",
       "      (dropout): Dropout(p=0.5, inplace=False)\n",
       "    )\n",
       "    (rnn): LSTM(32, 8, num_layers=2, batch_first=True)\n",
       "    (attention): ScaledDotProductAttention(\n",
       "      (w_q): Linear(in_features=8, out_features=8, bias=True)\n",
       "      (w_k): Linear(in_features=8, out_features=8, bias=True)\n",
       "      (w_v): Linear(in_features=8, out_features=8, bias=True)\n",
       "    )\n",
       "    (lin_3): Linear(in_features=8, out_features=64, bias=True)\n",
       "  )\n",
       ")"
      ]
     },
     "execution_count": 9,
     "metadata": {},
     "output_type": "execute_result"
    }
   ],
   "source": [
    "model_raw_name = \"PT_{}_{}_full\".format(load_ts, stop_epoch)\n",
    "model_name = model_raw_name + \".pt\"\n",
    "model_path = os.path.join(model_save_dir, model_name)\n",
    "state = torch.load(model_path)\n",
    "\n",
    "model.load_state_dict(state)\n",
    "model.to(device)"
   ]
  },
  {
   "cell_type": "markdown",
   "metadata": {},
   "source": [
    "### Dataset"
   ]
  },
  {
   "cell_type": "markdown",
   "metadata": {},
   "source": [
    "- Note that due to the separate setting of word and phone datasets, we cannot really make it to select those that have not been trained on \n",
    "for this test. This is a point to further fix. Make reference to out first work. "
   ]
  },
  {
   "cell_type": "code",
   "execution_count": 10,
   "metadata": {
    "id": "6OCx4nqP40fz"
   },
   "outputs": [],
   "source": [
    "mytrans = TheTransform(sample_rate=REC_SAMPLE_RATE, n_fft=N_FFT, n_mels=N_MELS, normalizer=Normalizer.norm_mvn, denormalizer=DeNormalizer.norm_mvn)\n",
    "ds = SeqDatasetName(rec_path, os.path.join(log_path, \"log.csv\"), transform=mytrans)\n",
    "\n",
    "# Cannot load dataset trained, data filtering applied\n",
    "valid_ds_indices = DS_Tools.read_indices(os.path.join(model_save_dir, \"valid_ds_{}.pkl\".format(load_ts)))\n",
    "\n",
    "valid_ds = torch.utils.data.Subset(ds, valid_ds_indices)\n",
    "\n",
    "# # this is to reduce the size of the dataset when the training power is not sufficient\n",
    "# small_len = int(0.5 * len(ds))\n",
    "# other_len = len(ds) - small_len\n",
    "\n",
    "# # Randomly split the dataset into train and validation sets\n",
    "# valid_ds, other_ds = random_split(ds, [small_len, other_len])\n",
    "\n",
    "valid_loader = DataLoader(valid_ds, batch_size=BATCH_SIZE, shuffle=False, num_workers=LOADER_WORKER, collate_fn=SeqDatasetName.collate_fn)\n",
    "valid_num = len(valid_loader.dataset)"
   ]
  },
  {
   "cell_type": "code",
   "execution_count": 11,
   "metadata": {},
   "outputs": [
    {
     "data": {
      "text/plain": [
       "56808"
      ]
     },
     "execution_count": 11,
     "metadata": {},
     "output_type": "execute_result"
    }
   ],
   "source": [
    "valid_num"
   ]
  },
  {
   "cell_type": "markdown",
   "metadata": {},
   "source": [
    "## Inference"
   ]
  },
  {
   "cell_type": "code",
   "execution_count": 12,
   "metadata": {},
   "outputs": [],
   "source": [
    "def infer(): \n",
    "    model.eval()\n",
    "    reshandler = ReconResHandler(whole_res_dir=compound_plot_res_path, file_prefix=\"recon_\" + model_raw_name)\n",
    "    all_res = []\n",
    "    all_ori = []\n",
    "    all_name = []\n",
    "\n",
    "    total = len(valid_loader)\n",
    "\n",
    "    for idx, (x, x_lens, name) in enumerate(valid_loader): \n",
    "        name = name[0]\n",
    "\n",
    "        x_mask = generate_mask_from_lengths_mat(x_lens, device=device)\n",
    "        \n",
    "        x = x.to(device)\n",
    "\n",
    "        recon_x, attn_weight = model(x, x_lens, x_mask)\n",
    "\n",
    "        recon_x = recon_x.cpu().detach().numpy().squeeze()\n",
    "        ori_x = x.cpu().detach().numpy().squeeze()\n",
    "\n",
    "        all_res += [recon_x]\n",
    "        # note that this is bit different, not each frame, but each sequence is treated as one data point\n",
    "        all_ori += [ori_x]\n",
    "        all_name += [name]\n",
    "\n",
    "        if idx % 10 == 0: \n",
    "            draw_progress_bar(idx, total)\n",
    "    \n",
    "\n",
    "    reshandler.res = all_res\n",
    "    reshandler.tok = all_ori\n",
    "    reshandler.name = all_name\n",
    "    reshandler.save()"
   ]
  },
  {
   "cell_type": "code",
   "execution_count": 13,
   "metadata": {},
   "outputs": [
    {
     "name": "stdout",
     "output_type": "stream",
     "text": [
      "[==================================================] 99%\t"
     ]
    }
   ],
   "source": [
    "if __name__ == \"__main__\": \n",
    "    infer()"
   ]
  },
  {
   "cell_type": "markdown",
   "metadata": {},
   "source": [
    "# Load Res"
   ]
  },
  {
   "cell_type": "code",
   "execution_count": 15,
   "metadata": {},
   "outputs": [],
   "source": [
    "reshandler = ReconResHandler(whole_res_dir=compound_plot_res_path, file_prefix=\"recon_\" + model_raw_name)\n",
    "reshandler.read()"
   ]
  },
  {
   "cell_type": "markdown",
   "metadata": {},
   "source": [
    "# Plot some recon and original comparisons"
   ]
  },
  {
   "cell_type": "code",
   "execution_count": 16,
   "metadata": {},
   "outputs": [],
   "source": [
    "# all\n",
    "all_recon = reshandler.res\n",
    "all_ori = reshandler.tok\n",
    "all_name = reshandler.name"
   ]
  },
  {
   "cell_type": "code",
   "execution_count": 17,
   "metadata": {},
   "outputs": [],
   "source": [
    "def plot_spectrogram(specgram, title=None, ylabel=\"freq_bin\", ax=None):\n",
    "    if ax is None:\n",
    "        _, ax = plt.subplots(1, 1)\n",
    "    if title is not None:\n",
    "        ax.set_title(title)\n",
    "    ax.set_ylabel(ylabel)\n",
    "    # ax.imshow(librosa.power_to_db(specgram), origin=\"lower\", aspect=\"auto\", interpolation=\"nearest\")\n",
    "    ax.imshow(specgram, origin=\"lower\", aspect=\"auto\", interpolation=\"nearest\")"
   ]
  },
  {
   "cell_type": "code",
   "execution_count": 25,
   "metadata": {},
   "outputs": [],
   "source": [
    "i = random.randint(0, len(all_name))"
   ]
  },
  {
   "cell_type": "code",
   "execution_count": 26,
   "metadata": {},
   "outputs": [
    {
     "data": {
      "text/plain": [
       "'s0205a_00000074'"
      ]
     },
     "execution_count": 26,
     "metadata": {},
     "output_type": "execute_result"
    }
   ],
   "source": [
    "reshandler.name[i]"
   ]
  },
  {
   "cell_type": "code",
   "execution_count": 27,
   "metadata": {},
   "outputs": [
    {
     "data": {
      "image/png": "[encoded data removed]",
      "text/plain": [
       "<Figure size 640x480 with 2 Axes>"
      ]
     },
     "metadata": {},
     "output_type": "display_data"
    }
   ],
   "source": [
    "fig, axs = plt.subplots(2, 1)\n",
    "plot_spectrogram(all_ori[i].T, title=\"mel-spectrogram of input\", ax=axs[0])\n",
    "plot_spectrogram(all_recon[i].T, title=\"reconstructed mel-spectrogram\", ax=axs[1])\n",
    "fig.tight_layout()"
   ]
  },
  {
   "cell_type": "code",
   "execution_count": 28,
   "metadata": {},
   "outputs": [
    {
     "data": {
      "image/png": "[encoded data removed]",
      "text/plain": [
       "<Figure size 640x480 with 2 Axes>"
      ]
     },
     "metadata": {},
     "output_type": "display_data"
    }
   ],
   "source": [
    "rec, rate = torchaudio.load(os.path.join(rec_path, all_name[i] + \".wav\"))\n",
    "\n",
    "fig, axs = plt.subplots(2, 1)\n",
    "plot_spectrogram(mytrans.de_norm(torch.from_numpy(all_ori[i]), rec).numpy().T, title=\"mel-spectrogram of input\", ax=axs[0])\n",
    "plot_spectrogram(mytrans.de_norm(torch.from_numpy(all_recon[i]), rec).numpy().T, title=\"reconstructed mel-spectrogram\", ax=axs[1])\n",
    "fig.tight_layout()"
   ]
  },
  {
   "cell_type": "code",
   "execution_count": 29,
   "metadata": {},
   "outputs": [
    {
     "data": {
      "text/html": [
       "\n",
       "                <audio  controls=\"controls\" >\n",
       "                    <source src=\"data:audio/wav;base64,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\" type=\"audio/wav\" />\n",
       "                    Your browser does not support the audio element.\n",
       "                </audio>\n",
       "              "
      ],
      "text/plain": [
       "<IPython.lib.display.Audio object>"
      ]
     },
     "execution_count": 29,
     "metadata": {},
     "output_type": "execute_result"
    }
   ],
   "source": [
    "Audio(rec.numpy(), rate=rate)"
   ]
  },
  {
   "cell_type": "code",
   "execution_count": 30,
   "metadata": {},
   "outputs": [
    {
     "data": {
      "text/html": [
       "\n",
       "                <audio  controls=\"controls\" >\n",
       "                    <source src=\"data:audio/wav;base64,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\" type=\"audio/wav\" />\n",
       "                    Your browser does not support the audio element.\n",
       "                </audio>\n",
       "              "
      ],
      "text/plain": [
       "<IPython.lib.display.Audio object>"
      ]
     },
     "execution_count": 30,
     "metadata": {},
     "output_type": "execute_result"
    }
   ],
   "source": [
    "Audio(mytrans.inverse(mytrans.de_norm(torch.from_numpy(all_ori[i]), rec)).numpy(), rate=REC_SAMPLE_RATE)"
   ]
  },
  {
   "cell_type": "code",
   "execution_count": 31,
   "metadata": {},
   "outputs": [
    {
     "data": {
      "text/html": [
       "\n",
       "                <audio  controls=\"controls\" >\n",
       "                    <source src=\"data:audio/wav;base64,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\" type=\"audio/wav\" />\n",
       "                    Your browser does not support the audio element.\n",
       "                </audio>\n",
       "              "
      ],
      "text/plain": [
       "<IPython.lib.display.Audio object>"
      ]
     },
     "execution_count": 31,
     "metadata": {},
     "output_type": "execute_result"
    }
   ],
   "source": [
    "Audio(mytrans.inverse(mytrans.de_norm(torch.from_numpy(all_recon[i]), rec)).numpy(), rate=REC_SAMPLE_RATE)"
   ]
  },
  {
   "cell_type": "code",
   "execution_count": 32,
   "metadata": {},
   "outputs": [
    {
     "data": {
      "text/html": [
       "\n",
       "                <audio  controls=\"controls\" >\n",
       "                    <source src=\"data:audio/wav;base64,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\" type=\"audio/wav\" />\n",
       "                    Your browser does not support the audio element.\n",
       "                </audio>\n",
       "              "
      ],
      "text/plain": [
       "<IPython.lib.display.Audio object>"
      ]
     },
     "execution_count": 32,
     "metadata": {},
     "output_type": "execute_result"
    }
   ],
   "source": [
    "Audio(mytrans.inverse(torch.from_numpy(all_ori[i])).numpy(), rate=REC_SAMPLE_RATE)"
   ]
  },
  {
   "cell_type": "code",
   "execution_count": 33,
   "metadata": {},
   "outputs": [
    {
     "data": {
      "text/html": [
       "\n",
       "                <audio  controls=\"controls\" >\n",
       "                    <source src=\"data:audio/wav;base64,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\" type=\"audio/wav\" />\n",
       "                    Your browser does not support the audio element.\n",
       "                </audio>\n",
       "              "
      ],
      "text/plain": [
       "<IPython.lib.display.Audio object>"
      ]
     },
     "execution_count": 33,
     "metadata": {},
     "output_type": "execute_result"
    }
   ],
   "source": [
    "Audio(mytrans.inverse(torch.from_numpy(all_recon[i])).numpy(), rate=REC_SAMPLE_RATE)"
   ]
  },
  {
   "cell_type": "code",
   "execution_count": null,
   "metadata": {},
   "outputs": [],
   "source": []
  },
  {
   "cell_type": "code",
   "execution_count": null,
   "metadata": {},
   "outputs": [],
   "source": []
  }
 ],
 "metadata": {
  "accelerator": "GPU",
  "colab": {
   "provenance": []
  },
  "gpuClass": "standard",
  "kernelspec": {
   "display_name": "Python 3 (ipykernel)",
   "language": "python",
   "name": "python3"
  },
  "language_info": {
   "codemirror_mode": {
    "name": "ipython",
    "version": 3
   },
   "file_extension": ".py",
   "mimetype": "text/x-python",
   "name": "python",
   "nbconvert_exporter": "python",
   "pygments_lexer": "ipython3",
   "version": "3.11.3"
  }
 },
 "nbformat": 4,
 "nbformat_minor": 4
}
