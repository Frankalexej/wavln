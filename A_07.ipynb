{
 "cells": [
  {
   "attachments": {},
   "cell_type": "markdown",
   "metadata": {
    "id": "B-mljeGlqMqo"
   },
   "source": [
    "# AI Lab Run\n",
    "V1: New dataset, old model.   \n",
    "A3: untrain model.   \n",
    "A5: this time we change the traning target to predicting the phoneme of each frame (which we can grab from the matched phone guide). From this we again check the several matters concerned and evaluate how well it can be guided to learned the phonemes. \n",
    "\n",
    "A6: This time we use CTC as prediction loss. \n",
    "\n",
    "A7: we do bidirectional LSTM. Bidirectional LSTM using pytorch. (B, L, H) -> (B, L, 2H)"
   ]
  },
  {
   "cell_type": "code",
   "execution_count": 2,
   "metadata": {
    "id": "jN5DNuExjwet"
   },
   "outputs": [],
   "source": [
    "import torch\n",
    "from torch import nn\n",
    "import torch.nn.functional as F\n",
    "from torch.nn.utils.rnn import pad_sequence, pack_sequence\n",
    "from torch import optim\n",
    "from torch.utils.data import Dataset, DataLoader, random_split\n",
    "import matplotlib.pyplot as plt\n",
    "import numpy as np\n",
    "from torchaudio.models.decoder import ctc_decoder"
   ]
  },
  {
   "cell_type": "code",
   "execution_count": 4,
   "metadata": {},
   "outputs": [],
   "source": [
    "from model_model import CTCPredNetV1 as TheLearner\n",
    "from model_dataset import DS_Tools\n",
    "from model_dataset import WordDatasetPhoneseq as ThisDataset\n",
    "from model_dataset import Normalizer, DeNormalizer, TokenMap\n",
    "# from model_dataset import MelSpecTransformDB as TheTransform\n",
    "from model_dataset import MelSpecTransformDB as TheTransform\n",
    "from paths import *\n",
    "from misc_my_utils import *\n",
    "from misc_recorder import *\n",
    "from model_loss import *\n",
    "from model_padding import generate_mask_from_lengths_mat"
   ]
  },
  {
   "attachments": {},
   "cell_type": "markdown",
   "metadata": {
    "tags": []
   },
   "source": [
    "### Dirs"
   ]
  },
  {
   "cell_type": "code",
   "execution_count": 5,
   "metadata": {
    "id": "iGouCDYD3h18"
   },
   "outputs": [],
   "source": [
    "rec_dir = train_cut_word_\n",
    "train_guide_path = os.path.join(src_, \"guide_train.csv\")\n",
    "valid_guide_path = os.path.join(src_, \"guide_validation.csv\")\n",
    "test_guide_path = os.path.join(src_, \"guide_test.csv\")"
   ]
  },
  {
   "cell_type": "markdown",
   "metadata": {},
   "source": []
  },
  {
   "attachments": {},
   "cell_type": "markdown",
   "metadata": {},
   "source": [
    "### Constants"
   ]
  },
  {
   "cell_type": "code",
   "execution_count": 6,
   "metadata": {},
   "outputs": [],
   "source": [
    "BATCH_SIZE = 512\n",
    "\n",
    "INPUT_DIM = 64\n",
    "OUTPUT_DIM = 64 \n",
    "\n",
    "INTER_DIM_0 = 32\n",
    "INTER_DIM_1 = 16\n",
    "INTER_DIM_2 = 8\n",
    "\n",
    "ENC_SIZE_LIST = [INPUT_DIM, INTER_DIM_0, INTER_DIM_1, INTER_DIM_2]\n",
    "DEC_SIZE_LIST = [OUTPUT_DIM, INTER_DIM_0, INTER_DIM_1, INTER_DIM_2]\n",
    "\n",
    "DROPOUT = 0.7\n",
    "\n",
    "REC_SAMPLE_RATE = 16000\n",
    "N_FFT = 400\n",
    "N_MELS = 64\n",
    "\n",
    "LOADER_WORKER = 32\n",
    "# LOADER_WORKER = 0"
   ]
  },
  {
   "cell_type": "markdown",
   "metadata": {},
   "source": [
    "## Prepare for this time of training"
   ]
  },
  {
   "cell_type": "code",
   "execution_count": 7,
   "metadata": {
    "id": "ofsEE6OaoyPh"
   },
   "outputs": [
    {
     "name": "stdout",
     "output_type": "stream",
     "text": [
      "A_03-0525181937\n"
     ]
    }
   ],
   "source": [
    "ts = str(get_timestamp())\n",
    "# ts = \"0205143450\"\n",
    "stop_epoch = \"29\"\n",
    "train_name = \"A_03\"\n",
    "model_save_dir = os.path.join(model_save_, f\"{train_name}-{ts}\")\n",
    "mk(model_save_dir)\n",
    "print(f\"{train_name}-{ts}\")\n",
    "\n",
    "train_losses = ListRecorder(os.path.join(model_save_dir, \"train.loss\"))\n",
    "valid_losses = ListRecorder(os.path.join(model_save_dir, \"valid.loss\"))\n",
    "\n",
    "train_accs = ListRecorder(os.path.join(model_save_dir, \"train.acc\"))\n",
    "valid_accs = ListRecorder(os.path.join(model_save_dir, \"valid.acc\"))\n",
    "text_hist = HistRecorder(os.path.join(model_save_dir, \"trainhist.txt\"))"
   ]
  },
  {
   "cell_type": "markdown",
   "metadata": {},
   "source": [
    "- 0205143450: Bidirectional. No Linpack, only BiLSTM + Linear. \n",
    "- 0205152905: 3 layers. Using 50% of dataset. 100 epochs. SGD. "
   ]
  },
  {
   "cell_type": "code",
   "execution_count": 8,
   "metadata": {
    "id": "-T4OYaoXsxe_"
   },
   "outputs": [],
   "source": [
    "READ = False\n",
    "# READ = True"
   ]
  },
  {
   "cell_type": "code",
   "execution_count": 9,
   "metadata": {},
   "outputs": [],
   "source": [
    "DATAREAD = False"
   ]
  },
  {
   "cell_type": "code",
   "execution_count": 10,
   "metadata": {
    "id": "6OCx4nqP40fz"
   },
   "outputs": [],
   "source": [
    "with open(os.path.join(src_, \"no-stress-seg.dict\"), \"rb\") as file:\n",
    "    # Load the object from the file\n",
    "    mylist = pickle.load(file)\n",
    "    mylist = [\"BLANK\"] + mylist\n",
    "\n",
    "# Now you can use the loaded object\n",
    "mymap = TokenMap(mylist)\n",
    "\n",
    "mytrans = TheTransform(sample_rate=REC_SAMPLE_RATE, \n",
    "                       n_fft=N_FFT, n_mels=N_MELS, \n",
    "                       normalizer=Normalizer.norm_mvn, \n",
    "                       denormalizer=DeNormalizer.norm_mvn)\n",
    "\n",
    "train_ds = ThisDataset(rec_dir, \n",
    "                       train_guide_path, \n",
    "                       mapper=mymap, \n",
    "                       transform=mytrans, \n",
    "                       ground_truth_path=os.path.join(src_, \"train-phoneseq.gt\"))\n",
    "valid_ds = ThisDataset(rec_dir, \n",
    "                       valid_guide_path, \n",
    "                       mapper=mymap, \n",
    "                       transform=mytrans, \n",
    "                       ground_truth_path=os.path.join(src_, \"valid-phoneseq.gt\"))\n",
    "\n",
    "use_proportion = 0.5\n",
    "\n",
    "if READ or DATAREAD: \n",
    "    train_ds_indices = DS_Tools.read_indices(os.path.join(model_save_dir, \"train.use\"))\n",
    "    valid_ds_indices = DS_Tools.read_indices(os.path.join(model_save_dir, \"valid.use\"))\n",
    "\n",
    "    use_train_ds = torch.utils.data.Subset(train_ds, train_ds_indices)\n",
    "    use_valid_ds = torch.utils.data.Subset(valid_ds, valid_ds_indices)\n",
    "else: \n",
    "    # train data\n",
    "    use_len = int(use_proportion * len(train_ds))\n",
    "    remain_len = len(train_ds) - use_len\n",
    "    use_train_ds, remain_ds = random_split(train_ds, [use_len, remain_len])\n",
    "\n",
    "    # valid data\n",
    "    use_len = int(use_proportion * len(valid_ds))\n",
    "    remain_len = len(valid_ds) - use_len\n",
    "    use_valid_ds, remain_ds = random_split(valid_ds, [use_len, remain_len])\n",
    "\n",
    "    # NOTE: we don't need to save the cut-small subset, because after cutting-small, \n",
    "    # the saved train and valid separations will reflect this\n",
    "    DS_Tools.save_indices(os.path.join(model_save_dir, \"train.use\"), use_train_ds.indices)\n",
    "    DS_Tools.save_indices(os.path.join(model_save_dir, \"valid.use\"), use_valid_ds.indices)\n",
    "\n",
    "train_loader = DataLoader(use_train_ds, batch_size=BATCH_SIZE, shuffle=True, num_workers=LOADER_WORKER, collate_fn=ThisDataset.collate_fn)\n",
    "train_num = len(train_loader.dataset)\n",
    "\n",
    "valid_loader = DataLoader(use_valid_ds, batch_size=BATCH_SIZE, shuffle=False, num_workers=LOADER_WORKER, collate_fn=ThisDataset.collate_fn)\n",
    "valid_num = len(valid_loader.dataset)"
   ]
  },
  {
   "cell_type": "code",
   "execution_count": 11,
   "metadata": {},
   "outputs": [
    {
     "data": {
      "text/plain": [
       "(386384, 51904, 755, 102)"
      ]
     },
     "execution_count": 11,
     "metadata": {},
     "output_type": "execute_result"
    }
   ],
   "source": [
    "train_num, valid_num, len(train_loader), len(valid_loader)"
   ]
  },
  {
   "cell_type": "code",
   "execution_count": 12,
   "metadata": {},
   "outputs": [
    {
     "name": "stdout",
     "output_type": "stream",
     "text": [
      "torch.Size([512, 73, 64])\n"
     ]
    }
   ],
   "source": [
    "# Load sample data from train_loader\n",
    "sample_data = next(iter(valid_loader))\n",
    "xx_pad, x_lens, yy_pad, y_lens = sample_data\n",
    "print(xx_pad.shape)"
   ]
  },
  {
   "cell_type": "code",
   "execution_count": 11,
   "metadata": {},
   "outputs": [
    {
     "data": {
      "image/png": "[encoded data removed]",
      "text/plain": [
       "<Figure size 1200x800 with 7 Axes>"
      ]
     },
     "metadata": {},
     "output_type": "display_data"
    }
   ],
   "source": [
    "# Set the random seed for reproducibility\n",
    "# random.seed(101)\n",
    "# Generate six random indices\n",
    "# random_indices = random.sample(range(len(xx_pad)), 6)\n",
    "random_indices = list(range(6, 12))\n",
    "\n",
    "# Plot the spectrograms and mark the corresponding seg\n",
    "fig, axes = plt.subplots(2, 3, figsize=(12, 8))\n",
    "axes = axes.flatten()\n",
    "\n",
    "for i, idx in enumerate(random_indices):\n",
    "    spectrogram = xx_pad[idx]\n",
    "    \n",
    "    ax = axes[i]\n",
    "    img = ax.imshow(spectrogram.T, aspect='auto', origin=\"lower\")\n",
    "    # ax.axvline(x=segment, color='red', linestyle='--')\n",
    "    # ax.axvline(x=segment[1], color='red', linestyle='--')\n",
    "    ax.set_title(f'Spectrogram')\n",
    "    ax.set_xlabel('Time')\n",
    "    ax.set_ylabel('Frequency')\n",
    "plt.tight_layout()\n",
    "plt.colorbar(img,ax=axes)\n",
    "plt.show()"
   ]
  },
  {
   "cell_type": "markdown",
   "metadata": {},
   "source": [
    "## Prepare model"
   ]
  },
  {
   "cell_type": "code",
   "execution_count": 12,
   "metadata": {},
   "outputs": [],
   "source": [
    "device = torch.device('cuda' if torch.cuda.is_available() else 'cpu')\n",
    "model_loss = nn.CTCLoss(blank=mymap.encode(\"BLANK\"))\n",
    "# model_loss = MaskedFlatLoss(recon_loss)\n",
    "\n",
    "model = TheLearner(enc_size_list=ENC_SIZE_LIST, out_dim=mymap.token_num(), num_layers=5)\n",
    "model.to(device)\n",
    "optimizer = optim.Adam(model.parameters(), lr=0.002)\n",
    "# optimizer = optim.SGD(params=model.parameters(), lr=1e-3, momentum=0.9)\n",
    "\n",
    "model_str = str(model)\n",
    "model_txt_path = os.path.join(model_save_dir, \"model.txt\")\n",
    "\n",
    "with open(model_txt_path, \"w\") as f:\n",
    "    f.write(model_str)"
   ]
  },
  {
   "cell_type": "code",
   "execution_count": null,
   "metadata": {},
   "outputs": [],
   "source": [
    "# # initialize model weights\n",
    "# def init_weights(m):\n",
    "#     if isinstance(m, nn.Linear):\n",
    "#         torch.nn.init.orthogonal_(m.weight)\n",
    "#         m.bias.data.fill_(0.01)\n",
    "#     if isinstance(m, nn.LSTM): \n",
    "#         for name, p in m.named_parameters():\n",
    "#             if \"weight\" in name: \n",
    "#                 nn.init.orthogonal_(p)\n",
    "#             elif \"bias\" in name: \n",
    "#                 nn.init.constant_(p, 0)\n",
    "\n",
    "# model.apply(init_weights)"
   ]
  },
  {
   "cell_type": "code",
   "execution_count": 13,
   "metadata": {},
   "outputs": [],
   "source": [
    "model_parameters = filter(lambda p: p.requires_grad, model.parameters())\n",
    "params = sum([np.prod(p.size()) for p in model_parameters])"
   ]
  },
  {
   "cell_type": "code",
   "execution_count": 14,
   "metadata": {},
   "outputs": [
    {
     "data": {
      "text/plain": [
       "12072"
      ]
     },
     "execution_count": 14,
     "metadata": {},
     "output_type": "execute_result"
    }
   ],
   "source": [
    "params"
   ]
  },
  {
   "cell_type": "markdown",
   "metadata": {},
   "source": [
    "### Load model if READ"
   ]
  },
  {
   "cell_type": "code",
   "execution_count": 15,
   "metadata": {},
   "outputs": [],
   "source": [
    "if READ: \n",
    "    valid_losses.read()\n",
    "    train_losses.read()\n",
    "\n",
    "    model_name = \"{}.pt\".format(stop_epoch)\n",
    "    model_path = os.path.join(model_save_dir, model_name)\n",
    "    state = torch.load(model_path)\n",
    "\n",
    "    model.load_state_dict(state)\n",
    "    model.to(device)"
   ]
  },
  {
   "cell_type": "code",
   "execution_count": 17,
   "metadata": {},
   "outputs": [],
   "source": [
    "EPOCHS = 30\n",
    "BASE = 0"
   ]
  },
  {
   "cell_type": "code",
   "execution_count": 18,
   "metadata": {
    "colab": {
     "base_uri": "https://localhost:8080/"
    },
    "id": "y2n7doAD1uRi",
    "outputId": "e9c5bcb7-72db-4238-e83f-36e4dbe35748"
   },
   "outputs": [],
   "source": [
    "def train(): \n",
    "    for epoch in range(BASE, BASE + EPOCHS):\n",
    "        text_hist.print(\"Epoch {}\".format(epoch))\n",
    "\n",
    "        model.train()\n",
    "        train_loss = 0.\n",
    "        train_num = len(train_loader)    # train_loader\n",
    "        train_total = 0\n",
    "        train_correct = 0\n",
    "        for idx, (x, x_lens, y, y_lens) in enumerate(train_loader):\n",
    "            # y_lens should be the same as x_lens\n",
    "            optimizer.zero_grad()\n",
    "            x_mask = generate_mask_from_lengths_mat(x_lens, device=device)\n",
    "            \n",
    "            x = x.to(device)\n",
    "            y = y.to(device)\n",
    "            y = y.long()\n",
    "\n",
    "            x_hat = model(x, x_lens, x_mask)\n",
    "            # print(x_hat, y, x_mask.shape)\n",
    "            # Here x_hat: (B, L, C); we change to (L, B, C)\n",
    "            x_hat = x_hat.permute(1, 0, 2)\n",
    "\n",
    "            # loss = model_loss.get_loss(x_hat, y, x_mask)\n",
    "            loss = model_loss(x_hat, y, x_lens, y_lens)\n",
    "\n",
    "            train_loss += loss.item()\n",
    "\n",
    "            loss.backward()\n",
    "            \n",
    "            # # torch.nn.utils.clip_grad_norm_(model.parameters(), clip_value)\n",
    "            # # 这个函数计算的是全局梯度范数\n",
    "            # # torch.nn.utils.clip_grad_norm(parameters=model.parameters(), max_norm=5, norm_type=2)\n",
    "            # torch.nn.utils.clip_grad_norm_(parameters=model.parameters(), max_norm=5, norm_type=2)\n",
    "            # # parameters: an iterable of Variables that will have gradients normalized\n",
    "            # # max_norm: max norm of the gradients(阈值设定)\n",
    "            # # norm_type: type of the used p-norm. Can be'inf'for infinity norm(定义范数类型)\n",
    "\n",
    "            optimizer.step()\n",
    "            # pred = model.predict_on_output(x_hat)\n",
    "            # this_correct, this_total = count_correct(pred, y, x_mask)\n",
    "            # train_total += this_total\n",
    "            # train_correct += this_correct\n",
    "\n",
    "            if idx % 100 == 0:\n",
    "                text_hist.print(f\"Training loss {loss: .3f} in Step {idx}\")\n",
    "\n",
    "        train_losses.append(train_loss / train_num)\n",
    "        # train_accs.append(train_correct / train_total)\n",
    "        text_hist.print(f\"※※※Training loss {train_loss / train_num: .3f}※※※\")\n",
    "\n",
    "        last_model_name = \"{}.pt\".format(epoch)\n",
    "        torch.save(model.state_dict(), os.path.join(model_save_dir, last_model_name))\n",
    "\n",
    "\n",
    "        model.eval()\n",
    "        valid_loss = 0.\n",
    "        valid_num = len(valid_loader)\n",
    "        valid_total = 0\n",
    "        valid_correct = 0\n",
    "        for idx, (x, x_lens, y, y_lens) in enumerate(valid_loader):\n",
    "            x_mask = generate_mask_from_lengths_mat(x_lens, device=device)\n",
    "            \n",
    "            x = x.to(device)\n",
    "            y = y.to(device)\n",
    "            y = y.long()\n",
    "\n",
    "            x_hat = model(x, x_lens, x_mask)\n",
    "\n",
    "            x_hat = x_hat.permute(1, 0, 2)\n",
    "\n",
    "            # loss = model_loss.get_loss(x_hat, y, x_mask)\n",
    "            loss = model_loss(x_hat, y, x_lens, y_lens)\n",
    "\n",
    "            valid_loss += loss.item()\n",
    "\n",
    "            # pred = model.predict_on_output(x_hat)\n",
    "            # this_correct, this_total = count_correct(pred, y, x_mask)\n",
    "            # valid_total += this_total\n",
    "            # valid_correct += this_correct\n",
    "\n",
    "            if idx % 50 == 0:\n",
    "                text_hist.print(f\"Valid loss {loss: .3f} in Step {idx}\")\n",
    "\n",
    "        valid_losses.append(valid_loss / valid_num)\n",
    "        # valid_accs.append(valid_correct / valid_total)\n",
    "\n",
    "        text_hist.print(f\"※※※Valid loss {valid_loss / valid_num: .3f}※※※\")"
   ]
  },
  {
   "cell_type": "code",
   "execution_count": 19,
   "metadata": {},
   "outputs": [
    {
     "name": "stdout",
     "output_type": "stream",
     "text": [
      "Epoch 0\n",
      "Training loss  21.537 in Step 0\n",
      "Training loss  3.925 in Step 100\n",
      "Training loss  3.824 in Step 200\n",
      "Training loss  3.825 in Step 300\n",
      "Training loss  3.773 in Step 400\n",
      "Training loss  3.692 in Step 500\n",
      "Training loss  3.574 in Step 600\n",
      "Training loss  3.601 in Step 700\n",
      "※※※Training loss  4.609※※※\n",
      "Valid loss  3.598 in Step 0\n",
      "Valid loss  3.574 in Step 50\n",
      "Valid loss  3.591 in Step 100\n",
      "※※※Valid loss  3.569※※※\n",
      "Epoch 1\n",
      "Training loss  3.567 in Step 0\n",
      "Training loss  3.539 in Step 100\n",
      "Training loss  3.455 in Step 200\n",
      "Training loss  3.464 in Step 300\n",
      "Training loss  3.480 in Step 400\n",
      "Training loss  3.415 in Step 500\n",
      "Training loss  3.343 in Step 600\n",
      "Training loss  3.376 in Step 700\n",
      "※※※Training loss  3.445※※※\n",
      "Valid loss  3.337 in Step 0\n",
      "Valid loss  3.344 in Step 50\n",
      "Valid loss  3.364 in Step 100\n",
      "※※※Valid loss  3.322※※※\n",
      "Epoch 2\n",
      "Training loss  3.331 in Step 0\n",
      "Training loss  3.293 in Step 100\n",
      "Training loss  3.299 in Step 200\n",
      "Training loss  3.257 in Step 300\n",
      "Training loss  3.155 in Step 400\n",
      "Training loss  3.202 in Step 500\n",
      "Training loss  3.153 in Step 600\n",
      "Training loss  3.181 in Step 700\n",
      "※※※Training loss  3.209※※※\n",
      "Valid loss  3.042 in Step 0\n",
      "Valid loss  3.061 in Step 50\n",
      "Valid loss  3.090 in Step 100\n",
      "※※※Valid loss  3.039※※※\n",
      "Epoch 3\n",
      "Training loss  3.036 in Step 0\n",
      "Training loss  3.062 in Step 100\n",
      "Training loss  2.971 in Step 200\n",
      "Training loss  2.848 in Step 300\n",
      "Training loss  2.965 in Step 400\n",
      "Training loss  2.923 in Step 500\n",
      "Training loss  2.869 in Step 600\n",
      "Training loss  2.847 in Step 700\n",
      "※※※Training loss  2.923※※※\n",
      "Valid loss  2.726 in Step 0\n",
      "Valid loss  2.757 in Step 50\n",
      "Valid loss  2.790 in Step 100\n",
      "※※※Valid loss  2.729※※※\n",
      "Epoch 4\n",
      "Training loss  2.851 in Step 0\n",
      "Training loss  2.676 in Step 100\n",
      "Training loss  2.680 in Step 200\n",
      "Training loss  2.703 in Step 300\n",
      "Training loss  2.666 in Step 400\n",
      "Training loss  2.701 in Step 500\n",
      "Training loss  2.645 in Step 600\n",
      "Training loss  2.647 in Step 700\n",
      "※※※Training loss  2.693※※※\n",
      "Valid loss  2.519 in Step 0\n",
      "Valid loss  2.540 in Step 50\n",
      "Valid loss  2.573 in Step 100\n",
      "※※※Valid loss  2.509※※※\n",
      "Epoch 5\n",
      "Training loss  2.578 in Step 0\n",
      "Training loss  2.535 in Step 100\n",
      "Training loss  2.504 in Step 200\n",
      "Training loss  2.490 in Step 300\n",
      "Training loss  2.528 in Step 400\n",
      "Training loss  2.493 in Step 500\n",
      "Training loss  2.405 in Step 600\n",
      "Training loss  2.434 in Step 700\n",
      "※※※Training loss  2.517※※※\n",
      "Valid loss  2.363 in Step 0\n",
      "Valid loss  2.378 in Step 50\n",
      "Valid loss  2.388 in Step 100\n",
      "※※※Valid loss  2.357※※※\n",
      "Epoch 6\n",
      "Training loss  2.380 in Step 0\n",
      "Training loss  2.515 in Step 100\n",
      "Training loss  2.470 in Step 200\n",
      "Training loss  2.430 in Step 300\n",
      "Training loss  2.335 in Step 400\n",
      "Training loss  2.420 in Step 500\n",
      "Training loss  2.339 in Step 600\n",
      "Training loss  2.307 in Step 700\n",
      "※※※Training loss  2.385※※※\n",
      "Valid loss  2.253 in Step 0\n",
      "Valid loss  2.263 in Step 50\n",
      "Valid loss  2.261 in Step 100\n",
      "※※※Valid loss  2.247※※※\n",
      "Epoch 7\n",
      "Training loss  2.301 in Step 0\n",
      "Training loss  2.197 in Step 100\n",
      "Training loss  2.214 in Step 200\n",
      "Training loss  2.303 in Step 300\n",
      "Training loss  2.277 in Step 400\n",
      "Training loss  2.299 in Step 500\n",
      "Training loss  2.294 in Step 600\n",
      "Training loss  2.239 in Step 700\n",
      "※※※Training loss  2.288※※※\n",
      "Valid loss  2.183 in Step 0\n",
      "Valid loss  2.188 in Step 50\n",
      "Valid loss  2.176 in Step 100\n",
      "※※※Valid loss  2.174※※※\n",
      "Epoch 8\n",
      "Training loss  2.264 in Step 0\n",
      "Training loss  2.222 in Step 100\n",
      "Training loss  2.205 in Step 200\n",
      "Training loss  2.266 in Step 300\n",
      "Training loss  2.196 in Step 400\n",
      "Training loss  2.232 in Step 500\n",
      "Training loss  2.214 in Step 600\n",
      "Training loss  2.214 in Step 700\n",
      "※※※Training loss  2.220※※※\n",
      "Valid loss  2.111 in Step 0\n",
      "Valid loss  2.101 in Step 50\n",
      "Valid loss  2.084 in Step 100\n",
      "※※※Valid loss  2.093※※※\n",
      "Epoch 9\n",
      "Training loss  2.196 in Step 0\n",
      "Training loss  2.246 in Step 100\n",
      "Training loss  2.111 in Step 200\n",
      "Training loss  2.153 in Step 300\n",
      "Training loss  2.223 in Step 400\n",
      "Training loss  2.157 in Step 500\n",
      "Training loss  2.184 in Step 600\n",
      "Training loss  2.133 in Step 700\n",
      "※※※Training loss  2.174※※※\n",
      "Valid loss  2.065 in Step 0\n",
      "Valid loss  2.096 in Step 50\n",
      "Valid loss  2.064 in Step 100\n",
      "※※※Valid loss  2.068※※※\n",
      "Epoch 10\n",
      "Training loss  2.212 in Step 0\n",
      "Training loss  2.127 in Step 100\n",
      "Training loss  2.082 in Step 200\n",
      "Training loss  2.178 in Step 300\n",
      "Training loss  2.106 in Step 400\n",
      "Training loss  2.109 in Step 500\n",
      "Training loss  2.075 in Step 600\n",
      "Training loss  2.070 in Step 700\n",
      "※※※Training loss  2.135※※※\n",
      "Valid loss  2.049 in Step 0\n",
      "Valid loss  2.048 in Step 50\n",
      "Valid loss  2.045 in Step 100\n",
      "※※※Valid loss  2.044※※※\n",
      "Epoch 11\n",
      "Training loss  2.083 in Step 0\n",
      "Training loss  2.065 in Step 100\n",
      "Training loss  2.072 in Step 200\n",
      "Training loss  2.063 in Step 300\n",
      "Training loss  2.170 in Step 400\n",
      "Training loss  2.098 in Step 500\n",
      "Training loss  2.179 in Step 600\n",
      "Training loss  2.109 in Step 700\n",
      "※※※Training loss  2.106※※※\n",
      "Valid loss  1.986 in Step 0\n",
      "Valid loss  2.004 in Step 50\n",
      "Valid loss  1.969 in Step 100\n",
      "※※※Valid loss  1.985※※※\n",
      "Epoch 12\n",
      "Training loss  2.141 in Step 0\n",
      "Training loss  2.081 in Step 100\n",
      "Training loss  2.031 in Step 200\n",
      "Training loss  2.055 in Step 300\n",
      "Training loss  2.093 in Step 400\n",
      "Training loss  2.061 in Step 500\n",
      "Training loss  2.104 in Step 600\n",
      "Training loss  2.088 in Step 700\n",
      "※※※Training loss  2.080※※※\n",
      "Valid loss  1.966 in Step 0\n",
      "Valid loss  1.992 in Step 50\n",
      "Valid loss  1.960 in Step 100\n",
      "※※※Valid loss  1.972※※※\n",
      "Epoch 13\n",
      "Training loss  2.083 in Step 0\n",
      "Training loss  1.978 in Step 100\n",
      "Training loss  2.074 in Step 200\n",
      "Training loss  2.022 in Step 300\n",
      "Training loss  2.085 in Step 400\n",
      "Training loss  2.056 in Step 500\n",
      "Training loss  2.063 in Step 600\n",
      "Training loss  2.105 in Step 700\n",
      "※※※Training loss  2.056※※※\n",
      "Valid loss  1.963 in Step 0\n",
      "Valid loss  1.980 in Step 50\n",
      "Valid loss  1.942 in Step 100\n",
      "※※※Valid loss  1.952※※※\n",
      "Epoch 14\n",
      "Training loss  2.046 in Step 0\n",
      "Training loss  2.020 in Step 100\n",
      "Training loss  1.989 in Step 200\n",
      "Training loss  2.033 in Step 300\n",
      "Training loss  2.050 in Step 400\n",
      "Training loss  1.998 in Step 500\n",
      "Training loss  1.937 in Step 600\n",
      "Training loss  1.961 in Step 700\n",
      "※※※Training loss  2.036※※※\n",
      "Valid loss  1.931 in Step 0\n",
      "Valid loss  1.978 in Step 50\n",
      "Valid loss  1.933 in Step 100\n",
      "※※※Valid loss  1.938※※※\n",
      "Epoch 15\n",
      "Training loss  1.968 in Step 0\n",
      "Training loss  2.040 in Step 100\n",
      "Training loss  2.004 in Step 200\n",
      "Training loss  1.971 in Step 300\n",
      "Training loss  1.971 in Step 400\n",
      "Training loss  1.979 in Step 500\n",
      "Training loss  2.016 in Step 600\n",
      "Training loss  1.977 in Step 700\n",
      "※※※Training loss  2.018※※※\n",
      "Valid loss  1.911 in Step 0\n",
      "Valid loss  1.971 in Step 50\n",
      "Valid loss  1.904 in Step 100\n",
      "※※※Valid loss  1.912※※※\n",
      "Epoch 16\n",
      "Training loss  2.012 in Step 0\n",
      "Training loss  2.117 in Step 100\n",
      "Training loss  2.073 in Step 200\n",
      "Training loss  2.002 in Step 300\n",
      "Training loss  1.978 in Step 400\n",
      "Training loss  2.011 in Step 500\n",
      "Training loss  1.944 in Step 600\n",
      "Training loss  2.009 in Step 700\n",
      "※※※Training loss  2.003※※※\n",
      "Valid loss  1.896 in Step 0\n",
      "Valid loss  1.955 in Step 50\n",
      "Valid loss  1.898 in Step 100\n",
      "※※※Valid loss  1.907※※※\n",
      "Epoch 17\n",
      "Training loss  2.014 in Step 0\n",
      "Training loss  1.975 in Step 100\n",
      "Training loss  1.950 in Step 200\n",
      "Training loss  2.003 in Step 300\n",
      "Training loss  2.008 in Step 400\n",
      "Training loss  1.986 in Step 500\n",
      "Training loss  2.047 in Step 600\n",
      "Training loss  1.931 in Step 700\n",
      "※※※Training loss  1.989※※※\n",
      "Valid loss  1.885 in Step 0\n",
      "Valid loss  1.971 in Step 50\n",
      "Valid loss  1.883 in Step 100\n",
      "※※※Valid loss  1.896※※※\n",
      "Epoch 18\n",
      "Training loss  1.978 in Step 0\n",
      "Training loss  1.983 in Step 100\n",
      "Training loss  1.994 in Step 200\n",
      "Training loss  2.011 in Step 300\n",
      "Training loss  2.041 in Step 400\n",
      "Training loss  1.953 in Step 500\n",
      "Training loss  1.964 in Step 600\n",
      "Training loss  1.906 in Step 700\n",
      "※※※Training loss  1.977※※※\n",
      "Valid loss  1.828 in Step 0\n",
      "Valid loss  1.888 in Step 50\n",
      "Valid loss  1.826 in Step 100\n",
      "※※※Valid loss  1.844※※※\n",
      "Epoch 19\n",
      "Training loss  1.997 in Step 0\n",
      "Training loss  1.948 in Step 100\n",
      "Training loss  1.974 in Step 200\n",
      "Training loss  1.947 in Step 300\n",
      "Training loss  1.935 in Step 400\n",
      "Training loss  1.965 in Step 500\n",
      "Training loss  1.965 in Step 600\n",
      "Training loss  1.979 in Step 700\n",
      "※※※Training loss  1.966※※※\n",
      "Valid loss  1.834 in Step 0\n",
      "Valid loss  1.889 in Step 50\n",
      "Valid loss  1.835 in Step 100\n",
      "※※※Valid loss  1.849※※※\n",
      "Epoch 20\n",
      "Training loss  1.906 in Step 0\n",
      "Training loss  1.972 in Step 100\n",
      "Training loss  1.964 in Step 200\n",
      "Training loss  2.022 in Step 300\n",
      "Training loss  1.858 in Step 400\n",
      "Training loss  1.946 in Step 500\n",
      "Training loss  2.013 in Step 600\n",
      "Training loss  1.875 in Step 700\n",
      "※※※Training loss  1.957※※※\n",
      "Valid loss  1.812 in Step 0\n",
      "Valid loss  1.900 in Step 50\n",
      "Valid loss  1.844 in Step 100\n",
      "※※※Valid loss  1.851※※※\n",
      "Epoch 21\n",
      "Training loss  2.022 in Step 0\n",
      "Training loss  1.890 in Step 100\n",
      "Training loss  1.936 in Step 200\n",
      "Training loss  1.932 in Step 300\n",
      "Training loss  1.954 in Step 400\n",
      "Training loss  2.074 in Step 500\n",
      "Training loss  1.908 in Step 600\n",
      "Training loss  1.817 in Step 700\n",
      "※※※Training loss  1.951※※※\n",
      "Valid loss  1.803 in Step 0\n",
      "Valid loss  1.848 in Step 50\n",
      "Valid loss  1.831 in Step 100\n",
      "※※※Valid loss  1.825※※※\n",
      "Epoch 22\n",
      "Training loss  1.934 in Step 0\n",
      "Training loss  1.923 in Step 100\n",
      "Training loss  1.867 in Step 200\n",
      "Training loss  1.922 in Step 300\n",
      "Training loss  1.981 in Step 400\n",
      "Training loss  1.866 in Step 500\n",
      "Training loss  1.920 in Step 600\n",
      "Training loss  1.934 in Step 700\n",
      "※※※Training loss  1.940※※※\n",
      "Valid loss  1.800 in Step 0\n",
      "Valid loss  1.876 in Step 50\n",
      "Valid loss  1.834 in Step 100\n",
      "※※※Valid loss  1.826※※※\n",
      "Epoch 23\n",
      "Training loss  2.011 in Step 0\n",
      "Training loss  1.897 in Step 100\n",
      "Training loss  1.845 in Step 200\n",
      "Training loss  2.012 in Step 300\n",
      "Training loss  1.927 in Step 400\n",
      "Training loss  1.955 in Step 500\n",
      "Training loss  1.890 in Step 600\n",
      "Training loss  1.853 in Step 700\n",
      "※※※Training loss  1.932※※※\n",
      "Valid loss  1.782 in Step 0\n",
      "Valid loss  1.877 in Step 50\n",
      "Valid loss  1.807 in Step 100\n",
      "※※※Valid loss  1.812※※※\n",
      "Epoch 24\n",
      "Training loss  1.888 in Step 0\n",
      "Training loss  1.917 in Step 100\n",
      "Training loss  1.933 in Step 200\n",
      "Training loss  1.911 in Step 300\n",
      "Training loss  1.935 in Step 400\n",
      "Training loss  1.943 in Step 500\n",
      "Training loss  1.944 in Step 600\n",
      "Training loss  1.888 in Step 700\n",
      "※※※Training loss  1.926※※※\n",
      "Valid loss  1.794 in Step 0\n",
      "Valid loss  1.886 in Step 50\n",
      "Valid loss  1.809 in Step 100\n",
      "※※※Valid loss  1.811※※※\n",
      "Epoch 25\n",
      "Training loss  1.922 in Step 0\n",
      "Training loss  1.815 in Step 100\n",
      "Training loss  1.865 in Step 200\n",
      "Training loss  2.009 in Step 300\n",
      "Training loss  1.944 in Step 400\n",
      "Training loss  1.977 in Step 500\n",
      "Training loss  1.831 in Step 600\n",
      "Training loss  1.927 in Step 700\n",
      "※※※Training loss  1.919※※※\n",
      "Valid loss  1.801 in Step 0\n",
      "Valid loss  1.876 in Step 50\n",
      "Valid loss  1.825 in Step 100\n",
      "※※※Valid loss  1.825※※※\n",
      "Epoch 26\n",
      "Training loss  1.959 in Step 0\n",
      "Training loss  1.960 in Step 100\n",
      "Training loss  1.908 in Step 200\n",
      "Training loss  1.901 in Step 300\n",
      "Training loss  1.956 in Step 400\n",
      "Training loss  1.940 in Step 500\n",
      "Training loss  1.994 in Step 600\n",
      "Training loss  1.868 in Step 700\n",
      "※※※Training loss  1.913※※※\n",
      "Valid loss  1.757 in Step 0\n",
      "Valid loss  1.833 in Step 50\n",
      "Valid loss  1.801 in Step 100\n",
      "※※※Valid loss  1.797※※※\n",
      "Epoch 27\n",
      "Training loss  1.997 in Step 0\n",
      "Training loss  1.976 in Step 100\n",
      "Training loss  1.969 in Step 200\n",
      "Training loss  1.902 in Step 300\n",
      "Training loss  1.872 in Step 400\n",
      "Training loss  1.866 in Step 500\n",
      "Training loss  1.962 in Step 600\n",
      "Training loss  1.966 in Step 700\n",
      "※※※Training loss  1.914※※※\n",
      "Valid loss  1.787 in Step 0\n",
      "Valid loss  1.866 in Step 50\n",
      "Valid loss  1.799 in Step 100\n",
      "※※※Valid loss  1.799※※※\n",
      "Epoch 28\n",
      "Training loss  1.906 in Step 0\n",
      "Training loss  1.878 in Step 100\n",
      "Training loss  1.907 in Step 200\n",
      "Training loss  1.938 in Step 300\n",
      "Training loss  1.934 in Step 400\n",
      "Training loss  1.872 in Step 500\n",
      "Training loss  1.900 in Step 600\n",
      "Training loss  1.921 in Step 700\n",
      "※※※Training loss  1.906※※※\n",
      "Valid loss  1.756 in Step 0\n",
      "Valid loss  1.835 in Step 50\n",
      "Valid loss  1.794 in Step 100\n",
      "※※※Valid loss  1.783※※※\n",
      "Epoch 29\n",
      "Training loss  1.814 in Step 0\n",
      "Training loss  1.945 in Step 100\n",
      "Training loss  1.912 in Step 200\n",
      "Training loss  1.860 in Step 300\n",
      "Training loss  1.930 in Step 400\n",
      "Training loss  1.830 in Step 500\n",
      "Training loss  1.901 in Step 600\n",
      "Training loss  1.924 in Step 700\n",
      "※※※Training loss  1.900※※※\n",
      "Valid loss  1.746 in Step 0\n",
      "Valid loss  1.816 in Step 50\n",
      "Valid loss  1.770 in Step 100\n",
      "※※※Valid loss  1.770※※※\n"
     ]
    }
   ],
   "source": [
    "if __name__ == \"__main__\": \n",
    "    train()"
   ]
  },
  {
   "cell_type": "code",
   "execution_count": 20,
   "metadata": {
    "id": "KSTTwi31xAvh"
   },
   "outputs": [],
   "source": [
    "### Save\n",
    "train_losses.save()\n",
    "\n",
    "valid_losses.save()\n",
    "\n",
    "text_hist.save()"
   ]
  },
  {
   "cell_type": "code",
   "execution_count": 21,
   "metadata": {},
   "outputs": [
    {
     "data": {
      "text/plain": [
       "<matplotlib.legend.Legend at 0x7f0de8d57c50>"
      ]
     },
     "execution_count": 21,
     "metadata": {},
     "output_type": "execute_result"
    },
    {
     "data": {
      "image/png": "[encoded data removed]",
      "text/plain": [
       "<Figure size 1200x400 with 2 Axes>"
      ]
     },
     "metadata": {},
     "output_type": "display_data"
    }
   ],
   "source": [
    "start, end = 0, 100\n",
    "\n",
    "fig, (ax1, ax2) = plt.subplots(1, 2, figsize=(12, 4))\n",
    "# Plot Loss on the left subplot\n",
    "ax1.plot(train_losses.get()[start:end], label='Train')\n",
    "ax1.plot(valid_losses.get()[start:end], label='Valid')\n",
    "ax1.set_title(\"Learning Curve Loss\")\n",
    "ax1.legend(loc=\"upper right\")\n",
    "\n",
    "# Plot Accuracy on the right subplot\n",
    "ax2.plot(train_accs.get()[start:end], label='Train')\n",
    "ax2.plot(valid_accs.get()[start:end], label='Valid')\n",
    "ax2.set_title('Learning Curve Accuracy')\n",
    "ax2.legend(loc=\"lower right\")"
   ]
  },
  {
   "cell_type": "markdown",
   "metadata": {},
   "source": [
    "## Testing"
   ]
  },
  {
   "cell_type": "code",
   "execution_count": 22,
   "metadata": {},
   "outputs": [],
   "source": [
    "import torchaudio\n",
    "from tqdm import tqdm"
   ]
  },
  {
   "cell_type": "code",
   "execution_count": 23,
   "metadata": {},
   "outputs": [],
   "source": [
    "CTCDecoder = ctc_decoder(\n",
    "    lexicon=None, \n",
    "    tokens=mylist + [\"|\"], \n",
    "    blank_token=\"BLANK\"\n",
    ")"
   ]
  },
  {
   "cell_type": "code",
   "execution_count": 25,
   "metadata": {},
   "outputs": [],
   "source": [
    "test_ds = ThisDataset(rec_dir, \n",
    "                       test_guide_path, \n",
    "                       mapper=mymap, \n",
    "                       transform=mytrans, \n",
    "                       ground_truth_path=os.path.join(src_, \"test-phoneseq.gt\"))\n",
    "\n",
    "use_proportion = 0.1\n",
    "\n",
    "if READ or DATAREAD: \n",
    "    test_ds_indices = DS_Tools.read_indices(os.path.join(model_save_dir, \"test.use\"))\n",
    "    use_test_ds = torch.utils.data.Subset(test_ds,test_ds_indices)\n",
    "else: \n",
    "    # train data\n",
    "    use_len = int(use_proportion * len(test_ds))\n",
    "    remain_len = len(test_ds) - use_len\n",
    "    use_test_ds, remain_ds = random_split(test_ds, [use_len, remain_len])\n",
    "    DS_Tools.save_indices(os.path.join(model_save_dir, \"test.use\"), use_train_ds.indices)\n",
    "\n",
    "test_loader = DataLoader(use_test_ds, batch_size=BATCH_SIZE, shuffle=False, num_workers=LOADER_WORKER, collate_fn=ThisDataset.collate_fn_yNoPad)\n",
    "test_num = len(test_loader.dataset)"
   ]
  },
  {
   "cell_type": "code",
   "execution_count": 33,
   "metadata": {},
   "outputs": [
    {
     "name": "stderr",
     "output_type": "stream",
     "text": [
      "100%|██████████| 20/20 [03:04<00:00,  9.22s/it]\n"
     ]
    }
   ],
   "source": [
    "model.eval()\n",
    "test_loss = 0.\n",
    "test_num = len(test_loader)\n",
    "preds = []\n",
    "reals = []\n",
    "for (x, x_lens, y, y_lens) in tqdm(test_loader):\n",
    "    x_mask = generate_mask_from_lengths_mat(x_lens, device=device)\n",
    "    \n",
    "    x = x.to(device)\n",
    "    # y = y.to(device)\n",
    "    # y = y.long()\n",
    "\n",
    "    x_hat = model(x, x_lens, x_mask)\n",
    "\n",
    "    preds += CTCDecoder(x_hat.cpu())\n",
    "    reals += y"
   ]
  },
  {
   "cell_type": "code",
   "execution_count": 34,
   "metadata": {},
   "outputs": [],
   "source": [
    "total_per = 0\n",
    "total = 0\n",
    "for real, pred in zip(reals, preds): \n",
    "    total_per += torchaudio.functional.edit_distance(real, pred[0].tokens[1:-1]) / len(real)\n",
    "    total += 1"
   ]
  },
  {
   "cell_type": "code",
   "execution_count": 64,
   "metadata": {},
   "outputs": [
    {
     "name": "stdout",
     "output_type": "stream",
     "text": [
      "['M', 'AH', 'S', 'T']\n",
      "['M', 'S', 'D']\n"
     ]
    }
   ],
   "source": [
    "i = torch.randint(0, total, size=(1, )).item()\n",
    "print([mymap.decode(x.item()) for x in reals[i]])\n",
    "print([mymap.decode(x.item()) for x in preds[i][0].tokens[1:-1]])"
   ]
  },
  {
   "cell_type": "code",
   "execution_count": 35,
   "metadata": {},
   "outputs": [
    {
     "data": {
      "text/plain": [
       "0.7639598337960807"
      ]
     },
     "execution_count": 35,
     "metadata": {},
     "output_type": "execute_result"
    }
   ],
   "source": [
    "total_per / total"
   ]
  },
  {
   "cell_type": "markdown",
   "metadata": {},
   "source": [
    "## Conclusion\n",
    "This model should converge to loss around 0.49x. "
   ]
  },
  {
   "cell_type": "markdown",
   "metadata": {},
   "source": []
  }
 ],
 "metadata": {
  "accelerator": "GPU",
  "colab": {
   "provenance": []
  },
  "gpuClass": "standard",
  "kernelspec": {
   "display_name": "Python 3 (ipykernel)",
   "language": "python",
   "name": "python3"
  },
  "language_info": {
   "codemirror_mode": {
    "name": "ipython",
    "version": 3
   },
   "file_extension": ".py",
   "mimetype": "text/x-python",
   "name": "python",
   "nbconvert_exporter": "python",
   "pygments_lexer": "ipython3",
   "version": "3.11.7"
  }
 },
 "nbformat": 4,
 "nbformat_minor": 4
}
