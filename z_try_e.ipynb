{
 "cells": [
  {
   "cell_type": "code",
   "execution_count": 86,
   "metadata": {},
   "outputs": [],
   "source": [
    "from paths import *\n",
    "import pandas as pd\n",
    "from model_dataset import Normalizer, DeNormalizer, TokenMap, WordDictionary\n",
    "import matplotlib.pyplot as plt\n",
    "import pickle\n",
    "from torch.utils.data import DataLoader, random_split\n",
    "from model_dataset import TargetVowelDatasetPhoneseq as ThisDataset\n",
    "from model_dataset import MelSpecTransformDB as TheTransform\n",
    "from model_dataset import SilenceSampler_for_TV\n",
    "from model_dataset import HarmonicNoiseGen\n",
    "import torch\n",
    "import torch.nn as nn\n",
    "import torchaudio\n",
    "import random\n",
    "import numpy as np"
   ]
  },
  {
   "cell_type": "code",
   "execution_count": 2,
   "metadata": {},
   "outputs": [],
   "source": [
    "REC_SAMPLE_RATE = 16000\n",
    "N_FFT = 400\n",
    "N_MELS = 64\n",
    "BATCH_SIZE = 1\n",
    "LOADER_WORKER = 32"
   ]
  },
  {
   "cell_type": "code",
   "execution_count": 3,
   "metadata": {},
   "outputs": [],
   "source": [
    "target_path = src_"
   ]
  },
  {
   "cell_type": "code",
   "execution_count": 93,
   "metadata": {},
   "outputs": [],
   "source": [
    "t_set = pd.read_csv(os.path.join(target_path, f\"phi-T-guide.csv\"))\n",
    "st_set = pd.read_csv(os.path.join(target_path, f\"phi-ST-guide.csv\"))\n",
    "integrated = pd.concat([t_set, st_set], ignore_index=True, sort=False)"
   ]
  },
  {
   "cell_type": "code",
   "execution_count": 128,
   "metadata": {},
   "outputs": [],
   "source": [
    "def norm_mvn_manual(mel_spec, mean, std):\n",
    "    eps = 1e-9\n",
    "    norm_spec = (mel_spec - mean) / (std + eps)\n",
    "    return norm_spec\n",
    "\n",
    "def mv_get(mel_spec):\n",
    "    mel_spec = mel_spec.squeeze(0)\n",
    "    mean = mel_spec.mean()\n",
    "    std = mel_spec.std(unbiased=False)\n",
    "    return mean, std\n",
    "\n",
    "def norm_mvn(mel_spec):\n",
    "    eps = 1e-9\n",
    "    mean = mel_spec.mean()\n",
    "    std = mel_spec.std(unbiased=False)\n",
    "    norm_spec = (mel_spec - mean) / (std + eps)\n",
    "    return norm_spec"
   ]
  },
  {
   "cell_type": "code",
   "execution_count": 129,
   "metadata": {},
   "outputs": [],
   "source": [
    "class MelSpecTransformNoNorm(nn.Module): \n",
    "    def __init__(self, sample_rate, n_fft=400, n_mels=64): \n",
    "        super().__init__()\n",
    "        self.sample_rate = sample_rate\n",
    "        n_stft = int((n_fft//2) + 1)\n",
    "        self.transform = torchaudio.transforms.MelSpectrogram(sample_rate, n_mels=n_mels, n_fft=n_fft, hop_length=32)\n",
    "        self.inverse_mel = torchaudio.transforms.InverseMelScale(sample_rate=sample_rate, n_mels=n_mels, n_stft=n_stft)\n",
    "        self.grifflim = torchaudio.transforms.GriffinLim(n_fft=n_fft)\n",
    "        self.amplitude_to_DB = torchaudio.transforms.AmplitudeToDB(stype='power')\n",
    "\n",
    "    def forward(self, waveform): \n",
    "        # transform to mel_spectrogram\n",
    "        mel_spec = self.transform(waveform)  # (channel, n_mels, time)\n",
    "        # mel_spec = F.amplitude_to_DB(mel_spec)\n",
    "        mel_spec = self.amplitude_to_DB(mel_spec)\n",
    "        # mel_spec = torch.tensor(librosa.power_to_db(mel_spec.squeeze().numpy()))\n",
    "        mel_spec = mel_spec.squeeze()\n",
    "        mel_spec = mel_spec.permute(1, 0) # (F, L) -> (L, F)\n",
    "        return mel_spec"
   ]
  },
  {
   "cell_type": "code",
   "execution_count": 130,
   "metadata": {},
   "outputs": [],
   "source": [
    "mytrans_nonorm = MelSpecTransformNoNorm(sample_rate=REC_SAMPLE_RATE, \n",
    "                    n_fft=N_FFT, n_mels=N_MELS)"
   ]
  },
  {
   "cell_type": "code",
   "execution_count": 131,
   "metadata": {},
   "outputs": [],
   "source": [
    "def plot_spectrogram(specgram, title=None, ylabel=\"freq_bin\", ax=None):\n",
    "    if ax is None:\n",
    "        _, ax = plt.subplots(1, 1)\n",
    "    if title is not None:\n",
    "        ax.set_title(title, fontsize=24)\n",
    "    ax.set_ylabel(ylabel, fontdict={\"fontsize\": 18})\n",
    "    labels = ax.get_xticklabels() + ax.get_yticklabels()\n",
    "    [label.set_fontsize(18) for label in labels]\n",
    "    # ax.imshow(librosa.power_to_db(specgram), origin=\"lower\", aspect=\"auto\", interpolation=\"nearest\")\n",
    "    ax.imshow(specgram, origin=\"lower\", aspect=\"auto\", interpolation=\"nearest\")\n",
    "\n",
    "def plot_spectrogram_lined(specgram, title=None, ylabel=\"freq_bin\", ax=None, flines=None, dlines=None, dlines2=None, burstlines=None):\n",
    "    if ax is None:\n",
    "        _, ax = plt.subplots(1, 1)\n",
    "    if title is not None:\n",
    "        ax.set_title(title, fontsize=24)\n",
    "    ax.set_ylabel(ylabel, fontdict={\"fontsize\": 18})\n",
    "    labels = ax.get_xticklabels() + ax.get_yticklabels()\n",
    "    [label.set_fontsize(18) for label in labels]\n",
    "    \n",
    "    ax.imshow(specgram, origin=\"lower\", aspect=\"auto\", interpolation=\"nearest\")\n",
    "    \n",
    "    # Draw vertical lines at specified x-values\n",
    "    if flines is not None:\n",
    "        for x in flines:\n",
    "            ax.axvline(x=x, color='red', linestyle='-', linewidth=2)\n",
    "    if dlines is not None:\n",
    "        for x in dlines:\n",
    "            ax.axvline(x=x, color='blue', linestyle='--', linewidth=1)\n",
    "    if dlines2 is not None:\n",
    "        for x in dlines2:\n",
    "            ax.axvline(x=x, color='orange', linestyle='--', linewidth=1)\n",
    "    if burstlines is not None:\n",
    "        for x in burstlines:\n",
    "            ax.axvline(x=x, color='purple', linestyle='dashdot', linewidth=1)\n",
    "\n",
    "def plot_waveform(waveform, sample_rate, title=\"Waveform\", xlim=None, flines=None, dlines=None, dlines2=None, burstlines=None):\n",
    "    waveform = waveform.numpy()\n",
    "\n",
    "    num_channels, num_frames = waveform.shape\n",
    "    time_axis = torch.arange(0, num_frames) / sample_rate\n",
    "\n",
    "    figure, axes = plt.subplots(num_channels, 1)\n",
    "    if num_channels == 1:\n",
    "        axes = [axes]\n",
    "    for c in range(num_channels):\n",
    "        axes[c].plot(time_axis, waveform[c], linewidth=1)\n",
    "        axes[c].grid(True)\n",
    "        if num_channels > 1:\n",
    "            axes[c].set_ylabel(f\"Channel {c+1}\")\n",
    "        if xlim:\n",
    "            axes[c].set_xlim(xlim)\n",
    "    figure.suptitle(title)\n",
    "    # Draw vertical lines at specified x-values\n",
    "    ax = axes[0]\n",
    "    if flines is not None:\n",
    "        for x in flines:\n",
    "            ax.axvline(x=x, color='red', linestyle='-', linewidth=2)\n",
    "    if dlines is not None:\n",
    "        for x in dlines:\n",
    "            ax.axvline(x=x, color='blue', linestyle='--', linewidth=1)\n",
    "    if dlines2 is not None:\n",
    "        for x in dlines2:\n",
    "            ax.axvline(x=x, color='orange', linestyle='--', linewidth=1)\n",
    "    if burstlines is not None:\n",
    "        for x in burstlines:\n",
    "            ax.axvline(x=x, color='purple', linestyle='dashdot', linewidth=1)\n",
    "    \n",
    "\n",
    "def frame_to_time(frame_index, sr=16000, hop_length=200):\n",
    "    return frame_index * hop_length / sr"
   ]
  },
  {
   "cell_type": "code",
   "execution_count": 135,
   "metadata": {},
   "outputs": [],
   "source": [
    "phone_rec_dir = train_cut_phone_\n",
    "check_dir = os.path.join(model_save_, \"C_0Tg-0915163757-5\", \"guides\")"
   ]
  },
  {
   "cell_type": "code",
   "execution_count": 136,
   "metadata": {},
   "outputs": [],
   "source": [
    "st_guide = pd.read_csv(os.path.join(check_dir, \"ST-valid.csv\"))"
   ]
  },
  {
   "cell_type": "code",
   "execution_count": 137,
   "metadata": {},
   "outputs": [],
   "source": [
    "picked_idx = random.randint(0, len(st_guide)-1)"
   ]
  },
  {
   "cell_type": "code",
   "execution_count": 138,
   "metadata": {},
   "outputs": [
    {
     "name": "stdout",
     "output_type": "stream",
     "text": [
      "HarmonicNoiseGen: sample_rate=16000, amplitude_scale=0.004, oscillation_scale=0.0006, f_0=50\n"
     ]
    }
   ],
   "source": [
    "noise_gen = HarmonicNoiseGen(sample_rate=16000, \n",
    "                                amplitude_scale=0.004, \n",
    "                                oscillation_scale=0.0006, f_0=50)\n",
    "silence_duration = SilenceSampler_for_TV(fixlength=False).sample(len(st_guide))\n",
    "noise_set = noise_gen.generate_samples(np.array(silence_duration))"
   ]
  },
  {
   "cell_type": "code",
   "execution_count": 139,
   "metadata": {},
   "outputs": [],
   "source": [
    "def get_audio_st(pre_, stop_, vowel_, src_dir=phone_rec_dir): \n",
    "    S_name = os.path.join(\n",
    "        src_dir, \n",
    "        pre_\n",
    "    )\n",
    "    T_name = os.path.join(\n",
    "        src_dir, \n",
    "        stop_\n",
    "    )\n",
    "    V_name = os.path.join(\n",
    "        src_dir, \n",
    "        vowel_\n",
    "    )\n",
    "\n",
    "    S_data, sample_rate_S = torchaudio.load(S_name, normalize=True)\n",
    "    T_data, sample_rate_T = torchaudio.load(T_name, normalize=True)\n",
    "    V_data, sample_rate_V = torchaudio.load(V_name, normalize=True)\n",
    "    assert sample_rate_S == sample_rate_T == sample_rate_V\n",
    "\n",
    "    data = torch.cat([S_data, T_data, V_data], dim=1)\n",
    "    return data\n",
    "\n",
    "def get_audio_tt(pre_sound, stop_, vowel_, src_dir=phone_rec_dir): \n",
    "    T_name = os.path.join(\n",
    "        src_dir, \n",
    "        stop_\n",
    "    )\n",
    "    V_name = os.path.join(\n",
    "        src_dir, \n",
    "        vowel_\n",
    "    )\n",
    "\n",
    "    # S_data, sample_rate_S = torchaudio.load(S_name, normalize=True)\n",
    "    S_data = pre_sound\n",
    "    T_data, sample_rate_T = torchaudio.load(T_name, normalize=True)\n",
    "    V_data, sample_rate_V = torchaudio.load(V_name, normalize=True)\n",
    "    assert sample_rate_T == sample_rate_V\n",
    "\n",
    "    data = torch.cat([S_data, T_data, V_data], dim=1)\n",
    "    return data"
   ]
  },
  {
   "cell_type": "code",
   "execution_count": 141,
   "metadata": {},
   "outputs": [],
   "source": [
    "picked_idx = random.randint(0, len(st_guide)-1)\n",
    "\n",
    "st_audio = get_audio_st(st_guide.iloc[picked_idx][\"pre_path\"], st_guide.iloc[picked_idx][\"stop_path\"], st_guide.iloc[picked_idx][\"vowel_path\"])\n",
    "tt_audio = get_audio_tt(noise_set[picked_idx], st_guide.iloc[picked_idx][\"stop_path\"], st_guide.iloc[picked_idx][\"vowel_path\"])\n",
    "\n",
    "st_spec_nonorm = mytrans_nonorm(st_audio)\n",
    "tt_spec_nonorm = mytrans_nonorm(tt_audio)\n",
    "\n",
    "mean, std = mv_get(st_spec_nonorm)\n",
    "st_spec_newnorm = norm_mvn_manual(st_spec_nonorm, mean, std)\n",
    "tt_spec_newnorm = norm_mvn_manual(tt_spec_nonorm, mean, std)\n",
    "\n",
    "st_spec = norm_mvn(st_spec_nonorm)\n",
    "tt_spec = norm_mvn(tt_spec_nonorm)\n",
    "\n",
    "\n",
    "# plot_spectrogram(st_spec.T, title=f\"Spectrogram\")\n",
    "# plot_spectrogram(tt_spec.T, title=f\"Spectrogram\")\n",
    "\n",
    "# plot_spectrogram(st_spec_nonorm.T, title=f\"Spectrogram\")\n",
    "# plot_spectrogram(tt_spec_nonorm.T, title=f\"Spectrogram\")"
   ]
  },
  {
   "cell_type": "code",
   "execution_count": 112,
   "metadata": {},
   "outputs": [],
   "source": [
    "from scipy.spatial.distance import euclidean, cosine"
   ]
  },
  {
   "cell_type": "code",
   "execution_count": 158,
   "metadata": {},
   "outputs": [
    {
     "data": {
      "image/png": "[encoded data removed]",
      "text/plain": [
       "<Figure size 640x480 with 1 Axes>"
      ]
     },
     "metadata": {},
     "output_type": "display_data"
    }
   ],
   "source": [
    "picked_idx = random.randint(0, len(st_guide)-1)\n",
    "\n",
    "st_audio = get_audio_st(st_guide.iloc[picked_idx][\"pre_path\"], st_guide.iloc[picked_idx][\"stop_path\"], st_guide.iloc[picked_idx][\"vowel_path\"])\n",
    "tt_audio = get_audio_tt(noise_set[picked_idx], st_guide.iloc[picked_idx][\"stop_path\"], st_guide.iloc[picked_idx][\"vowel_path\"])\n",
    "\n",
    "\n",
    "st_spec_nonorm = mytrans_nonorm(st_audio)\n",
    "tt_spec_nonorm = mytrans_nonorm(tt_audio)\n",
    "\n",
    "mean, std = mv_get(st_spec_nonorm)\n",
    "st_spec_newnorm = norm_mvn_manual(st_spec_nonorm, mean, std)\n",
    "tt_spec_newnorm = norm_mvn_manual(tt_spec_nonorm, mean, std)\n",
    "\n",
    "st_spec = norm_mvn(st_spec_nonorm)\n",
    "tt_spec = norm_mvn(tt_spec_nonorm)\n",
    "\n",
    "\n",
    "dist_list = []\n",
    "dist_list_nonorm = []\n",
    "dist_list_newnorm = []\n",
    "for i in range(min(len(st_spec), len(tt_spec))):\n",
    "    dist_list.append(cosine(st_spec[-i], tt_spec[-i]))\n",
    "    dist_list_nonorm.append(cosine(st_spec_nonorm[-i], tt_spec_nonorm[-i]))\n",
    "    dist_list_newnorm.append(cosine(st_spec_newnorm[-i], tt_spec_newnorm[-i]))\n",
    "\n",
    "import matplotlib.pyplot as plt\n",
    "\n",
    "# Sample data for two groups\n",
    "x_values = range(len(dist_list))\n",
    "\n",
    "# Plotting the line graph\n",
    "plt.plot(x_values, dist_list, label='MVN Sep-MV', marker='o')\n",
    "plt.plot(x_values, dist_list_nonorm, label='No Norm', marker='s')\n",
    "plt.plot(x_values, dist_list_newnorm, label='MVN Co-MV', marker='x')\n",
    "\n",
    "# Adding title and labels\n",
    "plt.title('Cosine Distance between ST and TT')\n",
    "plt.xlabel('Frame (reversed)')\n",
    "plt.ylabel('Cosine Distance')\n",
    "\n",
    "# Adding legend to distinguish between the two groups\n",
    "plt.legend()\n",
    "\n",
    "# Display the graph\n",
    "plt.show()\n"
   ]
  },
  {
   "cell_type": "code",
   "execution_count": null,
   "metadata": {},
   "outputs": [],
   "source": []
  }
 ],
 "metadata": {
  "kernelspec": {
   "display_name": "wavln",
   "language": "python",
   "name": "python3"
  },
  "language_info": {
   "codemirror_mode": {
    "name": "ipython",
    "version": 3
   },
   "file_extension": ".py",
   "mimetype": "text/x-python",
   "name": "python",
   "nbconvert_exporter": "python",
   "pygments_lexer": "ipython3",
   "version": "3.11.7"
  }
 },
 "nbformat": 4,
 "nbformat_minor": 2
}
