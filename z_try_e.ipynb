{
 "cells": [
  {
   "cell_type": "code",
   "execution_count": 238,
   "metadata": {},
   "outputs": [],
   "source": [
    "######################### Libs #########################\n",
    "from tkinter.font import names\n",
    "import torch\n",
    "from torch import nn\n",
    "import torch.nn.functional as F\n",
    "from torch.nn.utils.rnn import pad_sequence, pack_sequence\n",
    "from torch import optim\n",
    "from torch.utils.data import Dataset, DataLoader, random_split\n",
    "import torchaudio\n",
    "import matplotlib.pyplot as plt\n",
    "import numpy as np\n",
    "import pandas as pd\n",
    "import argparse\n",
    "# import summary\n",
    "from model_model import AEPPV1, AEPPV2, AEPPV4, AEPPV9\n",
    "from model_dataset import DS_Tools\n",
    "# this is used for CTC pred\n",
    "from model_dataset import WordDatasetPhoneseq as TrainDataset\n",
    "from model_dataset import TargetVowelDatasetPhoneseq as TestDataset\n",
    "from model_dataset import Normalizer, DeNormalizer, TokenMap, WordDictionary\n",
    "from model_dataset import MelSpecTransformDB as TheTransform\n",
    "from paths import *\n",
    "from misc_my_utils import *\n",
    "from misc_recorder import *\n",
    "from model_loss import *\n",
    "from model_padding import generate_mask_from_lengths_mat"
   ]
  },
  {
   "cell_type": "code",
   "execution_count": 233,
   "metadata": {},
   "outputs": [],
   "source": [
    "REC_SAMPLE_RATE = 16000\n",
    "N_FFT = 400\n",
    "N_MELS = 64\n",
    "BATCH_SIZE = 1\n",
    "LOADER_WORKER = 32"
   ]
  },
  {
   "cell_type": "code",
   "execution_count": 234,
   "metadata": {},
   "outputs": [],
   "source": [
    "target_path = src_"
   ]
  },
  {
   "cell_type": "code",
   "execution_count": 235,
   "metadata": {},
   "outputs": [],
   "source": [
    "t_set = pd.read_csv(os.path.join(target_path, f\"phi-T-guide.csv\"))\n",
    "st_set = pd.read_csv(os.path.join(target_path, f\"phi-ST-guide.csv\"))\n",
    "integrated = pd.concat([t_set, st_set], ignore_index=True, sort=False)"
   ]
  },
  {
   "cell_type": "code",
   "execution_count": 236,
   "metadata": {},
   "outputs": [],
   "source": [
    "def norm_mvn_manual(mel_spec, mean, std):\n",
    "    eps = 1e-9\n",
    "    norm_spec = (mel_spec - mean) / (std + eps)\n",
    "    return norm_spec\n",
    "\n",
    "def mv_get(mel_spec):\n",
    "    mel_spec = mel_spec.squeeze(0)\n",
    "    mean = mel_spec.mean()\n",
    "    std = mel_spec.std(unbiased=False)\n",
    "    return mean, std\n",
    "\n",
    "def norm_mvn(mel_spec):\n",
    "    eps = 1e-9\n",
    "    mean = mel_spec.mean()\n",
    "    std = mel_spec.std(unbiased=False)\n",
    "    norm_spec = (mel_spec - mean) / (std + eps)\n",
    "    return norm_spec"
   ]
  },
  {
   "cell_type": "code",
   "execution_count": 240,
   "metadata": {},
   "outputs": [],
   "source": [
    "class MelSpecTransformNoNorm(nn.Module): \n",
    "    def __init__(self, sample_rate, n_fft=400, n_mels=64): \n",
    "        super().__init__()\n",
    "        self.sample_rate = sample_rate\n",
    "        n_stft = int((n_fft//2) + 1)\n",
    "        self.transform = torchaudio.transforms.MelSpectrogram(sample_rate, n_mels=n_mels, n_fft=n_fft)\n",
    "        self.inverse_mel = torchaudio.transforms.InverseMelScale(sample_rate=sample_rate, n_mels=n_mels, n_stft=n_stft)\n",
    "        self.grifflim = torchaudio.transforms.GriffinLim(n_fft=n_fft)\n",
    "        self.amplitude_to_DB = torchaudio.transforms.AmplitudeToDB(stype='power')\n",
    "\n",
    "    def forward(self, waveform): \n",
    "        # transform to mel_spectrogram\n",
    "        mel_spec = self.transform(waveform)  # (channel, n_mels, time)\n",
    "        # mel_spec = F.amplitude_to_DB(mel_spec)\n",
    "        mel_spec = self.amplitude_to_DB(mel_spec)\n",
    "        # mel_spec = torch.tensor(librosa.power_to_db(mel_spec.squeeze().numpy()))\n",
    "        mel_spec = mel_spec.squeeze()\n",
    "        mel_spec = mel_spec.permute(1, 0) # (F, L) -> (L, F)\n",
    "        return mel_spec"
   ]
  },
  {
   "cell_type": "code",
   "execution_count": 241,
   "metadata": {},
   "outputs": [],
   "source": [
    "mytrans_nonorm = MelSpecTransformNoNorm(sample_rate=REC_SAMPLE_RATE, \n",
    "                    n_fft=N_FFT, n_mels=N_MELS)"
   ]
  },
  {
   "cell_type": "code",
   "execution_count": 242,
   "metadata": {},
   "outputs": [],
   "source": [
    "def plot_spectrogram(specgram, title=None, ylabel=\"freq_bin\", ax=None):\n",
    "    if ax is None:\n",
    "        _, ax = plt.subplots(1, 1)\n",
    "    if title is not None:\n",
    "        ax.set_title(title, fontsize=24)\n",
    "    ax.set_ylabel(ylabel, fontdict={\"fontsize\": 18})\n",
    "    labels = ax.get_xticklabels() + ax.get_yticklabels()\n",
    "    [label.set_fontsize(18) for label in labels]\n",
    "    # ax.imshow(librosa.power_to_db(specgram), origin=\"lower\", aspect=\"auto\", interpolation=\"nearest\")\n",
    "    ax.imshow(specgram, origin=\"lower\", aspect=\"auto\", interpolation=\"nearest\")\n",
    "\n",
    "def plot_spectrogram_lined(specgram, title=None, ylabel=\"freq_bin\", ax=None, flines=None, dlines=None, dlines2=None, burstlines=None):\n",
    "    if ax is None:\n",
    "        _, ax = plt.subplots(1, 1)\n",
    "    if title is not None:\n",
    "        ax.set_title(title, fontsize=24)\n",
    "    ax.set_ylabel(ylabel, fontdict={\"fontsize\": 18})\n",
    "    labels = ax.get_xticklabels() + ax.get_yticklabels()\n",
    "    [label.set_fontsize(18) for label in labels]\n",
    "    \n",
    "    ax.imshow(specgram, origin=\"lower\", aspect=\"auto\", interpolation=\"nearest\")\n",
    "    \n",
    "    # Draw vertical lines at specified x-values\n",
    "    if flines is not None:\n",
    "        for x in flines:\n",
    "            ax.axvline(x=x, color='red', linestyle='-', linewidth=2)\n",
    "    if dlines is not None:\n",
    "        for x in dlines:\n",
    "            ax.axvline(x=x, color='blue', linestyle='--', linewidth=1)\n",
    "    if dlines2 is not None:\n",
    "        for x in dlines2:\n",
    "            ax.axvline(x=x, color='orange', linestyle='--', linewidth=1)\n",
    "    if burstlines is not None:\n",
    "        for x in burstlines:\n",
    "            ax.axvline(x=x, color='purple', linestyle='dashdot', linewidth=1)\n",
    "\n",
    "def plot_waveform(waveform, sample_rate, title=\"Waveform\", xlim=None, flines=None, dlines=None, dlines2=None, burstlines=None):\n",
    "    waveform = waveform.numpy()\n",
    "\n",
    "    num_channels, num_frames = waveform.shape\n",
    "    time_axis = torch.arange(0, num_frames) / sample_rate\n",
    "\n",
    "    figure, axes = plt.subplots(num_channels, 1)\n",
    "    if num_channels == 1:\n",
    "        axes = [axes]\n",
    "    for c in range(num_channels):\n",
    "        axes[c].plot(time_axis, waveform[c], linewidth=1)\n",
    "        axes[c].grid(True)\n",
    "        if num_channels > 1:\n",
    "            axes[c].set_ylabel(f\"Channel {c+1}\")\n",
    "        if xlim:\n",
    "            axes[c].set_xlim(xlim)\n",
    "    figure.suptitle(title)\n",
    "    # Draw vertical lines at specified x-values\n",
    "    ax = axes[0]\n",
    "    if flines is not None:\n",
    "        for x in flines:\n",
    "            ax.axvline(x=x, color='red', linestyle='-', linewidth=2)\n",
    "    if dlines is not None:\n",
    "        for x in dlines:\n",
    "            ax.axvline(x=x, color='blue', linestyle='--', linewidth=1)\n",
    "    if dlines2 is not None:\n",
    "        for x in dlines2:\n",
    "            ax.axvline(x=x, color='orange', linestyle='--', linewidth=1)\n",
    "    if burstlines is not None:\n",
    "        for x in burstlines:\n",
    "            ax.axvline(x=x, color='purple', linestyle='dashdot', linewidth=1)\n",
    "    \n",
    "\n",
    "def frame_to_time(frame_index, sr=16000, hop_length=200):\n",
    "    return frame_index * hop_length / sr"
   ]
  },
  {
   "cell_type": "code",
   "execution_count": 243,
   "metadata": {},
   "outputs": [],
   "source": [
    "phone_rec_dir = train_cut_phone_\n",
    "check_dir = os.path.join(model_save_, \"C_0Tg-0915163757-5\", \"guides\")"
   ]
  },
  {
   "cell_type": "code",
   "execution_count": 244,
   "metadata": {},
   "outputs": [],
   "source": [
    "st_guide = pd.read_csv(os.path.join(check_dir, \"ST-valid.csv\"))"
   ]
  },
  {
   "cell_type": "code",
   "execution_count": 245,
   "metadata": {},
   "outputs": [],
   "source": [
    "picked_idx = random.randint(0, len(st_guide)-1)"
   ]
  },
  {
   "cell_type": "code",
   "execution_count": 246,
   "metadata": {},
   "outputs": [
    {
     "name": "stdout",
     "output_type": "stream",
     "text": [
      "HarmonicNoiseGen: sample_rate=16000, amplitude_scale=0.004, oscillation_scale=0.0006, f_0=50\n"
     ]
    }
   ],
   "source": [
    "noise_gen = HarmonicNoiseGen(sample_rate=16000, \n",
    "                                amplitude_scale=0.004, \n",
    "                                oscillation_scale=0.0006, f_0=50)\n",
    "silence_duration = SilenceSampler_for_TV(fixlength=False).sample(len(st_guide))\n",
    "noise_set = noise_gen.generate_samples(np.array(silence_duration))"
   ]
  },
  {
   "cell_type": "code",
   "execution_count": 247,
   "metadata": {},
   "outputs": [],
   "source": [
    "def get_audio_st(pre_, stop_, vowel_, src_dir=phone_rec_dir): \n",
    "    S_name = os.path.join(\n",
    "        src_dir, \n",
    "        pre_\n",
    "    )\n",
    "    T_name = os.path.join(\n",
    "        src_dir, \n",
    "        stop_\n",
    "    )\n",
    "    V_name = os.path.join(\n",
    "        src_dir, \n",
    "        vowel_\n",
    "    )\n",
    "\n",
    "    S_data, sample_rate_S = torchaudio.load(S_name, normalize=True)\n",
    "    T_data, sample_rate_T = torchaudio.load(T_name, normalize=True)\n",
    "    V_data, sample_rate_V = torchaudio.load(V_name, normalize=True)\n",
    "    assert sample_rate_S == sample_rate_T == sample_rate_V\n",
    "\n",
    "    data = torch.cat([S_data, T_data, V_data], dim=1)\n",
    "    return data\n",
    "\n",
    "def get_audio_tt(pre_sound, stop_, vowel_, src_dir=phone_rec_dir): \n",
    "    T_name = os.path.join(\n",
    "        src_dir, \n",
    "        stop_\n",
    "    )\n",
    "    V_name = os.path.join(\n",
    "        src_dir, \n",
    "        vowel_\n",
    "    )\n",
    "\n",
    "    # S_data, sample_rate_S = torchaudio.load(S_name, normalize=True)\n",
    "    S_data = pre_sound\n",
    "    T_data, sample_rate_T = torchaudio.load(T_name, normalize=True)\n",
    "    V_data, sample_rate_V = torchaudio.load(V_name, normalize=True)\n",
    "    assert sample_rate_T == sample_rate_V\n",
    "\n",
    "    data = torch.cat([S_data, T_data, V_data], dim=1)\n",
    "    return data"
   ]
  },
  {
   "cell_type": "code",
   "execution_count": 141,
   "metadata": {},
   "outputs": [],
   "source": [
    "picked_idx = random.randint(0, len(st_guide)-1)\n",
    "\n",
    "st_audio = get_audio_st(st_guide.iloc[picked_idx][\"pre_path\"], st_guide.iloc[picked_idx][\"stop_path\"], st_guide.iloc[picked_idx][\"vowel_path\"])\n",
    "tt_audio = get_audio_tt(noise_set[picked_idx], st_guide.iloc[picked_idx][\"stop_path\"], st_guide.iloc[picked_idx][\"vowel_path\"])\n",
    "\n",
    "st_spec_nonorm = mytrans_nonorm(st_audio)\n",
    "tt_spec_nonorm = mytrans_nonorm(tt_audio)\n",
    "\n",
    "mean, std = mv_get(st_spec_nonorm)\n",
    "st_spec_newnorm = norm_mvn_manual(st_spec_nonorm, mean, std)\n",
    "tt_spec_newnorm = norm_mvn_manual(tt_spec_nonorm, mean, std)\n",
    "\n",
    "st_spec = norm_mvn(st_spec_nonorm)\n",
    "tt_spec = norm_mvn(tt_spec_nonorm)\n",
    "\n",
    "\n",
    "# plot_spectrogram(st_spec.T, title=f\"Spectrogram\")\n",
    "# plot_spectrogram(tt_spec.T, title=f\"Spectrogram\")\n",
    "\n",
    "# plot_spectrogram(st_spec_nonorm.T, title=f\"Spectrogram\")\n",
    "# plot_spectrogram(tt_spec_nonorm.T, title=f\"Spectrogram\")"
   ]
  },
  {
   "cell_type": "code",
   "execution_count": 248,
   "metadata": {},
   "outputs": [],
   "source": [
    "from scipy.spatial.distance import euclidean, cosine"
   ]
  },
  {
   "cell_type": "code",
   "execution_count": 261,
   "metadata": {},
   "outputs": [],
   "source": [
    "mv_config = pickle.load(open(os.path.join(src_, \"mv_config.pkl\"), \"rb\"))"
   ]
  },
  {
   "cell_type": "code",
   "execution_count": 277,
   "metadata": {},
   "outputs": [
    {
     "data": {
      "image/png": "[encoded data removed]",
      "text/plain": [
       "<Figure size 640x480 with 1 Axes>"
      ]
     },
     "metadata": {},
     "output_type": "display_data"
    }
   ],
   "source": [
    "picked_idx = random.randint(0, len(st_guide)-1)\n",
    "\n",
    "st_audio = get_audio_st(st_guide.iloc[picked_idx][\"pre_path\"], st_guide.iloc[picked_idx][\"stop_path\"], st_guide.iloc[picked_idx][\"vowel_path\"])\n",
    "tt_audio = get_audio_tt(noise_set[picked_idx], st_guide.iloc[picked_idx][\"stop_path\"], st_guide.iloc[picked_idx][\"vowel_path\"])\n",
    "\n",
    "\n",
    "st_spec_nonorm = mytrans_nonorm(st_audio)\n",
    "tt_spec_nonorm = mytrans_nonorm(tt_audio)\n",
    "\n",
    "mean, std = mv_get(st_spec_nonorm)\n",
    "st_spec_newnorm = norm_mvn_manual(st_spec_nonorm, mean, std)\n",
    "tt_spec_newnorm = norm_mvn_manual(tt_spec_nonorm, mean, std)\n",
    "\n",
    "st_spec = norm_mvn(st_spec_nonorm)\n",
    "tt_spec = norm_mvn(tt_spec_nonorm)\n",
    "\n",
    "st_spec_commonnorm = norm_mvn_manual(st_spec_nonorm, mv_config[\"mean\"], mv_config[\"std\"])\n",
    "tt_spec_commonnorm = norm_mvn_manual(tt_spec_nonorm, mv_config[\"mean\"], mv_config[\"std\"])\n",
    "\n",
    "\n",
    "dist_list = []\n",
    "dist_list_nonorm = []\n",
    "dist_list_newnorm = []\n",
    "dist_list_commonnorm = []\n",
    "for i in range(min(len(st_spec), len(tt_spec))):\n",
    "    dist_list.append(cosine(st_spec[-i], tt_spec[-i]))\n",
    "    dist_list_nonorm.append(cosine(st_spec_nonorm[-i], tt_spec_nonorm[-i]))\n",
    "    dist_list_newnorm.append(cosine(st_spec_newnorm[-i], tt_spec_newnorm[-i]))\n",
    "    dist_list_commonnorm.append(cosine(st_spec_commonnorm[-i], tt_spec_commonnorm[-i]))\n",
    "\n",
    "import matplotlib.pyplot as plt\n",
    "\n",
    "# Sample data for two groups\n",
    "x_values = range(len(dist_list))\n",
    "\n",
    "# Plotting the line graph\n",
    "plt.plot(x_values, dist_list, label='MVN Sep-MV', marker='o')\n",
    "plt.plot(x_values, dist_list_nonorm, label='No Norm', marker='s')\n",
    "plt.plot(x_values, dist_list_newnorm, label='MVN Co-MV', marker='x')\n",
    "plt.plot(x_values, dist_list_commonnorm, label='MVN Co-MV (Common)', marker='^')\n",
    "\n",
    "# Adding title and labels\n",
    "plt.title('Cosine Distance between ST and TT')\n",
    "plt.xlabel('Frame (reversed)')\n",
    "plt.ylabel('Cosine Distance')\n",
    "\n",
    "# Adding legend to distinguish between the two groups\n",
    "plt.legend()\n",
    "\n",
    "# Display the graph\n",
    "plt.show()\n"
   ]
  },
  {
   "cell_type": "code",
   "execution_count": null,
   "metadata": {},
   "outputs": [],
   "source": [
    "class TargetVowelDatasetManualNorm(Dataset): \n",
    "    # Target means the phenomenon-target, that is, e.g. /th/ or /st/. \n",
    "    # This dataset additionally returns the phone seq. \n",
    "    # NOTE: for TV condition we add silence as # in the place of S\n",
    "    # This dataset will take in mean and variance from the outside and \n",
    "    # conduct normalization with the data. \n",
    "    def __init__(self, src_dir, guide_,  \n",
    "                 mapper=None, transform=None, normalizer=None, plosive_suffix=\"\", \n",
    "                 noise_fixlength=False, noise_amplitude_scale=0.01, mv_config=None): \n",
    "        \"\"\"\n",
    "            Parameters:\n",
    "            src_dir (str): Source directory to read sound. \n",
    "            guide_ (str or pd.DataFrame): Guide file path or DataFrame containing the dataset information.\n",
    "            is_train (bool): Flag indicating if the dataset is for training. Default is True.\n",
    "            mapper (optional): Used to map between tag encoding and text, currently not used. Default is None.\n",
    "            transform (optional): Mel-transformation. Default is None.\n",
    "            normalizer (optional): Normalization. Default is None.\n",
    "            plosive_suffix (str): Suffix to distinguish between different types of plosives. Default is \"\".\n",
    "            noise_fixlength (bool): Flag to determine if noise should have a fixed length. Default is False.\n",
    "            noise_amplitude_scale (float): Amplitude scale for noise generation. Default is 0.01.\n",
    "            mv_config (dict, optional): Dictionary containing mean and variance configuration. Default is None.\n",
    "            hop_length (int): Hop length for calculating between frame and time. Default is 400.\n",
    "        \"\"\"\n",
    "        # Read the guide file\n",
    "        if isinstance(guide_, str):\n",
    "            guide_file = pd.read_csv(guide_)\n",
    "        elif isinstance(guide_, pd.DataFrame):\n",
    "            guide_file = guide_\n",
    "        else:\n",
    "            raise Exception(\"Guide neither to read or to be used directly\")\n",
    "        \n",
    "        # \"\"即不區分ST和T，\"H\"則是區分 -> ?\n",
    "        self.plosive_suffix = plosive_suffix\n",
    "\n",
    "        # Load in the data cols \n",
    "        pre_path_col = guide_file[\"pre_path\"]\n",
    "        stop_path_col = guide_file[\"stop_path\"]\n",
    "        vowel_path_col = guide_file[\"vowel_path\"]\n",
    "        phi_type_col = guide_file[\"phi_type\"]\n",
    "        stop_name_col = guide_file[\"stop\"]\n",
    "        vowel_name_col = guide_file[\"vowel\"]\n",
    "\n",
    "        self.silence_duration = SilenceSampler_for_TV(fixlength=noise_fixlength).sample(len(stop_name_col))\n",
    "        \n",
    "        self.guide_file = guide_file\n",
    "        self.dataset = stop_path_col.tolist()\n",
    "        self.pre_path = pre_path_col.tolist()\n",
    "        self.vowel_path = vowel_path_col.tolist()\n",
    "        self.phi_type = phi_type_col.tolist()\n",
    "        self.stop_name = stop_name_col.tolist()\n",
    "        self.vowel_name = vowel_name_col.tolist()\n",
    "\n",
    "        self.src_dir = src_dir\n",
    "        self.transform = transform\n",
    "        self.normalizer = normalizer\n",
    "        self.mapper = mapper\n",
    "        noise_gen = HarmonicNoiseGen(sample_rate=16000, \n",
    "                                     amplitude_scale=noise_amplitude_scale, \n",
    "                                     oscillation_scale=0.0006, f_0=50)\n",
    "        self.noise_set = noise_gen.generate_samples(np.array(self.silence_duration))\n",
    "\n",
    "\n",
    "        if mv_config is not None: \n",
    "            self.mean = mv_config[\"mean\"]\n",
    "            self.std = mv_config[\"std\"]\n",
    "            print(f\"MV: {self.mean}, {self.std}\")\n",
    "        else: \n",
    "            print(\"No mean and variance provided, calculating from the data ...\")\n",
    "            self.mean, self.std = self.___getmv()\n",
    "    \n",
    "    def __len__(self):\n",
    "        return len(self.dataset)\n",
    "    \n",
    "    def __getitem__(self, idx): \n",
    "        mel_data, this_phi_type, this_stop_name, this_phone_seq = self.___loaditem(idx)\n",
    "\n",
    "        if self.normalizer: \n",
    "            mel_data = self.normalizer(mel_data, self.mean, self.std)\n",
    "        \n",
    "        return mel_data, this_phi_type, this_stop_name, this_phone_seq\n",
    "    \n",
    "    def ___getmv(self): \n",
    "        # Load the data and calculate the mean and variance\n",
    "        mel_data_list = []\n",
    "\n",
    "        for idx in range(len(self.dataset)): \n",
    "            mel_data, _, _, _ = self.___loaditem(idx)\n",
    "            mel_data_list.append(mel_data)\n",
    "\n",
    "        mel_data = torch.cat(mel_data_list, dim=0)\n",
    "\n",
    "        return mel_data.mean(), mel_data.std()\n",
    "    \n",
    "    def ___loaditem(self, idx):\n",
    "        if torch.is_tensor(idx):\n",
    "            idx = idx.tolist()\n",
    "        \n",
    "        if self.phi_type[idx] == \"ST\": \n",
    "            # read two and concat\n",
    "            S_name = os.path.join(\n",
    "                self.src_dir, \n",
    "                self.pre_path[idx]\n",
    "            )\n",
    "            T_name = os.path.join(\n",
    "                self.src_dir, \n",
    "                self.dataset[idx]\n",
    "            )\n",
    "            V_name = os.path.join(\n",
    "                self.src_dir, \n",
    "                self.vowel_path[idx]\n",
    "            )\n",
    "\n",
    "            S_data, sample_rate_S = torchaudio.load(S_name, normalize=True)\n",
    "            T_data, sample_rate_T = torchaudio.load(T_name, normalize=True)\n",
    "            V_data, sample_rate_V = torchaudio.load(V_name, normalize=True)\n",
    "            assert sample_rate_S == sample_rate_T == sample_rate_V\n",
    "\n",
    "            data = torch.cat([S_data, T_data, V_data], dim=1)\n",
    "            phoneseq = torch.tensor([self.mapper.encode(segment) for segment in ['S', self.stop_name[idx], self.vowel_name[idx]]], \n",
    "                                    dtype=torch.long)\n",
    "        else: \n",
    "            # Here we don't need to repair, as any sequence could fit in as long as it starts woith #\n",
    "            # \"T\"\n",
    "            # NOTE: in this way we equate STV and #TV conditions and they are now directly comparable. \n",
    "            T_name = os.path.join(\n",
    "                self.src_dir, \n",
    "                self.dataset[idx]\n",
    "            )\n",
    "            V_name = os.path.join(\n",
    "                self.src_dir, \n",
    "                self.vowel_path[idx]\n",
    "            )\n",
    "            Sil_data = self.noise_set[idx]\n",
    "            T_data, sample_rate_T = torchaudio.load(T_name, normalize=True)\n",
    "            V_data, sample_rate_V = torchaudio.load(V_name, normalize=True)\n",
    "            assert sample_rate_T == sample_rate_V\n",
    "\n",
    "            data = torch.cat([Sil_data, T_data, V_data], dim=1)\n",
    "            phoneseq = torch.tensor([self.mapper.encode(segment) for segment in [self.stop_name[idx] + self.plosive_suffix, self.vowel_name[idx]]], \n",
    "                                    dtype=torch.long)   # 'SIL', \n",
    "\n",
    "        if self.transform:\n",
    "            data = self.transform(data)\n",
    "        \n",
    "        return data, self.phi_type[idx], self.stop_name[idx], phoneseq\n",
    "\n",
    "    @staticmethod\n",
    "    def collate_fn(data):\n",
    "        # only working for one data at the moment\n",
    "        batch_first = True\n",
    "        xx, phi_type, stop_name, phoneseq = zip(*data)\n",
    "        x_lens = [len(x) for x in xx]\n",
    "        xx_pad = pad_sequence(xx, batch_first=batch_first, padding_value=0)\n",
    "        phoneseq_lens = [len(x) for x in phoneseq]\n",
    "        phoneseq_pad = pad_sequence(phoneseq, batch_first=batch_first, padding_value=0)\n",
    "        return (xx_pad, phoneseq_pad), (x_lens, phoneseq_lens), phi_type, stop_name"
   ]
  },
  {
   "cell_type": "markdown",
   "metadata": {},
   "source": [
    "## MV calculator"
   ]
  },
  {
   "cell_type": "code",
   "execution_count": 161,
   "metadata": {},
   "outputs": [
    {
     "data": {
      "text/plain": [
       "(8.333333333333334, 4.666666666666666)"
      ]
     },
     "execution_count": 161,
     "metadata": {},
     "output_type": "execute_result"
    }
   ],
   "source": [
    "# Here is a Python class for accumulatively calculating mean and variance using Welford's method:\n",
    "\n",
    "class OnlineMeanVariance:\n",
    "    def __init__(self):\n",
    "        self.n = 0       # Number of data points\n",
    "        self.mean = 0.0   # Running mean\n",
    "        self.M2 = 0.0     # Sum of squared differences from the mean (for variance calculation)\n",
    "    \n",
    "    def update(self, x):\n",
    "        \"\"\"Add a new data point and update mean and variance\"\"\"\n",
    "        self.n += 1\n",
    "        delta = x - self.mean\n",
    "        self.mean += delta / self.n\n",
    "        delta2 = x - self.mean\n",
    "        self.M2 += delta * delta2\n",
    "    \n",
    "    def get_mean(self):\n",
    "        \"\"\"Return the current mean\"\"\"\n",
    "        return self.mean\n",
    "    \n",
    "    def get_variance(self):\n",
    "        \"\"\"Return the current variance\"\"\"\n",
    "        if self.n < 2:\n",
    "            return float('nan')  # Variance is undefined for fewer than 2 data points\n",
    "        return self.M2 / (self.n - 1)  # Use (n-1) for sample variance\n",
    "\n",
    "    def get_population_variance(self):\n",
    "        \"\"\"Return the population variance (divide by n instead of n-1)\"\"\"\n",
    "        if self.n < 1:\n",
    "            return float('nan')  # Variance is undefined for no data points\n",
    "        return self.M2 / self.n  # Use n for population variance\n",
    "\n",
    "# Example usage\n",
    "online_stats = OnlineMeanVariance()\n",
    "data = [5.0, 7.0, 8.0, 10.0, 9.0, 11.0]\n",
    "\n",
    "for value in data:\n",
    "    online_stats.update(value)\n",
    "\n",
    "mean = online_stats.get_mean()\n",
    "variance = online_stats.get_variance()\n",
    "\n",
    "mean, variance\n"
   ]
  },
  {
   "cell_type": "code",
   "execution_count": 163,
   "metadata": {},
   "outputs": [
    {
     "data": {
      "text/plain": [
       "(5.0, 3.0, tensor(5.), tensor(3.))"
      ]
     },
     "execution_count": 163,
     "metadata": {},
     "output_type": "execute_result"
    }
   ],
   "source": [
    "import numpy as np\n",
    "import torch\n",
    "\n",
    "class OnlineMeanVariance:\n",
    "    def __init__(self):\n",
    "        self.n = 0       # Number of samples\n",
    "        self.mean = 0.0  # Running mean (scalar)\n",
    "        self.M2 = 0.0    # Running sum of squared differences from the mean (scalar)\n",
    "\n",
    "    def update(self, x):\n",
    "        \"\"\"Add a new numpy array or torch tensor, treating it as a single scalar sample.\"\"\"\n",
    "        # Compute the scalar mean of the array/tensor\n",
    "        if isinstance(x, np.ndarray):\n",
    "            sample_mean = x.mean()  # Numpy mean\n",
    "        elif isinstance(x, torch.Tensor):\n",
    "            sample_mean = x.mean()  # PyTorch mean\n",
    "        else:\n",
    "            raise ValueError(\"Input should be a numpy array or a torch tensor.\")\n",
    "\n",
    "        # Update running mean and M2\n",
    "        self.n += 1\n",
    "        delta = sample_mean - self.mean\n",
    "        self.mean += delta / self.n\n",
    "        delta2 = sample_mean - self.mean\n",
    "        self.M2 += delta * delta2\n",
    "\n",
    "    def get_mean(self):\n",
    "        \"\"\"Return the current mean.\"\"\"\n",
    "        return self.mean\n",
    "\n",
    "    def get_variance(self):\n",
    "        \"\"\"Return the current sample variance.\"\"\"\n",
    "        if self.n < 2:\n",
    "            return float('nan')  # Variance is undefined for fewer than 2 samples\n",
    "        return self.M2 / (self.n - 1)  # Sample variance (unbiased)\n",
    "\n",
    "    def get_population_variance(self):\n",
    "        \"\"\"Return the population variance (divide by n instead of n-1).\"\"\"\n",
    "        if self.n < 1:\n",
    "            return float('nan')  # Variance is undefined for no samples\n",
    "        return self.M2 / self.n  # Population variance (biased)\n",
    "\n",
    "    def get_std(self, unbiased=True):\n",
    "        \"\"\"Return the standard deviation based on the variance.\"\"\"\n",
    "        variance = self.get_variance() if unbiased else self.get_population_variance()\n",
    "        if variance is None:\n",
    "            return None\n",
    "        return np.sqrt(variance) if isinstance(variance, (float, np.ndarray)) else torch.sqrt(variance)\n",
    "\n",
    "# Example usage with numpy\n",
    "online_stats_np = OnlineMeanVariance()\n",
    "data_np = [np.array([1.0, 2.0, 3.0]), np.array([4.0, 5.0, 6.0]), np.array([7.0, 8.0, 9.0])]\n",
    "\n",
    "for value in data_np:\n",
    "    online_stats_np.update(value)\n",
    "\n",
    "mean_np = online_stats_np.get_mean()\n",
    "std_np = online_stats_np.get_std()\n",
    "\n",
    "# Example usage with PyTorch tensors\n",
    "online_stats_torch = OnlineMeanVariance()\n",
    "data_torch = [torch.tensor([1.0, 2.0, 3.0]), torch.tensor([4.0, 5.0, 6.0]), torch.tensor([7.0, 8.0, 9.0])]\n",
    "\n",
    "for value in data_torch:\n",
    "    online_stats_torch.update(value)\n",
    "\n",
    "mean_torch = online_stats_torch.get_mean()\n",
    "std_torch = online_stats_torch.get_std()\n",
    "\n",
    "mean_np, std_np, mean_torch, std_torch\n"
   ]
  },
  {
   "cell_type": "code",
   "execution_count": 164,
   "metadata": {},
   "outputs": [
    {
     "data": {
      "text/plain": [
       "(5.0, 3.0, 5.0, 3.0)"
      ]
     },
     "execution_count": 164,
     "metadata": {},
     "output_type": "execute_result"
    }
   ],
   "source": [
    "import numpy as np\n",
    "import torch\n",
    "\n",
    "class OnlineMeanVariance:\n",
    "    def __init__(self):\n",
    "        self.n = 0       # Number of samples\n",
    "        self.mean = 0.0  # Running mean (scalar)\n",
    "        self.M2 = 0.0    # Running sum of squared differences from the mean (scalar)\n",
    "\n",
    "    def update(self, x):\n",
    "        \"\"\"Add a new sample (numpy array or torch tensor).\"\"\"\n",
    "        # Compute the scalar mean of the array/tensor using a common method\n",
    "        sample_mean = x.mean().item()  # .item() ensures it's a scalar float value\n",
    "\n",
    "        # Update running mean and M2\n",
    "        self.n += 1\n",
    "        delta = sample_mean - self.mean\n",
    "        self.mean += delta / self.n\n",
    "        delta2 = sample_mean - self.mean\n",
    "        self.M2 += delta * delta2\n",
    "\n",
    "    def get_mean(self):\n",
    "        \"\"\"Return the current mean.\"\"\"\n",
    "        return self.mean\n",
    "\n",
    "    def get_variance(self):\n",
    "        \"\"\"Return the current sample variance.\"\"\"\n",
    "        if self.n < 2:\n",
    "            return float('nan')  # Variance is undefined for fewer than 2 samples\n",
    "        return self.M2 / (self.n - 1)  # Sample variance (unbiased)\n",
    "\n",
    "    def get_population_variance(self):\n",
    "        \"\"\"Return the population variance (divide by n instead of n-1).\"\"\"\n",
    "        if self.n < 1:\n",
    "            return float('nan')  # Variance is undefined for no samples\n",
    "        return self.M2 / self.n  # Population variance (biased)\n",
    "\n",
    "    def get_std(self, unbiased=True):\n",
    "        \"\"\"Return the standard deviation based on the variance.\"\"\"\n",
    "        if unbiased:\n",
    "            variance = self.get_variance()\n",
    "        else:\n",
    "            variance = self.get_population_variance()\n",
    "\n",
    "        if variance is float('nan'):\n",
    "            return float('nan')\n",
    "        \n",
    "        return np.sqrt(variance)  # Common method for both arrays/tensors\n",
    "\n"
   ]
  },
  {
   "cell_type": "code",
   "execution_count": 191,
   "metadata": {},
   "outputs": [
    {
     "data": {
      "text/plain": [
       "(array([4., 5., 6.]),\n",
       " array([3., 3., 3.]),\n",
       " tensor([4., 5., 6.]),\n",
       " tensor([3., 3., 3.]))"
      ]
     },
     "execution_count": 191,
     "metadata": {},
     "output_type": "execute_result"
    }
   ],
   "source": [
    "import numpy as np\n",
    "import torch\n",
    "\n",
    "class OnlineMeanVariance:\n",
    "    def __init__(self):\n",
    "        self.n = 0       # Number of samples\n",
    "        self.mean = None  # Running mean (initially None)\n",
    "        self.M2 = None    # Running sum of squared differences from the mean (for variance calculation)\n",
    "\n",
    "    def update(self, x):\n",
    "        \"\"\"Add a new numpy array or torch tensor and update the mean and variance.\"\"\"\n",
    "        # Ensure the input is a numpy array or torch tensor\n",
    "        if isinstance(x, np.ndarray) or isinstance(x, torch.Tensor):\n",
    "            if self.mean is None:  # Initialize mean and M2 to zeros of the same shape as x\n",
    "                self.mean = torch.zeros_like(x) if isinstance(x, torch.Tensor) else np.zeros_like(x)\n",
    "                self.M2 = torch.zeros_like(x) if isinstance(x, torch.Tensor) else np.zeros_like(x)\n",
    "\n",
    "            self.n += 1\n",
    "            delta = x - self.mean\n",
    "            self.mean += delta / self.n\n",
    "            delta2 = x - self.mean\n",
    "            self.M2 += delta * delta2\n",
    "        else:\n",
    "            raise ValueError(\"Input should be a numpy array or a torch tensor.\")\n",
    "\n",
    "    def get_mean(self):\n",
    "        \"\"\"Return the current mean as a numpy array or torch tensor.\"\"\"\n",
    "        return self.mean\n",
    "\n",
    "    def get_variance(self):\n",
    "        \"\"\"Return the current sample variance as a numpy array or torch tensor.\"\"\"\n",
    "        if self.n < 2:\n",
    "            return None  # Variance is undefined for fewer than 2 samples\n",
    "        return self.M2 / (self.n - 1)  # Sample variance (unbiased)\n",
    "\n",
    "    def get_population_variance(self):\n",
    "        \"\"\"Return the population variance (divide by n instead of n-1).\"\"\"\n",
    "        if self.n < 1:\n",
    "            return None  # Variance is undefined for no samples\n",
    "        return self.M2 / self.n  # Population variance (biased)\n",
    "\n",
    "    def get_std(self, unbiased=True):\n",
    "        \"\"\"Return the standard deviation based on the variance.\"\"\"\n",
    "        variance = self.get_variance() if unbiased else self.get_population_variance()\n",
    "        if variance is None:\n",
    "            return None\n",
    "        return torch.sqrt(variance) if isinstance(variance, torch.Tensor) else np.sqrt(variance)\n",
    "\n",
    "# Example usage with numpy\n",
    "online_stats_np = OnlineMeanVariance()\n",
    "data_np = [np.array([1.0, 2.0, 3.0]), np.array([4.0, 5.0, 6.0]), np.array([7.0, 8.0, 9.0])]\n",
    "\n",
    "for value in data_np:\n",
    "    online_stats_np.update(value)\n",
    "\n",
    "mean_np = online_stats_np.get_mean()\n",
    "std_np = online_stats_np.get_std()\n",
    "\n",
    "# Example usage with PyTorch tensors\n",
    "online_stats_torch = OnlineMeanVariance()\n",
    "data_torch = [torch.tensor([1.0, 2.0, 3.0]), torch.tensor([4.0, 5.0, 6.0]), torch.tensor([7.0, 8.0, 9.0])]\n",
    "\n",
    "for value in data_torch:\n",
    "    online_stats_torch.update(value)\n",
    "\n",
    "mean_torch = online_stats_torch.get_mean()\n",
    "std_torch = online_stats_torch.get_std()\n",
    "\n",
    "mean_np, std_np, mean_torch, std_torch\n"
   ]
  },
  {
   "cell_type": "code",
   "execution_count": 170,
   "metadata": {},
   "outputs": [
    {
     "data": {
      "text/plain": [
       "((array([4., 5., 6.]), array([3., 3., 3.])),\n",
       " (5.0, 2.7386127875258306),\n",
       " (tensor([2.5000, 8.5000, 5.5000]), tensor([2.5100, 4.2778, 1.9748])),\n",
       " (5.5, 3.838657855987549))"
      ]
     },
     "execution_count": 170,
     "metadata": {},
     "output_type": "execute_result"
    }
   ],
   "source": [
    "# Fixing the issue by using the correct method for unbiased standard deviation in numpy\n",
    "\n",
    "def full_mean_std(data):\n",
    "    \"\"\"Compute the mean and standard deviation of the dataset at once (batch processing).\"\"\"\n",
    "    if isinstance(data[0], np.ndarray):\n",
    "        data_stack = np.stack(data)\n",
    "    elif isinstance(data[0], torch.Tensor):\n",
    "        data_stack = torch.stack(data)\n",
    "    else:\n",
    "        raise ValueError(\"Data must be a list of numpy arrays or torch tensors.\")\n",
    "\n",
    "    mean = data_stack.mean().item()  # Mean over all samples\n",
    "    # In numpy, std() is unbiased by default (it divides by n-1). So no need for the unbiased argument.\n",
    "    if isinstance(data_stack, np.ndarray):\n",
    "        std = data_stack.std(ddof=1).item()  # ddof=1 for unbiased std\n",
    "    else:\n",
    "        std = data_stack.std(unbiased=True).item()  # Use unbiased=True in PyTorch\n",
    "    \n",
    "    return mean, std\n",
    "\n",
    "# Re-run the tests\n",
    "\n",
    "# Example usage with numpy arrays\n",
    "online_stats_np = OnlineMeanVariance()\n",
    "data_np = [np.array([1.0, 2.0, 3.0]), np.array([4.0, 5.0, 6.0]), np.array([7.0, 8.0, 9.0])]\n",
    "\n",
    "for value in data_np:\n",
    "    online_stats_np.update(value)\n",
    "\n",
    "mean_np_online = online_stats_np.get_mean()\n",
    "std_np_online = online_stats_np.get_std()\n",
    "\n",
    "mean_np_full, std_np_full = full_mean_std(data_np)\n",
    "\n",
    "# Example usage with PyTorch tensors\n",
    "online_stats_torch = OnlineMeanVariance()\n",
    "data_torch = [torch.tensor([1.0, 2.0, 3.0]), torch.tensor([4.0, 5.0, 6.0]), torch.tensor([7.0, 8.0, 9.0]), torch.tensor([1.0, 12.0, 5.0]), torch.tensor([1.0, 12.0, 5.0]), torch.tensor([1.0, 12.0, 5.0])]\n",
    "\n",
    "for value in data_torch:\n",
    "    online_stats_torch.update(value)\n",
    "\n",
    "mean_torch_online = online_stats_torch.get_mean()\n",
    "std_torch_online = online_stats_torch.get_std()\n",
    "\n",
    "mean_torch_full, std_torch_full = full_mean_std(data_torch)\n",
    "\n",
    "(mean_np_online, std_np_online), (mean_np_full, std_np_full), (mean_torch_online, std_torch_online), (mean_torch_full, std_torch_full)\n"
   ]
  },
  {
   "cell_type": "code",
   "execution_count": null,
   "metadata": {},
   "outputs": [],
   "source": [
    "class TargetVowelDatasetBoundaryPhoneseq(Dataset): \n",
    "    # this mixes T and ST. \n",
    "    # Target means the phenomenon-target, that is, e.g. /th/ or /st/. \n",
    "    # NOTE: for TV condition we add silence as # in the place of S\n",
    "    # NOTE: this version does not generate random silence here, because for evaluation \n",
    "    # NOTE: silence can be generated outside. \n",
    "    def __init__(self, src_dir, guide_, select=[], mapper=None, transform=None, plosive_suffix=\"\", hop_length=400, \n",
    "                 noise_amplitude_scale=0.01):\n",
    "        # guide_file = pd.read_csv(guide_)\n",
    "        if isinstance(guide_, str):\n",
    "            guide_file = pd.read_csv(guide_)\n",
    "        elif isinstance(guide_, pd.DataFrame):\n",
    "            guide_file = guide_\n",
    "        else:\n",
    "            raise Exception(\"Guide neither to read or to be used directly\")\n",
    "        \n",
    "        self.plosive_suffix = plosive_suffix\n",
    "        \n",
    "        guide_file[\"first_sep_frame\"] = guide_file.apply(lambda x: time_to_frame(x['stop_startTime'] - x['pre_startTime'], hop_length=hop_length), axis=1)\n",
    "        guide_file[\"second_sep_frame\"] = guide_file.apply(lambda x: time_to_frame(x['vowel_startTime'] - x['pre_startTime'], hop_length=hop_length), axis=1)\n",
    "        \n",
    "        pre_path_col = guide_file[\"pre_path\"]\n",
    "        stop_path_col = guide_file[\"stop_path\"]\n",
    "        vowel_path_col = guide_file[\"vowel_path\"]\n",
    "        phi_type_col = guide_file[\"phi_type\"]\n",
    "        stop_name_col = guide_file[\"stop\"]\n",
    "        vowel_name_col = guide_file[\"vowel\"]\n",
    "        first_sep_frame_col = guide_file[\"first_sep_frame\"]\n",
    "        second_sep_frame_col = guide_file[\"second_sep_frame\"]\n",
    "        \n",
    "        # generate random length silence for TV condition\n",
    "        self.silence_duration = (guide_file['stop_startTime'] - guide_file['pre_startTime']).tolist()\n",
    "\n",
    "        self.guide_file = guide_file\n",
    "        self.dataset = stop_path_col.tolist()\n",
    "        self.pre_path = pre_path_col.tolist()\n",
    "        self.vowel_path = vowel_path_col.tolist()\n",
    "        self.phi_type = phi_type_col.tolist()\n",
    "        self.stop_name = stop_name_col.tolist()\n",
    "        self.vowel_name = vowel_name_col.tolist()\n",
    "        self.first_sep_frame = first_sep_frame_col.tolist()\n",
    "        self.second_sep_frame = second_sep_frame_col.tolist()\n",
    "        self.src_dir = src_dir\n",
    "        self.transform = transform\n",
    "\n",
    "        self.mapper = mapper\n",
    "        # noise_gen = WhiteNoiseGen(sample_rate=16000, amplitude_scale=noise_amplitude_scale)\n",
    "        noise_gen = HarmonicNoiseGen(sample_rate=16000, \n",
    "                                     amplitude_scale=noise_amplitude_scale, \n",
    "                                     oscillation_scale=0.001, f_0=60)\n",
    "        self.noise_set = noise_gen.generate_samples(np.array(self.silence_duration))\n",
    "    \n",
    "    def __len__(self):\n",
    "        return len(self.dataset)\n",
    "    \n",
    "    def __getitem__(self, idx):\n",
    "        if torch.is_tensor(idx):\n",
    "            idx = idx.tolist()\n",
    "\n",
    "        if self.phi_type[idx] == \"ST\": \n",
    "            # read two and concat\n",
    "            S_name = os.path.join(\n",
    "                self.src_dir, \n",
    "                self.pre_path[idx]\n",
    "            )\n",
    "            T_name = os.path.join(\n",
    "                self.src_dir, \n",
    "                self.dataset[idx]\n",
    "            )\n",
    "            V_name = os.path.join(\n",
    "                self.src_dir, \n",
    "                self.vowel_path[idx]\n",
    "            )\n",
    "\n",
    "            S_data, sample_rate_S = torchaudio.load(S_name, normalize=True)\n",
    "            T_data, sample_rate_T = torchaudio.load(T_name, normalize=True)\n",
    "            V_data, sample_rate_V = torchaudio.load(V_name, normalize=True)\n",
    "            assert sample_rate_S == sample_rate_T == sample_rate_V\n",
    "\n",
    "            data = torch.cat([S_data, T_data, V_data], dim=1)\n",
    "            phoneseq = torch.tensor([self.mapper.encode(segment) for segment in ['S', self.stop_name[idx], self.vowel_name[idx]]], \n",
    "                                    dtype=torch.long)\n",
    "        else: \n",
    "            # \"T\"\n",
    "            # NOTE: in this way we equate STV and #TV conditions and they are now directly comparable. \n",
    "            Sil_duration = self.silence_duration[idx]\n",
    "            T_name = os.path.join(\n",
    "                self.src_dir, \n",
    "                self.dataset[idx]\n",
    "            )\n",
    "            V_name = os.path.join(\n",
    "                self.src_dir, \n",
    "                self.vowel_path[idx]\n",
    "            )\n",
    "            Sil_data = self.noise_set[idx]\n",
    "            T_data, sample_rate_T = torchaudio.load(T_name, normalize=True)\n",
    "            V_data, sample_rate_V = torchaudio.load(V_name, normalize=True)\n",
    "            assert sample_rate_T == sample_rate_V\n",
    "\n",
    "            data = torch.cat([Sil_data, T_data, V_data], dim=1)\n",
    "            phoneseq = torch.tensor([self.mapper.encode(segment) for segment in [self.stop_name[idx] + self.plosive_suffix, self.vowel_name[idx]]], \n",
    "                                    dtype=torch.long)   # 'SIL', \n",
    "\n",
    "        if self.transform:\n",
    "            data = self.transform(data)\n",
    "        \n",
    "        return data, self.phi_type[idx], self.stop_name[idx], self.vowel_name[idx], self.first_sep_frame[idx], self.second_sep_frame[idx], phoneseq\n",
    "\n",
    "    @staticmethod\n",
    "    def collate_fn(data):\n",
    "        # only working for one data at the moment\n",
    "        batch_first = True\n",
    "        xx, pt, sn, vn, sf1, sf2, phoneseq = zip(*data)\n",
    "        x_lens = [len(x) for x in xx]\n",
    "        xx_pad = pad_sequence(xx, batch_first=batch_first, padding_value=0)\n",
    "        return xx_pad, x_lens, pt, sn, vn, sf1, sf2, phoneseq"
   ]
  },
  {
   "cell_type": "code",
   "execution_count": 208,
   "metadata": {},
   "outputs": [],
   "source": [
    "import numpy as np\n",
    "import torch\n",
    "\n",
    "class OnlineMeanVariance:\n",
    "    def __init__(self):\n",
    "        self.n = 0       # Number of samples\n",
    "        self.mean = 0.0  # Running mean (scalar)\n",
    "        self.M2 = 0.0    # Running sum of squared differences from the mean (scalar)\n",
    "\n",
    "    def update(self, x):\n",
    "        \"\"\"\n",
    "        Add a new time-frequency tensor and update the running mean and variance using vectorized operations.\n",
    "        x: numpy array or torch tensor with shape (time, frequency)\n",
    "        \"\"\"\n",
    "        num_samples = x.size(0)  # Number of timeframes (rows)\n",
    "        sample_means = x.mean(dim=1)\n",
    "        \n",
    "        # Update the number of samples (add the number of timeframes)\n",
    "        total_samples = self.n + num_samples\n",
    "\n",
    "        # Update running mean using vectorized batch update\n",
    "        delta = sample_means - self.mean  # Mean difference between current batch and running mean\n",
    "        self.mean += (delta / total_samples).sum()  # Update running mean\n",
    "\n",
    "        # Update M2 (sum of squared differences) using batch variance\n",
    "        delta2 = sample_means - self.mean\n",
    "        self.M2 += (delta * delta2).sum()\n",
    "\n",
    "        # Update total number of samples\n",
    "        self.n = total_samples\n",
    "\n",
    "    def get_mean(self):\n",
    "        \"\"\"Return the current mean.\"\"\"\n",
    "        return self.mean\n",
    "\n",
    "    def get_variance(self):\n",
    "        \"\"\"Return the current sample variance.\"\"\"\n",
    "        if self.n < 2:\n",
    "            return float('nan')  # Variance is undefined for fewer than 2 samples\n",
    "        return self.M2 / (self.n - 1)  # Sample variance (unbiased)\n",
    "\n",
    "    def get_population_variance(self):\n",
    "        \"\"\"Return the population variance (divide by n instead of n-1).\"\"\"\n",
    "        if self.n < 1:\n",
    "            return float('nan')  # Variance is undefined for no samples\n",
    "        return self.M2 / self.n  # Population variance (biased)\n",
    "\n",
    "    def get_std(self, unbiased=True):\n",
    "        \"\"\"Return the standard deviation based on the variance.\"\"\"\n",
    "        if unbiased:\n",
    "            variance = self.get_variance()\n",
    "        else:\n",
    "            variance = self.get_population_variance()\n",
    "\n",
    "        return np.sqrt(variance) if isinstance(variance, (float, np.ndarray)) else torch.sqrt(torch.tensor(variance))"
   ]
  },
  {
   "cell_type": "code",
   "execution_count": 213,
   "metadata": {},
   "outputs": [],
   "source": [
    "# Full dataset mean and variance calculation (traditional method)\n",
    "\n",
    "def full_mean_variance(data):\n",
    "    \"\"\"\n",
    "    Compute the mean and variance of the whole dataset (batch processing).\n",
    "    data: list of numpy arrays or torch tensors of shape (time, frequency).\n",
    "    Treats each timeframe (row) as one sample.\n",
    "    \"\"\"\n",
    "    # Stack the data into a single array/tensor\n",
    "    if isinstance(data[0], np.ndarray):\n",
    "        data_stack = np.vstack(data)  # Stack numpy arrays vertically (along time dimension)\n",
    "        mean = np.mean(data_stack)  # Full mean\n",
    "        variance = np.var(data_stack, ddof=1)  # Full variance (ddof=1 for unbiased sample variance)\n",
    "    elif isinstance(data[0], torch.Tensor):\n",
    "        data_stack = torch.vstack(data)  # Stack tensors vertically (along time dimension)\n",
    "        mean = torch.mean(data_stack)  # Full mean\n",
    "        variance = torch.var(data_stack, unbiased=False)  # Full variance (unbiased)\n",
    "    else:\n",
    "        raise ValueError(\"Data must be a list of numpy arrays or torch tensors.\")\n",
    "    \n",
    "    return mean.item(), variance.item()  # Convert to scalar values"
   ]
  },
  {
   "cell_type": "code",
   "execution_count": null,
   "metadata": {},
   "outputs": [],
   "source": []
  },
  {
   "cell_type": "code",
   "execution_count": 228,
   "metadata": {},
   "outputs": [],
   "source": [
    "# Python code to generate a list of tensors with shape (1, 1) following the standard normal distribution\n",
    "\n",
    "import torch\n",
    "\n",
    "def generate_normal_tensors(num_tensors):\n",
    "    \"\"\"Generates a list of tensors with shape (1, 1) from a standard normal distribution.\"\"\"\n",
    "    tensor_list = [torch.randn(1, 5) for _ in range(num_tensors)]\n",
    "    return tensor_list"
   ]
  },
  {
   "cell_type": "code",
   "execution_count": 229,
   "metadata": {},
   "outputs": [
    {
     "name": "stderr",
     "output_type": "stream",
     "text": [
      "/tmp/ipykernel_3955798/3758902820.py:55: UserWarning: To copy construct from a tensor, it is recommended to use sourceTensor.clone().detach() or sourceTensor.clone().detach().requires_grad_(True), rather than torch.tensor(sourceTensor).\n",
      "  return np.sqrt(variance) if isinstance(variance, (float, np.ndarray)) else torch.sqrt(torch.tensor(variance))\n"
     ]
    },
    {
     "data": {
      "text/plain": [
       "(tensor(0.0039), tensor(0.4460), 0.0039415727369487286, 1.0165544748306274)"
      ]
     },
     "execution_count": 229,
     "metadata": {},
     "output_type": "execute_result"
    }
   ],
   "source": [
    "online_stats_torch = OnlineMeanVariance()\n",
    "data_torch = []\n",
    "for i in range(1000): \n",
    "    # random_framlength = random.randint(5, 20)\n",
    "    # data_torch.append(torch.rand(random_framlength, 1))\n",
    "    data_torch.append(torch.tensor([[1.], [-1.], [-1.]]))\n",
    "\n",
    "data_torch = generate_normal_tensors(1000)\n",
    "\n",
    "for value in data_torch:\n",
    "    online_stats_torch.update(value)\n",
    "\n",
    "mean_torch = online_stats_torch.get_mean()\n",
    "std_torch = online_stats_torch.get_std()\n",
    "\n",
    "mean_torch_full, var_torch_full = full_mean_variance(data_torch)\n",
    "\n",
    "mean_torch, std_torch, mean_torch_full, var_torch_full\n"
   ]
  },
  {
   "cell_type": "code",
   "execution_count": 230,
   "metadata": {},
   "outputs": [],
   "source": [
    "mel_data_list = [torch.rand(3,5), torch.rand(4,5)]\n",
    "\n",
    "mel_data = torch.cat(mel_data_list, dim=0)"
   ]
  },
  {
   "cell_type": "code",
   "execution_count": 231,
   "metadata": {},
   "outputs": [
    {
     "data": {
      "text/plain": [
       "torch.Size([7, 5])"
      ]
     },
     "execution_count": 231,
     "metadata": {},
     "output_type": "execute_result"
    }
   ],
   "source": [
    "mel_data.shape"
   ]
  },
  {
   "cell_type": "code",
   "execution_count": 2,
   "metadata": {},
   "outputs": [],
   "source": [
    "import torch"
   ]
  },
  {
   "cell_type": "code",
   "execution_count": 8,
   "metadata": {},
   "outputs": [],
   "source": [
    "alist = []\n",
    "a = torch.rand(3, 3)\n",
    "alist.append(a)\n",
    "a = torch.nn.Linear(3, 3)(a)\n",
    "alist.append(a)\n",
    "a = torch.nn.Linear(3, 2)(a)\n",
    "alist.append(a)"
   ]
  },
  {
   "cell_type": "code",
   "execution_count": 11,
   "metadata": {},
   "outputs": [
    {
     "data": {
      "text/plain": [
       "[[], [], []]"
      ]
     },
     "execution_count": 11,
     "metadata": {},
     "output_type": "execute_result"
    }
   ],
   "source": [
    "[[]] * 3"
   ]
  },
  {
   "cell_type": "code",
   "execution_count": 12,
   "metadata": {},
   "outputs": [],
   "source": [
    "import torch \n",
    "import torch.nn.functional as F "
   ]
  },
  {
   "cell_type": "code",
   "execution_count": 93,
   "metadata": {},
   "outputs": [],
   "source": [
    "# Define some mock parameters \n",
    "batch_size = 5  # B \n",
    "input_output_dim = 16  # I/O \n",
    "hidden_dim = 8  # H \n",
    "seq_length = 10  # Length \n",
    "num_blocks = 3  # Number of RNN blocks \n",
    "dummy_dim = 64  # Dimension for random data to represent attention outputs \n",
    "mask_dim = 1  # Mask dimensionality \n",
    "num_layers = 2"
   ]
  },
  {
   "cell_type": "code",
   "execution_count": 94,
   "metadata": {},
   "outputs": [
    {
     "name": "stdout",
     "output_type": "stream",
     "text": [
      "hid_rs[0] shape: torch.Size([5, 10, 8])\n",
      "init_in shape: torch.Size([5, 1, 16])\n",
      "in_mask shape: torch.Size([5, 10])\n",
      "hiddens[0][0] shape: torch.Size([2, 5, 8])\n"
     ]
    }
   ],
   "source": [
    "# Initialize random data for hidden representations (hid_rs) and other placeholders \n",
    "hid_rs = [torch.randn(batch_size, seq_length, hidden_dim) for _ in range(num_blocks)] \n",
    "init_in = torch.randn(batch_size, 1, input_output_dim) \n",
    "in_mask = torch.ones(batch_size, seq_length)  # Placeholder mask \n",
    "hiddens = [(torch.randn(num_layers, batch_size, hidden_dim), torch.randn(num_layers, batch_size, hidden_dim)) for _ in range(num_blocks)] \n",
    "\n",
    "print(\"hid_rs[0] shape:\", hid_rs[0].shape)\n",
    "print(\"init_in shape:\", init_in.shape)\n",
    "print(\"in_mask shape:\", in_mask.shape)\n",
    "print(\"hiddens[0][0] shape:\", hiddens[0][0].shape)"
   ]
  },
  {
   "cell_type": "code",
   "execution_count": 95,
   "metadata": {},
   "outputs": [],
   "source": [
    "# Placeholder for testing toy operations \n",
    "final_output_frames = []  # To store final output \n",
    "lstm_outputs, attention_outputs, block_outputs = [[] for _ in range(num_blocks)], [[] for _ in range(num_blocks)], [[] for _ in range(num_blocks)] \n",
    "attention_weights = [[] for _ in range(num_blocks)] "
   ]
  },
  {
   "cell_type": "code",
   "execution_count": 96,
   "metadata": {},
   "outputs": [],
   "source": [
    "lin1 = torch.nn.Linear(input_output_dim, hidden_dim)"
   ]
  },
  {
   "cell_type": "code",
   "execution_count": 97,
   "metadata": {},
   "outputs": [],
   "source": [
    "# Iteration over sequence length \n",
    "for t in range(seq_length):  \n",
    "    # Toy operation simulating linear transformation and activation (lin_1) \n",
    "    dec_x_lin1 = lin1(init_in)  # (B, 1, I/O) -> (B, 1, H), using relu as activation \n",
    "    for i in range(num_blocks): \n",
    "        # Toy LSTM block (replacing real LSTM with a simple addition operation) \n",
    "        dec_inblock_lstm, hiddens[i] = (dec_x_lin1), hiddens[i]  # Mock update hidden state \n",
    "        lstm_outputs[i].append(hiddens[i][0])  # Collect outputs    \n",
    "        # Toy residual and attention mechanisms \n",
    "        dec_inblock_passer_1 = dec_inblock_lstm + dec_x_lin1  # Residual connection simulation \n",
    "        dec_inblock_attention = torch.randn(batch_size, 1, hidden_dim)  # Simulating attention output \n",
    "        attention_weight = torch.randn(batch_size, 1, seq_length)  # Simulating attention weights \n",
    "        attention_outputs[i].append(dec_inblock_attention) \n",
    "        dec_inblock_passer_2 = dec_inblock_attention + dec_inblock_passer_1  # Residual connection simulation \n",
    "        dec_inblock_lin = torch.randn(batch_size, 1, hidden_dim)  # Simulating linear transformation \n",
    "        dec_inblock_passer_3 = dec_inblock_lin + dec_inblock_passer_2  # Residual connection simulation \n",
    "        block_outputs[i].append(dec_inblock_passer_3) \n",
    "        attention_weights[i].append(attention_weight) \n",
    "    # Final output processing for this timestep (simulating lin_2) \n",
    "    dec_x_lin2 = torch.randn(batch_size, 1, input_output_dim)  # Simulating the final output \n",
    "    final_output_frames.append(dec_x_lin2) \n",
    "    # Update the input token for the next timestep \n",
    "    init_in = dec_x_lin2 "
   ]
  },
  {
   "cell_type": "code",
   "execution_count": 98,
   "metadata": {},
   "outputs": [
    {
     "name": "stdout",
     "output_type": "stream",
     "text": [
      "Final Output Frames Shape: torch.Size([5, 10, 16])\n"
     ]
    }
   ],
   "source": [
    "print(\"Final Output Frames Shape:\", torch.stack(final_output_frames, dim=1).squeeze(2).shape)"
   ]
  },
  {
   "cell_type": "code",
   "execution_count": 113,
   "metadata": {},
   "outputs": [],
   "source": [
    "lstm_outputs_org = [torch.unbind(torch.stack(lstm_outputs[i], dim=2), dim=0) for i in range(num_blocks)]"
   ]
  },
  {
   "cell_type": "code",
   "execution_count": 114,
   "metadata": {},
   "outputs": [
    {
     "data": {
      "text/plain": [
       "torch.Size([5, 10, 8])"
      ]
     },
     "execution_count": 114,
     "metadata": {},
     "output_type": "execute_result"
    }
   ],
   "source": [
    "lstm_outputs_org[0][1].shape"
   ]
  },
  {
   "cell_type": "code",
   "execution_count": 123,
   "metadata": {},
   "outputs": [
    {
     "data": {
      "text/plain": [
       "torch.Size([5, 10, 10])"
      ]
     },
     "execution_count": 123,
     "metadata": {},
     "output_type": "execute_result"
    }
   ],
   "source": [
    "[torch.stack(attention_weights[i], dim=1).squeeze(-2) for i in range(num_blocks)][0].shape"
   ]
  },
  {
   "cell_type": "code",
   "execution_count": 103,
   "metadata": {},
   "outputs": [
    {
     "name": "stdout",
     "output_type": "stream",
     "text": [
      "Block 1:\n",
      "LSTM Outputs Shape: torch.Size([2, 5, 10, 8])\n",
      "Attention Outputs Shape: torch.Size([5, 10, 8])\n",
      "Block Outputs Shape: torch.Size([5, 10, 8])\n",
      "Attention Weights Shape: torch.Size([5, 10, 10])\n",
      "Block 2:\n",
      "LSTM Outputs Shape: torch.Size([2, 5, 10, 8])\n",
      "Attention Outputs Shape: torch.Size([5, 10, 8])\n",
      "Block Outputs Shape: torch.Size([5, 10, 8])\n",
      "Attention Weights Shape: torch.Size([5, 10, 10])\n",
      "Block 3:\n",
      "LSTM Outputs Shape: torch.Size([2, 5, 10, 8])\n",
      "Attention Outputs Shape: torch.Size([5, 10, 8])\n",
      "Block Outputs Shape: torch.Size([5, 10, 8])\n",
      "Attention Weights Shape: torch.Size([5, 10, 10])\n"
     ]
    }
   ],
   "source": [
    "# Checking the shapes of the collected outputs \n",
    "for i in range(num_blocks): \n",
    "\n",
    "    print(f\"Block {i+1}:\") \n",
    "\n",
    "    print(\"LSTM Outputs Shape:\", torch.stack(lstm_outputs[i], dim=2).shape) \n",
    "\n",
    "    print(\"Attention Outputs Shape:\", torch.stack(attention_outputs[i], dim=1).squeeze(-2).shape)\n",
    "\n",
    "    print(\"Block Outputs Shape:\", torch.stack(block_outputs[i], dim=1).squeeze(-2).shape) \n",
    "\n",
    "    print(\"Attention Weights Shape:\", torch.stack(attention_weights[i], dim=1).squeeze(-2).shape) "
   ]
  },
  {
   "cell_type": "code",
   "execution_count": 125,
   "metadata": {},
   "outputs": [
    {
     "name": "stdout",
     "output_type": "stream",
     "text": [
      "(0, 1)\n",
      "(1, 2)\n",
      "(2, 3)\n"
     ]
    },
    {
     "ename": "",
     "evalue": "",
     "output_type": "error",
     "traceback": [
      "\u001b[1;31mThe Kernel crashed while executing code in the current cell or a previous cell. \n",
      "\u001b[1;31mPlease review the code in the cell(s) to identify a possible cause of the failure. \n",
      "\u001b[1;31mClick <a href='https://aka.ms/vscodeJupyterKernelCrash'>here</a> for more info. \n",
      "\u001b[1;31mView Jupyter <a href='command:jupyter.viewOutput'>log</a> for further details."
     ]
    }
   ],
   "source": [
    "for i in enumerate([1, 2, 3]): \n",
    "    print(i)"
   ]
  }
 ],
 "metadata": {
  "kernelspec": {
   "display_name": "wavln",
   "language": "python",
   "name": "python3"
  },
  "language_info": {
   "codemirror_mode": {
    "name": "ipython",
    "version": 3
   },
   "file_extension": ".py",
   "mimetype": "text/x-python",
   "name": "python",
   "nbconvert_exporter": "python",
   "pygments_lexer": "ipython3",
   "version": "3.11.7"
  }
 },
 "nbformat": 4,
 "nbformat_minor": 2
}
