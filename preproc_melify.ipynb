{
 "cells": [
  {
   "cell_type": "markdown",
   "metadata": {},
   "source": [
    "# Melify\n",
    "At the moment, because it is rather complecated, we shall first take the test set and get the mean \n",
    "and variance. In this way we can proceed without conducting any preprocessing. The only change is that we will fix the normalization here and pass in the data for all trainings and testings. "
   ]
  },
  {
   "cell_type": "markdown",
   "metadata": {},
   "source": [
    "However, because at the moment I haven't found a good way to preserve good variance if using online methods, I will use the mean and variance as a whole, but from test set here to get all. "
   ]
  },
  {
   "cell_type": "code",
   "execution_count": null,
   "metadata": {},
   "outputs": [],
   "source": [
    "from model_dataset import TargetVowelDatasetManualNorm\n",
    "from paths import *"
   ]
  },
  {
   "cell_type": "code",
   "execution_count": null,
   "metadata": {},
   "outputs": [],
   "source": [
    "ds = TargetVowelDatasetManualNorm(\n",
    "    src_dir=\n",
    ")"
   ]
  }
 ],
 "metadata": {
  "language_info": {
   "name": "python"
  }
 },
 "nbformat": 4,
 "nbformat_minor": 2
}
