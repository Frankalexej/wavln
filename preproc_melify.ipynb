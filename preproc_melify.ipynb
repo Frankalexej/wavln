{
 "cells": [
  {
   "cell_type": "markdown",
   "metadata": {},
   "source": [
    "# Melify\n",
    "At the moment, because it is rather complecated, we shall first take the test set and get the mean \n",
    "and variance. In this way we can proceed without conducting any preprocessing. The only change is that we will fix the normalization here and pass in the data for all trainings and testings. "
   ]
  },
  {
   "cell_type": "markdown",
   "metadata": {},
   "source": [
    "However, because at the moment I haven't found a good way to preserve good variance if using online methods, I will use the mean and variance as a whole, but from test set here to get all. "
   ]
  },
  {
   "cell_type": "code",
   "execution_count": 1,
   "metadata": {},
   "outputs": [],
   "source": [
    "from model_dataset import TargetVowelDatasetManualNorm\n",
    "from model_dataset import MelSpecTransformDBNoNorm as TheTransform\n",
    "from paths import *\n",
    "from model_dataset import Normalizer, DeNormalizer, TokenMap\n",
    "\n",
    "import pandas as pd\n",
    "import pickle"
   ]
  },
  {
   "cell_type": "code",
   "execution_count": 2,
   "metadata": {},
   "outputs": [],
   "source": [
    "REC_SAMPLE_RATE = 16000\n",
    "N_FFT = 400\n",
    "N_MELS = 64\n",
    "LOADER_WORKER = 32"
   ]
  },
  {
   "cell_type": "code",
   "execution_count": 13,
   "metadata": {},
   "outputs": [],
   "source": [
    "t_set = pd.read_csv(os.path.join(src_, \"phi-T-guide.csv\"))\n",
    "st_set = pd.read_csv(os.path.join(src_, \"phi-ST-guide.csv\"))\n",
    "\n",
    "t_set_sampled = t_set.sample(n=len(st_set))\n",
    "\n",
    "integrated = pd.concat([t_set_sampled, st_set], ignore_index=True, sort=False)\n",
    "integrated = integrated.sample(frac=1).reset_index(drop=True)"
   ]
  },
  {
   "cell_type": "code",
   "execution_count": 15,
   "metadata": {},
   "outputs": [],
   "source": [
    "mytrans = TheTransform(sample_rate=REC_SAMPLE_RATE, \n",
    "                    n_fft=N_FFT, n_mels=N_MELS)\n",
    "\n",
    "with open(os.path.join(src_, \"no-stress-seg.dict\"), \"rb\") as file:\n",
    "    # Load the object from the file\n",
    "    mylist = pickle.load(file)\n",
    "    mylist = [\"BLANK\"] + mylist\n",
    "    mylist = mylist + [\"SIL\"]\n",
    "\n",
    "# Now you can use the loaded object\n",
    "mymap = TokenMap(mylist)\n",
    "\n",
    "mynorm = Normalizer(Normalizer.norm_mvn_manual)"
   ]
  },
  {
   "cell_type": "code",
   "execution_count": 16,
   "metadata": {},
   "outputs": [
    {
     "name": "stdout",
     "output_type": "stream",
     "text": [
      "HarmonicNoiseGen: sample_rate=16000, amplitude_scale=0.004, oscillation_scale=0.0006, f_0=50\n",
      "No mean and variance provided, calculating from the data ...\n"
     ]
    }
   ],
   "source": [
    "ds = TargetVowelDatasetManualNorm(\n",
    "    src_dir=train_cut_phone_, guide_=integrated, \n",
    "    mapper=mymap, transform=mytrans, normalizer=mynorm, \n",
    "    noise_fixlength=False, noise_amplitude_scale=0.004, mv_config=None\n",
    ")"
   ]
  },
  {
   "cell_type": "code",
   "execution_count": 17,
   "metadata": {},
   "outputs": [
    {
     "data": {
      "text/plain": [
       "(-22.27385902404785, 16.151123046875)"
      ]
     },
     "execution_count": 17,
     "metadata": {},
     "output_type": "execute_result"
    }
   ],
   "source": [
    "ds.mean.item(), ds.std.item()"
   ]
  },
  {
   "cell_type": "code",
   "execution_count": 18,
   "metadata": {},
   "outputs": [],
   "source": [
    "mean_std_dict = {'mean': ds.mean.item(), 'std': ds.std.item()}\n",
    "\n",
    "with open(os.path.join(src_, \"mv_config.pkl\"), \"wb\") as file:\n",
    "    pickle.dump(mean_std_dict, file)"
   ]
  },
  {
   "cell_type": "markdown",
   "metadata": {},
   "source": [
    "Now we have saved the mean and variance, we can use them to normalize the data. "
   ]
  }
 ],
 "metadata": {
  "kernelspec": {
   "display_name": "wavln",
   "language": "python",
   "name": "python3"
  },
  "language_info": {
   "codemirror_mode": {
    "name": "ipython",
    "version": 3
   },
   "file_extension": ".py",
   "mimetype": "text/x-python",
   "name": "python",
   "nbconvert_exporter": "python",
   "pygments_lexer": "ipython3",
   "version": "3.11.7"
  }
 },
 "nbformat": 4,
 "nbformat_minor": 2
}
