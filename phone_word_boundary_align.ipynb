{
 "cells": [
  {
   "cell_type": "markdown",
   "metadata": {},
   "source": [
    "# Phone-word boundary alignment\n",
    "Written: 20231004  \n",
    "This tool is used to align the phone and word annotations provided in Buckeye dataset. There is no such information provided directly, since they only provide phones and words separately. "
   ]
  },
  {
   "cell_type": "code",
   "execution_count": 37,
   "metadata": {},
   "outputs": [],
   "source": [
    "import pandas as pd\n",
    "import os\n",
    "from paths import word_seg_anno_log_path, phone_seg_anno_log_path, bsc_path"
   ]
  },
  {
   "cell_type": "code",
   "execution_count": 41,
   "metadata": {},
   "outputs": [],
   "source": [
    "# Step 1: Read wordlog.csv and phonelog.csv into DataFrames\n",
    "# wordlog_df = pd.read_csv(os.path.join(word_seg_anno_log_path, 's0101a.csv'))\n",
    "# phonelog_df = pd.read_csv(os.path.join(phone_seg_anno_log_path, 's0101a.csv'))\n",
    "wordlog_df = pd.read_csv(os.path.join(bsc_path, 'word_log.csv'))\n",
    "phonelog_df = pd.read_csv(os.path.join(bsc_path, 'phone_log.csv'))\n",
    "\n",
    "wordlog_df['produced_segments_clean'] = wordlog_df['produced_segments'].str.strip()\n",
    "\n",
    "# Step 2-6: Iterate through wordlog_df and perform the checks\n",
    "results = []\n",
    "\n",
    "for idx, word_row in wordlog_df.iterrows():\n",
    "    rec = word_row['rec']\n",
    "    start_time_word = word_row['start_time']\n",
    "    end_time_word = word_row['end_time']\n",
    "    produced_segments = word_row['produced_segments_clean'].split()\n",
    "\n",
    "    # Step 4: Filter phonelog_df for matching 'rec' and time range\n",
    "    phonelog_filtered = phonelog_df[(phonelog_df['rec'] == rec) & (phonelog_df['start_time'] >= start_time_word) & (phonelog_df['end_time'] <= end_time_word)]\n",
    "\n",
    "    # Step 5: Check if phonemes are included in the produced segments and follow the same order\n",
    "    phonemes = phonelog_filtered['token'].tolist()\n",
    "    phoneme_endtimes = phonelog_filtered['end_time'].tolist()\n",
    "    if phonemes == produced_segments:\n",
    "        match_status = 1\n",
    "    else:\n",
    "        match_status = 0\n",
    "\n",
    "    # Step 6: Store the results\n",
    "    results.append({\n",
    "        'rec': rec,\n",
    "        'start_time_word': start_time_word,\n",
    "        'end_time_word': end_time_word,\n",
    "        'produced_segments': ' '.join(produced_segments),\n",
    "        'phonemes': ' '.join(phonemes),\n",
    "        'phoneme_endtimes': ' '.join(map(str, phoneme_endtimes)),\n",
    "        'match_status': match_status\n",
    "    })\n",
    "\n",
    "# Create a DataFrame from the results\n",
    "result_df = pd.DataFrame(results)\n",
    "\n",
    "# Save the results to a CSV file\n",
    "result_df.to_csv('results.csv', index=False)\n"
   ]
  },
  {
   "cell_type": "code",
   "execution_count": null,
   "metadata": {},
   "outputs": [],
   "source": []
  }
 ],
 "metadata": {
  "kernelspec": {
   "display_name": "wavln",
   "language": "python",
   "name": "python3"
  },
  "language_info": {
   "codemirror_mode": {
    "name": "ipython",
    "version": 3
   },
   "file_extension": ".py",
   "mimetype": "text/x-python",
   "name": "python",
   "nbconvert_exporter": "python",
   "pygments_lexer": "ipython3",
   "version": "3.10.11"
  },
  "orig_nbformat": 4
 },
 "nbformat": 4,
 "nbformat_minor": 2
}
