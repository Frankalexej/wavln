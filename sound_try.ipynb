{
 "cells": [
  {
   "cell_type": "code",
   "execution_count": 8,
   "metadata": {},
   "outputs": [],
   "source": [
    "import torchaudio\n",
    "from torchaudio import transforms\n",
    "from paths import word_seg_anno_path\n",
    "import os"
   ]
  },
  {
   "cell_type": "code",
   "execution_count": 9,
   "metadata": {},
   "outputs": [
    {
     "data": {
      "text/plain": [
       "True"
      ]
     },
     "execution_count": 9,
     "metadata": {},
     "output_type": "execute_result"
    }
   ],
   "source": [
    "file_name = \"s0101a_00000328.wav\"\n",
    "file_name in os.listdir(word_seg_anno_path)"
   ]
  },
  {
   "cell_type": "code",
   "execution_count": 18,
   "metadata": {},
   "outputs": [],
   "source": [
    "waveform, sample_rate = torchaudio.load(os.path.join(word_seg_anno_path, file_name))"
   ]
  },
  {
   "cell_type": "code",
   "execution_count": 21,
   "metadata": {},
   "outputs": [],
   "source": [
    "n_fft = 400\n",
    "n_stft = int((n_fft//2) + 1)\n",
    "n_mels = 64"
   ]
  },
  {
   "cell_type": "code",
   "execution_count": 22,
   "metadata": {},
   "outputs": [],
   "source": [
    "t = transforms.MelSpectrogram(sample_rate, n_mels=n_mels, n_fft=n_fft)\n",
    "inverse_t = torchaudio.transforms.InverseMelScale(sample_rate=sample_rate, n_mels=n_mels, n_stft=n_stft)\n",
    "grifflim_t = torchaudio.transforms.GriffinLim(n_fft=n_fft)"
   ]
  },
  {
   "cell_type": "code",
   "execution_count": 23,
   "metadata": {},
   "outputs": [],
   "source": [
    "mel_specgram = t(waveform)  # (channel, n_mels, time)"
   ]
  },
  {
   "cell_type": "code",
   "execution_count": 24,
   "metadata": {},
   "outputs": [
    {
     "data": {
      "text/plain": [
       "torch.Size([1, 64, 13])"
      ]
     },
     "execution_count": 24,
     "metadata": {},
     "output_type": "execute_result"
    }
   ],
   "source": [
    "mel_specgram.shape"
   ]
  },
  {
   "cell_type": "code",
   "execution_count": 27,
   "metadata": {},
   "outputs": [],
   "source": [
    "i_mel = inverse_t(mel_specgram)\n",
    "inv = grifflim_t(i_mel)"
   ]
  },
  {
   "cell_type": "code",
   "execution_count": 30,
   "metadata": {},
   "outputs": [
    {
     "data": {
      "text/plain": [
       "torch.Size([1, 2582])"
      ]
     },
     "execution_count": 30,
     "metadata": {},
     "output_type": "execute_result"
    }
   ],
   "source": [
    "waveform.shape"
   ]
  },
  {
   "cell_type": "code",
   "execution_count": 29,
   "metadata": {},
   "outputs": [
    {
     "data": {
      "text/plain": [
       "torch.Size([1, 2400])"
      ]
     },
     "execution_count": 29,
     "metadata": {},
     "output_type": "execute_result"
    }
   ],
   "source": [
    "inv.shape"
   ]
  },
  {
   "cell_type": "code",
   "execution_count": 31,
   "metadata": {},
   "outputs": [],
   "source": [
    "from IPython.display import Audio"
   ]
  },
  {
   "cell_type": "code",
   "execution_count": 34,
   "metadata": {},
   "outputs": [
    {
     "data": {
      "text/html": [
       "\n",
       "                <audio  controls=\"controls\" >\n",
       "                    <source src=\"data:audio/wav;base64,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\" type=\"audio/wav\" />\n",
       "                    Your browser does not support the audio element.\n",
       "                </audio>\n",
       "              "
      ],
      "text/plain": [
       "<IPython.lib.display.Audio object>"
      ]
     },
     "execution_count": 34,
     "metadata": {},
     "output_type": "execute_result"
    }
   ],
   "source": [
    "Audio(inv.numpy()[0], rate=sample_rate)"
   ]
  }
 ],
 "metadata": {
  "kernelspec": {
   "display_name": "wavln",
   "language": "python",
   "name": "python3"
  },
  "language_info": {
   "codemirror_mode": {
    "name": "ipython",
    "version": 3
   },
   "file_extension": ".py",
   "mimetype": "text/x-python",
   "name": "python",
   "nbconvert_exporter": "python",
   "pygments_lexer": "ipython3",
   "version": "3.11.3"
  },
  "orig_nbformat": 4
 },
 "nbformat": 4,
 "nbformat_minor": 2
}
