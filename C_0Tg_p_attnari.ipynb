{
 "cells": [
  {
   "cell_type": "markdown",
   "metadata": {},
   "source": [
    "# Attention vs ARI Comparison\n",
    "In this notebook we aim to compare the SAS trajectory patterns with the vowel clustering results. "
   ]
  },
  {
   "cell_type": "code",
   "execution_count": 32,
   "metadata": {},
   "outputs": [],
   "source": [
    "import warnings\n",
    "warnings.simplefilter(action='ignore', category=FutureWarning)\n",
    "\n",
    "# from C_0B_eval import *\n",
    "from C_0X_defs import *\n",
    "from C_0Y_evaldefs import *\n",
    "from C_0Z_evaldefsAppendix import *\n",
    "from scipy.stats import sem, ttest_ind\n",
    "from misc_recorder import ListRecorder\n",
    "import pandas as pd"
   ]
  },
  {
   "cell_type": "code",
   "execution_count": 33,
   "metadata": {},
   "outputs": [],
   "source": [
    "ts = \"0915163757\" # this timestamp does not contain run number\n",
    "train_name = \"C_0Tg\"\n",
    "res_save_dir = os.path.join(model_save_, f\"eval-{train_name}-{ts}\")\n",
    "swapped_res_save_dir = os.path.join(model_save_, f\"evalswapped-{train_name}-{ts}\")"
   ]
  },
  {
   "cell_type": "code",
   "execution_count": null,
   "metadata": {},
   "outputs": [],
   "source": [
    "super_data_collector = {}   # 存放所有数据"
   ]
  },
  {
   "cell_type": "code",
   "execution_count": null,
   "metadata": {},
   "outputs": [],
   "source": [
    "# 每個模型哪些run可以使用, 默認全部一樣\n",
    "runs_dict = {\n",
    "    \"recon4-phi\": [1, 2, 3, 4, 5], \n",
    "    \"recon8-phi\": [1, 2, 3, 4, 5], \n",
    "    \"recon16-phi\": [1, 2, 3, 4, 5], \n",
    "    \"recon32-phi\": [1, 2, 3, 4, 5], \n",
    "    \"recon48-phi\": [1, 2, 3, 4, 5], \n",
    "    \"recon64-phi\": [1, 2, 3, 4, 5], \n",
    "    \"recon96-phi\": [1, 2, 3, 4, 5], \n",
    "}\n",
    "\n",
    "model_condition = \"b\""
   ]
  },
  {
   "cell_type": "code",
   "execution_count": null,
   "metadata": {},
   "outputs": [],
   "source": [
    "for model_type in ['recon4-phi', 'recon8-phi', 'recon16-phi', 'recon32-phi', 'recon48-phi', 'recon64-phi', 'recon96-phi']: \n",
    "    hiddim = int(model_type.split('-')[0].split('recon')[1])\n",
    "    super_data_collector[hiddim] = {} # 每個model添加數據 (hiddim)\n",
    "\n",
    "    # 基於采用哪些run生成strseq作記錄\n",
    "    learned_runs = runs_dict[model_type]\n",
    "    string_learned_runs = [str(num) for num in learned_runs]\n",
    "    strseq_learned_runs = \"\".join(string_learned_runs)\n",
    "\n",
    "    # 該model的所有run的數據\n",
    "    every_attns = []\n",
    "    every_sepframes1 = []\n",
    "    every_sepframes2 = []\n",
    "    every_phi_types = []\n",
    "\n",
    "    model_condition_dir = os.path.join(res_save_dir, model_type, model_condition)\n",
    "\n",
    "    for epoch in range(0, 101): \n",
    "        # 對於每個epoch, 收集每個run的數據\n",
    "        cat_attns = []\n",
    "        cat_sepframes1 = []\n",
    "        cat_sepframes2 = []\n",
    "        cat_phi_types = []\n",
    "        for run_number in learned_runs:\n",
    "            this_model_condition_dir = os.path.join(model_condition_dir, f\"{run_number}\")\n",
    "            allres = read_result_at(this_model_condition_dir, epoch)\n",
    "            cat_phi_types += allres[\"phi-type\"]\n",
    "            cat_attns += allres[\"attn\"]\n",
    "            cat_sepframes1 += allres[\"sep-frame1\"]\n",
    "            cat_sepframes2 += allres[\"sep-frame2\"]\n",
    "\n",
    "        every_attns.append(cat_attns)\n",
    "        every_sepframes1.append(cat_sepframes1)\n",
    "        every_sepframes2.append(cat_sepframes2)\n",
    "        every_phi_types.append(cat_phi_types)    \n",
    "\n",
    "    attnres = collect_attention_epoch_trajectory(every_phi_types, every_attns, every_sepframes1, every_sepframes2, os.path.join(res_save_dir, f\"attnepochtraj-at-all-{model_type}-{model_condition}-{strseq_learned_runs}-10pc.png\"), \n",
    "                                    conditionlist=[\"T\", \"ST\"])\n",
    "    \n",
    "    super_data_collector[hiddim][\"attnres\"] = attnres"
   ]
  }
 ],
 "metadata": {
  "kernelspec": {
   "display_name": "wavln",
   "language": "python",
   "name": "python3"
  },
  "language_info": {
   "codemirror_mode": {
    "name": "ipython",
    "version": 3
   },
   "file_extension": ".py",
   "mimetype": "text/x-python",
   "name": "python",
   "nbconvert_exporter": "python",
   "pygments_lexer": "ipython3",
   "version": "3.11.7"
  }
 },
 "nbformat": 4,
 "nbformat_minor": 2
}
