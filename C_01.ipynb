{
 "cells": [
  {
   "cell_type": "markdown",
   "metadata": {},
   "source": [
    "# Phenomenon-Target Training (AI Lab Run)\n",
    "- C01: This is the first version of phenomenon training. In this we generated a sibilant-stop dataset and a stop-dataset. For S-set we constrain that all at word start. For SS-set we allow in-between ones because we know that basically they are also deaspirated. "
   ]
  },
  {
   "cell_type": "markdown",
   "metadata": {},
   "source": [
    "## Preparing"
   ]
  },
  {
   "cell_type": "code",
   "execution_count": 1,
   "metadata": {},
   "outputs": [],
   "source": [
    "import torch\n",
    "from torch import nn\n",
    "import torch.nn.functional as F\n",
    "from torch.nn.utils.rnn import pad_sequence, pack_sequence\n",
    "from torch import optim\n",
    "from torch.utils.data import Dataset, DataLoader, random_split\n",
    "import matplotlib.pyplot as plt\n",
    "import numpy as np\n",
    "import pandas as pd"
   ]
  },
  {
   "cell_type": "code",
   "execution_count": 2,
   "metadata": {},
   "outputs": [],
   "source": [
    "from model_model import VQVAEV1 as TheLearner\n",
    "from model_dataset import DS_Tools\n",
    "from model_dataset import TargetDataset as ThisDataset\n",
    "from model_dataset import Normalizer, DeNormalizer, TokenMap\n",
    "from model_dataset import MelSpecTransformDB as TheTransform\n",
    "from paths import *\n",
    "from misc_my_utils import *\n",
    "from misc_recorder import *\n",
    "from model_loss import *\n",
    "from model_padding import generate_mask_from_lengths_mat"
   ]
  },
  {
   "cell_type": "markdown",
   "metadata": {},
   "source": [
    "### Dirs"
   ]
  },
  {
   "cell_type": "code",
   "execution_count": 3,
   "metadata": {},
   "outputs": [],
   "source": [
    "rec_dir = train_cut_phone_\n",
    "# train_guide_path = os.path.join(src_, \"guide_train.csv\")\n",
    "# valid_guide_path = os.path.join(src_, \"guide_validation.csv\")\n",
    "# test_guide_path = os.path.join(src_, \"guide_test.csv\")\n",
    "\n",
    "phi_T_guid_path = os.path.join(src_, \"phi-T-guide.csv\")\n",
    "phi_ST_guid_path = os.path.join(src_, \"phi-ST-guide.csv\")"
   ]
  },
  {
   "cell_type": "markdown",
   "metadata": {},
   "source": [
    "### Constants"
   ]
  },
  {
   "cell_type": "code",
   "execution_count": 4,
   "metadata": {},
   "outputs": [],
   "source": [
    "BATCH_SIZE = 512\n",
    "\n",
    "# IN_DIM = 64\n",
    "# HID_DIM = 8\n",
    "\n",
    "# ENC_SIZE_LIST = {\n",
    "#     \"in\": 64, \n",
    "#     \"hid\": 8\n",
    "# }\n",
    "# DEC_SIZE_LIST = {\n",
    "#     \"hid\": 8\n",
    "# }\n",
    "\n",
    "INPUT_DIM = 64\n",
    "OUTPUT_DIM = 64 \n",
    "\n",
    "INTER_DIM_0 = 32\n",
    "INTER_DIM_1 = 16\n",
    "INTER_DIM_2 = 8\n",
    "\n",
    "ENC_SIZE_LIST = [INPUT_DIM, INTER_DIM_0, INTER_DIM_1, INTER_DIM_2]\n",
    "DEC_SIZE_LIST = [OUTPUT_DIM, INTER_DIM_0, INTER_DIM_1, INTER_DIM_2]\n",
    "\n",
    "DROPOUT = 0.5\n",
    "NUM_LAYERS = 2\n",
    "EMBEDDING_DIM = 128\n",
    "\n",
    "REC_SAMPLE_RATE = 16000\n",
    "N_FFT = 400\n",
    "N_MELS = 64\n",
    "\n",
    "LOADER_WORKER = 32"
   ]
  },
  {
   "cell_type": "markdown",
   "metadata": {},
   "source": [
    "## Prepare for this time of training"
   ]
  },
  {
   "cell_type": "code",
   "execution_count": 5,
   "metadata": {},
   "outputs": [
    {
     "name": "stdout",
     "output_type": "stream",
     "text": [
      "C_01-0225215615\n"
     ]
    }
   ],
   "source": [
    "ts = str(get_timestamp())\n",
    "ts = \"0225215615\"\n",
    "stop_epoch = \"29\"\n",
    "train_name = \"C_01\"\n",
    "model_save_dir = os.path.join(model_save_, f\"{train_name}-{ts}\")\n",
    "mk(model_save_dir)\n",
    "print(f\"{train_name}-{ts}\")\n",
    "\n",
    "train_losses = ListRecorder(os.path.join(model_save_dir, \"train.loss\"))\n",
    "train_recon_losses = ListRecorder(os.path.join(model_save_dir, \"train.recon.loss\"))\n",
    "train_embedding_losses = ListRecorder(os.path.join(model_save_dir, \"train.embedding.loss\"))\n",
    "train_commitment_losses = ListRecorder(os.path.join(model_save_dir, \"train.commitment.loss\"))\n",
    "\n",
    "valid_losses = ListRecorder(os.path.join(model_save_dir, \"valid.loss\"))\n",
    "valid_recon_losses = ListRecorder(os.path.join(model_save_dir, \"valid.recon.loss\"))\n",
    "valid_embedding_losses = ListRecorder(os.path.join(model_save_dir, \"valid.embedding.loss\"))\n",
    "valid_commitment_losses = ListRecorder(os.path.join(model_save_dir, \"valid.commitment.loss\"))\n",
    "\n",
    "text_hist = HistRecorder(os.path.join(model_save_dir, \"trainhist.txt\"))"
   ]
  },
  {
   "cell_type": "markdown",
   "metadata": {},
   "source": [
    "- 0225215615: first trial. "
   ]
  },
  {
   "cell_type": "code",
   "execution_count": 6,
   "metadata": {},
   "outputs": [],
   "source": [
    "READ = False\n",
    "DATAREAD = False"
   ]
  },
  {
   "cell_type": "code",
   "execution_count": 7,
   "metadata": {},
   "outputs": [],
   "source": [
    "with open(os.path.join(src_, \"no-stress-seg.dict\"), \"rb\") as file:\n",
    "    # Load the object from the file\n",
    "    mylist = pickle.load(file)\n",
    "    mylist = [\"BLANK\"] + mylist\n",
    "\n",
    "# Now you can use the loaded object\n",
    "mymap = TokenMap(mylist)\n",
    "\n",
    "# We do the random selection here\n",
    "t_guide = pd.read_csv(phi_T_guid_path)\n",
    "st_guide = pd.read_csv(phi_ST_guid_path)\n",
    "sampled_t_guide = t_guide.sample(n=len(t_guide))\n",
    "all_guide = pd.concat([st_guide, sampled_t_guide], ignore_index=True, sort=False)\n",
    "\n",
    "mytrans = TheTransform(sample_rate=REC_SAMPLE_RATE, \n",
    "                       n_fft=N_FFT, n_mels=N_MELS, \n",
    "                       normalizer=Normalizer.norm_mvn, \n",
    "                       denormalizer=DeNormalizer.norm_mvn)\n",
    "\n",
    "all_ds = ThisDataset(rec_dir, \n",
    "                       all_guide, \n",
    "                       mapper=mymap, \n",
    "                       transform=mytrans)\n",
    "\n",
    "train_proportion = 0.8\n",
    "\n",
    "if DATAREAD: \n",
    "    train_ds_indices = DS_Tools.read_indices(os.path.join(model_save_dir, \"train.use\"))\n",
    "    valid_ds_indices = DS_Tools.read_indices(os.path.join(model_save_dir, \"valid.use\"))\n",
    "\n",
    "    use_train_ds = torch.utils.data.Subset(all_ds, train_ds_indices)\n",
    "    use_valid_ds = torch.utils.data.Subset(all_ds, valid_ds_indices)\n",
    "else: \n",
    "    # train and valid data\n",
    "    train_len = int(train_proportion * len(all_ds))\n",
    "    valid_len = len(all_ds) - train_len\n",
    "    use_train_ds, use_valid_ds = random_split(all_ds, [train_len, valid_len])\n",
    "\n",
    "    # NOTE: we don't need to save the cut-small subset, because after cutting-small, \n",
    "    # the saved train and valid separations will reflect this\n",
    "    DS_Tools.save_indices(os.path.join(model_save_dir, \"train.use\"), use_train_ds.indices)\n",
    "    DS_Tools.save_indices(os.path.join(model_save_dir, \"valid.use\"), use_valid_ds.indices)\n",
    "\n",
    "train_loader = DataLoader(use_train_ds, batch_size=BATCH_SIZE, shuffle=True, num_workers=LOADER_WORKER, collate_fn=ThisDataset.collate_fn)\n",
    "train_num = len(train_loader.dataset)\n",
    "\n",
    "valid_loader = DataLoader(use_valid_ds, batch_size=BATCH_SIZE, shuffle=False, num_workers=LOADER_WORKER, collate_fn=ThisDataset.collate_fn)\n",
    "valid_num = len(valid_loader.dataset)"
   ]
  },
  {
   "cell_type": "code",
   "execution_count": 24,
   "metadata": {},
   "outputs": [],
   "source": [
    "all_guide.to_csv(os.path.join(model_save_dir, \"all_guide.csv\"))"
   ]
  },
  {
   "cell_type": "code",
   "execution_count": 8,
   "metadata": {},
   "outputs": [
    {
     "data": {
      "text/plain": [
       "(10671, 2668, 21, 6)"
      ]
     },
     "execution_count": 8,
     "metadata": {},
     "output_type": "execute_result"
    }
   ],
   "source": [
    "train_num, valid_num, len(train_loader), len(valid_loader)"
   ]
  },
  {
   "cell_type": "code",
   "execution_count": null,
   "metadata": {},
   "outputs": [],
   "source": [
    "import warnings\n",
    "warnings.simplefilter(action='ignore', category=FutureWarning)\n",
    "\n",
    "import torch\n",
    "import torchaudio\n",
    "from torch import nn\n",
    "import torch.nn.functional as F\n",
    "from torch import optim\n",
    "from torch.utils.data import DataLoader, random_split\n",
    "import matplotlib.pyplot as plt\n",
    "import random\n",
    "from IPython.display import Audio\n",
    "from tqdm import tqdm\n",
    "import seaborn as sns\n",
    "import pandas as pd\n",
    "from collections import Counter\n",
    "from sklearn.manifold import TSNE   # one type of clustering\n",
    "from sklearn.cluster import KMeans\n",
    "from sklearn.metrics import silhouette_score\n",
    "from sklearn.metrics import adjusted_rand_score\n",
    "from sklearn.metrics import homogeneity_score, completeness_score, v_measure_score\n",
    "from itertools import combinations\n",
    "from sklearn.decomposition import PCA\n",
    "from scipy.linalg import block_diag\n",
    "import pickle\n",
    "from scipy import stats"
   ]
  },
  {
   "cell_type": "code",
   "execution_count": null,
   "metadata": {},
   "outputs": [],
   "source": [
    "from model_padding import generate_mask_from_lengths_mat, mask_it\n",
    "from paths import *\n",
    "from misc_my_utils import *\n",
    "from model_loss import *\n",
    "from model_model import CTCPredNetV1 as TheLearner\n",
    "from model_dataset import WordDatasetPath as ThisDataset\n",
    "from model_dataset import Normalizer, DeNormalizer, TokenMap\n",
    "from model_dataset import MelSpecTransformDB as TheTransform\n",
    "from model_dataset import DS_Tools\n",
    "from reshandler import DictResHandler\n",
    "from misc_progress_bar import draw_progress_bar\n",
    "from test_bnd_detect_tools import *\n",
    "from misc_tools import PathUtils as PU\n",
    "from misc_tools import AudioCut, ARPABET"
   ]
  },
  {
   "cell_type": "code",
   "execution_count": 10,
   "metadata": {},
   "outputs": [
    {
     "name": "stdout",
     "output_type": "stream",
     "text": [
      "torch.Size([512, 21, 64])\n"
     ]
    },
    {
     "data": {
      "image/png": "[encoded data removed]",
      "text/plain": [
       "<Figure size 1200x800 with 7 Axes>"
      ]
     },
     "metadata": {},
     "output_type": "display_data"
    }
   ],
   "source": [
    "# Load sample data from train_loader\n",
    "sample_data = next(iter(valid_loader))\n",
    "xx_pad, x_lens, phi_type, stop_name = sample_data\n",
    "print(xx_pad.shape)\n",
    "\n",
    "# Set the random seed for reproducibility\n",
    "# random.seed(101)\n",
    "# Generate six random indices\n",
    "# random_indices = random.sample(range(len(xx_pad)), 6)\n",
    "random_indices = list(range(6, 12))\n",
    "\n",
    "# Plot the spectrograms and mark the corresponding seg\n",
    "fig, axes = plt.subplots(2, 3, figsize=(12, 8))\n",
    "axes = axes.flatten()\n",
    "\n",
    "for i, idx in enumerate(random_indices):\n",
    "    spectrogram = xx_pad[idx]\n",
    "    this_phi_type, this_stop_name = phi_type[idx], stop_name[idx]\n",
    "    title = \"-\".join([this_phi_type, this_stop_name])\n",
    "    \n",
    "    ax = axes[i]\n",
    "    img = ax.imshow(spectrogram.T, aspect='auto', origin=\"lower\")\n",
    "    # ax.axvline(x=segment, color='red', linestyle='--')\n",
    "    # ax.axvline(x=segment[1], color='red', linestyle='--')\n",
    "    ax.set_title(title)\n",
    "    ax.set_xlabel('Time')\n",
    "    ax.set_ylabel('Frequency')\n",
    "plt.tight_layout()\n",
    "plt.colorbar(img,ax=axes)\n",
    "plt.show()"
   ]
  },
  {
   "cell_type": "markdown",
   "metadata": {},
   "source": [
    "## Loss\n",
    "VAE的损失由重构损失和KL损失组成.\n",
    "\n",
    "KL散度就不再推导了, 直接放结果:\n",
    "$$KL\\Big(N(\\mu,\\sigma^2)\\Big\\Vert N(0,1)\\Big)=\\frac{1}{2}\\Big(-\\log \\sigma^2+\\mu^2+\\sigma^2-1\\Big)$$\n",
    "\n",
    "VAE的目标是最小化$Z$和$\\mathcal{N}(0, I)$之间的KL散度, 代码只需要照着写就行了:"
   ]
  },
  {
   "cell_type": "code",
   "execution_count": 11,
   "metadata": {},
   "outputs": [],
   "source": [
    "masked_loss = MaskedLoss(loss_fn=nn.MSELoss(reduction=\"none\"))"
   ]
  },
  {
   "cell_type": "markdown",
   "metadata": {},
   "source": [
    "## Prepare Model\n",
    "先定义好训练的epoch和batch_size, 优化器随便选一个世界上最好的优化器Adam(lr=1e-3):"
   ]
  },
  {
   "cell_type": "code",
   "execution_count": 12,
   "metadata": {},
   "outputs": [],
   "source": [
    "device = torch.device('cuda' if torch.cuda.is_available() else 'cpu')\n",
    "model = TheLearner(enc_size_list=ENC_SIZE_LIST, \n",
    "                   dec_size_list=DEC_SIZE_LIST, \n",
    "                   embedding_dim=EMBEDDING_DIM, \n",
    "                   num_layers=NUM_LAYERS, dropout=DROPOUT)\n",
    "model.to(device)\n",
    "optimizer = optim.Adam(model.parameters(), lr=1e-3)\n",
    "\n",
    "model_str = str(model)\n",
    "model_txt_path = os.path.join(model_save_dir, \"model.txt\")\n",
    "\n",
    "with open(model_txt_path, \"w\") as f:\n",
    "    f.write(model_str)"
   ]
  },
  {
   "cell_type": "code",
   "execution_count": 13,
   "metadata": {},
   "outputs": [
    {
     "name": "stdout",
     "output_type": "stream",
     "text": [
      "6960\n"
     ]
    },
    {
     "data": {
      "text/plain": [
       "VQVAEV1(\n",
       "  (encoder): VQEncoderV1(\n",
       "    (lin_1): Linear(in_features=64, out_features=8, bias=True)\n",
       "    (rnn): LSTM(8, 8, num_layers=2, batch_first=True, dropout=0.5, bidirectional=True)\n",
       "    (lin_2): Linear(in_features=16, out_features=8, bias=True)\n",
       "    (act): ReLU()\n",
       "  )\n",
       "  (decoder): VQDecoderV1(\n",
       "    (lin_1): Linear(in_features=64, out_features=8, bias=True)\n",
       "    (rnn): LSTM(8, 8, num_layers=2, batch_first=True, dropout=0.5)\n",
       "    (attention): ScaledDotProductAttention(\n",
       "      (w_q): Linear(in_features=8, out_features=8, bias=True)\n",
       "      (w_k): Linear(in_features=8, out_features=8, bias=True)\n",
       "      (w_v): Linear(in_features=8, out_features=8, bias=True)\n",
       "    )\n",
       "    (lin_2): Linear(in_features=8, out_features=64, bias=True)\n",
       "    (act): ReLU()\n",
       "  )\n",
       "  (vq_embedding): Embedding(128, 8)\n",
       ")"
      ]
     },
     "execution_count": 13,
     "metadata": {},
     "output_type": "execute_result"
    }
   ],
   "source": [
    "model_parameters = filter(lambda p: p.requires_grad, model.parameters())\n",
    "params = sum([np.prod(p.size()) for p in model_parameters])\n",
    "print(params)\n",
    "\n",
    "# initialize model weights\n",
    "def init_weights(m):\n",
    "    if isinstance(m, nn.Linear):\n",
    "        torch.nn.init.orthogonal_(m.weight)\n",
    "        m.bias.data.fill_(0.01)\n",
    "    if isinstance(m, nn.LSTM): \n",
    "        for name, p in m.named_parameters():\n",
    "            if \"weight\" in name: \n",
    "                nn.init.orthogonal_(p)\n",
    "            elif \"bias\" in name: \n",
    "                nn.init.constant_(p, 0)\n",
    "\n",
    "model.apply(init_weights)"
   ]
  },
  {
   "cell_type": "markdown",
   "metadata": {},
   "source": [
    "### Load model if READ"
   ]
  },
  {
   "cell_type": "code",
   "execution_count": 14,
   "metadata": {},
   "outputs": [],
   "source": [
    "if READ: \n",
    "    train_losses.read()\n",
    "    train_recon_losses.read()\n",
    "    train_embedding_losses.read()\n",
    "    train_commitment_losses.read()\n",
    "\n",
    "    valid_losses.read()\n",
    "    valid_recon_losses.read()\n",
    "    valid_embedding_losses.read()\n",
    "    valid_commitment_losses.read()\n",
    "\n",
    "    model_name = \"{}.pt\".format(stop_epoch)\n",
    "    model_path = os.path.join(model_save_dir, model_name)\n",
    "    state = torch.load(model_path)\n",
    "\n",
    "    model.load_state_dict(state)\n",
    "    model.to(device)"
   ]
  },
  {
   "cell_type": "markdown",
   "metadata": {},
   "source": [
    "## Training"
   ]
  },
  {
   "cell_type": "code",
   "execution_count": 15,
   "metadata": {},
   "outputs": [],
   "source": [
    "l_w_embedding = 1\n",
    "l_w_commitment = 0.25"
   ]
  },
  {
   "cell_type": "code",
   "execution_count": 16,
   "metadata": {},
   "outputs": [],
   "source": [
    "EPOCHS = 100\n",
    "BASE = 0"
   ]
  },
  {
   "cell_type": "code",
   "execution_count": 17,
   "metadata": {},
   "outputs": [
    {
     "name": "stdout",
     "output_type": "stream",
     "text": [
      "Epoch 0\n",
      "Training step 0 loss  1.004 \t recon  1.000 \t embed  0.003 \t commit  0.003\n",
      "※※※Training loss  0.999 \t recon  0.996 \t embed  0.002 \t commit  0.002※※※\n",
      "※※※Valid loss  0.997 \t recon  0.990 \t embed  0.006 \t commit  0.006※※※\n",
      "Epoch 1\n",
      "Training step 0 loss  0.998 \t recon  0.990 \t embed  0.006 \t commit  0.006\n",
      "※※※Training loss  1.011 \t recon  0.984 \t embed  0.021 \t commit  0.021※※※\n",
      "※※※Valid loss  1.039 \t recon  0.977 \t embed  0.050 \t commit  0.050※※※\n",
      "Epoch 2\n",
      "Training step 0 loss  1.036 \t recon  0.977 \t embed  0.047 \t commit  0.047\n",
      "※※※Training loss  1.079 \t recon  0.969 \t embed  0.088 \t commit  0.088※※※\n",
      "※※※Valid loss  1.175 \t recon  0.958 \t embed  0.173 \t commit  0.173※※※\n",
      "Epoch 3\n",
      "Training step 0 loss  1.152 \t recon  0.959 \t embed  0.155 \t commit  0.155\n",
      "※※※Training loss  1.284 \t recon  0.947 \t embed  0.270 \t commit  0.270※※※\n",
      "※※※Valid loss  1.546 \t recon  0.931 \t embed  0.492 \t commit  0.492※※※\n",
      "Epoch 4\n",
      "Training step 0 loss  1.463 \t recon  0.933 \t embed  0.424 \t commit  0.424\n",
      "※※※Training loss  1.702 \t recon  0.915 \t embed  0.629 \t commit  0.629※※※\n",
      "※※※Valid loss  2.104 \t recon  0.895 \t embed  0.967 \t commit  0.967※※※\n",
      "Epoch 5\n",
      "Training step 0 loss  1.981 \t recon  0.897 \t embed  0.867 \t commit  0.867\n",
      "※※※Training loss  2.047 \t recon  0.876 \t embed  0.937 \t commit  0.937※※※\n",
      "※※※Valid loss  2.337 \t recon  0.854 \t embed  1.187 \t commit  1.187※※※\n",
      "Epoch 6\n",
      "Training step 0 loss  2.093 \t recon  0.862 \t embed  0.985 \t commit  0.985\n",
      "※※※Training loss  1.996 \t recon  0.841 \t embed  0.924 \t commit  0.924※※※\n",
      "※※※Valid loss  1.961 \t recon  0.820 \t embed  0.912 \t commit  0.912※※※\n",
      "Epoch 7\n",
      "Training step 0 loss  1.868 \t recon  0.818 \t embed  0.840 \t commit  0.840\n",
      "※※※Training loss  1.632 \t recon  0.815 \t embed  0.653 \t commit  0.653※※※\n",
      "※※※Valid loss  1.489 \t recon  0.799 \t embed  0.552 \t commit  0.552※※※\n",
      "Epoch 8\n",
      "Training step 0 loss  1.285 \t recon  0.808 \t embed  0.382 \t commit  0.382\n",
      "※※※Training loss  1.313 \t recon  0.796 \t embed  0.413 \t commit  0.413※※※\n",
      "※※※Valid loss  1.245 \t recon  0.778 \t embed  0.373 \t commit  0.373※※※\n",
      "Epoch 9\n",
      "Training step 0 loss  1.299 \t recon  0.773 \t embed  0.420 \t commit  0.420\n",
      "※※※Training loss  1.155 \t recon  0.777 \t embed  0.303 \t commit  0.303※※※\n",
      "※※※Valid loss  1.127 \t recon  0.752 \t embed  0.300 \t commit  0.300※※※\n",
      "Epoch 10\n",
      "Training step 0 loss  1.109 \t recon  0.762 \t embed  0.277 \t commit  0.277\n",
      "※※※Training loss  1.059 \t recon  0.750 \t embed  0.247 \t commit  0.247※※※\n",
      "※※※Valid loss  1.093 \t recon  0.720 \t embed  0.298 \t commit  0.298※※※\n",
      "Epoch 11\n",
      "Training step 0 loss  1.060 \t recon  0.732 \t embed  0.262 \t commit  0.262\n",
      "※※※Training loss  1.009 \t recon  0.715 \t embed  0.235 \t commit  0.235※※※\n",
      "※※※Valid loss  0.947 \t recon  0.677 \t embed  0.216 \t commit  0.216※※※\n",
      "Epoch 12\n",
      "Training step 0 loss  0.916 \t recon  0.690 \t embed  0.181 \t commit  0.181\n",
      "※※※Training loss  0.878 \t recon  0.679 \t embed  0.159 \t commit  0.159※※※\n",
      "※※※Valid loss  0.849 \t recon  0.640 \t embed  0.167 \t commit  0.167※※※\n",
      "Epoch 13\n",
      "Training step 0 loss  0.835 \t recon  0.668 \t embed  0.134 \t commit  0.134\n",
      "※※※Training loss  0.790 \t recon  0.650 \t embed  0.112 \t commit  0.112※※※\n",
      "※※※Valid loss  0.733 \t recon  0.616 \t embed  0.094 \t commit  0.094※※※\n",
      "Epoch 14\n",
      "Training step 0 loss  0.746 \t recon  0.645 \t embed  0.080 \t commit  0.080\n",
      "※※※Training loss  0.731 \t recon  0.631 \t embed  0.080 \t commit  0.080※※※\n",
      "※※※Valid loss  0.703 \t recon  0.596 \t embed  0.085 \t commit  0.085※※※\n",
      "Epoch 15\n",
      "Training step 0 loss  0.700 \t recon  0.609 \t embed  0.073 \t commit  0.073\n",
      "※※※Training loss  0.697 \t recon  0.619 \t embed  0.062 \t commit  0.062※※※\n",
      "※※※Valid loss  0.648 \t recon  0.593 \t embed  0.044 \t commit  0.044※※※\n",
      "Epoch 16\n",
      "Training step 0 loss  0.650 \t recon  0.602 \t embed  0.038 \t commit  0.038\n",
      "※※※Training loss  0.676 \t recon  0.606 \t embed  0.057 \t commit  0.057※※※\n",
      "※※※Valid loss  0.646 \t recon  0.570 \t embed  0.061 \t commit  0.061※※※\n",
      "Epoch 17\n",
      "Training step 0 loss  0.660 \t recon  0.604 \t embed  0.045 \t commit  0.045\n",
      "※※※Training loss  0.658 \t recon  0.597 \t embed  0.049 \t commit  0.049※※※\n",
      "※※※Valid loss  0.668 \t recon  0.570 \t embed  0.078 \t commit  0.078※※※\n",
      "Epoch 18\n",
      "Training step 0 loss  0.654 \t recon  0.591 \t embed  0.051 \t commit  0.051\n",
      "※※※Training loss  0.644 \t recon  0.591 \t embed  0.043 \t commit  0.043※※※\n",
      "※※※Valid loss  0.612 \t recon  0.559 \t embed  0.042 \t commit  0.042※※※\n",
      "Epoch 19\n",
      "Training step 0 loss  0.631 \t recon  0.579 \t embed  0.042 \t commit  0.042\n",
      "※※※Training loss  0.635 \t recon  0.584 \t embed  0.040 \t commit  0.040※※※\n",
      "※※※Valid loss  0.615 \t recon  0.552 \t embed  0.051 \t commit  0.051※※※\n",
      "Epoch 20\n",
      "Training step 0 loss  0.636 \t recon  0.588 \t embed  0.039 \t commit  0.039\n",
      "※※※Training loss  0.615 \t recon  0.581 \t embed  0.027 \t commit  0.027※※※\n",
      "※※※Valid loss  0.594 \t recon  0.549 \t embed  0.036 \t commit  0.036※※※\n",
      "Epoch 21\n",
      "Training step 0 loss  0.620 \t recon  0.579 \t embed  0.033 \t commit  0.033\n",
      "※※※Training loss  0.621 \t recon  0.575 \t embed  0.037 \t commit  0.037※※※\n",
      "※※※Valid loss  0.591 \t recon  0.544 \t embed  0.037 \t commit  0.037※※※\n",
      "Epoch 22\n",
      "Training step 0 loss  0.622 \t recon  0.585 \t embed  0.030 \t commit  0.030\n",
      "※※※Training loss  0.602 \t recon  0.571 \t embed  0.025 \t commit  0.025※※※\n",
      "※※※Valid loss  0.576 \t recon  0.539 \t embed  0.029 \t commit  0.029※※※\n",
      "Epoch 23\n",
      "Training step 0 loss  0.604 \t recon  0.577 \t embed  0.022 \t commit  0.022\n",
      "※※※Training loss  0.599 \t recon  0.568 \t embed  0.025 \t commit  0.025※※※\n",
      "※※※Valid loss  0.577 \t recon  0.541 \t embed  0.029 \t commit  0.029※※※\n",
      "Epoch 24\n",
      "Training step 0 loss  0.606 \t recon  0.585 \t embed  0.017 \t commit  0.017\n",
      "※※※Training loss  0.600 \t recon  0.575 \t embed  0.020 \t commit  0.020※※※\n",
      "※※※Valid loss  0.567 \t recon  0.548 \t embed  0.016 \t commit  0.016※※※\n",
      "Epoch 25\n",
      "Training step 0 loss  0.593 \t recon  0.572 \t embed  0.017 \t commit  0.017\n",
      "※※※Training loss  0.592 \t recon  0.574 \t embed  0.014 \t commit  0.014※※※\n",
      "※※※Valid loss  0.562 \t recon  0.544 \t embed  0.015 \t commit  0.015※※※\n",
      "Epoch 26\n",
      "Training step 0 loss  0.596 \t recon  0.575 \t embed  0.016 \t commit  0.016\n",
      "※※※Training loss  0.587 \t recon  0.571 \t embed  0.013 \t commit  0.013※※※\n",
      "※※※Valid loss  0.555 \t recon  0.542 \t embed  0.011 \t commit  0.011※※※\n",
      "Epoch 27\n",
      "Training step 0 loss  0.603 \t recon  0.590 \t embed  0.010 \t commit  0.010\n",
      "※※※Training loss  0.582 \t recon  0.567 \t embed  0.012 \t commit  0.012※※※\n",
      "※※※Valid loss  0.549 \t recon  0.535 \t embed  0.011 \t commit  0.011※※※\n",
      "Epoch 28\n",
      "Training step 0 loss  0.581 \t recon  0.561 \t embed  0.016 \t commit  0.016\n",
      "※※※Training loss  0.575 \t recon  0.559 \t embed  0.012 \t commit  0.012※※※\n",
      "※※※Valid loss  0.544 \t recon  0.529 \t embed  0.013 \t commit  0.013※※※\n",
      "Epoch 29\n",
      "Training step 0 loss  0.572 \t recon  0.555 \t embed  0.013 \t commit  0.013\n",
      "※※※Training loss  0.568 \t recon  0.552 \t embed  0.013 \t commit  0.013※※※\n",
      "※※※Valid loss  0.533 \t recon  0.519 \t embed  0.011 \t commit  0.011※※※\n",
      "Epoch 30\n",
      "Training step 0 loss  0.588 \t recon  0.564 \t embed  0.019 \t commit  0.019\n",
      "※※※Training loss  0.563 \t recon  0.548 \t embed  0.012 \t commit  0.012※※※\n",
      "※※※Valid loss  0.529 \t recon  0.515 \t embed  0.011 \t commit  0.011※※※\n",
      "Epoch 31\n",
      "Training step 0 loss  0.557 \t recon  0.542 \t embed  0.012 \t commit  0.012\n",
      "※※※Training loss  0.558 \t recon  0.543 \t embed  0.012 \t commit  0.012※※※\n",
      "※※※Valid loss  0.527 \t recon  0.513 \t embed  0.011 \t commit  0.011※※※\n",
      "Epoch 32\n",
      "Training step 0 loss  0.547 \t recon  0.531 \t embed  0.012 \t commit  0.012\n",
      "※※※Training loss  0.555 \t recon  0.540 \t embed  0.012 \t commit  0.012※※※\n",
      "※※※Valid loss  0.525 \t recon  0.511 \t embed  0.011 \t commit  0.011※※※\n",
      "Epoch 33\n",
      "Training step 0 loss  0.546 \t recon  0.528 \t embed  0.015 \t commit  0.015\n",
      "※※※Training loss  0.553 \t recon  0.539 \t embed  0.012 \t commit  0.012※※※\n",
      "※※※Valid loss  0.523 \t recon  0.508 \t embed  0.012 \t commit  0.012※※※\n",
      "Epoch 34\n",
      "Training step 0 loss  0.560 \t recon  0.545 \t embed  0.012 \t commit  0.012\n",
      "※※※Training loss  0.551 \t recon  0.536 \t embed  0.012 \t commit  0.012※※※\n",
      "※※※Valid loss  0.521 \t recon  0.506 \t embed  0.012 \t commit  0.012※※※\n",
      "Epoch 35\n",
      "Training step 0 loss  0.553 \t recon  0.538 \t embed  0.012 \t commit  0.012\n",
      "※※※Training loss  0.549 \t recon  0.534 \t embed  0.012 \t commit  0.012※※※\n",
      "※※※Valid loss  0.520 \t recon  0.506 \t embed  0.011 \t commit  0.011※※※\n",
      "Epoch 36\n",
      "Training step 0 loss  0.560 \t recon  0.538 \t embed  0.017 \t commit  0.017\n",
      "※※※Training loss  0.547 \t recon  0.532 \t embed  0.012 \t commit  0.012※※※\n",
      "※※※Valid loss  0.520 \t recon  0.505 \t embed  0.012 \t commit  0.012※※※\n",
      "Epoch 37\n",
      "Training step 0 loss  0.548 \t recon  0.533 \t embed  0.012 \t commit  0.012\n",
      "※※※Training loss  0.546 \t recon  0.531 \t embed  0.012 \t commit  0.012※※※\n",
      "※※※Valid loss  0.519 \t recon  0.504 \t embed  0.012 \t commit  0.012※※※\n",
      "Epoch 38\n",
      "Training step 0 loss  0.542 \t recon  0.527 \t embed  0.012 \t commit  0.012\n",
      "※※※Training loss  0.544 \t recon  0.528 \t embed  0.013 \t commit  0.013※※※\n",
      "※※※Valid loss  0.516 \t recon  0.500 \t embed  0.012 \t commit  0.012※※※\n",
      "Epoch 39\n",
      "Training step 0 loss  0.536 \t recon  0.519 \t embed  0.014 \t commit  0.014\n",
      "※※※Training loss  0.541 \t recon  0.525 \t embed  0.013 \t commit  0.013※※※\n",
      "※※※Valid loss  0.514 \t recon  0.500 \t embed  0.012 \t commit  0.012※※※\n",
      "Epoch 40\n",
      "Training step 0 loss  0.569 \t recon  0.549 \t embed  0.017 \t commit  0.017\n",
      "※※※Training loss  0.540 \t recon  0.524 \t embed  0.013 \t commit  0.013※※※\n",
      "※※※Valid loss  0.513 \t recon  0.498 \t embed  0.012 \t commit  0.012※※※\n",
      "Epoch 41\n",
      "Training step 0 loss  0.536 \t recon  0.519 \t embed  0.014 \t commit  0.014\n",
      "※※※Training loss  0.538 \t recon  0.521 \t embed  0.013 \t commit  0.013※※※\n",
      "※※※Valid loss  0.512 \t recon  0.496 \t embed  0.013 \t commit  0.013※※※\n",
      "Epoch 42\n",
      "Training step 0 loss  0.552 \t recon  0.534 \t embed  0.014 \t commit  0.014\n",
      "※※※Training loss  0.537 \t recon  0.519 \t embed  0.015 \t commit  0.015※※※\n",
      "※※※Valid loss  0.509 \t recon  0.493 \t embed  0.013 \t commit  0.013※※※\n",
      "Epoch 43\n",
      "Training step 0 loss  0.538 \t recon  0.519 \t embed  0.015 \t commit  0.015\n",
      "※※※Training loss  0.535 \t recon  0.517 \t embed  0.014 \t commit  0.014※※※\n",
      "※※※Valid loss  0.508 \t recon  0.491 \t embed  0.014 \t commit  0.014※※※\n",
      "Epoch 44\n",
      "Training step 0 loss  0.531 \t recon  0.511 \t embed  0.016 \t commit  0.016\n",
      "※※※Training loss  0.534 \t recon  0.516 \t embed  0.015 \t commit  0.015※※※\n",
      "※※※Valid loss  0.508 \t recon  0.491 \t embed  0.014 \t commit  0.014※※※\n",
      "Epoch 45\n",
      "Training step 0 loss  0.529 \t recon  0.511 \t embed  0.014 \t commit  0.014\n",
      "※※※Training loss  0.533 \t recon  0.514 \t embed  0.015 \t commit  0.015※※※\n",
      "※※※Valid loss  0.505 \t recon  0.487 \t embed  0.014 \t commit  0.014※※※\n",
      "Epoch 46\n",
      "Training step 0 loss  0.523 \t recon  0.504 \t embed  0.015 \t commit  0.015\n",
      "※※※Training loss  0.531 \t recon  0.511 \t embed  0.016 \t commit  0.016※※※\n",
      "※※※Valid loss  0.504 \t recon  0.485 \t embed  0.015 \t commit  0.015※※※\n",
      "Epoch 47\n",
      "Training step 0 loss  0.527 \t recon  0.508 \t embed  0.015 \t commit  0.015\n",
      "※※※Training loss  0.530 \t recon  0.508 \t embed  0.017 \t commit  0.017※※※\n",
      "※※※Valid loss  0.503 \t recon  0.483 \t embed  0.016 \t commit  0.016※※※\n",
      "Epoch 48\n",
      "Training step 0 loss  0.527 \t recon  0.506 \t embed  0.017 \t commit  0.017\n",
      "※※※Training loss  0.528 \t recon  0.507 \t embed  0.017 \t commit  0.017※※※\n",
      "※※※Valid loss  0.504 \t recon  0.485 \t embed  0.015 \t commit  0.015※※※\n",
      "Epoch 49\n",
      "Training step 0 loss  0.530 \t recon  0.511 \t embed  0.016 \t commit  0.016\n",
      "※※※Training loss  0.526 \t recon  0.504 \t embed  0.017 \t commit  0.017※※※\n",
      "※※※Valid loss  0.501 \t recon  0.480 \t embed  0.017 \t commit  0.017※※※\n",
      "Epoch 50\n",
      "Training step 0 loss  0.529 \t recon  0.508 \t embed  0.017 \t commit  0.017\n",
      "※※※Training loss  0.526 \t recon  0.502 \t embed  0.019 \t commit  0.019※※※\n",
      "※※※Valid loss  0.499 \t recon  0.476 \t embed  0.018 \t commit  0.018※※※\n",
      "Epoch 51\n",
      "Training step 0 loss  0.528 \t recon  0.503 \t embed  0.020 \t commit  0.020\n",
      "※※※Training loss  0.524 \t recon  0.499 \t embed  0.020 \t commit  0.020※※※\n",
      "※※※Valid loss  0.497 \t recon  0.474 \t embed  0.018 \t commit  0.018※※※\n",
      "Epoch 52\n",
      "Training step 0 loss  0.517 \t recon  0.494 \t embed  0.018 \t commit  0.018\n",
      "※※※Training loss  0.523 \t recon  0.498 \t embed  0.020 \t commit  0.020※※※\n",
      "※※※Valid loss  0.497 \t recon  0.473 \t embed  0.019 \t commit  0.019※※※\n",
      "Epoch 53\n",
      "Training step 0 loss  0.532 \t recon  0.504 \t embed  0.022 \t commit  0.022\n",
      "※※※Training loss  0.522 \t recon  0.495 \t embed  0.022 \t commit  0.022※※※\n",
      "※※※Valid loss  0.498 \t recon  0.473 \t embed  0.021 \t commit  0.021※※※\n",
      "Epoch 54\n",
      "Training step 0 loss  0.518 \t recon  0.491 \t embed  0.021 \t commit  0.021\n",
      "※※※Training loss  0.521 \t recon  0.492 \t embed  0.023 \t commit  0.023※※※\n",
      "※※※Valid loss  0.497 \t recon  0.469 \t embed  0.022 \t commit  0.022※※※\n",
      "Epoch 55\n",
      "Training step 0 loss  0.521 \t recon  0.490 \t embed  0.025 \t commit  0.025\n",
      "※※※Training loss  0.521 \t recon  0.491 \t embed  0.024 \t commit  0.024※※※\n",
      "※※※Valid loss  0.493 \t recon  0.465 \t embed  0.023 \t commit  0.023※※※\n",
      "Epoch 56\n",
      "Training step 0 loss  0.526 \t recon  0.493 \t embed  0.027 \t commit  0.027\n",
      "※※※Training loss  0.521 \t recon  0.488 \t embed  0.026 \t commit  0.026※※※\n",
      "※※※Valid loss  0.494 \t recon  0.463 \t embed  0.025 \t commit  0.025※※※\n",
      "Epoch 57\n",
      "Training step 0 loss  0.521 \t recon  0.487 \t embed  0.027 \t commit  0.027\n",
      "※※※Training loss  0.519 \t recon  0.485 \t embed  0.027 \t commit  0.027※※※\n",
      "※※※Valid loss  0.496 \t recon  0.464 \t embed  0.025 \t commit  0.025※※※\n",
      "Epoch 58\n",
      "Training step 0 loss  0.503 \t recon  0.472 \t embed  0.025 \t commit  0.025\n",
      "※※※Training loss  0.519 \t recon  0.484 \t embed  0.028 \t commit  0.028※※※\n",
      "※※※Valid loss  0.497 \t recon  0.463 \t embed  0.027 \t commit  0.027※※※\n",
      "Epoch 59\n",
      "Training step 0 loss  0.539 \t recon  0.499 \t embed  0.032 \t commit  0.032\n",
      "※※※Training loss  0.519 \t recon  0.482 \t embed  0.030 \t commit  0.030※※※\n",
      "※※※Valid loss  0.493 \t recon  0.458 \t embed  0.028 \t commit  0.028※※※\n",
      "Epoch 60\n",
      "Training step 0 loss  0.508 \t recon  0.475 \t embed  0.027 \t commit  0.027\n",
      "※※※Training loss  0.519 \t recon  0.481 \t embed  0.030 \t commit  0.030※※※\n",
      "※※※Valid loss  0.490 \t recon  0.455 \t embed  0.028 \t commit  0.028※※※\n",
      "Epoch 61\n",
      "Training step 0 loss  0.520 \t recon  0.480 \t embed  0.032 \t commit  0.032\n",
      "※※※Training loss  0.516 \t recon  0.477 \t embed  0.031 \t commit  0.031※※※\n",
      "※※※Valid loss  0.489 \t recon  0.452 \t embed  0.029 \t commit  0.029※※※\n",
      "Epoch 62\n",
      "Training step 0 loss  0.520 \t recon  0.482 \t embed  0.031 \t commit  0.031\n",
      "※※※Training loss  0.517 \t recon  0.476 \t embed  0.033 \t commit  0.033※※※\n",
      "※※※Valid loss  0.491 \t recon  0.450 \t embed  0.033 \t commit  0.033※※※\n",
      "Epoch 63\n",
      "Training step 0 loss  0.517 \t recon  0.477 \t embed  0.032 \t commit  0.032\n",
      "※※※Training loss  0.518 \t recon  0.473 \t embed  0.036 \t commit  0.036※※※\n",
      "※※※Valid loss  0.492 \t recon  0.451 \t embed  0.034 \t commit  0.034※※※\n",
      "Epoch 64\n",
      "Training step 0 loss  0.528 \t recon  0.480 \t embed  0.038 \t commit  0.038\n",
      "※※※Training loss  0.517 \t recon  0.472 \t embed  0.036 \t commit  0.036※※※\n",
      "※※※Valid loss  0.490 \t recon  0.447 \t embed  0.035 \t commit  0.035※※※\n",
      "Epoch 65\n",
      "Training step 0 loss  0.507 \t recon  0.461 \t embed  0.037 \t commit  0.037\n",
      "※※※Training loss  0.517 \t recon  0.469 \t embed  0.038 \t commit  0.038※※※\n",
      "※※※Valid loss  0.494 \t recon  0.446 \t embed  0.038 \t commit  0.038※※※\n",
      "Epoch 66\n",
      "Training step 0 loss  0.525 \t recon  0.472 \t embed  0.042 \t commit  0.042\n",
      "※※※Training loss  0.516 \t recon  0.467 \t embed  0.040 \t commit  0.040※※※\n",
      "※※※Valid loss  0.485 \t recon  0.438 \t embed  0.038 \t commit  0.038※※※\n",
      "Epoch 67\n",
      "Training step 0 loss  0.514 \t recon  0.465 \t embed  0.039 \t commit  0.039\n",
      "※※※Training loss  0.516 \t recon  0.464 \t embed  0.042 \t commit  0.042※※※\n",
      "※※※Valid loss  0.487 \t recon  0.436 \t embed  0.041 \t commit  0.041※※※\n",
      "Epoch 68\n",
      "Training step 0 loss  0.509 \t recon  0.456 \t embed  0.042 \t commit  0.042\n",
      "※※※Training loss  0.515 \t recon  0.461 \t embed  0.043 \t commit  0.043※※※\n",
      "※※※Valid loss  0.489 \t recon  0.436 \t embed  0.042 \t commit  0.042※※※\n",
      "Epoch 69\n",
      "Training step 0 loss  0.510 \t recon  0.457 \t embed  0.042 \t commit  0.042\n",
      "※※※Training loss  0.516 \t recon  0.459 \t embed  0.045 \t commit  0.045※※※\n",
      "※※※Valid loss  0.487 \t recon  0.433 \t embed  0.044 \t commit  0.044※※※\n",
      "Epoch 70\n",
      "Training step 0 loss  0.515 \t recon  0.458 \t embed  0.045 \t commit  0.045\n",
      "※※※Training loss  0.514 \t recon  0.456 \t embed  0.046 \t commit  0.046※※※\n",
      "※※※Valid loss  0.492 \t recon  0.435 \t embed  0.045 \t commit  0.045※※※\n",
      "Epoch 71\n",
      "Training step 0 loss  0.517 \t recon  0.458 \t embed  0.047 \t commit  0.047\n",
      "※※※Training loss  0.514 \t recon  0.454 \t embed  0.048 \t commit  0.048※※※\n",
      "※※※Valid loss  0.485 \t recon  0.424 \t embed  0.049 \t commit  0.049※※※\n",
      "Epoch 72\n",
      "Training step 0 loss  0.529 \t recon  0.464 \t embed  0.052 \t commit  0.052\n",
      "※※※Training loss  0.512 \t recon  0.450 \t embed  0.049 \t commit  0.049※※※\n",
      "※※※Valid loss  0.483 \t recon  0.421 \t embed  0.049 \t commit  0.049※※※\n",
      "Epoch 73\n",
      "Training step 0 loss  0.510 \t recon  0.447 \t embed  0.051 \t commit  0.051\n",
      "※※※Training loss  0.511 \t recon  0.449 \t embed  0.050 \t commit  0.050※※※\n",
      "※※※Valid loss  0.482 \t recon  0.419 \t embed  0.050 \t commit  0.050※※※\n",
      "Epoch 74\n",
      "Training step 0 loss  0.499 \t recon  0.437 \t embed  0.050 \t commit  0.050\n",
      "※※※Training loss  0.509 \t recon  0.446 \t embed  0.050 \t commit  0.050※※※\n",
      "※※※Valid loss  0.481 \t recon  0.418 \t embed  0.050 \t commit  0.050※※※\n",
      "Epoch 75\n",
      "Training step 0 loss  0.509 \t recon  0.446 \t embed  0.051 \t commit  0.051\n",
      "※※※Training loss  0.509 \t recon  0.443 \t embed  0.052 \t commit  0.052※※※\n",
      "※※※Valid loss  0.482 \t recon  0.415 \t embed  0.053 \t commit  0.053※※※\n",
      "Epoch 76\n",
      "Training step 0 loss  0.513 \t recon  0.444 \t embed  0.055 \t commit  0.055\n",
      "※※※Training loss  0.510 \t recon  0.443 \t embed  0.053 \t commit  0.053※※※\n",
      "※※※Valid loss  0.483 \t recon  0.418 \t embed  0.053 \t commit  0.053※※※\n",
      "Epoch 77\n",
      "Training step 0 loss  0.501 \t recon  0.434 \t embed  0.054 \t commit  0.054\n",
      "※※※Training loss  0.506 \t recon  0.441 \t embed  0.053 \t commit  0.053※※※\n",
      "※※※Valid loss  0.481 \t recon  0.415 \t embed  0.053 \t commit  0.053※※※\n",
      "Epoch 78\n",
      "Training step 0 loss  0.518 \t recon  0.448 \t embed  0.056 \t commit  0.056\n",
      "※※※Training loss  0.506 \t recon  0.438 \t embed  0.055 \t commit  0.055※※※\n",
      "※※※Valid loss  0.480 \t recon  0.413 \t embed  0.054 \t commit  0.054※※※\n",
      "Epoch 79\n",
      "Training step 0 loss  0.515 \t recon  0.443 \t embed  0.058 \t commit  0.058\n",
      "※※※Training loss  0.507 \t recon  0.436 \t embed  0.056 \t commit  0.056※※※\n",
      "※※※Valid loss  0.481 \t recon  0.410 \t embed  0.057 \t commit  0.057※※※\n",
      "Epoch 80\n",
      "Training step 0 loss  0.519 \t recon  0.448 \t embed  0.057 \t commit  0.057\n",
      "※※※Training loss  0.507 \t recon  0.435 \t embed  0.057 \t commit  0.057※※※\n",
      "※※※Valid loss  0.476 \t recon  0.407 \t embed  0.056 \t commit  0.056※※※\n",
      "Epoch 81\n",
      "Training step 0 loss  0.498 \t recon  0.429 \t embed  0.056 \t commit  0.056\n",
      "※※※Training loss  0.505 \t recon  0.432 \t embed  0.058 \t commit  0.058※※※\n",
      "※※※Valid loss  0.476 \t recon  0.403 \t embed  0.058 \t commit  0.058※※※\n",
      "Epoch 82\n",
      "Training step 0 loss  0.509 \t recon  0.436 \t embed  0.058 \t commit  0.058\n",
      "※※※Training loss  0.502 \t recon  0.429 \t embed  0.058 \t commit  0.058※※※\n",
      "※※※Valid loss  0.472 \t recon  0.400 \t embed  0.057 \t commit  0.057※※※\n",
      "Epoch 83\n",
      "Training step 0 loss  0.504 \t recon  0.433 \t embed  0.057 \t commit  0.057\n",
      "※※※Training loss  0.504 \t recon  0.429 \t embed  0.060 \t commit  0.060※※※\n",
      "※※※Valid loss  0.474 \t recon  0.398 \t embed  0.060 \t commit  0.060※※※\n",
      "Epoch 84\n",
      "Training step 0 loss  0.494 \t recon  0.420 \t embed  0.060 \t commit  0.060\n",
      "※※※Training loss  0.504 \t recon  0.426 \t embed  0.062 \t commit  0.062※※※\n",
      "※※※Valid loss  0.476 \t recon  0.399 \t embed  0.062 \t commit  0.062※※※\n",
      "Epoch 85\n",
      "Training step 0 loss  0.499 \t recon  0.417 \t embed  0.065 \t commit  0.065\n",
      "※※※Training loss  0.502 \t recon  0.424 \t embed  0.062 \t commit  0.062※※※\n",
      "※※※Valid loss  0.477 \t recon  0.397 \t embed  0.063 \t commit  0.063※※※\n",
      "Epoch 86\n",
      "Training step 0 loss  0.502 \t recon  0.425 \t embed  0.062 \t commit  0.062\n",
      "※※※Training loss  0.504 \t recon  0.424 \t embed  0.064 \t commit  0.064※※※\n",
      "※※※Valid loss  0.474 \t recon  0.395 \t embed  0.063 \t commit  0.063※※※\n",
      "Epoch 87\n",
      "Training step 0 loss  0.488 \t recon  0.409 \t embed  0.063 \t commit  0.063\n",
      "※※※Training loss  0.503 \t recon  0.421 \t embed  0.065 \t commit  0.065※※※\n",
      "※※※Valid loss  0.473 \t recon  0.392 \t embed  0.065 \t commit  0.065※※※\n",
      "Epoch 88\n",
      "Training step 0 loss  0.505 \t recon  0.426 \t embed  0.063 \t commit  0.063\n",
      "※※※Training loss  0.503 \t recon  0.421 \t embed  0.066 \t commit  0.066※※※\n",
      "※※※Valid loss  0.472 \t recon  0.390 \t embed  0.066 \t commit  0.066※※※\n",
      "Epoch 89\n",
      "Training step 0 loss  0.496 \t recon  0.415 \t embed  0.065 \t commit  0.065\n",
      "※※※Training loss  0.501 \t recon  0.418 \t embed  0.067 \t commit  0.067※※※\n",
      "※※※Valid loss  0.473 \t recon  0.389 \t embed  0.067 \t commit  0.067※※※\n",
      "Epoch 90\n",
      "Training step 0 loss  0.507 \t recon  0.423 \t embed  0.067 \t commit  0.067\n",
      "※※※Training loss  0.503 \t recon  0.416 \t embed  0.069 \t commit  0.069※※※\n",
      "※※※Valid loss  0.473 \t recon  0.387 \t embed  0.069 \t commit  0.069※※※\n",
      "Epoch 91\n",
      "Training step 0 loss  0.512 \t recon  0.420 \t embed  0.074 \t commit  0.074\n",
      "※※※Training loss  0.499 \t recon  0.414 \t embed  0.069 \t commit  0.069※※※\n",
      "※※※Valid loss  0.472 \t recon  0.386 \t embed  0.068 \t commit  0.068※※※\n",
      "Epoch 92\n",
      "Training step 0 loss  0.509 \t recon  0.424 \t embed  0.068 \t commit  0.068\n",
      "※※※Training loss  0.501 \t recon  0.413 \t embed  0.071 \t commit  0.071※※※\n",
      "※※※Valid loss  0.472 \t recon  0.383 \t embed  0.071 \t commit  0.071※※※\n",
      "Epoch 93\n",
      "Training step 0 loss  0.504 \t recon  0.412 \t embed  0.074 \t commit  0.074\n",
      "※※※Training loss  0.500 \t recon  0.410 \t embed  0.072 \t commit  0.072※※※\n",
      "※※※Valid loss  0.470 \t recon  0.383 \t embed  0.070 \t commit  0.070※※※\n",
      "Epoch 94\n",
      "Training step 0 loss  0.495 \t recon  0.412 \t embed  0.067 \t commit  0.067\n",
      "※※※Training loss  0.500 \t recon  0.409 \t embed  0.073 \t commit  0.073※※※\n",
      "※※※Valid loss  0.469 \t recon  0.379 \t embed  0.072 \t commit  0.072※※※\n",
      "Epoch 95\n",
      "Training step 0 loss  0.524 \t recon  0.429 \t embed  0.076 \t commit  0.076\n",
      "※※※Training loss  0.501 \t recon  0.409 \t embed  0.074 \t commit  0.074※※※\n",
      "※※※Valid loss  0.472 \t recon  0.382 \t embed  0.072 \t commit  0.072※※※\n",
      "Epoch 96\n",
      "Training step 0 loss  0.520 \t recon  0.423 \t embed  0.078 \t commit  0.078\n",
      "※※※Training loss  0.500 \t recon  0.407 \t embed  0.074 \t commit  0.074※※※\n",
      "※※※Valid loss  0.469 \t recon  0.377 \t embed  0.073 \t commit  0.073※※※\n",
      "Epoch 97\n",
      "Training step 0 loss  0.491 \t recon  0.401 \t embed  0.073 \t commit  0.073\n",
      "※※※Training loss  0.499 \t recon  0.405 \t embed  0.076 \t commit  0.076※※※\n",
      "※※※Valid loss  0.469 \t recon  0.377 \t embed  0.074 \t commit  0.074※※※\n",
      "Epoch 98\n",
      "Training step 0 loss  0.506 \t recon  0.406 \t embed  0.080 \t commit  0.080\n",
      "※※※Training loss  0.498 \t recon  0.403 \t embed  0.076 \t commit  0.076※※※\n",
      "※※※Valid loss  0.468 \t recon  0.374 \t embed  0.075 \t commit  0.075※※※\n",
      "Epoch 99\n",
      "Training step 0 loss  0.507 \t recon  0.407 \t embed  0.080 \t commit  0.080\n",
      "※※※Training loss  0.500 \t recon  0.403 \t embed  0.078 \t commit  0.078※※※\n",
      "※※※Valid loss  0.468 \t recon  0.372 \t embed  0.076 \t commit  0.076※※※\n"
     ]
    }
   ],
   "source": [
    "for epoch in range(BASE, BASE + EPOCHS):\n",
    "    text_hist.print(\"Epoch {}\".format(epoch))\n",
    "\n",
    "    model.train()\n",
    "    train_loss = 0.\n",
    "    train_cumulative_l_reconstruct = 0.\n",
    "    train_cumulative_l_embedding = 0.\n",
    "    train_cumulative_l_commitment = 0.\n",
    "    train_num = len(train_loader.dataset)    # train_loader\n",
    "    for idx, (x, x_lens, pt, sn) in enumerate(train_loader):\n",
    "        current_batch_size = x.shape[0]\n",
    "        # y_lens should be the same as x_lens\n",
    "        optimizer.zero_grad()\n",
    "        x_mask = generate_mask_from_lengths_mat(x_lens, device=device)\n",
    "        y = x\n",
    "        x = x.to(device)\n",
    "        y = y.to(device)\n",
    "\n",
    "        x_hat, attn_w, (ze, zq) = model(x, x_lens, x_mask)\n",
    "\n",
    "        l_reconstruct = masked_loss.get_loss(x_hat, y, x_mask)\n",
    "        l_embedding = masked_loss.get_loss(ze.detach(), zq, x_mask)\n",
    "        l_commitment = masked_loss.get_loss(ze, zq.detach(), x_mask)\n",
    "        loss = l_reconstruct + \\\n",
    "            l_w_embedding * l_embedding + l_w_commitment * l_commitment\n",
    "\n",
    "        loss.backward()\n",
    "        # torch.nn.utils.clip_grad_norm_(parameters=model.parameters(), max_norm=5, norm_type=2)\n",
    "        optimizer.step()\n",
    "\n",
    "        train_loss += loss.item() * current_batch_size\n",
    "        train_cumulative_l_reconstruct += l_reconstruct.item() * current_batch_size\n",
    "        train_cumulative_l_embedding += l_embedding.item() * current_batch_size\n",
    "        train_cumulative_l_commitment += l_commitment.item() * current_batch_size\n",
    "\n",
    "        if idx % 100 == 0:\n",
    "            text_hist.print(f\"\"\"Training step {idx} loss {loss: .3f} \\t recon {l_reconstruct: .3f} \\t embed {l_embedding: .3f} \\t commit {l_commitment: .3f}\"\"\")\n",
    "\n",
    "    train_losses.append(train_loss / train_num)\n",
    "    train_recon_losses.append(train_cumulative_l_reconstruct / train_num)\n",
    "    train_embedding_losses.append(train_cumulative_l_embedding / train_num)\n",
    "    train_commitment_losses.append(train_cumulative_l_commitment / train_num)\n",
    "\n",
    "    text_hist.print(f\"\"\"※※※Training loss {train_loss / train_num: .3f} \\t recon {train_cumulative_l_reconstruct / train_num: .3f} \\t embed {train_cumulative_l_embedding / train_num: .3f} \\t commit {train_cumulative_l_commitment / train_num: .3f}※※※\"\"\")\n",
    "\n",
    "    last_model_name = \"{}.pt\".format(epoch)\n",
    "    torch.save(model.state_dict(), os.path.join(model_save_dir, last_model_name))\n",
    "\n",
    "\n",
    "    model.eval()\n",
    "    valid_loss = 0.\n",
    "    valid_cumulative_l_reconstruct = 0.\n",
    "    valid_cumulative_l_embedding = 0.\n",
    "    valid_cumulative_l_commitment = 0.\n",
    "    valid_num = len(valid_loader.dataset)\n",
    "    for idx, (x, x_lens, pt, sn) in enumerate(valid_loader):\n",
    "        current_batch_size = x.shape[0]\n",
    "        x_mask = generate_mask_from_lengths_mat(x_lens, device=device)\n",
    "\n",
    "        y = x\n",
    "        x = x.to(device)\n",
    "        y = y.to(device)\n",
    "\n",
    "        x_hat, attn_w, (ze, zq) = model(x, x_lens, x_mask)\n",
    "\n",
    "        l_reconstruct = masked_loss.get_loss(x_hat, y, x_mask)\n",
    "        l_embedding = masked_loss.get_loss(ze.detach(), zq, x_mask)\n",
    "        l_commitment = masked_loss.get_loss(ze, zq.detach(), x_mask)\n",
    "        loss = l_reconstruct + \\\n",
    "            l_w_embedding * l_embedding + l_w_commitment * l_commitment\n",
    "\n",
    "        valid_loss += loss.item() * current_batch_size\n",
    "        valid_cumulative_l_reconstruct += l_reconstruct.item() * current_batch_size\n",
    "        valid_cumulative_l_embedding += l_embedding.item() * current_batch_size\n",
    "        valid_cumulative_l_commitment += l_commitment.item() * current_batch_size\n",
    "\n",
    "    text_hist.print(f\"\"\"※※※Valid loss {valid_loss / valid_num: .3f} \\t recon {valid_cumulative_l_reconstruct / valid_num: .3f} \\t embed {valid_cumulative_l_embedding / valid_num: .3f} \\t commit {valid_cumulative_l_commitment / valid_num: .3f}※※※\"\"\")\n",
    "    valid_losses.append(valid_loss / valid_num)\n",
    "    valid_recon_losses.append(valid_cumulative_l_reconstruct / valid_num)\n",
    "    valid_embedding_losses.append(valid_cumulative_l_embedding / valid_num)\n",
    "    valid_commitment_losses.append(valid_cumulative_l_commitment / valid_num)"
   ]
  },
  {
   "cell_type": "markdown",
   "metadata": {},
   "source": [
    "觉得Loss位数保留太多的可以自己设置.\n",
    "\n",
    "下面画出训练过程中训练集和验证集上的损失曲线:"
   ]
  },
  {
   "cell_type": "code",
   "execution_count": 18,
   "metadata": {},
   "outputs": [],
   "source": [
    "train_losses.save()\n",
    "train_recon_losses.save()\n",
    "train_embedding_losses.save()\n",
    "train_commitment_losses.save()\n",
    "valid_losses.save()\n",
    "valid_recon_losses.save()\n",
    "valid_embedding_losses.save()\n",
    "valid_commitment_losses.save()"
   ]
  },
  {
   "cell_type": "code",
   "execution_count": 19,
   "metadata": {},
   "outputs": [
    {
     "data": {
      "text/plain": [
       "Text(0.5, 1.0, 'Learning Curve Commitment Loss')"
      ]
     },
     "execution_count": 19,
     "metadata": {},
     "output_type": "execute_result"
    },
    {
     "data": {
      "image/png": "[encoded data removed]",
      "text/plain": [
       "<Figure size 1200x400 with 4 Axes>"
      ]
     },
     "metadata": {},
     "output_type": "display_data"
    }
   ],
   "source": [
    "start, end = 0, 100\n",
    "\n",
    "fig, ((ax1, ax2), (ax3, ax4)) = plt.subplots(2, 2, figsize=(12, 4))\n",
    "# Plot Loss on the left subplot\n",
    "ax1.plot(train_losses.get()[start:end], label='Train')\n",
    "ax1.plot(valid_losses.get()[start:end], label='Valid')\n",
    "ax1.set_title(\"Learning Curve Loss\")\n",
    "\n",
    "# Plot Recon Loss on the right subplot\n",
    "ax2.plot(train_recon_losses.get()[start:end], label='Train')\n",
    "ax2.plot(valid_recon_losses.get()[start:end], label='Valid')\n",
    "ax2.set_title(\"Learning Curve Recon Loss\")\n",
    "\n",
    "# Plot Embedding Loss on the left subplot\n",
    "ax3.plot(train_embedding_losses.get()[start:end], label='Train')\n",
    "ax3.plot(valid_embedding_losses.get()[start:end], label='Valid')\n",
    "ax3.set_title(\"Learning Curve Embedding Loss\")\n",
    "\n",
    "# Plot Commitment Loss on the right subplot\n",
    "ax4.plot(train_commitment_losses.get()[start:end], label='Train')\n",
    "ax4.plot(valid_commitment_losses.get()[start:end], label='Valid')\n",
    "ax4.set_title(\"Learning Curve Commitment Loss\")"
   ]
  },
  {
   "cell_type": "code",
   "execution_count": 20,
   "metadata": {},
   "outputs": [
    {
     "data": {
      "text/plain": [
       "(tensor(0.3938, device='cuda:0', grad_fn=<DivBackward0>),\n",
       " tensor(0.0744, device='cuda:0', grad_fn=<DivBackward0>),\n",
       " tensor(0.0744, device='cuda:0', grad_fn=<DivBackward0>))"
      ]
     },
     "execution_count": 20,
     "metadata": {},
     "output_type": "execute_result"
    }
   ],
   "source": [
    "l_reconstruct, l_embedding, l_commitment"
   ]
  },
  {
   "cell_type": "markdown",
   "metadata": {},
   "source": [
    "基本上Valid Loss稳定了(其实还有下降空间). 同时要保存在验证集上结果最好的模型, 因为等会还要用最好的模型做生成."
   ]
  },
  {
   "cell_type": "code",
   "execution_count": 21,
   "metadata": {},
   "outputs": [
    {
     "data": {
      "text/plain": [
       "'0225215615'"
      ]
     },
     "execution_count": 21,
     "metadata": {},
     "output_type": "execute_result"
    }
   ],
   "source": [
    "ts"
   ]
  },
  {
   "cell_type": "markdown",
   "metadata": {},
   "source": [
    "## Testing"
   ]
  },
  {
   "cell_type": "code",
   "execution_count": 27,
   "metadata": {},
   "outputs": [],
   "source": [
    "import torchaudio\n",
    "from tqdm import tqdm\n",
    "from torchaudio.models.decoder import ctc_decoder"
   ]
  },
  {
   "cell_type": "code",
   "execution_count": 28,
   "metadata": {},
   "outputs": [],
   "source": [
    "CTCDecoder = ctc_decoder(\n",
    "    lexicon=None, \n",
    "    tokens=mylist + [\"|\"], \n",
    "    blank_token=\"BLANK\"\n",
    ")"
   ]
  },
  {
   "cell_type": "code",
   "execution_count": 29,
   "metadata": {},
   "outputs": [],
   "source": [
    "test_ds = ThisDataset(rec_dir, \n",
    "                       test_guide_path, \n",
    "                       mapper=mymap, \n",
    "                       transform=mytrans, \n",
    "                       ground_truth_path=os.path.join(src_, \"test-phoneseq.gt\"))\n",
    "\n",
    "use_proportion = 0.1\n",
    "\n",
    "if READ or DATAREAD: \n",
    "    test_ds_indices = DS_Tools.read_indices(os.path.join(model_save_dir, \"test.use\"))\n",
    "    use_test_ds = torch.utils.data.Subset(test_ds,test_ds_indices)\n",
    "else: \n",
    "    # train data\n",
    "    use_len = int(use_proportion * len(test_ds))\n",
    "    remain_len = len(test_ds) - use_len\n",
    "    use_test_ds, remain_ds = random_split(test_ds, [use_len, remain_len])\n",
    "    DS_Tools.save_indices(os.path.join(model_save_dir, \"test.use\"), use_train_ds.indices)\n",
    "\n",
    "test_loader = DataLoader(use_test_ds, batch_size=BATCH_SIZE, shuffle=False, num_workers=LOADER_WORKER, collate_fn=ThisDataset.collate_fn_yNoPad)\n",
    "test_num = len(test_loader.dataset)"
   ]
  },
  {
   "cell_type": "code",
   "execution_count": 32,
   "metadata": {},
   "outputs": [
    {
     "name": "stderr",
     "output_type": "stream",
     "text": [
      "  0%|          | 0/20 [00:00<?, ?it/s]"
     ]
    },
    {
     "name": "stderr",
     "output_type": "stream",
     "text": [
      "100%|██████████| 20/20 [02:25<00:00,  7.29s/it]\n"
     ]
    }
   ],
   "source": [
    "model.eval()\n",
    "test_loss = 0.\n",
    "test_num = len(test_loader)\n",
    "preds = []\n",
    "reals = []\n",
    "attns = []\n",
    "for (x, x_lens, y, y_lens) in tqdm(test_loader):\n",
    "    x_mask = generate_mask_from_lengths_mat(x_lens, device=device)\n",
    "    \n",
    "    x = x.to(device)\n",
    "    # y = y.to(device)\n",
    "    # y = y.long()\n",
    "\n",
    "    x_hat, attn_w, (ze, zq) = model(x, x_lens, x_mask)\n",
    "\n",
    "    preds += CTCDecoder(x_hat.cpu())\n",
    "    reals += y\n",
    "    attns += [attn_w]"
   ]
  },
  {
   "cell_type": "code",
   "execution_count": 33,
   "metadata": {},
   "outputs": [],
   "source": [
    "total_per = 0\n",
    "total = 0\n",
    "for real, pred in zip(reals, preds): \n",
    "    total_per += torchaudio.functional.edit_distance(real, pred[0].tokens[1:-1]) / len(real)\n",
    "    total += 1"
   ]
  },
  {
   "cell_type": "code",
   "execution_count": 39,
   "metadata": {},
   "outputs": [
    {
     "name": "stdout",
     "output_type": "stream",
     "text": [
      "['L', 'EH', 'V', 'IH', 'S', 'AH', 'N']\n",
      "['AH', 'AH', 'S', 'AH', 'N']\n"
     ]
    }
   ],
   "source": [
    "i = torch.randint(0, total, size=(1, )).item()\n",
    "print([mymap.decode(x.item()) for x in reals[i]])\n",
    "print([mymap.decode(x.item()) for x in preds[i][0].tokens[1:-1]])"
   ]
  },
  {
   "cell_type": "code",
   "execution_count": 35,
   "metadata": {},
   "outputs": [
    {
     "data": {
      "text/plain": [
       "0.686890856220109"
      ]
     },
     "execution_count": 35,
     "metadata": {},
     "output_type": "execute_result"
    }
   ],
   "source": [
    "total_per / total"
   ]
  },
  {
   "cell_type": "code",
   "execution_count": 44,
   "metadata": {},
   "outputs": [],
   "source": [
    "import matplotlib.pyplot as plt\n",
    "import numpy as np"
   ]
  },
  {
   "cell_type": "code",
   "execution_count": 63,
   "metadata": {},
   "outputs": [
    {
     "name": "stdout",
     "output_type": "stream",
     "text": [
      "['D', 'EY', 'N', 'JH', 'ER', 'AH', 'S']\n",
      "['EY', 'T', 'AH', 'Z']\n"
     ]
    },
    {
     "data": {
      "image/png": "[encoded data removed]",
      "text/plain": [
       "<Figure size 800x600 with 2 Axes>"
      ]
     },
     "metadata": {},
     "output_type": "display_data"
    }
   ],
   "source": [
    "# Assuming 'attention_matrix' is a numpy array of shape (len, len)\n",
    "# For demonstration, let's create a sample attention matrix\n",
    "i = torch.randint(0, total, size=(1, )).item()\n",
    "attention_matrix = attns[i//512][i%512]\n",
    "print([mymap.decode(x.item()) for x in reals[i]])\n",
    "print([mymap.decode(x.item()) for x in preds[i][0].tokens[1:-1]])\n",
    "\n",
    "# Plotting the attention matrix\n",
    "plt.figure(figsize=(8, 6))\n",
    "plt.imshow(attention_matrix.detach().cpu().numpy(), cmap='viridis', interpolation='nearest')\n",
    "plt.colorbar()\n",
    "plt.title('Attention Matrix Visualization')\n",
    "plt.xlabel('Output Sequence Position')\n",
    "plt.ylabel('Input Sequence Position')\n",
    "plt.show()\n"
   ]
  }
 ],
 "metadata": {
  "kernelspec": {
   "display_name": "wavln",
   "language": "python",
   "name": "python3"
  },
  "language_info": {
   "codemirror_mode": {
    "name": "ipython",
    "version": 3
   },
   "file_extension": ".py",
   "mimetype": "text/x-python",
   "name": "python",
   "nbconvert_exporter": "python",
   "pygments_lexer": "ipython3",
   "version": "3.11.7"
  }
 },
 "nbformat": 4,
 "nbformat_minor": 2
}
