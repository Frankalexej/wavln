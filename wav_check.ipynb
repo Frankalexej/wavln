{
 "cells": [
  {
   "cell_type": "code",
   "execution_count": 5,
   "metadata": {},
   "outputs": [],
   "source": [
    "import torchaudio\n",
    "import os\n",
    "from multiprocessing import Pool, cpu_count\n",
    "import math\n",
    "\n",
    "\n",
    "from paths import *"
   ]
  },
  {
   "cell_type": "code",
   "execution_count": 6,
   "metadata": {},
   "outputs": [],
   "source": [
    "def collaboration_single_work(my_work_pool, my_det_dir): \n",
    "    print(\"Working from {} to {}\".format(my_work_pool[0], my_work_pool[-1]))\n",
    "    for rec_name in my_work_pool: \n",
    "        if torchaudio.info(os.path.join(my_det_dir, rec_name)).num_frames <= 0: \n",
    "            print(rec_name)\n",
    "    print(\"Work from {} to {} ends\".format(my_work_pool[0], my_work_pool[-1]))"
   ]
  },
  {
   "cell_type": "code",
   "execution_count": 7,
   "metadata": {},
   "outputs": [],
   "source": [
    "class MultiprocessManager: \n",
    "    def __init__(self, fun, my_det_dir, num_workers=4): \n",
    "        self.fun = fun\n",
    "        self.my_det_dir = my_det_dir\n",
    "        self.num_workers = num_workers\n",
    "    \n",
    "    def divide_work(self, work):\n",
    "        # determine the number of items per worker\n",
    "        items_per_worker = math.ceil(len(work) / self.num_workers)\n",
    "\n",
    "        # divide the work into chunks\n",
    "        work_chunks = [work[i:i + items_per_worker] for i in range(0, len(work), items_per_worker)]\n",
    "\n",
    "        return work_chunks\n",
    "    \n",
    "    def collaboration_work(self): \n",
    "        flat_tasks = os.listdir(self.my_det_dir)\n",
    "        task_pools = self.divide_work(flat_tasks)\n",
    "        print(self.num_workers)\n",
    "        p = Pool(self.num_workers)\n",
    "        for i in range(self.num_workers):\n",
    "            p.apply_async(self.fun, args=(task_pools[i], self.my_det_dir,))\n",
    "        print('Waiting for all subprocesses done...')\n",
    "        p.close()\n",
    "        p.join()\n",
    "        print('All subprocesses done.')"
   ]
  },
  {
   "cell_type": "code",
   "execution_count": 8,
   "metadata": {},
   "outputs": [],
   "source": [
    "# n_worker = cpu_count()\n",
    "# # random sampling\n",
    "# mpm = MultiprocessManager(collaboration_single_work, \n",
    "#                           word_seg_anno_path, \n",
    "#                           num_workers=n_worker)\n",
    "\n",
    "# mpm.collaboration_work()"
   ]
  },
  {
   "cell_type": "code",
   "execution_count": 12,
   "metadata": {},
   "outputs": [],
   "source": [
    "waveform, sample_rate = torchaudio.load(os.path.join(word_seg_anno_path, \"s1901b_00001431.wav\"))"
   ]
  },
  {
   "cell_type": "code",
   "execution_count": 14,
   "metadata": {},
   "outputs": [
    {
     "data": {
      "text/plain": [
       "torch.Size([1, 0])"
      ]
     },
     "execution_count": 14,
     "metadata": {},
     "output_type": "execute_result"
    }
   ],
   "source": [
    "waveform.shape"
   ]
  },
  {
   "cell_type": "code",
   "execution_count": 25,
   "metadata": {},
   "outputs": [],
   "source": [
    "import torch.nn as nn\n",
    "import torch\n",
    "import torchaudio\n",
    "import os\n",
    "\n",
    "from paths import *"
   ]
  },
  {
   "cell_type": "code",
   "execution_count": 26,
   "metadata": {},
   "outputs": [],
   "source": [
    "REC_SAMPLE_RATE = 16000\n",
    "N_FFT = 400"
   ]
  },
  {
   "cell_type": "code",
   "execution_count": 27,
   "metadata": {},
   "outputs": [],
   "source": [
    "class MyTransform(nn.Module): \n",
    "    def __init__(self, sample_rate, n_fft): \n",
    "        super().__init__()\n",
    "        self.transform = torchaudio.transforms.MelSpectrogram(sample_rate, n_fft=n_fft)\n",
    "    \n",
    "    def forward(self, waveform): \n",
    "        mel_spec = self.transform(waveform)\n",
    "        mel_spec = mel_spec.squeeze()\n",
    "        mel_spec = mel_spec.permute(1, 0) # (F, L) -> (L, F)\n",
    "        return mel_spec"
   ]
  },
  {
   "cell_type": "code",
   "execution_count": 28,
   "metadata": {},
   "outputs": [],
   "source": [
    "waveform, sample_rate = torchaudio.load(os.path.join(wav_path, \"s0101a.wav\"))"
   ]
  },
  {
   "cell_type": "code",
   "execution_count": 29,
   "metadata": {},
   "outputs": [
    {
     "name": "stderr",
     "output_type": "stream",
     "text": [
      "/home/ldlmdl/anaconda3/envs/wavln/lib/python3.11/site-packages/torchaudio/functional/functional.py:576: UserWarning: At least one mel filterbank has all zero values. The value for `n_mels` (128) may be set too high. Or, the value for `n_freqs` (201) may be set too low.\n",
      "  warnings.warn(\n"
     ]
    }
   ],
   "source": [
    "t = MyTransform(sample_rate=REC_SAMPLE_RATE, n_fft=N_FFT)"
   ]
  },
  {
   "cell_type": "code",
   "execution_count": 30,
   "metadata": {},
   "outputs": [],
   "source": [
    "mel = t(waveform)"
   ]
  },
  {
   "cell_type": "code",
   "execution_count": 31,
   "metadata": {},
   "outputs": [
    {
     "data": {
      "text/plain": [
       "torch.Size([1, 9969854])"
      ]
     },
     "execution_count": 31,
     "metadata": {},
     "output_type": "execute_result"
    }
   ],
   "source": [
    "waveform.shape"
   ]
  },
  {
   "cell_type": "code",
   "execution_count": 32,
   "metadata": {},
   "outputs": [
    {
     "data": {
      "text/plain": [
       "tensor([[0.0000e+00, 3.9037e-09, 2.1019e-08,  ..., 1.6256e-06, 7.4967e-06,\n",
       "         9.0985e-06],\n",
       "        [0.0000e+00, 2.2318e-08, 1.2016e-07,  ..., 2.3912e-06, 2.7047e-06,\n",
       "         3.8634e-06],\n",
       "        [0.0000e+00, 4.6319e-08, 2.4939e-07,  ..., 1.4409e-06, 2.3818e-06,\n",
       "         2.8968e-06],\n",
       "        ...,\n",
       "        [0.0000e+00, 8.7722e-05, 4.7232e-04,  ..., 5.4108e-06, 2.6126e-06,\n",
       "         1.5923e-06],\n",
       "        [0.0000e+00, 1.5115e-04, 8.1386e-04,  ..., 2.8069e-06, 5.8884e-06,\n",
       "         2.5544e-06],\n",
       "        [0.0000e+00, 1.1784e-03, 6.3448e-03,  ..., 1.2396e-06, 2.0887e-06,\n",
       "         2.2797e-06]])"
      ]
     },
     "execution_count": 32,
     "metadata": {},
     "output_type": "execute_result"
    }
   ],
   "source": [
    "mel"
   ]
  },
  {
   "cell_type": "code",
   "execution_count": 33,
   "metadata": {},
   "outputs": [],
   "source": [
    "torch.save(mel, \"save.pt\")"
   ]
  },
  {
   "cell_type": "code",
   "execution_count": 1,
   "metadata": {},
   "outputs": [],
   "source": [
    "import torchaudio\n",
    "import os\n",
    "from multiprocessing import Pool, cpu_count\n",
    "import math\n",
    "\n",
    "\n",
    "from paths import *\n",
    "from preproc_samplecut import open_and_cut"
   ]
  },
  {
   "cell_type": "code",
   "execution_count": 2,
   "metadata": {},
   "outputs": [],
   "source": [
    "my_wave_dir = wav_path\n",
    "rec_name = \"s0101a.wav\"\n",
    "my_anno_dir = words_extract_path\n",
    "rec_raw = \"s0101a\"\n",
    "my_params = None\n"
   ]
  },
  {
   "cell_type": "code",
   "execution_count": 3,
   "metadata": {},
   "outputs": [],
   "source": [
    "cut_recs, corr_df = open_and_cut(\n",
    "    os.path.join(my_wave_dir, rec_name), \n",
    "    os.path.join(my_anno_dir, rec_raw + \".csv\"),\n",
    "    my_params\n",
    ")"
   ]
  },
  {
   "cell_type": "code",
   "execution_count": 4,
   "metadata": {},
   "outputs": [
    {
     "data": {
      "text/html": [
       "<div>\n",
       "<style scoped>\n",
       "    .dataframe tbody tr th:only-of-type {\n",
       "        vertical-align: middle;\n",
       "    }\n",
       "\n",
       "    .dataframe tbody tr th {\n",
       "        vertical-align: top;\n",
       "    }\n",
       "\n",
       "    .dataframe thead th {\n",
       "        text-align: right;\n",
       "    }\n",
       "</style>\n",
       "<table border=\"1\" class=\"dataframe\">\n",
       "  <thead>\n",
       "    <tr style=\"text-align: right;\">\n",
       "      <th></th>\n",
       "      <th>rec</th>\n",
       "      <th>idx</th>\n",
       "      <th>start_time</th>\n",
       "      <th>end_time</th>\n",
       "      <th>token</th>\n",
       "      <th>duration</th>\n",
       "      <th>n_frames</th>\n",
       "    </tr>\n",
       "  </thead>\n",
       "  <tbody>\n",
       "    <tr>\n",
       "      <th>0</th>\n",
       "      <td>s0101a</td>\n",
       "      <td>00000000</td>\n",
       "      <td>32.216575</td>\n",
       "      <td>32.622045</td>\n",
       "      <td>okay</td>\n",
       "      <td>0.405470</td>\n",
       "      <td>6488</td>\n",
       "    </tr>\n",
       "    <tr>\n",
       "      <th>1</th>\n",
       "      <td>s0101a</td>\n",
       "      <td>00000001</td>\n",
       "      <td>44.617996</td>\n",
       "      <td>44.946848</td>\n",
       "      <td>um</td>\n",
       "      <td>0.328852</td>\n",
       "      <td>5262</td>\n",
       "    </tr>\n",
       "    <tr>\n",
       "      <th>2</th>\n",
       "      <td>s0101a</td>\n",
       "      <td>00000002</td>\n",
       "      <td>45.355708</td>\n",
       "      <td>45.501487</td>\n",
       "      <td>i'm</td>\n",
       "      <td>0.145779</td>\n",
       "      <td>2333</td>\n",
       "    </tr>\n",
       "    <tr>\n",
       "      <th>3</th>\n",
       "      <td>s0101a</td>\n",
       "      <td>00000003</td>\n",
       "      <td>47.307796</td>\n",
       "      <td>47.530873</td>\n",
       "      <td>lived</td>\n",
       "      <td>0.223077</td>\n",
       "      <td>3569</td>\n",
       "    </tr>\n",
       "    <tr>\n",
       "      <th>4</th>\n",
       "      <td>s0101a</td>\n",
       "      <td>00000004</td>\n",
       "      <td>47.530873</td>\n",
       "      <td>47.658958</td>\n",
       "      <td>in</td>\n",
       "      <td>0.128085</td>\n",
       "      <td>2049</td>\n",
       "    </tr>\n",
       "    <tr>\n",
       "      <th>...</th>\n",
       "      <td>...</td>\n",
       "      <td>...</td>\n",
       "      <td>...</td>\n",
       "      <td>...</td>\n",
       "      <td>...</td>\n",
       "      <td>...</td>\n",
       "      <td>...</td>\n",
       "    </tr>\n",
       "    <tr>\n",
       "      <th>993</th>\n",
       "      <td>s0101a</td>\n",
       "      <td>00000993</td>\n",
       "      <td>621.416324</td>\n",
       "      <td>621.606854</td>\n",
       "      <td>i</td>\n",
       "      <td>0.190530</td>\n",
       "      <td>3049</td>\n",
       "    </tr>\n",
       "    <tr>\n",
       "      <th>994</th>\n",
       "      <td>s0101a</td>\n",
       "      <td>00000994</td>\n",
       "      <td>621.606854</td>\n",
       "      <td>621.751955</td>\n",
       "      <td>i</td>\n",
       "      <td>0.145101</td>\n",
       "      <td>2321</td>\n",
       "    </tr>\n",
       "    <tr>\n",
       "      <th>995</th>\n",
       "      <td>s0101a</td>\n",
       "      <td>00000995</td>\n",
       "      <td>621.751955</td>\n",
       "      <td>622.197430</td>\n",
       "      <td>preferred</td>\n",
       "      <td>0.445475</td>\n",
       "      <td>7128</td>\n",
       "    </tr>\n",
       "    <tr>\n",
       "      <th>996</th>\n",
       "      <td>s0101a</td>\n",
       "      <td>00000996</td>\n",
       "      <td>622.197430</td>\n",
       "      <td>622.767665</td>\n",
       "      <td>family</td>\n",
       "      <td>0.570235</td>\n",
       "      <td>9124</td>\n",
       "    </tr>\n",
       "    <tr>\n",
       "      <th>997</th>\n",
       "      <td>s0101a</td>\n",
       "      <td>00000997</td>\n",
       "      <td>622.767665</td>\n",
       "      <td>623.087702</td>\n",
       "      <td>um</td>\n",
       "      <td>0.320037</td>\n",
       "      <td>5120</td>\n",
       "    </tr>\n",
       "  </tbody>\n",
       "</table>\n",
       "<p>998 rows × 7 columns</p>\n",
       "</div>"
      ],
      "text/plain": [
       "        rec       idx  start_time    end_time      token  duration  n_frames\n",
       "0    s0101a  00000000   32.216575   32.622045       okay  0.405470      6488\n",
       "1    s0101a  00000001   44.617996   44.946848         um  0.328852      5262\n",
       "2    s0101a  00000002   45.355708   45.501487        i'm  0.145779      2333\n",
       "3    s0101a  00000003   47.307796   47.530873      lived  0.223077      3569\n",
       "4    s0101a  00000004   47.530873   47.658958         in  0.128085      2049\n",
       "..      ...       ...         ...         ...        ...       ...       ...\n",
       "993  s0101a  00000993  621.416324  621.606854          i  0.190530      3049\n",
       "994  s0101a  00000994  621.606854  621.751955          i  0.145101      2321\n",
       "995  s0101a  00000995  621.751955  622.197430  preferred  0.445475      7128\n",
       "996  s0101a  00000996  622.197430  622.767665     family  0.570235      9124\n",
       "997  s0101a  00000997  622.767665  623.087702         um  0.320037      5120\n",
       "\n",
       "[998 rows x 7 columns]"
      ]
     },
     "execution_count": 4,
     "metadata": {},
     "output_type": "execute_result"
    }
   ],
   "source": [
    "corr_df"
   ]
  },
  {
   "cell_type": "code",
   "execution_count": null,
   "metadata": {},
   "outputs": [],
   "source": []
  }
 ],
 "metadata": {
  "kernelspec": {
   "display_name": "wavln",
   "language": "python",
   "name": "python3"
  },
  "language_info": {
   "codemirror_mode": {
    "name": "ipython",
    "version": 3
   },
   "file_extension": ".py",
   "mimetype": "text/x-python",
   "name": "python",
   "nbconvert_exporter": "python",
   "pygments_lexer": "ipython3",
   "version": "3.11.3"
  },
  "orig_nbformat": 4
 },
 "nbformat": 4,
 "nbformat_minor": 2
}
