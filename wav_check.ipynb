{
 "cells": [
  {
   "cell_type": "code",
   "execution_count": 15,
   "metadata": {},
   "outputs": [],
   "source": [
    "import torchaudio\n",
    "import os\n",
    "from multiprocessing import Pool, cpu_count\n",
    "import math\n",
    "\n",
    "\n",
    "from paths import *"
   ]
  },
  {
   "cell_type": "code",
   "execution_count": 12,
   "metadata": {},
   "outputs": [
    {
     "data": {
      "text/plain": [
       "16"
      ]
     },
     "execution_count": 12,
     "metadata": {},
     "output_type": "execute_result"
    }
   ],
   "source": [
    "torchaudio.info(os.path.join(wav_path, \"s0101a.wav\")).bits_per_sample"
   ]
  },
  {
   "cell_type": "code",
   "execution_count": 13,
   "metadata": {},
   "outputs": [],
   "source": [
    "for wav in os.listdir(wav_path): \n",
    "    if torchaudio.info(os.path.join(wav_path, wav)).bits_per_sample != 16: \n",
    "        print(wav)"
   ]
  },
  {
   "cell_type": "code",
   "execution_count": 16,
   "metadata": {},
   "outputs": [],
   "source": [
    "def collaboration_single_work(my_work_pool, my_det_dir): \n",
    "    print(\"Working from {} to {}\".format(my_work_pool[0], my_work_pool[-1]))\n",
    "    for rec_name in my_work_pool: \n",
    "        if torchaudio.info(os.path.join(my_det_dir, rec_name)).num_channels != 1: \n",
    "            print(wav)\n",
    "    print(\"Work from {} to {} ends\".format(my_work_pool[0], my_work_pool[-1]))"
   ]
  },
  {
   "cell_type": "code",
   "execution_count": 17,
   "metadata": {},
   "outputs": [],
   "source": [
    "class MultiprocessManager: \n",
    "    def __init__(self, fun, my_det_dir, num_workers=4): \n",
    "        self.fun = fun\n",
    "        self.my_det_dir = my_det_dir\n",
    "        self.num_workers = num_workers\n",
    "    \n",
    "    def divide_work(self, work):\n",
    "        # determine the number of items per worker\n",
    "        items_per_worker = math.ceil(len(work) / self.num_workers)\n",
    "\n",
    "        # divide the work into chunks\n",
    "        work_chunks = [work[i:i + items_per_worker] for i in range(0, len(work), items_per_worker)]\n",
    "\n",
    "        return work_chunks\n",
    "    \n",
    "    def collaboration_work(self): \n",
    "        flat_tasks = os.listdir(self.my_det_dir)\n",
    "        task_pools = self.divide_work(flat_tasks)\n",
    "        print(self.num_workers)\n",
    "        p = Pool(self.num_workers)\n",
    "        for i in range(self.num_workers):\n",
    "            p.apply_async(self.fun, args=(task_pools[i], self.my_det_dir,))\n",
    "        print('Waiting for all subprocesses done...')\n",
    "        p.close()\n",
    "        p.join()\n",
    "        print('All subprocesses done.')"
   ]
  },
  {
   "cell_type": "code",
   "execution_count": 19,
   "metadata": {},
   "outputs": [
    {
     "name": "stdout",
     "output_type": "stream",
     "text": [
      "32\n",
      "Working from s2201a_00005265.wav to s3504a_00002769.wav\n",
      "Working from s1804a_00000349.wav to s0802b_00004583.wav\n",
      "Working from s0902a_00000601.wav to s1803a_00003720.wav\n",
      "Working from s1903a_00003691.wav to s0302b_00003992.wav\n",
      "Working from s2903a_00005266.wav to s2901a_00003195.wav\n",
      "Working from s0902a_00005682.wav to s2401b_00005647.wav\n",
      "Working from s1003a_00000756.wav to s0902b_00000782.wav\n",
      "Working from s1302b_00000307.wav to s2802a_00003113.wav\n",
      "Waiting for all subprocesses done...\n",
      "Working from s3202b_00006973.wav to s1003a_00003467.wav\n",
      "Working from s3803a_00003896.wav to s1101a_00004425.wav\n",
      "Working from s0501a_00003348.wav to s0101a_00002667.wav\n",
      "Working from s2001a_00001772.wav to s1602a_00002705.wav\n",
      "Working from s2301b_00005249.wav to s2603a_00003034.wav\n",
      "Working from s0302b_00003562.wav to s1202a_00003046.wav\n",
      "Working from s0102b_00004778.wav to s0102b_00003632.wav\n",
      "Working from s4003b_00000424.wav to s2702b_00005323.wav\n",
      "Working from s1901a_00005127.wav to s1702a_00004682.wav\n",
      "Working from s2701b_00003767.wav to s2802b_00002091.wav\n",
      "Working from s2101b_00005211.wav to s3502b_00001684.wav\n",
      "Working from s0403a_00000427.wav to s2503b_00003659.wav\n",
      "Working from s3002b_00006128.wav to s3303b_00003663.wav\n",
      "Working from s1401b_00005269.wav to s3302a_00005226.wav\n",
      "Working from s1202b_00001197.wav to s3102a_00002309.wav\n",
      "Working from s2702b_00004483.wav to s1201a_00005108.wav\n",
      "Working from s3001a_00001020.wav to s0403a_00001643.wav\n",
      "Working from s0102a_00001830.wav to s2701a_00006370.wav\n",
      "Working from s2001a_00001886.wav to s0205a_00004294.wavWorking from s2501b_00003416.wav to s2802b_00005523.wavWorking from s1903a_00003886.wav to s3501a_00000378.wavWorking from s0205a_00000440.wav to s4002b_00001732.wavWorking from s1001a_00004312.wav to s0802b_00005651.wavWorking from s0302a_00003388.wav to s0803a_00004522.wav\n",
      "\n",
      "\n",
      "\n",
      "\n",
      "\n"
     ]
    },
    {
     "ename": "KeyboardInterrupt",
     "evalue": "",
     "output_type": "error",
     "traceback": [
      "\u001b[0;31m---------------------------------------------------------------------------\u001b[0m",
      "\u001b[0;31mKeyboardInterrupt\u001b[0m                         Traceback (most recent call last)",
      "Cell \u001b[0;32mIn[19], line 7\u001b[0m\n\u001b[1;32m      2\u001b[0m \u001b[39m# random sampling\u001b[39;00m\n\u001b[1;32m      3\u001b[0m mpm \u001b[39m=\u001b[39m MultiprocessManager(collaboration_single_work, \n\u001b[1;32m      4\u001b[0m                           phone_seg_random_path, \n\u001b[1;32m      5\u001b[0m                           num_workers\u001b[39m=\u001b[39mn_worker)\n\u001b[0;32m----> 7\u001b[0m mpm\u001b[39m.\u001b[39;49mcollaboration_work()\n",
      "Cell \u001b[0;32mIn[17], line 25\u001b[0m, in \u001b[0;36mMultiprocessManager.collaboration_work\u001b[0;34m(self)\u001b[0m\n\u001b[1;32m     23\u001b[0m \u001b[39mprint\u001b[39m(\u001b[39m'\u001b[39m\u001b[39mWaiting for all subprocesses done...\u001b[39m\u001b[39m'\u001b[39m)\n\u001b[1;32m     24\u001b[0m p\u001b[39m.\u001b[39mclose()\n\u001b[0;32m---> 25\u001b[0m p\u001b[39m.\u001b[39;49mjoin()\n\u001b[1;32m     26\u001b[0m \u001b[39mprint\u001b[39m(\u001b[39m'\u001b[39m\u001b[39mAll subprocesses done.\u001b[39m\u001b[39m'\u001b[39m)\n",
      "File \u001b[0;32m~/anaconda3/envs/wavln/lib/python3.11/multiprocessing/pool.py:665\u001b[0m, in \u001b[0;36mPool.join\u001b[0;34m(self)\u001b[0m\n\u001b[1;32m    663\u001b[0m \u001b[39melif\u001b[39;00m \u001b[39mself\u001b[39m\u001b[39m.\u001b[39m_state \u001b[39mnot\u001b[39;00m \u001b[39min\u001b[39;00m (CLOSE, TERMINATE):\n\u001b[1;32m    664\u001b[0m     \u001b[39mraise\u001b[39;00m \u001b[39mValueError\u001b[39;00m(\u001b[39m\"\u001b[39m\u001b[39mIn unknown state\u001b[39m\u001b[39m\"\u001b[39m)\n\u001b[0;32m--> 665\u001b[0m \u001b[39mself\u001b[39;49m\u001b[39m.\u001b[39;49m_worker_handler\u001b[39m.\u001b[39;49mjoin()\n\u001b[1;32m    666\u001b[0m \u001b[39mself\u001b[39m\u001b[39m.\u001b[39m_task_handler\u001b[39m.\u001b[39mjoin()\n\u001b[1;32m    667\u001b[0m \u001b[39mself\u001b[39m\u001b[39m.\u001b[39m_result_handler\u001b[39m.\u001b[39mjoin()\n",
      "File \u001b[0;32m~/anaconda3/envs/wavln/lib/python3.11/threading.py:1112\u001b[0m, in \u001b[0;36mThread.join\u001b[0;34m(self, timeout)\u001b[0m\n\u001b[1;32m   1109\u001b[0m     \u001b[39mraise\u001b[39;00m \u001b[39mRuntimeError\u001b[39;00m(\u001b[39m\"\u001b[39m\u001b[39mcannot join current thread\u001b[39m\u001b[39m\"\u001b[39m)\n\u001b[1;32m   1111\u001b[0m \u001b[39mif\u001b[39;00m timeout \u001b[39mis\u001b[39;00m \u001b[39mNone\u001b[39;00m:\n\u001b[0;32m-> 1112\u001b[0m     \u001b[39mself\u001b[39;49m\u001b[39m.\u001b[39;49m_wait_for_tstate_lock()\n\u001b[1;32m   1113\u001b[0m \u001b[39melse\u001b[39;00m:\n\u001b[1;32m   1114\u001b[0m     \u001b[39m# the behavior of a negative timeout isn't documented, but\u001b[39;00m\n\u001b[1;32m   1115\u001b[0m     \u001b[39m# historically .join(timeout=x) for x<0 has acted as if timeout=0\u001b[39;00m\n\u001b[1;32m   1116\u001b[0m     \u001b[39mself\u001b[39m\u001b[39m.\u001b[39m_wait_for_tstate_lock(timeout\u001b[39m=\u001b[39m\u001b[39mmax\u001b[39m(timeout, \u001b[39m0\u001b[39m))\n",
      "File \u001b[0;32m~/anaconda3/envs/wavln/lib/python3.11/threading.py:1132\u001b[0m, in \u001b[0;36mThread._wait_for_tstate_lock\u001b[0;34m(self, block, timeout)\u001b[0m\n\u001b[1;32m   1129\u001b[0m     \u001b[39mreturn\u001b[39;00m\n\u001b[1;32m   1131\u001b[0m \u001b[39mtry\u001b[39;00m:\n\u001b[0;32m-> 1132\u001b[0m     \u001b[39mif\u001b[39;00m lock\u001b[39m.\u001b[39;49macquire(block, timeout):\n\u001b[1;32m   1133\u001b[0m         lock\u001b[39m.\u001b[39mrelease()\n\u001b[1;32m   1134\u001b[0m         \u001b[39mself\u001b[39m\u001b[39m.\u001b[39m_stop()\n",
      "\u001b[0;31mKeyboardInterrupt\u001b[0m: "
     ]
    }
   ],
   "source": [
    "n_worker = cpu_count()\n",
    "# random sampling\n",
    "mpm = MultiprocessManager(collaboration_single_work, \n",
    "                          phone_seg_random_path, \n",
    "                          num_workers=n_worker)\n",
    "\n",
    "mpm.collaboration_work()"
   ]
  },
  {
   "cell_type": "code",
   "execution_count": 25,
   "metadata": {},
   "outputs": [],
   "source": [
    "import torch.nn as nn\n",
    "import torch\n",
    "import torchaudio\n",
    "import os\n",
    "\n",
    "from paths import *"
   ]
  },
  {
   "cell_type": "code",
   "execution_count": 26,
   "metadata": {},
   "outputs": [],
   "source": [
    "REC_SAMPLE_RATE = 16000\n",
    "N_FFT = 400"
   ]
  },
  {
   "cell_type": "code",
   "execution_count": 27,
   "metadata": {},
   "outputs": [],
   "source": [
    "class MyTransform(nn.Module): \n",
    "    def __init__(self, sample_rate, n_fft): \n",
    "        super().__init__()\n",
    "        self.transform = torchaudio.transforms.MelSpectrogram(sample_rate, n_fft=n_fft)\n",
    "    \n",
    "    def forward(self, waveform): \n",
    "        mel_spec = self.transform(waveform)\n",
    "        mel_spec = mel_spec.squeeze()\n",
    "        mel_spec = mel_spec.permute(1, 0) # (F, L) -> (L, F)\n",
    "        return mel_spec"
   ]
  },
  {
   "cell_type": "code",
   "execution_count": 28,
   "metadata": {},
   "outputs": [],
   "source": [
    "waveform, sample_rate = torchaudio.load(os.path.join(wav_path, \"s0101a.wav\"))"
   ]
  },
  {
   "cell_type": "code",
   "execution_count": 29,
   "metadata": {},
   "outputs": [
    {
     "name": "stderr",
     "output_type": "stream",
     "text": [
      "/home/ldlmdl/anaconda3/envs/wavln/lib/python3.11/site-packages/torchaudio/functional/functional.py:576: UserWarning: At least one mel filterbank has all zero values. The value for `n_mels` (128) may be set too high. Or, the value for `n_freqs` (201) may be set too low.\n",
      "  warnings.warn(\n"
     ]
    }
   ],
   "source": [
    "t = MyTransform(sample_rate=REC_SAMPLE_RATE, n_fft=N_FFT)"
   ]
  },
  {
   "cell_type": "code",
   "execution_count": 30,
   "metadata": {},
   "outputs": [],
   "source": [
    "mel = t(waveform)"
   ]
  },
  {
   "cell_type": "code",
   "execution_count": 31,
   "metadata": {},
   "outputs": [
    {
     "data": {
      "text/plain": [
       "torch.Size([1, 9969854])"
      ]
     },
     "execution_count": 31,
     "metadata": {},
     "output_type": "execute_result"
    }
   ],
   "source": [
    "waveform.shape"
   ]
  },
  {
   "cell_type": "code",
   "execution_count": 32,
   "metadata": {},
   "outputs": [
    {
     "data": {
      "text/plain": [
       "tensor([[0.0000e+00, 3.9037e-09, 2.1019e-08,  ..., 1.6256e-06, 7.4967e-06,\n",
       "         9.0985e-06],\n",
       "        [0.0000e+00, 2.2318e-08, 1.2016e-07,  ..., 2.3912e-06, 2.7047e-06,\n",
       "         3.8634e-06],\n",
       "        [0.0000e+00, 4.6319e-08, 2.4939e-07,  ..., 1.4409e-06, 2.3818e-06,\n",
       "         2.8968e-06],\n",
       "        ...,\n",
       "        [0.0000e+00, 8.7722e-05, 4.7232e-04,  ..., 5.4108e-06, 2.6126e-06,\n",
       "         1.5923e-06],\n",
       "        [0.0000e+00, 1.5115e-04, 8.1386e-04,  ..., 2.8069e-06, 5.8884e-06,\n",
       "         2.5544e-06],\n",
       "        [0.0000e+00, 1.1784e-03, 6.3448e-03,  ..., 1.2396e-06, 2.0887e-06,\n",
       "         2.2797e-06]])"
      ]
     },
     "execution_count": 32,
     "metadata": {},
     "output_type": "execute_result"
    }
   ],
   "source": [
    "mel"
   ]
  },
  {
   "cell_type": "code",
   "execution_count": 33,
   "metadata": {},
   "outputs": [],
   "source": [
    "torch.save(mel, \"save.pt\")"
   ]
  },
  {
   "cell_type": "code",
   "execution_count": null,
   "metadata": {},
   "outputs": [],
   "source": []
  }
 ],
 "metadata": {
  "kernelspec": {
   "display_name": "wavln",
   "language": "python",
   "name": "python3"
  },
  "language_info": {
   "codemirror_mode": {
    "name": "ipython",
    "version": 3
   },
   "file_extension": ".py",
   "mimetype": "text/x-python",
   "name": "python",
   "nbconvert_exporter": "python",
   "pygments_lexer": "ipython3",
   "version": "3.11.3"
  },
  "orig_nbformat": 4
 },
 "nbformat": 4,
 "nbformat_minor": 2
}
